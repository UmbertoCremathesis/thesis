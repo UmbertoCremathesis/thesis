{
 "cells": [
  {
   "cell_type": "markdown",
   "id": "c550e8a2-780f-467d-a4fe-32f3133d807f",
   "metadata": {},
   "source": [
    "# Caricamento del dataset Pen\n",
    "\n",
    "\n",
    "Il task \"pen\" richiede a una mano robotica (Adroit Hand) di manipolare una penna per portarla in una certa orientazione nello spazio. Il seguente notebook si propone di osservare il comportamento quando viene tolta la possibilità alla mano di muovere le dita di medio, anulare e mignolo e anche bloccare le osservazioni su tali dita.\n",
    "\n",
    "Se si volesse far sì che le dita non compaiano affatto nel simulatore, sarebbe necessario lavorare sui file xml di Adroit."
   ]
  },
  {
   "cell_type": "code",
   "execution_count": 1,
   "id": "4309bcb7-31a4-46cb-a57b-3986af9da132",
   "metadata": {},
   "outputs": [],
   "source": [
    "import minari\n",
    "import gymnasium as gym\n",
    "from gymnasium.wrappers import TransformAction, TransformObservation\n",
    "import time\n",
    "\n",
    "# Carica il dataset\n",
    "dataset = minari.load_dataset(\"D4RL/pen/expert-v2\")\n",
    "\n",
    "# Recupera e memorizza tutti gli episodi in una lista\n",
    "episodes = list(dataset.iterate_episodes())"
   ]
  },
  {
   "cell_type": "code",
   "execution_count": 2,
   "id": "ae62d467-f92c-4969-9864-762680509441",
   "metadata": {},
   "outputs": [],
   "source": [
    "# actions:\n",
    "# ┌────────────┬──────────────┐\n",
    "# │ Parte      │ Indici       │\n",
    "# ├────────────┼──────────────┤\n",
    "# │ Polso      │ 0–1          │\n",
    "# │ Indice     │ 2–5          │\n",
    "# │ Medio      │ 6–9          │\n",
    "# │ Anulare    │ 10–13        │\n",
    "# │ Mignolo    │ 14–18        │\n",
    "# │ Pollice    │ 19–23        │\n",
    "# └────────────┴──────────────┘\n",
    "\n",
    "# observations:\n",
    "# ┌──────────────────────────────┬──────────────┐\n",
    "# │ Parte                        │ Indici       │\n",
    "# ├──────────────────────────────┼──────────────┤\n",
    "# │ Polso                        │ 0–1          │\n",
    "# │ Indice                       │ 2–5          │\n",
    "# │ Medio                        │ 6–9          │\n",
    "# │ Anulare                      │ 10–13        │\n",
    "# │ Mignolo                      │ 14–18        │\n",
    "# │ Pollice                      │ 19–23        │\n",
    "# │ Posizione penna (x, y, z)    │ 24–26        │\n",
    "# │ Velocità penna (lin. + ang.) │ 27–32        │\n",
    "# │ Rotazione penna (relativa)   │ 33–35        │\n",
    "# │ Rotazione target (relativa)  │ 36–38        │\n",
    "# │ Distanza penna-target (lin.) │ 39–41        │\n",
    "# │ Distanza penna-target (rot.) │ 42–44        │\n",
    "# └──────────────────────────────┴──────────────┘\n",
    "\n",
    "\n",
    "def transform_action(action):\n",
    "    action = action.copy()\n",
    "    action[6:18] = 0\n",
    "    return action\n",
    "\n",
    "def transform_observation(observation):\n",
    "    observation"
   ]
  },
  {
   "cell_type": "code",
   "execution_count": 3,
   "id": "05689b34-a44d-4b64-9c4d-4198a259a4f6",
   "metadata": {},
   "outputs": [],
   "source": [
    "\n",
    "# Crea l'ambiente con render e seed fisso\n",
    "env = dataset.recover_environment(render_mode=\"human\", camera_id=4)\n",
    "env = TransformAction(env, transform_action, env.action_space)\n",
    "env = TransformObservation(env, transform_observation, env.observation_space)\n",
    "\n",
    "#print(env.unwrapped.model.opt.gravity[:])\n"
   ]
  },
  {
   "cell_type": "code",
   "execution_count": 4,
   "id": "e3625377-8cc5-4025-8ede-dd57b5fbf8a4",
   "metadata": {},
   "outputs": [
    {
     "name": "stderr",
     "output_type": "stream",
     "text": [
      "2025-04-10 18:02:49.367 python[62890:984943] +[IMKClient subclass]: chose IMKClient_Modern\n",
      "2025-04-10 18:02:49.367 python[62890:984943] +[IMKInputSession subclass]: chose IMKInputSession_Modern\n"
     ]
    },
    {
     "name": "stdout",
     "output_type": "stream",
     "text": [
      "Total reward: 18.178865544942582\n"
     ]
    }
   ],
   "source": [
    "# Seleziona sempre lo stesso episodio\n",
    "episode = episodes[22]\n",
    "\n",
    "env.reset(seed=150)\n",
    "\n",
    "total_reward = 0\n",
    "for action in episode.actions:\n",
    "    _, reward, _, _, _ = env.step(action)\n",
    "    time.sleep(0.01)\n",
    "    total_reward += reward\n",
    "\n",
    "print(f\"Total reward: {total_reward}\")\n",
    "env.close()"
   ]
  },
  {
   "cell_type": "code",
   "execution_count": null,
   "id": "f4318dca-ce1a-4e1e-b726-ae8fe9d87663",
   "metadata": {},
   "outputs": [],
   "source": []
  }
 ],
 "metadata": {
  "kernelspec": {
   "display_name": "Python (thesis-env)",
   "language": "python",
   "name": "thesis-env"
  },
  "language_info": {
   "codemirror_mode": {
    "name": "ipython",
    "version": 3
   },
   "file_extension": ".py",
   "mimetype": "text/x-python",
   "name": "python",
   "nbconvert_exporter": "python",
   "pygments_lexer": "ipython3",
   "version": "3.10.16"
  }
 },
 "nbformat": 4,
 "nbformat_minor": 5
}

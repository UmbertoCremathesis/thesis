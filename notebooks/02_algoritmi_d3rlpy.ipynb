{
 "cells": [
  {
   "cell_type": "markdown",
   "id": "92017d89-0c42-440d-90a0-12a2b97c51b7",
   "metadata": {},
   "source": [
    "# Introduzione\n",
    "\n",
    "Obiettivo di questo notebook: testare il training degli algoritmi Implicit Q-Learning, Conservative Q-Learning, Behavior Cloning, TD3 con Behavior Cloning sull dataset `D4RL/pen/expert-v2`.\n",
    "\n",
    "Il task \"pen\" richiede a una mano robotica (Adroit Hand) di manipolare una penna per portarla in una certa posizione nello spazio."
   ]
  },
  {
   "cell_type": "markdown",
   "id": "c550e8a2-780f-467d-a4fe-32f3133d807f",
   "metadata": {},
   "source": [
    "# Caricamento del dataset"
   ]
  },
  {
   "cell_type": "code",
   "execution_count": 42,
   "id": "21ddc05d-f16b-45bd-bf5a-75acd3370550",
   "metadata": {},
   "outputs": [],
   "source": [
    "import minari\n",
    "import time\n",
    "import numpy as np\n",
    "from d3rlpy.algos import IQLConfig, CQLConfig, BCConfig, TD3PlusBCConfig\n",
    "from d3rlpy.datasets import MDPDataset\n",
    "from d3rlpy.constants import ActionSpace\n",
    "from d3rlpy.metrics import EnvironmentEvaluator"
   ]
  },
  {
   "cell_type": "code",
   "execution_count": 2,
   "id": "5fcffad0-33f7-4cc2-8cf4-5b302434725c",
   "metadata": {},
   "outputs": [],
   "source": [
    "dataset = minari.load_dataset(\"D4RL/pen/expert-v2\")"
   ]
  },
  {
   "cell_type": "code",
   "execution_count": 3,
   "id": "27c7a549-fa6d-4f18-9e92-b1a36b4bae22",
   "metadata": {},
   "outputs": [
    {
     "name": "stdout",
     "output_type": "stream",
     "text": [
      "Episodi totali: 4958\n",
      "Spazio osservazioni: Box(-inf, inf, (45,), float64)\n",
      "Spazio azioni: Box(-1.0, 1.0, (24,), float32)\n"
     ]
    }
   ],
   "source": [
    "print(\"Episodi totali:\", dataset.total_episodes)\n",
    "print(\"Spazio osservazioni:\", dataset.observation_space)\n",
    "print(\"Spazio azioni:\", dataset.action_space)"
   ]
  },
  {
   "cell_type": "code",
   "execution_count": 4,
   "id": "c4abfdaa-7b5b-4935-8e6a-9f34c84b31f3",
   "metadata": {},
   "outputs": [
    {
     "name": "stdout",
     "output_type": "stream",
     "text": [
      "EpisodeData(id=0, total_steps=100, observations=ndarray of shape (101, 45) and dtype float64, actions=ndarray of shape (100, 24) and dtype float32, rewards=ndarray of 100 floats, terminations=ndarray of 100 bools, truncations=ndarray of 100 bools, infos=dict with the following keys: ['success'])\n"
     ]
    }
   ],
   "source": [
    "episode = next(dataset.iterate_episodes())\n",
    "print(episode)\n",
    "\n",
    "#print(f\"Osservazioni: \\n{episode.observations[0]}\")\n",
    "#print(f\"Actions: \\n{episode.actions[0]}\")\n",
    "#print(f\"Rewards: \\n{episode.rewards[0]}\")\n",
    "#print(f\"Terminations: \\n{episode.terminations[0]}\")"
   ]
  },
  {
   "cell_type": "markdown",
   "id": "0972fc83-ff5e-4832-b653-4b1eb1d50710",
   "metadata": {},
   "source": [
    "The task to be completed consists on repositioning the blue pen to match the orientation of the green target. The base of the hand is fixed. The target is also randomized to cover all configurations. The task will be considered successful when the orientations match within tolerance"
   ]
  },
  {
   "cell_type": "markdown",
   "id": "d3e55371-306a-4a54-bcf9-8adb06914207",
   "metadata": {},
   "source": [
    "# Preparazione dataset\n",
    "\n",
    "d3rlpy si aspetta che il dataset sia composto da transizioni, in cui ogni elemento contiene uno stato, un’azione, una ricompensa, lo stato successivo e un flag terminale, tutti allineati in modo che lo stato e l’azione alla posizione i corrispondano alla transizione verso lo stato alla posizione i+1. A tal fine, la libreria mette a disposizione la classe MDPDataset, che consente di creare facilmente un oggetto dataset nel formato richiesto. All'interno del dataset non c'è la distinzione in episodi, tutti gli step sono uniti in un unico array."
   ]
  },
  {
   "cell_type": "code",
   "execution_count": 5,
   "id": "e5d238d2-572c-4f73-858b-90aa9f9f5c9c",
   "metadata": {},
   "outputs": [
    {
     "name": "stdout",
     "output_type": "stream",
     "text": [
      "(499206, 45)\n",
      "(499206, 24)\n",
      "(499206,)\n",
      "(499206,)\n",
      "\u001b[2m2025-04-07 09:34.43\u001b[0m [\u001b[32m\u001b[1minfo     \u001b[0m] \u001b[1mSignatures have been automatically determined.\u001b[0m \u001b[36maction_signature\u001b[0m=\u001b[35mSignature(dtype=[dtype('float32')], shape=[(24,)])\u001b[0m \u001b[36mobservation_signature\u001b[0m=\u001b[35mSignature(dtype=[dtype('float64')], shape=[(45,)])\u001b[0m \u001b[36mreward_signature\u001b[0m=\u001b[35mSignature(dtype=[dtype('float64')], shape=[(1,)])\u001b[0m\n",
      "\u001b[2m2025-04-07 09:34.43\u001b[0m [\u001b[32m\u001b[1minfo     \u001b[0m] \u001b[1mAction size has been automatically determined.\u001b[0m \u001b[36maction_size\u001b[0m=\u001b[35m24\u001b[0m\n"
     ]
    }
   ],
   "source": [
    "observations = []\n",
    "actions = []\n",
    "rewards = []\n",
    "terminals = []\n",
    "\n",
    "for episode in dataset.iterate_episodes():\n",
    "    # si rimuove l'ultimo elemento, in quanto non ha una successiva azione associata\n",
    "    obs = episode.observations[:-1]\n",
    "    actions_ep = episode.actions\n",
    "    rewards_ep = episode.rewards\n",
    "    dones = np.array(episode.terminations) | np.array(episode.truncations)\n",
    "\n",
    "    observations.append(obs)\n",
    "    actions.append(actions_ep)\n",
    "    rewards.append(rewards_ep)\n",
    "    terminals.append(dones)\n",
    "\n",
    "# ora observations è un array di 4958 array (episodi) di 100 array circa (step) di array (osservazioni). stesso discorso per gli altri\n",
    "\n",
    "# si uniscono gli array in modo da avere, per ogni step del dataset osservazioni, azione, reward, terminali\n",
    "observations = np.concatenate(observations)\n",
    "actions = np.concatenate(actions)\n",
    "rewards = np.concatenate(rewards)\n",
    "terminals = np.concatenate(terminals)\n",
    "\n",
    "# ora observations è un array di 499206 (step in tutto il dataset) di array (osservazioni) . stesso discorso per gli altri\n",
    "print(observations.shape)\n",
    "print(actions.shape)\n",
    "print(rewards.shape)\n",
    "print(terminals.shape)\n",
    "\n",
    "d3_dataset = MDPDataset(observations, actions, rewards, terminals, action_space = ActionSpace.CONTINUOUS)"
   ]
  },
  {
   "cell_type": "markdown",
   "id": "d03b3639-9799-4972-8a25-8fcf792fd28b",
   "metadata": {},
   "source": [
    "# Implicit Q-Learning"
   ]
  },
  {
   "cell_type": "code",
   "execution_count": 6,
   "id": "925d5d7e-4176-4c4d-aa0a-696f13de7346",
   "metadata": {},
   "outputs": [],
   "source": [
    "iql = IQLConfig().create(device=\"cpu\")"
   ]
  },
  {
   "cell_type": "code",
   "execution_count": 7,
   "id": "804f3214-7536-4fae-9d87-db0175af77bb",
   "metadata": {},
   "outputs": [],
   "source": [
    "iql.build_with_dataset(d3_dataset)"
   ]
  },
  {
   "cell_type": "code",
   "execution_count": 9,
   "id": "3dab968c-37cb-4722-855f-e807f6f5a8f4",
   "metadata": {
    "collapsed": true,
    "jupyter": {
     "outputs_hidden": true
    }
   },
   "outputs": [
    {
     "name": "stdout",
     "output_type": "stream",
     "text": [
      "\u001b[2m2025-04-07 09:35.04\u001b[0m [\u001b[32m\u001b[1minfo     \u001b[0m] \u001b[1mdataset info                  \u001b[0m \u001b[36mdataset_info\u001b[0m=\u001b[35mDatasetInfo(observation_signature=Signature(dtype=[dtype('float64')], shape=[(45,)]), action_signature=Signature(dtype=[dtype('float32')], shape=[(24,)]), reward_signature=Signature(dtype=[dtype('float64')], shape=[(1,)]), action_space=<ActionSpace.CONTINUOUS: 1>, action_size=24)\u001b[0m\n",
      "\u001b[2m2025-04-07 09:35.04\u001b[0m [\u001b[33m\u001b[1mwarning  \u001b[0m] \u001b[1mSkip building models since they're already built.\u001b[0m\n",
      "\u001b[2m2025-04-07 09:35.04\u001b[0m [\u001b[32m\u001b[1minfo     \u001b[0m] \u001b[1mDirectory is created at d3rlpy_logs/IQL_20250407093504\u001b[0m\n",
      "\u001b[2m2025-04-07 09:35.04\u001b[0m [\u001b[32m\u001b[1minfo     \u001b[0m] \u001b[1mParameters                    \u001b[0m \u001b[36mparams\u001b[0m=\u001b[35m{'observation_shape': [45], 'action_size': 24, 'config': {'type': 'iql', 'params': {'batch_size': 256, 'gamma': 0.99, 'observation_scaler': {'type': 'none', 'params': {}}, 'action_scaler': {'type': 'none', 'params': {}}, 'reward_scaler': {'type': 'none', 'params': {}}, 'compile_graph': False, 'actor_learning_rate': 0.0003, 'critic_learning_rate': 0.0003, 'actor_optim_factory': {'type': 'adam', 'params': {'clip_grad_norm': None, 'lr_scheduler_factory': {'type': 'none', 'params': {}}, 'betas': [0.9, 0.999], 'eps': 1e-08, 'weight_decay': 0, 'amsgrad': False}}, 'critic_optim_factory': {'type': 'adam', 'params': {'clip_grad_norm': None, 'lr_scheduler_factory': {'type': 'none', 'params': {}}, 'betas': [0.9, 0.999], 'eps': 1e-08, 'weight_decay': 0, 'amsgrad': False}}, 'actor_encoder_factory': {'type': 'default', 'params': {'activation': 'relu', 'use_batch_norm': False, 'dropout_rate': None}}, 'critic_encoder_factory': {'type': 'default', 'params': {'activation': 'relu', 'use_batch_norm': False, 'dropout_rate': None}}, 'value_encoder_factory': {'type': 'default', 'params': {'activation': 'relu', 'use_batch_norm': False, 'dropout_rate': None}}, 'tau': 0.005, 'n_critics': 2, 'expectile': 0.7, 'weight_temp': 3.0, 'max_weight': 100.0}}}\u001b[0m\n"
     ]
    },
    {
     "data": {
      "application/vnd.jupyter.widget-view+json": {
       "model_id": "b8ad955c228643adb8075e72e74dca24",
       "version_major": 2,
       "version_minor": 0
      },
      "text/plain": [
       "Epoch 1/10:   0%|          | 0/1000 [00:00<?, ?it/s]"
      ]
     },
     "metadata": {},
     "output_type": "display_data"
    },
    {
     "name": "stdout",
     "output_type": "stream",
     "text": [
      "\u001b[2m2025-04-07 09:35.10\u001b[0m [\u001b[32m\u001b[1minfo     \u001b[0m] \u001b[1mIQL_20250407093504: epoch=1 step=1000\u001b[0m \u001b[36mepoch\u001b[0m=\u001b[35m1\u001b[0m \u001b[36mmetrics\u001b[0m=\u001b[35m{'time_sample_batch': 0.0015404837131500243, 'time_algorithm_update': 0.004327301740646362, 'critic_loss': 2675.132789794922, 'q_loss': 2659.8955614318847, 'v_loss': 15.23722476863861, 'actor_loss': 58.79665441417694, 'time_step': 0.005905513525009155, 'env': 2895.1029235642613}\u001b[0m \u001b[36mstep\u001b[0m=\u001b[35m1000\u001b[0m\n",
      "\u001b[2m2025-04-07 09:35.10\u001b[0m [\u001b[32m\u001b[1minfo     \u001b[0m] \u001b[1mModel parameters are saved to d3rlpy_logs/IQL_20250407093504/model_1000.d3\u001b[0m\n"
     ]
    },
    {
     "data": {
      "application/vnd.jupyter.widget-view+json": {
       "model_id": "9629527408f541c398f8ff7e6a622a71",
       "version_major": 2,
       "version_minor": 0
      },
      "text/plain": [
       "Epoch 2/10:   0%|          | 0/1000 [00:00<?, ?it/s]"
      ]
     },
     "metadata": {},
     "output_type": "display_data"
    },
    {
     "name": "stdout",
     "output_type": "stream",
     "text": [
      "\u001b[2m2025-04-07 09:35.17\u001b[0m [\u001b[32m\u001b[1minfo     \u001b[0m] \u001b[1mIQL_20250407093504: epoch=2 step=2000\u001b[0m \u001b[36mepoch\u001b[0m=\u001b[35m2\u001b[0m \u001b[36mmetrics\u001b[0m=\u001b[35m{'time_sample_batch': 0.0015875694751739501, 'time_algorithm_update': 0.004651618719100952, 'critic_loss': 6148.825401062012, 'q_loss': 6121.134932830811, 'v_loss': 27.690466495513917, 'actor_loss': 47.209079043388364, 'time_step': 0.006278772592544555, 'env': 3243.914709515445}\u001b[0m \u001b[36mstep\u001b[0m=\u001b[35m2000\u001b[0m\n",
      "\u001b[2m2025-04-07 09:35.17\u001b[0m [\u001b[32m\u001b[1minfo     \u001b[0m] \u001b[1mModel parameters are saved to d3rlpy_logs/IQL_20250407093504/model_2000.d3\u001b[0m\n"
     ]
    },
    {
     "data": {
      "application/vnd.jupyter.widget-view+json": {
       "model_id": "c8379c4eda964010977ea2f9eef79416",
       "version_major": 2,
       "version_minor": 0
      },
      "text/plain": [
       "Epoch 3/10:   0%|          | 0/1000 [00:00<?, ?it/s]"
      ]
     },
     "metadata": {},
     "output_type": "display_data"
    },
    {
     "name": "stdout",
     "output_type": "stream",
     "text": [
      "\u001b[2m2025-04-07 09:35.24\u001b[0m [\u001b[32m\u001b[1minfo     \u001b[0m] \u001b[1mIQL_20250407093504: epoch=3 step=3000\u001b[0m \u001b[36mepoch\u001b[0m=\u001b[35m3\u001b[0m \u001b[36mmetrics\u001b[0m=\u001b[35m{'time_sample_batch': 0.0015845096111297607, 'time_algorithm_update': 0.004515581607818604, 'critic_loss': 10893.418867370605, 'q_loss': 10849.978895690918, 'v_loss': 43.439971202850344, 'actor_loss': 41.11088452291489, 'time_step': 0.0061383905410766606, 'env': 3545.555285391757}\u001b[0m \u001b[36mstep\u001b[0m=\u001b[35m3000\u001b[0m\n",
      "\u001b[2m2025-04-07 09:35.24\u001b[0m [\u001b[32m\u001b[1minfo     \u001b[0m] \u001b[1mModel parameters are saved to d3rlpy_logs/IQL_20250407093504/model_3000.d3\u001b[0m\n"
     ]
    },
    {
     "data": {
      "application/vnd.jupyter.widget-view+json": {
       "model_id": "d69e1d1d3b9c400a962ec5d5b5f5eb07",
       "version_major": 2,
       "version_minor": 0
      },
      "text/plain": [
       "Epoch 4/10:   0%|          | 0/1000 [00:00<?, ?it/s]"
      ]
     },
     "metadata": {},
     "output_type": "display_data"
    },
    {
     "name": "stdout",
     "output_type": "stream",
     "text": [
      "\u001b[2m2025-04-07 09:35.30\u001b[0m [\u001b[32m\u001b[1minfo     \u001b[0m] \u001b[1mIQL_20250407093504: epoch=4 step=4000\u001b[0m \u001b[36mepoch\u001b[0m=\u001b[35m4\u001b[0m \u001b[36mmetrics\u001b[0m=\u001b[35m{'time_sample_batch': 0.0015312747955322265, 'time_algorithm_update': 0.004358739852905274, 'critic_loss': 15834.384896728516, 'q_loss': 15775.871246154786, 'v_loss': 58.513670345306394, 'actor_loss': 35.86555141592026, 'time_step': 0.005928244352340698, 'env': 2017.4625059093275}\u001b[0m \u001b[36mstep\u001b[0m=\u001b[35m4000\u001b[0m\n",
      "\u001b[2m2025-04-07 09:35.30\u001b[0m [\u001b[32m\u001b[1minfo     \u001b[0m] \u001b[1mModel parameters are saved to d3rlpy_logs/IQL_20250407093504/model_4000.d3\u001b[0m\n"
     ]
    },
    {
     "data": {
      "application/vnd.jupyter.widget-view+json": {
       "model_id": "92f98cd262f04be3baf223a66b7d5719",
       "version_major": 2,
       "version_minor": 0
      },
      "text/plain": [
       "Epoch 5/10:   0%|          | 0/1000 [00:00<?, ?it/s]"
      ]
     },
     "metadata": {},
     "output_type": "display_data"
    },
    {
     "name": "stdout",
     "output_type": "stream",
     "text": [
      "\u001b[2m2025-04-07 09:35.36\u001b[0m [\u001b[32m\u001b[1minfo     \u001b[0m] \u001b[1mIQL_20250407093504: epoch=5 step=5000\u001b[0m \u001b[36mepoch\u001b[0m=\u001b[35m5\u001b[0m \u001b[36mmetrics\u001b[0m=\u001b[35m{'time_sample_batch': 0.0015296976566314697, 'time_algorithm_update': 0.004357388019561767, 'critic_loss': 21307.02997314453, 'q_loss': 21231.473981201172, 'v_loss': 75.5559903755188, 'actor_loss': 34.97971667945385, 'time_step': 0.005925191164016724, 'env': 3401.0270595033753}\u001b[0m \u001b[36mstep\u001b[0m=\u001b[35m5000\u001b[0m\n",
      "\u001b[2m2025-04-07 09:35.36\u001b[0m [\u001b[32m\u001b[1minfo     \u001b[0m] \u001b[1mModel parameters are saved to d3rlpy_logs/IQL_20250407093504/model_5000.d3\u001b[0m\n"
     ]
    },
    {
     "data": {
      "application/vnd.jupyter.widget-view+json": {
       "model_id": "bd00f708c1eb47f9856551d52af725a8",
       "version_major": 2,
       "version_minor": 0
      },
      "text/plain": [
       "Epoch 6/10:   0%|          | 0/1000 [00:00<?, ?it/s]"
      ]
     },
     "metadata": {},
     "output_type": "display_data"
    },
    {
     "name": "stdout",
     "output_type": "stream",
     "text": [
      "\u001b[2m2025-04-07 09:35.43\u001b[0m [\u001b[32m\u001b[1minfo     \u001b[0m] \u001b[1mIQL_20250407093504: epoch=6 step=6000\u001b[0m \u001b[36mepoch\u001b[0m=\u001b[35m6\u001b[0m \u001b[36mmetrics\u001b[0m=\u001b[35m{'time_sample_batch': 0.0015251328945159912, 'time_algorithm_update': 0.004342862129211426, 'critic_loss': 26954.06423779297, 'q_loss': 26854.962735717774, 'v_loss': 99.10148280334472, 'actor_loss': 33.99680823934078, 'time_step': 0.00590580677986145, 'env': 3455.4211854682712}\u001b[0m \u001b[36mstep\u001b[0m=\u001b[35m6000\u001b[0m\n",
      "\u001b[2m2025-04-07 09:35.43\u001b[0m [\u001b[32m\u001b[1minfo     \u001b[0m] \u001b[1mModel parameters are saved to d3rlpy_logs/IQL_20250407093504/model_6000.d3\u001b[0m\n"
     ]
    },
    {
     "data": {
      "application/vnd.jupyter.widget-view+json": {
       "model_id": "163b79fa77b94ea3b3fad4b2dcba8126",
       "version_major": 2,
       "version_minor": 0
      },
      "text/plain": [
       "Epoch 7/10:   0%|          | 0/1000 [00:00<?, ?it/s]"
      ]
     },
     "metadata": {},
     "output_type": "display_data"
    },
    {
     "name": "stdout",
     "output_type": "stream",
     "text": [
      "\u001b[2m2025-04-07 09:35.49\u001b[0m [\u001b[32m\u001b[1minfo     \u001b[0m] \u001b[1mIQL_20250407093504: epoch=7 step=7000\u001b[0m \u001b[36mepoch\u001b[0m=\u001b[35m7\u001b[0m \u001b[36mmetrics\u001b[0m=\u001b[35m{'time_sample_batch': 0.001564725399017334, 'time_algorithm_update': 0.004535144567489624, 'critic_loss': 32913.338779052734, 'q_loss': 32783.045158203124, 'v_loss': 130.29362879180908, 'actor_loss': 34.158071663856504, 'time_step': 0.006138598203659058, 'env': 3723.874593359303}\u001b[0m \u001b[36mstep\u001b[0m=\u001b[35m7000\u001b[0m\n",
      "\u001b[2m2025-04-07 09:35.49\u001b[0m [\u001b[32m\u001b[1minfo     \u001b[0m] \u001b[1mModel parameters are saved to d3rlpy_logs/IQL_20250407093504/model_7000.d3\u001b[0m\n"
     ]
    },
    {
     "data": {
      "application/vnd.jupyter.widget-view+json": {
       "model_id": "7faa733db6a04025b71aa71021b588d3",
       "version_major": 2,
       "version_minor": 0
      },
      "text/plain": [
       "Epoch 8/10:   0%|          | 0/1000 [00:00<?, ?it/s]"
      ]
     },
     "metadata": {},
     "output_type": "display_data"
    },
    {
     "name": "stdout",
     "output_type": "stream",
     "text": [
      "\u001b[2m2025-04-07 09:35.56\u001b[0m [\u001b[32m\u001b[1minfo     \u001b[0m] \u001b[1mIQL_20250407093504: epoch=8 step=8000\u001b[0m \u001b[36mepoch\u001b[0m=\u001b[35m8\u001b[0m \u001b[36mmetrics\u001b[0m=\u001b[35m{'time_sample_batch': 0.0015206351280212403, 'time_algorithm_update': 0.00432393741607666, 'critic_loss': 36687.09009033203, 'q_loss': 36537.14253442383, 'v_loss': 149.9475538635254, 'actor_loss': 33.591320398807525, 'time_step': 0.005881454706192017, 'env': 2922.41588492131}\u001b[0m \u001b[36mstep\u001b[0m=\u001b[35m8000\u001b[0m\n",
      "\u001b[2m2025-04-07 09:35.56\u001b[0m [\u001b[32m\u001b[1minfo     \u001b[0m] \u001b[1mModel parameters are saved to d3rlpy_logs/IQL_20250407093504/model_8000.d3\u001b[0m\n"
     ]
    },
    {
     "data": {
      "application/vnd.jupyter.widget-view+json": {
       "model_id": "7079e1d33f3c44189949df31921e131f",
       "version_major": 2,
       "version_minor": 0
      },
      "text/plain": [
       "Epoch 9/10:   0%|          | 0/1000 [00:00<?, ?it/s]"
      ]
     },
     "metadata": {},
     "output_type": "display_data"
    },
    {
     "name": "stdout",
     "output_type": "stream",
     "text": [
      "\u001b[2m2025-04-07 09:36.02\u001b[0m [\u001b[32m\u001b[1minfo     \u001b[0m] \u001b[1mIQL_20250407093504: epoch=9 step=9000\u001b[0m \u001b[36mepoch\u001b[0m=\u001b[35m9\u001b[0m \u001b[36mmetrics\u001b[0m=\u001b[35m{'time_sample_batch': 0.0015833544731140136, 'time_algorithm_update': 0.004581630229949951, 'critic_loss': 42668.74803686523, 'q_loss': 42504.558054931644, 'v_loss': 164.1900009765625, 'actor_loss': 32.31873790705204, 'time_step': 0.006203950166702271, 'env': 3990.6853455955543}\u001b[0m \u001b[36mstep\u001b[0m=\u001b[35m9000\u001b[0m\n",
      "\u001b[2m2025-04-07 09:36.02\u001b[0m [\u001b[32m\u001b[1minfo     \u001b[0m] \u001b[1mModel parameters are saved to d3rlpy_logs/IQL_20250407093504/model_9000.d3\u001b[0m\n"
     ]
    },
    {
     "data": {
      "application/vnd.jupyter.widget-view+json": {
       "model_id": "3ffc8764ca044791bda87170745251ad",
       "version_major": 2,
       "version_minor": 0
      },
      "text/plain": [
       "Epoch 10/10:   0%|          | 0/1000 [00:00<?, ?it/s]"
      ]
     },
     "metadata": {},
     "output_type": "display_data"
    },
    {
     "name": "stdout",
     "output_type": "stream",
     "text": [
      "\u001b[2m2025-04-07 09:36.09\u001b[0m [\u001b[32m\u001b[1minfo     \u001b[0m] \u001b[1mIQL_20250407093504: epoch=10 step=10000\u001b[0m \u001b[36mepoch\u001b[0m=\u001b[35m10\u001b[0m \u001b[36mmetrics\u001b[0m=\u001b[35m{'time_sample_batch': 0.0015127980709075928, 'time_algorithm_update': 0.004278781175613403, 'critic_loss': 45794.06400708008, 'q_loss': 45618.16446240235, 'v_loss': 175.89949571990968, 'actor_loss': 32.171769808888435, 'time_step': 0.005828266382217407, 'env': 2531.518444096145}\u001b[0m \u001b[36mstep\u001b[0m=\u001b[35m10000\u001b[0m\n",
      "\u001b[2m2025-04-07 09:36.09\u001b[0m [\u001b[32m\u001b[1minfo     \u001b[0m] \u001b[1mModel parameters are saved to d3rlpy_logs/IQL_20250407093504/model_10000.d3\u001b[0m\n"
     ]
    },
    {
     "data": {
      "text/plain": [
       "[(1,\n",
       "  {'time_sample_batch': 0.0015404837131500243,\n",
       "   'time_algorithm_update': 0.004327301740646362,\n",
       "   'critic_loss': 2675.132789794922,\n",
       "   'q_loss': 2659.8955614318847,\n",
       "   'v_loss': 15.23722476863861,\n",
       "   'actor_loss': 58.79665441417694,\n",
       "   'time_step': 0.005905513525009155,\n",
       "   'env': 2895.1029235642613}),\n",
       " (2,\n",
       "  {'time_sample_batch': 0.0015875694751739501,\n",
       "   'time_algorithm_update': 0.004651618719100952,\n",
       "   'critic_loss': 6148.825401062012,\n",
       "   'q_loss': 6121.134932830811,\n",
       "   'v_loss': 27.690466495513917,\n",
       "   'actor_loss': 47.209079043388364,\n",
       "   'time_step': 0.006278772592544555,\n",
       "   'env': 3243.914709515445}),\n",
       " (3,\n",
       "  {'time_sample_batch': 0.0015845096111297607,\n",
       "   'time_algorithm_update': 0.004515581607818604,\n",
       "   'critic_loss': 10893.418867370605,\n",
       "   'q_loss': 10849.978895690918,\n",
       "   'v_loss': 43.439971202850344,\n",
       "   'actor_loss': 41.11088452291489,\n",
       "   'time_step': 0.0061383905410766606,\n",
       "   'env': 3545.555285391757}),\n",
       " (4,\n",
       "  {'time_sample_batch': 0.0015312747955322265,\n",
       "   'time_algorithm_update': 0.004358739852905274,\n",
       "   'critic_loss': 15834.384896728516,\n",
       "   'q_loss': 15775.871246154786,\n",
       "   'v_loss': 58.513670345306394,\n",
       "   'actor_loss': 35.86555141592026,\n",
       "   'time_step': 0.005928244352340698,\n",
       "   'env': 2017.4625059093275}),\n",
       " (5,\n",
       "  {'time_sample_batch': 0.0015296976566314697,\n",
       "   'time_algorithm_update': 0.004357388019561767,\n",
       "   'critic_loss': 21307.02997314453,\n",
       "   'q_loss': 21231.473981201172,\n",
       "   'v_loss': 75.5559903755188,\n",
       "   'actor_loss': 34.97971667945385,\n",
       "   'time_step': 0.005925191164016724,\n",
       "   'env': 3401.0270595033753}),\n",
       " (6,\n",
       "  {'time_sample_batch': 0.0015251328945159912,\n",
       "   'time_algorithm_update': 0.004342862129211426,\n",
       "   'critic_loss': 26954.06423779297,\n",
       "   'q_loss': 26854.962735717774,\n",
       "   'v_loss': 99.10148280334472,\n",
       "   'actor_loss': 33.99680823934078,\n",
       "   'time_step': 0.00590580677986145,\n",
       "   'env': 3455.4211854682712}),\n",
       " (7,\n",
       "  {'time_sample_batch': 0.001564725399017334,\n",
       "   'time_algorithm_update': 0.004535144567489624,\n",
       "   'critic_loss': 32913.338779052734,\n",
       "   'q_loss': 32783.045158203124,\n",
       "   'v_loss': 130.29362879180908,\n",
       "   'actor_loss': 34.158071663856504,\n",
       "   'time_step': 0.006138598203659058,\n",
       "   'env': 3723.874593359303}),\n",
       " (8,\n",
       "  {'time_sample_batch': 0.0015206351280212403,\n",
       "   'time_algorithm_update': 0.00432393741607666,\n",
       "   'critic_loss': 36687.09009033203,\n",
       "   'q_loss': 36537.14253442383,\n",
       "   'v_loss': 149.9475538635254,\n",
       "   'actor_loss': 33.591320398807525,\n",
       "   'time_step': 0.005881454706192017,\n",
       "   'env': 2922.41588492131}),\n",
       " (9,\n",
       "  {'time_sample_batch': 0.0015833544731140136,\n",
       "   'time_algorithm_update': 0.004581630229949951,\n",
       "   'critic_loss': 42668.74803686523,\n",
       "   'q_loss': 42504.558054931644,\n",
       "   'v_loss': 164.1900009765625,\n",
       "   'actor_loss': 32.31873790705204,\n",
       "   'time_step': 0.006203950166702271,\n",
       "   'env': 3990.6853455955543}),\n",
       " (10,\n",
       "  {'time_sample_batch': 0.0015127980709075928,\n",
       "   'time_algorithm_update': 0.004278781175613403,\n",
       "   'critic_loss': 45794.06400708008,\n",
       "   'q_loss': 45618.16446240235,\n",
       "   'v_loss': 175.89949571990968,\n",
       "   'actor_loss': 32.171769808888435,\n",
       "   'time_step': 0.005828266382217407,\n",
       "   'env': 2531.518444096145})]"
      ]
     },
     "execution_count": 9,
     "metadata": {},
     "output_type": "execute_result"
    }
   ],
   "source": [
    "env = dataset.recover_environment()\n",
    "\n",
    "iql.fit(\n",
    "    dataset=d3_dataset,\n",
    "    n_steps=10000,\n",
    "    n_steps_per_epoch=1000,\n",
    "    evaluators={\"env\": EnvironmentEvaluator(env)},\n",
    ")"
   ]
  },
  {
   "cell_type": "code",
   "execution_count": 25,
   "id": "a7f7658b-d8a8-4f3a-aa68-2b663ff6d34d",
   "metadata": {},
   "outputs": [
    {
     "name": "stdout",
     "output_type": "stream",
     "text": [
      "Reward totale: 5152.226734340886\n"
     ]
    }
   ],
   "source": [
    "env = dataset.recover_environment(render_mode=\"human\", camera_id=2)\n",
    "obs, _ = env.reset()\n",
    "done = False\n",
    "total_reward = 0\n",
    "\n",
    "for _ in range(1000):\n",
    "    action = iql.predict(obs[None])[0]\n",
    "    obs, reward, terminated, truncated, _ = env.step(action)\n",
    "    total_reward += reward\n",
    "    if terminated:\n",
    "        break\n",
    "\n",
    "env.close()\n",
    "print(f\"Reward totale: {total_reward}\")"
   ]
  },
  {
   "cell_type": "markdown",
   "id": "177cc9cc-b1a4-40d4-8e79-521645029329",
   "metadata": {},
   "source": [
    "# Conservative Q-Learning"
   ]
  },
  {
   "cell_type": "code",
   "execution_count": 14,
   "id": "2fc421d7-29f6-4082-96c0-3df6757b11c1",
   "metadata": {},
   "outputs": [],
   "source": [
    "cql = CQLConfig().create(device=\"cpu\")"
   ]
  },
  {
   "cell_type": "code",
   "execution_count": 16,
   "id": "02ec3c23-fe3e-4eb6-b31d-5cff65d7b66a",
   "metadata": {},
   "outputs": [],
   "source": [
    "cql.build_with_dataset(d3_dataset)"
   ]
  },
  {
   "cell_type": "code",
   "execution_count": 17,
   "id": "6e7f8b94-fb51-4fe2-91ac-d12a93dd86a6",
   "metadata": {
    "collapsed": true,
    "jupyter": {
     "outputs_hidden": true
    }
   },
   "outputs": [
    {
     "name": "stdout",
     "output_type": "stream",
     "text": [
      "\u001b[2m2025-04-07 09:39.05\u001b[0m [\u001b[32m\u001b[1minfo     \u001b[0m] \u001b[1mdataset info                  \u001b[0m \u001b[36mdataset_info\u001b[0m=\u001b[35mDatasetInfo(observation_signature=Signature(dtype=[dtype('float64')], shape=[(45,)]), action_signature=Signature(dtype=[dtype('float32')], shape=[(24,)]), reward_signature=Signature(dtype=[dtype('float64')], shape=[(1,)]), action_space=<ActionSpace.CONTINUOUS: 1>, action_size=24)\u001b[0m\n",
      "\u001b[2m2025-04-07 09:39.05\u001b[0m [\u001b[33m\u001b[1mwarning  \u001b[0m] \u001b[1mSkip building models since they're already built.\u001b[0m\n",
      "\u001b[2m2025-04-07 09:39.05\u001b[0m [\u001b[32m\u001b[1minfo     \u001b[0m] \u001b[1mDirectory is created at d3rlpy_logs/CQL_20250407093905\u001b[0m\n",
      "\u001b[2m2025-04-07 09:39.05\u001b[0m [\u001b[32m\u001b[1minfo     \u001b[0m] \u001b[1mParameters                    \u001b[0m \u001b[36mparams\u001b[0m=\u001b[35m{'observation_shape': [45], 'action_size': 24, 'config': {'type': 'cql', 'params': {'batch_size': 256, 'gamma': 0.99, 'observation_scaler': {'type': 'none', 'params': {}}, 'action_scaler': {'type': 'none', 'params': {}}, 'reward_scaler': {'type': 'none', 'params': {}}, 'compile_graph': False, 'actor_learning_rate': 0.0001, 'critic_learning_rate': 0.0003, 'temp_learning_rate': 0.0001, 'alpha_learning_rate': 0.0001, 'actor_optim_factory': {'type': 'adam', 'params': {'clip_grad_norm': None, 'lr_scheduler_factory': {'type': 'none', 'params': {}}, 'betas': [0.9, 0.999], 'eps': 1e-08, 'weight_decay': 0, 'amsgrad': False}}, 'critic_optim_factory': {'type': 'adam', 'params': {'clip_grad_norm': None, 'lr_scheduler_factory': {'type': 'none', 'params': {}}, 'betas': [0.9, 0.999], 'eps': 1e-08, 'weight_decay': 0, 'amsgrad': False}}, 'temp_optim_factory': {'type': 'adam', 'params': {'clip_grad_norm': None, 'lr_scheduler_factory': {'type': 'none', 'params': {}}, 'betas': [0.9, 0.999], 'eps': 1e-08, 'weight_decay': 0, 'amsgrad': False}}, 'alpha_optim_factory': {'type': 'adam', 'params': {'clip_grad_norm': None, 'lr_scheduler_factory': {'type': 'none', 'params': {}}, 'betas': [0.9, 0.999], 'eps': 1e-08, 'weight_decay': 0, 'amsgrad': False}}, 'actor_encoder_factory': {'type': 'default', 'params': {'activation': 'relu', 'use_batch_norm': False, 'dropout_rate': None}}, 'critic_encoder_factory': {'type': 'default', 'params': {'activation': 'relu', 'use_batch_norm': False, 'dropout_rate': None}}, 'q_func_factory': {'type': 'mean', 'params': {'share_encoder': False}}, 'tau': 0.005, 'n_critics': 2, 'initial_temperature': 1.0, 'initial_alpha': 1.0, 'alpha_threshold': 10.0, 'conservative_weight': 5.0, 'n_action_samples': 10, 'soft_q_backup': False, 'max_q_backup': False}}}\u001b[0m\n"
     ]
    },
    {
     "data": {
      "application/vnd.jupyter.widget-view+json": {
       "model_id": "96ef9ac629eb48d1a8e55155856d8af5",
       "version_major": 2,
       "version_minor": 0
      },
      "text/plain": [
       "Epoch 1/10:   0%|          | 0/1000 [00:00<?, ?it/s]"
      ]
     },
     "metadata": {},
     "output_type": "display_data"
    },
    {
     "name": "stdout",
     "output_type": "stream",
     "text": [
      "\u001b[2m2025-04-07 09:39.41\u001b[0m [\u001b[32m\u001b[1minfo     \u001b[0m] \u001b[1mCQL_20250407093905: epoch=1 step=1000\u001b[0m \u001b[36mepoch\u001b[0m=\u001b[35m1\u001b[0m \u001b[36mmetrics\u001b[0m=\u001b[35m{'time_sample_batch': 0.0018825025558471679, 'time_algorithm_update': 0.033327054500579836, 'critic_loss': 850.7936302185059, 'conservative_loss': 3.736338350892067, 'alpha': 1.0130486673116683, 'actor_loss': -91.61962862110138, 'temp': 0.9556084146499634, 'temp_loss': 29.52512632369995, 'time_step': 0.0352595739364624, 'env': 185.83549634159868}\u001b[0m \u001b[36mstep\u001b[0m=\u001b[35m1000\u001b[0m\n",
      "\u001b[2m2025-04-07 09:39.41\u001b[0m [\u001b[32m\u001b[1minfo     \u001b[0m] \u001b[1mModel parameters are saved to d3rlpy_logs/CQL_20250407093905/model_1000.d3\u001b[0m\n"
     ]
    },
    {
     "data": {
      "application/vnd.jupyter.widget-view+json": {
       "model_id": "07b581977c8046049f449acef41a5cd8",
       "version_major": 2,
       "version_minor": 0
      },
      "text/plain": [
       "Epoch 2/10:   0%|          | 0/1000 [00:00<?, ?it/s]"
      ]
     },
     "metadata": {},
     "output_type": "display_data"
    },
    {
     "name": "stdout",
     "output_type": "stream",
     "text": [
      "\u001b[2m2025-04-07 09:40.20\u001b[0m [\u001b[32m\u001b[1minfo     \u001b[0m] \u001b[1mCQL_20250407093905: epoch=2 step=2000\u001b[0m \u001b[36mepoch\u001b[0m=\u001b[35m2\u001b[0m \u001b[36mmetrics\u001b[0m=\u001b[35m{'time_sample_batch': 0.0019532697200775146, 'time_algorithm_update': 0.03672051596641541, 'critic_loss': 2269.0222620391846, 'conservative_loss': -39.814375631332396, 'alpha': 0.9383266568779945, 'actor_loss': -244.5562688140869, 'temp': 0.8765679097175598, 'temp_loss': 21.79221344947815, 'time_step': 0.03872582507133484, 'env': 241.60821961057314}\u001b[0m \u001b[36mstep\u001b[0m=\u001b[35m2000\u001b[0m\n",
      "\u001b[2m2025-04-07 09:40.20\u001b[0m [\u001b[32m\u001b[1minfo     \u001b[0m] \u001b[1mModel parameters are saved to d3rlpy_logs/CQL_20250407093905/model_2000.d3\u001b[0m\n"
     ]
    },
    {
     "data": {
      "application/vnd.jupyter.widget-view+json": {
       "model_id": "57da274386684143aeeb51453780ce53",
       "version_major": 2,
       "version_minor": 0
      },
      "text/plain": [
       "Epoch 3/10:   0%|          | 0/1000 [00:00<?, ?it/s]"
      ]
     },
     "metadata": {},
     "output_type": "display_data"
    },
    {
     "name": "stdout",
     "output_type": "stream",
     "text": [
      "\u001b[2m2025-04-07 09:40.54\u001b[0m [\u001b[32m\u001b[1minfo     \u001b[0m] \u001b[1mCQL_20250407093905: epoch=3 step=3000\u001b[0m \u001b[36mepoch\u001b[0m=\u001b[35m3\u001b[0m \u001b[36mmetrics\u001b[0m=\u001b[35m{'time_sample_batch': 0.0017448365688323975, 'time_algorithm_update': 0.031003796339035033, 'critic_loss': 6058.591243255615, 'conservative_loss': -31.02224608898163, 'alpha': 0.8535002691745758, 'actor_loss': -411.08404415893557, 'temp': 0.8073461208939552, 'temp_loss': 17.309443717002868, 'time_step': 0.03279752731323242, 'env': 563.6578634575772}\u001b[0m \u001b[36mstep\u001b[0m=\u001b[35m3000\u001b[0m\n",
      "\u001b[2m2025-04-07 09:40.54\u001b[0m [\u001b[32m\u001b[1minfo     \u001b[0m] \u001b[1mModel parameters are saved to d3rlpy_logs/CQL_20250407093905/model_3000.d3\u001b[0m\n"
     ]
    },
    {
     "data": {
      "application/vnd.jupyter.widget-view+json": {
       "model_id": "ea6be723de15463d8baa501e1b86e8f8",
       "version_major": 2,
       "version_minor": 0
      },
      "text/plain": [
       "Epoch 4/10:   0%|          | 0/1000 [00:00<?, ?it/s]"
      ]
     },
     "metadata": {},
     "output_type": "display_data"
    },
    {
     "name": "stdout",
     "output_type": "stream",
     "text": [
      "\u001b[2m2025-04-07 09:41.28\u001b[0m [\u001b[32m\u001b[1minfo     \u001b[0m] \u001b[1mCQL_20250407093905: epoch=4 step=4000\u001b[0m \u001b[36mepoch\u001b[0m=\u001b[35m4\u001b[0m \u001b[36mmetrics\u001b[0m=\u001b[35m{'time_sample_batch': 0.0017871615886688233, 'time_algorithm_update': 0.03166832685470581, 'critic_loss': 11751.692608215331, 'conservative_loss': -9.207659454524517, 'alpha': 0.8023225919008256, 'actor_loss': -585.5004121398925, 'temp': 0.7465361017584801, 'temp_loss': 13.238296122550965, 'time_step': 0.033505909204483035, 'env': 193.09222956213483}\u001b[0m \u001b[36mstep\u001b[0m=\u001b[35m4000\u001b[0m\n",
      "\u001b[2m2025-04-07 09:41.28\u001b[0m [\u001b[32m\u001b[1minfo     \u001b[0m] \u001b[1mModel parameters are saved to d3rlpy_logs/CQL_20250407093905/model_4000.d3\u001b[0m\n"
     ]
    },
    {
     "data": {
      "application/vnd.jupyter.widget-view+json": {
       "model_id": "df598dde85e048bab97b310cccafc94d",
       "version_major": 2,
       "version_minor": 0
      },
      "text/plain": [
       "Epoch 5/10:   0%|          | 0/1000 [00:00<?, ?it/s]"
      ]
     },
     "metadata": {},
     "output_type": "display_data"
    },
    {
     "name": "stdout",
     "output_type": "stream",
     "text": [
      "\u001b[2m2025-04-07 09:42.02\u001b[0m [\u001b[32m\u001b[1minfo     \u001b[0m] \u001b[1mCQL_20250407093905: epoch=5 step=5000\u001b[0m \u001b[36mepoch\u001b[0m=\u001b[35m5\u001b[0m \u001b[36mmetrics\u001b[0m=\u001b[35m{'time_sample_batch': 0.001770390272140503, 'time_algorithm_update': 0.03140075993537903, 'critic_loss': 17966.91237109375, 'conservative_loss': 31.700336929917334, 'alpha': 0.8337149719595909, 'actor_loss': -780.149253479004, 'temp': 0.6942932325601577, 'temp_loss': 9.425389189243317, 'time_step': 0.03322071266174317, 'env': 579.0848532741566}\u001b[0m \u001b[36mstep\u001b[0m=\u001b[35m5000\u001b[0m\n",
      "\u001b[2m2025-04-07 09:42.02\u001b[0m [\u001b[32m\u001b[1minfo     \u001b[0m] \u001b[1mModel parameters are saved to d3rlpy_logs/CQL_20250407093905/model_5000.d3\u001b[0m\n"
     ]
    },
    {
     "data": {
      "application/vnd.jupyter.widget-view+json": {
       "model_id": "67aa3deba523463cbb0bfa67a4a588b8",
       "version_major": 2,
       "version_minor": 0
      },
      "text/plain": [
       "Epoch 6/10:   0%|          | 0/1000 [00:00<?, ?it/s]"
      ]
     },
     "metadata": {},
     "output_type": "display_data"
    },
    {
     "name": "stdout",
     "output_type": "stream",
     "text": [
      "\u001b[2m2025-04-07 09:42.41\u001b[0m [\u001b[32m\u001b[1minfo     \u001b[0m] \u001b[1mCQL_20250407093905: epoch=6 step=6000\u001b[0m \u001b[36mepoch\u001b[0m=\u001b[35m6\u001b[0m \u001b[36mmetrics\u001b[0m=\u001b[35m{'time_sample_batch': 0.0020388431549072266, 'time_algorithm_update': 0.03641819334030151, 'critic_loss': 27500.07182458496, 'conservative_loss': 115.7870230178833, 'alpha': 0.9788761110901832, 'actor_loss': -1001.5450241088868, 'temp': 0.6517980610132217, 'temp_loss': 5.8995378651618955, 'time_step': 0.038510204315185544, 'env': 35.91653338683333}\u001b[0m \u001b[36mstep\u001b[0m=\u001b[35m6000\u001b[0m\n",
      "\u001b[2m2025-04-07 09:42.41\u001b[0m [\u001b[32m\u001b[1minfo     \u001b[0m] \u001b[1mModel parameters are saved to d3rlpy_logs/CQL_20250407093905/model_6000.d3\u001b[0m\n"
     ]
    },
    {
     "data": {
      "application/vnd.jupyter.widget-view+json": {
       "model_id": "c247712e3fdc4adfbbd76ab811e81031",
       "version_major": 2,
       "version_minor": 0
      },
      "text/plain": [
       "Epoch 7/10:   0%|          | 0/1000 [00:00<?, ?it/s]"
      ]
     },
     "metadata": {},
     "output_type": "display_data"
    },
    {
     "name": "stdout",
     "output_type": "stream",
     "text": [
      "\u001b[2m2025-04-07 09:43.15\u001b[0m [\u001b[32m\u001b[1minfo     \u001b[0m] \u001b[1mCQL_20250407093905: epoch=7 step=7000\u001b[0m \u001b[36mepoch\u001b[0m=\u001b[35m7\u001b[0m \u001b[36mmetrics\u001b[0m=\u001b[35m{'time_sample_batch': 0.0018669300079345703, 'time_algorithm_update': 0.031592557430267336, 'critic_loss': 37798.14590039063, 'conservative_loss': 232.01046014404298, 'alpha': 1.1505273463726045, 'actor_loss': -1247.7033227539061, 'temp': 0.6181558321714401, 'temp_loss': 3.3790261780023574, 'time_step': 0.0335113799571991, 'env': 207.9944095984064}\u001b[0m \u001b[36mstep\u001b[0m=\u001b[35m7000\u001b[0m\n",
      "\u001b[2m2025-04-07 09:43.15\u001b[0m [\u001b[32m\u001b[1minfo     \u001b[0m] \u001b[1mModel parameters are saved to d3rlpy_logs/CQL_20250407093905/model_7000.d3\u001b[0m\n"
     ]
    },
    {
     "data": {
      "application/vnd.jupyter.widget-view+json": {
       "model_id": "9ade121c478445528769a1ea6c19138f",
       "version_major": 2,
       "version_minor": 0
      },
      "text/plain": [
       "Epoch 8/10:   0%|          | 0/1000 [00:00<?, ?it/s]"
      ]
     },
     "metadata": {},
     "output_type": "display_data"
    },
    {
     "name": "stdout",
     "output_type": "stream",
     "text": [
      "\u001b[2m2025-04-07 09:43.50\u001b[0m [\u001b[32m\u001b[1minfo     \u001b[0m] \u001b[1mCQL_20250407093905: epoch=8 step=8000\u001b[0m \u001b[36mepoch\u001b[0m=\u001b[35m8\u001b[0m \u001b[36mmetrics\u001b[0m=\u001b[35m{'time_sample_batch': 0.0019152917861938476, 'time_algorithm_update': 0.03220466494560242, 'critic_loss': 51627.58175048828, 'conservative_loss': 383.3483046722412, 'alpha': 1.3312392839193343, 'actor_loss': -1512.3378660888673, 'temp': 0.5947071011066437, 'temp_loss': 1.3631523427758365, 'time_step': 0.034172234773635866, 'env': 22.479925475155135}\u001b[0m \u001b[36mstep\u001b[0m=\u001b[35m8000\u001b[0m\n",
      "\u001b[2m2025-04-07 09:43.50\u001b[0m [\u001b[32m\u001b[1minfo     \u001b[0m] \u001b[1mModel parameters are saved to d3rlpy_logs/CQL_20250407093905/model_8000.d3\u001b[0m\n"
     ]
    },
    {
     "data": {
      "application/vnd.jupyter.widget-view+json": {
       "model_id": "7c759252f86c4ba9ab1e516f99c03331",
       "version_major": 2,
       "version_minor": 0
      },
      "text/plain": [
       "Epoch 9/10:   0%|          | 0/1000 [00:00<?, ?it/s]"
      ]
     },
     "metadata": {},
     "output_type": "display_data"
    },
    {
     "name": "stdout",
     "output_type": "stream",
     "text": [
      "\u001b[2m2025-04-07 09:44.25\u001b[0m [\u001b[32m\u001b[1minfo     \u001b[0m] \u001b[1mCQL_20250407093905: epoch=9 step=9000\u001b[0m \u001b[36mepoch\u001b[0m=\u001b[35m9\u001b[0m \u001b[36mmetrics\u001b[0m=\u001b[35m{'time_sample_batch': 0.0019985873699188235, 'time_algorithm_update': 0.03291210985183716, 'critic_loss': 71410.32231298828, 'conservative_loss': 598.3275304870606, 'alpha': 1.5261711584329605, 'actor_loss': -1784.3933461914062, 'temp': 0.5873868223428726, 'temp_loss': -0.08099927717074752, 'time_step': 0.03496393513679504, 'env': 8.080350396701569}\u001b[0m \u001b[36mstep\u001b[0m=\u001b[35m9000\u001b[0m\n",
      "\u001b[2m2025-04-07 09:44.25\u001b[0m [\u001b[32m\u001b[1minfo     \u001b[0m] \u001b[1mModel parameters are saved to d3rlpy_logs/CQL_20250407093905/model_9000.d3\u001b[0m\n"
     ]
    },
    {
     "data": {
      "application/vnd.jupyter.widget-view+json": {
       "model_id": "a1aa7b56411b458192818411a1e1285c",
       "version_major": 2,
       "version_minor": 0
      },
      "text/plain": [
       "Epoch 10/10:   0%|          | 0/1000 [00:00<?, ?it/s]"
      ]
     },
     "metadata": {},
     "output_type": "display_data"
    },
    {
     "name": "stdout",
     "output_type": "stream",
     "text": [
      "\u001b[2m2025-04-07 09:45.00\u001b[0m [\u001b[32m\u001b[1minfo     \u001b[0m] \u001b[1mCQL_20250407093905: epoch=10 step=10000\u001b[0m \u001b[36mepoch\u001b[0m=\u001b[35m10\u001b[0m \u001b[36mmetrics\u001b[0m=\u001b[35m{'time_sample_batch': 0.0019095804691314697, 'time_algorithm_update': 0.03276324963569641, 'critic_loss': 93127.96612402344, 'conservative_loss': 906.7369437255859, 'alpha': 1.748260232925415, 'actor_loss': -2063.5706540527344, 'temp': 0.5994024122357369, 'temp_loss': -0.845141943179071, 'time_step': 0.034725390672683716, 'env': 30.865614627095464}\u001b[0m \u001b[36mstep\u001b[0m=\u001b[35m10000\u001b[0m\n",
      "\u001b[2m2025-04-07 09:45.00\u001b[0m [\u001b[32m\u001b[1minfo     \u001b[0m] \u001b[1mModel parameters are saved to d3rlpy_logs/CQL_20250407093905/model_10000.d3\u001b[0m\n"
     ]
    },
    {
     "data": {
      "text/plain": [
       "[(1,\n",
       "  {'time_sample_batch': 0.0018825025558471679,\n",
       "   'time_algorithm_update': 0.033327054500579836,\n",
       "   'critic_loss': 850.7936302185059,\n",
       "   'conservative_loss': 3.736338350892067,\n",
       "   'alpha': 1.0130486673116683,\n",
       "   'actor_loss': -91.61962862110138,\n",
       "   'temp': 0.9556084146499634,\n",
       "   'temp_loss': 29.52512632369995,\n",
       "   'time_step': 0.0352595739364624,\n",
       "   'env': 185.83549634159868}),\n",
       " (2,\n",
       "  {'time_sample_batch': 0.0019532697200775146,\n",
       "   'time_algorithm_update': 0.03672051596641541,\n",
       "   'critic_loss': 2269.0222620391846,\n",
       "   'conservative_loss': -39.814375631332396,\n",
       "   'alpha': 0.9383266568779945,\n",
       "   'actor_loss': -244.5562688140869,\n",
       "   'temp': 0.8765679097175598,\n",
       "   'temp_loss': 21.79221344947815,\n",
       "   'time_step': 0.03872582507133484,\n",
       "   'env': 241.60821961057314}),\n",
       " (3,\n",
       "  {'time_sample_batch': 0.0017448365688323975,\n",
       "   'time_algorithm_update': 0.031003796339035033,\n",
       "   'critic_loss': 6058.591243255615,\n",
       "   'conservative_loss': -31.02224608898163,\n",
       "   'alpha': 0.8535002691745758,\n",
       "   'actor_loss': -411.08404415893557,\n",
       "   'temp': 0.8073461208939552,\n",
       "   'temp_loss': 17.309443717002868,\n",
       "   'time_step': 0.03279752731323242,\n",
       "   'env': 563.6578634575772}),\n",
       " (4,\n",
       "  {'time_sample_batch': 0.0017871615886688233,\n",
       "   'time_algorithm_update': 0.03166832685470581,\n",
       "   'critic_loss': 11751.692608215331,\n",
       "   'conservative_loss': -9.207659454524517,\n",
       "   'alpha': 0.8023225919008256,\n",
       "   'actor_loss': -585.5004121398925,\n",
       "   'temp': 0.7465361017584801,\n",
       "   'temp_loss': 13.238296122550965,\n",
       "   'time_step': 0.033505909204483035,\n",
       "   'env': 193.09222956213483}),\n",
       " (5,\n",
       "  {'time_sample_batch': 0.001770390272140503,\n",
       "   'time_algorithm_update': 0.03140075993537903,\n",
       "   'critic_loss': 17966.91237109375,\n",
       "   'conservative_loss': 31.700336929917334,\n",
       "   'alpha': 0.8337149719595909,\n",
       "   'actor_loss': -780.149253479004,\n",
       "   'temp': 0.6942932325601577,\n",
       "   'temp_loss': 9.425389189243317,\n",
       "   'time_step': 0.03322071266174317,\n",
       "   'env': 579.0848532741566}),\n",
       " (6,\n",
       "  {'time_sample_batch': 0.0020388431549072266,\n",
       "   'time_algorithm_update': 0.03641819334030151,\n",
       "   'critic_loss': 27500.07182458496,\n",
       "   'conservative_loss': 115.7870230178833,\n",
       "   'alpha': 0.9788761110901832,\n",
       "   'actor_loss': -1001.5450241088868,\n",
       "   'temp': 0.6517980610132217,\n",
       "   'temp_loss': 5.8995378651618955,\n",
       "   'time_step': 0.038510204315185544,\n",
       "   'env': 35.91653338683333}),\n",
       " (7,\n",
       "  {'time_sample_batch': 0.0018669300079345703,\n",
       "   'time_algorithm_update': 0.031592557430267336,\n",
       "   'critic_loss': 37798.14590039063,\n",
       "   'conservative_loss': 232.01046014404298,\n",
       "   'alpha': 1.1505273463726045,\n",
       "   'actor_loss': -1247.7033227539061,\n",
       "   'temp': 0.6181558321714401,\n",
       "   'temp_loss': 3.3790261780023574,\n",
       "   'time_step': 0.0335113799571991,\n",
       "   'env': 207.9944095984064}),\n",
       " (8,\n",
       "  {'time_sample_batch': 0.0019152917861938476,\n",
       "   'time_algorithm_update': 0.03220466494560242,\n",
       "   'critic_loss': 51627.58175048828,\n",
       "   'conservative_loss': 383.3483046722412,\n",
       "   'alpha': 1.3312392839193343,\n",
       "   'actor_loss': -1512.3378660888673,\n",
       "   'temp': 0.5947071011066437,\n",
       "   'temp_loss': 1.3631523427758365,\n",
       "   'time_step': 0.034172234773635866,\n",
       "   'env': 22.479925475155135}),\n",
       " (9,\n",
       "  {'time_sample_batch': 0.0019985873699188235,\n",
       "   'time_algorithm_update': 0.03291210985183716,\n",
       "   'critic_loss': 71410.32231298828,\n",
       "   'conservative_loss': 598.3275304870606,\n",
       "   'alpha': 1.5261711584329605,\n",
       "   'actor_loss': -1784.3933461914062,\n",
       "   'temp': 0.5873868223428726,\n",
       "   'temp_loss': -0.08099927717074752,\n",
       "   'time_step': 0.03496393513679504,\n",
       "   'env': 8.080350396701569}),\n",
       " (10,\n",
       "  {'time_sample_batch': 0.0019095804691314697,\n",
       "   'time_algorithm_update': 0.03276324963569641,\n",
       "   'critic_loss': 93127.96612402344,\n",
       "   'conservative_loss': 906.7369437255859,\n",
       "   'alpha': 1.748260232925415,\n",
       "   'actor_loss': -2063.5706540527344,\n",
       "   'temp': 0.5994024122357369,\n",
       "   'temp_loss': -0.845141943179071,\n",
       "   'time_step': 0.034725390672683716,\n",
       "   'env': 30.865614627095464})]"
      ]
     },
     "execution_count": 17,
     "metadata": {},
     "output_type": "execute_result"
    }
   ],
   "source": [
    "env = dataset.recover_environment()\n",
    "\n",
    "cql.fit(\n",
    "    dataset=d3_dataset,\n",
    "    n_steps=10000,\n",
    "    n_steps_per_epoch=1000,\n",
    "    evaluators={\"env\": EnvironmentEvaluator(env)},\n",
    ")"
   ]
  },
  {
   "cell_type": "code",
   "execution_count": 30,
   "id": "df8e3051-2a19-47a5-b50d-2f7189f2f5c0",
   "metadata": {},
   "outputs": [
    {
     "name": "stdout",
     "output_type": "stream",
     "text": [
      "Reward totale: -4405.210054516312\n"
     ]
    }
   ],
   "source": [
    "env = dataset.recover_environment(render_mode=\"human\", camera_id=2)\n",
    "obs, _ = env.reset()\n",
    "done = False\n",
    "total_reward = 0\n",
    "\n",
    "for _ in range(1000):\n",
    "    action = cql.predict(obs[None])[0]\n",
    "    obs, reward, terminated, truncated, _ = env.step(action)\n",
    "    total_reward += reward\n",
    "    if terminated:\n",
    "        break\n",
    "\n",
    "env.close()\n",
    "print(f\"Reward totale: {total_reward}\")"
   ]
  },
  {
   "cell_type": "markdown",
   "id": "91064eee-7ae1-4aad-9934-a4253828d3f0",
   "metadata": {},
   "source": [
    "# Behavior Cloning"
   ]
  },
  {
   "cell_type": "code",
   "execution_count": 34,
   "id": "abc95ac5-5837-4c0a-b55d-879e86c0d446",
   "metadata": {},
   "outputs": [],
   "source": [
    "bc = BCConfig().create(device=\"cpu\")"
   ]
  },
  {
   "cell_type": "code",
   "execution_count": 35,
   "id": "8bf3baef-09b5-4cc3-8ca8-e73fefeee3b1",
   "metadata": {},
   "outputs": [],
   "source": [
    "bc.build_with_dataset(d3_dataset)"
   ]
  },
  {
   "cell_type": "code",
   "execution_count": 36,
   "id": "0cbb6184-b8b6-4b4f-a808-e1e51a32752a",
   "metadata": {
    "collapsed": true,
    "jupyter": {
     "outputs_hidden": true
    },
    "scrolled": true
   },
   "outputs": [
    {
     "name": "stdout",
     "output_type": "stream",
     "text": [
      "\u001b[2m2025-04-07 09:50.31\u001b[0m [\u001b[32m\u001b[1minfo     \u001b[0m] \u001b[1mdataset info                  \u001b[0m \u001b[36mdataset_info\u001b[0m=\u001b[35mDatasetInfo(observation_signature=Signature(dtype=[dtype('float64')], shape=[(45,)]), action_signature=Signature(dtype=[dtype('float32')], shape=[(24,)]), reward_signature=Signature(dtype=[dtype('float64')], shape=[(1,)]), action_space=<ActionSpace.CONTINUOUS: 1>, action_size=24)\u001b[0m\n",
      "\u001b[2m2025-04-07 09:50.31\u001b[0m [\u001b[33m\u001b[1mwarning  \u001b[0m] \u001b[1mSkip building models since they're already built.\u001b[0m\n",
      "\u001b[2m2025-04-07 09:50.31\u001b[0m [\u001b[32m\u001b[1minfo     \u001b[0m] \u001b[1mDirectory is created at d3rlpy_logs/BC_20250407095031\u001b[0m\n",
      "\u001b[2m2025-04-07 09:50.31\u001b[0m [\u001b[32m\u001b[1minfo     \u001b[0m] \u001b[1mParameters                    \u001b[0m \u001b[36mparams\u001b[0m=\u001b[35m{'observation_shape': [45], 'action_size': 24, 'config': {'type': 'bc', 'params': {'batch_size': 100, 'gamma': 0.99, 'observation_scaler': {'type': 'none', 'params': {}}, 'action_scaler': {'type': 'none', 'params': {}}, 'reward_scaler': {'type': 'none', 'params': {}}, 'compile_graph': False, 'learning_rate': 0.001, 'policy_type': 'deterministic', 'optim_factory': {'type': 'adam', 'params': {'clip_grad_norm': None, 'lr_scheduler_factory': {'type': 'none', 'params': {}}, 'betas': [0.9, 0.999], 'eps': 1e-08, 'weight_decay': 0, 'amsgrad': False}}, 'encoder_factory': {'type': 'default', 'params': {'activation': 'relu', 'use_batch_norm': False, 'dropout_rate': None}}}}}\u001b[0m\n"
     ]
    },
    {
     "data": {
      "application/vnd.jupyter.widget-view+json": {
       "model_id": "774c27c39ba94e969a2964fc3b2242f4",
       "version_major": 2,
       "version_minor": 0
      },
      "text/plain": [
       "Epoch 1/10:   0%|          | 0/1000 [00:00<?, ?it/s]"
      ]
     },
     "metadata": {},
     "output_type": "display_data"
    },
    {
     "name": "stdout",
     "output_type": "stream",
     "text": [
      "\u001b[2m2025-04-07 09:50.33\u001b[0m [\u001b[32m\u001b[1minfo     \u001b[0m] \u001b[1mBC_20250407095031: epoch=1 step=1000\u001b[0m \u001b[36mepoch\u001b[0m=\u001b[35m1\u001b[0m \u001b[36mmetrics\u001b[0m=\u001b[35m{'time_sample_batch': 0.0006606235504150391, 'time_algorithm_update': 0.000628838062286377, 'loss': 0.10639423998445273, 'time_step': 0.0013068647384643554, 'env': 2617.8516269407746}\u001b[0m \u001b[36mstep\u001b[0m=\u001b[35m1000\u001b[0m\n",
      "\u001b[2m2025-04-07 09:50.33\u001b[0m [\u001b[32m\u001b[1minfo     \u001b[0m] \u001b[1mModel parameters are saved to d3rlpy_logs/BC_20250407095031/model_1000.d3\u001b[0m\n"
     ]
    },
    {
     "data": {
      "application/vnd.jupyter.widget-view+json": {
       "model_id": "8b47688e81d44359b6eb44f2dacb4d44",
       "version_major": 2,
       "version_minor": 0
      },
      "text/plain": [
       "Epoch 2/10:   0%|          | 0/1000 [00:00<?, ?it/s]"
      ]
     },
     "metadata": {},
     "output_type": "display_data"
    },
    {
     "name": "stdout",
     "output_type": "stream",
     "text": [
      "\u001b[2m2025-04-07 09:50.34\u001b[0m [\u001b[32m\u001b[1minfo     \u001b[0m] \u001b[1mBC_20250407095031: epoch=2 step=2000\u001b[0m \u001b[36mepoch\u001b[0m=\u001b[35m2\u001b[0m \u001b[36mmetrics\u001b[0m=\u001b[35m{'time_sample_batch': 0.0005909712314605713, 'time_algorithm_update': 0.0005823712348937988, 'loss': 0.09810689052194357, 'time_step': 0.0011873888969421388, 'env': 3518.544428844261}\u001b[0m \u001b[36mstep\u001b[0m=\u001b[35m2000\u001b[0m\n",
      "\u001b[2m2025-04-07 09:50.34\u001b[0m [\u001b[32m\u001b[1minfo     \u001b[0m] \u001b[1mModel parameters are saved to d3rlpy_logs/BC_20250407095031/model_2000.d3\u001b[0m\n"
     ]
    },
    {
     "data": {
      "application/vnd.jupyter.widget-view+json": {
       "model_id": "368e0241182e440c9d62ed8067ace25e",
       "version_major": 2,
       "version_minor": 0
      },
      "text/plain": [
       "Epoch 3/10:   0%|          | 0/1000 [00:00<?, ?it/s]"
      ]
     },
     "metadata": {},
     "output_type": "display_data"
    },
    {
     "name": "stdout",
     "output_type": "stream",
     "text": [
      "\u001b[2m2025-04-07 09:50.36\u001b[0m [\u001b[32m\u001b[1minfo     \u001b[0m] \u001b[1mBC_20250407095031: epoch=3 step=3000\u001b[0m \u001b[36mepoch\u001b[0m=\u001b[35m3\u001b[0m \u001b[36mmetrics\u001b[0m=\u001b[35m{'time_sample_batch': 0.0005932431221008301, 'time_algorithm_update': 0.0006242425441741943, 'loss': 0.09756314815580845, 'time_step': 0.001231632947921753, 'env': 2028.498268216287}\u001b[0m \u001b[36mstep\u001b[0m=\u001b[35m3000\u001b[0m\n",
      "\u001b[2m2025-04-07 09:50.36\u001b[0m [\u001b[32m\u001b[1minfo     \u001b[0m] \u001b[1mModel parameters are saved to d3rlpy_logs/BC_20250407095031/model_3000.d3\u001b[0m\n"
     ]
    },
    {
     "data": {
      "application/vnd.jupyter.widget-view+json": {
       "model_id": "3fef2dae37fa4173ac69948fee87d60f",
       "version_major": 2,
       "version_minor": 0
      },
      "text/plain": [
       "Epoch 4/10:   0%|          | 0/1000 [00:00<?, ?it/s]"
      ]
     },
     "metadata": {},
     "output_type": "display_data"
    },
    {
     "name": "stdout",
     "output_type": "stream",
     "text": [
      "\u001b[2m2025-04-07 09:50.38\u001b[0m [\u001b[32m\u001b[1minfo     \u001b[0m] \u001b[1mBC_20250407095031: epoch=4 step=4000\u001b[0m \u001b[36mepoch\u001b[0m=\u001b[35m4\u001b[0m \u001b[36mmetrics\u001b[0m=\u001b[35m{'time_sample_batch': 0.000613410472869873, 'time_algorithm_update': 0.0006431434154510499, 'loss': 0.09678063146024943, 'time_step': 0.0012755467891693115, 'env': 3487.7231959085757}\u001b[0m \u001b[36mstep\u001b[0m=\u001b[35m4000\u001b[0m\n",
      "\u001b[2m2025-04-07 09:50.38\u001b[0m [\u001b[32m\u001b[1minfo     \u001b[0m] \u001b[1mModel parameters are saved to d3rlpy_logs/BC_20250407095031/model_4000.d3\u001b[0m\n"
     ]
    },
    {
     "data": {
      "application/vnd.jupyter.widget-view+json": {
       "model_id": "e2643db9630f41eb89c0d4acea6287db",
       "version_major": 2,
       "version_minor": 0
      },
      "text/plain": [
       "Epoch 5/10:   0%|          | 0/1000 [00:00<?, ?it/s]"
      ]
     },
     "metadata": {},
     "output_type": "display_data"
    },
    {
     "name": "stdout",
     "output_type": "stream",
     "text": [
      "\u001b[2m2025-04-07 09:50.39\u001b[0m [\u001b[32m\u001b[1minfo     \u001b[0m] \u001b[1mBC_20250407095031: epoch=5 step=5000\u001b[0m \u001b[36mepoch\u001b[0m=\u001b[35m5\u001b[0m \u001b[36mmetrics\u001b[0m=\u001b[35m{'time_sample_batch': 0.0005931143760681153, 'time_algorithm_update': 0.000586411714553833, 'loss': 0.09684043920785189, 'time_step': 0.0011939258575439453, 'env': 2906.980817689061}\u001b[0m \u001b[36mstep\u001b[0m=\u001b[35m5000\u001b[0m\n",
      "\u001b[2m2025-04-07 09:50.39\u001b[0m [\u001b[32m\u001b[1minfo     \u001b[0m] \u001b[1mModel parameters are saved to d3rlpy_logs/BC_20250407095031/model_5000.d3\u001b[0m\n"
     ]
    },
    {
     "data": {
      "application/vnd.jupyter.widget-view+json": {
       "model_id": "73fc05762ec540e78da1959cdd2f5670",
       "version_major": 2,
       "version_minor": 0
      },
      "text/plain": [
       "Epoch 6/10:   0%|          | 0/1000 [00:00<?, ?it/s]"
      ]
     },
     "metadata": {},
     "output_type": "display_data"
    },
    {
     "name": "stdout",
     "output_type": "stream",
     "text": [
      "\u001b[2m2025-04-07 09:50.41\u001b[0m [\u001b[32m\u001b[1minfo     \u001b[0m] \u001b[1mBC_20250407095031: epoch=6 step=6000\u001b[0m \u001b[36mepoch\u001b[0m=\u001b[35m6\u001b[0m \u001b[36mmetrics\u001b[0m=\u001b[35m{'time_sample_batch': 0.0005937471389770508, 'time_algorithm_update': 0.0005896284580230713, 'loss': 0.09647191342711449, 'time_step': 0.0011992058753967285, 'env': 3430.1356376729104}\u001b[0m \u001b[36mstep\u001b[0m=\u001b[35m6000\u001b[0m\n",
      "\u001b[2m2025-04-07 09:50.41\u001b[0m [\u001b[32m\u001b[1minfo     \u001b[0m] \u001b[1mModel parameters are saved to d3rlpy_logs/BC_20250407095031/model_6000.d3\u001b[0m\n"
     ]
    },
    {
     "data": {
      "application/vnd.jupyter.widget-view+json": {
       "model_id": "9be2519f7fdc470292586154565936b3",
       "version_major": 2,
       "version_minor": 0
      },
      "text/plain": [
       "Epoch 7/10:   0%|          | 0/1000 [00:00<?, ?it/s]"
      ]
     },
     "metadata": {},
     "output_type": "display_data"
    },
    {
     "name": "stdout",
     "output_type": "stream",
     "text": [
      "\u001b[2m2025-04-07 09:50.42\u001b[0m [\u001b[32m\u001b[1minfo     \u001b[0m] \u001b[1mBC_20250407095031: epoch=7 step=7000\u001b[0m \u001b[36mepoch\u001b[0m=\u001b[35m7\u001b[0m \u001b[36mmetrics\u001b[0m=\u001b[35m{'time_sample_batch': 0.0005920298099517822, 'time_algorithm_update': 0.0005809595584869385, 'loss': 0.09625664103776216, 'time_step': 0.001187568187713623, 'env': 2969.9219700931403}\u001b[0m \u001b[36mstep\u001b[0m=\u001b[35m7000\u001b[0m\n",
      "\u001b[2m2025-04-07 09:50.42\u001b[0m [\u001b[32m\u001b[1minfo     \u001b[0m] \u001b[1mModel parameters are saved to d3rlpy_logs/BC_20250407095031/model_7000.d3\u001b[0m\n"
     ]
    },
    {
     "data": {
      "application/vnd.jupyter.widget-view+json": {
       "model_id": "27747f1143624f6c8097cf5fd975add1",
       "version_major": 2,
       "version_minor": 0
      },
      "text/plain": [
       "Epoch 8/10:   0%|          | 0/1000 [00:00<?, ?it/s]"
      ]
     },
     "metadata": {},
     "output_type": "display_data"
    },
    {
     "name": "stdout",
     "output_type": "stream",
     "text": [
      "\u001b[2m2025-04-07 09:50.44\u001b[0m [\u001b[32m\u001b[1minfo     \u001b[0m] \u001b[1mBC_20250407095031: epoch=8 step=8000\u001b[0m \u001b[36mepoch\u001b[0m=\u001b[35m8\u001b[0m \u001b[36mmetrics\u001b[0m=\u001b[35m{'time_sample_batch': 0.0006138720512390137, 'time_algorithm_update': 0.0006170496940612793, 'loss': 0.09597478502988815, 'time_step': 0.0012484796047210693, 'env': 3041.2249805341603}\u001b[0m \u001b[36mstep\u001b[0m=\u001b[35m8000\u001b[0m\n",
      "\u001b[2m2025-04-07 09:50.44\u001b[0m [\u001b[32m\u001b[1minfo     \u001b[0m] \u001b[1mModel parameters are saved to d3rlpy_logs/BC_20250407095031/model_8000.d3\u001b[0m\n"
     ]
    },
    {
     "data": {
      "application/vnd.jupyter.widget-view+json": {
       "model_id": "1330d5f8699749a3b5e90320aabac2e6",
       "version_major": 2,
       "version_minor": 0
      },
      "text/plain": [
       "Epoch 9/10:   0%|          | 0/1000 [00:00<?, ?it/s]"
      ]
     },
     "metadata": {},
     "output_type": "display_data"
    },
    {
     "name": "stdout",
     "output_type": "stream",
     "text": [
      "\u001b[2m2025-04-07 09:50.46\u001b[0m [\u001b[32m\u001b[1minfo     \u001b[0m] \u001b[1mBC_20250407095031: epoch=9 step=9000\u001b[0m \u001b[36mepoch\u001b[0m=\u001b[35m9\u001b[0m \u001b[36mmetrics\u001b[0m=\u001b[35m{'time_sample_batch': 0.0005875816345214844, 'time_algorithm_update': 0.000578500509262085, 'loss': 0.09610408852249384, 'time_step': 0.0011793177127838136, 'env': 2316.8861195542713}\u001b[0m \u001b[36mstep\u001b[0m=\u001b[35m9000\u001b[0m\n",
      "\u001b[2m2025-04-07 09:50.46\u001b[0m [\u001b[32m\u001b[1minfo     \u001b[0m] \u001b[1mModel parameters are saved to d3rlpy_logs/BC_20250407095031/model_9000.d3\u001b[0m\n"
     ]
    },
    {
     "data": {
      "application/vnd.jupyter.widget-view+json": {
       "model_id": "b6e8aba3cd174c338a56126e48752aaa",
       "version_major": 2,
       "version_minor": 0
      },
      "text/plain": [
       "Epoch 10/10:   0%|          | 0/1000 [00:00<?, ?it/s]"
      ]
     },
     "metadata": {},
     "output_type": "display_data"
    },
    {
     "name": "stdout",
     "output_type": "stream",
     "text": [
      "\u001b[2m2025-04-07 09:50.47\u001b[0m [\u001b[32m\u001b[1minfo     \u001b[0m] \u001b[1mBC_20250407095031: epoch=10 step=10000\u001b[0m \u001b[36mepoch\u001b[0m=\u001b[35m10\u001b[0m \u001b[36mmetrics\u001b[0m=\u001b[35m{'time_sample_batch': 0.0006136603355407715, 'time_algorithm_update': 0.0006180744171142578, 'loss': 0.09613627146184445, 'time_step': 0.0012479488849639893, 'env': 2495.5037871943528}\u001b[0m \u001b[36mstep\u001b[0m=\u001b[35m10000\u001b[0m\n",
      "\u001b[2m2025-04-07 09:50.47\u001b[0m [\u001b[32m\u001b[1minfo     \u001b[0m] \u001b[1mModel parameters are saved to d3rlpy_logs/BC_20250407095031/model_10000.d3\u001b[0m\n"
     ]
    },
    {
     "data": {
      "text/plain": [
       "[(1,\n",
       "  {'time_sample_batch': 0.0006606235504150391,\n",
       "   'time_algorithm_update': 0.000628838062286377,\n",
       "   'loss': 0.10639423998445273,\n",
       "   'time_step': 0.0013068647384643554,\n",
       "   'env': 2617.8516269407746}),\n",
       " (2,\n",
       "  {'time_sample_batch': 0.0005909712314605713,\n",
       "   'time_algorithm_update': 0.0005823712348937988,\n",
       "   'loss': 0.09810689052194357,\n",
       "   'time_step': 0.0011873888969421388,\n",
       "   'env': 3518.544428844261}),\n",
       " (3,\n",
       "  {'time_sample_batch': 0.0005932431221008301,\n",
       "   'time_algorithm_update': 0.0006242425441741943,\n",
       "   'loss': 0.09756314815580845,\n",
       "   'time_step': 0.001231632947921753,\n",
       "   'env': 2028.498268216287}),\n",
       " (4,\n",
       "  {'time_sample_batch': 0.000613410472869873,\n",
       "   'time_algorithm_update': 0.0006431434154510499,\n",
       "   'loss': 0.09678063146024943,\n",
       "   'time_step': 0.0012755467891693115,\n",
       "   'env': 3487.7231959085757}),\n",
       " (5,\n",
       "  {'time_sample_batch': 0.0005931143760681153,\n",
       "   'time_algorithm_update': 0.000586411714553833,\n",
       "   'loss': 0.09684043920785189,\n",
       "   'time_step': 0.0011939258575439453,\n",
       "   'env': 2906.980817689061}),\n",
       " (6,\n",
       "  {'time_sample_batch': 0.0005937471389770508,\n",
       "   'time_algorithm_update': 0.0005896284580230713,\n",
       "   'loss': 0.09647191342711449,\n",
       "   'time_step': 0.0011992058753967285,\n",
       "   'env': 3430.1356376729104}),\n",
       " (7,\n",
       "  {'time_sample_batch': 0.0005920298099517822,\n",
       "   'time_algorithm_update': 0.0005809595584869385,\n",
       "   'loss': 0.09625664103776216,\n",
       "   'time_step': 0.001187568187713623,\n",
       "   'env': 2969.9219700931403}),\n",
       " (8,\n",
       "  {'time_sample_batch': 0.0006138720512390137,\n",
       "   'time_algorithm_update': 0.0006170496940612793,\n",
       "   'loss': 0.09597478502988815,\n",
       "   'time_step': 0.0012484796047210693,\n",
       "   'env': 3041.2249805341603}),\n",
       " (9,\n",
       "  {'time_sample_batch': 0.0005875816345214844,\n",
       "   'time_algorithm_update': 0.000578500509262085,\n",
       "   'loss': 0.09610408852249384,\n",
       "   'time_step': 0.0011793177127838136,\n",
       "   'env': 2316.8861195542713}),\n",
       " (10,\n",
       "  {'time_sample_batch': 0.0006136603355407715,\n",
       "   'time_algorithm_update': 0.0006180744171142578,\n",
       "   'loss': 0.09613627146184445,\n",
       "   'time_step': 0.0012479488849639893,\n",
       "   'env': 2495.5037871943528})]"
      ]
     },
     "execution_count": 36,
     "metadata": {},
     "output_type": "execute_result"
    }
   ],
   "source": [
    "env = dataset.recover_environment()\n",
    "\n",
    "bc.fit(\n",
    "    dataset=d3_dataset,\n",
    "    n_steps=10000,\n",
    "    n_steps_per_epoch=1000,\n",
    "    evaluators={\"env\": EnvironmentEvaluator(env)},\n",
    ")"
   ]
  },
  {
   "cell_type": "code",
   "execution_count": 41,
   "id": "5dfa0afc-7a8c-48c0-9198-9779a788ec6f",
   "metadata": {},
   "outputs": [
    {
     "name": "stdout",
     "output_type": "stream",
     "text": [
      "Reward totale: 59847.596286878754\n"
     ]
    }
   ],
   "source": [
    "env = dataset.recover_environment(render_mode=\"human\", camera_id=2)\n",
    "obs, _ = env.reset()\n",
    "done = False\n",
    "total_reward = 0\n",
    "\n",
    "for _ in range(1000):\n",
    "    action = bc.predict(obs[None])[0]\n",
    "    obs, reward, terminated, truncated, _ = env.step(action)\n",
    "    total_reward += reward\n",
    "    if terminated:\n",
    "        break\n",
    "\n",
    "env.close()\n",
    "print(f\"Reward totale: {total_reward}\")"
   ]
  },
  {
   "cell_type": "markdown",
   "id": "f2e4d6c5-327c-4fd7-bdd7-a35870e89f1d",
   "metadata": {},
   "source": [
    "# TD3 + BC"
   ]
  },
  {
   "cell_type": "code",
   "execution_count": 43,
   "id": "3c0b24d6-73a9-43a3-bec5-b959f4fd332b",
   "metadata": {},
   "outputs": [],
   "source": [
    "td3bc = TD3PlusBCConfig().create(device=\"cpu\")"
   ]
  },
  {
   "cell_type": "code",
   "execution_count": 44,
   "id": "79744949-f12f-4a87-9f80-2fa45f2dd8d5",
   "metadata": {},
   "outputs": [],
   "source": [
    "td3bc.build_with_dataset(d3_dataset)"
   ]
  },
  {
   "cell_type": "code",
   "execution_count": 45,
   "id": "5073b650-ca61-46be-b7d3-412e1755f9b2",
   "metadata": {
    "collapsed": true,
    "jupyter": {
     "outputs_hidden": true
    }
   },
   "outputs": [
    {
     "name": "stdout",
     "output_type": "stream",
     "text": [
      "\u001b[2m2025-04-07 09:54.34\u001b[0m [\u001b[32m\u001b[1minfo     \u001b[0m] \u001b[1mdataset info                  \u001b[0m \u001b[36mdataset_info\u001b[0m=\u001b[35mDatasetInfo(observation_signature=Signature(dtype=[dtype('float64')], shape=[(45,)]), action_signature=Signature(dtype=[dtype('float32')], shape=[(24,)]), reward_signature=Signature(dtype=[dtype('float64')], shape=[(1,)]), action_space=<ActionSpace.CONTINUOUS: 1>, action_size=24)\u001b[0m\n",
      "\u001b[2m2025-04-07 09:54.34\u001b[0m [\u001b[33m\u001b[1mwarning  \u001b[0m] \u001b[1mSkip building models since they're already built.\u001b[0m\n",
      "\u001b[2m2025-04-07 09:54.34\u001b[0m [\u001b[32m\u001b[1minfo     \u001b[0m] \u001b[1mDirectory is created at d3rlpy_logs/TD3PlusBC_20250407095434\u001b[0m\n",
      "\u001b[2m2025-04-07 09:54.34\u001b[0m [\u001b[32m\u001b[1minfo     \u001b[0m] \u001b[1mParameters                    \u001b[0m \u001b[36mparams\u001b[0m=\u001b[35m{'observation_shape': [45], 'action_size': 24, 'config': {'type': 'td3_plus_bc', 'params': {'batch_size': 256, 'gamma': 0.99, 'observation_scaler': {'type': 'none', 'params': {}}, 'action_scaler': {'type': 'none', 'params': {}}, 'reward_scaler': {'type': 'none', 'params': {}}, 'compile_graph': False, 'actor_learning_rate': 0.0003, 'critic_learning_rate': 0.0003, 'actor_optim_factory': {'type': 'adam', 'params': {'clip_grad_norm': None, 'lr_scheduler_factory': {'type': 'none', 'params': {}}, 'betas': [0.9, 0.999], 'eps': 1e-08, 'weight_decay': 0, 'amsgrad': False}}, 'critic_optim_factory': {'type': 'adam', 'params': {'clip_grad_norm': None, 'lr_scheduler_factory': {'type': 'none', 'params': {}}, 'betas': [0.9, 0.999], 'eps': 1e-08, 'weight_decay': 0, 'amsgrad': False}}, 'actor_encoder_factory': {'type': 'default', 'params': {'activation': 'relu', 'use_batch_norm': False, 'dropout_rate': None}}, 'critic_encoder_factory': {'type': 'default', 'params': {'activation': 'relu', 'use_batch_norm': False, 'dropout_rate': None}}, 'q_func_factory': {'type': 'mean', 'params': {'share_encoder': False}}, 'tau': 0.005, 'n_critics': 2, 'target_smoothing_sigma': 0.2, 'target_smoothing_clip': 0.5, 'alpha': 2.5, 'update_actor_interval': 2}}}\u001b[0m\n"
     ]
    },
    {
     "data": {
      "application/vnd.jupyter.widget-view+json": {
       "model_id": "ad6c776555b14822b05a65b455c13070",
       "version_major": 2,
       "version_minor": 0
      },
      "text/plain": [
       "Epoch 1/10:   0%|          | 0/1000 [00:00<?, ?it/s]"
      ]
     },
     "metadata": {},
     "output_type": "display_data"
    },
    {
     "name": "stdout",
     "output_type": "stream",
     "text": [
      "\u001b[2m2025-04-07 09:54.39\u001b[0m [\u001b[32m\u001b[1minfo     \u001b[0m] \u001b[1mTD3PlusBC_20250407095434: epoch=1 step=1000\u001b[0m \u001b[36mepoch\u001b[0m=\u001b[35m1\u001b[0m \u001b[36mmetrics\u001b[0m=\u001b[35m{'time_sample_batch': 0.0016341910362243652, 'time_algorithm_update': 0.003619870901107788, 'critic_loss': 677.8931263122558, 'actor_loss': -2.057920249223709, 'bc_loss': 0.44182866632938383, 'time_step': 0.005290372610092163, 'env': 25.081717289435858}\u001b[0m \u001b[36mstep\u001b[0m=\u001b[35m1000\u001b[0m\n",
      "\u001b[2m2025-04-07 09:54.39\u001b[0m [\u001b[32m\u001b[1minfo     \u001b[0m] \u001b[1mModel parameters are saved to d3rlpy_logs/TD3PlusBC_20250407095434/model_1000.d3\u001b[0m\n"
     ]
    },
    {
     "data": {
      "application/vnd.jupyter.widget-view+json": {
       "model_id": "e5ee0111c3dc4563ba309cc4d543b279",
       "version_major": 2,
       "version_minor": 0
      },
      "text/plain": [
       "Epoch 2/10:   0%|          | 0/1000 [00:00<?, ?it/s]"
      ]
     },
     "metadata": {},
     "output_type": "display_data"
    },
    {
     "name": "stdout",
     "output_type": "stream",
     "text": [
      "\u001b[2m2025-04-07 09:54.46\u001b[0m [\u001b[32m\u001b[1minfo     \u001b[0m] \u001b[1mTD3PlusBC_20250407095434: epoch=2 step=2000\u001b[0m \u001b[36mepoch\u001b[0m=\u001b[35m2\u001b[0m \u001b[36mmetrics\u001b[0m=\u001b[35m{'time_sample_batch': 0.0016969678401947022, 'time_algorithm_update': 0.004318328142166138, 'critic_loss': 812.1644007720947, 'actor_loss': -2.307586257457733, 'bc_loss': 0.18955203637480736, 'time_step': 0.0060540554523468015, 'env': 254.08299282699954}\u001b[0m \u001b[36mstep\u001b[0m=\u001b[35m2000\u001b[0m\n",
      "\u001b[2m2025-04-07 09:54.46\u001b[0m [\u001b[32m\u001b[1minfo     \u001b[0m] \u001b[1mModel parameters are saved to d3rlpy_logs/TD3PlusBC_20250407095434/model_2000.d3\u001b[0m\n"
     ]
    },
    {
     "data": {
      "application/vnd.jupyter.widget-view+json": {
       "model_id": "7e87c2638eaf4a2b93427fb4c5b47235",
       "version_major": 2,
       "version_minor": 0
      },
      "text/plain": [
       "Epoch 3/10:   0%|          | 0/1000 [00:00<?, ?it/s]"
      ]
     },
     "metadata": {},
     "output_type": "display_data"
    },
    {
     "name": "stdout",
     "output_type": "stream",
     "text": [
      "\u001b[2m2025-04-07 09:54.52\u001b[0m [\u001b[32m\u001b[1minfo     \u001b[0m] \u001b[1mTD3PlusBC_20250407095434: epoch=3 step=3000\u001b[0m \u001b[36mepoch\u001b[0m=\u001b[35m3\u001b[0m \u001b[36mmetrics\u001b[0m=\u001b[35m{'time_sample_batch': 0.0016006903648376465, 'time_algorithm_update': 0.0037991657257080078, 'critic_loss': 1875.3501327514648, 'actor_loss': -2.339436363220215, 'bc_loss': 0.1587618647515774, 'time_step': 0.0054336261749267575, 'env': 517.566570717139}\u001b[0m \u001b[36mstep\u001b[0m=\u001b[35m3000\u001b[0m\n",
      "\u001b[2m2025-04-07 09:54.52\u001b[0m [\u001b[32m\u001b[1minfo     \u001b[0m] \u001b[1mModel parameters are saved to d3rlpy_logs/TD3PlusBC_20250407095434/model_3000.d3\u001b[0m\n"
     ]
    },
    {
     "data": {
      "application/vnd.jupyter.widget-view+json": {
       "model_id": "32322fcf8be045a2ba1f4903b73e5cb1",
       "version_major": 2,
       "version_minor": 0
      },
      "text/plain": [
       "Epoch 4/10:   0%|          | 0/1000 [00:00<?, ?it/s]"
      ]
     },
     "metadata": {},
     "output_type": "display_data"
    },
    {
     "name": "stdout",
     "output_type": "stream",
     "text": [
      "\u001b[2m2025-04-07 09:54.57\u001b[0m [\u001b[32m\u001b[1minfo     \u001b[0m] \u001b[1mTD3PlusBC_20250407095434: epoch=4 step=4000\u001b[0m \u001b[36mepoch\u001b[0m=\u001b[35m4\u001b[0m \u001b[36mmetrics\u001b[0m=\u001b[35m{'time_sample_batch': 0.0015545170307159424, 'time_algorithm_update': 0.0035663602352142333, 'critic_loss': 3618.996870025635, 'actor_loss': -2.347216776371002, 'bc_loss': 0.15163418546319007, 'time_step': 0.0051541953086853024, 'env': 189.48289926769175}\u001b[0m \u001b[36mstep\u001b[0m=\u001b[35m4000\u001b[0m\n",
      "\u001b[2m2025-04-07 09:54.57\u001b[0m [\u001b[32m\u001b[1minfo     \u001b[0m] \u001b[1mModel parameters are saved to d3rlpy_logs/TD3PlusBC_20250407095434/model_4000.d3\u001b[0m\n"
     ]
    },
    {
     "data": {
      "application/vnd.jupyter.widget-view+json": {
       "model_id": "278f7f80d1cc44bea8be65d47cfab87c",
       "version_major": 2,
       "version_minor": 0
      },
      "text/plain": [
       "Epoch 5/10:   0%|          | 0/1000 [00:00<?, ?it/s]"
      ]
     },
     "metadata": {},
     "output_type": "display_data"
    },
    {
     "name": "stdout",
     "output_type": "stream",
     "text": [
      "\u001b[2m2025-04-07 09:55.03\u001b[0m [\u001b[32m\u001b[1minfo     \u001b[0m] \u001b[1mTD3PlusBC_20250407095434: epoch=5 step=5000\u001b[0m \u001b[36mepoch\u001b[0m=\u001b[35m5\u001b[0m \u001b[36mmetrics\u001b[0m=\u001b[35m{'time_sample_batch': 0.0015469982624053955, 'time_algorithm_update': 0.0034670670032501223, 'critic_loss': 5997.99176171875, 'actor_loss': -2.3539725036621095, 'bc_loss': 0.14530336844921113, 'time_step': 0.0050465683937072755, 'env': 1424.536695643879}\u001b[0m \u001b[36mstep\u001b[0m=\u001b[35m5000\u001b[0m\n",
      "\u001b[2m2025-04-07 09:55.03\u001b[0m [\u001b[32m\u001b[1minfo     \u001b[0m] \u001b[1mModel parameters are saved to d3rlpy_logs/TD3PlusBC_20250407095434/model_5000.d3\u001b[0m\n"
     ]
    },
    {
     "data": {
      "application/vnd.jupyter.widget-view+json": {
       "model_id": "7530ed5b51e34501af4ae9c4a756a9a9",
       "version_major": 2,
       "version_minor": 0
      },
      "text/plain": [
       "Epoch 6/10:   0%|          | 0/1000 [00:00<?, ?it/s]"
      ]
     },
     "metadata": {},
     "output_type": "display_data"
    },
    {
     "name": "stdout",
     "output_type": "stream",
     "text": [
      "\u001b[2m2025-04-07 09:55.09\u001b[0m [\u001b[32m\u001b[1minfo     \u001b[0m] \u001b[1mTD3PlusBC_20250407095434: epoch=6 step=6000\u001b[0m \u001b[36mepoch\u001b[0m=\u001b[35m6\u001b[0m \u001b[36mmetrics\u001b[0m=\u001b[35m{'time_sample_batch': 0.0016023187637329102, 'time_algorithm_update': 0.0038863098621368408, 'critic_loss': 8941.362687469482, 'actor_loss': -2.3555412368774413, 'bc_loss': 0.14386986243724822, 'time_step': 0.005524063110351562, 'env': 709.6473905673253}\u001b[0m \u001b[36mstep\u001b[0m=\u001b[35m6000\u001b[0m\n",
      "\u001b[2m2025-04-07 09:55.09\u001b[0m [\u001b[32m\u001b[1minfo     \u001b[0m] \u001b[1mModel parameters are saved to d3rlpy_logs/TD3PlusBC_20250407095434/model_6000.d3\u001b[0m\n"
     ]
    },
    {
     "data": {
      "application/vnd.jupyter.widget-view+json": {
       "model_id": "344594a44ce047df96978662d17fc549",
       "version_major": 2,
       "version_minor": 0
      },
      "text/plain": [
       "Epoch 7/10:   0%|          | 0/1000 [00:00<?, ?it/s]"
      ]
     },
     "metadata": {},
     "output_type": "display_data"
    },
    {
     "name": "stdout",
     "output_type": "stream",
     "text": [
      "\u001b[2m2025-04-07 09:55.16\u001b[0m [\u001b[32m\u001b[1minfo     \u001b[0m] \u001b[1mTD3PlusBC_20250407095434: epoch=7 step=7000\u001b[0m \u001b[36mepoch\u001b[0m=\u001b[35m7\u001b[0m \u001b[36mmetrics\u001b[0m=\u001b[35m{'time_sample_batch': 0.0017428624629974366, 'time_algorithm_update': 0.00450113582611084, 'critic_loss': 12277.063099182129, 'actor_loss': -2.3561470046043396, 'bc_loss': 0.14320240366458892, 'time_step': 0.006277882337570191, 'env': 1217.860199508645}\u001b[0m \u001b[36mstep\u001b[0m=\u001b[35m7000\u001b[0m\n",
      "\u001b[2m2025-04-07 09:55.16\u001b[0m [\u001b[32m\u001b[1minfo     \u001b[0m] \u001b[1mModel parameters are saved to d3rlpy_logs/TD3PlusBC_20250407095434/model_7000.d3\u001b[0m\n"
     ]
    },
    {
     "data": {
      "application/vnd.jupyter.widget-view+json": {
       "model_id": "93d38927fdd04038baffa1468c5ae1a1",
       "version_major": 2,
       "version_minor": 0
      },
      "text/plain": [
       "Epoch 8/10:   0%|          | 0/1000 [00:00<?, ?it/s]"
      ]
     },
     "metadata": {},
     "output_type": "display_data"
    },
    {
     "name": "stdout",
     "output_type": "stream",
     "text": [
      "\u001b[2m2025-04-07 09:55.22\u001b[0m [\u001b[32m\u001b[1minfo     \u001b[0m] \u001b[1mTD3PlusBC_20250407095434: epoch=8 step=8000\u001b[0m \u001b[36mepoch\u001b[0m=\u001b[35m8\u001b[0m \u001b[36mmetrics\u001b[0m=\u001b[35m{'time_sample_batch': 0.001634397268295288, 'time_algorithm_update': 0.004120930910110474, 'critic_loss': 15581.037137268066, 'actor_loss': -2.3575564465522767, 'bc_loss': 0.14193287935853005, 'time_step': 0.0057871718406677245, 'env': 1111.8460099816907}\u001b[0m \u001b[36mstep\u001b[0m=\u001b[35m8000\u001b[0m\n",
      "\u001b[2m2025-04-07 09:55.22\u001b[0m [\u001b[32m\u001b[1minfo     \u001b[0m] \u001b[1mModel parameters are saved to d3rlpy_logs/TD3PlusBC_20250407095434/model_8000.d3\u001b[0m\n"
     ]
    },
    {
     "data": {
      "application/vnd.jupyter.widget-view+json": {
       "model_id": "1b55df38e7d3481c86af744f52efa0cb",
       "version_major": 2,
       "version_minor": 0
      },
      "text/plain": [
       "Epoch 9/10:   0%|          | 0/1000 [00:00<?, ?it/s]"
      ]
     },
     "metadata": {},
     "output_type": "display_data"
    },
    {
     "name": "stdout",
     "output_type": "stream",
     "text": [
      "\u001b[2m2025-04-07 09:55.28\u001b[0m [\u001b[32m\u001b[1minfo     \u001b[0m] \u001b[1mTD3PlusBC_20250407095434: epoch=9 step=9000\u001b[0m \u001b[36mepoch\u001b[0m=\u001b[35m9\u001b[0m \u001b[36mmetrics\u001b[0m=\u001b[35m{'time_sample_batch': 0.0016840426921844482, 'time_algorithm_update': 0.004356842279434204, 'critic_loss': 20406.089936340333, 'actor_loss': -2.3565680599212646, 'bc_loss': 0.14288178727030754, 'time_step': 0.006075936317443848, 'env': 212.47088908348474}\u001b[0m \u001b[36mstep\u001b[0m=\u001b[35m9000\u001b[0m\n",
      "\u001b[2m2025-04-07 09:55.28\u001b[0m [\u001b[32m\u001b[1minfo     \u001b[0m] \u001b[1mModel parameters are saved to d3rlpy_logs/TD3PlusBC_20250407095434/model_9000.d3\u001b[0m\n"
     ]
    },
    {
     "data": {
      "application/vnd.jupyter.widget-view+json": {
       "model_id": "dd3b9aae73154c5496f22318e4cddbcb",
       "version_major": 2,
       "version_minor": 0
      },
      "text/plain": [
       "Epoch 10/10:   0%|          | 0/1000 [00:00<?, ?it/s]"
      ]
     },
     "metadata": {},
     "output_type": "display_data"
    },
    {
     "name": "stdout",
     "output_type": "stream",
     "text": [
      "\u001b[2m2025-04-07 09:55.34\u001b[0m [\u001b[32m\u001b[1minfo     \u001b[0m] \u001b[1mTD3PlusBC_20250407095434: epoch=10 step=10000\u001b[0m \u001b[36mepoch\u001b[0m=\u001b[35m10\u001b[0m \u001b[36mmetrics\u001b[0m=\u001b[35m{'time_sample_batch': 0.001544571876525879, 'time_algorithm_update': 0.003459683656692505, 'critic_loss': 25075.283450073242, 'actor_loss': -2.3554778652191164, 'bc_loss': 0.14416065487265586, 'time_step': 0.005035207986831665, 'env': 856.5322604740846}\u001b[0m \u001b[36mstep\u001b[0m=\u001b[35m10000\u001b[0m\n",
      "\u001b[2m2025-04-07 09:55.34\u001b[0m [\u001b[32m\u001b[1minfo     \u001b[0m] \u001b[1mModel parameters are saved to d3rlpy_logs/TD3PlusBC_20250407095434/model_10000.d3\u001b[0m\n"
     ]
    },
    {
     "data": {
      "text/plain": [
       "[(1,\n",
       "  {'time_sample_batch': 0.0016341910362243652,\n",
       "   'time_algorithm_update': 0.003619870901107788,\n",
       "   'critic_loss': 677.8931263122558,\n",
       "   'actor_loss': -2.057920249223709,\n",
       "   'bc_loss': 0.44182866632938383,\n",
       "   'time_step': 0.005290372610092163,\n",
       "   'env': 25.081717289435858}),\n",
       " (2,\n",
       "  {'time_sample_batch': 0.0016969678401947022,\n",
       "   'time_algorithm_update': 0.004318328142166138,\n",
       "   'critic_loss': 812.1644007720947,\n",
       "   'actor_loss': -2.307586257457733,\n",
       "   'bc_loss': 0.18955203637480736,\n",
       "   'time_step': 0.0060540554523468015,\n",
       "   'env': 254.08299282699954}),\n",
       " (3,\n",
       "  {'time_sample_batch': 0.0016006903648376465,\n",
       "   'time_algorithm_update': 0.0037991657257080078,\n",
       "   'critic_loss': 1875.3501327514648,\n",
       "   'actor_loss': -2.339436363220215,\n",
       "   'bc_loss': 0.1587618647515774,\n",
       "   'time_step': 0.0054336261749267575,\n",
       "   'env': 517.566570717139}),\n",
       " (4,\n",
       "  {'time_sample_batch': 0.0015545170307159424,\n",
       "   'time_algorithm_update': 0.0035663602352142333,\n",
       "   'critic_loss': 3618.996870025635,\n",
       "   'actor_loss': -2.347216776371002,\n",
       "   'bc_loss': 0.15163418546319007,\n",
       "   'time_step': 0.0051541953086853024,\n",
       "   'env': 189.48289926769175}),\n",
       " (5,\n",
       "  {'time_sample_batch': 0.0015469982624053955,\n",
       "   'time_algorithm_update': 0.0034670670032501223,\n",
       "   'critic_loss': 5997.99176171875,\n",
       "   'actor_loss': -2.3539725036621095,\n",
       "   'bc_loss': 0.14530336844921113,\n",
       "   'time_step': 0.0050465683937072755,\n",
       "   'env': 1424.536695643879}),\n",
       " (6,\n",
       "  {'time_sample_batch': 0.0016023187637329102,\n",
       "   'time_algorithm_update': 0.0038863098621368408,\n",
       "   'critic_loss': 8941.362687469482,\n",
       "   'actor_loss': -2.3555412368774413,\n",
       "   'bc_loss': 0.14386986243724822,\n",
       "   'time_step': 0.005524063110351562,\n",
       "   'env': 709.6473905673253}),\n",
       " (7,\n",
       "  {'time_sample_batch': 0.0017428624629974366,\n",
       "   'time_algorithm_update': 0.00450113582611084,\n",
       "   'critic_loss': 12277.063099182129,\n",
       "   'actor_loss': -2.3561470046043396,\n",
       "   'bc_loss': 0.14320240366458892,\n",
       "   'time_step': 0.006277882337570191,\n",
       "   'env': 1217.860199508645}),\n",
       " (8,\n",
       "  {'time_sample_batch': 0.001634397268295288,\n",
       "   'time_algorithm_update': 0.004120930910110474,\n",
       "   'critic_loss': 15581.037137268066,\n",
       "   'actor_loss': -2.3575564465522767,\n",
       "   'bc_loss': 0.14193287935853005,\n",
       "   'time_step': 0.0057871718406677245,\n",
       "   'env': 1111.8460099816907}),\n",
       " (9,\n",
       "  {'time_sample_batch': 0.0016840426921844482,\n",
       "   'time_algorithm_update': 0.004356842279434204,\n",
       "   'critic_loss': 20406.089936340333,\n",
       "   'actor_loss': -2.3565680599212646,\n",
       "   'bc_loss': 0.14288178727030754,\n",
       "   'time_step': 0.006075936317443848,\n",
       "   'env': 212.47088908348474}),\n",
       " (10,\n",
       "  {'time_sample_batch': 0.001544571876525879,\n",
       "   'time_algorithm_update': 0.003459683656692505,\n",
       "   'critic_loss': 25075.283450073242,\n",
       "   'actor_loss': -2.3554778652191164,\n",
       "   'bc_loss': 0.14416065487265586,\n",
       "   'time_step': 0.005035207986831665,\n",
       "   'env': 856.5322604740846})]"
      ]
     },
     "execution_count": 45,
     "metadata": {},
     "output_type": "execute_result"
    }
   ],
   "source": [
    "env = dataset.recover_environment()\n",
    "\n",
    "td3bc.fit(\n",
    "    dataset=d3_dataset,\n",
    "    n_steps=10000,\n",
    "    n_steps_per_epoch=1000,\n",
    "    evaluators={\"env\": EnvironmentEvaluator(env)},\n",
    ")"
   ]
  },
  {
   "cell_type": "code",
   "execution_count": 50,
   "id": "fd244e62-d8d4-4aab-a17e-8aaf1bd128a1",
   "metadata": {},
   "outputs": [
    {
     "name": "stdout",
     "output_type": "stream",
     "text": [
      "Reward totale: 866.3860965817254\n"
     ]
    }
   ],
   "source": [
    "env = dataset.recover_environment(render_mode=\"human\", camera_id=2)\n",
    "obs, _ = env.reset()\n",
    "done = False\n",
    "total_reward = 0\n",
    "\n",
    "for _ in range(1000):\n",
    "    action = td3bc.predict(obs[None])[0]\n",
    "    obs, reward, terminated, truncated, _ = env.step(action)\n",
    "    total_reward += reward\n",
    "    if terminated:\n",
    "        break\n",
    "\n",
    "env.close()\n",
    "print(f\"Reward totale: {total_reward}\")"
   ]
  },
  {
   "cell_type": "code",
   "execution_count": null,
   "id": "8b21e886-b891-4df7-965c-2759eea872c9",
   "metadata": {},
   "outputs": [],
   "source": []
  }
 ],
 "metadata": {
  "kernelspec": {
   "display_name": "Python 3 (ipykernel)",
   "language": "python",
   "name": "python3"
  },
  "language_info": {
   "codemirror_mode": {
    "name": "ipython",
    "version": 3
   },
   "file_extension": ".py",
   "mimetype": "text/x-python",
   "name": "python",
   "nbconvert_exporter": "python",
   "pygments_lexer": "ipython3",
   "version": "3.10.16"
  }
 },
 "nbformat": 4,
 "nbformat_minor": 5
}

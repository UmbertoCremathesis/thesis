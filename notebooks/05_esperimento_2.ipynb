{
 "cells": [
  {
   "cell_type": "code",
   "execution_count": 9,
   "id": "0fef0972-d97c-4a21-a8ea-b0d51f93277f",
   "metadata": {},
   "outputs": [],
   "source": [
    "import minari\n",
    "import d3rlpy\n",
    "import copy\n",
    "import os"
   ]
  },
  {
   "cell_type": "markdown",
   "id": "b5866856-245a-4094-bcd6-4dfbd80880aa",
   "metadata": {},
   "source": [
    "# Parameters of the experiments"
   ]
  },
  {
   "cell_type": "code",
   "execution_count": 2,
   "id": "f3693211-97b2-46a6-a73f-4bc786ff87a8",
   "metadata": {},
   "outputs": [],
   "source": [
    "# Number of episodes during the testing phase\n",
    "N = 50\n",
    "\n",
    "n_steps = 1000\n",
    "n_steps_per_epoch = 100\n",
    "save_interval = 1\n",
    "\n",
    "# Delay between one step of the episode and the next in simulation\n",
    "delay = 0.01"
   ]
  },
  {
   "cell_type": "markdown",
   "id": "a142aae8-b34b-4e76-905f-302cb5663fc9",
   "metadata": {},
   "source": [
    "# Loading and preparation of datasets"
   ]
  },
  {
   "cell_type": "code",
   "execution_count": 3,
   "id": "bbfa420e-164b-46d5-a5ec-8b574de30954",
   "metadata": {},
   "outputs": [],
   "source": [
    "pen_env = minari.load_dataset(\"D4RL/pen/expert-v2\").recover_environment()\n",
    "relocate_env = minari.load_dataset(\"D4RL/relocate/expert-v2\").recover_environment()\n",
    "hammer_env = minari.load_dataset(\"D4RL/hammer/expert-v2\").recover_environment()\n",
    "door_env = minari.load_dataset(\"D4RL/door/expert-v2\").recover_environment()"
   ]
  },
  {
   "cell_type": "markdown",
   "id": "db64dfd2-73ee-4de5-8ddb-5ea3e6d4be31",
   "metadata": {},
   "source": [
    "# Loading saved policies"
   ]
  },
  {
   "cell_type": "markdown",
   "id": "4965c3da-d384-40aa-90e3-1d8dbad27f78",
   "metadata": {},
   "source": [
    "### Pen"
   ]
  },
  {
   "cell_type": "code",
   "execution_count": 4,
   "id": "a691621b-a264-4008-b958-a8e8a092fa25",
   "metadata": {},
   "outputs": [],
   "source": [
    "pen_iql = d3rlpy.load_learnable(\"policies/offline/pen_iql.d3\")\n",
    "pen_cql = d3rlpy.load_learnable(\"policies/offline/pen_cql.d3\")\n",
    "pen_bc = d3rlpy.load_learnable(\"policies/offline/pen_bc.d3\")\n",
    "pen_td3bc = d3rlpy.load_learnable(\"policies/offline/pen_td3bc.d3\")\n",
    "pen_awac = d3rlpy.load_learnable(\"policies/offline/pen_awac.d3\")"
   ]
  },
  {
   "cell_type": "markdown",
   "id": "12d83e98-20ec-4d2c-ad31-45939b95d7ce",
   "metadata": {},
   "source": [
    "### Relocate"
   ]
  },
  {
   "cell_type": "code",
   "execution_count": 5,
   "id": "e2213953-cd39-4c16-b51e-33662f2f8178",
   "metadata": {},
   "outputs": [],
   "source": [
    "relocate_iql = d3rlpy.load_learnable(\"policies/offline/relocate_iql.d3\")\n",
    "relocate_cql = d3rlpy.load_learnable(\"policies/offline/relocate_cql.d3\")\n",
    "relocate_bc = d3rlpy.load_learnable(\"policies/offline/relocate_bc.d3\")\n",
    "relocate_td3bc = d3rlpy.load_learnable(\"policies/offline/relocate_td3bc.d3\")\n",
    "relocate_awac = d3rlpy.load_learnable(\"policies/offline/relocate_awac.d3\")"
   ]
  },
  {
   "cell_type": "markdown",
   "id": "c1f7df94-671d-4533-808b-19c811bde3c0",
   "metadata": {},
   "source": [
    "### hammer"
   ]
  },
  {
   "cell_type": "code",
   "execution_count": 6,
   "id": "0868f8d9-5f4a-4f64-8284-922e3587275a",
   "metadata": {},
   "outputs": [],
   "source": [
    "hammer_iql = d3rlpy.load_learnable(\"policies/offline/hammer_iql.d3\")\n",
    "hammer_cql = d3rlpy.load_learnable(\"policies/offline/hammer_cql.d3\")\n",
    "hammer_bc = d3rlpy.load_learnable(\"policies/offline/hammer_bc.d3\")\n",
    "hammer_td3bc = d3rlpy.load_learnable(\"policies/offline/hammer_td3bc.d3\")\n",
    "hammer_awac = d3rlpy.load_learnable(\"policies/offline/hammer_awac.d3\")"
   ]
  },
  {
   "cell_type": "markdown",
   "id": "a2fab38f-7c73-4016-9ae3-347530230b3f",
   "metadata": {},
   "source": [
    "### Door"
   ]
  },
  {
   "cell_type": "code",
   "execution_count": 7,
   "id": "f970a8e1-04fb-47cf-81c4-2b98982daff3",
   "metadata": {},
   "outputs": [],
   "source": [
    "door_iql = d3rlpy.load_learnable(\"policies/offline/door_iql.d3\")\n",
    "door_cql = d3rlpy.load_learnable(\"policies/offline/door_cql.d3\")\n",
    "door_bc = d3rlpy.load_learnable(\"policies/offline/door_bc.d3\")\n",
    "door_td3bc = d3rlpy.load_learnable(\"policies/offline/door_td3bc.d3\")\n",
    "door_awac = d3rlpy.load_learnable(\"policies/offline/door_awac.d3\")"
   ]
  },
  {
   "cell_type": "markdown",
   "id": "0abaf525-e354-4676-819f-07edee77bd83",
   "metadata": {},
   "source": [
    "# Creation of folders for policies and logs"
   ]
  },
  {
   "cell_type": "code",
   "execution_count": 10,
   "id": "9fecef25-4edf-4741-994a-5093c91af8a0",
   "metadata": {},
   "outputs": [
    {
     "name": "stdout",
     "output_type": "stream",
     "text": [
      "Created: policies/finetuning\n",
      "Already exists: training_logs/finetuning/pen\n",
      "Created: training_logs/finetuning/relocate\n",
      "Created: training_logs/finetuning/hammer\n",
      "Created: training_logs/finetuning/door\n"
     ]
    }
   ],
   "source": [
    "# Create policies/finetuning\n",
    "policies_path = os.path.join(\"policies\", \"finetuning\")\n",
    "if not os.path.exists(policies_path):\n",
    "    os.makedirs(policies_path)\n",
    "    print(f\"Created: {policies_path}\")\n",
    "else:\n",
    "    print(f\"Already exists: {policies_path}\")\n",
    "\n",
    "# Create training_logs/offline/{task}\n",
    "training_base = os.path.join(\"training_logs\", \"finetuning\")\n",
    "task_dirs = [\"pen\", \"relocate\", \"hammer\", \"door\"]\n",
    "\n",
    "for task in task_dirs:\n",
    "    task_path = os.path.join(training_base, task)\n",
    "    if not os.path.exists(task_path):\n",
    "        os.makedirs(task_path)\n",
    "        print(f\"Created: {task_path}\")\n",
    "    else:\n",
    "        print(f\"Already exists: {task_path}\")"
   ]
  },
  {
   "cell_type": "markdown",
   "id": "7b15a296-250c-46d9-be91-5637fc81d26f",
   "metadata": {},
   "source": [
    "# Finetuning Algorithm"
   ]
  },
  {
   "cell_type": "code",
   "execution_count": 11,
   "id": "0e701e46-c837-41c8-98e7-751a1e68eae6",
   "metadata": {},
   "outputs": [],
   "source": [
    "def finetune_algorithm(algo, env, filename, task):\n",
    "\n",
    "    buffer = d3rlpy.dataset.create_fifo_replay_buffer(limit=10000, env=env) #limit=10000\n",
    "\n",
    "    algo.fit_online(\n",
    "        env,\n",
    "        buffer=buffer,\n",
    "        n_steps=n_steps,\n",
    "        n_steps_per_epoch=n_steps_per_epoch, \n",
    "        save_interval=save_interval,\n",
    "        eval_env = copy.deepcopy(env),\n",
    "        logger_adapter=d3rlpy.logging.FileAdapterFactory(root_dir=f\"training_logs/finetuning/{task}\"),\n",
    "    )\n",
    "\n",
    "    algo.save(f'policies/finetuning/{filename}.d3')"
   ]
  },
  {
   "cell_type": "markdown",
   "id": "9966af6c-26f0-4595-b9c8-f6c79ac33857",
   "metadata": {},
   "source": [
    "# Online Finetuning"
   ]
  },
  {
   "cell_type": "markdown",
   "id": "846ee716-bd51-4a22-b141-62edfbc5fbef",
   "metadata": {},
   "source": [
    "### Pen"
   ]
  },
  {
   "cell_type": "code",
   "execution_count": 12,
   "id": "40f347c4-2766-4984-b9ee-1fd94c298071",
   "metadata": {
    "collapsed": true,
    "jupyter": {
     "outputs_hidden": true
    },
    "scrolled": true
   },
   "outputs": [
    {
     "name": "stdout",
     "output_type": "stream",
     "text": [
      "\u001b[2m2025-05-18 18:54.26\u001b[0m [\u001b[32m\u001b[1minfo     \u001b[0m] \u001b[1mSignatures have been automatically determined.\u001b[0m \u001b[36maction_signature\u001b[0m=\u001b[35mSignature(dtype=[dtype('float32')], shape=[(24,)])\u001b[0m \u001b[36mobservation_signature\u001b[0m=\u001b[35mSignature(dtype=[dtype('float64')], shape=[(45,)])\u001b[0m \u001b[36mreward_signature\u001b[0m=\u001b[35mSignature(dtype=[dtype('float32')], shape=[[1]])\u001b[0m\n",
      "\u001b[2m2025-05-18 18:54.26\u001b[0m [\u001b[32m\u001b[1minfo     \u001b[0m] \u001b[1mAction-space has been automatically determined.\u001b[0m \u001b[36maction_space\u001b[0m=\u001b[35m<ActionSpace.CONTINUOUS: 1>\u001b[0m\n",
      "\u001b[2m2025-05-18 18:54.26\u001b[0m [\u001b[32m\u001b[1minfo     \u001b[0m] \u001b[1mAction size has been automatically determined.\u001b[0m \u001b[36maction_size\u001b[0m=\u001b[35m24\u001b[0m\n",
      "\u001b[2m2025-05-18 18:54.26\u001b[0m [\u001b[33m\u001b[1mwarning  \u001b[0m] \u001b[1mSkip building models since they're already built.\u001b[0m\n",
      "\u001b[2m2025-05-18 18:54.26\u001b[0m [\u001b[32m\u001b[1minfo     \u001b[0m] \u001b[1mDirectory is created at training_logs/finetuning/pen/IQL_online_20250518185426\u001b[0m\n",
      "\u001b[2m2025-05-18 18:54.26\u001b[0m [\u001b[32m\u001b[1minfo     \u001b[0m] \u001b[1mParameters                    \u001b[0m \u001b[36mparams\u001b[0m=\u001b[35m{'observation_shape': [45], 'action_size': 24, 'config': {'type': 'iql', 'params': {'batch_size': 256, 'gamma': 0.99, 'observation_scaler': {'type': 'none', 'params': {}}, 'action_scaler': {'type': 'none', 'params': {}}, 'reward_scaler': {'type': 'none', 'params': {}}, 'compile_graph': False, 'actor_learning_rate': 0.0003, 'critic_learning_rate': 0.0003, 'actor_optim_factory': {'type': 'adam', 'params': {'clip_grad_norm': None, 'lr_scheduler_factory': {'type': 'none', 'params': {}}, 'betas': [0.9, 0.999], 'eps': 1e-08, 'weight_decay': 0.0, 'amsgrad': False}}, 'critic_optim_factory': {'type': 'adam', 'params': {'clip_grad_norm': None, 'lr_scheduler_factory': {'type': 'none', 'params': {}}, 'betas': [0.9, 0.999], 'eps': 1e-08, 'weight_decay': 0.0, 'amsgrad': False}}, 'actor_encoder_factory': {'type': 'default', 'params': {'activation': 'relu', 'use_batch_norm': False, 'dropout_rate': None}}, 'critic_encoder_factory': {'type': 'default', 'params': {'activation': 'relu', 'use_batch_norm': False, 'dropout_rate': None}}, 'value_encoder_factory': {'type': 'default', 'params': {'activation': 'relu', 'use_batch_norm': False, 'dropout_rate': None}}, 'tau': 0.005, 'n_critics': 2, 'expectile': 0.7, 'weight_temp': 3.0, 'max_weight': 100.0}}}\u001b[0m\n"
     ]
    },
    {
     "data": {
      "application/vnd.jupyter.widget-view+json": {
       "model_id": "f70d3eaf326849478901395c238fa462",
       "version_major": 2,
       "version_minor": 0
      },
      "text/plain": [
       "  0%|          | 0/1000 [00:00<?, ?it/s]"
      ]
     },
     "metadata": {},
     "output_type": "display_data"
    },
    {
     "name": "stdout",
     "output_type": "stream",
     "text": [
      "\u001b[2m2025-05-18 18:54.27\u001b[0m [\u001b[32m\u001b[1minfo     \u001b[0m] \u001b[1mModel parameters are saved to training_logs/finetuning/pen/IQL_online_20250518185426/model_100.d3\u001b[0m\n",
      "\u001b[2m2025-05-18 18:54.27\u001b[0m [\u001b[32m\u001b[1minfo     \u001b[0m] \u001b[1mIQL_online_20250518185426: epoch=1 step=100\u001b[0m \u001b[36mepoch\u001b[0m=\u001b[35m1\u001b[0m \u001b[36mmetrics\u001b[0m=\u001b[35m{'time_inference': 0.00014053821563720704, 'time_environment_step': 0.00037099361419677733, 'time_step': 0.0005243635177612305, 'rollout_return': 55.45103317123636, 'evaluation': 1232.58613689694}\u001b[0m \u001b[36mstep\u001b[0m=\u001b[35m100\u001b[0m\n",
      "\u001b[2m2025-05-18 18:54.27\u001b[0m [\u001b[32m\u001b[1minfo     \u001b[0m] \u001b[1mModel parameters are saved to training_logs/finetuning/pen/IQL_online_20250518185426/model_200.d3\u001b[0m\n",
      "\u001b[2m2025-05-18 18:54.27\u001b[0m [\u001b[32m\u001b[1minfo     \u001b[0m] \u001b[1mIQL_online_20250518185426: epoch=2 step=200\u001b[0m \u001b[36mepoch\u001b[0m=\u001b[35m2\u001b[0m \u001b[36mmetrics\u001b[0m=\u001b[35m{'time_inference': 9.324789047241211e-05, 'time_environment_step': 0.0002753305435180664, 'time_step': 0.0003781723976135254, 'rollout_return': 81.44743536626797, 'evaluation': 2019.152015207729}\u001b[0m \u001b[36mstep\u001b[0m=\u001b[35m200\u001b[0m\n",
      "\u001b[2m2025-05-18 18:54.28\u001b[0m [\u001b[32m\u001b[1minfo     \u001b[0m] \u001b[1mModel parameters are saved to training_logs/finetuning/pen/IQL_online_20250518185426/model_300.d3\u001b[0m\n",
      "\u001b[2m2025-05-18 18:54.28\u001b[0m [\u001b[32m\u001b[1minfo     \u001b[0m] \u001b[1mIQL_online_20250518185426: epoch=3 step=300\u001b[0m \u001b[36mepoch\u001b[0m=\u001b[35m3\u001b[0m \u001b[36mmetrics\u001b[0m=\u001b[35m{'time_inference': 0.00012941360473632811, 'time_environment_step': 0.00031244277954101563, 'time_step': 0.0033465075492858888, 'time_sample_batch': 0.001616012759324981, 'time_algorithm_update': 0.005435495841793898, 'critic_loss': 233.97150002456294, 'q_loss': 227.60909606189261, 'v_loss': 6.362402799652844, 'actor_loss': -0.4504207401740842, 'rollout_return': 77.36461729458061, 'evaluation': 1028.7839313530721}\u001b[0m \u001b[36mstep\u001b[0m=\u001b[35m300\u001b[0m\n",
      "\u001b[2m2025-05-18 18:54.29\u001b[0m [\u001b[32m\u001b[1minfo     \u001b[0m] \u001b[1mModel parameters are saved to training_logs/finetuning/pen/IQL_online_20250518185426/model_400.d3\u001b[0m\n",
      "\u001b[2m2025-05-18 18:54.29\u001b[0m [\u001b[32m\u001b[1minfo     \u001b[0m] \u001b[1mIQL_online_20250518185426: epoch=4 step=400\u001b[0m \u001b[36mepoch\u001b[0m=\u001b[35m4\u001b[0m \u001b[36mmetrics\u001b[0m=\u001b[35m{'time_inference': 0.00018832921981811523, 'time_environment_step': 0.0002708888053894043, 'time_sample_batch': 0.0016034817695617675, 'time_algorithm_update': 0.006781048774719238, 'critic_loss': 26.438577880859373, 'q_loss': 22.299578227996825, 'v_loss': 4.1389996886253355, 'actor_loss': -22.526587849855424, 'time_step': 0.008864567279815674, 'rollout_return': -20.994723651497363, 'evaluation': 1165.6861586114583}\u001b[0m \u001b[36mstep\u001b[0m=\u001b[35m400\u001b[0m\n",
      "\u001b[2m2025-05-18 18:54.30\u001b[0m [\u001b[32m\u001b[1minfo     \u001b[0m] \u001b[1mModel parameters are saved to training_logs/finetuning/pen/IQL_online_20250518185426/model_500.d3\u001b[0m\n",
      "\u001b[2m2025-05-18 18:54.30\u001b[0m [\u001b[32m\u001b[1minfo     \u001b[0m] \u001b[1mIQL_online_20250518185426: epoch=5 step=500\u001b[0m \u001b[36mepoch\u001b[0m=\u001b[35m5\u001b[0m \u001b[36mmetrics\u001b[0m=\u001b[35m{'time_inference': 0.00020754098892211914, 'time_environment_step': 0.0003626227378845215, 'time_sample_batch': 0.001632542610168457, 'time_algorithm_update': 0.0052185988426208495, 'critic_loss': 221.02519659042358, 'q_loss': 218.38702518463134, 'v_loss': 2.6381709718704225, 'actor_loss': -40.2047375869751, 'time_step': 0.007444045543670654, 'rollout_return': 5160.757748550414, 'evaluation': 980.5760482993737}\u001b[0m \u001b[36mstep\u001b[0m=\u001b[35m500\u001b[0m\n",
      "\u001b[2m2025-05-18 18:54.31\u001b[0m [\u001b[32m\u001b[1minfo     \u001b[0m] \u001b[1mModel parameters are saved to training_logs/finetuning/pen/IQL_online_20250518185426/model_600.d3\u001b[0m\n",
      "\u001b[2m2025-05-18 18:54.31\u001b[0m [\u001b[32m\u001b[1minfo     \u001b[0m] \u001b[1mIQL_online_20250518185426: epoch=6 step=600\u001b[0m \u001b[36mepoch\u001b[0m=\u001b[35m6\u001b[0m \u001b[36mmetrics\u001b[0m=\u001b[35m{'time_inference': 0.00019868850708007813, 'time_environment_step': 0.000359339714050293, 'time_sample_batch': 0.0016268777847290039, 'time_algorithm_update': 0.004990689754486084, 'critic_loss': 187.34077285766602, 'q_loss': 183.8540365600586, 'v_loss': 3.4867356061935424, 'actor_loss': -52.01188844680786, 'time_step': 0.0071975946426391605, 'rollout_return': 74.16806564947221, 'evaluation': 1275.1486891385402}\u001b[0m \u001b[36mstep\u001b[0m=\u001b[35m600\u001b[0m\n",
      "\u001b[2m2025-05-18 18:54.32\u001b[0m [\u001b[32m\u001b[1minfo     \u001b[0m] \u001b[1mModel parameters are saved to training_logs/finetuning/pen/IQL_online_20250518185426/model_700.d3\u001b[0m\n",
      "\u001b[2m2025-05-18 18:54.32\u001b[0m [\u001b[32m\u001b[1minfo     \u001b[0m] \u001b[1mIQL_online_20250518185426: epoch=7 step=700\u001b[0m \u001b[36mepoch\u001b[0m=\u001b[35m7\u001b[0m \u001b[36mmetrics\u001b[0m=\u001b[35m{'time_inference': 0.0002011847496032715, 'time_environment_step': 0.0003058886528015137, 'time_sample_batch': 0.0016204118728637695, 'time_algorithm_update': 0.004946801662445068, 'critic_loss': 130.38843154907227, 'q_loss': 125.13086380004883, 'v_loss': 5.257567739486694, 'actor_loss': -62.551023139953614, 'time_step': 0.007095808982849121, 'rollout_return': 16.200634355796044, 'evaluation': 1173.2520605728416}\u001b[0m \u001b[36mstep\u001b[0m=\u001b[35m700\u001b[0m\n",
      "\u001b[2m2025-05-18 18:54.33\u001b[0m [\u001b[32m\u001b[1minfo     \u001b[0m] \u001b[1mModel parameters are saved to training_logs/finetuning/pen/IQL_online_20250518185426/model_800.d3\u001b[0m\n",
      "\u001b[2m2025-05-18 18:54.33\u001b[0m [\u001b[32m\u001b[1minfo     \u001b[0m] \u001b[1mIQL_online_20250518185426: epoch=8 step=800\u001b[0m \u001b[36mepoch\u001b[0m=\u001b[35m8\u001b[0m \u001b[36mmetrics\u001b[0m=\u001b[35m{'time_inference': 0.00018763303756713867, 'time_environment_step': 0.0003114938735961914, 'time_sample_batch': 0.001610400676727295, 'time_algorithm_update': 0.004644846916198731, 'critic_loss': 99.04704933166504, 'q_loss': 92.26846424102783, 'v_loss': 6.778584809303283, 'actor_loss': -72.94353073120118, 'time_step': 0.0067739725112915036, 'rollout_return': 542.5126250433328, 'evaluation': -3.5494022911788448}\u001b[0m \u001b[36mstep\u001b[0m=\u001b[35m800\u001b[0m\n",
      "\u001b[2m2025-05-18 18:54.34\u001b[0m [\u001b[32m\u001b[1minfo     \u001b[0m] \u001b[1mModel parameters are saved to training_logs/finetuning/pen/IQL_online_20250518185426/model_900.d3\u001b[0m\n",
      "\u001b[2m2025-05-18 18:54.34\u001b[0m [\u001b[32m\u001b[1minfo     \u001b[0m] \u001b[1mIQL_online_20250518185426: epoch=9 step=900\u001b[0m \u001b[36mepoch\u001b[0m=\u001b[35m9\u001b[0m \u001b[36mmetrics\u001b[0m=\u001b[35m{'time_inference': 0.0001904892921447754, 'time_environment_step': 0.00029622316360473634, 'time_sample_batch': 0.0016124510765075683, 'time_algorithm_update': 0.004576945304870605, 'critic_loss': 110.06390991210938, 'q_loss': 101.1767446899414, 'v_loss': 8.887165775299072, 'actor_loss': -82.80607284545898, 'time_step': 0.006695749759674072, 'rollout_return': 71.57309367508672, 'evaluation': 208.7398171017484}\u001b[0m \u001b[36mstep\u001b[0m=\u001b[35m900\u001b[0m\n",
      "\u001b[2m2025-05-18 18:54.35\u001b[0m [\u001b[32m\u001b[1minfo     \u001b[0m] \u001b[1mModel parameters are saved to training_logs/finetuning/pen/IQL_online_20250518185426/model_1000.d3\u001b[0m\n",
      "\u001b[2m2025-05-18 18:54.35\u001b[0m [\u001b[32m\u001b[1minfo     \u001b[0m] \u001b[1mIQL_online_20250518185426: epoch=10 step=1000\u001b[0m \u001b[36mepoch\u001b[0m=\u001b[35m10\u001b[0m \u001b[36mmetrics\u001b[0m=\u001b[35m{'time_inference': 0.00018993616104125976, 'time_environment_step': 0.0003076004981994629, 'time_sample_batch': 0.001613171100616455, 'time_algorithm_update': 0.0046800684928894045, 'critic_loss': 129.17846351623535, 'q_loss': 120.52428504943848, 'v_loss': 8.654178595542907, 'actor_loss': -92.23638671875, 'time_step': 0.006810364723205567, 'rollout_return': 1746.4027251835632, 'evaluation': 1853.3718344241358}\u001b[0m \u001b[36mstep\u001b[0m=\u001b[35m1000\u001b[0m\n",
      "\u001b[2m2025-05-18 18:54.35\u001b[0m [\u001b[32m\u001b[1minfo     \u001b[0m] \u001b[1mSignatures have been automatically determined.\u001b[0m \u001b[36maction_signature\u001b[0m=\u001b[35mSignature(dtype=[dtype('float32')], shape=[(24,)])\u001b[0m \u001b[36mobservation_signature\u001b[0m=\u001b[35mSignature(dtype=[dtype('float64')], shape=[(45,)])\u001b[0m \u001b[36mreward_signature\u001b[0m=\u001b[35mSignature(dtype=[dtype('float32')], shape=[[1]])\u001b[0m\n",
      "\u001b[2m2025-05-18 18:54.35\u001b[0m [\u001b[32m\u001b[1minfo     \u001b[0m] \u001b[1mAction-space has been automatically determined.\u001b[0m \u001b[36maction_space\u001b[0m=\u001b[35m<ActionSpace.CONTINUOUS: 1>\u001b[0m\n",
      "\u001b[2m2025-05-18 18:54.35\u001b[0m [\u001b[32m\u001b[1minfo     \u001b[0m] \u001b[1mAction size has been automatically determined.\u001b[0m \u001b[36maction_size\u001b[0m=\u001b[35m24\u001b[0m\n",
      "\u001b[2m2025-05-18 18:54.35\u001b[0m [\u001b[33m\u001b[1mwarning  \u001b[0m] \u001b[1mSkip building models since they're already built.\u001b[0m\n",
      "\u001b[2m2025-05-18 18:54.35\u001b[0m [\u001b[32m\u001b[1minfo     \u001b[0m] \u001b[1mDirectory is created at training_logs/finetuning/pen/CQL_online_20250518185435\u001b[0m\n",
      "\u001b[2m2025-05-18 18:54.35\u001b[0m [\u001b[32m\u001b[1minfo     \u001b[0m] \u001b[1mParameters                    \u001b[0m \u001b[36mparams\u001b[0m=\u001b[35m{'observation_shape': [45], 'action_size': 24, 'config': {'type': 'cql', 'params': {'batch_size': 256, 'gamma': 0.99, 'observation_scaler': {'type': 'none', 'params': {}}, 'action_scaler': {'type': 'none', 'params': {}}, 'reward_scaler': {'type': 'none', 'params': {}}, 'compile_graph': False, 'actor_learning_rate': 0.0001, 'critic_learning_rate': 0.0003, 'temp_learning_rate': 0.0001, 'alpha_learning_rate': 0.0001, 'actor_optim_factory': {'type': 'adam', 'params': {'clip_grad_norm': None, 'lr_scheduler_factory': {'type': 'none', 'params': {}}, 'betas': [0.9, 0.999], 'eps': 1e-08, 'weight_decay': 0.0, 'amsgrad': False}}, 'critic_optim_factory': {'type': 'adam', 'params': {'clip_grad_norm': None, 'lr_scheduler_factory': {'type': 'none', 'params': {}}, 'betas': [0.9, 0.999], 'eps': 1e-08, 'weight_decay': 0.0, 'amsgrad': False}}, 'temp_optim_factory': {'type': 'adam', 'params': {'clip_grad_norm': None, 'lr_scheduler_factory': {'type': 'none', 'params': {}}, 'betas': [0.9, 0.999], 'eps': 1e-08, 'weight_decay': 0.0, 'amsgrad': False}}, 'alpha_optim_factory': {'type': 'adam', 'params': {'clip_grad_norm': None, 'lr_scheduler_factory': {'type': 'none', 'params': {}}, 'betas': [0.9, 0.999], 'eps': 1e-08, 'weight_decay': 0.0, 'amsgrad': False}}, 'actor_encoder_factory': {'type': 'default', 'params': {'activation': 'relu', 'use_batch_norm': False, 'dropout_rate': None}}, 'critic_encoder_factory': {'type': 'default', 'params': {'activation': 'relu', 'use_batch_norm': False, 'dropout_rate': None}}, 'q_func_factory': {'type': 'mean', 'params': {'share_encoder': False}}, 'tau': 0.005, 'n_critics': 2, 'initial_temperature': 1.0, 'initial_alpha': 1.0, 'alpha_threshold': 10.0, 'conservative_weight': 5.0, 'n_action_samples': 10, 'soft_q_backup': False, 'max_q_backup': False}}}\u001b[0m\n"
     ]
    },
    {
     "data": {
      "application/vnd.jupyter.widget-view+json": {
       "model_id": "0b339caacc1e44ee845b268afbd6b967",
       "version_major": 2,
       "version_minor": 0
      },
      "text/plain": [
       "  0%|          | 0/1000 [00:00<?, ?it/s]"
      ]
     },
     "metadata": {},
     "output_type": "display_data"
    },
    {
     "name": "stdout",
     "output_type": "stream",
     "text": [
      "\u001b[2m2025-05-18 18:54.36\u001b[0m [\u001b[32m\u001b[1minfo     \u001b[0m] \u001b[1mModel parameters are saved to training_logs/finetuning/pen/CQL_online_20250518185435/model_100.d3\u001b[0m\n",
      "\u001b[2m2025-05-18 18:54.36\u001b[0m [\u001b[32m\u001b[1minfo     \u001b[0m] \u001b[1mCQL_online_20250518185435: epoch=1 step=100\u001b[0m \u001b[36mepoch\u001b[0m=\u001b[35m1\u001b[0m \u001b[36mmetrics\u001b[0m=\u001b[35m{'time_inference': 9.926319122314453e-05, 'time_environment_step': 0.00023224115371704102, 'time_step': 0.00034397363662719727, 'rollout_return': -8.31657113524442, 'evaluation': 805.7957231965231}\u001b[0m \u001b[36mstep\u001b[0m=\u001b[35m100\u001b[0m\n",
      "\u001b[2m2025-05-18 18:54.36\u001b[0m [\u001b[32m\u001b[1minfo     \u001b[0m] \u001b[1mModel parameters are saved to training_logs/finetuning/pen/CQL_online_20250518185435/model_200.d3\u001b[0m\n",
      "\u001b[2m2025-05-18 18:54.36\u001b[0m [\u001b[32m\u001b[1minfo     \u001b[0m] \u001b[1mCQL_online_20250518185435: epoch=2 step=200\u001b[0m \u001b[36mepoch\u001b[0m=\u001b[35m2\u001b[0m \u001b[36mmetrics\u001b[0m=\u001b[35m{'time_inference': 8.79526138305664e-05, 'time_environment_step': 0.00029860734939575196, 'time_step': 0.00039613962173461913, 'rollout_return': 2226.80723153359, 'evaluation': 5.61271760633109}\u001b[0m \u001b[36mstep\u001b[0m=\u001b[35m200\u001b[0m\n",
      "\u001b[2m2025-05-18 18:54.37\u001b[0m [\u001b[32m\u001b[1minfo     \u001b[0m] \u001b[1mModel parameters are saved to training_logs/finetuning/pen/CQL_online_20250518185435/model_300.d3\u001b[0m\n",
      "\u001b[2m2025-05-18 18:54.37\u001b[0m [\u001b[32m\u001b[1minfo     \u001b[0m] \u001b[1mCQL_online_20250518185435: epoch=3 step=300\u001b[0m \u001b[36mepoch\u001b[0m=\u001b[35m3\u001b[0m \u001b[36mmetrics\u001b[0m=\u001b[35m{'time_inference': 0.00013748884201049804, 'time_environment_step': 0.00028358936309814454, 'time_step': 0.011978921890258789, 'time_sample_batch': 0.0016339755639797303, 'time_algorithm_update': 0.026514605778019604, 'critic_loss': 286.89154276033724, 'conservative_loss': -34.3323320528356, 'alpha': 0.980727056177651, 'actor_loss': -60.014877226294544, 'temp': 0.9128899021846492, 'temp_loss': 21.98020990883432, 'rollout_return': -41.55954374022874, 'evaluation': 344.7812727427216}\u001b[0m \u001b[36mstep\u001b[0m=\u001b[35m300\u001b[0m\n",
      "\u001b[2m2025-05-18 18:54.41\u001b[0m [\u001b[32m\u001b[1minfo     \u001b[0m] \u001b[1mModel parameters are saved to training_logs/finetuning/pen/CQL_online_20250518185435/model_400.d3\u001b[0m\n",
      "\u001b[2m2025-05-18 18:54.41\u001b[0m [\u001b[32m\u001b[1minfo     \u001b[0m] \u001b[1mCQL_online_20250518185435: epoch=4 step=400\u001b[0m \u001b[36mepoch\u001b[0m=\u001b[35m4\u001b[0m \u001b[36mmetrics\u001b[0m=\u001b[35m{'time_inference': 0.00023751020431518556, 'time_environment_step': 0.0003792524337768555, 'time_sample_batch': 0.001661512851715088, 'time_algorithm_update': 0.02735054016113281, 'critic_loss': 132.1446804046631, 'conservative_loss': -37.763372611999515, 'alpha': 0.9741779685020446, 'actor_loss': -54.50503547668457, 'temp': 0.9078545421361923, 'temp_loss': 21.907369995117186, 'time_step': 0.02966036558151245, 'rollout_return': -19.939313448705644, 'evaluation': 574.4734938926612}\u001b[0m \u001b[36mstep\u001b[0m=\u001b[35m400\u001b[0m\n",
      "\u001b[2m2025-05-18 18:54.44\u001b[0m [\u001b[32m\u001b[1minfo     \u001b[0m] \u001b[1mModel parameters are saved to training_logs/finetuning/pen/CQL_online_20250518185435/model_500.d3\u001b[0m\n",
      "\u001b[2m2025-05-18 18:54.44\u001b[0m [\u001b[32m\u001b[1minfo     \u001b[0m] \u001b[1mCQL_online_20250518185435: epoch=5 step=500\u001b[0m \u001b[36mepoch\u001b[0m=\u001b[35m5\u001b[0m \u001b[36mmetrics\u001b[0m=\u001b[35m{'time_inference': 0.0002907156944274902, 'time_environment_step': 0.00044747114181518553, 'time_sample_batch': 0.0016799211502075196, 'time_algorithm_update': 0.026754124164581297, 'critic_loss': 162.45451377868653, 'conservative_loss': -41.07023458480835, 'alpha': 0.9643562036752701, 'actor_loss': -70.74263103485107, 'temp': 0.9006225180625915, 'temp_loss': 22.207400074005125, 'time_step': 0.029205219745635988, 'rollout_return': 63.54083753810065, 'evaluation': 73.92517640984838}\u001b[0m \u001b[36mstep\u001b[0m=\u001b[35m500\u001b[0m\n",
      "\u001b[2m2025-05-18 18:54.47\u001b[0m [\u001b[32m\u001b[1minfo     \u001b[0m] \u001b[1mModel parameters are saved to training_logs/finetuning/pen/CQL_online_20250518185435/model_600.d3\u001b[0m\n",
      "\u001b[2m2025-05-18 18:54.47\u001b[0m [\u001b[32m\u001b[1minfo     \u001b[0m] \u001b[1mCQL_online_20250518185435: epoch=6 step=600\u001b[0m \u001b[36mepoch\u001b[0m=\u001b[35m6\u001b[0m \u001b[36mmetrics\u001b[0m=\u001b[35m{'time_inference': 0.00029228925704956056, 'time_environment_step': 0.00047660112380981445, 'time_sample_batch': 0.0016892409324645995, 'time_algorithm_update': 0.026695542335510254, 'critic_loss': 225.56462295532228, 'conservative_loss': -38.661652660369874, 'alpha': 0.9540965431928634, 'actor_loss': -103.92831176757812, 'temp': 0.8931737613677978, 'temp_loss': 21.922142009735108, 'time_step': 0.02918629169464111, 'rollout_return': 5082.98451730634, 'evaluation': 622.0385465303445}\u001b[0m \u001b[36mstep\u001b[0m=\u001b[35m600\u001b[0m\n",
      "\u001b[2m2025-05-18 18:54.51\u001b[0m [\u001b[32m\u001b[1minfo     \u001b[0m] \u001b[1mModel parameters are saved to training_logs/finetuning/pen/CQL_online_20250518185435/model_700.d3\u001b[0m\n",
      "\u001b[2m2025-05-18 18:54.51\u001b[0m [\u001b[32m\u001b[1minfo     \u001b[0m] \u001b[1mCQL_online_20250518185435: epoch=7 step=700\u001b[0m \u001b[36mepoch\u001b[0m=\u001b[35m7\u001b[0m \u001b[36mmetrics\u001b[0m=\u001b[35m{'time_inference': 0.00029161691665649417, 'time_environment_step': 0.00033123493194580077, 'time_sample_batch': 0.0017055153846740722, 'time_algorithm_update': 0.02724845886230469, 'critic_loss': 182.1532940673828, 'conservative_loss': -35.07792594909668, 'alpha': 0.9450956869125366, 'actor_loss': -121.2949993133545, 'temp': 0.8858836251497268, 'temp_loss': 21.173518867492675, 'time_step': 0.029609737396240236, 'rollout_return': -125.99058740303927, 'evaluation': 56.47423115269321}\u001b[0m \u001b[36mstep\u001b[0m=\u001b[35m700\u001b[0m\n",
      "\u001b[2m2025-05-18 18:54.54\u001b[0m [\u001b[32m\u001b[1minfo     \u001b[0m] \u001b[1mModel parameters are saved to training_logs/finetuning/pen/CQL_online_20250518185435/model_800.d3\u001b[0m\n",
      "\u001b[2m2025-05-18 18:54.54\u001b[0m [\u001b[32m\u001b[1minfo     \u001b[0m] \u001b[1mCQL_online_20250518185435: epoch=8 step=800\u001b[0m \u001b[36mepoch\u001b[0m=\u001b[35m8\u001b[0m \u001b[36mmetrics\u001b[0m=\u001b[35m{'time_inference': 0.00029501676559448245, 'time_environment_step': 0.0003369641304016113, 'time_sample_batch': 0.0017000555992126465, 'time_algorithm_update': 0.02654916524887085, 'critic_loss': 160.5210231781006, 'conservative_loss': -31.50584566116333, 'alpha': 0.9368483835458755, 'actor_loss': -115.33868728637695, 'temp': 0.8786249935626984, 'temp_loss': 21.06797073364258, 'time_step': 0.02891465663909912, 'rollout_return': 132.30835781014625, 'evaluation': -12.067850413173382}\u001b[0m \u001b[36mstep\u001b[0m=\u001b[35m800\u001b[0m\n",
      "\u001b[2m2025-05-18 18:54.57\u001b[0m [\u001b[32m\u001b[1minfo     \u001b[0m] \u001b[1mModel parameters are saved to training_logs/finetuning/pen/CQL_online_20250518185435/model_900.d3\u001b[0m\n",
      "\u001b[2m2025-05-18 18:54.57\u001b[0m [\u001b[32m\u001b[1minfo     \u001b[0m] \u001b[1mCQL_online_20250518185435: epoch=9 step=900\u001b[0m \u001b[36mepoch\u001b[0m=\u001b[35m9\u001b[0m \u001b[36mmetrics\u001b[0m=\u001b[35m{'time_inference': 0.00029437541961669923, 'time_environment_step': 0.00046187877655029297, 'time_sample_batch': 0.0017115569114685059, 'time_algorithm_update': 0.02663640260696411, 'critic_loss': 262.23304512023924, 'conservative_loss': -31.719352893829345, 'alpha': 0.9291808420419693, 'actor_loss': -127.45477745056152, 'temp': 0.8713024783134461, 'temp_loss': 21.219411811828614, 'time_step': 0.029136977195739745, 'rollout_return': 544.0024438472778, 'evaluation': 692.9372593511528}\u001b[0m \u001b[36mstep\u001b[0m=\u001b[35m900\u001b[0m\n",
      "\u001b[2m2025-05-18 18:55.01\u001b[0m [\u001b[32m\u001b[1minfo     \u001b[0m] \u001b[1mModel parameters are saved to training_logs/finetuning/pen/CQL_online_20250518185435/model_1000.d3\u001b[0m\n",
      "\u001b[2m2025-05-18 18:55.01\u001b[0m [\u001b[32m\u001b[1minfo     \u001b[0m] \u001b[1mCQL_online_20250518185435: epoch=10 step=1000\u001b[0m \u001b[36mepoch\u001b[0m=\u001b[35m10\u001b[0m \u001b[36mmetrics\u001b[0m=\u001b[35m{'time_inference': 0.00029242992401123046, 'time_environment_step': 0.0003512740135192871, 'time_sample_batch': 0.001745924949645996, 'time_algorithm_update': 0.027111237049102784, 'critic_loss': 324.2062596130371, 'conservative_loss': -33.18992202758789, 'alpha': 0.9209880799055099, 'actor_loss': -141.60467498779298, 'temp': 0.8638071185350418, 'temp_loss': 21.28934803009033, 'time_step': 0.029533915519714356, 'rollout_return': 17.762019062676995, 'evaluation': 24.039703879494148}\u001b[0m \u001b[36mstep\u001b[0m=\u001b[35m1000\u001b[0m\n",
      "\u001b[2m2025-05-18 18:55.01\u001b[0m [\u001b[32m\u001b[1minfo     \u001b[0m] \u001b[1mSignatures have been automatically determined.\u001b[0m \u001b[36maction_signature\u001b[0m=\u001b[35mSignature(dtype=[dtype('float32')], shape=[(24,)])\u001b[0m \u001b[36mobservation_signature\u001b[0m=\u001b[35mSignature(dtype=[dtype('float64')], shape=[(45,)])\u001b[0m \u001b[36mreward_signature\u001b[0m=\u001b[35mSignature(dtype=[dtype('float32')], shape=[[1]])\u001b[0m\n",
      "\u001b[2m2025-05-18 18:55.01\u001b[0m [\u001b[32m\u001b[1minfo     \u001b[0m] \u001b[1mAction-space has been automatically determined.\u001b[0m \u001b[36maction_space\u001b[0m=\u001b[35m<ActionSpace.CONTINUOUS: 1>\u001b[0m\n",
      "\u001b[2m2025-05-18 18:55.01\u001b[0m [\u001b[32m\u001b[1minfo     \u001b[0m] \u001b[1mAction size has been automatically determined.\u001b[0m \u001b[36maction_size\u001b[0m=\u001b[35m24\u001b[0m\n",
      "\u001b[2m2025-05-18 18:55.01\u001b[0m [\u001b[33m\u001b[1mwarning  \u001b[0m] \u001b[1mSkip building models since they're already built.\u001b[0m\n",
      "\u001b[2m2025-05-18 18:55.01\u001b[0m [\u001b[32m\u001b[1minfo     \u001b[0m] \u001b[1mDirectory is created at training_logs/finetuning/pen/TD3PlusBC_online_20250518185501\u001b[0m\n",
      "\u001b[2m2025-05-18 18:55.01\u001b[0m [\u001b[32m\u001b[1minfo     \u001b[0m] \u001b[1mParameters                    \u001b[0m \u001b[36mparams\u001b[0m=\u001b[35m{'observation_shape': [45], 'action_size': 24, 'config': {'type': 'td3_plus_bc', 'params': {'batch_size': 256, 'gamma': 0.99, 'observation_scaler': {'type': 'none', 'params': {}}, 'action_scaler': {'type': 'none', 'params': {}}, 'reward_scaler': {'type': 'none', 'params': {}}, 'compile_graph': False, 'actor_learning_rate': 0.0003, 'critic_learning_rate': 0.0003, 'actor_optim_factory': {'type': 'adam', 'params': {'clip_grad_norm': None, 'lr_scheduler_factory': {'type': 'none', 'params': {}}, 'betas': [0.9, 0.999], 'eps': 1e-08, 'weight_decay': 0.0, 'amsgrad': False}}, 'critic_optim_factory': {'type': 'adam', 'params': {'clip_grad_norm': None, 'lr_scheduler_factory': {'type': 'none', 'params': {}}, 'betas': [0.9, 0.999], 'eps': 1e-08, 'weight_decay': 0.0, 'amsgrad': False}}, 'actor_encoder_factory': {'type': 'default', 'params': {'activation': 'relu', 'use_batch_norm': False, 'dropout_rate': None}}, 'critic_encoder_factory': {'type': 'default', 'params': {'activation': 'relu', 'use_batch_norm': False, 'dropout_rate': None}}, 'q_func_factory': {'type': 'mean', 'params': {'share_encoder': False}}, 'tau': 0.005, 'n_critics': 2, 'target_smoothing_sigma': 0.2, 'target_smoothing_clip': 0.5, 'alpha': 2.5, 'update_actor_interval': 2}}}\u001b[0m\n"
     ]
    },
    {
     "data": {
      "application/vnd.jupyter.widget-view+json": {
       "model_id": "9183169557ac44a1860862e082102e2e",
       "version_major": 2,
       "version_minor": 0
      },
      "text/plain": [
       "  0%|          | 0/1000 [00:00<?, ?it/s]"
      ]
     },
     "metadata": {},
     "output_type": "display_data"
    },
    {
     "name": "stdout",
     "output_type": "stream",
     "text": [
      "\u001b[2m2025-05-18 18:55.01\u001b[0m [\u001b[32m\u001b[1minfo     \u001b[0m] \u001b[1mModel parameters are saved to training_logs/finetuning/pen/TD3PlusBC_online_20250518185501/model_100.d3\u001b[0m\n",
      "\u001b[2m2025-05-18 18:55.01\u001b[0m [\u001b[32m\u001b[1minfo     \u001b[0m] \u001b[1mTD3PlusBC_online_20250518185501: epoch=1 step=100\u001b[0m \u001b[36mepoch\u001b[0m=\u001b[35m1\u001b[0m \u001b[36mmetrics\u001b[0m=\u001b[35m{'time_inference': 6.013631820678711e-05, 'time_environment_step': 0.0003427267074584961, 'time_step': 0.0004121232032775879, 'rollout_return': 51.33205030723591, 'evaluation': 25.376022546017488}\u001b[0m \u001b[36mstep\u001b[0m=\u001b[35m100\u001b[0m\n",
      "\u001b[2m2025-05-18 18:55.01\u001b[0m [\u001b[32m\u001b[1minfo     \u001b[0m] \u001b[1mModel parameters are saved to training_logs/finetuning/pen/TD3PlusBC_online_20250518185501/model_200.d3\u001b[0m\n",
      "\u001b[2m2025-05-18 18:55.01\u001b[0m [\u001b[32m\u001b[1minfo     \u001b[0m] \u001b[1mTD3PlusBC_online_20250518185501: epoch=2 step=200\u001b[0m \u001b[36mepoch\u001b[0m=\u001b[35m2\u001b[0m \u001b[36mmetrics\u001b[0m=\u001b[35m{'time_inference': 4.4758319854736326e-05, 'time_environment_step': 0.0002684617042541504, 'time_step': 0.00032114505767822266, 'rollout_return': 51.35468199239394, 'evaluation': 51.432362255051736}\u001b[0m \u001b[36mstep\u001b[0m=\u001b[35m200\u001b[0m\n",
      "\u001b[2m2025-05-18 18:55.02\u001b[0m [\u001b[32m\u001b[1minfo     \u001b[0m] \u001b[1mModel parameters are saved to training_logs/finetuning/pen/TD3PlusBC_online_20250518185501/model_300.d3\u001b[0m\n",
      "\u001b[2m2025-05-18 18:55.02\u001b[0m [\u001b[32m\u001b[1minfo     \u001b[0m] \u001b[1mTD3PlusBC_online_20250518185501: epoch=3 step=300\u001b[0m \u001b[36mepoch\u001b[0m=\u001b[35m3\u001b[0m \u001b[36mmetrics\u001b[0m=\u001b[35m{'time_inference': 7.848978042602539e-05, 'time_environment_step': 0.00024318695068359375, 'time_step': 0.0024112725257873537, 'time_sample_batch': 0.0015597808651807831, 'time_algorithm_update': 0.003508300316043016, 'critic_loss': 535.518610047131, 'actor_loss': -2.290800003778367, 'bc_loss': 0.20516175174686618, 'rollout_return': 53.894905008883626, 'evaluation': -6.37079989250375}\u001b[0m \u001b[36mstep\u001b[0m=\u001b[35m300\u001b[0m\n",
      "\u001b[2m2025-05-18 18:55.03\u001b[0m [\u001b[32m\u001b[1minfo     \u001b[0m] \u001b[1mModel parameters are saved to training_logs/finetuning/pen/TD3PlusBC_online_20250518185501/model_400.d3\u001b[0m\n",
      "\u001b[2m2025-05-18 18:55.03\u001b[0m [\u001b[32m\u001b[1minfo     \u001b[0m] \u001b[1mTD3PlusBC_online_20250518185501: epoch=4 step=400\u001b[0m \u001b[36mepoch\u001b[0m=\u001b[35m4\u001b[0m \u001b[36mmetrics\u001b[0m=\u001b[35m{'time_inference': 0.000123291015625, 'time_environment_step': 0.0004555487632751465, 'time_sample_batch': 0.0015576791763305664, 'time_algorithm_update': 0.0038089799880981446, 'critic_loss': 12.739863500595092, 'time_step': 0.005962917804718018, 'actor_loss': -2.3726964378356934, 'bc_loss': 0.12730354607105254, 'rollout_return': 22.388288096268433, 'evaluation': -32.33655516854982}\u001b[0m \u001b[36mstep\u001b[0m=\u001b[35m400\u001b[0m\n",
      "\u001b[2m2025-05-18 18:55.04\u001b[0m [\u001b[32m\u001b[1minfo     \u001b[0m] \u001b[1mModel parameters are saved to training_logs/finetuning/pen/TD3PlusBC_online_20250518185501/model_500.d3\u001b[0m\n",
      "\u001b[2m2025-05-18 18:55.04\u001b[0m [\u001b[32m\u001b[1minfo     \u001b[0m] \u001b[1mTD3PlusBC_online_20250518185501: epoch=5 step=500\u001b[0m \u001b[36mepoch\u001b[0m=\u001b[35m5\u001b[0m \u001b[36mmetrics\u001b[0m=\u001b[35m{'time_inference': 0.00012850522994995117, 'time_environment_step': 0.00029936075210571287, 'time_sample_batch': 0.001577465534210205, 'time_algorithm_update': 0.003959786891937256, 'critic_loss': 6.3344186544418335, 'time_step': 0.005983097553253174, 'actor_loss': -2.3962283992767333, 'bc_loss': 0.10356020614504814, 'rollout_return': -85.32958887121995, 'evaluation': -22.30166421215615}\u001b[0m \u001b[36mstep\u001b[0m=\u001b[35m500\u001b[0m\n",
      "\u001b[2m2025-05-18 18:55.05\u001b[0m [\u001b[32m\u001b[1minfo     \u001b[0m] \u001b[1mModel parameters are saved to training_logs/finetuning/pen/TD3PlusBC_online_20250518185501/model_600.d3\u001b[0m\n",
      "\u001b[2m2025-05-18 18:55.05\u001b[0m [\u001b[32m\u001b[1minfo     \u001b[0m] \u001b[1mTD3PlusBC_online_20250518185501: epoch=6 step=600\u001b[0m \u001b[36mepoch\u001b[0m=\u001b[35m6\u001b[0m \u001b[36mmetrics\u001b[0m=\u001b[35m{'time_inference': 0.00012848377227783203, 'time_environment_step': 0.0004933977127075195, 'time_sample_batch': 0.001577138900756836, 'time_algorithm_update': 0.00390073299407959, 'critic_loss': 5.006835641860962, 'time_step': 0.006117329597473144, 'actor_loss': -2.414298243522644, 'bc_loss': 0.08562183380126953, 'rollout_return': 13.286361086050853, 'evaluation': 1.8236505483409176}\u001b[0m \u001b[36mstep\u001b[0m=\u001b[35m600\u001b[0m\n",
      "\u001b[2m2025-05-18 18:55.06\u001b[0m [\u001b[32m\u001b[1minfo     \u001b[0m] \u001b[1mModel parameters are saved to training_logs/finetuning/pen/TD3PlusBC_online_20250518185501/model_700.d3\u001b[0m\n",
      "\u001b[2m2025-05-18 18:55.06\u001b[0m [\u001b[32m\u001b[1minfo     \u001b[0m] \u001b[1mTD3PlusBC_online_20250518185501: epoch=7 step=700\u001b[0m \u001b[36mepoch\u001b[0m=\u001b[35m7\u001b[0m \u001b[36mmetrics\u001b[0m=\u001b[35m{'time_inference': 0.00012874603271484375, 'time_environment_step': 0.0004010176658630371, 'time_sample_batch': 0.0015874028205871582, 'time_algorithm_update': 0.003566410541534424, 'critic_loss': 4.0020599365234375, 'time_step': 0.005701403617858886, 'actor_loss': -2.439106574058533, 'bc_loss': 0.06089173264801502, 'rollout_return': -50.97727350817975, 'evaluation': 17.186931848474863}\u001b[0m \u001b[36mstep\u001b[0m=\u001b[35m700\u001b[0m\n",
      "\u001b[2m2025-05-18 18:55.07\u001b[0m [\u001b[32m\u001b[1minfo     \u001b[0m] \u001b[1mModel parameters are saved to training_logs/finetuning/pen/TD3PlusBC_online_20250518185501/model_800.d3\u001b[0m\n",
      "\u001b[2m2025-05-18 18:55.07\u001b[0m [\u001b[32m\u001b[1minfo     \u001b[0m] \u001b[1mTD3PlusBC_online_20250518185501: epoch=8 step=800\u001b[0m \u001b[36mepoch\u001b[0m=\u001b[35m8\u001b[0m \u001b[36mmetrics\u001b[0m=\u001b[35m{'time_inference': 0.00012737274169921875, 'time_environment_step': 0.000427095890045166, 'time_sample_batch': 0.001588129997253418, 'time_algorithm_update': 0.00355635404586792, 'critic_loss': 4.11884061574936, 'time_step': 0.005716688632965088, 'actor_loss': -2.4556966114044187, 'bc_loss': 0.044303378760814666, 'rollout_return': 68.8620195341714, 'evaluation': -9.641265346397308}\u001b[0m \u001b[36mstep\u001b[0m=\u001b[35m800\u001b[0m\n",
      "\u001b[2m2025-05-18 18:55.08\u001b[0m [\u001b[32m\u001b[1minfo     \u001b[0m] \u001b[1mModel parameters are saved to training_logs/finetuning/pen/TD3PlusBC_online_20250518185501/model_900.d3\u001b[0m\n",
      "\u001b[2m2025-05-18 18:55.08\u001b[0m [\u001b[32m\u001b[1minfo     \u001b[0m] \u001b[1mTD3PlusBC_online_20250518185501: epoch=9 step=900\u001b[0m \u001b[36mepoch\u001b[0m=\u001b[35m9\u001b[0m \u001b[36mmetrics\u001b[0m=\u001b[35m{'time_inference': 0.000127105712890625, 'time_environment_step': 0.0003722858428955078, 'time_sample_batch': 0.0015828990936279297, 'time_algorithm_update': 0.003273358345031738, 'critic_loss': 3.1259045696258543, 'time_step': 0.005372965335845947, 'actor_loss': -2.4664761352539064, 'bc_loss': 0.03352385375648737, 'rollout_return': -48.05644851793689, 'evaluation': 5.567510512643911}\u001b[0m \u001b[36mstep\u001b[0m=\u001b[35m900\u001b[0m\n",
      "\u001b[2m2025-05-18 18:55.09\u001b[0m [\u001b[32m\u001b[1minfo     \u001b[0m] \u001b[1mModel parameters are saved to training_logs/finetuning/pen/TD3PlusBC_online_20250518185501/model_1000.d3\u001b[0m\n",
      "\u001b[2m2025-05-18 18:55.09\u001b[0m [\u001b[32m\u001b[1minfo     \u001b[0m] \u001b[1mTD3PlusBC_online_20250518185501: epoch=10 step=1000\u001b[0m \u001b[36mepoch\u001b[0m=\u001b[35m10\u001b[0m \u001b[36mmetrics\u001b[0m=\u001b[35m{'time_inference': 0.0001226210594177246, 'time_environment_step': 0.00041821956634521487, 'time_sample_batch': 0.0015891861915588378, 'time_algorithm_update': 0.003377699851989746, 'critic_loss': 2.852132751941681, 'time_step': 0.005525097846984863, 'actor_loss': -2.4699106216430664, 'bc_loss': 0.030087466835975647, 'rollout_return': -36.9857333569894, 'evaluation': -3.285940126398903}\u001b[0m \u001b[36mstep\u001b[0m=\u001b[35m1000\u001b[0m\n",
      "\u001b[2m2025-05-18 18:55.09\u001b[0m [\u001b[32m\u001b[1minfo     \u001b[0m] \u001b[1mSignatures have been automatically determined.\u001b[0m \u001b[36maction_signature\u001b[0m=\u001b[35mSignature(dtype=[dtype('float32')], shape=[(24,)])\u001b[0m \u001b[36mobservation_signature\u001b[0m=\u001b[35mSignature(dtype=[dtype('float64')], shape=[(45,)])\u001b[0m \u001b[36mreward_signature\u001b[0m=\u001b[35mSignature(dtype=[dtype('float32')], shape=[[1]])\u001b[0m\n",
      "\u001b[2m2025-05-18 18:55.09\u001b[0m [\u001b[32m\u001b[1minfo     \u001b[0m] \u001b[1mAction-space has been automatically determined.\u001b[0m \u001b[36maction_space\u001b[0m=\u001b[35m<ActionSpace.CONTINUOUS: 1>\u001b[0m\n",
      "\u001b[2m2025-05-18 18:55.09\u001b[0m [\u001b[32m\u001b[1minfo     \u001b[0m] \u001b[1mAction size has been automatically determined.\u001b[0m \u001b[36maction_size\u001b[0m=\u001b[35m24\u001b[0m\n",
      "\u001b[2m2025-05-18 18:55.09\u001b[0m [\u001b[33m\u001b[1mwarning  \u001b[0m] \u001b[1mSkip building models since they're already built.\u001b[0m\n",
      "\u001b[2m2025-05-18 18:55.09\u001b[0m [\u001b[32m\u001b[1minfo     \u001b[0m] \u001b[1mDirectory is created at training_logs/finetuning/pen/AWAC_online_20250518185509\u001b[0m\n",
      "\u001b[2m2025-05-18 18:55.09\u001b[0m [\u001b[32m\u001b[1minfo     \u001b[0m] \u001b[1mParameters                    \u001b[0m \u001b[36mparams\u001b[0m=\u001b[35m{'observation_shape': [45], 'action_size': 24, 'config': {'type': 'awac', 'params': {'batch_size': 1024, 'gamma': 0.99, 'observation_scaler': {'type': 'none', 'params': {}}, 'action_scaler': {'type': 'none', 'params': {}}, 'reward_scaler': {'type': 'none', 'params': {}}, 'compile_graph': False, 'actor_learning_rate': 0.0003, 'critic_learning_rate': 0.0003, 'actor_optim_factory': {'type': 'adam', 'params': {'clip_grad_norm': None, 'lr_scheduler_factory': {'type': 'none', 'params': {}}, 'betas': [0.9, 0.999], 'eps': 1e-08, 'weight_decay': 0.0, 'amsgrad': False}}, 'critic_optim_factory': {'type': 'adam', 'params': {'clip_grad_norm': None, 'lr_scheduler_factory': {'type': 'none', 'params': {}}, 'betas': [0.9, 0.999], 'eps': 1e-08, 'weight_decay': 0.0, 'amsgrad': False}}, 'actor_encoder_factory': {'type': 'default', 'params': {'activation': 'relu', 'use_batch_norm': False, 'dropout_rate': None}}, 'critic_encoder_factory': {'type': 'default', 'params': {'activation': 'relu', 'use_batch_norm': False, 'dropout_rate': None}}, 'q_func_factory': {'type': 'mean', 'params': {'share_encoder': False}}, 'tau': 0.005, 'lam': 1.0, 'n_action_samples': 1, 'n_critics': 2}}}\u001b[0m\n"
     ]
    },
    {
     "data": {
      "application/vnd.jupyter.widget-view+json": {
       "model_id": "794aa8f13eb647a4b1c851d4e2ae493d",
       "version_major": 2,
       "version_minor": 0
      },
      "text/plain": [
       "  0%|          | 0/1000 [00:00<?, ?it/s]"
      ]
     },
     "metadata": {},
     "output_type": "display_data"
    },
    {
     "name": "stdout",
     "output_type": "stream",
     "text": [
      "\u001b[2m2025-05-18 18:55.09\u001b[0m [\u001b[32m\u001b[1minfo     \u001b[0m] \u001b[1mModel parameters are saved to training_logs/finetuning/pen/AWAC_online_20250518185509/model_100.d3\u001b[0m\n",
      "\u001b[2m2025-05-18 18:55.09\u001b[0m [\u001b[32m\u001b[1minfo     \u001b[0m] \u001b[1mAWAC_online_20250518185509: epoch=1 step=100\u001b[0m \u001b[36mepoch\u001b[0m=\u001b[35m1\u001b[0m \u001b[36mmetrics\u001b[0m=\u001b[35m{'time_inference': 9.359121322631836e-05, 'time_environment_step': 0.00032078981399536133, 'time_step': 0.0004260730743408203, 'rollout_return': -59.792762787795795, 'evaluation': 196.9165140040189}\u001b[0m \u001b[36mstep\u001b[0m=\u001b[35m100\u001b[0m\n",
      "\u001b[2m2025-05-18 18:55.10\u001b[0m [\u001b[32m\u001b[1minfo     \u001b[0m] \u001b[1mModel parameters are saved to training_logs/finetuning/pen/AWAC_online_20250518185509/model_200.d3\u001b[0m\n",
      "\u001b[2m2025-05-18 18:55.10\u001b[0m [\u001b[32m\u001b[1minfo     \u001b[0m] \u001b[1mAWAC_online_20250518185509: epoch=2 step=200\u001b[0m \u001b[36mepoch\u001b[0m=\u001b[35m2\u001b[0m \u001b[36mmetrics\u001b[0m=\u001b[35m{'time_inference': 8.616924285888672e-05, 'time_environment_step': 0.00031558513641357424, 'time_step': 0.0004122614860534668, 'rollout_return': 53.004884108641065, 'evaluation': 533.159324997793}\u001b[0m \u001b[36mstep\u001b[0m=\u001b[35m200\u001b[0m\n",
      "\u001b[2m2025-05-18 18:55.10\u001b[0m [\u001b[32m\u001b[1minfo     \u001b[0m] \u001b[1mModel parameters are saved to training_logs/finetuning/pen/AWAC_online_20250518185509/model_300.d3\u001b[0m\n",
      "\u001b[2m2025-05-18 18:55.10\u001b[0m [\u001b[32m\u001b[1minfo     \u001b[0m] \u001b[1mAWAC_online_20250518185509: epoch=3 step=300\u001b[0m \u001b[36mepoch\u001b[0m=\u001b[35m3\u001b[0m \u001b[36mmetrics\u001b[0m=\u001b[35m{'time_inference': 8.39853286743164e-05, 'time_environment_step': 0.0003088998794555664, 'time_step': 0.0004022383689880371, 'rollout_return': 74.5033271358638, 'evaluation': 155.1767191924822}\u001b[0m \u001b[36mstep\u001b[0m=\u001b[35m300\u001b[0m\n",
      "\u001b[2m2025-05-18 18:55.10\u001b[0m [\u001b[32m\u001b[1minfo     \u001b[0m] \u001b[1mModel parameters are saved to training_logs/finetuning/pen/AWAC_online_20250518185509/model_400.d3\u001b[0m\n",
      "\u001b[2m2025-05-18 18:55.10\u001b[0m [\u001b[32m\u001b[1minfo     \u001b[0m] \u001b[1mAWAC_online_20250518185509: epoch=4 step=400\u001b[0m \u001b[36mepoch\u001b[0m=\u001b[35m4\u001b[0m \u001b[36mmetrics\u001b[0m=\u001b[35m{'time_inference': 8.334875106811523e-05, 'time_environment_step': 0.0003140354156494141, 'time_step': 0.00040842294692993163, 'rollout_return': 79.38295015240517, 'evaluation': 480.266215503053}\u001b[0m \u001b[36mstep\u001b[0m=\u001b[35m400\u001b[0m\n",
      "\u001b[2m2025-05-18 18:55.11\u001b[0m [\u001b[32m\u001b[1minfo     \u001b[0m] \u001b[1mModel parameters are saved to training_logs/finetuning/pen/AWAC_online_20250518185509/model_500.d3\u001b[0m\n",
      "\u001b[2m2025-05-18 18:55.11\u001b[0m [\u001b[32m\u001b[1minfo     \u001b[0m] \u001b[1mAWAC_online_20250518185509: epoch=5 step=500\u001b[0m \u001b[36mepoch\u001b[0m=\u001b[35m5\u001b[0m \u001b[36mmetrics\u001b[0m=\u001b[35m{'time_inference': 8.391618728637696e-05, 'time_environment_step': 0.00034214496612548827, 'time_step': 0.00043359756469726565, 'rollout_return': -26.02951259135832, 'evaluation': 89.87823147686899}\u001b[0m \u001b[36mstep\u001b[0m=\u001b[35m500\u001b[0m\n",
      "\u001b[2m2025-05-18 18:55.11\u001b[0m [\u001b[32m\u001b[1minfo     \u001b[0m] \u001b[1mModel parameters are saved to training_logs/finetuning/pen/AWAC_online_20250518185509/model_600.d3\u001b[0m\n",
      "\u001b[2m2025-05-18 18:55.11\u001b[0m [\u001b[32m\u001b[1minfo     \u001b[0m] \u001b[1mAWAC_online_20250518185509: epoch=6 step=600\u001b[0m \u001b[36mepoch\u001b[0m=\u001b[35m6\u001b[0m \u001b[36mmetrics\u001b[0m=\u001b[35m{'time_inference': 8.560657501220703e-05, 'time_environment_step': 0.00033529043197631835, 'time_step': 0.00043218374252319337, 'rollout_return': 77.55221239919068, 'evaluation': 207.79718289493184}\u001b[0m \u001b[36mstep\u001b[0m=\u001b[35m600\u001b[0m\n",
      "\u001b[2m2025-05-18 18:55.12\u001b[0m [\u001b[32m\u001b[1minfo     \u001b[0m] \u001b[1mModel parameters are saved to training_logs/finetuning/pen/AWAC_online_20250518185509/model_700.d3\u001b[0m\n",
      "\u001b[2m2025-05-18 18:55.12\u001b[0m [\u001b[32m\u001b[1minfo     \u001b[0m] \u001b[1mAWAC_online_20250518185509: epoch=7 step=700\u001b[0m \u001b[36mepoch\u001b[0m=\u001b[35m7\u001b[0m \u001b[36mmetrics\u001b[0m=\u001b[35m{'time_inference': 8.351564407348633e-05, 'time_environment_step': 0.0002736091613769531, 'time_step': 0.0003657984733581543, 'rollout_return': 4990.553971425283, 'evaluation': 106.63429931819037}\u001b[0m \u001b[36mstep\u001b[0m=\u001b[35m700\u001b[0m\n",
      "\u001b[2m2025-05-18 18:55.12\u001b[0m [\u001b[32m\u001b[1minfo     \u001b[0m] \u001b[1mModel parameters are saved to training_logs/finetuning/pen/AWAC_online_20250518185509/model_800.d3\u001b[0m\n",
      "\u001b[2m2025-05-18 18:55.12\u001b[0m [\u001b[32m\u001b[1minfo     \u001b[0m] \u001b[1mAWAC_online_20250518185509: epoch=8 step=800\u001b[0m \u001b[36mepoch\u001b[0m=\u001b[35m8\u001b[0m \u001b[36mmetrics\u001b[0m=\u001b[35m{'time_inference': 8.589744567871093e-05, 'time_environment_step': 0.00032174110412597657, 'time_step': 0.00041552305221557615, 'rollout_return': -35.33366276983805, 'evaluation': 480.5093276448567}\u001b[0m \u001b[36mstep\u001b[0m=\u001b[35m800\u001b[0m\n",
      "\u001b[2m2025-05-18 18:55.12\u001b[0m [\u001b[32m\u001b[1minfo     \u001b[0m] \u001b[1mModel parameters are saved to training_logs/finetuning/pen/AWAC_online_20250518185509/model_900.d3\u001b[0m\n",
      "\u001b[2m2025-05-18 18:55.12\u001b[0m [\u001b[32m\u001b[1minfo     \u001b[0m] \u001b[1mAWAC_online_20250518185509: epoch=9 step=900\u001b[0m \u001b[36mepoch\u001b[0m=\u001b[35m9\u001b[0m \u001b[36mmetrics\u001b[0m=\u001b[35m{'time_inference': 8.84556770324707e-05, 'time_environment_step': 0.0002944183349609375, 'time_step': 0.00039140939712524415, 'rollout_return': 5169.674340886733, 'evaluation': 44.08571427400627}\u001b[0m \u001b[36mstep\u001b[0m=\u001b[35m900\u001b[0m\n",
      "\u001b[2m2025-05-18 18:55.13\u001b[0m [\u001b[32m\u001b[1minfo     \u001b[0m] \u001b[1mModel parameters are saved to training_logs/finetuning/pen/AWAC_online_20250518185509/model_1000.d3\u001b[0m\n",
      "\u001b[2m2025-05-18 18:55.13\u001b[0m [\u001b[32m\u001b[1minfo     \u001b[0m] \u001b[1mAWAC_online_20250518185509: epoch=10 step=1000\u001b[0m \u001b[36mepoch\u001b[0m=\u001b[35m10\u001b[0m \u001b[36mmetrics\u001b[0m=\u001b[35m{'time_inference': 8.395910263061523e-05, 'time_environment_step': 0.00030508279800415037, 'time_step': 0.00039763689041137694, 'rollout_return': 55.527106447294756, 'evaluation': 34.53576243344504}\u001b[0m \u001b[36mstep\u001b[0m=\u001b[35m1000\u001b[0m\n"
     ]
    },
    {
     "data": {
      "text/plain": [
       "<d3rlpy.algos.qlearning.awac.AWAC at 0x16692a230>"
      ]
     },
     "execution_count": 12,
     "metadata": {},
     "output_type": "execute_result"
    }
   ],
   "source": [
    "finetune_algorithm(pen_iql, pen_env, 'pen_iql', 'pen')\n",
    "finetune_algorithm(pen_cql, pen_env, 'pen_cql', 'pen')\n",
    "finetune_algorithm(pen_td3bc, pen_env, 'pen_td3bc', 'pen')\n",
    "finetune_algorithm(pen_awac, pen_env, 'pen_awac', 'pen')"
   ]
  },
  {
   "cell_type": "markdown",
   "id": "fe307620-5c34-4d87-9ed5-a020bb69194a",
   "metadata": {},
   "source": [
    "### Relocate"
   ]
  },
  {
   "cell_type": "code",
   "execution_count": 13,
   "id": "01640421-d7da-44e6-bd16-19d25b86353d",
   "metadata": {
    "collapsed": true,
    "jupyter": {
     "outputs_hidden": true
    },
    "scrolled": true
   },
   "outputs": [
    {
     "name": "stdout",
     "output_type": "stream",
     "text": [
      "\u001b[2m2025-05-18 18:55.13\u001b[0m [\u001b[32m\u001b[1minfo     \u001b[0m] \u001b[1mSignatures have been automatically determined.\u001b[0m \u001b[36maction_signature\u001b[0m=\u001b[35mSignature(dtype=[dtype('float32')], shape=[(30,)])\u001b[0m \u001b[36mobservation_signature\u001b[0m=\u001b[35mSignature(dtype=[dtype('float64')], shape=[(39,)])\u001b[0m \u001b[36mreward_signature\u001b[0m=\u001b[35mSignature(dtype=[dtype('float32')], shape=[[1]])\u001b[0m\n",
      "\u001b[2m2025-05-18 18:55.13\u001b[0m [\u001b[32m\u001b[1minfo     \u001b[0m] \u001b[1mAction-space has been automatically determined.\u001b[0m \u001b[36maction_space\u001b[0m=\u001b[35m<ActionSpace.CONTINUOUS: 1>\u001b[0m\n",
      "\u001b[2m2025-05-18 18:55.13\u001b[0m [\u001b[32m\u001b[1minfo     \u001b[0m] \u001b[1mAction size has been automatically determined.\u001b[0m \u001b[36maction_size\u001b[0m=\u001b[35m30\u001b[0m\n",
      "\u001b[2m2025-05-18 18:55.13\u001b[0m [\u001b[33m\u001b[1mwarning  \u001b[0m] \u001b[1mSkip building models since they're already built.\u001b[0m\n",
      "\u001b[2m2025-05-18 18:55.13\u001b[0m [\u001b[32m\u001b[1minfo     \u001b[0m] \u001b[1mDirectory is created at training_logs/finetuning/relocate/IQL_online_20250518185513\u001b[0m\n",
      "\u001b[2m2025-05-18 18:55.13\u001b[0m [\u001b[32m\u001b[1minfo     \u001b[0m] \u001b[1mParameters                    \u001b[0m \u001b[36mparams\u001b[0m=\u001b[35m{'observation_shape': [39], 'action_size': 30, 'config': {'type': 'iql', 'params': {'batch_size': 256, 'gamma': 0.99, 'observation_scaler': {'type': 'none', 'params': {}}, 'action_scaler': {'type': 'none', 'params': {}}, 'reward_scaler': {'type': 'none', 'params': {}}, 'compile_graph': False, 'actor_learning_rate': 0.0003, 'critic_learning_rate': 0.0003, 'actor_optim_factory': {'type': 'adam', 'params': {'clip_grad_norm': None, 'lr_scheduler_factory': {'type': 'none', 'params': {}}, 'betas': [0.9, 0.999], 'eps': 1e-08, 'weight_decay': 0.0, 'amsgrad': False}}, 'critic_optim_factory': {'type': 'adam', 'params': {'clip_grad_norm': None, 'lr_scheduler_factory': {'type': 'none', 'params': {}}, 'betas': [0.9, 0.999], 'eps': 1e-08, 'weight_decay': 0.0, 'amsgrad': False}}, 'actor_encoder_factory': {'type': 'default', 'params': {'activation': 'relu', 'use_batch_norm': False, 'dropout_rate': None}}, 'critic_encoder_factory': {'type': 'default', 'params': {'activation': 'relu', 'use_batch_norm': False, 'dropout_rate': None}}, 'value_encoder_factory': {'type': 'default', 'params': {'activation': 'relu', 'use_batch_norm': False, 'dropout_rate': None}}, 'tau': 0.005, 'n_critics': 2, 'expectile': 0.7, 'weight_temp': 3.0, 'max_weight': 100.0}}}\u001b[0m\n"
     ]
    },
    {
     "data": {
      "application/vnd.jupyter.widget-view+json": {
       "model_id": "5b0fa2986e5f4c2a8088eeba32311426",
       "version_major": 2,
       "version_minor": 0
      },
      "text/plain": [
       "  0%|          | 0/1000 [00:00<?, ?it/s]"
      ]
     },
     "metadata": {},
     "output_type": "display_data"
    },
    {
     "name": "stdout",
     "output_type": "stream",
     "text": [
      "\u001b[2m2025-05-18 18:55.14\u001b[0m [\u001b[32m\u001b[1minfo     \u001b[0m] \u001b[1mModel parameters are saved to training_logs/finetuning/relocate/IQL_online_20250518185513/model_100.d3\u001b[0m\n",
      "\u001b[2m2025-05-18 18:55.14\u001b[0m [\u001b[32m\u001b[1minfo     \u001b[0m] \u001b[1mIQL_online_20250518185513: epoch=1 step=100\u001b[0m \u001b[36mepoch\u001b[0m=\u001b[35m1\u001b[0m \u001b[36mmetrics\u001b[0m=\u001b[35m{'time_inference': 0.00013909101486206054, 'time_environment_step': 0.0002622485160827637, 'time_step': 0.0004100847244262695, 'evaluation': 377.41896823557727}\u001b[0m \u001b[36mstep\u001b[0m=\u001b[35m100\u001b[0m\n",
      "\u001b[2m2025-05-18 18:55.14\u001b[0m [\u001b[32m\u001b[1minfo     \u001b[0m] \u001b[1mModel parameters are saved to training_logs/finetuning/relocate/IQL_online_20250518185513/model_200.d3\u001b[0m\n",
      "\u001b[2m2025-05-18 18:55.14\u001b[0m [\u001b[32m\u001b[1minfo     \u001b[0m] \u001b[1mIQL_online_20250518185513: epoch=2 step=200\u001b[0m \u001b[36mepoch\u001b[0m=\u001b[35m2\u001b[0m \u001b[36mmetrics\u001b[0m=\u001b[35m{'time_inference': 9.415388107299805e-05, 'time_environment_step': 0.00022520065307617186, 'time_step': 0.0003280830383300781, 'rollout_return': 5.055437437045705, 'evaluation': 427.4947630955003}\u001b[0m \u001b[36mstep\u001b[0m=\u001b[35m200\u001b[0m\n",
      "\u001b[2m2025-05-18 18:55.15\u001b[0m [\u001b[32m\u001b[1minfo     \u001b[0m] \u001b[1mModel parameters are saved to training_logs/finetuning/relocate/IQL_online_20250518185513/model_300.d3\u001b[0m\n",
      "\u001b[2m2025-05-18 18:55.15\u001b[0m [\u001b[32m\u001b[1minfo     \u001b[0m] \u001b[1mIQL_online_20250518185513: epoch=3 step=300\u001b[0m \u001b[36mepoch\u001b[0m=\u001b[35m3\u001b[0m \u001b[36mmetrics\u001b[0m=\u001b[35m{'time_inference': 0.00012752532958984375, 'time_environment_step': 0.00024460077285766603, 'time_step': 0.003965234756469727, 'time_sample_batch': 0.0015832242511567615, 'time_algorithm_update': 0.006945468130565825, 'critic_loss': 92.50507527305966, 'q_loss': 89.83806716828119, 'v_loss': 2.6670082864307223, 'actor_loss': -187.02434612455824, 'evaluation': 6.208626055331522}\u001b[0m \u001b[36mstep\u001b[0m=\u001b[35m300\u001b[0m\n",
      "\u001b[2m2025-05-18 18:55.17\u001b[0m [\u001b[32m\u001b[1minfo     \u001b[0m] \u001b[1mModel parameters are saved to training_logs/finetuning/relocate/IQL_online_20250518185513/model_400.d3\u001b[0m\n",
      "\u001b[2m2025-05-18 18:55.17\u001b[0m [\u001b[32m\u001b[1minfo     \u001b[0m] \u001b[1mIQL_online_20250518185513: epoch=4 step=400\u001b[0m \u001b[36mepoch\u001b[0m=\u001b[35m4\u001b[0m \u001b[36mmetrics\u001b[0m=\u001b[35m{'time_inference': 0.00018770694732666015, 'time_environment_step': 0.0003310704231262207, 'time_sample_batch': 0.0015899872779846192, 'time_algorithm_update': 0.005288724899291992, 'critic_loss': 9.63888234615326, 'q_loss': 7.538837690353393, 'v_loss': 2.1000446593761444, 'actor_loss': -205.5760082244873, 'time_step': 0.0074174594879150395, 'rollout_return': 4.434058326612708, 'evaluation': 8.907314273164749}\u001b[0m \u001b[36mstep\u001b[0m=\u001b[35m400\u001b[0m\n",
      "\u001b[2m2025-05-18 18:55.18\u001b[0m [\u001b[32m\u001b[1minfo     \u001b[0m] \u001b[1mModel parameters are saved to training_logs/finetuning/relocate/IQL_online_20250518185513/model_500.d3\u001b[0m\n",
      "\u001b[2m2025-05-18 18:55.18\u001b[0m [\u001b[32m\u001b[1minfo     \u001b[0m] \u001b[1mIQL_online_20250518185513: epoch=5 step=500\u001b[0m \u001b[36mepoch\u001b[0m=\u001b[35m5\u001b[0m \u001b[36mmetrics\u001b[0m=\u001b[35m{'time_inference': 0.00018747329711914064, 'time_environment_step': 0.00034338951110839843, 'time_sample_batch': 0.0016001105308532716, 'time_algorithm_update': 0.005281312465667725, 'critic_loss': 7.301311955451966, 'q_loss': 5.6058337068557735, 'v_loss': 1.6954782259464265, 'actor_loss': -198.04204948425294, 'time_step': 0.00742997407913208, 'evaluation': 4.497342310707677}\u001b[0m \u001b[36mstep\u001b[0m=\u001b[35m500\u001b[0m\n",
      "\u001b[2m2025-05-18 18:55.20\u001b[0m [\u001b[32m\u001b[1minfo     \u001b[0m] \u001b[1mModel parameters are saved to training_logs/finetuning/relocate/IQL_online_20250518185513/model_600.d3\u001b[0m\n",
      "\u001b[2m2025-05-18 18:55.20\u001b[0m [\u001b[32m\u001b[1minfo     \u001b[0m] \u001b[1mIQL_online_20250518185513: epoch=6 step=600\u001b[0m \u001b[36mepoch\u001b[0m=\u001b[35m6\u001b[0m \u001b[36mmetrics\u001b[0m=\u001b[35m{'time_inference': 0.00019453048706054687, 'time_environment_step': 0.000355525016784668, 'time_sample_batch': 0.0016110014915466308, 'time_algorithm_update': 0.0049011635780334475, 'critic_loss': 6.055316667556763, 'q_loss': 4.773190565109253, 'v_loss': 1.282126089334488, 'actor_loss': -197.84019104003906, 'time_step': 0.007081618309020996, 'rollout_return': 11.786072324970307, 'evaluation': 3.6791349574016357}\u001b[0m \u001b[36mstep\u001b[0m=\u001b[35m600\u001b[0m\n",
      "\u001b[2m2025-05-18 18:55.21\u001b[0m [\u001b[32m\u001b[1minfo     \u001b[0m] \u001b[1mModel parameters are saved to training_logs/finetuning/relocate/IQL_online_20250518185513/model_700.d3\u001b[0m\n",
      "\u001b[2m2025-05-18 18:55.21\u001b[0m [\u001b[32m\u001b[1minfo     \u001b[0m] \u001b[1mIQL_online_20250518185513: epoch=7 step=700\u001b[0m \u001b[36mepoch\u001b[0m=\u001b[35m7\u001b[0m \u001b[36mmetrics\u001b[0m=\u001b[35m{'time_inference': 0.00019242286682128907, 'time_environment_step': 0.00032842636108398437, 'time_sample_batch': 0.0016037726402282715, 'time_algorithm_update': 0.004841389656066894, 'critic_loss': 5.989547028541565, 'q_loss': 4.8168332433700565, 'v_loss': 1.1727137660980225, 'actor_loss': -192.55515014648438, 'time_step': 0.0069838762283325195, 'evaluation': 3.373035561058992}\u001b[0m \u001b[36mstep\u001b[0m=\u001b[35m700\u001b[0m\n",
      "\u001b[2m2025-05-18 18:55.22\u001b[0m [\u001b[32m\u001b[1minfo     \u001b[0m] \u001b[1mModel parameters are saved to training_logs/finetuning/relocate/IQL_online_20250518185513/model_800.d3\u001b[0m\n",
      "\u001b[2m2025-05-18 18:55.22\u001b[0m [\u001b[32m\u001b[1minfo     \u001b[0m] \u001b[1mIQL_online_20250518185513: epoch=8 step=800\u001b[0m \u001b[36mepoch\u001b[0m=\u001b[35m8\u001b[0m \u001b[36mmetrics\u001b[0m=\u001b[35m{'time_inference': 0.00019271135330200194, 'time_environment_step': 0.00032774686813354494, 'time_sample_batch': 0.0016057324409484864, 'time_algorithm_update': 0.004789292812347412, 'critic_loss': 5.484561700820922, 'q_loss': 4.491439373493194, 'v_loss': 0.993122329711914, 'actor_loss': -183.15870101928712, 'time_step': 0.006934843063354492, 'rollout_return': 4.716601015352732, 'evaluation': 13.981338505331744}\u001b[0m \u001b[36mstep\u001b[0m=\u001b[35m800\u001b[0m\n",
      "\u001b[2m2025-05-18 18:55.24\u001b[0m [\u001b[32m\u001b[1minfo     \u001b[0m] \u001b[1mModel parameters are saved to training_logs/finetuning/relocate/IQL_online_20250518185513/model_900.d3\u001b[0m\n",
      "\u001b[2m2025-05-18 18:55.24\u001b[0m [\u001b[32m\u001b[1minfo     \u001b[0m] \u001b[1mIQL_online_20250518185513: epoch=9 step=900\u001b[0m \u001b[36mepoch\u001b[0m=\u001b[35m9\u001b[0m \u001b[36mmetrics\u001b[0m=\u001b[35m{'time_inference': 0.0001964592933654785, 'time_environment_step': 0.0003016352653503418, 'time_sample_batch': 0.001623995304107666, 'time_algorithm_update': 0.005069832801818847, 'critic_loss': 5.040330655574799, 'q_loss': 4.1898028898239135, 'v_loss': 0.8505277729034424, 'actor_loss': -168.20287559509276, 'time_step': 0.007210874557495117, 'evaluation': 4.462187681926965}\u001b[0m \u001b[36mstep\u001b[0m=\u001b[35m900\u001b[0m\n",
      "\u001b[2m2025-05-18 18:55.25\u001b[0m [\u001b[32m\u001b[1minfo     \u001b[0m] \u001b[1mModel parameters are saved to training_logs/finetuning/relocate/IQL_online_20250518185513/model_1000.d3\u001b[0m\n",
      "\u001b[2m2025-05-18 18:55.25\u001b[0m [\u001b[32m\u001b[1minfo     \u001b[0m] \u001b[1mIQL_online_20250518185513: epoch=10 step=1000\u001b[0m \u001b[36mepoch\u001b[0m=\u001b[35m10\u001b[0m \u001b[36mmetrics\u001b[0m=\u001b[35m{'time_inference': 0.0001905083656311035, 'time_environment_step': 0.00030871391296386717, 'time_sample_batch': 0.0016223573684692382, 'time_algorithm_update': 0.004936223030090332, 'critic_loss': 4.825813095569611, 'q_loss': 3.980917751789093, 'v_loss': 0.8448953402042388, 'actor_loss': -173.70109046936034, 'time_step': 0.00707803726196289, 'rollout_return': 4.225195245941993, 'evaluation': 4.934633150853107}\u001b[0m \u001b[36mstep\u001b[0m=\u001b[35m1000\u001b[0m\n",
      "\u001b[2m2025-05-18 18:55.25\u001b[0m [\u001b[32m\u001b[1minfo     \u001b[0m] \u001b[1mSignatures have been automatically determined.\u001b[0m \u001b[36maction_signature\u001b[0m=\u001b[35mSignature(dtype=[dtype('float32')], shape=[(30,)])\u001b[0m \u001b[36mobservation_signature\u001b[0m=\u001b[35mSignature(dtype=[dtype('float64')], shape=[(39,)])\u001b[0m \u001b[36mreward_signature\u001b[0m=\u001b[35mSignature(dtype=[dtype('float32')], shape=[[1]])\u001b[0m\n",
      "\u001b[2m2025-05-18 18:55.25\u001b[0m [\u001b[32m\u001b[1minfo     \u001b[0m] \u001b[1mAction-space has been automatically determined.\u001b[0m \u001b[36maction_space\u001b[0m=\u001b[35m<ActionSpace.CONTINUOUS: 1>\u001b[0m\n",
      "\u001b[2m2025-05-18 18:55.25\u001b[0m [\u001b[32m\u001b[1minfo     \u001b[0m] \u001b[1mAction size has been automatically determined.\u001b[0m \u001b[36maction_size\u001b[0m=\u001b[35m30\u001b[0m\n",
      "\u001b[2m2025-05-18 18:55.25\u001b[0m [\u001b[33m\u001b[1mwarning  \u001b[0m] \u001b[1mSkip building models since they're already built.\u001b[0m\n",
      "\u001b[2m2025-05-18 18:55.25\u001b[0m [\u001b[32m\u001b[1minfo     \u001b[0m] \u001b[1mDirectory is created at training_logs/finetuning/relocate/CQL_online_20250518185525\u001b[0m\n",
      "\u001b[2m2025-05-18 18:55.25\u001b[0m [\u001b[32m\u001b[1minfo     \u001b[0m] \u001b[1mParameters                    \u001b[0m \u001b[36mparams\u001b[0m=\u001b[35m{'observation_shape': [39], 'action_size': 30, 'config': {'type': 'cql', 'params': {'batch_size': 256, 'gamma': 0.99, 'observation_scaler': {'type': 'none', 'params': {}}, 'action_scaler': {'type': 'none', 'params': {}}, 'reward_scaler': {'type': 'none', 'params': {}}, 'compile_graph': False, 'actor_learning_rate': 0.0001, 'critic_learning_rate': 0.0003, 'temp_learning_rate': 0.0001, 'alpha_learning_rate': 0.0001, 'actor_optim_factory': {'type': 'adam', 'params': {'clip_grad_norm': None, 'lr_scheduler_factory': {'type': 'none', 'params': {}}, 'betas': [0.9, 0.999], 'eps': 1e-08, 'weight_decay': 0.0, 'amsgrad': False}}, 'critic_optim_factory': {'type': 'adam', 'params': {'clip_grad_norm': None, 'lr_scheduler_factory': {'type': 'none', 'params': {}}, 'betas': [0.9, 0.999], 'eps': 1e-08, 'weight_decay': 0.0, 'amsgrad': False}}, 'temp_optim_factory': {'type': 'adam', 'params': {'clip_grad_norm': None, 'lr_scheduler_factory': {'type': 'none', 'params': {}}, 'betas': [0.9, 0.999], 'eps': 1e-08, 'weight_decay': 0.0, 'amsgrad': False}}, 'alpha_optim_factory': {'type': 'adam', 'params': {'clip_grad_norm': None, 'lr_scheduler_factory': {'type': 'none', 'params': {}}, 'betas': [0.9, 0.999], 'eps': 1e-08, 'weight_decay': 0.0, 'amsgrad': False}}, 'actor_encoder_factory': {'type': 'default', 'params': {'activation': 'relu', 'use_batch_norm': False, 'dropout_rate': None}}, 'critic_encoder_factory': {'type': 'default', 'params': {'activation': 'relu', 'use_batch_norm': False, 'dropout_rate': None}}, 'q_func_factory': {'type': 'mean', 'params': {'share_encoder': False}}, 'tau': 0.005, 'n_critics': 2, 'initial_temperature': 1.0, 'initial_alpha': 1.0, 'alpha_threshold': 10.0, 'conservative_weight': 5.0, 'n_action_samples': 10, 'soft_q_backup': False, 'max_q_backup': False}}}\u001b[0m\n"
     ]
    },
    {
     "data": {
      "application/vnd.jupyter.widget-view+json": {
       "model_id": "623209ecc85944d4878daca3b2df8123",
       "version_major": 2,
       "version_minor": 0
      },
      "text/plain": [
       "  0%|          | 0/1000 [00:00<?, ?it/s]"
      ]
     },
     "metadata": {},
     "output_type": "display_data"
    },
    {
     "name": "stdout",
     "output_type": "stream",
     "text": [
      "\u001b[2m2025-05-18 18:55.26\u001b[0m [\u001b[32m\u001b[1minfo     \u001b[0m] \u001b[1mModel parameters are saved to training_logs/finetuning/relocate/CQL_online_20250518185525/model_100.d3\u001b[0m\n",
      "\u001b[2m2025-05-18 18:55.26\u001b[0m [\u001b[32m\u001b[1minfo     \u001b[0m] \u001b[1mCQL_online_20250518185525: epoch=1 step=100\u001b[0m \u001b[36mepoch\u001b[0m=\u001b[35m1\u001b[0m \u001b[36mmetrics\u001b[0m=\u001b[35m{'time_inference': 9.809255599975586e-05, 'time_environment_step': 0.00022925615310668947, 'time_step': 0.0003342556953430176, 'evaluation': 6.082309953601301}\u001b[0m \u001b[36mstep\u001b[0m=\u001b[35m100\u001b[0m\n",
      "\u001b[2m2025-05-18 18:55.26\u001b[0m [\u001b[32m\u001b[1minfo     \u001b[0m] \u001b[1mModel parameters are saved to training_logs/finetuning/relocate/CQL_online_20250518185525/model_200.d3\u001b[0m\n",
      "\u001b[2m2025-05-18 18:55.26\u001b[0m [\u001b[32m\u001b[1minfo     \u001b[0m] \u001b[1mCQL_online_20250518185525: epoch=2 step=200\u001b[0m \u001b[36mepoch\u001b[0m=\u001b[35m2\u001b[0m \u001b[36mmetrics\u001b[0m=\u001b[35m{'time_inference': 9.876012802124024e-05, 'time_environment_step': 0.00022796154022216797, 'time_step': 0.0003380274772644043, 'rollout_return': 5.13331458737354, 'evaluation': 5.912285256273949}\u001b[0m \u001b[36mstep\u001b[0m=\u001b[35m200\u001b[0m\n",
      "\u001b[2m2025-05-18 18:55.28\u001b[0m [\u001b[32m\u001b[1minfo     \u001b[0m] \u001b[1mModel parameters are saved to training_logs/finetuning/relocate/CQL_online_20250518185525/model_300.d3\u001b[0m\n",
      "\u001b[2m2025-05-18 18:55.28\u001b[0m [\u001b[32m\u001b[1minfo     \u001b[0m] \u001b[1mCQL_online_20250518185525: epoch=3 step=300\u001b[0m \u001b[36mepoch\u001b[0m=\u001b[35m3\u001b[0m \u001b[36mmetrics\u001b[0m=\u001b[35m{'time_inference': 0.00014811992645263672, 'time_environment_step': 0.0002707242965698242, 'time_step': 0.013607287406921386, 'time_sample_batch': 0.0016556580861409504, 'time_algorithm_update': 0.029705530121212916, 'critic_loss': -24.48019872392927, 'conservative_loss': -111.65169180007209, 'alpha': 0.9137173323404222, 'actor_loss': -73.09594781058175, 'temp': 0.9229389372326079, 'temp_loss': 23.37031972975958, 'evaluation': 5.8197437607430125}\u001b[0m \u001b[36mstep\u001b[0m=\u001b[35m300\u001b[0m\n",
      "\u001b[2m2025-05-18 18:55.32\u001b[0m [\u001b[32m\u001b[1minfo     \u001b[0m] \u001b[1mModel parameters are saved to training_logs/finetuning/relocate/CQL_online_20250518185525/model_400.d3\u001b[0m\n",
      "\u001b[2m2025-05-18 18:55.32\u001b[0m [\u001b[32m\u001b[1minfo     \u001b[0m] \u001b[1mCQL_online_20250518185525: epoch=4 step=400\u001b[0m \u001b[36mepoch\u001b[0m=\u001b[35m4\u001b[0m \u001b[36mmetrics\u001b[0m=\u001b[35m{'time_inference': 0.0002574300765991211, 'time_environment_step': 0.0003425836563110352, 'time_sample_batch': 0.0016671299934387207, 'time_algorithm_update': 0.027908165454864502, 'critic_loss': -82.84313873291016, 'conservative_loss': -106.7955369567871, 'alpha': 0.9081445956230163, 'actor_loss': -77.47295806884766, 'temp': 0.9175091558694839, 'temp_loss': 24.339764957427978, 'time_step': 0.030208885669708252, 'rollout_return': 4.924751868568202, 'evaluation': 6.416545440770433}\u001b[0m \u001b[36mstep\u001b[0m=\u001b[35m400\u001b[0m\n",
      "\u001b[2m2025-05-18 18:55.35\u001b[0m [\u001b[32m\u001b[1minfo     \u001b[0m] \u001b[1mModel parameters are saved to training_logs/finetuning/relocate/CQL_online_20250518185525/model_500.d3\u001b[0m\n",
      "\u001b[2m2025-05-18 18:55.35\u001b[0m [\u001b[32m\u001b[1minfo     \u001b[0m] \u001b[1mCQL_online_20250518185525: epoch=5 step=500\u001b[0m \u001b[36mepoch\u001b[0m=\u001b[35m5\u001b[0m \u001b[36mmetrics\u001b[0m=\u001b[35m{'time_inference': 0.000302119255065918, 'time_environment_step': 0.0003455543518066406, 'time_sample_batch': 0.0016961741447448732, 'time_algorithm_update': 0.028716483116149903, 'critic_loss': -77.46994506835938, 'conservative_loss': -99.28883094787598, 'alpha': 0.9006928837299347, 'actor_loss': -82.32933563232422, 'temp': 0.9096245121955872, 'temp_loss': 24.69495767593384, 'time_step': 0.031092889308929443, 'evaluation': 6.438472924927842}\u001b[0m \u001b[36mstep\u001b[0m=\u001b[35m500\u001b[0m\n",
      "\u001b[2m2025-05-18 18:55.39\u001b[0m [\u001b[32m\u001b[1minfo     \u001b[0m] \u001b[1mModel parameters are saved to training_logs/finetuning/relocate/CQL_online_20250518185525/model_600.d3\u001b[0m\n",
      "\u001b[2m2025-05-18 18:55.39\u001b[0m [\u001b[32m\u001b[1minfo     \u001b[0m] \u001b[1mCQL_online_20250518185525: epoch=6 step=600\u001b[0m \u001b[36mepoch\u001b[0m=\u001b[35m6\u001b[0m \u001b[36mmetrics\u001b[0m=\u001b[35m{'time_inference': 0.0003024482727050781, 'time_environment_step': 0.0003502941131591797, 'time_sample_batch': 0.0016942858695983888, 'time_algorithm_update': 0.028406112194061278, 'critic_loss': -70.71224689483643, 'conservative_loss': -91.03398384094238, 'alpha': 0.8936905390024186, 'actor_loss': -88.55163520812988, 'temp': 0.9015552109479904, 'temp_loss': 25.14947639465332, 'time_step': 0.0307873272895813, 'rollout_return': 6.186540565553998, 'evaluation': 6.958698922637071}\u001b[0m \u001b[36mstep\u001b[0m=\u001b[35m600\u001b[0m\n",
      "\u001b[2m2025-05-18 18:55.43\u001b[0m [\u001b[32m\u001b[1minfo     \u001b[0m] \u001b[1mModel parameters are saved to training_logs/finetuning/relocate/CQL_online_20250518185525/model_700.d3\u001b[0m\n",
      "\u001b[2m2025-05-18 18:55.43\u001b[0m [\u001b[32m\u001b[1minfo     \u001b[0m] \u001b[1mCQL_online_20250518185525: epoch=7 step=700\u001b[0m \u001b[36mepoch\u001b[0m=\u001b[35m7\u001b[0m \u001b[36mmetrics\u001b[0m=\u001b[35m{'time_inference': 0.0003047943115234375, 'time_environment_step': 0.00035480499267578127, 'time_sample_batch': 0.0017302322387695312, 'time_algorithm_update': 0.029957644939422608, 'critic_loss': -66.29290809631348, 'conservative_loss': -86.0319367980957, 'alpha': 0.8870552414655686, 'actor_loss': -94.28451324462891, 'temp': 0.8933492112159729, 'temp_loss': 25.155129146575927, 'time_step': 0.03238096714019775, 'evaluation': 7.432147674724105}\u001b[0m \u001b[36mstep\u001b[0m=\u001b[35m700\u001b[0m\n",
      "\u001b[2m2025-05-18 18:55.47\u001b[0m [\u001b[32m\u001b[1minfo     \u001b[0m] \u001b[1mModel parameters are saved to training_logs/finetuning/relocate/CQL_online_20250518185525/model_800.d3\u001b[0m\n",
      "\u001b[2m2025-05-18 18:55.47\u001b[0m [\u001b[32m\u001b[1minfo     \u001b[0m] \u001b[1mCQL_online_20250518185525: epoch=8 step=800\u001b[0m \u001b[36mepoch\u001b[0m=\u001b[35m8\u001b[0m \u001b[36mmetrics\u001b[0m=\u001b[35m{'time_inference': 0.00031636953353881837, 'time_environment_step': 0.000368199348449707, 'time_sample_batch': 0.0017538261413574219, 'time_algorithm_update': 0.031132981777191163, 'critic_loss': -63.53002433776855, 'conservative_loss': -82.78941963195801, 'alpha': 0.8805772793293, 'actor_loss': -103.01785812377929, 'temp': 0.8851655447483062, 'temp_loss': 25.03191514968872, 'time_step': 0.03360993146896362, 'rollout_return': 6.730521173867495, 'evaluation': 7.632567547225898}\u001b[0m \u001b[36mstep\u001b[0m=\u001b[35m800\u001b[0m\n",
      "\u001b[2m2025-05-18 18:55.50\u001b[0m [\u001b[32m\u001b[1minfo     \u001b[0m] \u001b[1mModel parameters are saved to training_logs/finetuning/relocate/CQL_online_20250518185525/model_900.d3\u001b[0m\n",
      "\u001b[2m2025-05-18 18:55.50\u001b[0m [\u001b[32m\u001b[1minfo     \u001b[0m] \u001b[1mCQL_online_20250518185525: epoch=9 step=900\u001b[0m \u001b[36mepoch\u001b[0m=\u001b[35m9\u001b[0m \u001b[36mmetrics\u001b[0m=\u001b[35m{'time_inference': 0.00030164480209350587, 'time_environment_step': 0.0003524041175842285, 'time_sample_batch': 0.00173583984375, 'time_algorithm_update': 0.028630759716033936, 'critic_loss': -57.17934871673584, 'conservative_loss': -78.74470550537109, 'alpha': 0.8742220598459244, 'actor_loss': -107.18438529968262, 'temp': 0.8770243579149246, 'temp_loss': 24.902002696990966, 'time_step': 0.03105327844619751, 'evaluation': 7.448974840317159}\u001b[0m \u001b[36mstep\u001b[0m=\u001b[35m900\u001b[0m\n",
      "\u001b[2m2025-05-18 18:55.54\u001b[0m [\u001b[32m\u001b[1minfo     \u001b[0m] \u001b[1mModel parameters are saved to training_logs/finetuning/relocate/CQL_online_20250518185525/model_1000.d3\u001b[0m\n",
      "\u001b[2m2025-05-18 18:55.54\u001b[0m [\u001b[32m\u001b[1minfo     \u001b[0m] \u001b[1mCQL_online_20250518185525: epoch=10 step=1000\u001b[0m \u001b[36mepoch\u001b[0m=\u001b[35m10\u001b[0m \u001b[36mmetrics\u001b[0m=\u001b[35m{'time_inference': 0.00029415369033813476, 'time_environment_step': 0.00035329341888427733, 'time_sample_batch': 0.0017638444900512696, 'time_algorithm_update': 0.028340280055999756, 'critic_loss': -53.6738419342041, 'conservative_loss': -74.06482902526855, 'alpha': 0.8680661153793335, 'actor_loss': -110.9506436920166, 'temp': 0.8688912850618362, 'temp_loss': 24.98743698120117, 'time_step': 0.030785696506500246, 'rollout_return': 6.437651224446275, 'evaluation': 6.377402390276556}\u001b[0m \u001b[36mstep\u001b[0m=\u001b[35m1000\u001b[0m\n",
      "\u001b[2m2025-05-18 18:55.54\u001b[0m [\u001b[32m\u001b[1minfo     \u001b[0m] \u001b[1mSignatures have been automatically determined.\u001b[0m \u001b[36maction_signature\u001b[0m=\u001b[35mSignature(dtype=[dtype('float32')], shape=[(30,)])\u001b[0m \u001b[36mobservation_signature\u001b[0m=\u001b[35mSignature(dtype=[dtype('float64')], shape=[(39,)])\u001b[0m \u001b[36mreward_signature\u001b[0m=\u001b[35mSignature(dtype=[dtype('float32')], shape=[[1]])\u001b[0m\n",
      "\u001b[2m2025-05-18 18:55.54\u001b[0m [\u001b[32m\u001b[1minfo     \u001b[0m] \u001b[1mAction-space has been automatically determined.\u001b[0m \u001b[36maction_space\u001b[0m=\u001b[35m<ActionSpace.CONTINUOUS: 1>\u001b[0m\n",
      "\u001b[2m2025-05-18 18:55.54\u001b[0m [\u001b[32m\u001b[1minfo     \u001b[0m] \u001b[1mAction size has been automatically determined.\u001b[0m \u001b[36maction_size\u001b[0m=\u001b[35m30\u001b[0m\n",
      "\u001b[2m2025-05-18 18:55.54\u001b[0m [\u001b[33m\u001b[1mwarning  \u001b[0m] \u001b[1mSkip building models since they're already built.\u001b[0m\n",
      "\u001b[2m2025-05-18 18:55.54\u001b[0m [\u001b[32m\u001b[1minfo     \u001b[0m] \u001b[1mDirectory is created at training_logs/finetuning/relocate/TD3PlusBC_online_20250518185554\u001b[0m\n",
      "\u001b[2m2025-05-18 18:55.54\u001b[0m [\u001b[32m\u001b[1minfo     \u001b[0m] \u001b[1mParameters                    \u001b[0m \u001b[36mparams\u001b[0m=\u001b[35m{'observation_shape': [39], 'action_size': 30, 'config': {'type': 'td3_plus_bc', 'params': {'batch_size': 256, 'gamma': 0.99, 'observation_scaler': {'type': 'none', 'params': {}}, 'action_scaler': {'type': 'none', 'params': {}}, 'reward_scaler': {'type': 'none', 'params': {}}, 'compile_graph': False, 'actor_learning_rate': 0.0003, 'critic_learning_rate': 0.0003, 'actor_optim_factory': {'type': 'adam', 'params': {'clip_grad_norm': None, 'lr_scheduler_factory': {'type': 'none', 'params': {}}, 'betas': [0.9, 0.999], 'eps': 1e-08, 'weight_decay': 0.0, 'amsgrad': False}}, 'critic_optim_factory': {'type': 'adam', 'params': {'clip_grad_norm': None, 'lr_scheduler_factory': {'type': 'none', 'params': {}}, 'betas': [0.9, 0.999], 'eps': 1e-08, 'weight_decay': 0.0, 'amsgrad': False}}, 'actor_encoder_factory': {'type': 'default', 'params': {'activation': 'relu', 'use_batch_norm': False, 'dropout_rate': None}}, 'critic_encoder_factory': {'type': 'default', 'params': {'activation': 'relu', 'use_batch_norm': False, 'dropout_rate': None}}, 'q_func_factory': {'type': 'mean', 'params': {'share_encoder': False}}, 'tau': 0.005, 'n_critics': 2, 'target_smoothing_sigma': 0.2, 'target_smoothing_clip': 0.5, 'alpha': 2.5, 'update_actor_interval': 2}}}\u001b[0m\n"
     ]
    },
    {
     "data": {
      "application/vnd.jupyter.widget-view+json": {
       "model_id": "08e52d5cb71349a8874764dc46b43374",
       "version_major": 2,
       "version_minor": 0
      },
      "text/plain": [
       "  0%|          | 0/1000 [00:00<?, ?it/s]"
      ]
     },
     "metadata": {},
     "output_type": "display_data"
    },
    {
     "name": "stdout",
     "output_type": "stream",
     "text": [
      "\u001b[2m2025-05-18 18:55.54\u001b[0m [\u001b[32m\u001b[1minfo     \u001b[0m] \u001b[1mModel parameters are saved to training_logs/finetuning/relocate/TD3PlusBC_online_20250518185554/model_100.d3\u001b[0m\n",
      "\u001b[2m2025-05-18 18:55.54\u001b[0m [\u001b[32m\u001b[1minfo     \u001b[0m] \u001b[1mTD3PlusBC_online_20250518185554: epoch=1 step=100\u001b[0m \u001b[36mepoch\u001b[0m=\u001b[35m1\u001b[0m \u001b[36mmetrics\u001b[0m=\u001b[35m{'time_inference': 5.391836166381836e-05, 'time_environment_step': 0.00025336027145385744, 'time_step': 0.0003142356872558594, 'evaluation': 12.34686946599695}\u001b[0m \u001b[36mstep\u001b[0m=\u001b[35m100\u001b[0m\n",
      "\u001b[2m2025-05-18 18:55.55\u001b[0m [\u001b[32m\u001b[1minfo     \u001b[0m] \u001b[1mModel parameters are saved to training_logs/finetuning/relocate/TD3PlusBC_online_20250518185554/model_200.d3\u001b[0m\n",
      "\u001b[2m2025-05-18 18:55.55\u001b[0m [\u001b[32m\u001b[1minfo     \u001b[0m] \u001b[1mTD3PlusBC_online_20250518185554: epoch=2 step=200\u001b[0m \u001b[36mepoch\u001b[0m=\u001b[35m2\u001b[0m \u001b[36mmetrics\u001b[0m=\u001b[35m{'time_inference': 4.3303966522216796e-05, 'time_environment_step': 0.00020636558532714842, 'time_step': 0.00025862932205200195, 'rollout_return': 14.362498956510104, 'evaluation': 14.845275048361742}\u001b[0m \u001b[36mstep\u001b[0m=\u001b[35m200\u001b[0m\n",
      "\u001b[2m2025-05-18 18:55.56\u001b[0m [\u001b[32m\u001b[1minfo     \u001b[0m] \u001b[1mModel parameters are saved to training_logs/finetuning/relocate/TD3PlusBC_online_20250518185554/model_300.d3\u001b[0m\n",
      "\u001b[2m2025-05-18 18:55.56\u001b[0m [\u001b[32m\u001b[1minfo     \u001b[0m] \u001b[1mTD3PlusBC_online_20250518185554: epoch=3 step=300\u001b[0m \u001b[36mepoch\u001b[0m=\u001b[35m3\u001b[0m \u001b[36mmetrics\u001b[0m=\u001b[35m{'time_inference': 7.860660552978515e-05, 'time_environment_step': 0.00027184009552001955, 'time_step': 0.002423896789550781, 'time_sample_batch': 0.0015654280072166806, 'time_algorithm_update': 0.003346613475254604, 'critic_loss': 103.78485609236218, 'actor_loss': -2.3839710553487143, 'bc_loss': 0.11602892917359227, 'evaluation': 19.56351548077277}\u001b[0m \u001b[36mstep\u001b[0m=\u001b[35m300\u001b[0m\n",
      "\u001b[2m2025-05-18 18:55.57\u001b[0m [\u001b[32m\u001b[1minfo     \u001b[0m] \u001b[1mModel parameters are saved to training_logs/finetuning/relocate/TD3PlusBC_online_20250518185554/model_400.d3\u001b[0m\n",
      "\u001b[2m2025-05-18 18:55.57\u001b[0m [\u001b[32m\u001b[1minfo     \u001b[0m] \u001b[1mTD3PlusBC_online_20250518185554: epoch=4 step=400\u001b[0m \u001b[36mepoch\u001b[0m=\u001b[35m4\u001b[0m \u001b[36mmetrics\u001b[0m=\u001b[35m{'time_inference': 0.00012352466583251954, 'time_environment_step': 0.0002942204475402832, 'time_sample_batch': 0.001569044589996338, 'time_algorithm_update': 0.0036244869232177736, 'critic_loss': 2.78797593832016, 'actor_loss': -2.4133691596984863, 'bc_loss': 0.08663082271814346, 'time_step': 0.005628793239593506, 'rollout_return': 10.354299053367368, 'evaluation': 21.695858391571438}\u001b[0m \u001b[36mstep\u001b[0m=\u001b[35m400\u001b[0m\n",
      "\u001b[2m2025-05-18 18:55.58\u001b[0m [\u001b[32m\u001b[1minfo     \u001b[0m] \u001b[1mModel parameters are saved to training_logs/finetuning/relocate/TD3PlusBC_online_20250518185554/model_500.d3\u001b[0m\n",
      "\u001b[2m2025-05-18 18:55.58\u001b[0m [\u001b[32m\u001b[1minfo     \u001b[0m] \u001b[1mTD3PlusBC_online_20250518185554: epoch=5 step=500\u001b[0m \u001b[36mepoch\u001b[0m=\u001b[35m5\u001b[0m \u001b[36mmetrics\u001b[0m=\u001b[35m{'time_inference': 0.00012554168701171874, 'time_environment_step': 0.0003175616264343262, 'time_sample_batch': 0.0015770673751831054, 'time_algorithm_update': 0.003495950698852539, 'critic_loss': 2.492548199892044, 'actor_loss': -2.438667459487915, 'bc_loss': 0.06133253067731857, 'time_step': 0.00553215742111206, 'evaluation': 13.161373088654566}\u001b[0m \u001b[36mstep\u001b[0m=\u001b[35m500\u001b[0m\n",
      "\u001b[2m2025-05-18 18:55.59\u001b[0m [\u001b[32m\u001b[1minfo     \u001b[0m] \u001b[1mModel parameters are saved to training_logs/finetuning/relocate/TD3PlusBC_online_20250518185554/model_600.d3\u001b[0m\n",
      "\u001b[2m2025-05-18 18:55.59\u001b[0m [\u001b[32m\u001b[1minfo     \u001b[0m] \u001b[1mTD3PlusBC_online_20250518185554: epoch=6 step=600\u001b[0m \u001b[36mepoch\u001b[0m=\u001b[35m6\u001b[0m \u001b[36mmetrics\u001b[0m=\u001b[35m{'time_inference': 0.00012934207916259766, 'time_environment_step': 0.0003161287307739258, 'time_sample_batch': 0.0016194820404052735, 'time_algorithm_update': 0.003514218330383301, 'critic_loss': 1.58920574426651, 'actor_loss': -2.441883087158203, 'bc_loss': 0.05811690233647823, 'time_step': 0.00559877872467041, 'rollout_return': 14.42704216965699, 'evaluation': 12.602932137929198}\u001b[0m \u001b[36mstep\u001b[0m=\u001b[35m600\u001b[0m\n",
      "\u001b[2m2025-05-18 18:56.00\u001b[0m [\u001b[32m\u001b[1minfo     \u001b[0m] \u001b[1mModel parameters are saved to training_logs/finetuning/relocate/TD3PlusBC_online_20250518185554/model_700.d3\u001b[0m\n",
      "\u001b[2m2025-05-18 18:56.00\u001b[0m [\u001b[32m\u001b[1minfo     \u001b[0m] \u001b[1mTD3PlusBC_online_20250518185554: epoch=7 step=700\u001b[0m \u001b[36mepoch\u001b[0m=\u001b[35m7\u001b[0m \u001b[36mmetrics\u001b[0m=\u001b[35m{'time_inference': 0.00013450384140014648, 'time_environment_step': 0.00033947467803955076, 'time_sample_batch': 0.0016036343574523926, 'time_algorithm_update': 0.0034894776344299317, 'critic_loss': 1.7057631671428681, 'actor_loss': -2.455771598815918, 'bc_loss': 0.04422840714454651, 'time_step': 0.00558469295501709, 'evaluation': 13.733166537476546}\u001b[0m \u001b[36mstep\u001b[0m=\u001b[35m700\u001b[0m\n",
      "\u001b[2m2025-05-18 18:56.02\u001b[0m [\u001b[32m\u001b[1minfo     \u001b[0m] \u001b[1mModel parameters are saved to training_logs/finetuning/relocate/TD3PlusBC_online_20250518185554/model_800.d3\u001b[0m\n",
      "\u001b[2m2025-05-18 18:56.02\u001b[0m [\u001b[32m\u001b[1minfo     \u001b[0m] \u001b[1mTD3PlusBC_online_20250518185554: epoch=8 step=800\u001b[0m \u001b[36mepoch\u001b[0m=\u001b[35m8\u001b[0m \u001b[36mmetrics\u001b[0m=\u001b[35m{'time_inference': 0.0001370406150817871, 'time_environment_step': 0.00031662702560424804, 'time_sample_batch': 0.001644289493560791, 'time_algorithm_update': 0.0036746335029602052, 'critic_loss': 1.562292309999466, 'actor_loss': -2.462476830482483, 'bc_loss': 0.03752316765487194, 'time_step': 0.0057940220832824706, 'rollout_return': 10.568113763905039, 'evaluation': 17.591070475309575}\u001b[0m \u001b[36mstep\u001b[0m=\u001b[35m800\u001b[0m\n",
      "\u001b[2m2025-05-18 18:56.03\u001b[0m [\u001b[32m\u001b[1minfo     \u001b[0m] \u001b[1mModel parameters are saved to training_logs/finetuning/relocate/TD3PlusBC_online_20250518185554/model_900.d3\u001b[0m\n",
      "\u001b[2m2025-05-18 18:56.03\u001b[0m [\u001b[32m\u001b[1minfo     \u001b[0m] \u001b[1mTD3PlusBC_online_20250518185554: epoch=9 step=900\u001b[0m \u001b[36mepoch\u001b[0m=\u001b[35m9\u001b[0m \u001b[36mmetrics\u001b[0m=\u001b[35m{'time_inference': 0.0001276373863220215, 'time_environment_step': 0.00033486127853393554, 'time_sample_batch': 0.0015923571586608887, 'time_algorithm_update': 0.0033536529541015624, 'critic_loss': 1.7017408168315888, 'actor_loss': -2.4657017850875853, 'bc_loss': 0.03429818913340568, 'time_step': 0.005425040721893311, 'evaluation': 18.352221776293398}\u001b[0m \u001b[36mstep\u001b[0m=\u001b[35m900\u001b[0m\n",
      "\u001b[2m2025-05-18 18:56.04\u001b[0m [\u001b[32m\u001b[1minfo     \u001b[0m] \u001b[1mModel parameters are saved to training_logs/finetuning/relocate/TD3PlusBC_online_20250518185554/model_1000.d3\u001b[0m\n",
      "\u001b[2m2025-05-18 18:56.04\u001b[0m [\u001b[32m\u001b[1minfo     \u001b[0m] \u001b[1mTD3PlusBC_online_20250518185554: epoch=10 step=1000\u001b[0m \u001b[36mepoch\u001b[0m=\u001b[35m10\u001b[0m \u001b[36mmetrics\u001b[0m=\u001b[35m{'time_inference': 0.00012844085693359376, 'time_environment_step': 0.0002967214584350586, 'time_sample_batch': 0.001609055995941162, 'time_algorithm_update': 0.0033565616607666017, 'critic_loss': 1.6127613234519957, 'actor_loss': -2.4635598707199096, 'bc_loss': 0.036440184973180294, 'time_step': 0.005409026145935058, 'rollout_return': 14.270203334281586, 'evaluation': 16.254882030788416}\u001b[0m \u001b[36mstep\u001b[0m=\u001b[35m1000\u001b[0m\n",
      "\u001b[2m2025-05-18 18:56.04\u001b[0m [\u001b[32m\u001b[1minfo     \u001b[0m] \u001b[1mSignatures have been automatically determined.\u001b[0m \u001b[36maction_signature\u001b[0m=\u001b[35mSignature(dtype=[dtype('float32')], shape=[(30,)])\u001b[0m \u001b[36mobservation_signature\u001b[0m=\u001b[35mSignature(dtype=[dtype('float64')], shape=[(39,)])\u001b[0m \u001b[36mreward_signature\u001b[0m=\u001b[35mSignature(dtype=[dtype('float32')], shape=[[1]])\u001b[0m\n",
      "\u001b[2m2025-05-18 18:56.04\u001b[0m [\u001b[32m\u001b[1minfo     \u001b[0m] \u001b[1mAction-space has been automatically determined.\u001b[0m \u001b[36maction_space\u001b[0m=\u001b[35m<ActionSpace.CONTINUOUS: 1>\u001b[0m\n",
      "\u001b[2m2025-05-18 18:56.04\u001b[0m [\u001b[32m\u001b[1minfo     \u001b[0m] \u001b[1mAction size has been automatically determined.\u001b[0m \u001b[36maction_size\u001b[0m=\u001b[35m30\u001b[0m\n",
      "\u001b[2m2025-05-18 18:56.04\u001b[0m [\u001b[33m\u001b[1mwarning  \u001b[0m] \u001b[1mSkip building models since they're already built.\u001b[0m\n",
      "\u001b[2m2025-05-18 18:56.04\u001b[0m [\u001b[32m\u001b[1minfo     \u001b[0m] \u001b[1mDirectory is created at training_logs/finetuning/relocate/AWAC_online_20250518185604\u001b[0m\n",
      "\u001b[2m2025-05-18 18:56.04\u001b[0m [\u001b[32m\u001b[1minfo     \u001b[0m] \u001b[1mParameters                    \u001b[0m \u001b[36mparams\u001b[0m=\u001b[35m{'observation_shape': [39], 'action_size': 30, 'config': {'type': 'awac', 'params': {'batch_size': 1024, 'gamma': 0.99, 'observation_scaler': {'type': 'none', 'params': {}}, 'action_scaler': {'type': 'none', 'params': {}}, 'reward_scaler': {'type': 'none', 'params': {}}, 'compile_graph': False, 'actor_learning_rate': 0.0003, 'critic_learning_rate': 0.0003, 'actor_optim_factory': {'type': 'adam', 'params': {'clip_grad_norm': None, 'lr_scheduler_factory': {'type': 'none', 'params': {}}, 'betas': [0.9, 0.999], 'eps': 1e-08, 'weight_decay': 0.0, 'amsgrad': False}}, 'critic_optim_factory': {'type': 'adam', 'params': {'clip_grad_norm': None, 'lr_scheduler_factory': {'type': 'none', 'params': {}}, 'betas': [0.9, 0.999], 'eps': 1e-08, 'weight_decay': 0.0, 'amsgrad': False}}, 'actor_encoder_factory': {'type': 'default', 'params': {'activation': 'relu', 'use_batch_norm': False, 'dropout_rate': None}}, 'critic_encoder_factory': {'type': 'default', 'params': {'activation': 'relu', 'use_batch_norm': False, 'dropout_rate': None}}, 'q_func_factory': {'type': 'mean', 'params': {'share_encoder': False}}, 'tau': 0.005, 'lam': 1.0, 'n_action_samples': 1, 'n_critics': 2}}}\u001b[0m\n"
     ]
    },
    {
     "data": {
      "application/vnd.jupyter.widget-view+json": {
       "model_id": "4aaf735bcf0f42338c22e1bfb4d1758f",
       "version_major": 2,
       "version_minor": 0
      },
      "text/plain": [
       "  0%|          | 0/1000 [00:00<?, ?it/s]"
      ]
     },
     "metadata": {},
     "output_type": "display_data"
    },
    {
     "name": "stdout",
     "output_type": "stream",
     "text": [
      "\u001b[2m2025-05-18 18:56.05\u001b[0m [\u001b[32m\u001b[1minfo     \u001b[0m] \u001b[1mModel parameters are saved to training_logs/finetuning/relocate/AWAC_online_20250518185604/model_100.d3\u001b[0m\n",
      "\u001b[2m2025-05-18 18:56.05\u001b[0m [\u001b[32m\u001b[1minfo     \u001b[0m] \u001b[1mAWAC_online_20250518185604: epoch=1 step=100\u001b[0m \u001b[36mepoch\u001b[0m=\u001b[35m1\u001b[0m \u001b[36mmetrics\u001b[0m=\u001b[35m{'time_inference': 0.0001044464111328125, 'time_environment_step': 0.0002234053611755371, 'time_step': 0.0003343057632446289, 'evaluation': 6.458218036536872}\u001b[0m \u001b[36mstep\u001b[0m=\u001b[35m100\u001b[0m\n",
      "\u001b[2m2025-05-18 18:56.05\u001b[0m [\u001b[32m\u001b[1minfo     \u001b[0m] \u001b[1mModel parameters are saved to training_logs/finetuning/relocate/AWAC_online_20250518185604/model_200.d3\u001b[0m\n",
      "\u001b[2m2025-05-18 18:56.05\u001b[0m [\u001b[32m\u001b[1minfo     \u001b[0m] \u001b[1mAWAC_online_20250518185604: epoch=2 step=200\u001b[0m \u001b[36mepoch\u001b[0m=\u001b[35m2\u001b[0m \u001b[36mmetrics\u001b[0m=\u001b[35m{'time_inference': 8.417606353759766e-05, 'time_environment_step': 0.00021026134490966796, 'time_step': 0.00030308961868286133, 'rollout_return': 9.906085778106286, 'evaluation': 6.666476772413136}\u001b[0m \u001b[36mstep\u001b[0m=\u001b[35m200\u001b[0m\n",
      "\u001b[2m2025-05-18 18:56.06\u001b[0m [\u001b[32m\u001b[1minfo     \u001b[0m] \u001b[1mModel parameters are saved to training_logs/finetuning/relocate/AWAC_online_20250518185604/model_300.d3\u001b[0m\n",
      "\u001b[2m2025-05-18 18:56.06\u001b[0m [\u001b[32m\u001b[1minfo     \u001b[0m] \u001b[1mAWAC_online_20250518185604: epoch=3 step=300\u001b[0m \u001b[36mepoch\u001b[0m=\u001b[35m3\u001b[0m \u001b[36mmetrics\u001b[0m=\u001b[35m{'time_inference': 8.484601974487305e-05, 'time_environment_step': 0.0002122807502746582, 'time_step': 0.0003030872344970703, 'evaluation': 6.426108702066955}\u001b[0m \u001b[36mstep\u001b[0m=\u001b[35m300\u001b[0m\n",
      "\u001b[2m2025-05-18 18:56.06\u001b[0m [\u001b[32m\u001b[1minfo     \u001b[0m] \u001b[1mModel parameters are saved to training_logs/finetuning/relocate/AWAC_online_20250518185604/model_400.d3\u001b[0m\n",
      "\u001b[2m2025-05-18 18:56.06\u001b[0m [\u001b[32m\u001b[1minfo     \u001b[0m] \u001b[1mAWAC_online_20250518185604: epoch=4 step=400\u001b[0m \u001b[36mepoch\u001b[0m=\u001b[35m4\u001b[0m \u001b[36mmetrics\u001b[0m=\u001b[35m{'time_inference': 8.636951446533203e-05, 'time_environment_step': 0.00021535634994506836, 'time_step': 0.0003135824203491211, 'rollout_return': 6.3534401388159445, 'evaluation': 7.067675420430265}\u001b[0m \u001b[36mstep\u001b[0m=\u001b[35m400\u001b[0m\n",
      "\u001b[2m2025-05-18 18:56.07\u001b[0m [\u001b[32m\u001b[1minfo     \u001b[0m] \u001b[1mModel parameters are saved to training_logs/finetuning/relocate/AWAC_online_20250518185604/model_500.d3\u001b[0m\n",
      "\u001b[2m2025-05-18 18:56.07\u001b[0m [\u001b[32m\u001b[1minfo     \u001b[0m] \u001b[1mAWAC_online_20250518185604: epoch=5 step=500\u001b[0m \u001b[36mepoch\u001b[0m=\u001b[35m5\u001b[0m \u001b[36mmetrics\u001b[0m=\u001b[35m{'time_inference': 8.367061614990234e-05, 'time_environment_step': 0.00021214962005615236, 'time_step': 0.0003017497062683106, 'evaluation': 6.940607704353967}\u001b[0m \u001b[36mstep\u001b[0m=\u001b[35m500\u001b[0m\n",
      "\u001b[2m2025-05-18 18:56.07\u001b[0m [\u001b[32m\u001b[1minfo     \u001b[0m] \u001b[1mModel parameters are saved to training_logs/finetuning/relocate/AWAC_online_20250518185604/model_600.d3\u001b[0m\n",
      "\u001b[2m2025-05-18 18:56.07\u001b[0m [\u001b[32m\u001b[1minfo     \u001b[0m] \u001b[1mAWAC_online_20250518185604: epoch=6 step=600\u001b[0m \u001b[36mepoch\u001b[0m=\u001b[35m6\u001b[0m \u001b[36mmetrics\u001b[0m=\u001b[35m{'time_inference': 8.304119110107422e-05, 'time_environment_step': 0.00021330118179321289, 'time_step': 0.00030574321746826174, 'rollout_return': 6.594448147009919, 'evaluation': 6.787038262996691}\u001b[0m \u001b[36mstep\u001b[0m=\u001b[35m600\u001b[0m\n",
      "\u001b[2m2025-05-18 18:56.08\u001b[0m [\u001b[32m\u001b[1minfo     \u001b[0m] \u001b[1mModel parameters are saved to training_logs/finetuning/relocate/AWAC_online_20250518185604/model_700.d3\u001b[0m\n",
      "\u001b[2m2025-05-18 18:56.08\u001b[0m [\u001b[32m\u001b[1minfo     \u001b[0m] \u001b[1mAWAC_online_20250518185604: epoch=7 step=700\u001b[0m \u001b[36mepoch\u001b[0m=\u001b[35m7\u001b[0m \u001b[36mmetrics\u001b[0m=\u001b[35m{'time_inference': 8.49151611328125e-05, 'time_environment_step': 0.00021338939666748046, 'time_step': 0.0003044724464416504, 'evaluation': 7.1802393979452805}\u001b[0m \u001b[36mstep\u001b[0m=\u001b[35m700\u001b[0m\n",
      "\u001b[2m2025-05-18 18:56.08\u001b[0m [\u001b[32m\u001b[1minfo     \u001b[0m] \u001b[1mModel parameters are saved to training_logs/finetuning/relocate/AWAC_online_20250518185604/model_800.d3\u001b[0m\n",
      "\u001b[2m2025-05-18 18:56.08\u001b[0m [\u001b[32m\u001b[1minfo     \u001b[0m] \u001b[1mAWAC_online_20250518185604: epoch=8 step=800\u001b[0m \u001b[36mepoch\u001b[0m=\u001b[35m8\u001b[0m \u001b[36mmetrics\u001b[0m=\u001b[35m{'time_inference': 8.627653121948242e-05, 'time_environment_step': 0.00021680593490600586, 'time_step': 0.00031191349029541015, 'rollout_return': 7.908283704882178, 'evaluation': 7.504361578403464}\u001b[0m \u001b[36mstep\u001b[0m=\u001b[35m800\u001b[0m\n",
      "\u001b[2m2025-05-18 18:56.09\u001b[0m [\u001b[32m\u001b[1minfo     \u001b[0m] \u001b[1mModel parameters are saved to training_logs/finetuning/relocate/AWAC_online_20250518185604/model_900.d3\u001b[0m\n",
      "\u001b[2m2025-05-18 18:56.09\u001b[0m [\u001b[32m\u001b[1minfo     \u001b[0m] \u001b[1mAWAC_online_20250518185604: epoch=9 step=900\u001b[0m \u001b[36mepoch\u001b[0m=\u001b[35m9\u001b[0m \u001b[36mmetrics\u001b[0m=\u001b[35m{'time_inference': 8.721828460693359e-05, 'time_environment_step': 0.00021585702896118164, 'time_step': 0.0003094172477722168, 'evaluation': 7.274838382218624}\u001b[0m \u001b[36mstep\u001b[0m=\u001b[35m900\u001b[0m\n",
      "\u001b[2m2025-05-18 18:56.09\u001b[0m [\u001b[32m\u001b[1minfo     \u001b[0m] \u001b[1mModel parameters are saved to training_logs/finetuning/relocate/AWAC_online_20250518185604/model_1000.d3\u001b[0m\n",
      "\u001b[2m2025-05-18 18:56.09\u001b[0m [\u001b[32m\u001b[1minfo     \u001b[0m] \u001b[1mAWAC_online_20250518185604: epoch=10 step=1000\u001b[0m \u001b[36mepoch\u001b[0m=\u001b[35m10\u001b[0m \u001b[36mmetrics\u001b[0m=\u001b[35m{'time_inference': 8.620500564575195e-05, 'time_environment_step': 0.0002148723602294922, 'time_step': 0.00030961751937866214, 'rollout_return': 9.12650687197364, 'evaluation': 7.04499207677982}\u001b[0m \u001b[36mstep\u001b[0m=\u001b[35m1000\u001b[0m\n"
     ]
    },
    {
     "data": {
      "text/plain": [
       "<d3rlpy.algos.qlearning.awac.AWAC at 0x166972740>"
      ]
     },
     "execution_count": 13,
     "metadata": {},
     "output_type": "execute_result"
    }
   ],
   "source": [
    "finetune_algorithm(relocate_iql, relocate_env, 'relocate_iql', 'relocate')\n",
    "finetune_algorithm(relocate_cql, relocate_env, 'relocate_cql', 'relocate')\n",
    "finetune_algorithm(relocate_td3bc, relocate_env, 'relocate_td3bc', 'relocate')\n",
    "finetune_algorithm(relocate_awac, relocate_env, 'relocate_awac', 'relocate')"
   ]
  },
  {
   "cell_type": "markdown",
   "id": "f717f645-c044-4be0-819b-3834d2b2c6c2",
   "metadata": {},
   "source": [
    "### Hammer"
   ]
  },
  {
   "cell_type": "code",
   "execution_count": 14,
   "id": "86061b27-ae9f-4398-93ce-537d1a340334",
   "metadata": {
    "collapsed": true,
    "jupyter": {
     "outputs_hidden": true
    },
    "scrolled": true
   },
   "outputs": [
    {
     "name": "stdout",
     "output_type": "stream",
     "text": [
      "\u001b[2m2025-05-18 18:56.09\u001b[0m [\u001b[32m\u001b[1minfo     \u001b[0m] \u001b[1mSignatures have been automatically determined.\u001b[0m \u001b[36maction_signature\u001b[0m=\u001b[35mSignature(dtype=[dtype('float32')], shape=[(26,)])\u001b[0m \u001b[36mobservation_signature\u001b[0m=\u001b[35mSignature(dtype=[dtype('float64')], shape=[(46,)])\u001b[0m \u001b[36mreward_signature\u001b[0m=\u001b[35mSignature(dtype=[dtype('float32')], shape=[[1]])\u001b[0m\n",
      "\u001b[2m2025-05-18 18:56.09\u001b[0m [\u001b[32m\u001b[1minfo     \u001b[0m] \u001b[1mAction-space has been automatically determined.\u001b[0m \u001b[36maction_space\u001b[0m=\u001b[35m<ActionSpace.CONTINUOUS: 1>\u001b[0m\n",
      "\u001b[2m2025-05-18 18:56.09\u001b[0m [\u001b[32m\u001b[1minfo     \u001b[0m] \u001b[1mAction size has been automatically determined.\u001b[0m \u001b[36maction_size\u001b[0m=\u001b[35m26\u001b[0m\n",
      "\u001b[2m2025-05-18 18:56.09\u001b[0m [\u001b[33m\u001b[1mwarning  \u001b[0m] \u001b[1mSkip building models since they're already built.\u001b[0m\n",
      "\u001b[2m2025-05-18 18:56.09\u001b[0m [\u001b[32m\u001b[1minfo     \u001b[0m] \u001b[1mDirectory is created at training_logs/finetuning/hammer/IQL_online_20250518185609\u001b[0m\n",
      "\u001b[2m2025-05-18 18:56.09\u001b[0m [\u001b[32m\u001b[1minfo     \u001b[0m] \u001b[1mParameters                    \u001b[0m \u001b[36mparams\u001b[0m=\u001b[35m{'observation_shape': [46], 'action_size': 26, 'config': {'type': 'iql', 'params': {'batch_size': 256, 'gamma': 0.99, 'observation_scaler': {'type': 'none', 'params': {}}, 'action_scaler': {'type': 'none', 'params': {}}, 'reward_scaler': {'type': 'none', 'params': {}}, 'compile_graph': False, 'actor_learning_rate': 0.0003, 'critic_learning_rate': 0.0003, 'actor_optim_factory': {'type': 'adam', 'params': {'clip_grad_norm': None, 'lr_scheduler_factory': {'type': 'none', 'params': {}}, 'betas': [0.9, 0.999], 'eps': 1e-08, 'weight_decay': 0.0, 'amsgrad': False}}, 'critic_optim_factory': {'type': 'adam', 'params': {'clip_grad_norm': None, 'lr_scheduler_factory': {'type': 'none', 'params': {}}, 'betas': [0.9, 0.999], 'eps': 1e-08, 'weight_decay': 0.0, 'amsgrad': False}}, 'actor_encoder_factory': {'type': 'default', 'params': {'activation': 'relu', 'use_batch_norm': False, 'dropout_rate': None}}, 'critic_encoder_factory': {'type': 'default', 'params': {'activation': 'relu', 'use_batch_norm': False, 'dropout_rate': None}}, 'value_encoder_factory': {'type': 'default', 'params': {'activation': 'relu', 'use_batch_norm': False, 'dropout_rate': None}}, 'tau': 0.005, 'n_critics': 2, 'expectile': 0.7, 'weight_temp': 3.0, 'max_weight': 100.0}}}\u001b[0m\n"
     ]
    },
    {
     "data": {
      "application/vnd.jupyter.widget-view+json": {
       "model_id": "e6f96ca888494d34ad11d1452131e705",
       "version_major": 2,
       "version_minor": 0
      },
      "text/plain": [
       "  0%|          | 0/1000 [00:00<?, ?it/s]"
      ]
     },
     "metadata": {},
     "output_type": "display_data"
    },
    {
     "name": "stdout",
     "output_type": "stream",
     "text": [
      "\u001b[2m2025-05-18 18:56.10\u001b[0m [\u001b[32m\u001b[1minfo     \u001b[0m] \u001b[1mModel parameters are saved to training_logs/finetuning/hammer/IQL_online_20250518185609/model_100.d3\u001b[0m\n",
      "\u001b[2m2025-05-18 18:56.10\u001b[0m [\u001b[32m\u001b[1minfo     \u001b[0m] \u001b[1mIQL_online_20250518185609: epoch=1 step=100\u001b[0m \u001b[36mepoch\u001b[0m=\u001b[35m1\u001b[0m \u001b[36mmetrics\u001b[0m=\u001b[35m{'time_inference': 0.00010914325714111327, 'time_environment_step': 0.0002841925621032715, 'time_step': 0.00040043115615844726, 'evaluation': -236.3017042474453}\u001b[0m \u001b[36mstep\u001b[0m=\u001b[35m100\u001b[0m\n",
      "\u001b[2m2025-05-18 18:56.11\u001b[0m [\u001b[32m\u001b[1minfo     \u001b[0m] \u001b[1mModel parameters are saved to training_logs/finetuning/hammer/IQL_online_20250518185609/model_200.d3\u001b[0m\n",
      "\u001b[2m2025-05-18 18:56.11\u001b[0m [\u001b[32m\u001b[1minfo     \u001b[0m] \u001b[1mIQL_online_20250518185609: epoch=2 step=200\u001b[0m \u001b[36mepoch\u001b[0m=\u001b[35m2\u001b[0m \u001b[36mmetrics\u001b[0m=\u001b[35m{'time_inference': 9.61923599243164e-05, 'time_environment_step': 0.0002687835693359375, 'time_step': 0.00037456512451171874, 'rollout_return': -240.32897045576604, 'evaluation': -237.8109085472463}\u001b[0m \u001b[36mstep\u001b[0m=\u001b[35m200\u001b[0m\n",
      "\u001b[2m2025-05-18 18:56.12\u001b[0m [\u001b[32m\u001b[1minfo     \u001b[0m] \u001b[1mModel parameters are saved to training_logs/finetuning/hammer/IQL_online_20250518185609/model_300.d3\u001b[0m\n",
      "\u001b[2m2025-05-18 18:56.12\u001b[0m [\u001b[32m\u001b[1minfo     \u001b[0m] \u001b[1mIQL_online_20250518185609: epoch=3 step=300\u001b[0m \u001b[36mepoch\u001b[0m=\u001b[35m3\u001b[0m \u001b[36mmetrics\u001b[0m=\u001b[35m{'time_inference': 0.00013203144073486327, 'time_environment_step': 0.0003111910820007324, 'time_step': 0.003202359676361084, 'time_sample_batch': 0.0015932548613775345, 'time_algorithm_update': 0.004948383285885765, 'critic_loss': 1473.4425891694568, 'q_loss': 1385.3997065226238, 'v_loss': 88.04287628900437, 'actor_loss': -101.4326491015298, 'evaluation': -230.98221397143317}\u001b[0m \u001b[36mstep\u001b[0m=\u001b[35m300\u001b[0m\n",
      "\u001b[2m2025-05-18 18:56.13\u001b[0m [\u001b[32m\u001b[1minfo     \u001b[0m] \u001b[1mModel parameters are saved to training_logs/finetuning/hammer/IQL_online_20250518185609/model_400.d3\u001b[0m\n",
      "\u001b[2m2025-05-18 18:56.13\u001b[0m [\u001b[32m\u001b[1minfo     \u001b[0m] \u001b[1mIQL_online_20250518185609: epoch=4 step=400\u001b[0m \u001b[36mepoch\u001b[0m=\u001b[35m4\u001b[0m \u001b[36mmetrics\u001b[0m=\u001b[35m{'time_inference': 0.00018984317779541015, 'time_environment_step': 0.0003554201126098633, 'time_sample_batch': 0.0016016888618469239, 'time_algorithm_update': 0.005637755393981933, 'critic_loss': 188.13470817565917, 'q_loss': 143.85988815307618, 'v_loss': 44.274819412231444, 'actor_loss': -139.88110816955566, 'time_step': 0.0078059077262878414, 'rollout_return': -239.455416766548, 'evaluation': -234.3372234071713}\u001b[0m \u001b[36mstep\u001b[0m=\u001b[35m400\u001b[0m\n",
      "\u001b[2m2025-05-18 18:56.15\u001b[0m [\u001b[32m\u001b[1minfo     \u001b[0m] \u001b[1mModel parameters are saved to training_logs/finetuning/hammer/IQL_online_20250518185609/model_500.d3\u001b[0m\n",
      "\u001b[2m2025-05-18 18:56.15\u001b[0m [\u001b[32m\u001b[1minfo     \u001b[0m] \u001b[1mIQL_online_20250518185609: epoch=5 step=500\u001b[0m \u001b[36mepoch\u001b[0m=\u001b[35m5\u001b[0m \u001b[36mmetrics\u001b[0m=\u001b[35m{'time_inference': 0.00020380020141601561, 'time_environment_step': 0.00035393238067626953, 'time_sample_batch': 0.001615917682647705, 'time_algorithm_update': 0.005567643642425537, 'critic_loss': 120.3660726928711, 'q_loss': 84.75270957946778, 'v_loss': 35.61336324691772, 'actor_loss': -165.1507991027832, 'time_step': 0.0077604174613952635, 'evaluation': -234.43790041496112}\u001b[0m \u001b[36mstep\u001b[0m=\u001b[35m500\u001b[0m\n",
      "\u001b[2m2025-05-18 18:56.16\u001b[0m [\u001b[32m\u001b[1minfo     \u001b[0m] \u001b[1mModel parameters are saved to training_logs/finetuning/hammer/IQL_online_20250518185609/model_600.d3\u001b[0m\n",
      "\u001b[2m2025-05-18 18:56.16\u001b[0m [\u001b[32m\u001b[1minfo     \u001b[0m] \u001b[1mIQL_online_20250518185609: epoch=6 step=600\u001b[0m \u001b[36mepoch\u001b[0m=\u001b[35m6\u001b[0m \u001b[36mmetrics\u001b[0m=\u001b[35m{'time_inference': 0.0001958465576171875, 'time_environment_step': 0.0003397488594055176, 'time_sample_batch': 0.001613328456878662, 'time_algorithm_update': 0.005031831264495849, 'critic_loss': 84.05477573394775, 'q_loss': 60.616494026184085, 'v_loss': 23.438281993865967, 'actor_loss': -166.8753875732422, 'time_step': 0.007200832366943359, 'rollout_return': -238.3222663213142, 'evaluation': -235.18196407867714}\u001b[0m \u001b[36mstep\u001b[0m=\u001b[35m600\u001b[0m\n",
      "\u001b[2m2025-05-18 18:56.18\u001b[0m [\u001b[32m\u001b[1minfo     \u001b[0m] \u001b[1mModel parameters are saved to training_logs/finetuning/hammer/IQL_online_20250518185609/model_700.d3\u001b[0m\n",
      "\u001b[2m2025-05-18 18:56.18\u001b[0m [\u001b[32m\u001b[1minfo     \u001b[0m] \u001b[1mIQL_online_20250518185609: epoch=7 step=700\u001b[0m \u001b[36mepoch\u001b[0m=\u001b[35m7\u001b[0m \u001b[36mmetrics\u001b[0m=\u001b[35m{'time_inference': 0.0002560615539550781, 'time_environment_step': 0.0004292583465576172, 'time_sample_batch': 0.00203754186630249, 'time_algorithm_update': 0.009656960964202882, 'critic_loss': 76.08986682891846, 'q_loss': 57.80541931152344, 'v_loss': 18.28444778442383, 'actor_loss': -164.0545432281494, 'time_step': 0.012407951354980469, 'evaluation': -237.20189354756303}\u001b[0m \u001b[36mstep\u001b[0m=\u001b[35m700\u001b[0m\n",
      "\u001b[2m2025-05-18 18:56.19\u001b[0m [\u001b[32m\u001b[1minfo     \u001b[0m] \u001b[1mModel parameters are saved to training_logs/finetuning/hammer/IQL_online_20250518185609/model_800.d3\u001b[0m\n",
      "\u001b[2m2025-05-18 18:56.19\u001b[0m [\u001b[32m\u001b[1minfo     \u001b[0m] \u001b[1mIQL_online_20250518185609: epoch=8 step=800\u001b[0m \u001b[36mepoch\u001b[0m=\u001b[35m8\u001b[0m \u001b[36mmetrics\u001b[0m=\u001b[35m{'time_inference': 0.00019130229949951172, 'time_environment_step': 0.00033324241638183594, 'time_sample_batch': 0.0016068077087402343, 'time_algorithm_update': 0.00483971118927002, 'critic_loss': 58.333515090942385, 'q_loss': 44.94417407989502, 'v_loss': 13.38934108734131, 'actor_loss': -169.0197918701172, 'time_step': 0.006990954875946045, 'rollout_return': -240.13983895208213, 'evaluation': -233.44089762810685}\u001b[0m \u001b[36mstep\u001b[0m=\u001b[35m800\u001b[0m\n",
      "\u001b[2m2025-05-18 18:56.21\u001b[0m [\u001b[32m\u001b[1minfo     \u001b[0m] \u001b[1mModel parameters are saved to training_logs/finetuning/hammer/IQL_online_20250518185609/model_900.d3\u001b[0m\n",
      "\u001b[2m2025-05-18 18:56.21\u001b[0m [\u001b[32m\u001b[1minfo     \u001b[0m] \u001b[1mIQL_online_20250518185609: epoch=9 step=900\u001b[0m \u001b[36mepoch\u001b[0m=\u001b[35m9\u001b[0m \u001b[36mmetrics\u001b[0m=\u001b[35m{'time_inference': 0.00019839048385620118, 'time_environment_step': 0.00035408496856689456, 'time_sample_batch': 0.0016283798217773438, 'time_algorithm_update': 0.004888250827789307, 'critic_loss': 50.79784061431885, 'q_loss': 38.906364555358884, 'v_loss': 11.89147596359253, 'actor_loss': -176.0526951599121, 'time_step': 0.007087512016296387, 'evaluation': -233.12796571802468}\u001b[0m \u001b[36mstep\u001b[0m=\u001b[35m900\u001b[0m\n",
      "\u001b[2m2025-05-18 18:56.22\u001b[0m [\u001b[32m\u001b[1minfo     \u001b[0m] \u001b[1mModel parameters are saved to training_logs/finetuning/hammer/IQL_online_20250518185609/model_1000.d3\u001b[0m\n",
      "\u001b[2m2025-05-18 18:56.22\u001b[0m [\u001b[32m\u001b[1minfo     \u001b[0m] \u001b[1mIQL_online_20250518185609: epoch=10 step=1000\u001b[0m \u001b[36mepoch\u001b[0m=\u001b[35m10\u001b[0m \u001b[36mmetrics\u001b[0m=\u001b[35m{'time_inference': 0.0001941823959350586, 'time_environment_step': 0.00034682273864746095, 'time_sample_batch': 0.0016178011894226075, 'time_algorithm_update': 0.004725849628448487, 'critic_loss': 45.65868423461914, 'q_loss': 35.51868280410767, 'v_loss': 10.140001339912414, 'actor_loss': -179.0642218017578, 'time_step': 0.006904227733612061, 'rollout_return': -239.07859166761435, 'evaluation': -233.96645213766823}\u001b[0m \u001b[36mstep\u001b[0m=\u001b[35m1000\u001b[0m\n",
      "\u001b[2m2025-05-18 18:56.22\u001b[0m [\u001b[32m\u001b[1minfo     \u001b[0m] \u001b[1mSignatures have been automatically determined.\u001b[0m \u001b[36maction_signature\u001b[0m=\u001b[35mSignature(dtype=[dtype('float32')], shape=[(26,)])\u001b[0m \u001b[36mobservation_signature\u001b[0m=\u001b[35mSignature(dtype=[dtype('float64')], shape=[(46,)])\u001b[0m \u001b[36mreward_signature\u001b[0m=\u001b[35mSignature(dtype=[dtype('float32')], shape=[[1]])\u001b[0m\n",
      "\u001b[2m2025-05-18 18:56.22\u001b[0m [\u001b[32m\u001b[1minfo     \u001b[0m] \u001b[1mAction-space has been automatically determined.\u001b[0m \u001b[36maction_space\u001b[0m=\u001b[35m<ActionSpace.CONTINUOUS: 1>\u001b[0m\n",
      "\u001b[2m2025-05-18 18:56.22\u001b[0m [\u001b[32m\u001b[1minfo     \u001b[0m] \u001b[1mAction size has been automatically determined.\u001b[0m \u001b[36maction_size\u001b[0m=\u001b[35m26\u001b[0m\n",
      "\u001b[2m2025-05-18 18:56.22\u001b[0m [\u001b[33m\u001b[1mwarning  \u001b[0m] \u001b[1mSkip building models since they're already built.\u001b[0m\n",
      "\u001b[2m2025-05-18 18:56.22\u001b[0m [\u001b[32m\u001b[1minfo     \u001b[0m] \u001b[1mDirectory is created at training_logs/finetuning/hammer/CQL_online_20250518185622\u001b[0m\n",
      "\u001b[2m2025-05-18 18:56.22\u001b[0m [\u001b[32m\u001b[1minfo     \u001b[0m] \u001b[1mParameters                    \u001b[0m \u001b[36mparams\u001b[0m=\u001b[35m{'observation_shape': [46], 'action_size': 26, 'config': {'type': 'cql', 'params': {'batch_size': 256, 'gamma': 0.99, 'observation_scaler': {'type': 'none', 'params': {}}, 'action_scaler': {'type': 'none', 'params': {}}, 'reward_scaler': {'type': 'none', 'params': {}}, 'compile_graph': False, 'actor_learning_rate': 0.0001, 'critic_learning_rate': 0.0003, 'temp_learning_rate': 0.0001, 'alpha_learning_rate': 0.0001, 'actor_optim_factory': {'type': 'adam', 'params': {'clip_grad_norm': None, 'lr_scheduler_factory': {'type': 'none', 'params': {}}, 'betas': [0.9, 0.999], 'eps': 1e-08, 'weight_decay': 0.0, 'amsgrad': False}}, 'critic_optim_factory': {'type': 'adam', 'params': {'clip_grad_norm': None, 'lr_scheduler_factory': {'type': 'none', 'params': {}}, 'betas': [0.9, 0.999], 'eps': 1e-08, 'weight_decay': 0.0, 'amsgrad': False}}, 'temp_optim_factory': {'type': 'adam', 'params': {'clip_grad_norm': None, 'lr_scheduler_factory': {'type': 'none', 'params': {}}, 'betas': [0.9, 0.999], 'eps': 1e-08, 'weight_decay': 0.0, 'amsgrad': False}}, 'alpha_optim_factory': {'type': 'adam', 'params': {'clip_grad_norm': None, 'lr_scheduler_factory': {'type': 'none', 'params': {}}, 'betas': [0.9, 0.999], 'eps': 1e-08, 'weight_decay': 0.0, 'amsgrad': False}}, 'actor_encoder_factory': {'type': 'default', 'params': {'activation': 'relu', 'use_batch_norm': False, 'dropout_rate': None}}, 'critic_encoder_factory': {'type': 'default', 'params': {'activation': 'relu', 'use_batch_norm': False, 'dropout_rate': None}}, 'q_func_factory': {'type': 'mean', 'params': {'share_encoder': False}}, 'tau': 0.005, 'n_critics': 2, 'initial_temperature': 1.0, 'initial_alpha': 1.0, 'alpha_threshold': 10.0, 'conservative_weight': 5.0, 'n_action_samples': 10, 'soft_q_backup': False, 'max_q_backup': False}}}\u001b[0m\n"
     ]
    },
    {
     "data": {
      "application/vnd.jupyter.widget-view+json": {
       "model_id": "9ed4369d539d431391c0477604ad3b91",
       "version_major": 2,
       "version_minor": 0
      },
      "text/plain": [
       "  0%|          | 0/1000 [00:00<?, ?it/s]"
      ]
     },
     "metadata": {},
     "output_type": "display_data"
    },
    {
     "name": "stdout",
     "output_type": "stream",
     "text": [
      "\u001b[2m2025-05-18 18:56.23\u001b[0m [\u001b[32m\u001b[1minfo     \u001b[0m] \u001b[1mModel parameters are saved to training_logs/finetuning/hammer/CQL_online_20250518185622/model_100.d3\u001b[0m\n",
      "\u001b[2m2025-05-18 18:56.23\u001b[0m [\u001b[32m\u001b[1minfo     \u001b[0m] \u001b[1mCQL_online_20250518185622: epoch=1 step=100\u001b[0m \u001b[36mepoch\u001b[0m=\u001b[35m1\u001b[0m \u001b[36mmetrics\u001b[0m=\u001b[35m{'time_inference': 0.00010489463806152343, 'time_environment_step': 0.00027507543563842773, 'time_step': 0.00038679122924804686, 'evaluation': -233.71239611302812}\u001b[0m \u001b[36mstep\u001b[0m=\u001b[35m100\u001b[0m\n",
      "\u001b[2m2025-05-18 18:56.23\u001b[0m [\u001b[32m\u001b[1minfo     \u001b[0m] \u001b[1mModel parameters are saved to training_logs/finetuning/hammer/CQL_online_20250518185622/model_200.d3\u001b[0m\n",
      "\u001b[2m2025-05-18 18:56.23\u001b[0m [\u001b[32m\u001b[1minfo     \u001b[0m] \u001b[1mCQL_online_20250518185622: epoch=2 step=200\u001b[0m \u001b[36mepoch\u001b[0m=\u001b[35m2\u001b[0m \u001b[36mmetrics\u001b[0m=\u001b[35m{'time_inference': 8.993148803710937e-05, 'time_environment_step': 0.0002585196495056152, 'time_step': 0.0003575730323791504, 'rollout_return': -250.8519107604349, 'evaluation': -232.78719127924973}\u001b[0m \u001b[36mstep\u001b[0m=\u001b[35m200\u001b[0m\n",
      "\u001b[2m2025-05-18 18:56.25\u001b[0m [\u001b[32m\u001b[1minfo     \u001b[0m] \u001b[1mModel parameters are saved to training_logs/finetuning/hammer/CQL_online_20250518185622/model_300.d3\u001b[0m\n",
      "\u001b[2m2025-05-18 18:56.25\u001b[0m [\u001b[32m\u001b[1minfo     \u001b[0m] \u001b[1mCQL_online_20250518185622: epoch=3 step=300\u001b[0m \u001b[36mepoch\u001b[0m=\u001b[35m3\u001b[0m \u001b[36mmetrics\u001b[0m=\u001b[35m{'time_inference': 0.0001510810852050781, 'time_environment_step': 0.00033190965652465823, 'time_step': 0.013199622631072999, 'time_sample_batch': 0.0016682431811378116, 'time_algorithm_update': 0.02856932935260591, 'critic_loss': 426.8353235153925, 'conservative_loss': 52.80059169587635, 'alpha': 1.0814633397828965, 'actor_loss': -209.9183135259719, 'temp': 0.9113807408582597, 'temp_loss': 32.24457463764009, 'evaluation': -233.47088180035763}\u001b[0m \u001b[36mstep\u001b[0m=\u001b[35m300\u001b[0m\n",
      "\u001b[2m2025-05-18 18:56.29\u001b[0m [\u001b[32m\u001b[1minfo     \u001b[0m] \u001b[1mModel parameters are saved to training_logs/finetuning/hammer/CQL_online_20250518185622/model_400.d3\u001b[0m\n",
      "\u001b[2m2025-05-18 18:56.29\u001b[0m [\u001b[32m\u001b[1minfo     \u001b[0m] \u001b[1mCQL_online_20250518185622: epoch=4 step=400\u001b[0m \u001b[36mepoch\u001b[0m=\u001b[35m4\u001b[0m \u001b[36mmetrics\u001b[0m=\u001b[35m{'time_inference': 0.0002598071098327637, 'time_environment_step': 0.0004215431213378906, 'time_sample_batch': 0.0016772222518920898, 'time_algorithm_update': 0.027215144634246825, 'critic_loss': 108.1431874847412, 'conservative_loss': 36.90987060546875, 'alpha': 1.0848559892177583, 'actor_loss': -218.16211456298828, 'temp': 0.9043690037727355, 'temp_loss': 31.485204124450682, 'time_step': 0.02960571527481079, 'rollout_return': -255.222222216245, 'evaluation': -235.44670610229792}\u001b[0m \u001b[36mstep\u001b[0m=\u001b[35m400\u001b[0m\n",
      "\u001b[2m2025-05-18 18:56.33\u001b[0m [\u001b[32m\u001b[1minfo     \u001b[0m] \u001b[1mModel parameters are saved to training_logs/finetuning/hammer/CQL_online_20250518185622/model_500.d3\u001b[0m\n",
      "\u001b[2m2025-05-18 18:56.33\u001b[0m [\u001b[32m\u001b[1minfo     \u001b[0m] \u001b[1mCQL_online_20250518185622: epoch=5 step=500\u001b[0m \u001b[36mepoch\u001b[0m=\u001b[35m5\u001b[0m \u001b[36mmetrics\u001b[0m=\u001b[35m{'time_inference': 0.0002878570556640625, 'time_environment_step': 0.0004282975196838379, 'time_sample_batch': 0.0017008519172668458, 'time_algorithm_update': 0.02782386541366577, 'critic_loss': 92.76495674133301, 'conservative_loss': 34.639336605072025, 'alpha': 1.0893091917037965, 'actor_loss': -224.83348449707032, 'temp': 0.8947541648149491, 'temp_loss': 31.174878730773926, 'time_step': 0.03027191638946533, 'evaluation': -233.33310313994497}\u001b[0m \u001b[36mstep\u001b[0m=\u001b[35m500\u001b[0m\n",
      "\u001b[2m2025-05-18 18:56.36\u001b[0m [\u001b[32m\u001b[1minfo     \u001b[0m] \u001b[1mModel parameters are saved to training_logs/finetuning/hammer/CQL_online_20250518185622/model_600.d3\u001b[0m\n",
      "\u001b[2m2025-05-18 18:56.36\u001b[0m [\u001b[32m\u001b[1minfo     \u001b[0m] \u001b[1mCQL_online_20250518185622: epoch=6 step=600\u001b[0m \u001b[36mepoch\u001b[0m=\u001b[35m6\u001b[0m \u001b[36mmetrics\u001b[0m=\u001b[35m{'time_inference': 0.00029000520706176755, 'time_environment_step': 0.0004292964935302734, 'time_sample_batch': 0.001726064682006836, 'time_algorithm_update': 0.02735121488571167, 'critic_loss': 79.59447067260743, 'conservative_loss': 33.125243701934814, 'alpha': 1.0937309288978576, 'actor_loss': -230.1750862121582, 'temp': 0.8854182696342469, 'temp_loss': 30.906232624053956, 'time_step': 0.029829630851745604, 'rollout_return': -253.53214928440048, 'evaluation': -231.4184356633679}\u001b[0m \u001b[36mstep\u001b[0m=\u001b[35m600\u001b[0m\n",
      "\u001b[2m2025-05-18 18:56.40\u001b[0m [\u001b[32m\u001b[1minfo     \u001b[0m] \u001b[1mModel parameters are saved to training_logs/finetuning/hammer/CQL_online_20250518185622/model_700.d3\u001b[0m\n",
      "\u001b[2m2025-05-18 18:56.40\u001b[0m [\u001b[32m\u001b[1minfo     \u001b[0m] \u001b[1mCQL_online_20250518185622: epoch=7 step=700\u001b[0m \u001b[36mepoch\u001b[0m=\u001b[35m7\u001b[0m \u001b[36mmetrics\u001b[0m=\u001b[35m{'time_inference': 0.00029053449630737303, 'time_environment_step': 0.0004309248924255371, 'time_sample_batch': 0.0017281627655029296, 'time_algorithm_update': 0.02658544301986694, 'critic_loss': 78.20082038879394, 'conservative_loss': 33.31760187149048, 'alpha': 1.0983578670024872, 'actor_loss': -232.5860223388672, 'temp': 0.8763112187385559, 'temp_loss': 30.578571128845216, 'time_step': 0.029066035747528075, 'evaluation': -232.35556701609153}\u001b[0m \u001b[36mstep\u001b[0m=\u001b[35m700\u001b[0m\n",
      "\u001b[2m2025-05-18 18:56.44\u001b[0m [\u001b[32m\u001b[1minfo     \u001b[0m] \u001b[1mModel parameters are saved to training_logs/finetuning/hammer/CQL_online_20250518185622/model_800.d3\u001b[0m\n",
      "\u001b[2m2025-05-18 18:56.44\u001b[0m [\u001b[32m\u001b[1minfo     \u001b[0m] \u001b[1mCQL_online_20250518185622: epoch=8 step=800\u001b[0m \u001b[36mepoch\u001b[0m=\u001b[35m8\u001b[0m \u001b[36mmetrics\u001b[0m=\u001b[35m{'time_inference': 0.0002914595603942871, 'time_environment_step': 0.00043459415435791014, 'time_sample_batch': 0.001745297908782959, 'time_algorithm_update': 0.026725621223449708, 'critic_loss': 75.52605537414551, 'conservative_loss': 33.55265676498413, 'alpha': 1.1033139872550963, 'actor_loss': -236.34233825683594, 'temp': 0.8674315011501312, 'temp_loss': 30.230430583953858, 'time_step': 0.029230268001556398, 'rollout_return': -251.0667313642522, 'evaluation': -234.08782993175652}\u001b[0m \u001b[36mstep\u001b[0m=\u001b[35m800\u001b[0m\n",
      "\u001b[2m2025-05-18 18:56.47\u001b[0m [\u001b[32m\u001b[1minfo     \u001b[0m] \u001b[1mModel parameters are saved to training_logs/finetuning/hammer/CQL_online_20250518185622/model_900.d3\u001b[0m\n",
      "\u001b[2m2025-05-18 18:56.47\u001b[0m [\u001b[32m\u001b[1minfo     \u001b[0m] \u001b[1mCQL_online_20250518185622: epoch=9 step=900\u001b[0m \u001b[36mepoch\u001b[0m=\u001b[35m9\u001b[0m \u001b[36mmetrics\u001b[0m=\u001b[35m{'time_inference': 0.0002998208999633789, 'time_environment_step': 0.0004365134239196777, 'time_sample_batch': 0.0017550396919250488, 'time_algorithm_update': 0.026366877555847167, 'critic_loss': 74.9128772354126, 'conservative_loss': 32.918656482696534, 'alpha': 1.1085459578037262, 'actor_loss': -239.20736495971678, 'temp': 0.8587508970499038, 'temp_loss': 29.8230544090271, 'time_step': 0.028889579772949217, 'evaluation': -231.8402938464763}\u001b[0m \u001b[36mstep\u001b[0m=\u001b[35m900\u001b[0m\n",
      "\u001b[2m2025-05-18 18:56.51\u001b[0m [\u001b[32m\u001b[1minfo     \u001b[0m] \u001b[1mModel parameters are saved to training_logs/finetuning/hammer/CQL_online_20250518185622/model_1000.d3\u001b[0m\n",
      "\u001b[2m2025-05-18 18:56.51\u001b[0m [\u001b[32m\u001b[1minfo     \u001b[0m] \u001b[1mCQL_online_20250518185622: epoch=10 step=1000\u001b[0m \u001b[36mepoch\u001b[0m=\u001b[35m10\u001b[0m \u001b[36mmetrics\u001b[0m=\u001b[35m{'time_inference': 0.00029751539230346677, 'time_environment_step': 0.0004373741149902344, 'time_sample_batch': 0.0017596912384033204, 'time_algorithm_update': 0.026519429683685303, 'critic_loss': 73.30429718017578, 'conservative_loss': 32.430855140686035, 'alpha': 1.1139250302314758, 'actor_loss': -242.31879501342775, 'temp': 0.8502712601423263, 'temp_loss': 29.47031665802002, 'time_step': 0.0290468430519104, 'rollout_return': -268.3166367917531, 'evaluation': -234.9344136740936}\u001b[0m \u001b[36mstep\u001b[0m=\u001b[35m1000\u001b[0m\n",
      "\u001b[2m2025-05-18 18:56.51\u001b[0m [\u001b[32m\u001b[1minfo     \u001b[0m] \u001b[1mSignatures have been automatically determined.\u001b[0m \u001b[36maction_signature\u001b[0m=\u001b[35mSignature(dtype=[dtype('float32')], shape=[(26,)])\u001b[0m \u001b[36mobservation_signature\u001b[0m=\u001b[35mSignature(dtype=[dtype('float64')], shape=[(46,)])\u001b[0m \u001b[36mreward_signature\u001b[0m=\u001b[35mSignature(dtype=[dtype('float32')], shape=[[1]])\u001b[0m\n",
      "\u001b[2m2025-05-18 18:56.51\u001b[0m [\u001b[32m\u001b[1minfo     \u001b[0m] \u001b[1mAction-space has been automatically determined.\u001b[0m \u001b[36maction_space\u001b[0m=\u001b[35m<ActionSpace.CONTINUOUS: 1>\u001b[0m\n",
      "\u001b[2m2025-05-18 18:56.51\u001b[0m [\u001b[32m\u001b[1minfo     \u001b[0m] \u001b[1mAction size has been automatically determined.\u001b[0m \u001b[36maction_size\u001b[0m=\u001b[35m26\u001b[0m\n",
      "\u001b[2m2025-05-18 18:56.51\u001b[0m [\u001b[33m\u001b[1mwarning  \u001b[0m] \u001b[1mSkip building models since they're already built.\u001b[0m\n",
      "\u001b[2m2025-05-18 18:56.51\u001b[0m [\u001b[32m\u001b[1minfo     \u001b[0m] \u001b[1mDirectory is created at training_logs/finetuning/hammer/TD3PlusBC_online_20250518185651\u001b[0m\n",
      "\u001b[2m2025-05-18 18:56.51\u001b[0m [\u001b[32m\u001b[1minfo     \u001b[0m] \u001b[1mParameters                    \u001b[0m \u001b[36mparams\u001b[0m=\u001b[35m{'observation_shape': [46], 'action_size': 26, 'config': {'type': 'td3_plus_bc', 'params': {'batch_size': 256, 'gamma': 0.99, 'observation_scaler': {'type': 'none', 'params': {}}, 'action_scaler': {'type': 'none', 'params': {}}, 'reward_scaler': {'type': 'none', 'params': {}}, 'compile_graph': False, 'actor_learning_rate': 0.0003, 'critic_learning_rate': 0.0003, 'actor_optim_factory': {'type': 'adam', 'params': {'clip_grad_norm': None, 'lr_scheduler_factory': {'type': 'none', 'params': {}}, 'betas': [0.9, 0.999], 'eps': 1e-08, 'weight_decay': 0.0, 'amsgrad': False}}, 'critic_optim_factory': {'type': 'adam', 'params': {'clip_grad_norm': None, 'lr_scheduler_factory': {'type': 'none', 'params': {}}, 'betas': [0.9, 0.999], 'eps': 1e-08, 'weight_decay': 0.0, 'amsgrad': False}}, 'actor_encoder_factory': {'type': 'default', 'params': {'activation': 'relu', 'use_batch_norm': False, 'dropout_rate': None}}, 'critic_encoder_factory': {'type': 'default', 'params': {'activation': 'relu', 'use_batch_norm': False, 'dropout_rate': None}}, 'q_func_factory': {'type': 'mean', 'params': {'share_encoder': False}}, 'tau': 0.005, 'n_critics': 2, 'target_smoothing_sigma': 0.2, 'target_smoothing_clip': 0.5, 'alpha': 2.5, 'update_actor_interval': 2}}}\u001b[0m\n"
     ]
    },
    {
     "data": {
      "application/vnd.jupyter.widget-view+json": {
       "model_id": "b5d5ffb0266348e5a8fca63362c752a5",
       "version_major": 2,
       "version_minor": 0
      },
      "text/plain": [
       "  0%|          | 0/1000 [00:00<?, ?it/s]"
      ]
     },
     "metadata": {},
     "output_type": "display_data"
    },
    {
     "name": "stdout",
     "output_type": "stream",
     "text": [
      "\u001b[2m2025-05-18 18:56.52\u001b[0m [\u001b[32m\u001b[1minfo     \u001b[0m] \u001b[1mModel parameters are saved to training_logs/finetuning/hammer/TD3PlusBC_online_20250518185651/model_100.d3\u001b[0m\n",
      "\u001b[2m2025-05-18 18:56.52\u001b[0m [\u001b[32m\u001b[1minfo     \u001b[0m] \u001b[1mTD3PlusBC_online_20250518185651: epoch=1 step=100\u001b[0m \u001b[36mepoch\u001b[0m=\u001b[35m1\u001b[0m \u001b[36mmetrics\u001b[0m=\u001b[35m{'time_inference': 5.342245101928711e-05, 'time_environment_step': 0.00028869152069091794, 'time_step': 0.00034843921661376954, 'evaluation': -235.2808138624394}\u001b[0m \u001b[36mstep\u001b[0m=\u001b[35m100\u001b[0m\n",
      "\u001b[2m2025-05-18 18:56.52\u001b[0m [\u001b[32m\u001b[1minfo     \u001b[0m] \u001b[1mModel parameters are saved to training_logs/finetuning/hammer/TD3PlusBC_online_20250518185651/model_200.d3\u001b[0m\n",
      "\u001b[2m2025-05-18 18:56.52\u001b[0m [\u001b[32m\u001b[1minfo     \u001b[0m] \u001b[1mTD3PlusBC_online_20250518185651: epoch=2 step=200\u001b[0m \u001b[36mepoch\u001b[0m=\u001b[35m2\u001b[0m \u001b[36mmetrics\u001b[0m=\u001b[35m{'time_inference': 4.691839218139648e-05, 'time_environment_step': 0.00028176069259643554, 'time_step': 0.0003374576568603516, 'rollout_return': -234.1783241341591, 'evaluation': -234.64684312283862}\u001b[0m \u001b[36mstep\u001b[0m=\u001b[35m200\u001b[0m\n",
      "\u001b[2m2025-05-18 18:56.53\u001b[0m [\u001b[32m\u001b[1minfo     \u001b[0m] \u001b[1mModel parameters are saved to training_logs/finetuning/hammer/TD3PlusBC_online_20250518185651/model_300.d3\u001b[0m\n",
      "\u001b[2m2025-05-18 18:56.53\u001b[0m [\u001b[32m\u001b[1minfo     \u001b[0m] \u001b[1mTD3PlusBC_online_20250518185651: epoch=3 step=300\u001b[0m \u001b[36mepoch\u001b[0m=\u001b[35m3\u001b[0m \u001b[36mmetrics\u001b[0m=\u001b[35m{'time_inference': 8.108139038085937e-05, 'time_environment_step': 0.0003164792060852051, 'time_step': 0.002513711452484131, 'time_sample_batch': 0.0015786091486612956, 'time_algorithm_update': 0.0034334943408057803, 'critic_loss': 3115.6767694382443, 'actor_loss': -2.3782485780261813, 'bc_loss': 0.12175140262947332, 'evaluation': -232.20394020978028}\u001b[0m \u001b[36mstep\u001b[0m=\u001b[35m300\u001b[0m\n",
      "\u001b[2m2025-05-18 18:56.54\u001b[0m [\u001b[32m\u001b[1minfo     \u001b[0m] \u001b[1mModel parameters are saved to training_logs/finetuning/hammer/TD3PlusBC_online_20250518185651/model_400.d3\u001b[0m\n",
      "\u001b[2m2025-05-18 18:56.54\u001b[0m [\u001b[32m\u001b[1minfo     \u001b[0m] \u001b[1mTD3PlusBC_online_20250518185651: epoch=4 step=400\u001b[0m \u001b[36mepoch\u001b[0m=\u001b[35m4\u001b[0m \u001b[36mmetrics\u001b[0m=\u001b[35m{'time_inference': 0.0001279759407043457, 'time_environment_step': 0.0003599238395690918, 'time_sample_batch': 0.0015941810607910155, 'time_algorithm_update': 0.003723142147064209, 'critic_loss': 44.778293209075926, 'actor_loss': -2.4542487478256225, 'bc_loss': 0.04575125396251679, 'time_step': 0.005824127197265625, 'rollout_return': -247.72126987933828, 'evaluation': -235.33650664289362}\u001b[0m \u001b[36mstep\u001b[0m=\u001b[35m400\u001b[0m\n",
      "\u001b[2m2025-05-18 18:56.56\u001b[0m [\u001b[32m\u001b[1minfo     \u001b[0m] \u001b[1mModel parameters are saved to training_logs/finetuning/hammer/TD3PlusBC_online_20250518185651/model_500.d3\u001b[0m\n",
      "\u001b[2m2025-05-18 18:56.56\u001b[0m [\u001b[32m\u001b[1minfo     \u001b[0m] \u001b[1mTD3PlusBC_online_20250518185651: epoch=5 step=500\u001b[0m \u001b[36mepoch\u001b[0m=\u001b[35m5\u001b[0m \u001b[36mmetrics\u001b[0m=\u001b[35m{'time_inference': 0.0001295781135559082, 'time_environment_step': 0.0003527545928955078, 'time_sample_batch': 0.0015885019302368164, 'time_algorithm_update': 0.003630359172821045, 'critic_loss': 26.831903285980225, 'actor_loss': -2.4722223615646364, 'bc_loss': 0.027777643166482447, 'time_step': 0.005717983245849609, 'evaluation': -235.38308808288883}\u001b[0m \u001b[36mstep\u001b[0m=\u001b[35m500\u001b[0m\n",
      "\u001b[2m2025-05-18 18:56.57\u001b[0m [\u001b[32m\u001b[1minfo     \u001b[0m] \u001b[1mModel parameters are saved to training_logs/finetuning/hammer/TD3PlusBC_online_20250518185651/model_600.d3\u001b[0m\n",
      "\u001b[2m2025-05-18 18:56.57\u001b[0m [\u001b[32m\u001b[1minfo     \u001b[0m] \u001b[1mTD3PlusBC_online_20250518185651: epoch=6 step=600\u001b[0m \u001b[36mepoch\u001b[0m=\u001b[35m6\u001b[0m \u001b[36mmetrics\u001b[0m=\u001b[35m{'time_inference': 0.00012596368789672853, 'time_environment_step': 0.00035030126571655273, 'time_sample_batch': 0.001589953899383545, 'time_algorithm_update': 0.0035447382926940916, 'critic_loss': 20.656639060974122, 'actor_loss': -2.477863006591797, 'bc_loss': 0.02213699195533991, 'time_step': 0.0056288385391235355, 'rollout_return': -226.80308677426268, 'evaluation': -233.1918207978302}\u001b[0m \u001b[36mstep\u001b[0m=\u001b[35m600\u001b[0m\n",
      "\u001b[2m2025-05-18 18:56.58\u001b[0m [\u001b[32m\u001b[1minfo     \u001b[0m] \u001b[1mModel parameters are saved to training_logs/finetuning/hammer/TD3PlusBC_online_20250518185651/model_700.d3\u001b[0m\n",
      "\u001b[2m2025-05-18 18:56.58\u001b[0m [\u001b[32m\u001b[1minfo     \u001b[0m] \u001b[1mTD3PlusBC_online_20250518185651: epoch=7 step=700\u001b[0m \u001b[36mepoch\u001b[0m=\u001b[35m7\u001b[0m \u001b[36mmetrics\u001b[0m=\u001b[35m{'time_inference': 0.00012624025344848633, 'time_environment_step': 0.00035399675369262695, 'time_sample_batch': 0.001591191291809082, 'time_algorithm_update': 0.003358430862426758, 'critic_loss': 19.241828355789185, 'actor_loss': -2.480767593383789, 'bc_loss': 0.01923242388293147, 'time_step': 0.00544581413269043, 'evaluation': -235.06579534466928}\u001b[0m \u001b[36mstep\u001b[0m=\u001b[35m700\u001b[0m\n",
      "\u001b[2m2025-05-18 18:56.59\u001b[0m [\u001b[32m\u001b[1minfo     \u001b[0m] \u001b[1mModel parameters are saved to training_logs/finetuning/hammer/TD3PlusBC_online_20250518185651/model_800.d3\u001b[0m\n",
      "\u001b[2m2025-05-18 18:56.59\u001b[0m [\u001b[32m\u001b[1minfo     \u001b[0m] \u001b[1mTD3PlusBC_online_20250518185651: epoch=8 step=800\u001b[0m \u001b[36mepoch\u001b[0m=\u001b[35m8\u001b[0m \u001b[36mmetrics\u001b[0m=\u001b[35m{'time_inference': 0.00012874841690063476, 'time_environment_step': 0.0003605961799621582, 'time_sample_batch': 0.0015981769561767578, 'time_algorithm_update': 0.0033474326133728026, 'critic_loss': 17.526934185028075, 'actor_loss': -2.4850055360794068, 'bc_loss': 0.014994472302496432, 'time_step': 0.005453131198883057, 'rollout_return': -239.88294954096068, 'evaluation': -237.43119529948103}\u001b[0m \u001b[36mstep\u001b[0m=\u001b[35m800\u001b[0m\n",
      "\u001b[2m2025-05-18 18:57.00\u001b[0m [\u001b[32m\u001b[1minfo     \u001b[0m] \u001b[1mModel parameters are saved to training_logs/finetuning/hammer/TD3PlusBC_online_20250518185651/model_900.d3\u001b[0m\n",
      "\u001b[2m2025-05-18 18:57.00\u001b[0m [\u001b[32m\u001b[1minfo     \u001b[0m] \u001b[1mTD3PlusBC_online_20250518185651: epoch=9 step=900\u001b[0m \u001b[36mepoch\u001b[0m=\u001b[35m9\u001b[0m \u001b[36mmetrics\u001b[0m=\u001b[35m{'time_inference': 0.00012853145599365235, 'time_environment_step': 0.00036060094833374024, 'time_sample_batch': 0.0016067218780517578, 'time_algorithm_update': 0.003405873775482178, 'critic_loss': 17.19799440383911, 'actor_loss': -2.486861643791199, 'bc_loss': 0.013138378616422414, 'time_step': 0.005518345832824707, 'evaluation': -234.22429702831445}\u001b[0m \u001b[36mstep\u001b[0m=\u001b[35m900\u001b[0m\n",
      "\u001b[2m2025-05-18 18:57.02\u001b[0m [\u001b[32m\u001b[1minfo     \u001b[0m] \u001b[1mModel parameters are saved to training_logs/finetuning/hammer/TD3PlusBC_online_20250518185651/model_1000.d3\u001b[0m\n",
      "\u001b[2m2025-05-18 18:57.02\u001b[0m [\u001b[32m\u001b[1minfo     \u001b[0m] \u001b[1mTD3PlusBC_online_20250518185651: epoch=10 step=1000\u001b[0m \u001b[36mepoch\u001b[0m=\u001b[35m10\u001b[0m \u001b[36mmetrics\u001b[0m=\u001b[35m{'time_inference': 0.0001240372657775879, 'time_environment_step': 0.0003559780120849609, 'time_sample_batch': 0.0016129517555236816, 'time_algorithm_update': 0.0033973741531372072, 'critic_loss': 16.87508065223694, 'actor_loss': -2.4870651292800905, 'bc_loss': 0.012934852987527848, 'time_step': 0.005508553981781006, 'rollout_return': -232.34637512808257, 'evaluation': -233.59621030481262}\u001b[0m \u001b[36mstep\u001b[0m=\u001b[35m1000\u001b[0m\n",
      "\u001b[2m2025-05-18 18:57.02\u001b[0m [\u001b[32m\u001b[1minfo     \u001b[0m] \u001b[1mSignatures have been automatically determined.\u001b[0m \u001b[36maction_signature\u001b[0m=\u001b[35mSignature(dtype=[dtype('float32')], shape=[(26,)])\u001b[0m \u001b[36mobservation_signature\u001b[0m=\u001b[35mSignature(dtype=[dtype('float64')], shape=[(46,)])\u001b[0m \u001b[36mreward_signature\u001b[0m=\u001b[35mSignature(dtype=[dtype('float32')], shape=[[1]])\u001b[0m\n",
      "\u001b[2m2025-05-18 18:57.02\u001b[0m [\u001b[32m\u001b[1minfo     \u001b[0m] \u001b[1mAction-space has been automatically determined.\u001b[0m \u001b[36maction_space\u001b[0m=\u001b[35m<ActionSpace.CONTINUOUS: 1>\u001b[0m\n",
      "\u001b[2m2025-05-18 18:57.02\u001b[0m [\u001b[32m\u001b[1minfo     \u001b[0m] \u001b[1mAction size has been automatically determined.\u001b[0m \u001b[36maction_size\u001b[0m=\u001b[35m26\u001b[0m\n",
      "\u001b[2m2025-05-18 18:57.02\u001b[0m [\u001b[33m\u001b[1mwarning  \u001b[0m] \u001b[1mSkip building models since they're already built.\u001b[0m\n",
      "\u001b[2m2025-05-18 18:57.02\u001b[0m [\u001b[32m\u001b[1minfo     \u001b[0m] \u001b[1mDirectory is created at training_logs/finetuning/hammer/AWAC_online_20250518185702\u001b[0m\n",
      "\u001b[2m2025-05-18 18:57.02\u001b[0m [\u001b[32m\u001b[1minfo     \u001b[0m] \u001b[1mParameters                    \u001b[0m \u001b[36mparams\u001b[0m=\u001b[35m{'observation_shape': [46], 'action_size': 26, 'config': {'type': 'awac', 'params': {'batch_size': 1024, 'gamma': 0.99, 'observation_scaler': {'type': 'none', 'params': {}}, 'action_scaler': {'type': 'none', 'params': {}}, 'reward_scaler': {'type': 'none', 'params': {}}, 'compile_graph': False, 'actor_learning_rate': 0.0003, 'critic_learning_rate': 0.0003, 'actor_optim_factory': {'type': 'adam', 'params': {'clip_grad_norm': None, 'lr_scheduler_factory': {'type': 'none', 'params': {}}, 'betas': [0.9, 0.999], 'eps': 1e-08, 'weight_decay': 0.0, 'amsgrad': False}}, 'critic_optim_factory': {'type': 'adam', 'params': {'clip_grad_norm': None, 'lr_scheduler_factory': {'type': 'none', 'params': {}}, 'betas': [0.9, 0.999], 'eps': 1e-08, 'weight_decay': 0.0, 'amsgrad': False}}, 'actor_encoder_factory': {'type': 'default', 'params': {'activation': 'relu', 'use_batch_norm': False, 'dropout_rate': None}}, 'critic_encoder_factory': {'type': 'default', 'params': {'activation': 'relu', 'use_batch_norm': False, 'dropout_rate': None}}, 'q_func_factory': {'type': 'mean', 'params': {'share_encoder': False}}, 'tau': 0.005, 'lam': 1.0, 'n_action_samples': 1, 'n_critics': 2}}}\u001b[0m\n"
     ]
    },
    {
     "data": {
      "application/vnd.jupyter.widget-view+json": {
       "model_id": "a6b980f946c647fb8c1a711a6530a395",
       "version_major": 2,
       "version_minor": 0
      },
      "text/plain": [
       "  0%|          | 0/1000 [00:00<?, ?it/s]"
      ]
     },
     "metadata": {},
     "output_type": "display_data"
    },
    {
     "name": "stdout",
     "output_type": "stream",
     "text": [
      "\u001b[2m2025-05-18 18:57.02\u001b[0m [\u001b[32m\u001b[1minfo     \u001b[0m] \u001b[1mModel parameters are saved to training_logs/finetuning/hammer/AWAC_online_20250518185702/model_100.d3\u001b[0m\n",
      "\u001b[2m2025-05-18 18:57.02\u001b[0m [\u001b[32m\u001b[1minfo     \u001b[0m] \u001b[1mAWAC_online_20250518185702: epoch=1 step=100\u001b[0m \u001b[36mepoch\u001b[0m=\u001b[35m1\u001b[0m \u001b[36mmetrics\u001b[0m=\u001b[35m{'time_inference': 9.731292724609376e-05, 'time_environment_step': 0.00026671409606933595, 'time_step': 0.0003706645965576172, 'evaluation': -234.01304771673858}\u001b[0m \u001b[36mstep\u001b[0m=\u001b[35m100\u001b[0m\n",
      "\u001b[2m2025-05-18 18:57.03\u001b[0m [\u001b[32m\u001b[1minfo     \u001b[0m] \u001b[1mModel parameters are saved to training_logs/finetuning/hammer/AWAC_online_20250518185702/model_200.d3\u001b[0m\n",
      "\u001b[2m2025-05-18 18:57.03\u001b[0m [\u001b[32m\u001b[1minfo     \u001b[0m] \u001b[1mAWAC_online_20250518185702: epoch=2 step=200\u001b[0m \u001b[36mepoch\u001b[0m=\u001b[35m2\u001b[0m \u001b[36mmetrics\u001b[0m=\u001b[35m{'time_inference': 8.36944580078125e-05, 'time_environment_step': 0.0002572011947631836, 'time_step': 0.00034911394119262694, 'rollout_return': -231.1628832120137, 'evaluation': -231.0201498274026}\u001b[0m \u001b[36mstep\u001b[0m=\u001b[35m200\u001b[0m\n",
      "\u001b[2m2025-05-18 18:57.04\u001b[0m [\u001b[32m\u001b[1minfo     \u001b[0m] \u001b[1mModel parameters are saved to training_logs/finetuning/hammer/AWAC_online_20250518185702/model_300.d3\u001b[0m\n",
      "\u001b[2m2025-05-18 18:57.04\u001b[0m [\u001b[32m\u001b[1minfo     \u001b[0m] \u001b[1mAWAC_online_20250518185702: epoch=3 step=300\u001b[0m \u001b[36mepoch\u001b[0m=\u001b[35m3\u001b[0m \u001b[36mmetrics\u001b[0m=\u001b[35m{'time_inference': 9.079694747924804e-05, 'time_environment_step': 0.00026531457901000975, 'time_step': 0.00036271095275878905, 'evaluation': -234.30836212508288}\u001b[0m \u001b[36mstep\u001b[0m=\u001b[35m300\u001b[0m\n",
      "\u001b[2m2025-05-18 18:57.04\u001b[0m [\u001b[32m\u001b[1minfo     \u001b[0m] \u001b[1mModel parameters are saved to training_logs/finetuning/hammer/AWAC_online_20250518185702/model_400.d3\u001b[0m\n",
      "\u001b[2m2025-05-18 18:57.04\u001b[0m [\u001b[32m\u001b[1minfo     \u001b[0m] \u001b[1mAWAC_online_20250518185702: epoch=4 step=400\u001b[0m \u001b[36mepoch\u001b[0m=\u001b[35m4\u001b[0m \u001b[36mmetrics\u001b[0m=\u001b[35m{'time_inference': 8.814334869384765e-05, 'time_environment_step': 0.0002648186683654785, 'time_step': 0.0003617238998413086, 'rollout_return': -245.40261395480536, 'evaluation': -229.45198999031118}\u001b[0m \u001b[36mstep\u001b[0m=\u001b[35m400\u001b[0m\n",
      "\u001b[2m2025-05-18 18:57.05\u001b[0m [\u001b[32m\u001b[1minfo     \u001b[0m] \u001b[1mModel parameters are saved to training_logs/finetuning/hammer/AWAC_online_20250518185702/model_500.d3\u001b[0m\n",
      "\u001b[2m2025-05-18 18:57.05\u001b[0m [\u001b[32m\u001b[1minfo     \u001b[0m] \u001b[1mAWAC_online_20250518185702: epoch=5 step=500\u001b[0m \u001b[36mepoch\u001b[0m=\u001b[35m5\u001b[0m \u001b[36mmetrics\u001b[0m=\u001b[35m{'time_inference': 8.557796478271484e-05, 'time_environment_step': 0.00026088476181030274, 'time_step': 0.00035299301147460936, 'evaluation': -233.6360814004498}\u001b[0m \u001b[36mstep\u001b[0m=\u001b[35m500\u001b[0m\n",
      "\u001b[2m2025-05-18 18:57.06\u001b[0m [\u001b[32m\u001b[1minfo     \u001b[0m] \u001b[1mModel parameters are saved to training_logs/finetuning/hammer/AWAC_online_20250518185702/model_600.d3\u001b[0m\n",
      "\u001b[2m2025-05-18 18:57.06\u001b[0m [\u001b[32m\u001b[1minfo     \u001b[0m] \u001b[1mAWAC_online_20250518185702: epoch=6 step=600\u001b[0m \u001b[36mepoch\u001b[0m=\u001b[35m6\u001b[0m \u001b[36mmetrics\u001b[0m=\u001b[35m{'time_inference': 8.766889572143554e-05, 'time_environment_step': 0.0002622056007385254, 'time_step': 0.0003587055206298828, 'rollout_return': -229.98168808356164, 'evaluation': -234.05083523292205}\u001b[0m \u001b[36mstep\u001b[0m=\u001b[35m600\u001b[0m\n",
      "\u001b[2m2025-05-18 18:57.06\u001b[0m [\u001b[32m\u001b[1minfo     \u001b[0m] \u001b[1mModel parameters are saved to training_logs/finetuning/hammer/AWAC_online_20250518185702/model_700.d3\u001b[0m\n",
      "\u001b[2m2025-05-18 18:57.06\u001b[0m [\u001b[32m\u001b[1minfo     \u001b[0m] \u001b[1mAWAC_online_20250518185702: epoch=7 step=700\u001b[0m \u001b[36mepoch\u001b[0m=\u001b[35m7\u001b[0m \u001b[36mmetrics\u001b[0m=\u001b[35m{'time_inference': 8.972883224487305e-05, 'time_environment_step': 0.00026131391525268554, 'time_step': 0.0003575897216796875, 'evaluation': -229.6417613345242}\u001b[0m \u001b[36mstep\u001b[0m=\u001b[35m700\u001b[0m\n",
      "\u001b[2m2025-05-18 18:57.07\u001b[0m [\u001b[32m\u001b[1minfo     \u001b[0m] \u001b[1mModel parameters are saved to training_logs/finetuning/hammer/AWAC_online_20250518185702/model_800.d3\u001b[0m\n",
      "\u001b[2m2025-05-18 18:57.07\u001b[0m [\u001b[32m\u001b[1minfo     \u001b[0m] \u001b[1mAWAC_online_20250518185702: epoch=8 step=800\u001b[0m \u001b[36mepoch\u001b[0m=\u001b[35m8\u001b[0m \u001b[36mmetrics\u001b[0m=\u001b[35m{'time_inference': 8.966445922851562e-05, 'time_environment_step': 0.000265965461730957, 'time_step': 0.00036417245864868165, 'rollout_return': -238.89172858999575, 'evaluation': -231.35395001552448}\u001b[0m \u001b[36mstep\u001b[0m=\u001b[35m800\u001b[0m\n",
      "\u001b[2m2025-05-18 18:57.08\u001b[0m [\u001b[32m\u001b[1minfo     \u001b[0m] \u001b[1mModel parameters are saved to training_logs/finetuning/hammer/AWAC_online_20250518185702/model_900.d3\u001b[0m\n",
      "\u001b[2m2025-05-18 18:57.08\u001b[0m [\u001b[32m\u001b[1minfo     \u001b[0m] \u001b[1mAWAC_online_20250518185702: epoch=9 step=900\u001b[0m \u001b[36mepoch\u001b[0m=\u001b[35m9\u001b[0m \u001b[36mmetrics\u001b[0m=\u001b[35m{'time_inference': 8.817195892333984e-05, 'time_environment_step': 0.00026275396347045897, 'time_step': 0.00035742759704589846, 'evaluation': -235.17660386220177}\u001b[0m \u001b[36mstep\u001b[0m=\u001b[35m900\u001b[0m\n",
      "\u001b[2m2025-05-18 18:57.08\u001b[0m [\u001b[32m\u001b[1minfo     \u001b[0m] \u001b[1mModel parameters are saved to training_logs/finetuning/hammer/AWAC_online_20250518185702/model_1000.d3\u001b[0m\n",
      "\u001b[2m2025-05-18 18:57.08\u001b[0m [\u001b[32m\u001b[1minfo     \u001b[0m] \u001b[1mAWAC_online_20250518185702: epoch=10 step=1000\u001b[0m \u001b[36mepoch\u001b[0m=\u001b[35m10\u001b[0m \u001b[36mmetrics\u001b[0m=\u001b[35m{'time_inference': 8.953571319580079e-05, 'time_environment_step': 0.0002617216110229492, 'time_step': 0.0003596830368041992, 'rollout_return': -238.01917183848337, 'evaluation': -234.98605022430792}\u001b[0m \u001b[36mstep\u001b[0m=\u001b[35m1000\u001b[0m\n"
     ]
    },
    {
     "data": {
      "text/plain": [
       "<d3rlpy.algos.qlearning.awac.AWAC at 0x166b4c250>"
      ]
     },
     "execution_count": 14,
     "metadata": {},
     "output_type": "execute_result"
    }
   ],
   "source": [
    "finetune_algorithm(hammer_iql, hammer_env, 'hammer_iql', 'hammer')\n",
    "finetune_algorithm(hammer_cql, hammer_env, 'hammer_cql', 'hammer')\n",
    "finetune_algorithm(hammer_td3bc, hammer_env, 'hammer_td3bc', 'hammer')\n",
    "finetune_algorithm(hammer_awac, hammer_env, 'hammer_awac', 'hammer')"
   ]
  },
  {
   "cell_type": "markdown",
   "id": "bb5a6357-3a0c-4da0-acf6-01692eae4d1b",
   "metadata": {},
   "source": [
    "### Door"
   ]
  },
  {
   "cell_type": "code",
   "execution_count": 15,
   "id": "6df780e4-de58-4c0c-8c5a-23f658a8f644",
   "metadata": {
    "collapsed": true,
    "jupyter": {
     "outputs_hidden": true
    },
    "scrolled": true
   },
   "outputs": [
    {
     "name": "stdout",
     "output_type": "stream",
     "text": [
      "\u001b[2m2025-05-18 18:57.08\u001b[0m [\u001b[32m\u001b[1minfo     \u001b[0m] \u001b[1mSignatures have been automatically determined.\u001b[0m \u001b[36maction_signature\u001b[0m=\u001b[35mSignature(dtype=[dtype('float32')], shape=[(28,)])\u001b[0m \u001b[36mobservation_signature\u001b[0m=\u001b[35mSignature(dtype=[dtype('float64')], shape=[(39,)])\u001b[0m \u001b[36mreward_signature\u001b[0m=\u001b[35mSignature(dtype=[dtype('float32')], shape=[[1]])\u001b[0m\n",
      "\u001b[2m2025-05-18 18:57.08\u001b[0m [\u001b[32m\u001b[1minfo     \u001b[0m] \u001b[1mAction-space has been automatically determined.\u001b[0m \u001b[36maction_space\u001b[0m=\u001b[35m<ActionSpace.CONTINUOUS: 1>\u001b[0m\n",
      "\u001b[2m2025-05-18 18:57.08\u001b[0m [\u001b[32m\u001b[1minfo     \u001b[0m] \u001b[1mAction size has been automatically determined.\u001b[0m \u001b[36maction_size\u001b[0m=\u001b[35m28\u001b[0m\n",
      "\u001b[2m2025-05-18 18:57.08\u001b[0m [\u001b[33m\u001b[1mwarning  \u001b[0m] \u001b[1mSkip building models since they're already built.\u001b[0m\n",
      "\u001b[2m2025-05-18 18:57.08\u001b[0m [\u001b[32m\u001b[1minfo     \u001b[0m] \u001b[1mDirectory is created at training_logs/finetuning/door/IQL_online_20250518185708\u001b[0m\n",
      "\u001b[2m2025-05-18 18:57.08\u001b[0m [\u001b[32m\u001b[1minfo     \u001b[0m] \u001b[1mParameters                    \u001b[0m \u001b[36mparams\u001b[0m=\u001b[35m{'observation_shape': [39], 'action_size': 28, 'config': {'type': 'iql', 'params': {'batch_size': 256, 'gamma': 0.99, 'observation_scaler': {'type': 'none', 'params': {}}, 'action_scaler': {'type': 'none', 'params': {}}, 'reward_scaler': {'type': 'none', 'params': {}}, 'compile_graph': False, 'actor_learning_rate': 0.0003, 'critic_learning_rate': 0.0003, 'actor_optim_factory': {'type': 'adam', 'params': {'clip_grad_norm': None, 'lr_scheduler_factory': {'type': 'none', 'params': {}}, 'betas': [0.9, 0.999], 'eps': 1e-08, 'weight_decay': 0.0, 'amsgrad': False}}, 'critic_optim_factory': {'type': 'adam', 'params': {'clip_grad_norm': None, 'lr_scheduler_factory': {'type': 'none', 'params': {}}, 'betas': [0.9, 0.999], 'eps': 1e-08, 'weight_decay': 0.0, 'amsgrad': False}}, 'actor_encoder_factory': {'type': 'default', 'params': {'activation': 'relu', 'use_batch_norm': False, 'dropout_rate': None}}, 'critic_encoder_factory': {'type': 'default', 'params': {'activation': 'relu', 'use_batch_norm': False, 'dropout_rate': None}}, 'value_encoder_factory': {'type': 'default', 'params': {'activation': 'relu', 'use_batch_norm': False, 'dropout_rate': None}}, 'tau': 0.005, 'n_critics': 2, 'expectile': 0.7, 'weight_temp': 3.0, 'max_weight': 100.0}}}\u001b[0m\n"
     ]
    },
    {
     "data": {
      "application/vnd.jupyter.widget-view+json": {
       "model_id": "8d9405a78525491c90fd76b1be92617d",
       "version_major": 2,
       "version_minor": 0
      },
      "text/plain": [
       "  0%|          | 0/1000 [00:00<?, ?it/s]"
      ]
     },
     "metadata": {},
     "output_type": "display_data"
    },
    {
     "name": "stdout",
     "output_type": "stream",
     "text": [
      "\u001b[2m2025-05-18 18:57.09\u001b[0m [\u001b[32m\u001b[1minfo     \u001b[0m] \u001b[1mModel parameters are saved to training_logs/finetuning/door/IQL_online_20250518185708/model_100.d3\u001b[0m\n",
      "\u001b[2m2025-05-18 18:57.09\u001b[0m [\u001b[32m\u001b[1minfo     \u001b[0m] \u001b[1mIQL_online_20250518185708: epoch=1 step=100\u001b[0m \u001b[36mepoch\u001b[0m=\u001b[35m1\u001b[0m \u001b[36mmetrics\u001b[0m=\u001b[35m{'time_inference': 0.00010792016983032226, 'time_environment_step': 0.00021985054016113281, 'time_step': 0.00033441543579101565, 'evaluation': -43.34002097914485}\u001b[0m \u001b[36mstep\u001b[0m=\u001b[35m100\u001b[0m\n",
      "\u001b[2m2025-05-18 18:57.09\u001b[0m [\u001b[32m\u001b[1minfo     \u001b[0m] \u001b[1mModel parameters are saved to training_logs/finetuning/door/IQL_online_20250518185708/model_200.d3\u001b[0m\n",
      "\u001b[2m2025-05-18 18:57.09\u001b[0m [\u001b[32m\u001b[1minfo     \u001b[0m] \u001b[1mIQL_online_20250518185708: epoch=2 step=200\u001b[0m \u001b[36mepoch\u001b[0m=\u001b[35m2\u001b[0m \u001b[36mmetrics\u001b[0m=\u001b[35m{'time_inference': 8.922338485717774e-05, 'time_environment_step': 0.00020647048950195312, 'time_step': 0.0003066325187683105, 'rollout_return': -43.828392410832166, 'evaluation': -43.87132090738339}\u001b[0m \u001b[36mstep\u001b[0m=\u001b[35m200\u001b[0m\n",
      "\u001b[2m2025-05-18 18:57.10\u001b[0m [\u001b[32m\u001b[1minfo     \u001b[0m] \u001b[1mModel parameters are saved to training_logs/finetuning/door/IQL_online_20250518185708/model_300.d3\u001b[0m\n",
      "\u001b[2m2025-05-18 18:57.10\u001b[0m [\u001b[32m\u001b[1minfo     \u001b[0m] \u001b[1mIQL_online_20250518185708: epoch=3 step=300\u001b[0m \u001b[36mepoch\u001b[0m=\u001b[35m3\u001b[0m \u001b[36mmetrics\u001b[0m=\u001b[35m{'time_inference': 0.00012475013732910156, 'time_environment_step': 0.00022228240966796876, 'time_step': 0.0030371618270874025, 'time_sample_batch': 0.0015851883661179315, 'time_algorithm_update': 0.0047950347264607745, 'critic_loss': 1.5146004926590693, 'q_loss': 1.394299601515134, 'v_loss': 0.12030088919259253, 'actor_loss': -8.940344015757242, 'evaluation': -42.5879172955102}\u001b[0m \u001b[36mstep\u001b[0m=\u001b[35m300\u001b[0m\n",
      "\u001b[2m2025-05-18 18:57.12\u001b[0m [\u001b[32m\u001b[1minfo     \u001b[0m] \u001b[1mModel parameters are saved to training_logs/finetuning/door/IQL_online_20250518185708/model_400.d3\u001b[0m\n",
      "\u001b[2m2025-05-18 18:57.12\u001b[0m [\u001b[32m\u001b[1minfo     \u001b[0m] \u001b[1mIQL_online_20250518185708: epoch=4 step=400\u001b[0m \u001b[36mepoch\u001b[0m=\u001b[35m4\u001b[0m \u001b[36mmetrics\u001b[0m=\u001b[35m{'time_inference': 0.00018262386322021485, 'time_environment_step': 0.0002521514892578125, 'time_sample_batch': 0.0016035056114196778, 'time_algorithm_update': 0.005539953708648682, 'critic_loss': 0.4978993222117424, 'q_loss': 0.41265560865402223, 'v_loss': 0.08524371482431889, 'actor_loss': -8.432017736434936, 'time_step': 0.007597403526306152, 'rollout_return': -43.071326160784494, 'evaluation': -43.01855614762316}\u001b[0m \u001b[36mstep\u001b[0m=\u001b[35m400\u001b[0m\n",
      "\u001b[2m2025-05-18 18:57.13\u001b[0m [\u001b[32m\u001b[1minfo     \u001b[0m] \u001b[1mModel parameters are saved to training_logs/finetuning/door/IQL_online_20250518185708/model_500.d3\u001b[0m\n",
      "\u001b[2m2025-05-18 18:57.13\u001b[0m [\u001b[32m\u001b[1minfo     \u001b[0m] \u001b[1mIQL_online_20250518185708: epoch=5 step=500\u001b[0m \u001b[36mepoch\u001b[0m=\u001b[35m5\u001b[0m \u001b[36mmetrics\u001b[0m=\u001b[35m{'time_inference': 0.00019914627075195312, 'time_environment_step': 0.00028379440307617186, 'time_sample_batch': 0.0016196846961975097, 'time_algorithm_update': 0.005623579025268555, 'critic_loss': 0.406711827814579, 'q_loss': 0.34156024172902105, 'v_loss': 0.06515158489346504, 'actor_loss': -7.3700158977508545, 'time_step': 0.007745156288146973, 'evaluation': -43.21610921071687}\u001b[0m \u001b[36mstep\u001b[0m=\u001b[35m500\u001b[0m\n",
      "\u001b[2m2025-05-18 18:57.14\u001b[0m [\u001b[32m\u001b[1minfo     \u001b[0m] \u001b[1mModel parameters are saved to training_logs/finetuning/door/IQL_online_20250518185708/model_600.d3\u001b[0m\n",
      "\u001b[2m2025-05-18 18:57.14\u001b[0m [\u001b[32m\u001b[1minfo     \u001b[0m] \u001b[1mIQL_online_20250518185708: epoch=6 step=600\u001b[0m \u001b[36mepoch\u001b[0m=\u001b[35m6\u001b[0m \u001b[36mmetrics\u001b[0m=\u001b[35m{'time_inference': 0.00019791364669799805, 'time_environment_step': 0.0002603411674499512, 'time_sample_batch': 0.001625051498413086, 'time_algorithm_update': 0.005092625617980957, 'critic_loss': 0.29530717253684996, 'q_loss': 0.24611860871315003, 'v_loss': 0.04918856170028448, 'actor_loss': -6.69654953956604, 'time_step': 0.007195942401885987, 'rollout_return': -43.742601395567576, 'evaluation': -43.0529341059972}\u001b[0m \u001b[36mstep\u001b[0m=\u001b[35m600\u001b[0m\n",
      "\u001b[2m2025-05-18 18:57.15\u001b[0m [\u001b[32m\u001b[1minfo     \u001b[0m] \u001b[1mModel parameters are saved to training_logs/finetuning/door/IQL_online_20250518185708/model_700.d3\u001b[0m\n",
      "\u001b[2m2025-05-18 18:57.15\u001b[0m [\u001b[32m\u001b[1minfo     \u001b[0m] \u001b[1mIQL_online_20250518185708: epoch=7 step=700\u001b[0m \u001b[36mepoch\u001b[0m=\u001b[35m7\u001b[0m \u001b[36mmetrics\u001b[0m=\u001b[35m{'time_inference': 0.00021484375, 'time_environment_step': 0.00028586387634277344, 'time_sample_batch': 0.0016684603691101074, 'time_algorithm_update': 0.006010861396789551, 'critic_loss': 0.24578253746032716, 'q_loss': 0.20668159410357476, 'v_loss': 0.039100943375378845, 'actor_loss': -6.275056891441345, 'time_step': 0.008201489448547363, 'evaluation': -42.962376945098455}\u001b[0m \u001b[36mstep\u001b[0m=\u001b[35m700\u001b[0m\n",
      "\u001b[2m2025-05-18 18:57.17\u001b[0m [\u001b[32m\u001b[1minfo     \u001b[0m] \u001b[1mModel parameters are saved to training_logs/finetuning/door/IQL_online_20250518185708/model_800.d3\u001b[0m\n",
      "\u001b[2m2025-05-18 18:57.17\u001b[0m [\u001b[32m\u001b[1minfo     \u001b[0m] \u001b[1mIQL_online_20250518185708: epoch=8 step=800\u001b[0m \u001b[36mepoch\u001b[0m=\u001b[35m8\u001b[0m \u001b[36mmetrics\u001b[0m=\u001b[35m{'time_inference': 0.00020773172378540038, 'time_environment_step': 0.0002783966064453125, 'time_sample_batch': 0.0016779661178588866, 'time_algorithm_update': 0.005332248210906982, 'critic_loss': 0.19745235592126847, 'q_loss': 0.16749656960368156, 'v_loss': 0.029955786634236575, 'actor_loss': -6.0687593793869015, 'time_step': 0.007519023418426514, 'rollout_return': -43.05046776544361, 'evaluation': -42.67032027035196}\u001b[0m \u001b[36mstep\u001b[0m=\u001b[35m800\u001b[0m\n",
      "\u001b[2m2025-05-18 18:57.18\u001b[0m [\u001b[32m\u001b[1minfo     \u001b[0m] \u001b[1mModel parameters are saved to training_logs/finetuning/door/IQL_online_20250518185708/model_900.d3\u001b[0m\n",
      "\u001b[2m2025-05-18 18:57.18\u001b[0m [\u001b[32m\u001b[1minfo     \u001b[0m] \u001b[1mIQL_online_20250518185708: epoch=9 step=900\u001b[0m \u001b[36mepoch\u001b[0m=\u001b[35m9\u001b[0m \u001b[36mmetrics\u001b[0m=\u001b[35m{'time_inference': 0.00019319057464599608, 'time_environment_step': 0.0002614927291870117, 'time_sample_batch': 0.0016396832466125488, 'time_algorithm_update': 0.005069987773895264, 'critic_loss': 0.192378284111619, 'q_loss': 0.1656532622873783, 'v_loss': 0.02672502027824521, 'actor_loss': -6.144514718055725, 'time_step': 0.007182936668395996, 'evaluation': -42.68829652090957}\u001b[0m \u001b[36mstep\u001b[0m=\u001b[35m900\u001b[0m\n",
      "\u001b[2m2025-05-18 18:57.19\u001b[0m [\u001b[32m\u001b[1minfo     \u001b[0m] \u001b[1mModel parameters are saved to training_logs/finetuning/door/IQL_online_20250518185708/model_1000.d3\u001b[0m\n",
      "\u001b[2m2025-05-18 18:57.19\u001b[0m [\u001b[32m\u001b[1minfo     \u001b[0m] \u001b[1mIQL_online_20250518185708: epoch=10 step=1000\u001b[0m \u001b[36mepoch\u001b[0m=\u001b[35m10\u001b[0m \u001b[36mmetrics\u001b[0m=\u001b[35m{'time_inference': 0.00020270586013793946, 'time_environment_step': 0.00025953054428100585, 'time_sample_batch': 0.0016509580612182617, 'time_algorithm_update': 0.005236661434173584, 'critic_loss': 0.16632048547267914, 'q_loss': 0.14368909083306788, 'v_loss': 0.02263139419257641, 'actor_loss': -6.091888146400452, 'time_step': 0.00737102746963501, 'rollout_return': -43.581188577232666, 'evaluation': -42.7422514996141}\u001b[0m \u001b[36mstep\u001b[0m=\u001b[35m1000\u001b[0m\n",
      "\u001b[2m2025-05-18 18:57.19\u001b[0m [\u001b[32m\u001b[1minfo     \u001b[0m] \u001b[1mSignatures have been automatically determined.\u001b[0m \u001b[36maction_signature\u001b[0m=\u001b[35mSignature(dtype=[dtype('float32')], shape=[(28,)])\u001b[0m \u001b[36mobservation_signature\u001b[0m=\u001b[35mSignature(dtype=[dtype('float64')], shape=[(39,)])\u001b[0m \u001b[36mreward_signature\u001b[0m=\u001b[35mSignature(dtype=[dtype('float32')], shape=[[1]])\u001b[0m\n",
      "\u001b[2m2025-05-18 18:57.19\u001b[0m [\u001b[32m\u001b[1minfo     \u001b[0m] \u001b[1mAction-space has been automatically determined.\u001b[0m \u001b[36maction_space\u001b[0m=\u001b[35m<ActionSpace.CONTINUOUS: 1>\u001b[0m\n",
      "\u001b[2m2025-05-18 18:57.19\u001b[0m [\u001b[32m\u001b[1minfo     \u001b[0m] \u001b[1mAction size has been automatically determined.\u001b[0m \u001b[36maction_size\u001b[0m=\u001b[35m28\u001b[0m\n",
      "\u001b[2m2025-05-18 18:57.19\u001b[0m [\u001b[33m\u001b[1mwarning  \u001b[0m] \u001b[1mSkip building models since they're already built.\u001b[0m\n",
      "\u001b[2m2025-05-18 18:57.19\u001b[0m [\u001b[32m\u001b[1minfo     \u001b[0m] \u001b[1mDirectory is created at training_logs/finetuning/door/CQL_online_20250518185719\u001b[0m\n",
      "\u001b[2m2025-05-18 18:57.19\u001b[0m [\u001b[32m\u001b[1minfo     \u001b[0m] \u001b[1mParameters                    \u001b[0m \u001b[36mparams\u001b[0m=\u001b[35m{'observation_shape': [39], 'action_size': 28, 'config': {'type': 'cql', 'params': {'batch_size': 256, 'gamma': 0.99, 'observation_scaler': {'type': 'none', 'params': {}}, 'action_scaler': {'type': 'none', 'params': {}}, 'reward_scaler': {'type': 'none', 'params': {}}, 'compile_graph': False, 'actor_learning_rate': 0.0001, 'critic_learning_rate': 0.0003, 'temp_learning_rate': 0.0001, 'alpha_learning_rate': 0.0001, 'actor_optim_factory': {'type': 'adam', 'params': {'clip_grad_norm': None, 'lr_scheduler_factory': {'type': 'none', 'params': {}}, 'betas': [0.9, 0.999], 'eps': 1e-08, 'weight_decay': 0.0, 'amsgrad': False}}, 'critic_optim_factory': {'type': 'adam', 'params': {'clip_grad_norm': None, 'lr_scheduler_factory': {'type': 'none', 'params': {}}, 'betas': [0.9, 0.999], 'eps': 1e-08, 'weight_decay': 0.0, 'amsgrad': False}}, 'temp_optim_factory': {'type': 'adam', 'params': {'clip_grad_norm': None, 'lr_scheduler_factory': {'type': 'none', 'params': {}}, 'betas': [0.9, 0.999], 'eps': 1e-08, 'weight_decay': 0.0, 'amsgrad': False}}, 'alpha_optim_factory': {'type': 'adam', 'params': {'clip_grad_norm': None, 'lr_scheduler_factory': {'type': 'none', 'params': {}}, 'betas': [0.9, 0.999], 'eps': 1e-08, 'weight_decay': 0.0, 'amsgrad': False}}, 'actor_encoder_factory': {'type': 'default', 'params': {'activation': 'relu', 'use_batch_norm': False, 'dropout_rate': None}}, 'critic_encoder_factory': {'type': 'default', 'params': {'activation': 'relu', 'use_batch_norm': False, 'dropout_rate': None}}, 'q_func_factory': {'type': 'mean', 'params': {'share_encoder': False}}, 'tau': 0.005, 'n_critics': 2, 'initial_temperature': 1.0, 'initial_alpha': 1.0, 'alpha_threshold': 10.0, 'conservative_weight': 5.0, 'n_action_samples': 10, 'soft_q_backup': False, 'max_q_backup': False}}}\u001b[0m\n"
     ]
    },
    {
     "data": {
      "application/vnd.jupyter.widget-view+json": {
       "model_id": "1eaf2ae567464128b4b2713111ed0fca",
       "version_major": 2,
       "version_minor": 0
      },
      "text/plain": [
       "  0%|          | 0/1000 [00:00<?, ?it/s]"
      ]
     },
     "metadata": {},
     "output_type": "display_data"
    },
    {
     "name": "stdout",
     "output_type": "stream",
     "text": [
      "\u001b[2m2025-05-18 18:57.20\u001b[0m [\u001b[32m\u001b[1minfo     \u001b[0m] \u001b[1mModel parameters are saved to training_logs/finetuning/door/CQL_online_20250518185719/model_100.d3\u001b[0m\n",
      "\u001b[2m2025-05-18 18:57.20\u001b[0m [\u001b[32m\u001b[1minfo     \u001b[0m] \u001b[1mCQL_online_20250518185719: epoch=1 step=100\u001b[0m \u001b[36mepoch\u001b[0m=\u001b[35m1\u001b[0m \u001b[36mmetrics\u001b[0m=\u001b[35m{'time_inference': 9.454727172851563e-05, 'time_environment_step': 0.00021110773086547853, 'time_step': 0.0003121495246887207, 'evaluation': -45.11555327928964}\u001b[0m \u001b[36mstep\u001b[0m=\u001b[35m100\u001b[0m\n",
      "\u001b[2m2025-05-18 18:57.20\u001b[0m [\u001b[32m\u001b[1minfo     \u001b[0m] \u001b[1mModel parameters are saved to training_logs/finetuning/door/CQL_online_20250518185719/model_200.d3\u001b[0m\n",
      "\u001b[2m2025-05-18 18:57.20\u001b[0m [\u001b[32m\u001b[1minfo     \u001b[0m] \u001b[1mCQL_online_20250518185719: epoch=2 step=200\u001b[0m \u001b[36mepoch\u001b[0m=\u001b[35m2\u001b[0m \u001b[36mmetrics\u001b[0m=\u001b[35m{'time_inference': 8.62407684326172e-05, 'time_environment_step': 0.00020612239837646484, 'time_step': 0.00030120134353637694, 'rollout_return': -45.85980322780327, 'evaluation': -45.085799728300245}\u001b[0m \u001b[36mstep\u001b[0m=\u001b[35m200\u001b[0m\n",
      "\u001b[2m2025-05-18 18:57.22\u001b[0m [\u001b[32m\u001b[1minfo     \u001b[0m] \u001b[1mModel parameters are saved to training_logs/finetuning/door/CQL_online_20250518185719/model_300.d3\u001b[0m\n",
      "\u001b[2m2025-05-18 18:57.22\u001b[0m [\u001b[32m\u001b[1minfo     \u001b[0m] \u001b[1mCQL_online_20250518185719: epoch=3 step=300\u001b[0m \u001b[36mepoch\u001b[0m=\u001b[35m3\u001b[0m \u001b[36mmetrics\u001b[0m=\u001b[35m{'time_inference': 0.0001488494873046875, 'time_environment_step': 0.0002814316749572754, 'time_step': 0.012980232238769531, 'time_sample_batch': 0.0016705422174362909, 'time_algorithm_update': 0.028170324507213775, 'critic_loss': -9.2698575428554, 'conservative_loss': -36.219561440604075, 'alpha': 0.906667465255374, 'actor_loss': -11.536521775381905, 'temp': 0.9220866390636989, 'temp_loss': 28.294985180809384, 'evaluation': -45.18765082270207}\u001b[0m \u001b[36mstep\u001b[0m=\u001b[35m300\u001b[0m\n",
      "\u001b[2m2025-05-18 18:57.26\u001b[0m [\u001b[32m\u001b[1minfo     \u001b[0m] \u001b[1mModel parameters are saved to training_logs/finetuning/door/CQL_online_20250518185719/model_400.d3\u001b[0m\n",
      "\u001b[2m2025-05-18 18:57.26\u001b[0m [\u001b[32m\u001b[1minfo     \u001b[0m] \u001b[1mCQL_online_20250518185719: epoch=4 step=400\u001b[0m \u001b[36mepoch\u001b[0m=\u001b[35m4\u001b[0m \u001b[36mmetrics\u001b[0m=\u001b[35m{'time_inference': 0.0002588033676147461, 'time_environment_step': 0.0003500866889953613, 'time_sample_batch': 0.0016999173164367676, 'time_algorithm_update': 0.028453662395477294, 'critic_loss': -21.344644565582275, 'conservative_loss': -34.19261157989502, 'alpha': 0.9046296226978302, 'actor_loss': -14.174620351791383, 'temp': 0.9152030342817307, 'temp_loss': 29.12447832107544, 'time_step': 0.03079448938369751, 'rollout_return': -45.635402220865174, 'evaluation': 377.70490777520985}\u001b[0m \u001b[36mstep\u001b[0m=\u001b[35m400\u001b[0m\n",
      "\u001b[2m2025-05-18 18:57.29\u001b[0m [\u001b[32m\u001b[1minfo     \u001b[0m] \u001b[1mModel parameters are saved to training_logs/finetuning/door/CQL_online_20250518185719/model_500.d3\u001b[0m\n",
      "\u001b[2m2025-05-18 18:57.29\u001b[0m [\u001b[32m\u001b[1minfo     \u001b[0m] \u001b[1mCQL_online_20250518185719: epoch=5 step=500\u001b[0m \u001b[36mepoch\u001b[0m=\u001b[35m5\u001b[0m \u001b[36mmetrics\u001b[0m=\u001b[35m{'time_inference': 0.00029491662979125977, 'time_environment_step': 0.00034355878829956055, 'time_sample_batch': 0.0017241263389587403, 'time_algorithm_update': 0.02745495557785034, 'critic_loss': -20.01584032058716, 'conservative_loss': -31.958121509552, 'alpha': 0.9020178467035294, 'actor_loss': -17.21141321182251, 'temp': 0.9055149841308594, 'temp_loss': 29.04406843185425, 'time_step': 0.02984847068786621, 'evaluation': -44.82816011115893}\u001b[0m \u001b[36mstep\u001b[0m=\u001b[35m500\u001b[0m\n",
      "\u001b[2m2025-05-18 18:57.33\u001b[0m [\u001b[32m\u001b[1minfo     \u001b[0m] \u001b[1mModel parameters are saved to training_logs/finetuning/door/CQL_online_20250518185719/model_600.d3\u001b[0m\n",
      "\u001b[2m2025-05-18 18:57.33\u001b[0m [\u001b[32m\u001b[1minfo     \u001b[0m] \u001b[1mCQL_online_20250518185719: epoch=6 step=600\u001b[0m \u001b[36mepoch\u001b[0m=\u001b[35m6\u001b[0m \u001b[36mmetrics\u001b[0m=\u001b[35m{'time_inference': 0.0002918696403503418, 'time_environment_step': 0.0003397774696350098, 'time_sample_batch': 0.0017503690719604492, 'time_algorithm_update': 0.027032563686370848, 'critic_loss': -19.897627229690553, 'conservative_loss': -30.526310386657716, 'alpha': 0.8993699312210083, 'actor_loss': -19.106126079559328, 'temp': 0.8960620397329331, 'temp_loss': 28.872681884765626, 'time_step': 0.029447102546691896, 'rollout_return': -46.08704553216396, 'evaluation': -45.18440389738663}\u001b[0m \u001b[36mstep\u001b[0m=\u001b[35m600\u001b[0m\n",
      "\u001b[2m2025-05-18 18:57.37\u001b[0m [\u001b[32m\u001b[1minfo     \u001b[0m] \u001b[1mModel parameters are saved to training_logs/finetuning/door/CQL_online_20250518185719/model_700.d3\u001b[0m\n",
      "\u001b[2m2025-05-18 18:57.37\u001b[0m [\u001b[32m\u001b[1minfo     \u001b[0m] \u001b[1mCQL_online_20250518185719: epoch=7 step=700\u001b[0m \u001b[36mepoch\u001b[0m=\u001b[35m7\u001b[0m \u001b[36mmetrics\u001b[0m=\u001b[35m{'time_inference': 0.00029448747634887697, 'time_environment_step': 0.00033876657485961916, 'time_sample_batch': 0.0017663025856018066, 'time_algorithm_update': 0.027173352241516114, 'critic_loss': -17.513430433273314, 'conservative_loss': -28.45958251953125, 'alpha': 0.8967314475774765, 'actor_loss': -21.440800952911378, 'temp': 0.8868181395530701, 'temp_loss': 28.692060012817382, 'time_step': 0.029604241847991944, 'evaluation': -46.67160990472385}\u001b[0m \u001b[36mstep\u001b[0m=\u001b[35m700\u001b[0m\n",
      "\u001b[2m2025-05-18 18:57.40\u001b[0m [\u001b[32m\u001b[1minfo     \u001b[0m] \u001b[1mModel parameters are saved to training_logs/finetuning/door/CQL_online_20250518185719/model_800.d3\u001b[0m\n",
      "\u001b[2m2025-05-18 18:57.40\u001b[0m [\u001b[32m\u001b[1minfo     \u001b[0m] \u001b[1mCQL_online_20250518185719: epoch=8 step=800\u001b[0m \u001b[36mepoch\u001b[0m=\u001b[35m8\u001b[0m \u001b[36mmetrics\u001b[0m=\u001b[35m{'time_inference': 0.0002946329116821289, 'time_environment_step': 0.0003450655937194824, 'time_sample_batch': 0.001786823272705078, 'time_algorithm_update': 0.026686797142028807, 'critic_loss': -15.756086101531983, 'conservative_loss': -25.988064022064208, 'alpha': 0.8941233253479004, 'actor_loss': -23.572708225250246, 'temp': 0.8777532374858856, 'temp_loss': 28.60098815917969, 'time_step': 0.029146225452423097, 'rollout_return': -45.29805315877913, 'evaluation': -46.131162005529475}\u001b[0m \u001b[36mstep\u001b[0m=\u001b[35m800\u001b[0m\n",
      "\u001b[2m2025-05-18 18:57.44\u001b[0m [\u001b[32m\u001b[1minfo     \u001b[0m] \u001b[1mModel parameters are saved to training_logs/finetuning/door/CQL_online_20250518185719/model_900.d3\u001b[0m\n",
      "\u001b[2m2025-05-18 18:57.44\u001b[0m [\u001b[32m\u001b[1minfo     \u001b[0m] \u001b[1mCQL_online_20250518185719: epoch=9 step=900\u001b[0m \u001b[36mepoch\u001b[0m=\u001b[35m9\u001b[0m \u001b[36mmetrics\u001b[0m=\u001b[35m{'time_inference': 0.00030152082443237306, 'time_environment_step': 0.00035918474197387695, 'time_sample_batch': 0.0017908406257629394, 'time_algorithm_update': 0.02746150016784668, 'critic_loss': -15.31195821762085, 'conservative_loss': -25.465827198028563, 'alpha': 0.8915543651580811, 'actor_loss': -25.927392330169678, 'temp': 0.868859030008316, 'temp_loss': 28.295678939819336, 'time_step': 0.02994438648223877, 'evaluation': -45.15596279148332}\u001b[0m \u001b[36mstep\u001b[0m=\u001b[35m900\u001b[0m\n",
      "\u001b[2m2025-05-18 18:57.47\u001b[0m [\u001b[32m\u001b[1minfo     \u001b[0m] \u001b[1mModel parameters are saved to training_logs/finetuning/door/CQL_online_20250518185719/model_1000.d3\u001b[0m\n",
      "\u001b[2m2025-05-18 18:57.47\u001b[0m [\u001b[32m\u001b[1minfo     \u001b[0m] \u001b[1mCQL_online_20250518185719: epoch=10 step=1000\u001b[0m \u001b[36mepoch\u001b[0m=\u001b[35m10\u001b[0m \u001b[36mmetrics\u001b[0m=\u001b[35m{'time_inference': 0.0002984523773193359, 'time_environment_step': 0.0003312230110168457, 'time_sample_batch': 0.0018117976188659667, 'time_algorithm_update': 0.0274806809425354, 'critic_loss': -14.225847301483155, 'conservative_loss': -24.597729148864747, 'alpha': 0.8888811254501343, 'actor_loss': -28.36381196975708, 'temp': 0.8601653063297272, 'temp_loss': 28.025904788970948, 'time_step': 0.029955546855926513, 'rollout_return': -45.792559118873974, 'evaluation': -45.66743681105972}\u001b[0m \u001b[36mstep\u001b[0m=\u001b[35m1000\u001b[0m\n",
      "\u001b[2m2025-05-18 18:57.47\u001b[0m [\u001b[32m\u001b[1minfo     \u001b[0m] \u001b[1mSignatures have been automatically determined.\u001b[0m \u001b[36maction_signature\u001b[0m=\u001b[35mSignature(dtype=[dtype('float32')], shape=[(28,)])\u001b[0m \u001b[36mobservation_signature\u001b[0m=\u001b[35mSignature(dtype=[dtype('float64')], shape=[(39,)])\u001b[0m \u001b[36mreward_signature\u001b[0m=\u001b[35mSignature(dtype=[dtype('float32')], shape=[[1]])\u001b[0m\n",
      "\u001b[2m2025-05-18 18:57.47\u001b[0m [\u001b[32m\u001b[1minfo     \u001b[0m] \u001b[1mAction-space has been automatically determined.\u001b[0m \u001b[36maction_space\u001b[0m=\u001b[35m<ActionSpace.CONTINUOUS: 1>\u001b[0m\n",
      "\u001b[2m2025-05-18 18:57.47\u001b[0m [\u001b[32m\u001b[1minfo     \u001b[0m] \u001b[1mAction size has been automatically determined.\u001b[0m \u001b[36maction_size\u001b[0m=\u001b[35m28\u001b[0m\n",
      "\u001b[2m2025-05-18 18:57.47\u001b[0m [\u001b[33m\u001b[1mwarning  \u001b[0m] \u001b[1mSkip building models since they're already built.\u001b[0m\n",
      "\u001b[2m2025-05-18 18:57.47\u001b[0m [\u001b[32m\u001b[1minfo     \u001b[0m] \u001b[1mDirectory is created at training_logs/finetuning/door/TD3PlusBC_online_20250518185747\u001b[0m\n",
      "\u001b[2m2025-05-18 18:57.47\u001b[0m [\u001b[32m\u001b[1minfo     \u001b[0m] \u001b[1mParameters                    \u001b[0m \u001b[36mparams\u001b[0m=\u001b[35m{'observation_shape': [39], 'action_size': 28, 'config': {'type': 'td3_plus_bc', 'params': {'batch_size': 256, 'gamma': 0.99, 'observation_scaler': {'type': 'none', 'params': {}}, 'action_scaler': {'type': 'none', 'params': {}}, 'reward_scaler': {'type': 'none', 'params': {}}, 'compile_graph': False, 'actor_learning_rate': 0.0003, 'critic_learning_rate': 0.0003, 'actor_optim_factory': {'type': 'adam', 'params': {'clip_grad_norm': None, 'lr_scheduler_factory': {'type': 'none', 'params': {}}, 'betas': [0.9, 0.999], 'eps': 1e-08, 'weight_decay': 0.0, 'amsgrad': False}}, 'critic_optim_factory': {'type': 'adam', 'params': {'clip_grad_norm': None, 'lr_scheduler_factory': {'type': 'none', 'params': {}}, 'betas': [0.9, 0.999], 'eps': 1e-08, 'weight_decay': 0.0, 'amsgrad': False}}, 'actor_encoder_factory': {'type': 'default', 'params': {'activation': 'relu', 'use_batch_norm': False, 'dropout_rate': None}}, 'critic_encoder_factory': {'type': 'default', 'params': {'activation': 'relu', 'use_batch_norm': False, 'dropout_rate': None}}, 'q_func_factory': {'type': 'mean', 'params': {'share_encoder': False}}, 'tau': 0.005, 'n_critics': 2, 'target_smoothing_sigma': 0.2, 'target_smoothing_clip': 0.5, 'alpha': 2.5, 'update_actor_interval': 2}}}\u001b[0m\n"
     ]
    },
    {
     "data": {
      "application/vnd.jupyter.widget-view+json": {
       "model_id": "c77125b0d35f4740ad9b706bec09909e",
       "version_major": 2,
       "version_minor": 0
      },
      "text/plain": [
       "  0%|          | 0/1000 [00:00<?, ?it/s]"
      ]
     },
     "metadata": {},
     "output_type": "display_data"
    },
    {
     "name": "stdout",
     "output_type": "stream",
     "text": [
      "\u001b[2m2025-05-18 18:57.48\u001b[0m [\u001b[32m\u001b[1minfo     \u001b[0m] \u001b[1mModel parameters are saved to training_logs/finetuning/door/TD3PlusBC_online_20250518185747/model_100.d3\u001b[0m\n",
      "\u001b[2m2025-05-18 18:57.48\u001b[0m [\u001b[32m\u001b[1minfo     \u001b[0m] \u001b[1mTD3PlusBC_online_20250518185747: epoch=1 step=100\u001b[0m \u001b[36mepoch\u001b[0m=\u001b[35m1\u001b[0m \u001b[36mmetrics\u001b[0m=\u001b[35m{'time_inference': 6.841421127319336e-05, 'time_environment_step': 0.00020370244979858398, 'time_step': 0.0002798271179199219, 'evaluation': -41.14474398517384}\u001b[0m \u001b[36mstep\u001b[0m=\u001b[35m100\u001b[0m\n",
      "\u001b[2m2025-05-18 18:57.48\u001b[0m [\u001b[32m\u001b[1minfo     \u001b[0m] \u001b[1mModel parameters are saved to training_logs/finetuning/door/TD3PlusBC_online_20250518185747/model_200.d3\u001b[0m\n",
      "\u001b[2m2025-05-18 18:57.48\u001b[0m [\u001b[32m\u001b[1minfo     \u001b[0m] \u001b[1mTD3PlusBC_online_20250518185747: epoch=2 step=200\u001b[0m \u001b[36mepoch\u001b[0m=\u001b[35m2\u001b[0m \u001b[36mmetrics\u001b[0m=\u001b[35m{'time_inference': 4.4515132904052736e-05, 'time_environment_step': 0.00016727924346923828, 'time_step': 0.00021957874298095704, 'rollout_return': -40.187039988601065, 'evaluation': -41.33879132868197}\u001b[0m \u001b[36mstep\u001b[0m=\u001b[35m200\u001b[0m\n",
      "\u001b[2m2025-05-18 18:57.49\u001b[0m [\u001b[32m\u001b[1minfo     \u001b[0m] \u001b[1mModel parameters are saved to training_logs/finetuning/door/TD3PlusBC_online_20250518185747/model_300.d3\u001b[0m\n",
      "\u001b[2m2025-05-18 18:57.49\u001b[0m [\u001b[32m\u001b[1minfo     \u001b[0m] \u001b[1mTD3PlusBC_online_20250518185747: epoch=3 step=300\u001b[0m \u001b[36mepoch\u001b[0m=\u001b[35m3\u001b[0m \u001b[36mmetrics\u001b[0m=\u001b[35m{'time_inference': 7.689952850341797e-05, 'time_environment_step': 0.00021331071853637697, 'time_step': 0.002382466793060303, 'time_sample_batch': 0.0015838884171985445, 'time_algorithm_update': 0.0033724364780244372, 'critic_loss': 0.8830678338805834, 'actor_loss': -2.249647026970273, 'bc_loss': 0.25035299702514263, 'evaluation': -41.41439840780043}\u001b[0m \u001b[36mstep\u001b[0m=\u001b[35m300\u001b[0m\n",
      "\u001b[2m2025-05-18 18:57.50\u001b[0m [\u001b[32m\u001b[1minfo     \u001b[0m] \u001b[1mModel parameters are saved to training_logs/finetuning/door/TD3PlusBC_online_20250518185747/model_400.d3\u001b[0m\n",
      "\u001b[2m2025-05-18 18:57.50\u001b[0m [\u001b[32m\u001b[1minfo     \u001b[0m] \u001b[1mTD3PlusBC_online_20250518185747: epoch=4 step=400\u001b[0m \u001b[36mepoch\u001b[0m=\u001b[35m4\u001b[0m \u001b[36mmetrics\u001b[0m=\u001b[35m{'time_inference': 0.000140683650970459, 'time_environment_step': 0.00030073881149291995, 'time_sample_batch': 0.001658177375793457, 'time_algorithm_update': 0.004060769081115722, 'critic_loss': 0.18511805176734925, 'actor_loss': -2.032756187915802, 'bc_loss': 0.4672438192367554, 'time_step': 0.006183345317840577, 'rollout_return': -40.373004185562586, 'evaluation': -41.59052353447345}\u001b[0m \u001b[36mstep\u001b[0m=\u001b[35m400\u001b[0m\n",
      "\u001b[2m2025-05-18 18:57.51\u001b[0m [\u001b[32m\u001b[1minfo     \u001b[0m] \u001b[1mModel parameters are saved to training_logs/finetuning/door/TD3PlusBC_online_20250518185747/model_500.d3\u001b[0m\n",
      "\u001b[2m2025-05-18 18:57.51\u001b[0m [\u001b[32m\u001b[1minfo     \u001b[0m] \u001b[1mTD3PlusBC_online_20250518185747: epoch=5 step=500\u001b[0m \u001b[36mepoch\u001b[0m=\u001b[35m5\u001b[0m \u001b[36mmetrics\u001b[0m=\u001b[35m{'time_inference': 0.00013511896133422852, 'time_environment_step': 0.00028288841247558593, 'time_sample_batch': 0.0016248297691345214, 'time_algorithm_update': 0.004116232395172119, 'critic_loss': 0.19096146196126937, 'actor_loss': -1.9760548210144042, 'bc_loss': 0.523945187330246, 'time_step': 0.006177387237548828, 'evaluation': -41.524783665883135}\u001b[0m \u001b[36mstep\u001b[0m=\u001b[35m500\u001b[0m\n",
      "\u001b[2m2025-05-18 18:57.52\u001b[0m [\u001b[32m\u001b[1minfo     \u001b[0m] \u001b[1mModel parameters are saved to training_logs/finetuning/door/TD3PlusBC_online_20250518185747/model_600.d3\u001b[0m\n",
      "\u001b[2m2025-05-18 18:57.52\u001b[0m [\u001b[32m\u001b[1minfo     \u001b[0m] \u001b[1mTD3PlusBC_online_20250518185747: epoch=6 step=600\u001b[0m \u001b[36mepoch\u001b[0m=\u001b[35m6\u001b[0m \u001b[36mmetrics\u001b[0m=\u001b[35m{'time_inference': 0.00012895584106445312, 'time_environment_step': 0.0002751350402832031, 'time_sample_batch': 0.001627659797668457, 'time_algorithm_update': 0.003626210689544678, 'critic_loss': 0.18698038935661315, 'actor_loss': -1.8494017100334168, 'bc_loss': 0.6505982744693756, 'time_step': 0.00567683219909668, 'rollout_return': -40.73556575588618, 'evaluation': -31.341221099397075}\u001b[0m \u001b[36mstep\u001b[0m=\u001b[35m600\u001b[0m\n",
      "\u001b[2m2025-05-18 18:57.53\u001b[0m [\u001b[32m\u001b[1minfo     \u001b[0m] \u001b[1mModel parameters are saved to training_logs/finetuning/door/TD3PlusBC_online_20250518185747/model_700.d3\u001b[0m\n",
      "\u001b[2m2025-05-18 18:57.53\u001b[0m [\u001b[32m\u001b[1minfo     \u001b[0m] \u001b[1mTD3PlusBC_online_20250518185747: epoch=7 step=700\u001b[0m \u001b[36mepoch\u001b[0m=\u001b[35m7\u001b[0m \u001b[36mmetrics\u001b[0m=\u001b[35m{'time_inference': 0.00012928247451782227, 'time_environment_step': 0.00026039838790893556, 'time_sample_batch': 0.0016239762306213378, 'time_algorithm_update': 0.0035222554206848144, 'critic_loss': 0.1728598116338253, 'actor_loss': -1.819238920211792, 'bc_loss': 0.6807610857486724, 'time_step': 0.005553898811340332, 'evaluation': -30.11841160704421}\u001b[0m \u001b[36mstep\u001b[0m=\u001b[35m700\u001b[0m\n",
      "\u001b[2m2025-05-18 18:57.54\u001b[0m [\u001b[32m\u001b[1minfo     \u001b[0m] \u001b[1mModel parameters are saved to training_logs/finetuning/door/TD3PlusBC_online_20250518185747/model_800.d3\u001b[0m\n",
      "\u001b[2m2025-05-18 18:57.54\u001b[0m [\u001b[32m\u001b[1minfo     \u001b[0m] \u001b[1mTD3PlusBC_online_20250518185747: epoch=8 step=800\u001b[0m \u001b[36mepoch\u001b[0m=\u001b[35m8\u001b[0m \u001b[36mmetrics\u001b[0m=\u001b[35m{'time_inference': 0.00013033151626586914, 'time_environment_step': 0.0002622103691101074, 'time_sample_batch': 0.0016223597526550293, 'time_algorithm_update': 0.003446211814880371, 'critic_loss': 0.16348308593034744, 'actor_loss': -1.8534740376472474, 'bc_loss': 0.6465259802341461, 'time_step': 0.0054792571067810054, 'rollout_return': -30.999358512972844, 'evaluation': -29.92830011042047}\u001b[0m \u001b[36mstep\u001b[0m=\u001b[35m800\u001b[0m\n",
      "\u001b[2m2025-05-18 18:57.55\u001b[0m [\u001b[32m\u001b[1minfo     \u001b[0m] \u001b[1mModel parameters are saved to training_logs/finetuning/door/TD3PlusBC_online_20250518185747/model_900.d3\u001b[0m\n",
      "\u001b[2m2025-05-18 18:57.55\u001b[0m [\u001b[32m\u001b[1minfo     \u001b[0m] \u001b[1mTD3PlusBC_online_20250518185747: epoch=9 step=900\u001b[0m \u001b[36mepoch\u001b[0m=\u001b[35m9\u001b[0m \u001b[36mmetrics\u001b[0m=\u001b[35m{'time_inference': 0.00012643814086914064, 'time_environment_step': 0.0002511143684387207, 'time_sample_batch': 0.001622319221496582, 'time_algorithm_update': 0.0033422017097473142, 'critic_loss': 0.17054415836930276, 'actor_loss': -2.0362040042877196, 'bc_loss': 0.46379601359367373, 'time_step': 0.00535860538482666, 'evaluation': -29.979081310852223}\u001b[0m \u001b[36mstep\u001b[0m=\u001b[35m900\u001b[0m\n",
      "\u001b[2m2025-05-18 18:57.57\u001b[0m [\u001b[32m\u001b[1minfo     \u001b[0m] \u001b[1mModel parameters are saved to training_logs/finetuning/door/TD3PlusBC_online_20250518185747/model_1000.d3\u001b[0m\n",
      "\u001b[2m2025-05-18 18:57.57\u001b[0m [\u001b[32m\u001b[1minfo     \u001b[0m] \u001b[1mTD3PlusBC_online_20250518185747: epoch=10 step=1000\u001b[0m \u001b[36mepoch\u001b[0m=\u001b[35m10\u001b[0m \u001b[36mmetrics\u001b[0m=\u001b[35m{'time_inference': 0.00012962818145751954, 'time_environment_step': 0.0002511358261108398, 'time_sample_batch': 0.0016254544258117675, 'time_algorithm_update': 0.0033293938636779785, 'critic_loss': 0.16737871557474138, 'actor_loss': -2.1421336936950683, 'bc_loss': 0.35786632597446444, 'time_step': 0.005353591442108154, 'rollout_return': -30.09136752953423, 'evaluation': -41.495281153189254}\u001b[0m \u001b[36mstep\u001b[0m=\u001b[35m1000\u001b[0m\n",
      "\u001b[2m2025-05-18 18:57.57\u001b[0m [\u001b[32m\u001b[1minfo     \u001b[0m] \u001b[1mSignatures have been automatically determined.\u001b[0m \u001b[36maction_signature\u001b[0m=\u001b[35mSignature(dtype=[dtype('float32')], shape=[(28,)])\u001b[0m \u001b[36mobservation_signature\u001b[0m=\u001b[35mSignature(dtype=[dtype('float64')], shape=[(39,)])\u001b[0m \u001b[36mreward_signature\u001b[0m=\u001b[35mSignature(dtype=[dtype('float32')], shape=[[1]])\u001b[0m\n",
      "\u001b[2m2025-05-18 18:57.57\u001b[0m [\u001b[32m\u001b[1minfo     \u001b[0m] \u001b[1mAction-space has been automatically determined.\u001b[0m \u001b[36maction_space\u001b[0m=\u001b[35m<ActionSpace.CONTINUOUS: 1>\u001b[0m\n",
      "\u001b[2m2025-05-18 18:57.57\u001b[0m [\u001b[32m\u001b[1minfo     \u001b[0m] \u001b[1mAction size has been automatically determined.\u001b[0m \u001b[36maction_size\u001b[0m=\u001b[35m28\u001b[0m\n",
      "\u001b[2m2025-05-18 18:57.57\u001b[0m [\u001b[33m\u001b[1mwarning  \u001b[0m] \u001b[1mSkip building models since they're already built.\u001b[0m\n",
      "\u001b[2m2025-05-18 18:57.57\u001b[0m [\u001b[32m\u001b[1minfo     \u001b[0m] \u001b[1mDirectory is created at training_logs/finetuning/door/AWAC_online_20250518185757\u001b[0m\n",
      "\u001b[2m2025-05-18 18:57.57\u001b[0m [\u001b[32m\u001b[1minfo     \u001b[0m] \u001b[1mParameters                    \u001b[0m \u001b[36mparams\u001b[0m=\u001b[35m{'observation_shape': [39], 'action_size': 28, 'config': {'type': 'awac', 'params': {'batch_size': 1024, 'gamma': 0.99, 'observation_scaler': {'type': 'none', 'params': {}}, 'action_scaler': {'type': 'none', 'params': {}}, 'reward_scaler': {'type': 'none', 'params': {}}, 'compile_graph': False, 'actor_learning_rate': 0.0003, 'critic_learning_rate': 0.0003, 'actor_optim_factory': {'type': 'adam', 'params': {'clip_grad_norm': None, 'lr_scheduler_factory': {'type': 'none', 'params': {}}, 'betas': [0.9, 0.999], 'eps': 1e-08, 'weight_decay': 0.0, 'amsgrad': False}}, 'critic_optim_factory': {'type': 'adam', 'params': {'clip_grad_norm': None, 'lr_scheduler_factory': {'type': 'none', 'params': {}}, 'betas': [0.9, 0.999], 'eps': 1e-08, 'weight_decay': 0.0, 'amsgrad': False}}, 'actor_encoder_factory': {'type': 'default', 'params': {'activation': 'relu', 'use_batch_norm': False, 'dropout_rate': None}}, 'critic_encoder_factory': {'type': 'default', 'params': {'activation': 'relu', 'use_batch_norm': False, 'dropout_rate': None}}, 'q_func_factory': {'type': 'mean', 'params': {'share_encoder': False}}, 'tau': 0.005, 'lam': 1.0, 'n_action_samples': 1, 'n_critics': 2}}}\u001b[0m\n"
     ]
    },
    {
     "data": {
      "application/vnd.jupyter.widget-view+json": {
       "model_id": "a789b5576b0441f78e1cf5ddc5ec6ebc",
       "version_major": 2,
       "version_minor": 0
      },
      "text/plain": [
       "  0%|          | 0/1000 [00:00<?, ?it/s]"
      ]
     },
     "metadata": {},
     "output_type": "display_data"
    },
    {
     "name": "stdout",
     "output_type": "stream",
     "text": [
      "\u001b[2m2025-05-18 18:57.57\u001b[0m [\u001b[32m\u001b[1minfo     \u001b[0m] \u001b[1mModel parameters are saved to training_logs/finetuning/door/AWAC_online_20250518185757/model_100.d3\u001b[0m\n",
      "\u001b[2m2025-05-18 18:57.57\u001b[0m [\u001b[32m\u001b[1minfo     \u001b[0m] \u001b[1mAWAC_online_20250518185757: epoch=1 step=100\u001b[0m \u001b[36mepoch\u001b[0m=\u001b[35m1\u001b[0m \u001b[36mmetrics\u001b[0m=\u001b[35m{'time_inference': 0.00010128259658813477, 'time_environment_step': 0.00020657062530517577, 'time_step': 0.0003148198127746582, 'evaluation': -39.62667935522752}\u001b[0m \u001b[36mstep\u001b[0m=\u001b[35m100\u001b[0m\n",
      "\u001b[2m2025-05-18 18:57.58\u001b[0m [\u001b[32m\u001b[1minfo     \u001b[0m] \u001b[1mModel parameters are saved to training_logs/finetuning/door/AWAC_online_20250518185757/model_200.d3\u001b[0m\n",
      "\u001b[2m2025-05-18 18:57.58\u001b[0m [\u001b[32m\u001b[1minfo     \u001b[0m] \u001b[1mAWAC_online_20250518185757: epoch=2 step=200\u001b[0m \u001b[36mepoch\u001b[0m=\u001b[35m2\u001b[0m \u001b[36mmetrics\u001b[0m=\u001b[35m{'time_inference': 8.721351623535157e-05, 'time_environment_step': 0.00019151687622070312, 'time_step': 0.0002866768836975098, 'rollout_return': -39.596034923549276, 'evaluation': -39.72468776097129}\u001b[0m \u001b[36mstep\u001b[0m=\u001b[35m200\u001b[0m\n",
      "\u001b[2m2025-05-18 18:57.58\u001b[0m [\u001b[32m\u001b[1minfo     \u001b[0m] \u001b[1mModel parameters are saved to training_logs/finetuning/door/AWAC_online_20250518185757/model_300.d3\u001b[0m\n",
      "\u001b[2m2025-05-18 18:57.58\u001b[0m [\u001b[32m\u001b[1minfo     \u001b[0m] \u001b[1mAWAC_online_20250518185757: epoch=3 step=300\u001b[0m \u001b[36mepoch\u001b[0m=\u001b[35m3\u001b[0m \u001b[36mmetrics\u001b[0m=\u001b[35m{'time_inference': 8.85009765625e-05, 'time_environment_step': 0.00019223690032958983, 'time_step': 0.00028723955154418945, 'evaluation': -39.499718263328916}\u001b[0m \u001b[36mstep\u001b[0m=\u001b[35m300\u001b[0m\n",
      "\u001b[2m2025-05-18 18:57.59\u001b[0m [\u001b[32m\u001b[1minfo     \u001b[0m] \u001b[1mModel parameters are saved to training_logs/finetuning/door/AWAC_online_20250518185757/model_400.d3\u001b[0m\n",
      "\u001b[2m2025-05-18 18:57.59\u001b[0m [\u001b[32m\u001b[1minfo     \u001b[0m] \u001b[1mAWAC_online_20250518185757: epoch=4 step=400\u001b[0m \u001b[36mepoch\u001b[0m=\u001b[35m4\u001b[0m \u001b[36mmetrics\u001b[0m=\u001b[35m{'time_inference': 8.599281311035156e-05, 'time_environment_step': 0.00018704891204833984, 'time_step': 0.0002814316749572754, 'rollout_return': -40.32657523341783, 'evaluation': -39.45752971399328}\u001b[0m \u001b[36mstep\u001b[0m=\u001b[35m400\u001b[0m\n",
      "\u001b[2m2025-05-18 18:57.59\u001b[0m [\u001b[32m\u001b[1minfo     \u001b[0m] \u001b[1mModel parameters are saved to training_logs/finetuning/door/AWAC_online_20250518185757/model_500.d3\u001b[0m\n",
      "\u001b[2m2025-05-18 18:57.59\u001b[0m [\u001b[32m\u001b[1minfo     \u001b[0m] \u001b[1mAWAC_online_20250518185757: epoch=5 step=500\u001b[0m \u001b[36mepoch\u001b[0m=\u001b[35m5\u001b[0m \u001b[36mmetrics\u001b[0m=\u001b[35m{'time_inference': 8.619785308837891e-05, 'time_environment_step': 0.00019224643707275391, 'time_step': 0.00028459548950195314, 'evaluation': -39.56708210118096}\u001b[0m \u001b[36mstep\u001b[0m=\u001b[35m500\u001b[0m\n",
      "\u001b[2m2025-05-18 18:58.00\u001b[0m [\u001b[32m\u001b[1minfo     \u001b[0m] \u001b[1mModel parameters are saved to training_logs/finetuning/door/AWAC_online_20250518185757/model_600.d3\u001b[0m\n",
      "\u001b[2m2025-05-18 18:58.00\u001b[0m [\u001b[32m\u001b[1minfo     \u001b[0m] \u001b[1mAWAC_online_20250518185757: epoch=6 step=600\u001b[0m \u001b[36mepoch\u001b[0m=\u001b[35m6\u001b[0m \u001b[36mmetrics\u001b[0m=\u001b[35m{'time_inference': 8.520841598510742e-05, 'time_environment_step': 0.00019022226333618165, 'time_step': 0.00028270721435546875, 'rollout_return': -40.565125244730154, 'evaluation': -39.899884528974795}\u001b[0m \u001b[36mstep\u001b[0m=\u001b[35m600\u001b[0m\n",
      "\u001b[2m2025-05-18 18:58.00\u001b[0m [\u001b[32m\u001b[1minfo     \u001b[0m] \u001b[1mModel parameters are saved to training_logs/finetuning/door/AWAC_online_20250518185757/model_700.d3\u001b[0m\n",
      "\u001b[2m2025-05-18 18:58.00\u001b[0m [\u001b[32m\u001b[1minfo     \u001b[0m] \u001b[1mAWAC_online_20250518185757: epoch=7 step=700\u001b[0m \u001b[36mepoch\u001b[0m=\u001b[35m7\u001b[0m \u001b[36mmetrics\u001b[0m=\u001b[35m{'time_inference': 8.820056915283203e-05, 'time_environment_step': 0.0001913619041442871, 'time_step': 0.0002857518196105957, 'evaluation': -39.79170500239429}\u001b[0m \u001b[36mstep\u001b[0m=\u001b[35m700\u001b[0m\n",
      "\u001b[2m2025-05-18 18:58.01\u001b[0m [\u001b[32m\u001b[1minfo     \u001b[0m] \u001b[1mModel parameters are saved to training_logs/finetuning/door/AWAC_online_20250518185757/model_800.d3\u001b[0m\n",
      "\u001b[2m2025-05-18 18:58.01\u001b[0m [\u001b[32m\u001b[1minfo     \u001b[0m] \u001b[1mAWAC_online_20250518185757: epoch=8 step=800\u001b[0m \u001b[36mepoch\u001b[0m=\u001b[35m8\u001b[0m \u001b[36mmetrics\u001b[0m=\u001b[35m{'time_inference': 0.0003603053092956543, 'time_environment_step': 0.0003684043884277344, 'time_step': 0.0007660889625549316, 'rollout_return': -39.18850920755313, 'evaluation': -39.60453124029159}\u001b[0m \u001b[36mstep\u001b[0m=\u001b[35m800\u001b[0m\n",
      "\u001b[2m2025-05-18 18:58.01\u001b[0m [\u001b[32m\u001b[1minfo     \u001b[0m] \u001b[1mModel parameters are saved to training_logs/finetuning/door/AWAC_online_20250518185757/model_900.d3\u001b[0m\n",
      "\u001b[2m2025-05-18 18:58.01\u001b[0m [\u001b[32m\u001b[1minfo     \u001b[0m] \u001b[1mAWAC_online_20250518185757: epoch=9 step=900\u001b[0m \u001b[36mepoch\u001b[0m=\u001b[35m9\u001b[0m \u001b[36mmetrics\u001b[0m=\u001b[35m{'time_inference': 9.235143661499024e-05, 'time_environment_step': 0.00021139383316040039, 'time_step': 0.0003105735778808594, 'evaluation': -39.56467802028878}\u001b[0m \u001b[36mstep\u001b[0m=\u001b[35m900\u001b[0m\n",
      "\u001b[2m2025-05-18 18:58.02\u001b[0m [\u001b[32m\u001b[1minfo     \u001b[0m] \u001b[1mModel parameters are saved to training_logs/finetuning/door/AWAC_online_20250518185757/model_1000.d3\u001b[0m\n",
      "\u001b[2m2025-05-18 18:58.02\u001b[0m [\u001b[32m\u001b[1minfo     \u001b[0m] \u001b[1mAWAC_online_20250518185757: epoch=10 step=1000\u001b[0m \u001b[36mepoch\u001b[0m=\u001b[35m10\u001b[0m \u001b[36mmetrics\u001b[0m=\u001b[35m{'time_inference': 8.362531661987305e-05, 'time_environment_step': 0.0001926398277282715, 'time_step': 0.0002836155891418457, 'rollout_return': -39.05152544870123, 'evaluation': -39.41099499038949}\u001b[0m \u001b[36mstep\u001b[0m=\u001b[35m1000\u001b[0m\n"
     ]
    },
    {
     "data": {
      "text/plain": [
       "<d3rlpy.algos.qlearning.awac.AWAC at 0x166b4d420>"
      ]
     },
     "execution_count": 15,
     "metadata": {},
     "output_type": "execute_result"
    }
   ],
   "source": [
    "finetune_algorithm(door_iql, door_env, 'door_iql', 'door')\n",
    "finetune_algorithm(door_cql, door_env, 'door_cql', 'door')\n",
    "finetune_algorithm(door_td3bc, door_env, 'door_td3bc', 'door')\n",
    "finetune_algorithm(door_awac, door_env, 'door_awac', 'door')"
   ]
  },
  {
   "cell_type": "code",
   "execution_count": null,
   "id": "fa2a8d0f-2008-438c-9f93-3760af0ea50b",
   "metadata": {},
   "outputs": [],
   "source": []
  }
 ],
 "metadata": {
  "kernelspec": {
   "display_name": "Python 3 (ipykernel)",
   "language": "python",
   "name": "python3"
  },
  "language_info": {
   "codemirror_mode": {
    "name": "ipython",
    "version": 3
   },
   "file_extension": ".py",
   "mimetype": "text/x-python",
   "name": "python",
   "nbconvert_exporter": "python",
   "pygments_lexer": "ipython3",
   "version": "3.10.16"
  }
 },
 "nbformat": 4,
 "nbformat_minor": 5
}

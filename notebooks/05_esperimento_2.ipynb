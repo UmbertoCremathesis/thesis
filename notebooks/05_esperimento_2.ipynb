{
 "cells": [
  {
   "cell_type": "code",
   "execution_count": 1,
   "id": "0fef0972-d97c-4a21-a8ea-b0d51f93277f",
   "metadata": {},
   "outputs": [],
   "source": [
    "import minari\n",
    "import d3rlpy\n",
    "import copy\n",
    "import os"
   ]
  },
  {
   "cell_type": "markdown",
   "id": "b5866856-245a-4094-bcd6-4dfbd80880aa",
   "metadata": {},
   "source": [
    "# Parameters of the experiments"
   ]
  },
  {
   "cell_type": "code",
   "execution_count": 2,
   "id": "f3693211-97b2-46a6-a73f-4bc786ff87a8",
   "metadata": {},
   "outputs": [],
   "source": [
    "# Number of evaluation episodes during testing\n",
    "N = 50\n",
    "\n",
    "# Training duration and evaluation frequency\n",
    "n_steps = 100\n",
    "n_steps_per_epoch = 10\n",
    "save_interval = 1"
   ]
  },
  {
   "cell_type": "markdown",
   "id": "a142aae8-b34b-4e76-905f-302cb5663fc9",
   "metadata": {},
   "source": [
    "# Loading and preparation of datasets"
   ]
  },
  {
   "cell_type": "code",
   "execution_count": 3,
   "id": "bbfa420e-164b-46d5-a5ec-8b574de30954",
   "metadata": {},
   "outputs": [],
   "source": [
    "# Load expert datasets and directly recover the corresponding environments for each Adroit task\n",
    "pen_env = minari.load_dataset(\"D4RL/pen/expert-v2\").recover_environment()\n",
    "relocate_env = minari.load_dataset(\"D4RL/relocate/expert-v2\").recover_environment()\n",
    "hammer_env = minari.load_dataset(\"D4RL/hammer/expert-v2\").recover_environment()\n",
    "door_env = minari.load_dataset(\"D4RL/door/expert-v2\").recover_environment()"
   ]
  },
  {
   "cell_type": "markdown",
   "id": "0abaf525-e354-4676-819f-07edee77bd83",
   "metadata": {},
   "source": [
    "# Creation of folders for policies and logs"
   ]
  },
  {
   "cell_type": "code",
   "execution_count": 2,
   "id": "9fecef25-4edf-4741-994a-5093c91af8a0",
   "metadata": {},
   "outputs": [
    {
     "name": "stdout",
     "output_type": "stream",
     "text": [
      "Created: policies/finetuning\n",
      "Created: training_logs/finetuning/pen\n",
      "Created: training_logs/finetuning/relocate\n",
      "Created: training_logs/finetuning/hammer\n",
      "Created: training_logs/finetuning/door\n"
     ]
    }
   ],
   "source": [
    "# Create policies/finetuning\n",
    "policies_path = os.path.join(\"policies\", \"finetuning\")\n",
    "if not os.path.exists(policies_path):\n",
    "    os.makedirs(policies_path)\n",
    "    print(f\"Created: {policies_path}\")\n",
    "else:\n",
    "    print(f\"Already exists: {policies_path}\")\n",
    "\n",
    "# Create training_logs/finetuning/{task}\n",
    "training_base = os.path.join(\"training_logs\", \"finetuning\")\n",
    "task_dirs = [\"pen\", \"relocate\", \"hammer\", \"door\"]\n",
    "\n",
    "for task in task_dirs:\n",
    "    task_path = os.path.join(training_base, task)\n",
    "    if not os.path.exists(task_path):\n",
    "        os.makedirs(task_path)\n",
    "        print(f\"Created: {task_path}\")\n",
    "    else:\n",
    "        print(f\"Already exists: {task_path}\")"
   ]
  },
  {
   "cell_type": "markdown",
   "id": "db64dfd2-73ee-4de5-8ddb-5ea3e6d4be31",
   "metadata": {},
   "source": [
    "# Loading saved policies"
   ]
  },
  {
   "cell_type": "markdown",
   "id": "4965c3da-d384-40aa-90e3-1d8dbad27f78",
   "metadata": {},
   "source": [
    "### Pen"
   ]
  },
  {
   "cell_type": "code",
   "execution_count": 5,
   "id": "a691621b-a264-4008-b958-a8e8a092fa25",
   "metadata": {},
   "outputs": [],
   "source": [
    "# Load the trained offline policies for the Pen task from disk\n",
    "pen_iql = d3rlpy.load_learnable(\"policies/offline/pen_iql.d3\")\n",
    "pen_cql = d3rlpy.load_learnable(\"policies/offline/pen_cql.d3\")\n",
    "pen_bc = d3rlpy.load_learnable(\"policies/offline/pen_bc.d3\")\n",
    "pen_td3bc = d3rlpy.load_learnable(\"policies/offline/pen_td3bc.d3\")\n",
    "pen_awac = d3rlpy.load_learnable(\"policies/offline/pen_awac.d3\")"
   ]
  },
  {
   "cell_type": "markdown",
   "id": "12d83e98-20ec-4d2c-ad31-45939b95d7ce",
   "metadata": {},
   "source": [
    "### Relocate"
   ]
  },
  {
   "cell_type": "code",
   "execution_count": 6,
   "id": "e2213953-cd39-4c16-b51e-33662f2f8178",
   "metadata": {},
   "outputs": [],
   "source": [
    "# Load the trained offline policies for the Relocate task from disk\n",
    "relocate_iql = d3rlpy.load_learnable(\"policies/offline/relocate_iql.d3\")\n",
    "relocate_cql = d3rlpy.load_learnable(\"policies/offline/relocate_cql.d3\")\n",
    "relocate_bc = d3rlpy.load_learnable(\"policies/offline/relocate_bc.d3\")\n",
    "relocate_td3bc = d3rlpy.load_learnable(\"policies/offline/relocate_td3bc.d3\")\n",
    "relocate_awac = d3rlpy.load_learnable(\"policies/offline/relocate_awac.d3\")"
   ]
  },
  {
   "cell_type": "markdown",
   "id": "c1f7df94-671d-4533-808b-19c811bde3c0",
   "metadata": {},
   "source": [
    "### Hammer"
   ]
  },
  {
   "cell_type": "code",
   "execution_count": 7,
   "id": "0868f8d9-5f4a-4f64-8284-922e3587275a",
   "metadata": {},
   "outputs": [],
   "source": [
    "# Load the trained offline policies for the Hammer task from disk\n",
    "hammer_iql = d3rlpy.load_learnable(\"policies/offline/hammer_iql.d3\")\n",
    "hammer_cql = d3rlpy.load_learnable(\"policies/offline/hammer_cql.d3\")\n",
    "hammer_bc = d3rlpy.load_learnable(\"policies/offline/hammer_bc.d3\")\n",
    "hammer_td3bc = d3rlpy.load_learnable(\"policies/offline/hammer_td3bc.d3\")\n",
    "hammer_awac = d3rlpy.load_learnable(\"policies/offline/hammer_awac.d3\")"
   ]
  },
  {
   "cell_type": "markdown",
   "id": "a2fab38f-7c73-4016-9ae3-347530230b3f",
   "metadata": {},
   "source": [
    "### Door"
   ]
  },
  {
   "cell_type": "code",
   "execution_count": 8,
   "id": "f970a8e1-04fb-47cf-81c4-2b98982daff3",
   "metadata": {},
   "outputs": [],
   "source": [
    "# Load the trained offline policies for the Door task from disk\n",
    "door_iql = d3rlpy.load_learnable(\"policies/offline/door_iql.d3\")\n",
    "door_cql = d3rlpy.load_learnable(\"policies/offline/door_cql.d3\")\n",
    "door_bc = d3rlpy.load_learnable(\"policies/offline/door_bc.d3\")\n",
    "door_td3bc = d3rlpy.load_learnable(\"policies/offline/door_td3bc.d3\")\n",
    "door_awac = d3rlpy.load_learnable(\"policies/offline/door_awac.d3\")"
   ]
  },
  {
   "cell_type": "markdown",
   "id": "7b15a296-250c-46d9-be91-5637fc81d26f",
   "metadata": {},
   "source": [
    "# Finetuning Algorithm"
   ]
  },
  {
   "cell_type": "code",
   "execution_count": 9,
   "id": "0e701e46-c837-41c8-98e7-751a1e68eae6",
   "metadata": {},
   "outputs": [],
   "source": [
    "def finetune_algorithm(algo, env, filename, task):\n",
    "    # Create a FIFO replay buffer for online interaction\n",
    "    buffer = d3rlpy.dataset.create_fifo_replay_buffer(limit=10000, env=env)\n",
    "\n",
    "    # Fine-tune the pretrained policy through online interaction with the environment\n",
    "    algo.fit_online(\n",
    "        env,\n",
    "        buffer=buffer,\n",
    "        n_steps=n_steps,\n",
    "        n_steps_per_epoch=n_steps_per_epoch,\n",
    "        save_interval=save_interval,\n",
    "        eval_env=copy.deepcopy(env),  # use a separate copy for evaluation\n",
    "        logger_adapter=d3rlpy.logging.FileAdapterFactory(root_dir=f\"training_logs/finetuning/{task}\"),\n",
    "    )\n",
    "\n",
    "    # Save the fine-tuned policy to file\n",
    "    algo.save(f'policies/finetuning/{filename}.d3')"
   ]
  },
  {
   "cell_type": "markdown",
   "id": "9966af6c-26f0-4595-b9c8-f6c79ac33857",
   "metadata": {},
   "source": [
    "# Online Finetuning"
   ]
  },
  {
   "cell_type": "markdown",
   "id": "846ee716-bd51-4a22-b141-62edfbc5fbef",
   "metadata": {},
   "source": [
    "### Pen"
   ]
  },
  {
   "cell_type": "code",
   "execution_count": 10,
   "id": "40f347c4-2766-4984-b9ee-1fd94c298071",
   "metadata": {
    "scrolled": true
   },
   "outputs": [
    {
     "name": "stdout",
     "output_type": "stream",
     "text": [
      "\u001b[2m2025-05-24 10:00.11\u001b[0m [\u001b[32m\u001b[1minfo     \u001b[0m] \u001b[1mSignatures have been automatically determined.\u001b[0m \u001b[36maction_signature\u001b[0m=\u001b[35mSignature(dtype=[dtype('float32')], shape=[(24,)])\u001b[0m \u001b[36mobservation_signature\u001b[0m=\u001b[35mSignature(dtype=[dtype('float64')], shape=[(45,)])\u001b[0m \u001b[36mreward_signature\u001b[0m=\u001b[35mSignature(dtype=[dtype('float32')], shape=[[1]])\u001b[0m\n",
      "\u001b[2m2025-05-24 10:00.11\u001b[0m [\u001b[32m\u001b[1minfo     \u001b[0m] \u001b[1mAction-space has been automatically determined.\u001b[0m \u001b[36maction_space\u001b[0m=\u001b[35m<ActionSpace.CONTINUOUS: 1>\u001b[0m\n",
      "\u001b[2m2025-05-24 10:00.11\u001b[0m [\u001b[32m\u001b[1minfo     \u001b[0m] \u001b[1mAction size has been automatically determined.\u001b[0m \u001b[36maction_size\u001b[0m=\u001b[35m24\u001b[0m\n",
      "\u001b[2m2025-05-24 10:00.11\u001b[0m [\u001b[33m\u001b[1mwarning  \u001b[0m] \u001b[1mSkip building models since they're already built.\u001b[0m\n",
      "\u001b[2m2025-05-24 10:00.11\u001b[0m [\u001b[32m\u001b[1minfo     \u001b[0m] \u001b[1mDirectory is created at training_logs/finetuning/pen/IQL_online_20250524100011\u001b[0m\n",
      "\u001b[2m2025-05-24 10:00.11\u001b[0m [\u001b[32m\u001b[1minfo     \u001b[0m] \u001b[1mParameters                    \u001b[0m \u001b[36mparams\u001b[0m=\u001b[35m{'observation_shape': [45], 'action_size': 24, 'config': {'type': 'iql', 'params': {'batch_size': 256, 'gamma': 0.99, 'observation_scaler': {'type': 'none', 'params': {}}, 'action_scaler': {'type': 'none', 'params': {}}, 'reward_scaler': {'type': 'none', 'params': {}}, 'compile_graph': False, 'actor_learning_rate': 0.0003, 'critic_learning_rate': 0.0003, 'actor_optim_factory': {'type': 'adam', 'params': {'clip_grad_norm': None, 'lr_scheduler_factory': {'type': 'none', 'params': {}}, 'betas': [0.9, 0.999], 'eps': 1e-08, 'weight_decay': 0.0, 'amsgrad': False}}, 'critic_optim_factory': {'type': 'adam', 'params': {'clip_grad_norm': None, 'lr_scheduler_factory': {'type': 'none', 'params': {}}, 'betas': [0.9, 0.999], 'eps': 1e-08, 'weight_decay': 0.0, 'amsgrad': False}}, 'actor_encoder_factory': {'type': 'default', 'params': {'activation': 'relu', 'use_batch_norm': False, 'dropout_rate': None}}, 'critic_encoder_factory': {'type': 'default', 'params': {'activation': 'relu', 'use_batch_norm': False, 'dropout_rate': None}}, 'value_encoder_factory': {'type': 'default', 'params': {'activation': 'relu', 'use_batch_norm': False, 'dropout_rate': None}}, 'tau': 0.005, 'n_critics': 2, 'expectile': 0.7, 'weight_temp': 3.0, 'max_weight': 100.0}}}\u001b[0m\n"
     ]
    },
    {
     "data": {
      "application/vnd.jupyter.widget-view+json": {
       "model_id": "5267dfc6a80e4e879243597c72260b44",
       "version_major": 2,
       "version_minor": 0
      },
      "text/plain": [
       "  0%|          | 0/100 [00:00<?, ?it/s]"
      ]
     },
     "metadata": {},
     "output_type": "display_data"
    },
    {
     "name": "stdout",
     "output_type": "stream",
     "text": [
      "\u001b[2m2025-05-24 10:00.11\u001b[0m [\u001b[32m\u001b[1minfo     \u001b[0m] \u001b[1mModel parameters are saved to training_logs/finetuning/pen/IQL_online_20250524100011/model_10.d3\u001b[0m\n",
      "\u001b[2m2025-05-24 10:00.11\u001b[0m [\u001b[32m\u001b[1minfo     \u001b[0m] \u001b[1mIQL_online_20250524100011: epoch=1 step=10\u001b[0m \u001b[36mepoch\u001b[0m=\u001b[35m1\u001b[0m \u001b[36mmetrics\u001b[0m=\u001b[35m{'time_inference': 0.0015054941177368164, 'time_environment_step': 0.0004440784454345703, 'time_step': 0.0019750356674194335, 'evaluation': 1093.0118582194439}\u001b[0m \u001b[36mstep\u001b[0m=\u001b[35m10\u001b[0m\n",
      "\u001b[2m2025-05-24 10:00.12\u001b[0m [\u001b[32m\u001b[1minfo     \u001b[0m] \u001b[1mModel parameters are saved to training_logs/finetuning/pen/IQL_online_20250524100011/model_20.d3\u001b[0m\n",
      "\u001b[2m2025-05-24 10:00.12\u001b[0m [\u001b[32m\u001b[1minfo     \u001b[0m] \u001b[1mIQL_online_20250524100011: epoch=2 step=20\u001b[0m \u001b[36mepoch\u001b[0m=\u001b[35m2\u001b[0m \u001b[36mmetrics\u001b[0m=\u001b[35m{'time_inference': 0.00018131732940673828, 'time_environment_step': 0.0003402233123779297, 'time_step': 0.0005390167236328125, 'evaluation': 117.92094856584697}\u001b[0m \u001b[36mstep\u001b[0m=\u001b[35m20\u001b[0m\n",
      "\u001b[2m2025-05-24 10:00.12\u001b[0m [\u001b[32m\u001b[1minfo     \u001b[0m] \u001b[1mModel parameters are saved to training_logs/finetuning/pen/IQL_online_20250524100011/model_30.d3\u001b[0m\n",
      "\u001b[2m2025-05-24 10:00.12\u001b[0m [\u001b[32m\u001b[1minfo     \u001b[0m] \u001b[1mIQL_online_20250524100011: epoch=3 step=30\u001b[0m \u001b[36mepoch\u001b[0m=\u001b[35m3\u001b[0m \u001b[36mmetrics\u001b[0m=\u001b[35m{'time_inference': 0.00016582012176513672, 'time_environment_step': 0.0002630472183227539, 'time_step': 0.00043997764587402346, 'evaluation': 123.68770075920638}\u001b[0m \u001b[36mstep\u001b[0m=\u001b[35m30\u001b[0m\n",
      "\u001b[2m2025-05-24 10:00.12\u001b[0m [\u001b[32m\u001b[1minfo     \u001b[0m] \u001b[1mModel parameters are saved to training_logs/finetuning/pen/IQL_online_20250524100011/model_40.d3\u001b[0m\n",
      "\u001b[2m2025-05-24 10:00.12\u001b[0m [\u001b[32m\u001b[1minfo     \u001b[0m] \u001b[1mIQL_online_20250524100011: epoch=4 step=40\u001b[0m \u001b[36mepoch\u001b[0m=\u001b[35m4\u001b[0m \u001b[36mmetrics\u001b[0m=\u001b[35m{'time_inference': 0.0003803014755249023, 'time_environment_step': 0.000457453727722168, 'time_step': 0.0008755922317504883, 'evaluation': 1092.1837654606204}\u001b[0m \u001b[36mstep\u001b[0m=\u001b[35m40\u001b[0m\n",
      "\u001b[2m2025-05-24 10:00.13\u001b[0m [\u001b[32m\u001b[1minfo     \u001b[0m] \u001b[1mModel parameters are saved to training_logs/finetuning/pen/IQL_online_20250524100011/model_50.d3\u001b[0m\n",
      "\u001b[2m2025-05-24 10:00.13\u001b[0m [\u001b[32m\u001b[1minfo     \u001b[0m] \u001b[1mIQL_online_20250524100011: epoch=5 step=50\u001b[0m \u001b[36mepoch\u001b[0m=\u001b[35m5\u001b[0m \u001b[36mmetrics\u001b[0m=\u001b[35m{'time_inference': 0.0001837015151977539, 'time_environment_step': 0.00030939579010009767, 'time_step': 0.0005063295364379882, 'evaluation': 130.647733124132}\u001b[0m \u001b[36mstep\u001b[0m=\u001b[35m50\u001b[0m\n",
      "\u001b[2m2025-05-24 10:00.13\u001b[0m [\u001b[32m\u001b[1minfo     \u001b[0m] \u001b[1mModel parameters are saved to training_logs/finetuning/pen/IQL_online_20250524100011/model_60.d3\u001b[0m\n",
      "\u001b[2m2025-05-24 10:00.13\u001b[0m [\u001b[32m\u001b[1minfo     \u001b[0m] \u001b[1mIQL_online_20250524100011: epoch=6 step=60\u001b[0m \u001b[36mepoch\u001b[0m=\u001b[35m6\u001b[0m \u001b[36mmetrics\u001b[0m=\u001b[35m{'time_inference': 0.00022072792053222655, 'time_environment_step': 0.0002546072006225586, 'time_step': 0.0004866361618041992, 'evaluation': 524.2093318626294}\u001b[0m \u001b[36mstep\u001b[0m=\u001b[35m60\u001b[0m\n",
      "\u001b[2m2025-05-24 10:00.14\u001b[0m [\u001b[32m\u001b[1minfo     \u001b[0m] \u001b[1mModel parameters are saved to training_logs/finetuning/pen/IQL_online_20250524100011/model_70.d3\u001b[0m\n",
      "\u001b[2m2025-05-24 10:00.14\u001b[0m [\u001b[32m\u001b[1minfo     \u001b[0m] \u001b[1mIQL_online_20250524100011: epoch=7 step=70\u001b[0m \u001b[36mepoch\u001b[0m=\u001b[35m7\u001b[0m \u001b[36mmetrics\u001b[0m=\u001b[35m{'time_inference': 0.00017871856689453126, 'time_environment_step': 0.00036158561706542967, 'time_step': 0.0005518913269042969, 'evaluation': 478.10668075431533}\u001b[0m \u001b[36mstep\u001b[0m=\u001b[35m70\u001b[0m\n",
      "\u001b[2m2025-05-24 10:00.14\u001b[0m [\u001b[32m\u001b[1minfo     \u001b[0m] \u001b[1mModel parameters are saved to training_logs/finetuning/pen/IQL_online_20250524100011/model_80.d3\u001b[0m\n",
      "\u001b[2m2025-05-24 10:00.14\u001b[0m [\u001b[32m\u001b[1minfo     \u001b[0m] \u001b[1mIQL_online_20250524100011: epoch=8 step=80\u001b[0m \u001b[36mepoch\u001b[0m=\u001b[35m8\u001b[0m \u001b[36mmetrics\u001b[0m=\u001b[35m{'time_inference': 0.0001892566680908203, 'time_environment_step': 0.00026679039001464844, 'time_step': 0.00046792030334472654, 'evaluation': 754.7829389470766}\u001b[0m \u001b[36mstep\u001b[0m=\u001b[35m80\u001b[0m\n",
      "\u001b[2m2025-05-24 10:00.14\u001b[0m [\u001b[32m\u001b[1minfo     \u001b[0m] \u001b[1mModel parameters are saved to training_logs/finetuning/pen/IQL_online_20250524100011/model_90.d3\u001b[0m\n",
      "\u001b[2m2025-05-24 10:00.14\u001b[0m [\u001b[32m\u001b[1minfo     \u001b[0m] \u001b[1mIQL_online_20250524100011: epoch=9 step=90\u001b[0m \u001b[36mepoch\u001b[0m=\u001b[35m9\u001b[0m \u001b[36mmetrics\u001b[0m=\u001b[35m{'time_inference': 0.00020275115966796874, 'time_environment_step': 0.00035352706909179686, 'time_step': 0.0005668163299560547, 'evaluation': 705.4463981290639}\u001b[0m \u001b[36mstep\u001b[0m=\u001b[35m90\u001b[0m\n",
      "\u001b[2m2025-05-24 10:00.15\u001b[0m [\u001b[32m\u001b[1minfo     \u001b[0m] \u001b[1mModel parameters are saved to training_logs/finetuning/pen/IQL_online_20250524100011/model_100.d3\u001b[0m\n",
      "\u001b[2m2025-05-24 10:00.15\u001b[0m [\u001b[32m\u001b[1minfo     \u001b[0m] \u001b[1mIQL_online_20250524100011: epoch=10 step=100\u001b[0m \u001b[36mepoch\u001b[0m=\u001b[35m10\u001b[0m \u001b[36mmetrics\u001b[0m=\u001b[35m{'time_inference': 0.0002016782760620117, 'time_environment_step': 0.0003080129623413086, 'time_step': 0.0005507707595825195, 'rollout_return': -59.932195427942126, 'evaluation': 1116.8759556198524}\u001b[0m \u001b[36mstep\u001b[0m=\u001b[35m100\u001b[0m\n",
      "\u001b[2m2025-05-24 10:00.15\u001b[0m [\u001b[32m\u001b[1minfo     \u001b[0m] \u001b[1mSignatures have been automatically determined.\u001b[0m \u001b[36maction_signature\u001b[0m=\u001b[35mSignature(dtype=[dtype('float32')], shape=[(24,)])\u001b[0m \u001b[36mobservation_signature\u001b[0m=\u001b[35mSignature(dtype=[dtype('float64')], shape=[(45,)])\u001b[0m \u001b[36mreward_signature\u001b[0m=\u001b[35mSignature(dtype=[dtype('float32')], shape=[[1]])\u001b[0m\n",
      "\u001b[2m2025-05-24 10:00.15\u001b[0m [\u001b[32m\u001b[1minfo     \u001b[0m] \u001b[1mAction-space has been automatically determined.\u001b[0m \u001b[36maction_space\u001b[0m=\u001b[35m<ActionSpace.CONTINUOUS: 1>\u001b[0m\n",
      "\u001b[2m2025-05-24 10:00.15\u001b[0m [\u001b[32m\u001b[1minfo     \u001b[0m] \u001b[1mAction size has been automatically determined.\u001b[0m \u001b[36maction_size\u001b[0m=\u001b[35m24\u001b[0m\n",
      "\u001b[2m2025-05-24 10:00.15\u001b[0m [\u001b[33m\u001b[1mwarning  \u001b[0m] \u001b[1mSkip building models since they're already built.\u001b[0m\n",
      "\u001b[2m2025-05-24 10:00.15\u001b[0m [\u001b[32m\u001b[1minfo     \u001b[0m] \u001b[1mDirectory is created at training_logs/finetuning/pen/CQL_online_20250524100015\u001b[0m\n",
      "\u001b[2m2025-05-24 10:00.15\u001b[0m [\u001b[32m\u001b[1minfo     \u001b[0m] \u001b[1mParameters                    \u001b[0m \u001b[36mparams\u001b[0m=\u001b[35m{'observation_shape': [45], 'action_size': 24, 'config': {'type': 'cql', 'params': {'batch_size': 256, 'gamma': 0.99, 'observation_scaler': {'type': 'none', 'params': {}}, 'action_scaler': {'type': 'none', 'params': {}}, 'reward_scaler': {'type': 'none', 'params': {}}, 'compile_graph': False, 'actor_learning_rate': 0.0001, 'critic_learning_rate': 0.0003, 'temp_learning_rate': 0.0001, 'alpha_learning_rate': 0.0001, 'actor_optim_factory': {'type': 'adam', 'params': {'clip_grad_norm': None, 'lr_scheduler_factory': {'type': 'none', 'params': {}}, 'betas': [0.9, 0.999], 'eps': 1e-08, 'weight_decay': 0.0, 'amsgrad': False}}, 'critic_optim_factory': {'type': 'adam', 'params': {'clip_grad_norm': None, 'lr_scheduler_factory': {'type': 'none', 'params': {}}, 'betas': [0.9, 0.999], 'eps': 1e-08, 'weight_decay': 0.0, 'amsgrad': False}}, 'temp_optim_factory': {'type': 'adam', 'params': {'clip_grad_norm': None, 'lr_scheduler_factory': {'type': 'none', 'params': {}}, 'betas': [0.9, 0.999], 'eps': 1e-08, 'weight_decay': 0.0, 'amsgrad': False}}, 'alpha_optim_factory': {'type': 'adam', 'params': {'clip_grad_norm': None, 'lr_scheduler_factory': {'type': 'none', 'params': {}}, 'betas': [0.9, 0.999], 'eps': 1e-08, 'weight_decay': 0.0, 'amsgrad': False}}, 'actor_encoder_factory': {'type': 'default', 'params': {'activation': 'relu', 'use_batch_norm': False, 'dropout_rate': None}}, 'critic_encoder_factory': {'type': 'default', 'params': {'activation': 'relu', 'use_batch_norm': False, 'dropout_rate': None}}, 'q_func_factory': {'type': 'mean', 'params': {'share_encoder': False}}, 'tau': 0.005, 'n_critics': 2, 'initial_temperature': 1.0, 'initial_alpha': 1.0, 'alpha_threshold': 10.0, 'conservative_weight': 5.0, 'n_action_samples': 10, 'soft_q_backup': False, 'max_q_backup': False}}}\u001b[0m\n"
     ]
    },
    {
     "data": {
      "application/vnd.jupyter.widget-view+json": {
       "model_id": "ee3b72c27e4141bfbbba9336dbd20c81",
       "version_major": 2,
       "version_minor": 0
      },
      "text/plain": [
       "  0%|          | 0/100 [00:00<?, ?it/s]"
      ]
     },
     "metadata": {},
     "output_type": "display_data"
    },
    {
     "name": "stdout",
     "output_type": "stream",
     "text": [
      "\u001b[2m2025-05-24 10:00.15\u001b[0m [\u001b[32m\u001b[1minfo     \u001b[0m] \u001b[1mModel parameters are saved to training_logs/finetuning/pen/CQL_online_20250524100015/model_10.d3\u001b[0m\n",
      "\u001b[2m2025-05-24 10:00.15\u001b[0m [\u001b[32m\u001b[1minfo     \u001b[0m] \u001b[1mCQL_online_20250524100015: epoch=1 step=10\u001b[0m \u001b[36mepoch\u001b[0m=\u001b[35m1\u001b[0m \u001b[36mmetrics\u001b[0m=\u001b[35m{'time_inference': 0.00030527114868164065, 'time_environment_step': 0.00037157535552978516, 'time_step': 0.0006926536560058593, 'evaluation': 14.676558529759925}\u001b[0m \u001b[36mstep\u001b[0m=\u001b[35m10\u001b[0m\n",
      "\u001b[2m2025-05-24 10:00.16\u001b[0m [\u001b[32m\u001b[1minfo     \u001b[0m] \u001b[1mModel parameters are saved to training_logs/finetuning/pen/CQL_online_20250524100015/model_20.d3\u001b[0m\n",
      "\u001b[2m2025-05-24 10:00.16\u001b[0m [\u001b[32m\u001b[1minfo     \u001b[0m] \u001b[1mCQL_online_20250524100015: epoch=2 step=20\u001b[0m \u001b[36mepoch\u001b[0m=\u001b[35m2\u001b[0m \u001b[36mmetrics\u001b[0m=\u001b[35m{'time_inference': 0.00015909671783447265, 'time_environment_step': 0.00029942989349365237, 'time_step': 0.00046911239624023435, 'evaluation': -10.386878946088114}\u001b[0m \u001b[36mstep\u001b[0m=\u001b[35m20\u001b[0m\n",
      "\u001b[2m2025-05-24 10:00.16\u001b[0m [\u001b[32m\u001b[1minfo     \u001b[0m] \u001b[1mModel parameters are saved to training_logs/finetuning/pen/CQL_online_20250524100015/model_30.d3\u001b[0m\n",
      "\u001b[2m2025-05-24 10:00.16\u001b[0m [\u001b[32m\u001b[1minfo     \u001b[0m] \u001b[1mCQL_online_20250524100015: epoch=3 step=30\u001b[0m \u001b[36mepoch\u001b[0m=\u001b[35m3\u001b[0m \u001b[36mmetrics\u001b[0m=\u001b[35m{'time_inference': 0.00018186569213867186, 'time_environment_step': 0.00048422813415527344, 'time_step': 0.0006826162338256836, 'evaluation': -2.2802160336062984}\u001b[0m \u001b[36mstep\u001b[0m=\u001b[35m30\u001b[0m\n",
      "\u001b[2m2025-05-24 10:00.17\u001b[0m [\u001b[32m\u001b[1minfo     \u001b[0m] \u001b[1mModel parameters are saved to training_logs/finetuning/pen/CQL_online_20250524100015/model_40.d3\u001b[0m\n",
      "\u001b[2m2025-05-24 10:00.17\u001b[0m [\u001b[32m\u001b[1minfo     \u001b[0m] \u001b[1mCQL_online_20250524100015: epoch=4 step=40\u001b[0m \u001b[36mepoch\u001b[0m=\u001b[35m4\u001b[0m \u001b[36mmetrics\u001b[0m=\u001b[35m{'time_inference': 0.00017364025115966796, 'time_environment_step': 0.0003832340240478516, 'time_step': 0.0005680561065673828, 'evaluation': 19.45365940921369}\u001b[0m \u001b[36mstep\u001b[0m=\u001b[35m40\u001b[0m\n",
      "\u001b[2m2025-05-24 10:00.17\u001b[0m [\u001b[32m\u001b[1minfo     \u001b[0m] \u001b[1mModel parameters are saved to training_logs/finetuning/pen/CQL_online_20250524100015/model_50.d3\u001b[0m\n",
      "\u001b[2m2025-05-24 10:00.17\u001b[0m [\u001b[32m\u001b[1minfo     \u001b[0m] \u001b[1mCQL_online_20250524100015: epoch=5 step=50\u001b[0m \u001b[36mepoch\u001b[0m=\u001b[35m5\u001b[0m \u001b[36mmetrics\u001b[0m=\u001b[35m{'time_inference': 0.00017592906951904296, 'time_environment_step': 0.0003675699234008789, 'time_step': 0.0005552530288696289, 'evaluation': 1.066600476758758}\u001b[0m \u001b[36mstep\u001b[0m=\u001b[35m50\u001b[0m\n",
      "\u001b[2m2025-05-24 10:00.18\u001b[0m [\u001b[32m\u001b[1minfo     \u001b[0m] \u001b[1mModel parameters are saved to training_logs/finetuning/pen/CQL_online_20250524100015/model_60.d3\u001b[0m\n",
      "\u001b[2m2025-05-24 10:00.18\u001b[0m [\u001b[32m\u001b[1minfo     \u001b[0m] \u001b[1mCQL_online_20250524100015: epoch=6 step=60\u001b[0m \u001b[36mepoch\u001b[0m=\u001b[35m6\u001b[0m \u001b[36mmetrics\u001b[0m=\u001b[35m{'time_inference': 0.00017030239105224608, 'time_environment_step': 0.00038931369781494143, 'time_step': 0.0005701780319213867, 'evaluation': 146.99338802119547}\u001b[0m \u001b[36mstep\u001b[0m=\u001b[35m60\u001b[0m\n",
      "\u001b[2m2025-05-24 10:00.18\u001b[0m [\u001b[32m\u001b[1minfo     \u001b[0m] \u001b[1mModel parameters are saved to training_logs/finetuning/pen/CQL_online_20250524100015/model_70.d3\u001b[0m\n",
      "\u001b[2m2025-05-24 10:00.18\u001b[0m [\u001b[32m\u001b[1minfo     \u001b[0m] \u001b[1mCQL_online_20250524100015: epoch=7 step=70\u001b[0m \u001b[36mepoch\u001b[0m=\u001b[35m7\u001b[0m \u001b[36mmetrics\u001b[0m=\u001b[35m{'time_inference': 0.00018455982208251954, 'time_environment_step': 0.00035793781280517577, 'time_step': 0.0005535125732421875, 'evaluation': 0.5580045587316268}\u001b[0m \u001b[36mstep\u001b[0m=\u001b[35m70\u001b[0m\n",
      "\u001b[2m2025-05-24 10:00.19\u001b[0m [\u001b[32m\u001b[1minfo     \u001b[0m] \u001b[1mModel parameters are saved to training_logs/finetuning/pen/CQL_online_20250524100015/model_80.d3\u001b[0m\n",
      "\u001b[2m2025-05-24 10:00.19\u001b[0m [\u001b[32m\u001b[1minfo     \u001b[0m] \u001b[1mCQL_online_20250524100015: epoch=8 step=80\u001b[0m \u001b[36mepoch\u001b[0m=\u001b[35m8\u001b[0m \u001b[36mmetrics\u001b[0m=\u001b[35m{'time_inference': 0.00019426345825195311, 'time_environment_step': 0.0004890918731689453, 'time_step': 0.0006981611251831055, 'evaluation': 24.23015905669839}\u001b[0m \u001b[36mstep\u001b[0m=\u001b[35m80\u001b[0m\n",
      "\u001b[2m2025-05-24 10:00.19\u001b[0m [\u001b[32m\u001b[1minfo     \u001b[0m] \u001b[1mModel parameters are saved to training_logs/finetuning/pen/CQL_online_20250524100015/model_90.d3\u001b[0m\n",
      "\u001b[2m2025-05-24 10:00.19\u001b[0m [\u001b[32m\u001b[1minfo     \u001b[0m] \u001b[1mCQL_online_20250524100015: epoch=9 step=90\u001b[0m \u001b[36mepoch\u001b[0m=\u001b[35m9\u001b[0m \u001b[36mmetrics\u001b[0m=\u001b[35m{'time_inference': 0.0001670360565185547, 'time_environment_step': 0.00043523311614990234, 'time_step': 0.0006131410598754882, 'evaluation': -9.660064808500792}\u001b[0m \u001b[36mstep\u001b[0m=\u001b[35m90\u001b[0m\n",
      "\u001b[2m2025-05-24 10:00.20\u001b[0m [\u001b[32m\u001b[1minfo     \u001b[0m] \u001b[1mModel parameters are saved to training_logs/finetuning/pen/CQL_online_20250524100015/model_100.d3\u001b[0m\n",
      "\u001b[2m2025-05-24 10:00.20\u001b[0m [\u001b[32m\u001b[1minfo     \u001b[0m] \u001b[1mCQL_online_20250524100015: epoch=10 step=100\u001b[0m \u001b[36mepoch\u001b[0m=\u001b[35m10\u001b[0m \u001b[36mmetrics\u001b[0m=\u001b[35m{'time_inference': 0.00015878677368164062, 'time_environment_step': 0.00041882991790771485, 'time_step': 0.0006367683410644532, 'rollout_return': 28.254871728526382, 'evaluation': 143.72620671961099}\u001b[0m \u001b[36mstep\u001b[0m=\u001b[35m100\u001b[0m\n",
      "\u001b[2m2025-05-24 10:00.20\u001b[0m [\u001b[32m\u001b[1minfo     \u001b[0m] \u001b[1mSignatures have been automatically determined.\u001b[0m \u001b[36maction_signature\u001b[0m=\u001b[35mSignature(dtype=[dtype('float32')], shape=[(24,)])\u001b[0m \u001b[36mobservation_signature\u001b[0m=\u001b[35mSignature(dtype=[dtype('float64')], shape=[(45,)])\u001b[0m \u001b[36mreward_signature\u001b[0m=\u001b[35mSignature(dtype=[dtype('float32')], shape=[[1]])\u001b[0m\n",
      "\u001b[2m2025-05-24 10:00.20\u001b[0m [\u001b[32m\u001b[1minfo     \u001b[0m] \u001b[1mAction-space has been automatically determined.\u001b[0m \u001b[36maction_space\u001b[0m=\u001b[35m<ActionSpace.CONTINUOUS: 1>\u001b[0m\n",
      "\u001b[2m2025-05-24 10:00.20\u001b[0m [\u001b[32m\u001b[1minfo     \u001b[0m] \u001b[1mAction size has been automatically determined.\u001b[0m \u001b[36maction_size\u001b[0m=\u001b[35m24\u001b[0m\n",
      "\u001b[2m2025-05-24 10:00.20\u001b[0m [\u001b[33m\u001b[1mwarning  \u001b[0m] \u001b[1mSkip building models since they're already built.\u001b[0m\n",
      "\u001b[2m2025-05-24 10:00.20\u001b[0m [\u001b[32m\u001b[1minfo     \u001b[0m] \u001b[1mDirectory is created at training_logs/finetuning/pen/TD3PlusBC_online_20250524100020\u001b[0m\n",
      "\u001b[2m2025-05-24 10:00.20\u001b[0m [\u001b[32m\u001b[1minfo     \u001b[0m] \u001b[1mParameters                    \u001b[0m \u001b[36mparams\u001b[0m=\u001b[35m{'observation_shape': [45], 'action_size': 24, 'config': {'type': 'td3_plus_bc', 'params': {'batch_size': 256, 'gamma': 0.99, 'observation_scaler': {'type': 'none', 'params': {}}, 'action_scaler': {'type': 'none', 'params': {}}, 'reward_scaler': {'type': 'none', 'params': {}}, 'compile_graph': False, 'actor_learning_rate': 0.0003, 'critic_learning_rate': 0.0003, 'actor_optim_factory': {'type': 'adam', 'params': {'clip_grad_norm': None, 'lr_scheduler_factory': {'type': 'none', 'params': {}}, 'betas': [0.9, 0.999], 'eps': 1e-08, 'weight_decay': 0.0, 'amsgrad': False}}, 'critic_optim_factory': {'type': 'adam', 'params': {'clip_grad_norm': None, 'lr_scheduler_factory': {'type': 'none', 'params': {}}, 'betas': [0.9, 0.999], 'eps': 1e-08, 'weight_decay': 0.0, 'amsgrad': False}}, 'actor_encoder_factory': {'type': 'default', 'params': {'activation': 'relu', 'use_batch_norm': False, 'dropout_rate': None}}, 'critic_encoder_factory': {'type': 'default', 'params': {'activation': 'relu', 'use_batch_norm': False, 'dropout_rate': None}}, 'q_func_factory': {'type': 'mean', 'params': {'share_encoder': False}}, 'tau': 0.005, 'n_critics': 2, 'target_smoothing_sigma': 0.2, 'target_smoothing_clip': 0.5, 'alpha': 2.5, 'update_actor_interval': 2}}}\u001b[0m\n"
     ]
    },
    {
     "data": {
      "application/vnd.jupyter.widget-view+json": {
       "model_id": "279213d2a627407693b9addd3b1e8ab6",
       "version_major": 2,
       "version_minor": 0
      },
      "text/plain": [
       "  0%|          | 0/100 [00:00<?, ?it/s]"
      ]
     },
     "metadata": {},
     "output_type": "display_data"
    },
    {
     "name": "stdout",
     "output_type": "stream",
     "text": [
      "\u001b[2m2025-05-24 10:00.20\u001b[0m [\u001b[32m\u001b[1minfo     \u001b[0m] \u001b[1mModel parameters are saved to training_logs/finetuning/pen/TD3PlusBC_online_20250524100020/model_10.d3\u001b[0m\n",
      "\u001b[2m2025-05-24 10:00.20\u001b[0m [\u001b[32m\u001b[1minfo     \u001b[0m] \u001b[1mTD3PlusBC_online_20250524100020: epoch=1 step=10\u001b[0m \u001b[36mepoch\u001b[0m=\u001b[35m1\u001b[0m \u001b[36mmetrics\u001b[0m=\u001b[35m{'time_inference': 0.0002110004425048828, 'time_environment_step': 0.0003468513488769531, 'time_step': 0.0005741596221923828, 'evaluation': -5.489987502955908}\u001b[0m \u001b[36mstep\u001b[0m=\u001b[35m10\u001b[0m\n",
      "\u001b[2m2025-05-24 10:00.20\u001b[0m [\u001b[32m\u001b[1minfo     \u001b[0m] \u001b[1mModel parameters are saved to training_logs/finetuning/pen/TD3PlusBC_online_20250524100020/model_20.d3\u001b[0m\n",
      "\u001b[2m2025-05-24 10:00.20\u001b[0m [\u001b[32m\u001b[1minfo     \u001b[0m] \u001b[1mTD3PlusBC_online_20250524100020: epoch=2 step=20\u001b[0m \u001b[36mepoch\u001b[0m=\u001b[35m2\u001b[0m \u001b[36mmetrics\u001b[0m=\u001b[35m{'time_inference': 8.988380432128906e-05, 'time_environment_step': 0.00030765533447265627, 'time_step': 0.0004082202911376953, 'evaluation': 6.484507168972047}\u001b[0m \u001b[36mstep\u001b[0m=\u001b[35m20\u001b[0m\n",
      "\u001b[2m2025-05-24 10:00.21\u001b[0m [\u001b[32m\u001b[1minfo     \u001b[0m] \u001b[1mModel parameters are saved to training_logs/finetuning/pen/TD3PlusBC_online_20250524100020/model_30.d3\u001b[0m\n",
      "\u001b[2m2025-05-24 10:00.21\u001b[0m [\u001b[32m\u001b[1minfo     \u001b[0m] \u001b[1mTD3PlusBC_online_20250524100020: epoch=3 step=30\u001b[0m \u001b[36mepoch\u001b[0m=\u001b[35m3\u001b[0m \u001b[36mmetrics\u001b[0m=\u001b[35m{'time_inference': 0.00010051727294921876, 'time_environment_step': 0.0003280162811279297, 'time_step': 0.00043890476226806643, 'evaluation': 1.866811231997589}\u001b[0m \u001b[36mstep\u001b[0m=\u001b[35m30\u001b[0m\n",
      "\u001b[2m2025-05-24 10:00.21\u001b[0m [\u001b[32m\u001b[1minfo     \u001b[0m] \u001b[1mModel parameters are saved to training_logs/finetuning/pen/TD3PlusBC_online_20250524100020/model_40.d3\u001b[0m\n",
      "\u001b[2m2025-05-24 10:00.21\u001b[0m [\u001b[32m\u001b[1minfo     \u001b[0m] \u001b[1mTD3PlusBC_online_20250524100020: epoch=4 step=40\u001b[0m \u001b[36mepoch\u001b[0m=\u001b[35m4\u001b[0m \u001b[36mmetrics\u001b[0m=\u001b[35m{'time_inference': 8.809566497802734e-05, 'time_environment_step': 0.0002916574478149414, 'time_step': 0.00038988590240478515, 'evaluation': 4.214656228148355}\u001b[0m \u001b[36mstep\u001b[0m=\u001b[35m40\u001b[0m\n",
      "\u001b[2m2025-05-24 10:00.21\u001b[0m [\u001b[32m\u001b[1minfo     \u001b[0m] \u001b[1mModel parameters are saved to training_logs/finetuning/pen/TD3PlusBC_online_20250524100020/model_50.d3\u001b[0m\n",
      "\u001b[2m2025-05-24 10:00.21\u001b[0m [\u001b[32m\u001b[1minfo     \u001b[0m] \u001b[1mTD3PlusBC_online_20250524100020: epoch=5 step=50\u001b[0m \u001b[36mepoch\u001b[0m=\u001b[35m5\u001b[0m \u001b[36mmetrics\u001b[0m=\u001b[35m{'time_inference': 9.808540344238281e-05, 'time_environment_step': 0.0002745151519775391, 'time_step': 0.0003853321075439453, 'evaluation': 6.194247839256749}\u001b[0m \u001b[36mstep\u001b[0m=\u001b[35m50\u001b[0m\n",
      "\u001b[2m2025-05-24 10:00.22\u001b[0m [\u001b[32m\u001b[1minfo     \u001b[0m] \u001b[1mModel parameters are saved to training_logs/finetuning/pen/TD3PlusBC_online_20250524100020/model_60.d3\u001b[0m\n",
      "\u001b[2m2025-05-24 10:00.22\u001b[0m [\u001b[32m\u001b[1minfo     \u001b[0m] \u001b[1mTD3PlusBC_online_20250524100020: epoch=6 step=60\u001b[0m \u001b[36mepoch\u001b[0m=\u001b[35m6\u001b[0m \u001b[36mmetrics\u001b[0m=\u001b[35m{'time_inference': 0.00010039806365966797, 'time_environment_step': 0.00041663646697998047, 'time_step': 0.0005302190780639649, 'evaluation': 273.45347431727464}\u001b[0m \u001b[36mstep\u001b[0m=\u001b[35m60\u001b[0m\n",
      "\u001b[2m2025-05-24 10:00.22\u001b[0m [\u001b[32m\u001b[1minfo     \u001b[0m] \u001b[1mModel parameters are saved to training_logs/finetuning/pen/TD3PlusBC_online_20250524100020/model_70.d3\u001b[0m\n",
      "\u001b[2m2025-05-24 10:00.22\u001b[0m [\u001b[32m\u001b[1minfo     \u001b[0m] \u001b[1mTD3PlusBC_online_20250524100020: epoch=7 step=70\u001b[0m \u001b[36mepoch\u001b[0m=\u001b[35m7\u001b[0m \u001b[36mmetrics\u001b[0m=\u001b[35m{'time_inference': 9.734630584716797e-05, 'time_environment_step': 0.0003698587417602539, 'time_step': 0.00047719478607177734, 'evaluation': 79.15801450163153}\u001b[0m \u001b[36mstep\u001b[0m=\u001b[35m70\u001b[0m\n",
      "\u001b[2m2025-05-24 10:00.22\u001b[0m [\u001b[32m\u001b[1minfo     \u001b[0m] \u001b[1mModel parameters are saved to training_logs/finetuning/pen/TD3PlusBC_online_20250524100020/model_80.d3\u001b[0m\n",
      "\u001b[2m2025-05-24 10:00.22\u001b[0m [\u001b[32m\u001b[1minfo     \u001b[0m] \u001b[1mTD3PlusBC_online_20250524100020: epoch=8 step=80\u001b[0m \u001b[36mepoch\u001b[0m=\u001b[35m8\u001b[0m \u001b[36mmetrics\u001b[0m=\u001b[35m{'time_inference': 0.00011250972747802734, 'time_environment_step': 0.0004207849502563477, 'time_step': 0.0005472660064697266, 'evaluation': 61.34069040503488}\u001b[0m \u001b[36mstep\u001b[0m=\u001b[35m80\u001b[0m\n",
      "\u001b[2m2025-05-24 10:00.23\u001b[0m [\u001b[32m\u001b[1minfo     \u001b[0m] \u001b[1mModel parameters are saved to training_logs/finetuning/pen/TD3PlusBC_online_20250524100020/model_90.d3\u001b[0m\n",
      "\u001b[2m2025-05-24 10:00.23\u001b[0m [\u001b[32m\u001b[1minfo     \u001b[0m] \u001b[1mTD3PlusBC_online_20250524100020: epoch=9 step=90\u001b[0m \u001b[36mepoch\u001b[0m=\u001b[35m9\u001b[0m \u001b[36mmetrics\u001b[0m=\u001b[35m{'time_inference': 9.682178497314454e-05, 'time_environment_step': 0.00037932395935058594, 'time_step': 0.0004884958267211914, 'evaluation': 14.748511240534736}\u001b[0m \u001b[36mstep\u001b[0m=\u001b[35m90\u001b[0m\n",
      "\u001b[2m2025-05-24 10:00.23\u001b[0m [\u001b[32m\u001b[1minfo     \u001b[0m] \u001b[1mModel parameters are saved to training_logs/finetuning/pen/TD3PlusBC_online_20250524100020/model_100.d3\u001b[0m\n",
      "\u001b[2m2025-05-24 10:00.23\u001b[0m [\u001b[32m\u001b[1minfo     \u001b[0m] \u001b[1mTD3PlusBC_online_20250524100020: epoch=10 step=100\u001b[0m \u001b[36mepoch\u001b[0m=\u001b[35m10\u001b[0m \u001b[36mmetrics\u001b[0m=\u001b[35m{'time_inference': 7.917881011962891e-05, 'time_environment_step': 0.00034282207489013674, 'time_step': 0.0004777669906616211, 'rollout_return': 30.439368186238426, 'evaluation': 105.00615445142277}\u001b[0m \u001b[36mstep\u001b[0m=\u001b[35m100\u001b[0m\n",
      "\u001b[2m2025-05-24 10:00.23\u001b[0m [\u001b[32m\u001b[1minfo     \u001b[0m] \u001b[1mSignatures have been automatically determined.\u001b[0m \u001b[36maction_signature\u001b[0m=\u001b[35mSignature(dtype=[dtype('float32')], shape=[(24,)])\u001b[0m \u001b[36mobservation_signature\u001b[0m=\u001b[35mSignature(dtype=[dtype('float64')], shape=[(45,)])\u001b[0m \u001b[36mreward_signature\u001b[0m=\u001b[35mSignature(dtype=[dtype('float32')], shape=[[1]])\u001b[0m\n",
      "\u001b[2m2025-05-24 10:00.23\u001b[0m [\u001b[32m\u001b[1minfo     \u001b[0m] \u001b[1mAction-space has been automatically determined.\u001b[0m \u001b[36maction_space\u001b[0m=\u001b[35m<ActionSpace.CONTINUOUS: 1>\u001b[0m\n",
      "\u001b[2m2025-05-24 10:00.23\u001b[0m [\u001b[32m\u001b[1minfo     \u001b[0m] \u001b[1mAction size has been automatically determined.\u001b[0m \u001b[36maction_size\u001b[0m=\u001b[35m24\u001b[0m\n",
      "\u001b[2m2025-05-24 10:00.23\u001b[0m [\u001b[33m\u001b[1mwarning  \u001b[0m] \u001b[1mSkip building models since they're already built.\u001b[0m\n",
      "\u001b[2m2025-05-24 10:00.23\u001b[0m [\u001b[32m\u001b[1minfo     \u001b[0m] \u001b[1mDirectory is created at training_logs/finetuning/pen/AWAC_online_20250524100023\u001b[0m\n",
      "\u001b[2m2025-05-24 10:00.23\u001b[0m [\u001b[32m\u001b[1minfo     \u001b[0m] \u001b[1mParameters                    \u001b[0m \u001b[36mparams\u001b[0m=\u001b[35m{'observation_shape': [45], 'action_size': 24, 'config': {'type': 'awac', 'params': {'batch_size': 1024, 'gamma': 0.99, 'observation_scaler': {'type': 'none', 'params': {}}, 'action_scaler': {'type': 'none', 'params': {}}, 'reward_scaler': {'type': 'none', 'params': {}}, 'compile_graph': False, 'actor_learning_rate': 0.0003, 'critic_learning_rate': 0.0003, 'actor_optim_factory': {'type': 'adam', 'params': {'clip_grad_norm': None, 'lr_scheduler_factory': {'type': 'none', 'params': {}}, 'betas': [0.9, 0.999], 'eps': 1e-08, 'weight_decay': 0.0, 'amsgrad': False}}, 'critic_optim_factory': {'type': 'adam', 'params': {'clip_grad_norm': None, 'lr_scheduler_factory': {'type': 'none', 'params': {}}, 'betas': [0.9, 0.999], 'eps': 1e-08, 'weight_decay': 0.0, 'amsgrad': False}}, 'actor_encoder_factory': {'type': 'default', 'params': {'activation': 'relu', 'use_batch_norm': False, 'dropout_rate': None}}, 'critic_encoder_factory': {'type': 'default', 'params': {'activation': 'relu', 'use_batch_norm': False, 'dropout_rate': None}}, 'q_func_factory': {'type': 'mean', 'params': {'share_encoder': False}}, 'tau': 0.005, 'lam': 1.0, 'n_action_samples': 1, 'n_critics': 2}}}\u001b[0m\n"
     ]
    },
    {
     "data": {
      "application/vnd.jupyter.widget-view+json": {
       "model_id": "f0b7d12e08534ea9bbd29d1267aac0e4",
       "version_major": 2,
       "version_minor": 0
      },
      "text/plain": [
       "  0%|          | 0/100 [00:00<?, ?it/s]"
      ]
     },
     "metadata": {},
     "output_type": "display_data"
    },
    {
     "name": "stdout",
     "output_type": "stream",
     "text": [
      "\u001b[2m2025-05-24 10:00.23\u001b[0m [\u001b[32m\u001b[1minfo     \u001b[0m] \u001b[1mModel parameters are saved to training_logs/finetuning/pen/AWAC_online_20250524100023/model_10.d3\u001b[0m\n",
      "\u001b[2m2025-05-24 10:00.23\u001b[0m [\u001b[32m\u001b[1minfo     \u001b[0m] \u001b[1mAWAC_online_20250524100023: epoch=1 step=10\u001b[0m \u001b[36mepoch\u001b[0m=\u001b[35m1\u001b[0m \u001b[36mmetrics\u001b[0m=\u001b[35m{'time_inference': 0.00028884410858154297, 'time_environment_step': 0.0003201484680175781, 'time_step': 0.0006247520446777344, 'evaluation': 575.7049645858141}\u001b[0m \u001b[36mstep\u001b[0m=\u001b[35m10\u001b[0m\n",
      "\u001b[2m2025-05-24 10:00.24\u001b[0m [\u001b[32m\u001b[1minfo     \u001b[0m] \u001b[1mModel parameters are saved to training_logs/finetuning/pen/AWAC_online_20250524100023/model_20.d3\u001b[0m\n",
      "\u001b[2m2025-05-24 10:00.24\u001b[0m [\u001b[32m\u001b[1minfo     \u001b[0m] \u001b[1mAWAC_online_20250524100023: epoch=2 step=20\u001b[0m \u001b[36mepoch\u001b[0m=\u001b[35m2\u001b[0m \u001b[36mmetrics\u001b[0m=\u001b[35m{'time_inference': 0.00019788742065429688, 'time_environment_step': 0.0004449605941772461, 'time_step': 0.0006540536880493164, 'evaluation': -1.0066694091407284}\u001b[0m \u001b[36mstep\u001b[0m=\u001b[35m20\u001b[0m\n",
      "\u001b[2m2025-05-24 10:00.24\u001b[0m [\u001b[32m\u001b[1minfo     \u001b[0m] \u001b[1mModel parameters are saved to training_logs/finetuning/pen/AWAC_online_20250524100023/model_30.d3\u001b[0m\n",
      "\u001b[2m2025-05-24 10:00.24\u001b[0m [\u001b[32m\u001b[1minfo     \u001b[0m] \u001b[1mAWAC_online_20250524100023: epoch=3 step=30\u001b[0m \u001b[36mepoch\u001b[0m=\u001b[35m3\u001b[0m \u001b[36mmetrics\u001b[0m=\u001b[35m{'time_inference': 0.00019655227661132812, 'time_environment_step': 0.00041720867156982424, 'time_step': 0.0006239414215087891, 'evaluation': 201.44084281752853}\u001b[0m \u001b[36mstep\u001b[0m=\u001b[35m30\u001b[0m\n",
      "\u001b[2m2025-05-24 10:00.25\u001b[0m [\u001b[32m\u001b[1minfo     \u001b[0m] \u001b[1mModel parameters are saved to training_logs/finetuning/pen/AWAC_online_20250524100023/model_40.d3\u001b[0m\n",
      "\u001b[2m2025-05-24 10:00.25\u001b[0m [\u001b[32m\u001b[1minfo     \u001b[0m] \u001b[1mAWAC_online_20250524100023: epoch=4 step=40\u001b[0m \u001b[36mepoch\u001b[0m=\u001b[35m4\u001b[0m \u001b[36mmetrics\u001b[0m=\u001b[35m{'time_inference': 0.00017092227935791015, 'time_environment_step': 0.0003826618194580078, 'time_step': 0.0005646467208862305, 'evaluation': 203.08882877919842}\u001b[0m \u001b[36mstep\u001b[0m=\u001b[35m40\u001b[0m\n",
      "\u001b[2m2025-05-24 10:00.25\u001b[0m [\u001b[32m\u001b[1minfo     \u001b[0m] \u001b[1mModel parameters are saved to training_logs/finetuning/pen/AWAC_online_20250524100023/model_50.d3\u001b[0m\n",
      "\u001b[2m2025-05-24 10:00.25\u001b[0m [\u001b[32m\u001b[1minfo     \u001b[0m] \u001b[1mAWAC_online_20250524100023: epoch=5 step=50\u001b[0m \u001b[36mepoch\u001b[0m=\u001b[35m5\u001b[0m \u001b[36mmetrics\u001b[0m=\u001b[35m{'time_inference': 0.0001865386962890625, 'time_environment_step': 0.0003851652145385742, 'time_step': 0.0005821704864501954, 'evaluation': 122.18354681676585}\u001b[0m \u001b[36mstep\u001b[0m=\u001b[35m50\u001b[0m\n",
      "\u001b[2m2025-05-24 10:00.25\u001b[0m [\u001b[32m\u001b[1minfo     \u001b[0m] \u001b[1mModel parameters are saved to training_logs/finetuning/pen/AWAC_online_20250524100023/model_60.d3\u001b[0m\n",
      "\u001b[2m2025-05-24 10:00.25\u001b[0m [\u001b[32m\u001b[1minfo     \u001b[0m] \u001b[1mAWAC_online_20250524100023: epoch=6 step=60\u001b[0m \u001b[36mepoch\u001b[0m=\u001b[35m6\u001b[0m \u001b[36mmetrics\u001b[0m=\u001b[35m{'time_inference': 0.00016503334045410157, 'time_environment_step': 0.00042412281036376955, 'time_step': 0.0005999326705932618, 'evaluation': 4.546445860824961}\u001b[0m \u001b[36mstep\u001b[0m=\u001b[35m60\u001b[0m\n",
      "\u001b[2m2025-05-24 10:00.26\u001b[0m [\u001b[32m\u001b[1minfo     \u001b[0m] \u001b[1mModel parameters are saved to training_logs/finetuning/pen/AWAC_online_20250524100023/model_70.d3\u001b[0m\n",
      "\u001b[2m2025-05-24 10:00.26\u001b[0m [\u001b[32m\u001b[1minfo     \u001b[0m] \u001b[1mAWAC_online_20250524100023: epoch=7 step=70\u001b[0m \u001b[36mepoch\u001b[0m=\u001b[35m7\u001b[0m \u001b[36mmetrics\u001b[0m=\u001b[35m{'time_inference': 0.0002092123031616211, 'time_environment_step': 0.0004904270172119141, 'time_step': 0.0007117509841918946, 'evaluation': 120.95260861738043}\u001b[0m \u001b[36mstep\u001b[0m=\u001b[35m70\u001b[0m\n",
      "\u001b[2m2025-05-24 10:00.26\u001b[0m [\u001b[32m\u001b[1minfo     \u001b[0m] \u001b[1mModel parameters are saved to training_logs/finetuning/pen/AWAC_online_20250524100023/model_80.d3\u001b[0m\n",
      "\u001b[2m2025-05-24 10:00.26\u001b[0m [\u001b[32m\u001b[1minfo     \u001b[0m] \u001b[1mAWAC_online_20250524100023: epoch=8 step=80\u001b[0m \u001b[36mepoch\u001b[0m=\u001b[35m8\u001b[0m \u001b[36mmetrics\u001b[0m=\u001b[35m{'time_inference': 0.00024373531341552733, 'time_environment_step': 0.000595998764038086, 'time_step': 0.0008588790893554688, 'evaluation': 20.336193692242137}\u001b[0m \u001b[36mstep\u001b[0m=\u001b[35m80\u001b[0m\n",
      "\u001b[2m2025-05-24 10:00.27\u001b[0m [\u001b[32m\u001b[1minfo     \u001b[0m] \u001b[1mModel parameters are saved to training_logs/finetuning/pen/AWAC_online_20250524100023/model_90.d3\u001b[0m\n",
      "\u001b[2m2025-05-24 10:00.27\u001b[0m [\u001b[32m\u001b[1minfo     \u001b[0m] \u001b[1mAWAC_online_20250524100023: epoch=9 step=90\u001b[0m \u001b[36mepoch\u001b[0m=\u001b[35m9\u001b[0m \u001b[36mmetrics\u001b[0m=\u001b[35m{'time_inference': 0.00023458003997802734, 'time_environment_step': 0.0006068468093872071, 'time_step': 0.0008572816848754882, 'evaluation': -10.70646400089436}\u001b[0m \u001b[36mstep\u001b[0m=\u001b[35m90\u001b[0m\n",
      "\u001b[2m2025-05-24 10:00.27\u001b[0m [\u001b[32m\u001b[1minfo     \u001b[0m] \u001b[1mModel parameters are saved to training_logs/finetuning/pen/AWAC_online_20250524100023/model_100.d3\u001b[0m\n",
      "\u001b[2m2025-05-24 10:00.27\u001b[0m [\u001b[32m\u001b[1minfo     \u001b[0m] \u001b[1mAWAC_online_20250524100023: epoch=10 step=100\u001b[0m \u001b[36mepoch\u001b[0m=\u001b[35m10\u001b[0m \u001b[36mmetrics\u001b[0m=\u001b[35m{'time_inference': 0.0002157449722290039, 'time_environment_step': 0.0004671812057495117, 'time_step': 0.0007256031036376953, 'rollout_return': 5.137314751946306, 'evaluation': 193.40690449914794}\u001b[0m \u001b[36mstep\u001b[0m=\u001b[35m100\u001b[0m\n"
     ]
    }
   ],
   "source": [
    "# Fine-tune the offline-trained policies for the Pen task using online interaction\n",
    "finetune_algorithm(pen_iql, pen_env, 'pen_iql', 'pen')\n",
    "finetune_algorithm(pen_cql, pen_env, 'pen_cql', 'pen')\n",
    "finetune_algorithm(pen_td3bc, pen_env, 'pen_td3bc', 'pen')\n",
    "finetune_algorithm(pen_awac, pen_env, 'pen_awac', 'pen')"
   ]
  },
  {
   "cell_type": "markdown",
   "id": "fe307620-5c34-4d87-9ed5-a020bb69194a",
   "metadata": {},
   "source": [
    "### Relocate"
   ]
  },
  {
   "cell_type": "code",
   "execution_count": 11,
   "id": "01640421-d7da-44e6-bd16-19d25b86353d",
   "metadata": {
    "scrolled": true
   },
   "outputs": [
    {
     "name": "stdout",
     "output_type": "stream",
     "text": [
      "\u001b[2m2025-05-24 10:00.27\u001b[0m [\u001b[32m\u001b[1minfo     \u001b[0m] \u001b[1mSignatures have been automatically determined.\u001b[0m \u001b[36maction_signature\u001b[0m=\u001b[35mSignature(dtype=[dtype('float32')], shape=[(30,)])\u001b[0m \u001b[36mobservation_signature\u001b[0m=\u001b[35mSignature(dtype=[dtype('float64')], shape=[(39,)])\u001b[0m \u001b[36mreward_signature\u001b[0m=\u001b[35mSignature(dtype=[dtype('float32')], shape=[[1]])\u001b[0m\n",
      "\u001b[2m2025-05-24 10:00.27\u001b[0m [\u001b[32m\u001b[1minfo     \u001b[0m] \u001b[1mAction-space has been automatically determined.\u001b[0m \u001b[36maction_space\u001b[0m=\u001b[35m<ActionSpace.CONTINUOUS: 1>\u001b[0m\n",
      "\u001b[2m2025-05-24 10:00.27\u001b[0m [\u001b[32m\u001b[1minfo     \u001b[0m] \u001b[1mAction size has been automatically determined.\u001b[0m \u001b[36maction_size\u001b[0m=\u001b[35m30\u001b[0m\n",
      "\u001b[2m2025-05-24 10:00.27\u001b[0m [\u001b[33m\u001b[1mwarning  \u001b[0m] \u001b[1mSkip building models since they're already built.\u001b[0m\n",
      "\u001b[2m2025-05-24 10:00.27\u001b[0m [\u001b[32m\u001b[1minfo     \u001b[0m] \u001b[1mDirectory is created at training_logs/finetuning/relocate/IQL_online_20250524100027\u001b[0m\n",
      "\u001b[2m2025-05-24 10:00.27\u001b[0m [\u001b[32m\u001b[1minfo     \u001b[0m] \u001b[1mParameters                    \u001b[0m \u001b[36mparams\u001b[0m=\u001b[35m{'observation_shape': [39], 'action_size': 30, 'config': {'type': 'iql', 'params': {'batch_size': 256, 'gamma': 0.99, 'observation_scaler': {'type': 'none', 'params': {}}, 'action_scaler': {'type': 'none', 'params': {}}, 'reward_scaler': {'type': 'none', 'params': {}}, 'compile_graph': False, 'actor_learning_rate': 0.0003, 'critic_learning_rate': 0.0003, 'actor_optim_factory': {'type': 'adam', 'params': {'clip_grad_norm': None, 'lr_scheduler_factory': {'type': 'none', 'params': {}}, 'betas': [0.9, 0.999], 'eps': 1e-08, 'weight_decay': 0.0, 'amsgrad': False}}, 'critic_optim_factory': {'type': 'adam', 'params': {'clip_grad_norm': None, 'lr_scheduler_factory': {'type': 'none', 'params': {}}, 'betas': [0.9, 0.999], 'eps': 1e-08, 'weight_decay': 0.0, 'amsgrad': False}}, 'actor_encoder_factory': {'type': 'default', 'params': {'activation': 'relu', 'use_batch_norm': False, 'dropout_rate': None}}, 'critic_encoder_factory': {'type': 'default', 'params': {'activation': 'relu', 'use_batch_norm': False, 'dropout_rate': None}}, 'value_encoder_factory': {'type': 'default', 'params': {'activation': 'relu', 'use_batch_norm': False, 'dropout_rate': None}}, 'tau': 0.005, 'n_critics': 2, 'expectile': 0.7, 'weight_temp': 3.0, 'max_weight': 100.0}}}\u001b[0m\n"
     ]
    },
    {
     "data": {
      "application/vnd.jupyter.widget-view+json": {
       "model_id": "33bf387486244315b0600cdf064ca549",
       "version_major": 2,
       "version_minor": 0
      },
      "text/plain": [
       "  0%|          | 0/100 [00:00<?, ?it/s]"
      ]
     },
     "metadata": {},
     "output_type": "display_data"
    },
    {
     "name": "stdout",
     "output_type": "stream",
     "text": [
      "\u001b[2m2025-05-24 10:00.28\u001b[0m [\u001b[32m\u001b[1minfo     \u001b[0m] \u001b[1mModel parameters are saved to training_logs/finetuning/relocate/IQL_online_20250524100027/model_10.d3\u001b[0m\n",
      "\u001b[2m2025-05-24 10:00.28\u001b[0m [\u001b[32m\u001b[1minfo     \u001b[0m] \u001b[1mIQL_online_20250524100027: epoch=1 step=10\u001b[0m \u001b[36mepoch\u001b[0m=\u001b[35m1\u001b[0m \u001b[36mmetrics\u001b[0m=\u001b[35m{'time_inference': 0.000938582420349121, 'time_environment_step': 0.0006072282791137696, 'time_step': 0.0015754222869873047, 'evaluation': 5.600986735907755}\u001b[0m \u001b[36mstep\u001b[0m=\u001b[35m10\u001b[0m\n",
      "\u001b[2m2025-05-24 10:00.28\u001b[0m [\u001b[32m\u001b[1minfo     \u001b[0m] \u001b[1mModel parameters are saved to training_logs/finetuning/relocate/IQL_online_20250524100027/model_20.d3\u001b[0m\n",
      "\u001b[2m2025-05-24 10:00.28\u001b[0m [\u001b[32m\u001b[1minfo     \u001b[0m] \u001b[1mIQL_online_20250524100027: epoch=2 step=20\u001b[0m \u001b[36mepoch\u001b[0m=\u001b[35m2\u001b[0m \u001b[36mmetrics\u001b[0m=\u001b[35m{'time_inference': 0.00020456314086914062, 'time_environment_step': 0.00025594234466552734, 'time_step': 0.00047206878662109375, 'evaluation': 5.476295977972123}\u001b[0m \u001b[36mstep\u001b[0m=\u001b[35m20\u001b[0m\n",
      "\u001b[2m2025-05-24 10:00.29\u001b[0m [\u001b[32m\u001b[1minfo     \u001b[0m] \u001b[1mModel parameters are saved to training_logs/finetuning/relocate/IQL_online_20250524100027/model_30.d3\u001b[0m\n",
      "\u001b[2m2025-05-24 10:00.29\u001b[0m [\u001b[32m\u001b[1minfo     \u001b[0m] \u001b[1mIQL_online_20250524100027: epoch=3 step=30\u001b[0m \u001b[36mepoch\u001b[0m=\u001b[35m3\u001b[0m \u001b[36mmetrics\u001b[0m=\u001b[35m{'time_inference': 0.0003108978271484375, 'time_environment_step': 0.00033762454986572263, 'time_step': 0.0006627082824707031, 'evaluation': 5.599467445070998}\u001b[0m \u001b[36mstep\u001b[0m=\u001b[35m30\u001b[0m\n",
      "\u001b[2m2025-05-24 10:00.30\u001b[0m [\u001b[32m\u001b[1minfo     \u001b[0m] \u001b[1mModel parameters are saved to training_logs/finetuning/relocate/IQL_online_20250524100027/model_40.d3\u001b[0m\n",
      "\u001b[2m2025-05-24 10:00.30\u001b[0m [\u001b[32m\u001b[1minfo     \u001b[0m] \u001b[1mIQL_online_20250524100027: epoch=4 step=40\u001b[0m \u001b[36mepoch\u001b[0m=\u001b[35m4\u001b[0m \u001b[36mmetrics\u001b[0m=\u001b[35m{'time_inference': 0.00016520023345947265, 'time_environment_step': 0.00028970241546630857, 'time_step': 0.00046672821044921873, 'evaluation': 5.594885626196269}\u001b[0m \u001b[36mstep\u001b[0m=\u001b[35m40\u001b[0m\n",
      "\u001b[2m2025-05-24 10:00.30\u001b[0m [\u001b[32m\u001b[1minfo     \u001b[0m] \u001b[1mModel parameters are saved to training_logs/finetuning/relocate/IQL_online_20250524100027/model_50.d3\u001b[0m\n",
      "\u001b[2m2025-05-24 10:00.30\u001b[0m [\u001b[32m\u001b[1minfo     \u001b[0m] \u001b[1mIQL_online_20250524100027: epoch=5 step=50\u001b[0m \u001b[36mepoch\u001b[0m=\u001b[35m5\u001b[0m \u001b[36mmetrics\u001b[0m=\u001b[35m{'time_inference': 0.00017807483673095703, 'time_environment_step': 0.00025815963745117186, 'time_step': 0.0004471778869628906, 'evaluation': 5.638937264153365}\u001b[0m \u001b[36mstep\u001b[0m=\u001b[35m50\u001b[0m\n",
      "\u001b[2m2025-05-24 10:00.31\u001b[0m [\u001b[32m\u001b[1minfo     \u001b[0m] \u001b[1mModel parameters are saved to training_logs/finetuning/relocate/IQL_online_20250524100027/model_60.d3\u001b[0m\n",
      "\u001b[2m2025-05-24 10:00.31\u001b[0m [\u001b[32m\u001b[1minfo     \u001b[0m] \u001b[1mIQL_online_20250524100027: epoch=6 step=60\u001b[0m \u001b[36mepoch\u001b[0m=\u001b[35m6\u001b[0m \u001b[36mmetrics\u001b[0m=\u001b[35m{'time_inference': 0.0002019643783569336, 'time_environment_step': 0.0003328561782836914, 'time_step': 0.0005544900894165039, 'evaluation': 5.38933313259389}\u001b[0m \u001b[36mstep\u001b[0m=\u001b[35m60\u001b[0m\n",
      "\u001b[2m2025-05-24 10:00.31\u001b[0m [\u001b[32m\u001b[1minfo     \u001b[0m] \u001b[1mModel parameters are saved to training_logs/finetuning/relocate/IQL_online_20250524100027/model_70.d3\u001b[0m\n",
      "\u001b[2m2025-05-24 10:00.31\u001b[0m [\u001b[32m\u001b[1minfo     \u001b[0m] \u001b[1mIQL_online_20250524100027: epoch=7 step=70\u001b[0m \u001b[36mepoch\u001b[0m=\u001b[35m7\u001b[0m \u001b[36mmetrics\u001b[0m=\u001b[35m{'time_inference': 0.00019040107727050782, 'time_environment_step': 0.00029218196868896484, 'time_step': 0.000495290756225586, 'evaluation': 5.575183249684916}\u001b[0m \u001b[36mstep\u001b[0m=\u001b[35m70\u001b[0m\n",
      "\u001b[2m2025-05-24 10:00.32\u001b[0m [\u001b[32m\u001b[1minfo     \u001b[0m] \u001b[1mModel parameters are saved to training_logs/finetuning/relocate/IQL_online_20250524100027/model_80.d3\u001b[0m\n",
      "\u001b[2m2025-05-24 10:00.32\u001b[0m [\u001b[32m\u001b[1minfo     \u001b[0m] \u001b[1mIQL_online_20250524100027: epoch=8 step=80\u001b[0m \u001b[36mepoch\u001b[0m=\u001b[35m8\u001b[0m \u001b[36mmetrics\u001b[0m=\u001b[35m{'time_inference': 0.0001663684844970703, 'time_environment_step': 0.00023717880249023436, 'time_step': 0.0004133462905883789, 'evaluation': 5.601537349470268}\u001b[0m \u001b[36mstep\u001b[0m=\u001b[35m80\u001b[0m\n",
      "\u001b[2m2025-05-24 10:00.32\u001b[0m [\u001b[32m\u001b[1minfo     \u001b[0m] \u001b[1mModel parameters are saved to training_logs/finetuning/relocate/IQL_online_20250524100027/model_90.d3\u001b[0m\n",
      "\u001b[2m2025-05-24 10:00.32\u001b[0m [\u001b[32m\u001b[1minfo     \u001b[0m] \u001b[1mIQL_online_20250524100027: epoch=9 step=90\u001b[0m \u001b[36mepoch\u001b[0m=\u001b[35m9\u001b[0m \u001b[36mmetrics\u001b[0m=\u001b[35m{'time_inference': 0.00014977455139160157, 'time_environment_step': 0.00023245811462402344, 'time_step': 0.0003911733627319336, 'evaluation': 5.319238102825063}\u001b[0m \u001b[36mstep\u001b[0m=\u001b[35m90\u001b[0m\n",
      "\u001b[2m2025-05-24 10:00.33\u001b[0m [\u001b[32m\u001b[1minfo     \u001b[0m] \u001b[1mModel parameters are saved to training_logs/finetuning/relocate/IQL_online_20250524100027/model_100.d3\u001b[0m\n",
      "\u001b[2m2025-05-24 10:00.33\u001b[0m [\u001b[32m\u001b[1minfo     \u001b[0m] \u001b[1mIQL_online_20250524100027: epoch=10 step=100\u001b[0m \u001b[36mepoch\u001b[0m=\u001b[35m10\u001b[0m \u001b[36mmetrics\u001b[0m=\u001b[35m{'time_inference': 0.00019884109497070312, 'time_environment_step': 0.00027725696563720705, 'time_step': 0.000489044189453125, 'evaluation': 5.478139130417649}\u001b[0m \u001b[36mstep\u001b[0m=\u001b[35m100\u001b[0m\n",
      "\u001b[2m2025-05-24 10:00.33\u001b[0m [\u001b[32m\u001b[1minfo     \u001b[0m] \u001b[1mSignatures have been automatically determined.\u001b[0m \u001b[36maction_signature\u001b[0m=\u001b[35mSignature(dtype=[dtype('float32')], shape=[(30,)])\u001b[0m \u001b[36mobservation_signature\u001b[0m=\u001b[35mSignature(dtype=[dtype('float64')], shape=[(39,)])\u001b[0m \u001b[36mreward_signature\u001b[0m=\u001b[35mSignature(dtype=[dtype('float32')], shape=[[1]])\u001b[0m\n",
      "\u001b[2m2025-05-24 10:00.33\u001b[0m [\u001b[32m\u001b[1minfo     \u001b[0m] \u001b[1mAction-space has been automatically determined.\u001b[0m \u001b[36maction_space\u001b[0m=\u001b[35m<ActionSpace.CONTINUOUS: 1>\u001b[0m\n",
      "\u001b[2m2025-05-24 10:00.33\u001b[0m [\u001b[32m\u001b[1minfo     \u001b[0m] \u001b[1mAction size has been automatically determined.\u001b[0m \u001b[36maction_size\u001b[0m=\u001b[35m30\u001b[0m\n",
      "\u001b[2m2025-05-24 10:00.33\u001b[0m [\u001b[33m\u001b[1mwarning  \u001b[0m] \u001b[1mSkip building models since they're already built.\u001b[0m\n",
      "\u001b[2m2025-05-24 10:00.33\u001b[0m [\u001b[32m\u001b[1minfo     \u001b[0m] \u001b[1mDirectory is created at training_logs/finetuning/relocate/CQL_online_20250524100033\u001b[0m\n",
      "\u001b[2m2025-05-24 10:00.33\u001b[0m [\u001b[32m\u001b[1minfo     \u001b[0m] \u001b[1mParameters                    \u001b[0m \u001b[36mparams\u001b[0m=\u001b[35m{'observation_shape': [39], 'action_size': 30, 'config': {'type': 'cql', 'params': {'batch_size': 256, 'gamma': 0.99, 'observation_scaler': {'type': 'none', 'params': {}}, 'action_scaler': {'type': 'none', 'params': {}}, 'reward_scaler': {'type': 'none', 'params': {}}, 'compile_graph': False, 'actor_learning_rate': 0.0001, 'critic_learning_rate': 0.0003, 'temp_learning_rate': 0.0001, 'alpha_learning_rate': 0.0001, 'actor_optim_factory': {'type': 'adam', 'params': {'clip_grad_norm': None, 'lr_scheduler_factory': {'type': 'none', 'params': {}}, 'betas': [0.9, 0.999], 'eps': 1e-08, 'weight_decay': 0.0, 'amsgrad': False}}, 'critic_optim_factory': {'type': 'adam', 'params': {'clip_grad_norm': None, 'lr_scheduler_factory': {'type': 'none', 'params': {}}, 'betas': [0.9, 0.999], 'eps': 1e-08, 'weight_decay': 0.0, 'amsgrad': False}}, 'temp_optim_factory': {'type': 'adam', 'params': {'clip_grad_norm': None, 'lr_scheduler_factory': {'type': 'none', 'params': {}}, 'betas': [0.9, 0.999], 'eps': 1e-08, 'weight_decay': 0.0, 'amsgrad': False}}, 'alpha_optim_factory': {'type': 'adam', 'params': {'clip_grad_norm': None, 'lr_scheduler_factory': {'type': 'none', 'params': {}}, 'betas': [0.9, 0.999], 'eps': 1e-08, 'weight_decay': 0.0, 'amsgrad': False}}, 'actor_encoder_factory': {'type': 'default', 'params': {'activation': 'relu', 'use_batch_norm': False, 'dropout_rate': None}}, 'critic_encoder_factory': {'type': 'default', 'params': {'activation': 'relu', 'use_batch_norm': False, 'dropout_rate': None}}, 'q_func_factory': {'type': 'mean', 'params': {'share_encoder': False}}, 'tau': 0.005, 'n_critics': 2, 'initial_temperature': 1.0, 'initial_alpha': 1.0, 'alpha_threshold': 10.0, 'conservative_weight': 5.0, 'n_action_samples': 10, 'soft_q_backup': False, 'max_q_backup': False}}}\u001b[0m\n"
     ]
    },
    {
     "data": {
      "application/vnd.jupyter.widget-view+json": {
       "model_id": "df109b767b0c4ecfb124f930646eb9e3",
       "version_major": 2,
       "version_minor": 0
      },
      "text/plain": [
       "  0%|          | 0/100 [00:00<?, ?it/s]"
      ]
     },
     "metadata": {},
     "output_type": "display_data"
    },
    {
     "name": "stdout",
     "output_type": "stream",
     "text": [
      "\u001b[2m2025-05-24 10:00.33\u001b[0m [\u001b[32m\u001b[1minfo     \u001b[0m] \u001b[1mModel parameters are saved to training_logs/finetuning/relocate/CQL_online_20250524100033/model_10.d3\u001b[0m\n",
      "\u001b[2m2025-05-24 10:00.33\u001b[0m [\u001b[32m\u001b[1minfo     \u001b[0m] \u001b[1mCQL_online_20250524100033: epoch=1 step=10\u001b[0m \u001b[36mepoch\u001b[0m=\u001b[35m1\u001b[0m \u001b[36mmetrics\u001b[0m=\u001b[35m{'time_inference': 0.00035660266876220704, 'time_environment_step': 0.00030817985534667967, 'time_step': 0.0006773471832275391, 'evaluation': 12.449073735454814}\u001b[0m \u001b[36mstep\u001b[0m=\u001b[35m10\u001b[0m\n",
      "\u001b[2m2025-05-24 10:00.34\u001b[0m [\u001b[32m\u001b[1minfo     \u001b[0m] \u001b[1mModel parameters are saved to training_logs/finetuning/relocate/CQL_online_20250524100033/model_20.d3\u001b[0m\n",
      "\u001b[2m2025-05-24 10:00.34\u001b[0m [\u001b[32m\u001b[1minfo     \u001b[0m] \u001b[1mCQL_online_20250524100033: epoch=2 step=20\u001b[0m \u001b[36mepoch\u001b[0m=\u001b[35m2\u001b[0m \u001b[36mmetrics\u001b[0m=\u001b[35m{'time_inference': 0.00016388893127441406, 'time_environment_step': 0.0002604484558105469, 'time_step': 0.0004350185394287109, 'evaluation': 13.54987992317935}\u001b[0m \u001b[36mstep\u001b[0m=\u001b[35m20\u001b[0m\n",
      "\u001b[2m2025-05-24 10:00.34\u001b[0m [\u001b[32m\u001b[1minfo     \u001b[0m] \u001b[1mModel parameters are saved to training_logs/finetuning/relocate/CQL_online_20250524100033/model_30.d3\u001b[0m\n",
      "\u001b[2m2025-05-24 10:00.34\u001b[0m [\u001b[32m\u001b[1minfo     \u001b[0m] \u001b[1mCQL_online_20250524100033: epoch=3 step=30\u001b[0m \u001b[36mepoch\u001b[0m=\u001b[35m3\u001b[0m \u001b[36mmetrics\u001b[0m=\u001b[35m{'time_inference': 0.00015854835510253906, 'time_environment_step': 0.0002567768096923828, 'time_step': 0.00042600631713867186, 'evaluation': 13.315896910625662}\u001b[0m \u001b[36mstep\u001b[0m=\u001b[35m30\u001b[0m\n",
      "\u001b[2m2025-05-24 10:00.35\u001b[0m [\u001b[32m\u001b[1minfo     \u001b[0m] \u001b[1mModel parameters are saved to training_logs/finetuning/relocate/CQL_online_20250524100033/model_40.d3\u001b[0m\n",
      "\u001b[2m2025-05-24 10:00.35\u001b[0m [\u001b[32m\u001b[1minfo     \u001b[0m] \u001b[1mCQL_online_20250524100033: epoch=4 step=40\u001b[0m \u001b[36mepoch\u001b[0m=\u001b[35m4\u001b[0m \u001b[36mmetrics\u001b[0m=\u001b[35m{'time_inference': 0.00016660690307617186, 'time_environment_step': 0.00029098987579345703, 'time_step': 0.0004695892333984375, 'evaluation': 12.933494565571175}\u001b[0m \u001b[36mstep\u001b[0m=\u001b[35m40\u001b[0m\n",
      "\u001b[2m2025-05-24 10:00.35\u001b[0m [\u001b[32m\u001b[1minfo     \u001b[0m] \u001b[1mModel parameters are saved to training_logs/finetuning/relocate/CQL_online_20250524100033/model_50.d3\u001b[0m\n",
      "\u001b[2m2025-05-24 10:00.35\u001b[0m [\u001b[32m\u001b[1minfo     \u001b[0m] \u001b[1mCQL_online_20250524100033: epoch=5 step=50\u001b[0m \u001b[36mepoch\u001b[0m=\u001b[35m5\u001b[0m \u001b[36mmetrics\u001b[0m=\u001b[35m{'time_inference': 0.00016508102416992187, 'time_environment_step': 0.00022380352020263673, 'time_step': 0.0003999471664428711, 'evaluation': 12.384342331870744}\u001b[0m \u001b[36mstep\u001b[0m=\u001b[35m50\u001b[0m\n",
      "\u001b[2m2025-05-24 10:00.36\u001b[0m [\u001b[32m\u001b[1minfo     \u001b[0m] \u001b[1mModel parameters are saved to training_logs/finetuning/relocate/CQL_online_20250524100033/model_60.d3\u001b[0m\n",
      "\u001b[2m2025-05-24 10:00.36\u001b[0m [\u001b[32m\u001b[1minfo     \u001b[0m] \u001b[1mCQL_online_20250524100033: epoch=6 step=60\u001b[0m \u001b[36mepoch\u001b[0m=\u001b[35m6\u001b[0m \u001b[36mmetrics\u001b[0m=\u001b[35m{'time_inference': 0.0001994609832763672, 'time_environment_step': 0.00026133060455322263, 'time_step': 0.0004724264144897461, 'evaluation': 13.093889046673047}\u001b[0m \u001b[36mstep\u001b[0m=\u001b[35m60\u001b[0m\n",
      "\u001b[2m2025-05-24 10:00.36\u001b[0m [\u001b[32m\u001b[1minfo     \u001b[0m] \u001b[1mModel parameters are saved to training_logs/finetuning/relocate/CQL_online_20250524100033/model_70.d3\u001b[0m\n",
      "\u001b[2m2025-05-24 10:00.36\u001b[0m [\u001b[32m\u001b[1minfo     \u001b[0m] \u001b[1mCQL_online_20250524100033: epoch=7 step=70\u001b[0m \u001b[36mepoch\u001b[0m=\u001b[35m7\u001b[0m \u001b[36mmetrics\u001b[0m=\u001b[35m{'time_inference': 0.00019671916961669922, 'time_environment_step': 0.0002804994583129883, 'time_step': 0.0004892587661743164, 'evaluation': 12.988142520919999}\u001b[0m \u001b[36mstep\u001b[0m=\u001b[35m70\u001b[0m\n",
      "\u001b[2m2025-05-24 10:00.37\u001b[0m [\u001b[32m\u001b[1minfo     \u001b[0m] \u001b[1mModel parameters are saved to training_logs/finetuning/relocate/CQL_online_20250524100033/model_80.d3\u001b[0m\n",
      "\u001b[2m2025-05-24 10:00.37\u001b[0m [\u001b[32m\u001b[1minfo     \u001b[0m] \u001b[1mCQL_online_20250524100033: epoch=8 step=80\u001b[0m \u001b[36mepoch\u001b[0m=\u001b[35m8\u001b[0m \u001b[36mmetrics\u001b[0m=\u001b[35m{'time_inference': 0.00020139217376708985, 'time_environment_step': 0.0002826213836669922, 'time_step': 0.0004972696304321289, 'evaluation': 12.506727610457014}\u001b[0m \u001b[36mstep\u001b[0m=\u001b[35m80\u001b[0m\n",
      "\u001b[2m2025-05-24 10:00.37\u001b[0m [\u001b[32m\u001b[1minfo     \u001b[0m] \u001b[1mModel parameters are saved to training_logs/finetuning/relocate/CQL_online_20250524100033/model_90.d3\u001b[0m\n",
      "\u001b[2m2025-05-24 10:00.37\u001b[0m [\u001b[32m\u001b[1minfo     \u001b[0m] \u001b[1mCQL_online_20250524100033: epoch=9 step=90\u001b[0m \u001b[36mepoch\u001b[0m=\u001b[35m9\u001b[0m \u001b[36mmetrics\u001b[0m=\u001b[35m{'time_inference': 0.00022094249725341798, 'time_environment_step': 0.00025026798248291017, 'time_step': 0.0004816770553588867, 'evaluation': 12.828229588714919}\u001b[0m \u001b[36mstep\u001b[0m=\u001b[35m90\u001b[0m\n",
      "\u001b[2m2025-05-24 10:00.38\u001b[0m [\u001b[32m\u001b[1minfo     \u001b[0m] \u001b[1mModel parameters are saved to training_logs/finetuning/relocate/CQL_online_20250524100033/model_100.d3\u001b[0m\n",
      "\u001b[2m2025-05-24 10:00.38\u001b[0m [\u001b[32m\u001b[1minfo     \u001b[0m] \u001b[1mCQL_online_20250524100033: epoch=10 step=100\u001b[0m \u001b[36mepoch\u001b[0m=\u001b[35m10\u001b[0m \u001b[36mmetrics\u001b[0m=\u001b[35m{'time_inference': 0.00021677017211914064, 'time_environment_step': 0.00028471946716308595, 'time_step': 0.0005152940750122071, 'evaluation': 12.253921189629809}\u001b[0m \u001b[36mstep\u001b[0m=\u001b[35m100\u001b[0m\n",
      "\u001b[2m2025-05-24 10:00.38\u001b[0m [\u001b[32m\u001b[1minfo     \u001b[0m] \u001b[1mSignatures have been automatically determined.\u001b[0m \u001b[36maction_signature\u001b[0m=\u001b[35mSignature(dtype=[dtype('float32')], shape=[(30,)])\u001b[0m \u001b[36mobservation_signature\u001b[0m=\u001b[35mSignature(dtype=[dtype('float64')], shape=[(39,)])\u001b[0m \u001b[36mreward_signature\u001b[0m=\u001b[35mSignature(dtype=[dtype('float32')], shape=[[1]])\u001b[0m\n",
      "\u001b[2m2025-05-24 10:00.38\u001b[0m [\u001b[32m\u001b[1minfo     \u001b[0m] \u001b[1mAction-space has been automatically determined.\u001b[0m \u001b[36maction_space\u001b[0m=\u001b[35m<ActionSpace.CONTINUOUS: 1>\u001b[0m\n",
      "\u001b[2m2025-05-24 10:00.38\u001b[0m [\u001b[32m\u001b[1minfo     \u001b[0m] \u001b[1mAction size has been automatically determined.\u001b[0m \u001b[36maction_size\u001b[0m=\u001b[35m30\u001b[0m\n",
      "\u001b[2m2025-05-24 10:00.38\u001b[0m [\u001b[33m\u001b[1mwarning  \u001b[0m] \u001b[1mSkip building models since they're already built.\u001b[0m\n",
      "\u001b[2m2025-05-24 10:00.38\u001b[0m [\u001b[32m\u001b[1minfo     \u001b[0m] \u001b[1mDirectory is created at training_logs/finetuning/relocate/TD3PlusBC_online_20250524100038\u001b[0m\n",
      "\u001b[2m2025-05-24 10:00.38\u001b[0m [\u001b[32m\u001b[1minfo     \u001b[0m] \u001b[1mParameters                    \u001b[0m \u001b[36mparams\u001b[0m=\u001b[35m{'observation_shape': [39], 'action_size': 30, 'config': {'type': 'td3_plus_bc', 'params': {'batch_size': 256, 'gamma': 0.99, 'observation_scaler': {'type': 'none', 'params': {}}, 'action_scaler': {'type': 'none', 'params': {}}, 'reward_scaler': {'type': 'none', 'params': {}}, 'compile_graph': False, 'actor_learning_rate': 0.0003, 'critic_learning_rate': 0.0003, 'actor_optim_factory': {'type': 'adam', 'params': {'clip_grad_norm': None, 'lr_scheduler_factory': {'type': 'none', 'params': {}}, 'betas': [0.9, 0.999], 'eps': 1e-08, 'weight_decay': 0.0, 'amsgrad': False}}, 'critic_optim_factory': {'type': 'adam', 'params': {'clip_grad_norm': None, 'lr_scheduler_factory': {'type': 'none', 'params': {}}, 'betas': [0.9, 0.999], 'eps': 1e-08, 'weight_decay': 0.0, 'amsgrad': False}}, 'actor_encoder_factory': {'type': 'default', 'params': {'activation': 'relu', 'use_batch_norm': False, 'dropout_rate': None}}, 'critic_encoder_factory': {'type': 'default', 'params': {'activation': 'relu', 'use_batch_norm': False, 'dropout_rate': None}}, 'q_func_factory': {'type': 'mean', 'params': {'share_encoder': False}}, 'tau': 0.005, 'n_critics': 2, 'target_smoothing_sigma': 0.2, 'target_smoothing_clip': 0.5, 'alpha': 2.5, 'update_actor_interval': 2}}}\u001b[0m\n"
     ]
    },
    {
     "data": {
      "application/vnd.jupyter.widget-view+json": {
       "model_id": "059fd8442a8343df8d5cc82f78430bc8",
       "version_major": 2,
       "version_minor": 0
      },
      "text/plain": [
       "  0%|          | 0/100 [00:00<?, ?it/s]"
      ]
     },
     "metadata": {},
     "output_type": "display_data"
    },
    {
     "name": "stdout",
     "output_type": "stream",
     "text": [
      "\u001b[2m2025-05-24 10:00.38\u001b[0m [\u001b[32m\u001b[1minfo     \u001b[0m] \u001b[1mModel parameters are saved to training_logs/finetuning/relocate/TD3PlusBC_online_20250524100038/model_10.d3\u001b[0m\n",
      "\u001b[2m2025-05-24 10:00.38\u001b[0m [\u001b[32m\u001b[1minfo     \u001b[0m] \u001b[1mTD3PlusBC_online_20250524100038: epoch=1 step=10\u001b[0m \u001b[36mepoch\u001b[0m=\u001b[35m1\u001b[0m \u001b[36mmetrics\u001b[0m=\u001b[35m{'time_inference': 0.00014450550079345704, 'time_environment_step': 0.0002736568450927734, 'time_step': 0.0004289865493774414, 'evaluation': 20.422595437456206}\u001b[0m \u001b[36mstep\u001b[0m=\u001b[35m10\u001b[0m\n",
      "\u001b[2m2025-05-24 10:00.39\u001b[0m [\u001b[32m\u001b[1minfo     \u001b[0m] \u001b[1mModel parameters are saved to training_logs/finetuning/relocate/TD3PlusBC_online_20250524100038/model_20.d3\u001b[0m\n",
      "\u001b[2m2025-05-24 10:00.39\u001b[0m [\u001b[32m\u001b[1minfo     \u001b[0m] \u001b[1mTD3PlusBC_online_20250524100038: epoch=2 step=20\u001b[0m \u001b[36mepoch\u001b[0m=\u001b[35m2\u001b[0m \u001b[36mmetrics\u001b[0m=\u001b[35m{'time_inference': 0.00011870861053466796, 'time_environment_step': 0.0003371477127075195, 'time_step': 0.00046870708465576174, 'evaluation': 21.142237801233254}\u001b[0m \u001b[36mstep\u001b[0m=\u001b[35m20\u001b[0m\n",
      "\u001b[2m2025-05-24 10:00.39\u001b[0m [\u001b[32m\u001b[1minfo     \u001b[0m] \u001b[1mModel parameters are saved to training_logs/finetuning/relocate/TD3PlusBC_online_20250524100038/model_30.d3\u001b[0m\n",
      "\u001b[2m2025-05-24 10:00.39\u001b[0m [\u001b[32m\u001b[1minfo     \u001b[0m] \u001b[1mTD3PlusBC_online_20250524100038: epoch=3 step=30\u001b[0m \u001b[36mepoch\u001b[0m=\u001b[35m3\u001b[0m \u001b[36mmetrics\u001b[0m=\u001b[35m{'time_inference': 0.00011513233184814453, 'time_environment_step': 0.0003097295761108398, 'time_step': 0.00043675899505615237, 'evaluation': 19.954860403868917}\u001b[0m \u001b[36mstep\u001b[0m=\u001b[35m30\u001b[0m\n",
      "\u001b[2m2025-05-24 10:00.40\u001b[0m [\u001b[32m\u001b[1minfo     \u001b[0m] \u001b[1mModel parameters are saved to training_logs/finetuning/relocate/TD3PlusBC_online_20250524100038/model_40.d3\u001b[0m\n",
      "\u001b[2m2025-05-24 10:00.40\u001b[0m [\u001b[32m\u001b[1minfo     \u001b[0m] \u001b[1mTD3PlusBC_online_20250524100038: epoch=4 step=40\u001b[0m \u001b[36mepoch\u001b[0m=\u001b[35m4\u001b[0m \u001b[36mmetrics\u001b[0m=\u001b[35m{'time_inference': 7.736682891845703e-05, 'time_environment_step': 0.00027415752410888674, 'time_step': 0.00036118030548095705, 'evaluation': 19.094164728763886}\u001b[0m \u001b[36mstep\u001b[0m=\u001b[35m40\u001b[0m\n",
      "\u001b[2m2025-05-24 10:00.41\u001b[0m [\u001b[32m\u001b[1minfo     \u001b[0m] \u001b[1mModel parameters are saved to training_logs/finetuning/relocate/TD3PlusBC_online_20250524100038/model_50.d3\u001b[0m\n",
      "\u001b[2m2025-05-24 10:00.41\u001b[0m [\u001b[32m\u001b[1minfo     \u001b[0m] \u001b[1mTD3PlusBC_online_20250524100038: epoch=5 step=50\u001b[0m \u001b[36mepoch\u001b[0m=\u001b[35m5\u001b[0m \u001b[36mmetrics\u001b[0m=\u001b[35m{'time_inference': 0.00011217594146728516, 'time_environment_step': 0.0002892017364501953, 'time_step': 0.00041379928588867185, 'evaluation': 20.2857339328838}\u001b[0m \u001b[36mstep\u001b[0m=\u001b[35m50\u001b[0m\n",
      "\u001b[2m2025-05-24 10:00.41\u001b[0m [\u001b[32m\u001b[1minfo     \u001b[0m] \u001b[1mModel parameters are saved to training_logs/finetuning/relocate/TD3PlusBC_online_20250524100038/model_60.d3\u001b[0m\n",
      "\u001b[2m2025-05-24 10:00.41\u001b[0m [\u001b[32m\u001b[1minfo     \u001b[0m] \u001b[1mTD3PlusBC_online_20250524100038: epoch=6 step=60\u001b[0m \u001b[36mepoch\u001b[0m=\u001b[35m6\u001b[0m \u001b[36mmetrics\u001b[0m=\u001b[35m{'time_inference': 0.00015633106231689454, 'time_environment_step': 0.0003994941711425781, 'time_step': 0.0005722761154174805, 'evaluation': 19.675428486818006}\u001b[0m \u001b[36mstep\u001b[0m=\u001b[35m60\u001b[0m\n",
      "\u001b[2m2025-05-24 10:00.42\u001b[0m [\u001b[32m\u001b[1minfo     \u001b[0m] \u001b[1mModel parameters are saved to training_logs/finetuning/relocate/TD3PlusBC_online_20250524100038/model_70.d3\u001b[0m\n",
      "\u001b[2m2025-05-24 10:00.42\u001b[0m [\u001b[32m\u001b[1minfo     \u001b[0m] \u001b[1mTD3PlusBC_online_20250524100038: epoch=7 step=70\u001b[0m \u001b[36mepoch\u001b[0m=\u001b[35m7\u001b[0m \u001b[36mmetrics\u001b[0m=\u001b[35m{'time_inference': 9.064674377441406e-05, 'time_environment_step': 0.00023715496063232423, 'time_step': 0.00033817291259765627, 'evaluation': 18.07889866499212}\u001b[0m \u001b[36mstep\u001b[0m=\u001b[35m70\u001b[0m\n",
      "\u001b[2m2025-05-24 10:00.42\u001b[0m [\u001b[32m\u001b[1minfo     \u001b[0m] \u001b[1mModel parameters are saved to training_logs/finetuning/relocate/TD3PlusBC_online_20250524100038/model_80.d3\u001b[0m\n",
      "\u001b[2m2025-05-24 10:00.42\u001b[0m [\u001b[32m\u001b[1minfo     \u001b[0m] \u001b[1mTD3PlusBC_online_20250524100038: epoch=8 step=80\u001b[0m \u001b[36mepoch\u001b[0m=\u001b[35m8\u001b[0m \u001b[36mmetrics\u001b[0m=\u001b[35m{'time_inference': 0.00010249614715576171, 'time_environment_step': 0.000271296501159668, 'time_step': 0.0003863096237182617, 'evaluation': 18.41684271485635}\u001b[0m \u001b[36mstep\u001b[0m=\u001b[35m80\u001b[0m\n",
      "\u001b[2m2025-05-24 10:00.43\u001b[0m [\u001b[32m\u001b[1minfo     \u001b[0m] \u001b[1mModel parameters are saved to training_logs/finetuning/relocate/TD3PlusBC_online_20250524100038/model_90.d3\u001b[0m\n",
      "\u001b[2m2025-05-24 10:00.43\u001b[0m [\u001b[32m\u001b[1minfo     \u001b[0m] \u001b[1mTD3PlusBC_online_20250524100038: epoch=9 step=90\u001b[0m \u001b[36mepoch\u001b[0m=\u001b[35m9\u001b[0m \u001b[36mmetrics\u001b[0m=\u001b[35m{'time_inference': 8.690357208251953e-05, 'time_environment_step': 0.00021681785583496093, 'time_step': 0.00031299591064453124, 'evaluation': 19.94663976883668}\u001b[0m \u001b[36mstep\u001b[0m=\u001b[35m90\u001b[0m\n",
      "\u001b[2m2025-05-24 10:00.43\u001b[0m [\u001b[32m\u001b[1minfo     \u001b[0m] \u001b[1mModel parameters are saved to training_logs/finetuning/relocate/TD3PlusBC_online_20250524100038/model_100.d3\u001b[0m\n",
      "\u001b[2m2025-05-24 10:00.43\u001b[0m [\u001b[32m\u001b[1minfo     \u001b[0m] \u001b[1mTD3PlusBC_online_20250524100038: epoch=10 step=100\u001b[0m \u001b[36mepoch\u001b[0m=\u001b[35m10\u001b[0m \u001b[36mmetrics\u001b[0m=\u001b[35m{'time_inference': 8.244514465332032e-05, 'time_environment_step': 0.00023818016052246094, 'time_step': 0.00033111572265625, 'evaluation': 19.75229720223554}\u001b[0m \u001b[36mstep\u001b[0m=\u001b[35m100\u001b[0m\n",
      "\u001b[2m2025-05-24 10:00.43\u001b[0m [\u001b[32m\u001b[1minfo     \u001b[0m] \u001b[1mSignatures have been automatically determined.\u001b[0m \u001b[36maction_signature\u001b[0m=\u001b[35mSignature(dtype=[dtype('float32')], shape=[(30,)])\u001b[0m \u001b[36mobservation_signature\u001b[0m=\u001b[35mSignature(dtype=[dtype('float64')], shape=[(39,)])\u001b[0m \u001b[36mreward_signature\u001b[0m=\u001b[35mSignature(dtype=[dtype('float32')], shape=[[1]])\u001b[0m\n",
      "\u001b[2m2025-05-24 10:00.43\u001b[0m [\u001b[32m\u001b[1minfo     \u001b[0m] \u001b[1mAction-space has been automatically determined.\u001b[0m \u001b[36maction_space\u001b[0m=\u001b[35m<ActionSpace.CONTINUOUS: 1>\u001b[0m\n",
      "\u001b[2m2025-05-24 10:00.43\u001b[0m [\u001b[32m\u001b[1minfo     \u001b[0m] \u001b[1mAction size has been automatically determined.\u001b[0m \u001b[36maction_size\u001b[0m=\u001b[35m30\u001b[0m\n",
      "\u001b[2m2025-05-24 10:00.43\u001b[0m [\u001b[33m\u001b[1mwarning  \u001b[0m] \u001b[1mSkip building models since they're already built.\u001b[0m\n",
      "\u001b[2m2025-05-24 10:00.43\u001b[0m [\u001b[32m\u001b[1minfo     \u001b[0m] \u001b[1mDirectory is created at training_logs/finetuning/relocate/AWAC_online_20250524100043\u001b[0m\n",
      "\u001b[2m2025-05-24 10:00.43\u001b[0m [\u001b[32m\u001b[1minfo     \u001b[0m] \u001b[1mParameters                    \u001b[0m \u001b[36mparams\u001b[0m=\u001b[35m{'observation_shape': [39], 'action_size': 30, 'config': {'type': 'awac', 'params': {'batch_size': 1024, 'gamma': 0.99, 'observation_scaler': {'type': 'none', 'params': {}}, 'action_scaler': {'type': 'none', 'params': {}}, 'reward_scaler': {'type': 'none', 'params': {}}, 'compile_graph': False, 'actor_learning_rate': 0.0003, 'critic_learning_rate': 0.0003, 'actor_optim_factory': {'type': 'adam', 'params': {'clip_grad_norm': None, 'lr_scheduler_factory': {'type': 'none', 'params': {}}, 'betas': [0.9, 0.999], 'eps': 1e-08, 'weight_decay': 0.0, 'amsgrad': False}}, 'critic_optim_factory': {'type': 'adam', 'params': {'clip_grad_norm': None, 'lr_scheduler_factory': {'type': 'none', 'params': {}}, 'betas': [0.9, 0.999], 'eps': 1e-08, 'weight_decay': 0.0, 'amsgrad': False}}, 'actor_encoder_factory': {'type': 'default', 'params': {'activation': 'relu', 'use_batch_norm': False, 'dropout_rate': None}}, 'critic_encoder_factory': {'type': 'default', 'params': {'activation': 'relu', 'use_batch_norm': False, 'dropout_rate': None}}, 'q_func_factory': {'type': 'mean', 'params': {'share_encoder': False}}, 'tau': 0.005, 'lam': 1.0, 'n_action_samples': 1, 'n_critics': 2}}}\u001b[0m\n"
     ]
    },
    {
     "data": {
      "application/vnd.jupyter.widget-view+json": {
       "model_id": "44b1e9bf085d4919b36687b2b65e367e",
       "version_major": 2,
       "version_minor": 0
      },
      "text/plain": [
       "  0%|          | 0/100 [00:00<?, ?it/s]"
      ]
     },
     "metadata": {},
     "output_type": "display_data"
    },
    {
     "name": "stdout",
     "output_type": "stream",
     "text": [
      "\u001b[2m2025-05-24 10:00.44\u001b[0m [\u001b[32m\u001b[1minfo     \u001b[0m] \u001b[1mModel parameters are saved to training_logs/finetuning/relocate/AWAC_online_20250524100043/model_10.d3\u001b[0m\n",
      "\u001b[2m2025-05-24 10:00.44\u001b[0m [\u001b[32m\u001b[1minfo     \u001b[0m] \u001b[1mAWAC_online_20250524100043: epoch=1 step=10\u001b[0m \u001b[36mepoch\u001b[0m=\u001b[35m1\u001b[0m \u001b[36mmetrics\u001b[0m=\u001b[35m{'time_inference': 0.00033416748046875, 'time_environment_step': 0.00027251243591308594, 'time_step': 0.0006201982498168946, 'evaluation': 5.932503767036418}\u001b[0m \u001b[36mstep\u001b[0m=\u001b[35m10\u001b[0m\n",
      "\u001b[2m2025-05-24 10:00.44\u001b[0m [\u001b[32m\u001b[1minfo     \u001b[0m] \u001b[1mModel parameters are saved to training_logs/finetuning/relocate/AWAC_online_20250524100043/model_20.d3\u001b[0m\n",
      "\u001b[2m2025-05-24 10:00.44\u001b[0m [\u001b[32m\u001b[1minfo     \u001b[0m] \u001b[1mAWAC_online_20250524100043: epoch=2 step=20\u001b[0m \u001b[36mepoch\u001b[0m=\u001b[35m2\u001b[0m \u001b[36mmetrics\u001b[0m=\u001b[35m{'time_inference': 0.00017485618591308593, 'time_environment_step': 0.00022921562194824218, 'time_step': 0.0004134178161621094, 'evaluation': 6.278545744352945}\u001b[0m \u001b[36mstep\u001b[0m=\u001b[35m20\u001b[0m\n",
      "\u001b[2m2025-05-24 10:00.45\u001b[0m [\u001b[32m\u001b[1minfo     \u001b[0m] \u001b[1mModel parameters are saved to training_logs/finetuning/relocate/AWAC_online_20250524100043/model_30.d3\u001b[0m\n",
      "\u001b[2m2025-05-24 10:00.45\u001b[0m [\u001b[32m\u001b[1minfo     \u001b[0m] \u001b[1mAWAC_online_20250524100043: epoch=3 step=30\u001b[0m \u001b[36mepoch\u001b[0m=\u001b[35m3\u001b[0m \u001b[36mmetrics\u001b[0m=\u001b[35m{'time_inference': 0.00020656585693359374, 'time_environment_step': 0.00029263496398925783, 'time_step': 0.0005126953125, 'evaluation': 5.682283972787102}\u001b[0m \u001b[36mstep\u001b[0m=\u001b[35m30\u001b[0m\n",
      "\u001b[2m2025-05-24 10:00.45\u001b[0m [\u001b[32m\u001b[1minfo     \u001b[0m] \u001b[1mModel parameters are saved to training_logs/finetuning/relocate/AWAC_online_20250524100043/model_40.d3\u001b[0m\n",
      "\u001b[2m2025-05-24 10:00.45\u001b[0m [\u001b[32m\u001b[1minfo     \u001b[0m] \u001b[1mAWAC_online_20250524100043: epoch=4 step=40\u001b[0m \u001b[36mepoch\u001b[0m=\u001b[35m4\u001b[0m \u001b[36mmetrics\u001b[0m=\u001b[35m{'time_inference': 0.0001871347427368164, 'time_environment_step': 0.0002545356750488281, 'time_step': 0.0004523754119873047, 'evaluation': 6.475298759249021}\u001b[0m \u001b[36mstep\u001b[0m=\u001b[35m40\u001b[0m\n",
      "\u001b[2m2025-05-24 10:00.46\u001b[0m [\u001b[32m\u001b[1minfo     \u001b[0m] \u001b[1mModel parameters are saved to training_logs/finetuning/relocate/AWAC_online_20250524100043/model_50.d3\u001b[0m\n",
      "\u001b[2m2025-05-24 10:00.46\u001b[0m [\u001b[32m\u001b[1minfo     \u001b[0m] \u001b[1mAWAC_online_20250524100043: epoch=5 step=50\u001b[0m \u001b[36mepoch\u001b[0m=\u001b[35m5\u001b[0m \u001b[36mmetrics\u001b[0m=\u001b[35m{'time_inference': 0.00018177032470703124, 'time_environment_step': 0.00026149749755859374, 'time_step': 0.0004549503326416016, 'evaluation': 6.194156068798523}\u001b[0m \u001b[36mstep\u001b[0m=\u001b[35m50\u001b[0m\n",
      "\u001b[2m2025-05-24 10:00.46\u001b[0m [\u001b[32m\u001b[1minfo     \u001b[0m] \u001b[1mModel parameters are saved to training_logs/finetuning/relocate/AWAC_online_20250524100043/model_60.d3\u001b[0m\n",
      "\u001b[2m2025-05-24 10:00.46\u001b[0m [\u001b[32m\u001b[1minfo     \u001b[0m] \u001b[1mAWAC_online_20250524100043: epoch=6 step=60\u001b[0m \u001b[36mepoch\u001b[0m=\u001b[35m6\u001b[0m \u001b[36mmetrics\u001b[0m=\u001b[35m{'time_inference': 0.0002023458480834961, 'time_environment_step': 0.00023889541625976562, 'time_step': 0.00045168399810791016, 'evaluation': 6.412670802719933}\u001b[0m \u001b[36mstep\u001b[0m=\u001b[35m60\u001b[0m\n",
      "\u001b[2m2025-05-24 10:00.47\u001b[0m [\u001b[32m\u001b[1minfo     \u001b[0m] \u001b[1mModel parameters are saved to training_logs/finetuning/relocate/AWAC_online_20250524100043/model_70.d3\u001b[0m\n",
      "\u001b[2m2025-05-24 10:00.47\u001b[0m [\u001b[32m\u001b[1minfo     \u001b[0m] \u001b[1mAWAC_online_20250524100043: epoch=7 step=70\u001b[0m \u001b[36mepoch\u001b[0m=\u001b[35m7\u001b[0m \u001b[36mmetrics\u001b[0m=\u001b[35m{'time_inference': 0.0002108335494995117, 'time_environment_step': 0.00026531219482421874, 'time_step': 0.0004871368408203125, 'evaluation': 6.166399341949893}\u001b[0m \u001b[36mstep\u001b[0m=\u001b[35m70\u001b[0m\n",
      "\u001b[2m2025-05-24 10:00.47\u001b[0m [\u001b[32m\u001b[1minfo     \u001b[0m] \u001b[1mModel parameters are saved to training_logs/finetuning/relocate/AWAC_online_20250524100043/model_80.d3\u001b[0m\n",
      "\u001b[2m2025-05-24 10:00.47\u001b[0m [\u001b[32m\u001b[1minfo     \u001b[0m] \u001b[1mAWAC_online_20250524100043: epoch=8 step=80\u001b[0m \u001b[36mepoch\u001b[0m=\u001b[35m8\u001b[0m \u001b[36mmetrics\u001b[0m=\u001b[35m{'time_inference': 0.00017502307891845704, 'time_environment_step': 0.0002379894256591797, 'time_step': 0.0004214763641357422, 'evaluation': 5.923027289250583}\u001b[0m \u001b[36mstep\u001b[0m=\u001b[35m80\u001b[0m\n",
      "\u001b[2m2025-05-24 10:00.48\u001b[0m [\u001b[32m\u001b[1minfo     \u001b[0m] \u001b[1mModel parameters are saved to training_logs/finetuning/relocate/AWAC_online_20250524100043/model_90.d3\u001b[0m\n",
      "\u001b[2m2025-05-24 10:00.48\u001b[0m [\u001b[32m\u001b[1minfo     \u001b[0m] \u001b[1mAWAC_online_20250524100043: epoch=9 step=90\u001b[0m \u001b[36mepoch\u001b[0m=\u001b[35m9\u001b[0m \u001b[36mmetrics\u001b[0m=\u001b[35m{'time_inference': 0.00018055438995361327, 'time_environment_step': 0.00028858184814453127, 'time_step': 0.00047955513000488283, 'evaluation': 5.786007749710628}\u001b[0m \u001b[36mstep\u001b[0m=\u001b[35m90\u001b[0m\n",
      "\u001b[2m2025-05-24 10:00.48\u001b[0m [\u001b[32m\u001b[1minfo     \u001b[0m] \u001b[1mModel parameters are saved to training_logs/finetuning/relocate/AWAC_online_20250524100043/model_100.d3\u001b[0m\n",
      "\u001b[2m2025-05-24 10:00.48\u001b[0m [\u001b[32m\u001b[1minfo     \u001b[0m] \u001b[1mAWAC_online_20250524100043: epoch=10 step=100\u001b[0m \u001b[36mepoch\u001b[0m=\u001b[35m10\u001b[0m \u001b[36mmetrics\u001b[0m=\u001b[35m{'time_inference': 0.00018427371978759765, 'time_environment_step': 0.00023777484893798827, 'time_step': 0.00043141841888427734, 'evaluation': 5.327044774048494}\u001b[0m \u001b[36mstep\u001b[0m=\u001b[35m100\u001b[0m\n"
     ]
    }
   ],
   "source": [
    "# Fine-tune the offline-trained policies for the Relocate task using online interaction\n",
    "finetune_algorithm(relocate_iql, relocate_env, 'relocate_iql', 'relocate')\n",
    "finetune_algorithm(relocate_cql, relocate_env, 'relocate_cql', 'relocate')\n",
    "finetune_algorithm(relocate_td3bc, relocate_env, 'relocate_td3bc', 'relocate')\n",
    "finetune_algorithm(relocate_awac, relocate_env, 'relocate_awac', 'relocate')"
   ]
  },
  {
   "cell_type": "markdown",
   "id": "f717f645-c044-4be0-819b-3834d2b2c6c2",
   "metadata": {},
   "source": [
    "### Hammer"
   ]
  },
  {
   "cell_type": "code",
   "execution_count": 12,
   "id": "86061b27-ae9f-4398-93ce-537d1a340334",
   "metadata": {
    "scrolled": true
   },
   "outputs": [
    {
     "name": "stdout",
     "output_type": "stream",
     "text": [
      "\u001b[2m2025-05-24 10:00.48\u001b[0m [\u001b[32m\u001b[1minfo     \u001b[0m] \u001b[1mSignatures have been automatically determined.\u001b[0m \u001b[36maction_signature\u001b[0m=\u001b[35mSignature(dtype=[dtype('float32')], shape=[(26,)])\u001b[0m \u001b[36mobservation_signature\u001b[0m=\u001b[35mSignature(dtype=[dtype('float64')], shape=[(46,)])\u001b[0m \u001b[36mreward_signature\u001b[0m=\u001b[35mSignature(dtype=[dtype('float32')], shape=[[1]])\u001b[0m\n",
      "\u001b[2m2025-05-24 10:00.48\u001b[0m [\u001b[32m\u001b[1minfo     \u001b[0m] \u001b[1mAction-space has been automatically determined.\u001b[0m \u001b[36maction_space\u001b[0m=\u001b[35m<ActionSpace.CONTINUOUS: 1>\u001b[0m\n",
      "\u001b[2m2025-05-24 10:00.48\u001b[0m [\u001b[32m\u001b[1minfo     \u001b[0m] \u001b[1mAction size has been automatically determined.\u001b[0m \u001b[36maction_size\u001b[0m=\u001b[35m26\u001b[0m\n",
      "\u001b[2m2025-05-24 10:00.49\u001b[0m [\u001b[33m\u001b[1mwarning  \u001b[0m] \u001b[1mSkip building models since they're already built.\u001b[0m\n",
      "\u001b[2m2025-05-24 10:00.49\u001b[0m [\u001b[32m\u001b[1minfo     \u001b[0m] \u001b[1mDirectory is created at training_logs/finetuning/hammer/IQL_online_20250524100049\u001b[0m\n",
      "\u001b[2m2025-05-24 10:00.49\u001b[0m [\u001b[32m\u001b[1minfo     \u001b[0m] \u001b[1mParameters                    \u001b[0m \u001b[36mparams\u001b[0m=\u001b[35m{'observation_shape': [46], 'action_size': 26, 'config': {'type': 'iql', 'params': {'batch_size': 256, 'gamma': 0.99, 'observation_scaler': {'type': 'none', 'params': {}}, 'action_scaler': {'type': 'none', 'params': {}}, 'reward_scaler': {'type': 'none', 'params': {}}, 'compile_graph': False, 'actor_learning_rate': 0.0003, 'critic_learning_rate': 0.0003, 'actor_optim_factory': {'type': 'adam', 'params': {'clip_grad_norm': None, 'lr_scheduler_factory': {'type': 'none', 'params': {}}, 'betas': [0.9, 0.999], 'eps': 1e-08, 'weight_decay': 0.0, 'amsgrad': False}}, 'critic_optim_factory': {'type': 'adam', 'params': {'clip_grad_norm': None, 'lr_scheduler_factory': {'type': 'none', 'params': {}}, 'betas': [0.9, 0.999], 'eps': 1e-08, 'weight_decay': 0.0, 'amsgrad': False}}, 'actor_encoder_factory': {'type': 'default', 'params': {'activation': 'relu', 'use_batch_norm': False, 'dropout_rate': None}}, 'critic_encoder_factory': {'type': 'default', 'params': {'activation': 'relu', 'use_batch_norm': False, 'dropout_rate': None}}, 'value_encoder_factory': {'type': 'default', 'params': {'activation': 'relu', 'use_batch_norm': False, 'dropout_rate': None}}, 'tau': 0.005, 'n_critics': 2, 'expectile': 0.7, 'weight_temp': 3.0, 'max_weight': 100.0}}}\u001b[0m\n"
     ]
    },
    {
     "data": {
      "application/vnd.jupyter.widget-view+json": {
       "model_id": "91b113da4dd64be3a9fa4d6dab2a00a1",
       "version_major": 2,
       "version_minor": 0
      },
      "text/plain": [
       "  0%|          | 0/100 [00:00<?, ?it/s]"
      ]
     },
     "metadata": {},
     "output_type": "display_data"
    },
    {
     "name": "stdout",
     "output_type": "stream",
     "text": [
      "\u001b[2m2025-05-24 10:00.49\u001b[0m [\u001b[32m\u001b[1minfo     \u001b[0m] \u001b[1mModel parameters are saved to training_logs/finetuning/hammer/IQL_online_20250524100049/model_10.d3\u001b[0m\n",
      "\u001b[2m2025-05-24 10:00.49\u001b[0m [\u001b[32m\u001b[1minfo     \u001b[0m] \u001b[1mIQL_online_20250524100049: epoch=1 step=10\u001b[0m \u001b[36mepoch\u001b[0m=\u001b[35m1\u001b[0m \u001b[36mmetrics\u001b[0m=\u001b[35m{'time_inference': 0.00035648345947265626, 'time_environment_step': 0.0005321502685546875, 'time_step': 0.0009084224700927734, 'evaluation': -232.31303438566397}\u001b[0m \u001b[36mstep\u001b[0m=\u001b[35m10\u001b[0m\n",
      "\u001b[2m2025-05-24 10:00.50\u001b[0m [\u001b[32m\u001b[1minfo     \u001b[0m] \u001b[1mModel parameters are saved to training_logs/finetuning/hammer/IQL_online_20250524100049/model_20.d3\u001b[0m\n",
      "\u001b[2m2025-05-24 10:00.50\u001b[0m [\u001b[32m\u001b[1minfo     \u001b[0m] \u001b[1mIQL_online_20250524100049: epoch=2 step=20\u001b[0m \u001b[36mepoch\u001b[0m=\u001b[35m2\u001b[0m \u001b[36mmetrics\u001b[0m=\u001b[35m{'time_inference': 0.0002714395523071289, 'time_environment_step': 0.0006236553192138672, 'time_step': 0.0009125471115112305, 'evaluation': -230.14227023417737}\u001b[0m \u001b[36mstep\u001b[0m=\u001b[35m20\u001b[0m\n",
      "\u001b[2m2025-05-24 10:00.51\u001b[0m [\u001b[32m\u001b[1minfo     \u001b[0m] \u001b[1mModel parameters are saved to training_logs/finetuning/hammer/IQL_online_20250524100049/model_30.d3\u001b[0m\n",
      "\u001b[2m2025-05-24 10:00.51\u001b[0m [\u001b[32m\u001b[1minfo     \u001b[0m] \u001b[1mIQL_online_20250524100049: epoch=3 step=30\u001b[0m \u001b[36mepoch\u001b[0m=\u001b[35m3\u001b[0m \u001b[36mmetrics\u001b[0m=\u001b[35m{'time_inference': 0.00016684532165527343, 'time_environment_step': 0.0002666473388671875, 'time_step': 0.00044252872467041013, 'evaluation': -232.77975698142532}\u001b[0m \u001b[36mstep\u001b[0m=\u001b[35m30\u001b[0m\n",
      "\u001b[2m2025-05-24 10:00.51\u001b[0m [\u001b[32m\u001b[1minfo     \u001b[0m] \u001b[1mModel parameters are saved to training_logs/finetuning/hammer/IQL_online_20250524100049/model_40.d3\u001b[0m\n",
      "\u001b[2m2025-05-24 10:00.51\u001b[0m [\u001b[32m\u001b[1minfo     \u001b[0m] \u001b[1mIQL_online_20250524100049: epoch=4 step=40\u001b[0m \u001b[36mepoch\u001b[0m=\u001b[35m4\u001b[0m \u001b[36mmetrics\u001b[0m=\u001b[35m{'time_inference': 0.00016391277313232422, 'time_environment_step': 0.00027081966400146487, 'time_step': 0.0004444599151611328, 'evaluation': -231.4439176978197}\u001b[0m \u001b[36mstep\u001b[0m=\u001b[35m40\u001b[0m\n",
      "\u001b[2m2025-05-24 10:00.52\u001b[0m [\u001b[32m\u001b[1minfo     \u001b[0m] \u001b[1mModel parameters are saved to training_logs/finetuning/hammer/IQL_online_20250524100049/model_50.d3\u001b[0m\n",
      "\u001b[2m2025-05-24 10:00.52\u001b[0m [\u001b[32m\u001b[1minfo     \u001b[0m] \u001b[1mIQL_online_20250524100049: epoch=5 step=50\u001b[0m \u001b[36mepoch\u001b[0m=\u001b[35m5\u001b[0m \u001b[36mmetrics\u001b[0m=\u001b[35m{'time_inference': 0.0001953125, 'time_environment_step': 0.0002916812896728516, 'time_step': 0.0004976987838745117, 'evaluation': -230.28512797180352}\u001b[0m \u001b[36mstep\u001b[0m=\u001b[35m50\u001b[0m\n",
      "\u001b[2m2025-05-24 10:00.53\u001b[0m [\u001b[32m\u001b[1minfo     \u001b[0m] \u001b[1mModel parameters are saved to training_logs/finetuning/hammer/IQL_online_20250524100049/model_60.d3\u001b[0m\n",
      "\u001b[2m2025-05-24 10:00.53\u001b[0m [\u001b[32m\u001b[1minfo     \u001b[0m] \u001b[1mIQL_online_20250524100049: epoch=6 step=60\u001b[0m \u001b[36mepoch\u001b[0m=\u001b[35m6\u001b[0m \u001b[36mmetrics\u001b[0m=\u001b[35m{'time_inference': 0.00017142295837402344, 'time_environment_step': 0.00029747486114501954, 'time_step': 0.00047936439514160154, 'evaluation': -232.9558747301191}\u001b[0m \u001b[36mstep\u001b[0m=\u001b[35m60\u001b[0m\n",
      "\u001b[2m2025-05-24 10:00.53\u001b[0m [\u001b[32m\u001b[1minfo     \u001b[0m] \u001b[1mModel parameters are saved to training_logs/finetuning/hammer/IQL_online_20250524100049/model_70.d3\u001b[0m\n",
      "\u001b[2m2025-05-24 10:00.53\u001b[0m [\u001b[32m\u001b[1minfo     \u001b[0m] \u001b[1mIQL_online_20250524100049: epoch=7 step=70\u001b[0m \u001b[36mepoch\u001b[0m=\u001b[35m7\u001b[0m \u001b[36mmetrics\u001b[0m=\u001b[35m{'time_inference': 0.00018706321716308594, 'time_environment_step': 0.0003292083740234375, 'time_step': 0.0005638837814331054, 'evaluation': -233.12845144078716}\u001b[0m \u001b[36mstep\u001b[0m=\u001b[35m70\u001b[0m\n",
      "\u001b[2m2025-05-24 10:00.54\u001b[0m [\u001b[32m\u001b[1minfo     \u001b[0m] \u001b[1mModel parameters are saved to training_logs/finetuning/hammer/IQL_online_20250524100049/model_80.d3\u001b[0m\n",
      "\u001b[2m2025-05-24 10:00.54\u001b[0m [\u001b[32m\u001b[1minfo     \u001b[0m] \u001b[1mIQL_online_20250524100049: epoch=8 step=80\u001b[0m \u001b[36mepoch\u001b[0m=\u001b[35m8\u001b[0m \u001b[36mmetrics\u001b[0m=\u001b[35m{'time_inference': 0.00016016960144042968, 'time_environment_step': 0.00031199455261230467, 'time_step': 0.0004832983016967773, 'evaluation': -232.02528915137904}\u001b[0m \u001b[36mstep\u001b[0m=\u001b[35m80\u001b[0m\n",
      "\u001b[2m2025-05-24 10:00.55\u001b[0m [\u001b[32m\u001b[1minfo     \u001b[0m] \u001b[1mModel parameters are saved to training_logs/finetuning/hammer/IQL_online_20250524100049/model_90.d3\u001b[0m\n",
      "\u001b[2m2025-05-24 10:00.55\u001b[0m [\u001b[32m\u001b[1minfo     \u001b[0m] \u001b[1mIQL_online_20250524100049: epoch=9 step=90\u001b[0m \u001b[36mepoch\u001b[0m=\u001b[35m9\u001b[0m \u001b[36mmetrics\u001b[0m=\u001b[35m{'time_inference': 0.00017197132110595702, 'time_environment_step': 0.0002836465835571289, 'time_step': 0.00046563148498535156, 'evaluation': -230.69692035360373}\u001b[0m \u001b[36mstep\u001b[0m=\u001b[35m90\u001b[0m\n",
      "\u001b[2m2025-05-24 10:00.55\u001b[0m [\u001b[32m\u001b[1minfo     \u001b[0m] \u001b[1mModel parameters are saved to training_logs/finetuning/hammer/IQL_online_20250524100049/model_100.d3\u001b[0m\n",
      "\u001b[2m2025-05-24 10:00.55\u001b[0m [\u001b[32m\u001b[1minfo     \u001b[0m] \u001b[1mIQL_online_20250524100049: epoch=10 step=100\u001b[0m \u001b[36mepoch\u001b[0m=\u001b[35m10\u001b[0m \u001b[36mmetrics\u001b[0m=\u001b[35m{'time_inference': 0.0001633167266845703, 'time_environment_step': 0.0002802371978759766, 'time_step': 0.0004529476165771484, 'evaluation': -231.04046401323095}\u001b[0m \u001b[36mstep\u001b[0m=\u001b[35m100\u001b[0m\n",
      "\u001b[2m2025-05-24 10:00.55\u001b[0m [\u001b[32m\u001b[1minfo     \u001b[0m] \u001b[1mSignatures have been automatically determined.\u001b[0m \u001b[36maction_signature\u001b[0m=\u001b[35mSignature(dtype=[dtype('float32')], shape=[(26,)])\u001b[0m \u001b[36mobservation_signature\u001b[0m=\u001b[35mSignature(dtype=[dtype('float64')], shape=[(46,)])\u001b[0m \u001b[36mreward_signature\u001b[0m=\u001b[35mSignature(dtype=[dtype('float32')], shape=[[1]])\u001b[0m\n",
      "\u001b[2m2025-05-24 10:00.55\u001b[0m [\u001b[32m\u001b[1minfo     \u001b[0m] \u001b[1mAction-space has been automatically determined.\u001b[0m \u001b[36maction_space\u001b[0m=\u001b[35m<ActionSpace.CONTINUOUS: 1>\u001b[0m\n",
      "\u001b[2m2025-05-24 10:00.55\u001b[0m [\u001b[32m\u001b[1minfo     \u001b[0m] \u001b[1mAction size has been automatically determined.\u001b[0m \u001b[36maction_size\u001b[0m=\u001b[35m26\u001b[0m\n",
      "\u001b[2m2025-05-24 10:00.55\u001b[0m [\u001b[33m\u001b[1mwarning  \u001b[0m] \u001b[1mSkip building models since they're already built.\u001b[0m\n",
      "\u001b[2m2025-05-24 10:00.55\u001b[0m [\u001b[32m\u001b[1minfo     \u001b[0m] \u001b[1mDirectory is created at training_logs/finetuning/hammer/CQL_online_20250524100055\u001b[0m\n",
      "\u001b[2m2025-05-24 10:00.55\u001b[0m [\u001b[32m\u001b[1minfo     \u001b[0m] \u001b[1mParameters                    \u001b[0m \u001b[36mparams\u001b[0m=\u001b[35m{'observation_shape': [46], 'action_size': 26, 'config': {'type': 'cql', 'params': {'batch_size': 256, 'gamma': 0.99, 'observation_scaler': {'type': 'none', 'params': {}}, 'action_scaler': {'type': 'none', 'params': {}}, 'reward_scaler': {'type': 'none', 'params': {}}, 'compile_graph': False, 'actor_learning_rate': 0.0001, 'critic_learning_rate': 0.0003, 'temp_learning_rate': 0.0001, 'alpha_learning_rate': 0.0001, 'actor_optim_factory': {'type': 'adam', 'params': {'clip_grad_norm': None, 'lr_scheduler_factory': {'type': 'none', 'params': {}}, 'betas': [0.9, 0.999], 'eps': 1e-08, 'weight_decay': 0.0, 'amsgrad': False}}, 'critic_optim_factory': {'type': 'adam', 'params': {'clip_grad_norm': None, 'lr_scheduler_factory': {'type': 'none', 'params': {}}, 'betas': [0.9, 0.999], 'eps': 1e-08, 'weight_decay': 0.0, 'amsgrad': False}}, 'temp_optim_factory': {'type': 'adam', 'params': {'clip_grad_norm': None, 'lr_scheduler_factory': {'type': 'none', 'params': {}}, 'betas': [0.9, 0.999], 'eps': 1e-08, 'weight_decay': 0.0, 'amsgrad': False}}, 'alpha_optim_factory': {'type': 'adam', 'params': {'clip_grad_norm': None, 'lr_scheduler_factory': {'type': 'none', 'params': {}}, 'betas': [0.9, 0.999], 'eps': 1e-08, 'weight_decay': 0.0, 'amsgrad': False}}, 'actor_encoder_factory': {'type': 'default', 'params': {'activation': 'relu', 'use_batch_norm': False, 'dropout_rate': None}}, 'critic_encoder_factory': {'type': 'default', 'params': {'activation': 'relu', 'use_batch_norm': False, 'dropout_rate': None}}, 'q_func_factory': {'type': 'mean', 'params': {'share_encoder': False}}, 'tau': 0.005, 'n_critics': 2, 'initial_temperature': 1.0, 'initial_alpha': 1.0, 'alpha_threshold': 10.0, 'conservative_weight': 5.0, 'n_action_samples': 10, 'soft_q_backup': False, 'max_q_backup': False}}}\u001b[0m\n"
     ]
    },
    {
     "data": {
      "application/vnd.jupyter.widget-view+json": {
       "model_id": "a90249da182d4b0aa941bb1466fe9d69",
       "version_major": 2,
       "version_minor": 0
      },
      "text/plain": [
       "  0%|          | 0/100 [00:00<?, ?it/s]"
      ]
     },
     "metadata": {},
     "output_type": "display_data"
    },
    {
     "name": "stdout",
     "output_type": "stream",
     "text": [
      "\u001b[2m2025-05-24 10:00.56\u001b[0m [\u001b[32m\u001b[1minfo     \u001b[0m] \u001b[1mModel parameters are saved to training_logs/finetuning/hammer/CQL_online_20250524100055/model_10.d3\u001b[0m\n",
      "\u001b[2m2025-05-24 10:00.56\u001b[0m [\u001b[32m\u001b[1minfo     \u001b[0m] \u001b[1mCQL_online_20250524100055: epoch=1 step=10\u001b[0m \u001b[36mepoch\u001b[0m=\u001b[35m1\u001b[0m \u001b[36mmetrics\u001b[0m=\u001b[35m{'time_inference': 0.00023310184478759767, 'time_environment_step': 0.00031332969665527345, 'time_step': 0.000557851791381836, 'evaluation': -234.7212737286039}\u001b[0m \u001b[36mstep\u001b[0m=\u001b[35m10\u001b[0m\n",
      "\u001b[2m2025-05-24 10:00.57\u001b[0m [\u001b[32m\u001b[1minfo     \u001b[0m] \u001b[1mModel parameters are saved to training_logs/finetuning/hammer/CQL_online_20250524100055/model_20.d3\u001b[0m\n",
      "\u001b[2m2025-05-24 10:00.57\u001b[0m [\u001b[32m\u001b[1minfo     \u001b[0m] \u001b[1mCQL_online_20250524100055: epoch=2 step=20\u001b[0m \u001b[36mepoch\u001b[0m=\u001b[35m2\u001b[0m \u001b[36mmetrics\u001b[0m=\u001b[35m{'time_inference': 0.00019233226776123048, 'time_environment_step': 0.000358271598815918, 'time_step': 0.0005614519119262696, 'evaluation': -236.76669397842224}\u001b[0m \u001b[36mstep\u001b[0m=\u001b[35m20\u001b[0m\n",
      "\u001b[2m2025-05-24 10:00.57\u001b[0m [\u001b[32m\u001b[1minfo     \u001b[0m] \u001b[1mModel parameters are saved to training_logs/finetuning/hammer/CQL_online_20250524100055/model_30.d3\u001b[0m\n",
      "\u001b[2m2025-05-24 10:00.57\u001b[0m [\u001b[32m\u001b[1minfo     \u001b[0m] \u001b[1mCQL_online_20250524100055: epoch=3 step=30\u001b[0m \u001b[36mepoch\u001b[0m=\u001b[35m3\u001b[0m \u001b[36mmetrics\u001b[0m=\u001b[35m{'time_inference': 0.00016181468963623048, 'time_environment_step': 0.0003072500228881836, 'time_step': 0.00048160552978515625, 'evaluation': -230.89682976545208}\u001b[0m \u001b[36mstep\u001b[0m=\u001b[35m30\u001b[0m\n",
      "\u001b[2m2025-05-24 10:00.58\u001b[0m [\u001b[32m\u001b[1minfo     \u001b[0m] \u001b[1mModel parameters are saved to training_logs/finetuning/hammer/CQL_online_20250524100055/model_40.d3\u001b[0m\n",
      "\u001b[2m2025-05-24 10:00.58\u001b[0m [\u001b[32m\u001b[1minfo     \u001b[0m] \u001b[1mCQL_online_20250524100055: epoch=4 step=40\u001b[0m \u001b[36mepoch\u001b[0m=\u001b[35m4\u001b[0m \u001b[36mmetrics\u001b[0m=\u001b[35m{'time_inference': 0.00018095970153808594, 'time_environment_step': 0.000327610969543457, 'time_step': 0.000520014762878418, 'evaluation': -238.278662487439}\u001b[0m \u001b[36mstep\u001b[0m=\u001b[35m40\u001b[0m\n",
      "\u001b[2m2025-05-24 10:00.59\u001b[0m [\u001b[32m\u001b[1minfo     \u001b[0m] \u001b[1mModel parameters are saved to training_logs/finetuning/hammer/CQL_online_20250524100055/model_50.d3\u001b[0m\n",
      "\u001b[2m2025-05-24 10:00.59\u001b[0m [\u001b[32m\u001b[1minfo     \u001b[0m] \u001b[1mCQL_online_20250524100055: epoch=5 step=50\u001b[0m \u001b[36mepoch\u001b[0m=\u001b[35m5\u001b[0m \u001b[36mmetrics\u001b[0m=\u001b[35m{'time_inference': 0.00016791820526123046, 'time_environment_step': 0.0002869844436645508, 'time_step': 0.00046472549438476564, 'evaluation': -235.59023600684282}\u001b[0m \u001b[36mstep\u001b[0m=\u001b[35m50\u001b[0m\n",
      "\u001b[2m2025-05-24 10:00.59\u001b[0m [\u001b[32m\u001b[1minfo     \u001b[0m] \u001b[1mModel parameters are saved to training_logs/finetuning/hammer/CQL_online_20250524100055/model_60.d3\u001b[0m\n",
      "\u001b[2m2025-05-24 10:00.59\u001b[0m [\u001b[32m\u001b[1minfo     \u001b[0m] \u001b[1mCQL_online_20250524100055: epoch=6 step=60\u001b[0m \u001b[36mepoch\u001b[0m=\u001b[35m6\u001b[0m \u001b[36mmetrics\u001b[0m=\u001b[35m{'time_inference': 0.0001663684844970703, 'time_environment_step': 0.0002824544906616211, 'time_step': 0.00045785903930664065, 'evaluation': -232.47550580448737}\u001b[0m \u001b[36mstep\u001b[0m=\u001b[35m60\u001b[0m\n",
      "\u001b[2m2025-05-24 10:01.00\u001b[0m [\u001b[32m\u001b[1minfo     \u001b[0m] \u001b[1mModel parameters are saved to training_logs/finetuning/hammer/CQL_online_20250524100055/model_70.d3\u001b[0m\n",
      "\u001b[2m2025-05-24 10:01.00\u001b[0m [\u001b[32m\u001b[1minfo     \u001b[0m] \u001b[1mCQL_online_20250524100055: epoch=7 step=70\u001b[0m \u001b[36mepoch\u001b[0m=\u001b[35m7\u001b[0m \u001b[36mmetrics\u001b[0m=\u001b[35m{'time_inference': 0.0001881122589111328, 'time_environment_step': 0.0003605365753173828, 'time_step': 0.0005619049072265625, 'evaluation': -236.1216485578569}\u001b[0m \u001b[36mstep\u001b[0m=\u001b[35m70\u001b[0m\n",
      "\u001b[2m2025-05-24 10:01.01\u001b[0m [\u001b[32m\u001b[1minfo     \u001b[0m] \u001b[1mModel parameters are saved to training_logs/finetuning/hammer/CQL_online_20250524100055/model_80.d3\u001b[0m\n",
      "\u001b[2m2025-05-24 10:01.01\u001b[0m [\u001b[32m\u001b[1minfo     \u001b[0m] \u001b[1mCQL_online_20250524100055: epoch=8 step=80\u001b[0m \u001b[36mepoch\u001b[0m=\u001b[35m8\u001b[0m \u001b[36mmetrics\u001b[0m=\u001b[35m{'time_inference': 0.00017664432525634765, 'time_environment_step': 0.0003316164016723633, 'time_step': 0.0005200624465942383, 'evaluation': -233.62425210555594}\u001b[0m \u001b[36mstep\u001b[0m=\u001b[35m80\u001b[0m\n",
      "\u001b[2m2025-05-24 10:01.01\u001b[0m [\u001b[32m\u001b[1minfo     \u001b[0m] \u001b[1mModel parameters are saved to training_logs/finetuning/hammer/CQL_online_20250524100055/model_90.d3\u001b[0m\n",
      "\u001b[2m2025-05-24 10:01.01\u001b[0m [\u001b[32m\u001b[1minfo     \u001b[0m] \u001b[1mCQL_online_20250524100055: epoch=9 step=90\u001b[0m \u001b[36mepoch\u001b[0m=\u001b[35m9\u001b[0m \u001b[36mmetrics\u001b[0m=\u001b[35m{'time_inference': 0.00017006397247314452, 'time_environment_step': 0.0003400564193725586, 'time_step': 0.0005225419998168945, 'evaluation': -235.61917606926698}\u001b[0m \u001b[36mstep\u001b[0m=\u001b[35m90\u001b[0m\n",
      "\u001b[2m2025-05-24 10:01.02\u001b[0m [\u001b[32m\u001b[1minfo     \u001b[0m] \u001b[1mModel parameters are saved to training_logs/finetuning/hammer/CQL_online_20250524100055/model_100.d3\u001b[0m\n",
      "\u001b[2m2025-05-24 10:01.02\u001b[0m [\u001b[32m\u001b[1minfo     \u001b[0m] \u001b[1mCQL_online_20250524100055: epoch=10 step=100\u001b[0m \u001b[36mepoch\u001b[0m=\u001b[35m10\u001b[0m \u001b[36mmetrics\u001b[0m=\u001b[35m{'time_inference': 0.00016803741455078124, 'time_environment_step': 0.0002908945083618164, 'time_step': 0.00046863555908203123, 'evaluation': -232.03964032587638}\u001b[0m \u001b[36mstep\u001b[0m=\u001b[35m100\u001b[0m\n",
      "\u001b[2m2025-05-24 10:01.02\u001b[0m [\u001b[32m\u001b[1minfo     \u001b[0m] \u001b[1mSignatures have been automatically determined.\u001b[0m \u001b[36maction_signature\u001b[0m=\u001b[35mSignature(dtype=[dtype('float32')], shape=[(26,)])\u001b[0m \u001b[36mobservation_signature\u001b[0m=\u001b[35mSignature(dtype=[dtype('float64')], shape=[(46,)])\u001b[0m \u001b[36mreward_signature\u001b[0m=\u001b[35mSignature(dtype=[dtype('float32')], shape=[[1]])\u001b[0m\n",
      "\u001b[2m2025-05-24 10:01.02\u001b[0m [\u001b[32m\u001b[1minfo     \u001b[0m] \u001b[1mAction-space has been automatically determined.\u001b[0m \u001b[36maction_space\u001b[0m=\u001b[35m<ActionSpace.CONTINUOUS: 1>\u001b[0m\n",
      "\u001b[2m2025-05-24 10:01.02\u001b[0m [\u001b[32m\u001b[1minfo     \u001b[0m] \u001b[1mAction size has been automatically determined.\u001b[0m \u001b[36maction_size\u001b[0m=\u001b[35m26\u001b[0m\n",
      "\u001b[2m2025-05-24 10:01.02\u001b[0m [\u001b[33m\u001b[1mwarning  \u001b[0m] \u001b[1mSkip building models since they're already built.\u001b[0m\n",
      "\u001b[2m2025-05-24 10:01.02\u001b[0m [\u001b[32m\u001b[1minfo     \u001b[0m] \u001b[1mDirectory is created at training_logs/finetuning/hammer/TD3PlusBC_online_20250524100102\u001b[0m\n",
      "\u001b[2m2025-05-24 10:01.02\u001b[0m [\u001b[32m\u001b[1minfo     \u001b[0m] \u001b[1mParameters                    \u001b[0m \u001b[36mparams\u001b[0m=\u001b[35m{'observation_shape': [46], 'action_size': 26, 'config': {'type': 'td3_plus_bc', 'params': {'batch_size': 256, 'gamma': 0.99, 'observation_scaler': {'type': 'none', 'params': {}}, 'action_scaler': {'type': 'none', 'params': {}}, 'reward_scaler': {'type': 'none', 'params': {}}, 'compile_graph': False, 'actor_learning_rate': 0.0003, 'critic_learning_rate': 0.0003, 'actor_optim_factory': {'type': 'adam', 'params': {'clip_grad_norm': None, 'lr_scheduler_factory': {'type': 'none', 'params': {}}, 'betas': [0.9, 0.999], 'eps': 1e-08, 'weight_decay': 0.0, 'amsgrad': False}}, 'critic_optim_factory': {'type': 'adam', 'params': {'clip_grad_norm': None, 'lr_scheduler_factory': {'type': 'none', 'params': {}}, 'betas': [0.9, 0.999], 'eps': 1e-08, 'weight_decay': 0.0, 'amsgrad': False}}, 'actor_encoder_factory': {'type': 'default', 'params': {'activation': 'relu', 'use_batch_norm': False, 'dropout_rate': None}}, 'critic_encoder_factory': {'type': 'default', 'params': {'activation': 'relu', 'use_batch_norm': False, 'dropout_rate': None}}, 'q_func_factory': {'type': 'mean', 'params': {'share_encoder': False}}, 'tau': 0.005, 'n_critics': 2, 'target_smoothing_sigma': 0.2, 'target_smoothing_clip': 0.5, 'alpha': 2.5, 'update_actor_interval': 2}}}\u001b[0m\n"
     ]
    },
    {
     "data": {
      "application/vnd.jupyter.widget-view+json": {
       "model_id": "d73daca0cc7141d0842ced05408e5da8",
       "version_major": 2,
       "version_minor": 0
      },
      "text/plain": [
       "  0%|          | 0/100 [00:00<?, ?it/s]"
      ]
     },
     "metadata": {},
     "output_type": "display_data"
    },
    {
     "name": "stdout",
     "output_type": "stream",
     "text": [
      "\u001b[2m2025-05-24 10:01.03\u001b[0m [\u001b[32m\u001b[1minfo     \u001b[0m] \u001b[1mModel parameters are saved to training_logs/finetuning/hammer/TD3PlusBC_online_20250524100102/model_10.d3\u001b[0m\n",
      "\u001b[2m2025-05-24 10:01.03\u001b[0m [\u001b[32m\u001b[1minfo     \u001b[0m] \u001b[1mTD3PlusBC_online_20250524100102: epoch=1 step=10\u001b[0m \u001b[36mepoch\u001b[0m=\u001b[35m1\u001b[0m \u001b[36mmetrics\u001b[0m=\u001b[35m{'time_inference': 0.00019876956939697267, 'time_environment_step': 0.0003216028213500977, 'time_step': 0.0005319595336914062, 'evaluation': -236.15581803619472}\u001b[0m \u001b[36mstep\u001b[0m=\u001b[35m10\u001b[0m\n",
      "\u001b[2m2025-05-24 10:01.03\u001b[0m [\u001b[32m\u001b[1minfo     \u001b[0m] \u001b[1mModel parameters are saved to training_logs/finetuning/hammer/TD3PlusBC_online_20250524100102/model_20.d3\u001b[0m\n",
      "\u001b[2m2025-05-24 10:01.03\u001b[0m [\u001b[32m\u001b[1minfo     \u001b[0m] \u001b[1mTD3PlusBC_online_20250524100102: epoch=2 step=20\u001b[0m \u001b[36mepoch\u001b[0m=\u001b[35m2\u001b[0m \u001b[36mmetrics\u001b[0m=\u001b[35m{'time_inference': 0.00010199546813964844, 'time_environment_step': 0.00033948421478271487, 'time_step': 0.0004523038864135742, 'evaluation': -235.5022796708528}\u001b[0m \u001b[36mstep\u001b[0m=\u001b[35m20\u001b[0m\n",
      "\u001b[2m2025-05-24 10:01.04\u001b[0m [\u001b[32m\u001b[1minfo     \u001b[0m] \u001b[1mModel parameters are saved to training_logs/finetuning/hammer/TD3PlusBC_online_20250524100102/model_30.d3\u001b[0m\n",
      "\u001b[2m2025-05-24 10:01.04\u001b[0m [\u001b[32m\u001b[1minfo     \u001b[0m] \u001b[1mTD3PlusBC_online_20250524100102: epoch=3 step=30\u001b[0m \u001b[36mepoch\u001b[0m=\u001b[35m3\u001b[0m \u001b[36mmetrics\u001b[0m=\u001b[35m{'time_inference': 0.00010211467742919922, 'time_environment_step': 0.00031278133392333987, 'time_step': 0.0004262447357177734, 'evaluation': -234.49891514494394}\u001b[0m \u001b[36mstep\u001b[0m=\u001b[35m30\u001b[0m\n",
      "\u001b[2m2025-05-24 10:01.05\u001b[0m [\u001b[32m\u001b[1minfo     \u001b[0m] \u001b[1mModel parameters are saved to training_logs/finetuning/hammer/TD3PlusBC_online_20250524100102/model_40.d3\u001b[0m\n",
      "\u001b[2m2025-05-24 10:01.05\u001b[0m [\u001b[32m\u001b[1minfo     \u001b[0m] \u001b[1mTD3PlusBC_online_20250524100102: epoch=4 step=40\u001b[0m \u001b[36mepoch\u001b[0m=\u001b[35m4\u001b[0m \u001b[36mmetrics\u001b[0m=\u001b[35m{'time_inference': 0.00011179447174072265, 'time_environment_step': 0.00042555332183837893, 'time_step': 0.0005568981170654297, 'evaluation': -235.5730564786808}\u001b[0m \u001b[36mstep\u001b[0m=\u001b[35m40\u001b[0m\n",
      "\u001b[2m2025-05-24 10:01.05\u001b[0m [\u001b[32m\u001b[1minfo     \u001b[0m] \u001b[1mModel parameters are saved to training_logs/finetuning/hammer/TD3PlusBC_online_20250524100102/model_50.d3\u001b[0m\n",
      "\u001b[2m2025-05-24 10:01.05\u001b[0m [\u001b[32m\u001b[1minfo     \u001b[0m] \u001b[1mTD3PlusBC_online_20250524100102: epoch=5 step=50\u001b[0m \u001b[36mepoch\u001b[0m=\u001b[35m5\u001b[0m \u001b[36mmetrics\u001b[0m=\u001b[35m{'time_inference': 9.543895721435547e-05, 'time_environment_step': 0.00029647350311279297, 'time_step': 0.0004015684127807617, 'evaluation': -238.5170497548082}\u001b[0m \u001b[36mstep\u001b[0m=\u001b[35m50\u001b[0m\n",
      "\u001b[2m2025-05-24 10:01.06\u001b[0m [\u001b[32m\u001b[1minfo     \u001b[0m] \u001b[1mModel parameters are saved to training_logs/finetuning/hammer/TD3PlusBC_online_20250524100102/model_60.d3\u001b[0m\n",
      "\u001b[2m2025-05-24 10:01.06\u001b[0m [\u001b[32m\u001b[1minfo     \u001b[0m] \u001b[1mTD3PlusBC_online_20250524100102: epoch=6 step=60\u001b[0m \u001b[36mepoch\u001b[0m=\u001b[35m6\u001b[0m \u001b[36mmetrics\u001b[0m=\u001b[35m{'time_inference': 9.334087371826172e-05, 'time_environment_step': 0.00034122467041015626, 'time_step': 0.0004444599151611328, 'evaluation': -233.89288166641487}\u001b[0m \u001b[36mstep\u001b[0m=\u001b[35m60\u001b[0m\n",
      "\u001b[2m2025-05-24 10:01.07\u001b[0m [\u001b[32m\u001b[1minfo     \u001b[0m] \u001b[1mModel parameters are saved to training_logs/finetuning/hammer/TD3PlusBC_online_20250524100102/model_70.d3\u001b[0m\n",
      "\u001b[2m2025-05-24 10:01.07\u001b[0m [\u001b[32m\u001b[1minfo     \u001b[0m] \u001b[1mTD3PlusBC_online_20250524100102: epoch=7 step=70\u001b[0m \u001b[36mepoch\u001b[0m=\u001b[35m7\u001b[0m \u001b[36mmetrics\u001b[0m=\u001b[35m{'time_inference': 0.00010623931884765626, 'time_environment_step': 0.00036175251007080077, 'time_step': 0.00047895908355712893, 'evaluation': -232.1057255918297}\u001b[0m \u001b[36mstep\u001b[0m=\u001b[35m70\u001b[0m\n",
      "\u001b[2m2025-05-24 10:01.07\u001b[0m [\u001b[32m\u001b[1minfo     \u001b[0m] \u001b[1mModel parameters are saved to training_logs/finetuning/hammer/TD3PlusBC_online_20250524100102/model_80.d3\u001b[0m\n",
      "\u001b[2m2025-05-24 10:01.07\u001b[0m [\u001b[32m\u001b[1minfo     \u001b[0m] \u001b[1mTD3PlusBC_online_20250524100102: epoch=8 step=80\u001b[0m \u001b[36mepoch\u001b[0m=\u001b[35m8\u001b[0m \u001b[36mmetrics\u001b[0m=\u001b[35m{'time_inference': 9.472370147705078e-05, 'time_environment_step': 0.0003473043441772461, 'time_step': 0.0004542350769042969, 'evaluation': -230.83922954160494}\u001b[0m \u001b[36mstep\u001b[0m=\u001b[35m80\u001b[0m\n",
      "\u001b[2m2025-05-24 10:01.08\u001b[0m [\u001b[32m\u001b[1minfo     \u001b[0m] \u001b[1mModel parameters are saved to training_logs/finetuning/hammer/TD3PlusBC_online_20250524100102/model_90.d3\u001b[0m\n",
      "\u001b[2m2025-05-24 10:01.08\u001b[0m [\u001b[32m\u001b[1minfo     \u001b[0m] \u001b[1mTD3PlusBC_online_20250524100102: epoch=9 step=90\u001b[0m \u001b[36mepoch\u001b[0m=\u001b[35m9\u001b[0m \u001b[36mmetrics\u001b[0m=\u001b[35m{'time_inference': 7.653236389160156e-05, 'time_environment_step': 0.0002865314483642578, 'time_step': 0.00037305355072021485, 'evaluation': -234.84695920859076}\u001b[0m \u001b[36mstep\u001b[0m=\u001b[35m90\u001b[0m\n",
      "\u001b[2m2025-05-24 10:01.09\u001b[0m [\u001b[32m\u001b[1minfo     \u001b[0m] \u001b[1mModel parameters are saved to training_logs/finetuning/hammer/TD3PlusBC_online_20250524100102/model_100.d3\u001b[0m\n",
      "\u001b[2m2025-05-24 10:01.09\u001b[0m [\u001b[32m\u001b[1minfo     \u001b[0m] \u001b[1mTD3PlusBC_online_20250524100102: epoch=10 step=100\u001b[0m \u001b[36mepoch\u001b[0m=\u001b[35m10\u001b[0m \u001b[36mmetrics\u001b[0m=\u001b[35m{'time_inference': 8.339881896972657e-05, 'time_environment_step': 0.00029456615447998047, 'time_step': 0.00038716793060302737, 'evaluation': -236.4169736613952}\u001b[0m \u001b[36mstep\u001b[0m=\u001b[35m100\u001b[0m\n",
      "\u001b[2m2025-05-24 10:01.09\u001b[0m [\u001b[32m\u001b[1minfo     \u001b[0m] \u001b[1mSignatures have been automatically determined.\u001b[0m \u001b[36maction_signature\u001b[0m=\u001b[35mSignature(dtype=[dtype('float32')], shape=[(26,)])\u001b[0m \u001b[36mobservation_signature\u001b[0m=\u001b[35mSignature(dtype=[dtype('float64')], shape=[(46,)])\u001b[0m \u001b[36mreward_signature\u001b[0m=\u001b[35mSignature(dtype=[dtype('float32')], shape=[[1]])\u001b[0m\n",
      "\u001b[2m2025-05-24 10:01.09\u001b[0m [\u001b[32m\u001b[1minfo     \u001b[0m] \u001b[1mAction-space has been automatically determined.\u001b[0m \u001b[36maction_space\u001b[0m=\u001b[35m<ActionSpace.CONTINUOUS: 1>\u001b[0m\n",
      "\u001b[2m2025-05-24 10:01.09\u001b[0m [\u001b[32m\u001b[1minfo     \u001b[0m] \u001b[1mAction size has been automatically determined.\u001b[0m \u001b[36maction_size\u001b[0m=\u001b[35m26\u001b[0m\n",
      "\u001b[2m2025-05-24 10:01.09\u001b[0m [\u001b[33m\u001b[1mwarning  \u001b[0m] \u001b[1mSkip building models since they're already built.\u001b[0m\n",
      "\u001b[2m2025-05-24 10:01.09\u001b[0m [\u001b[32m\u001b[1minfo     \u001b[0m] \u001b[1mDirectory is created at training_logs/finetuning/hammer/AWAC_online_20250524100109\u001b[0m\n",
      "\u001b[2m2025-05-24 10:01.09\u001b[0m [\u001b[32m\u001b[1minfo     \u001b[0m] \u001b[1mParameters                    \u001b[0m \u001b[36mparams\u001b[0m=\u001b[35m{'observation_shape': [46], 'action_size': 26, 'config': {'type': 'awac', 'params': {'batch_size': 1024, 'gamma': 0.99, 'observation_scaler': {'type': 'none', 'params': {}}, 'action_scaler': {'type': 'none', 'params': {}}, 'reward_scaler': {'type': 'none', 'params': {}}, 'compile_graph': False, 'actor_learning_rate': 0.0003, 'critic_learning_rate': 0.0003, 'actor_optim_factory': {'type': 'adam', 'params': {'clip_grad_norm': None, 'lr_scheduler_factory': {'type': 'none', 'params': {}}, 'betas': [0.9, 0.999], 'eps': 1e-08, 'weight_decay': 0.0, 'amsgrad': False}}, 'critic_optim_factory': {'type': 'adam', 'params': {'clip_grad_norm': None, 'lr_scheduler_factory': {'type': 'none', 'params': {}}, 'betas': [0.9, 0.999], 'eps': 1e-08, 'weight_decay': 0.0, 'amsgrad': False}}, 'actor_encoder_factory': {'type': 'default', 'params': {'activation': 'relu', 'use_batch_norm': False, 'dropout_rate': None}}, 'critic_encoder_factory': {'type': 'default', 'params': {'activation': 'relu', 'use_batch_norm': False, 'dropout_rate': None}}, 'q_func_factory': {'type': 'mean', 'params': {'share_encoder': False}}, 'tau': 0.005, 'lam': 1.0, 'n_action_samples': 1, 'n_critics': 2}}}\u001b[0m\n"
     ]
    },
    {
     "data": {
      "application/vnd.jupyter.widget-view+json": {
       "model_id": "1fde3de986c544e98c2fe51bd6b4d061",
       "version_major": 2,
       "version_minor": 0
      },
      "text/plain": [
       "  0%|          | 0/100 [00:00<?, ?it/s]"
      ]
     },
     "metadata": {},
     "output_type": "display_data"
    },
    {
     "name": "stdout",
     "output_type": "stream",
     "text": [
      "\u001b[2m2025-05-24 10:01.09\u001b[0m [\u001b[32m\u001b[1minfo     \u001b[0m] \u001b[1mModel parameters are saved to training_logs/finetuning/hammer/AWAC_online_20250524100109/model_10.d3\u001b[0m\n",
      "\u001b[2m2025-05-24 10:01.09\u001b[0m [\u001b[32m\u001b[1minfo     \u001b[0m] \u001b[1mAWAC_online_20250524100109: epoch=1 step=10\u001b[0m \u001b[36mepoch\u001b[0m=\u001b[35m1\u001b[0m \u001b[36mmetrics\u001b[0m=\u001b[35m{'time_inference': 0.0002526998519897461, 'time_environment_step': 0.00031332969665527345, 'time_step': 0.0005773782730102539, 'evaluation': -230.95969963371212}\u001b[0m \u001b[36mstep\u001b[0m=\u001b[35m10\u001b[0m\n",
      "\u001b[2m2025-05-24 10:01.10\u001b[0m [\u001b[32m\u001b[1minfo     \u001b[0m] \u001b[1mModel parameters are saved to training_logs/finetuning/hammer/AWAC_online_20250524100109/model_20.d3\u001b[0m\n",
      "\u001b[2m2025-05-24 10:01.10\u001b[0m [\u001b[32m\u001b[1minfo     \u001b[0m] \u001b[1mAWAC_online_20250524100109: epoch=2 step=20\u001b[0m \u001b[36mepoch\u001b[0m=\u001b[35m2\u001b[0m \u001b[36mmetrics\u001b[0m=\u001b[35m{'time_inference': 0.0001498699188232422, 'time_environment_step': 0.00032978057861328126, 'time_step': 0.0004888772964477539, 'evaluation': -233.74602199752712}\u001b[0m \u001b[36mstep\u001b[0m=\u001b[35m20\u001b[0m\n",
      "\u001b[2m2025-05-24 10:01.11\u001b[0m [\u001b[32m\u001b[1minfo     \u001b[0m] \u001b[1mModel parameters are saved to training_logs/finetuning/hammer/AWAC_online_20250524100109/model_30.d3\u001b[0m\n",
      "\u001b[2m2025-05-24 10:01.11\u001b[0m [\u001b[32m\u001b[1minfo     \u001b[0m] \u001b[1mAWAC_online_20250524100109: epoch=3 step=30\u001b[0m \u001b[36mepoch\u001b[0m=\u001b[35m3\u001b[0m \u001b[36mmetrics\u001b[0m=\u001b[35m{'time_inference': 0.00019283294677734374, 'time_environment_step': 0.00028998851776123046, 'time_step': 0.0004916191101074219, 'evaluation': -233.97399072770713}\u001b[0m \u001b[36mstep\u001b[0m=\u001b[35m30\u001b[0m\n",
      "\u001b[2m2025-05-24 10:01.11\u001b[0m [\u001b[32m\u001b[1minfo     \u001b[0m] \u001b[1mModel parameters are saved to training_logs/finetuning/hammer/AWAC_online_20250524100109/model_40.d3\u001b[0m\n",
      "\u001b[2m2025-05-24 10:01.11\u001b[0m [\u001b[32m\u001b[1minfo     \u001b[0m] \u001b[1mAWAC_online_20250524100109: epoch=4 step=40\u001b[0m \u001b[36mepoch\u001b[0m=\u001b[35m4\u001b[0m \u001b[36mmetrics\u001b[0m=\u001b[35m{'time_inference': 0.00018086433410644532, 'time_environment_step': 0.00029647350311279297, 'time_step': 0.000487518310546875, 'evaluation': -234.30030859201685}\u001b[0m \u001b[36mstep\u001b[0m=\u001b[35m40\u001b[0m\n",
      "\u001b[2m2025-05-24 10:01.12\u001b[0m [\u001b[32m\u001b[1minfo     \u001b[0m] \u001b[1mModel parameters are saved to training_logs/finetuning/hammer/AWAC_online_20250524100109/model_50.d3\u001b[0m\n",
      "\u001b[2m2025-05-24 10:01.12\u001b[0m [\u001b[32m\u001b[1minfo     \u001b[0m] \u001b[1mAWAC_online_20250524100109: epoch=5 step=50\u001b[0m \u001b[36mepoch\u001b[0m=\u001b[35m5\u001b[0m \u001b[36mmetrics\u001b[0m=\u001b[35m{'time_inference': 0.00020272731781005858, 'time_environment_step': 0.00033137798309326174, 'time_step': 0.0005460739135742188, 'evaluation': -232.55584019749895}\u001b[0m \u001b[36mstep\u001b[0m=\u001b[35m50\u001b[0m\n",
      "\u001b[2m2025-05-24 10:01.13\u001b[0m [\u001b[32m\u001b[1minfo     \u001b[0m] \u001b[1mModel parameters are saved to training_logs/finetuning/hammer/AWAC_online_20250524100109/model_60.d3\u001b[0m\n",
      "\u001b[2m2025-05-24 10:01.13\u001b[0m [\u001b[32m\u001b[1minfo     \u001b[0m] \u001b[1mAWAC_online_20250524100109: epoch=6 step=60\u001b[0m \u001b[36mepoch\u001b[0m=\u001b[35m6\u001b[0m \u001b[36mmetrics\u001b[0m=\u001b[35m{'time_inference': 0.000164794921875, 'time_environment_step': 0.00029001235961914065, 'time_step': 0.00046355724334716796, 'evaluation': -231.45027341437427}\u001b[0m \u001b[36mstep\u001b[0m=\u001b[35m60\u001b[0m\n",
      "\u001b[2m2025-05-24 10:01.13\u001b[0m [\u001b[32m\u001b[1minfo     \u001b[0m] \u001b[1mModel parameters are saved to training_logs/finetuning/hammer/AWAC_online_20250524100109/model_70.d3\u001b[0m\n",
      "\u001b[2m2025-05-24 10:01.13\u001b[0m [\u001b[32m\u001b[1minfo     \u001b[0m] \u001b[1mAWAC_online_20250524100109: epoch=7 step=70\u001b[0m \u001b[36mepoch\u001b[0m=\u001b[35m7\u001b[0m \u001b[36mmetrics\u001b[0m=\u001b[35m{'time_inference': 0.0001969575881958008, 'time_environment_step': 0.0003129243850708008, 'time_step': 0.0005202293395996094, 'evaluation': -229.26902935572565}\u001b[0m \u001b[36mstep\u001b[0m=\u001b[35m70\u001b[0m\n",
      "\u001b[2m2025-05-24 10:01.14\u001b[0m [\u001b[32m\u001b[1minfo     \u001b[0m] \u001b[1mModel parameters are saved to training_logs/finetuning/hammer/AWAC_online_20250524100109/model_80.d3\u001b[0m\n",
      "\u001b[2m2025-05-24 10:01.14\u001b[0m [\u001b[32m\u001b[1minfo     \u001b[0m] \u001b[1mAWAC_online_20250524100109: epoch=8 step=80\u001b[0m \u001b[36mepoch\u001b[0m=\u001b[35m8\u001b[0m \u001b[36mmetrics\u001b[0m=\u001b[35m{'time_inference': 0.00016279220581054686, 'time_environment_step': 0.0003179311752319336, 'time_step': 0.0004941225051879883, 'evaluation': -232.9185368181999}\u001b[0m \u001b[36mstep\u001b[0m=\u001b[35m80\u001b[0m\n",
      "\u001b[2m2025-05-24 10:01.15\u001b[0m [\u001b[32m\u001b[1minfo     \u001b[0m] \u001b[1mModel parameters are saved to training_logs/finetuning/hammer/AWAC_online_20250524100109/model_90.d3\u001b[0m\n",
      "\u001b[2m2025-05-24 10:01.15\u001b[0m [\u001b[32m\u001b[1minfo     \u001b[0m] \u001b[1mAWAC_online_20250524100109: epoch=9 step=90\u001b[0m \u001b[36mepoch\u001b[0m=\u001b[35m9\u001b[0m \u001b[36mmetrics\u001b[0m=\u001b[35m{'time_inference': 0.00015861988067626952, 'time_environment_step': 0.0002838850021362305, 'time_step': 0.0004517078399658203, 'evaluation': -235.72364462639044}\u001b[0m \u001b[36mstep\u001b[0m=\u001b[35m90\u001b[0m\n",
      "\u001b[2m2025-05-24 10:01.15\u001b[0m [\u001b[32m\u001b[1minfo     \u001b[0m] \u001b[1mModel parameters are saved to training_logs/finetuning/hammer/AWAC_online_20250524100109/model_100.d3\u001b[0m\n",
      "\u001b[2m2025-05-24 10:01.15\u001b[0m [\u001b[32m\u001b[1minfo     \u001b[0m] \u001b[1mAWAC_online_20250524100109: epoch=10 step=100\u001b[0m \u001b[36mepoch\u001b[0m=\u001b[35m10\u001b[0m \u001b[36mmetrics\u001b[0m=\u001b[35m{'time_inference': 0.0001571178436279297, 'time_environment_step': 0.00028238296508789065, 'time_step': 0.0004483938217163086, 'evaluation': -232.89825754082304}\u001b[0m \u001b[36mstep\u001b[0m=\u001b[35m100\u001b[0m\n"
     ]
    }
   ],
   "source": [
    "# Fine-tune the offline-trained policies for the Hammer task using online interaction\n",
    "finetune_algorithm(hammer_iql, hammer_env, 'hammer_iql', 'hammer')\n",
    "finetune_algorithm(hammer_cql, hammer_env, 'hammer_cql', 'hammer')\n",
    "finetune_algorithm(hammer_td3bc, hammer_env, 'hammer_td3bc', 'hammer')\n",
    "finetune_algorithm(hammer_awac, hammer_env, 'hammer_awac', 'hammer')"
   ]
  },
  {
   "cell_type": "markdown",
   "id": "bb5a6357-3a0c-4da0-acf6-01692eae4d1b",
   "metadata": {},
   "source": [
    "### Door"
   ]
  },
  {
   "cell_type": "code",
   "execution_count": 13,
   "id": "6df780e4-de58-4c0c-8c5a-23f658a8f644",
   "metadata": {
    "scrolled": true
   },
   "outputs": [
    {
     "name": "stdout",
     "output_type": "stream",
     "text": [
      "\u001b[2m2025-05-24 10:01.15\u001b[0m [\u001b[32m\u001b[1minfo     \u001b[0m] \u001b[1mSignatures have been automatically determined.\u001b[0m \u001b[36maction_signature\u001b[0m=\u001b[35mSignature(dtype=[dtype('float32')], shape=[(28,)])\u001b[0m \u001b[36mobservation_signature\u001b[0m=\u001b[35mSignature(dtype=[dtype('float64')], shape=[(39,)])\u001b[0m \u001b[36mreward_signature\u001b[0m=\u001b[35mSignature(dtype=[dtype('float32')], shape=[[1]])\u001b[0m\n",
      "\u001b[2m2025-05-24 10:01.15\u001b[0m [\u001b[32m\u001b[1minfo     \u001b[0m] \u001b[1mAction-space has been automatically determined.\u001b[0m \u001b[36maction_space\u001b[0m=\u001b[35m<ActionSpace.CONTINUOUS: 1>\u001b[0m\n",
      "\u001b[2m2025-05-24 10:01.15\u001b[0m [\u001b[32m\u001b[1minfo     \u001b[0m] \u001b[1mAction size has been automatically determined.\u001b[0m \u001b[36maction_size\u001b[0m=\u001b[35m28\u001b[0m\n",
      "\u001b[2m2025-05-24 10:01.15\u001b[0m [\u001b[33m\u001b[1mwarning  \u001b[0m] \u001b[1mSkip building models since they're already built.\u001b[0m\n",
      "\u001b[2m2025-05-24 10:01.15\u001b[0m [\u001b[32m\u001b[1minfo     \u001b[0m] \u001b[1mDirectory is created at training_logs/finetuning/door/IQL_online_20250524100115\u001b[0m\n",
      "\u001b[2m2025-05-24 10:01.15\u001b[0m [\u001b[32m\u001b[1minfo     \u001b[0m] \u001b[1mParameters                    \u001b[0m \u001b[36mparams\u001b[0m=\u001b[35m{'observation_shape': [39], 'action_size': 28, 'config': {'type': 'iql', 'params': {'batch_size': 256, 'gamma': 0.99, 'observation_scaler': {'type': 'none', 'params': {}}, 'action_scaler': {'type': 'none', 'params': {}}, 'reward_scaler': {'type': 'none', 'params': {}}, 'compile_graph': False, 'actor_learning_rate': 0.0003, 'critic_learning_rate': 0.0003, 'actor_optim_factory': {'type': 'adam', 'params': {'clip_grad_norm': None, 'lr_scheduler_factory': {'type': 'none', 'params': {}}, 'betas': [0.9, 0.999], 'eps': 1e-08, 'weight_decay': 0.0, 'amsgrad': False}}, 'critic_optim_factory': {'type': 'adam', 'params': {'clip_grad_norm': None, 'lr_scheduler_factory': {'type': 'none', 'params': {}}, 'betas': [0.9, 0.999], 'eps': 1e-08, 'weight_decay': 0.0, 'amsgrad': False}}, 'actor_encoder_factory': {'type': 'default', 'params': {'activation': 'relu', 'use_batch_norm': False, 'dropout_rate': None}}, 'critic_encoder_factory': {'type': 'default', 'params': {'activation': 'relu', 'use_batch_norm': False, 'dropout_rate': None}}, 'value_encoder_factory': {'type': 'default', 'params': {'activation': 'relu', 'use_batch_norm': False, 'dropout_rate': None}}, 'tau': 0.005, 'n_critics': 2, 'expectile': 0.7, 'weight_temp': 3.0, 'max_weight': 100.0}}}\u001b[0m\n"
     ]
    },
    {
     "data": {
      "application/vnd.jupyter.widget-view+json": {
       "model_id": "d5a7b4a084c44422a8be96fe9bcd90b3",
       "version_major": 2,
       "version_minor": 0
      },
      "text/plain": [
       "  0%|          | 0/100 [00:00<?, ?it/s]"
      ]
     },
     "metadata": {},
     "output_type": "display_data"
    },
    {
     "name": "stdout",
     "output_type": "stream",
     "text": [
      "\u001b[2m2025-05-24 10:01.16\u001b[0m [\u001b[32m\u001b[1minfo     \u001b[0m] \u001b[1mModel parameters are saved to training_logs/finetuning/door/IQL_online_20250524100115/model_10.d3\u001b[0m\n",
      "\u001b[2m2025-05-24 10:01.16\u001b[0m [\u001b[32m\u001b[1minfo     \u001b[0m] \u001b[1mIQL_online_20250524100115: epoch=1 step=10\u001b[0m \u001b[36mepoch\u001b[0m=\u001b[35m1\u001b[0m \u001b[36mmetrics\u001b[0m=\u001b[35m{'time_inference': 0.0004484891891479492, 'time_environment_step': 0.00036156177520751953, 'time_step': 0.0008266925811767578, 'evaluation': 353.6466501862734}\u001b[0m \u001b[36mstep\u001b[0m=\u001b[35m10\u001b[0m\n",
      "\u001b[2m2025-05-24 10:01.17\u001b[0m [\u001b[32m\u001b[1minfo     \u001b[0m] \u001b[1mModel parameters are saved to training_logs/finetuning/door/IQL_online_20250524100115/model_20.d3\u001b[0m\n",
      "\u001b[2m2025-05-24 10:01.17\u001b[0m [\u001b[32m\u001b[1minfo     \u001b[0m] \u001b[1mIQL_online_20250524100115: epoch=2 step=20\u001b[0m \u001b[36mepoch\u001b[0m=\u001b[35m2\u001b[0m \u001b[36mmetrics\u001b[0m=\u001b[35m{'time_inference': 0.00016930103302001954, 'time_environment_step': 0.00023064613342285156, 'time_step': 0.000409698486328125, 'evaluation': -43.84017355599464}\u001b[0m \u001b[36mstep\u001b[0m=\u001b[35m20\u001b[0m\n",
      "\u001b[2m2025-05-24 10:01.17\u001b[0m [\u001b[32m\u001b[1minfo     \u001b[0m] \u001b[1mModel parameters are saved to training_logs/finetuning/door/IQL_online_20250524100115/model_30.d3\u001b[0m\n",
      "\u001b[2m2025-05-24 10:01.17\u001b[0m [\u001b[32m\u001b[1minfo     \u001b[0m] \u001b[1mIQL_online_20250524100115: epoch=3 step=30\u001b[0m \u001b[36mepoch\u001b[0m=\u001b[35m3\u001b[0m \u001b[36mmetrics\u001b[0m=\u001b[35m{'time_inference': 0.0001851797103881836, 'time_environment_step': 0.00026268959045410155, 'time_step': 0.00045766830444335935, 'evaluation': -43.355744643540916}\u001b[0m \u001b[36mstep\u001b[0m=\u001b[35m30\u001b[0m\n",
      "\u001b[2m2025-05-24 10:01.18\u001b[0m [\u001b[32m\u001b[1minfo     \u001b[0m] \u001b[1mModel parameters are saved to training_logs/finetuning/door/IQL_online_20250524100115/model_40.d3\u001b[0m\n",
      "\u001b[2m2025-05-24 10:01.18\u001b[0m [\u001b[32m\u001b[1minfo     \u001b[0m] \u001b[1mIQL_online_20250524100115: epoch=4 step=40\u001b[0m \u001b[36mepoch\u001b[0m=\u001b[35m4\u001b[0m \u001b[36mmetrics\u001b[0m=\u001b[35m{'time_inference': 0.00019605159759521483, 'time_environment_step': 0.0002599954605102539, 'time_step': 0.0004680156707763672, 'evaluation': 214.82406490933187}\u001b[0m \u001b[36mstep\u001b[0m=\u001b[35m40\u001b[0m\n",
      "\u001b[2m2025-05-24 10:01.18\u001b[0m [\u001b[32m\u001b[1minfo     \u001b[0m] \u001b[1mModel parameters are saved to training_logs/finetuning/door/IQL_online_20250524100115/model_50.d3\u001b[0m\n",
      "\u001b[2m2025-05-24 10:01.18\u001b[0m [\u001b[32m\u001b[1minfo     \u001b[0m] \u001b[1mIQL_online_20250524100115: epoch=5 step=50\u001b[0m \u001b[36mepoch\u001b[0m=\u001b[35m5\u001b[0m \u001b[36mmetrics\u001b[0m=\u001b[35m{'time_inference': 0.00016672611236572265, 'time_environment_step': 0.00022406578063964843, 'time_step': 0.0004002571105957031, 'evaluation': -43.74099717021787}\u001b[0m \u001b[36mstep\u001b[0m=\u001b[35m50\u001b[0m\n",
      "\u001b[2m2025-05-24 10:01.19\u001b[0m [\u001b[32m\u001b[1minfo     \u001b[0m] \u001b[1mModel parameters are saved to training_logs/finetuning/door/IQL_online_20250524100115/model_60.d3\u001b[0m\n",
      "\u001b[2m2025-05-24 10:01.19\u001b[0m [\u001b[32m\u001b[1minfo     \u001b[0m] \u001b[1mIQL_online_20250524100115: epoch=6 step=60\u001b[0m \u001b[36mepoch\u001b[0m=\u001b[35m6\u001b[0m \u001b[36mmetrics\u001b[0m=\u001b[35m{'time_inference': 0.00018720626831054689, 'time_environment_step': 0.0002448558807373047, 'time_step': 0.00044422149658203126, 'evaluation': -42.77423220037225}\u001b[0m \u001b[36mstep\u001b[0m=\u001b[35m60\u001b[0m\n",
      "\u001b[2m2025-05-24 10:01.19\u001b[0m [\u001b[32m\u001b[1minfo     \u001b[0m] \u001b[1mModel parameters are saved to training_logs/finetuning/door/IQL_online_20250524100115/model_70.d3\u001b[0m\n",
      "\u001b[2m2025-05-24 10:01.19\u001b[0m [\u001b[32m\u001b[1minfo     \u001b[0m] \u001b[1mIQL_online_20250524100115: epoch=7 step=70\u001b[0m \u001b[36mepoch\u001b[0m=\u001b[35m7\u001b[0m \u001b[36mmetrics\u001b[0m=\u001b[35m{'time_inference': 0.00016291141510009765, 'time_environment_step': 0.00019121170043945312, 'time_step': 0.0003627300262451172, 'evaluation': 194.84240087803033}\u001b[0m \u001b[36mstep\u001b[0m=\u001b[35m70\u001b[0m\n",
      "\u001b[2m2025-05-24 10:01.20\u001b[0m [\u001b[32m\u001b[1minfo     \u001b[0m] \u001b[1mModel parameters are saved to training_logs/finetuning/door/IQL_online_20250524100115/model_80.d3\u001b[0m\n",
      "\u001b[2m2025-05-24 10:01.20\u001b[0m [\u001b[32m\u001b[1minfo     \u001b[0m] \u001b[1mIQL_online_20250524100115: epoch=8 step=80\u001b[0m \u001b[36mepoch\u001b[0m=\u001b[35m8\u001b[0m \u001b[36mmetrics\u001b[0m=\u001b[35m{'time_inference': 0.00018858909606933594, 'time_environment_step': 0.00022921562194824218, 'time_step': 0.00042912960052490237, 'evaluation': 583.0898970466012}\u001b[0m \u001b[36mstep\u001b[0m=\u001b[35m80\u001b[0m\n",
      "\u001b[2m2025-05-24 10:01.20\u001b[0m [\u001b[32m\u001b[1minfo     \u001b[0m] \u001b[1mModel parameters are saved to training_logs/finetuning/door/IQL_online_20250524100115/model_90.d3\u001b[0m\n",
      "\u001b[2m2025-05-24 10:01.20\u001b[0m [\u001b[32m\u001b[1minfo     \u001b[0m] \u001b[1mIQL_online_20250524100115: epoch=9 step=90\u001b[0m \u001b[36mepoch\u001b[0m=\u001b[35m9\u001b[0m \u001b[36mmetrics\u001b[0m=\u001b[35m{'time_inference': 0.00015819072723388672, 'time_environment_step': 0.0002290487289428711, 'time_step': 0.00039649009704589844, 'evaluation': 202.63575524655172}\u001b[0m \u001b[36mstep\u001b[0m=\u001b[35m90\u001b[0m\n",
      "\u001b[2m2025-05-24 10:01.21\u001b[0m [\u001b[32m\u001b[1minfo     \u001b[0m] \u001b[1mModel parameters are saved to training_logs/finetuning/door/IQL_online_20250524100115/model_100.d3\u001b[0m\n",
      "\u001b[2m2025-05-24 10:01.21\u001b[0m [\u001b[32m\u001b[1minfo     \u001b[0m] \u001b[1mIQL_online_20250524100115: epoch=10 step=100\u001b[0m \u001b[36mepoch\u001b[0m=\u001b[35m10\u001b[0m \u001b[36mmetrics\u001b[0m=\u001b[35m{'time_inference': 0.00018303394317626954, 'time_environment_step': 0.00023906230926513673, 'time_step': 0.00043294429779052737, 'evaluation': 340.16663752411057}\u001b[0m \u001b[36mstep\u001b[0m=\u001b[35m100\u001b[0m\n",
      "\u001b[2m2025-05-24 10:01.21\u001b[0m [\u001b[32m\u001b[1minfo     \u001b[0m] \u001b[1mSignatures have been automatically determined.\u001b[0m \u001b[36maction_signature\u001b[0m=\u001b[35mSignature(dtype=[dtype('float32')], shape=[(28,)])\u001b[0m \u001b[36mobservation_signature\u001b[0m=\u001b[35mSignature(dtype=[dtype('float64')], shape=[(39,)])\u001b[0m \u001b[36mreward_signature\u001b[0m=\u001b[35mSignature(dtype=[dtype('float32')], shape=[[1]])\u001b[0m\n",
      "\u001b[2m2025-05-24 10:01.21\u001b[0m [\u001b[32m\u001b[1minfo     \u001b[0m] \u001b[1mAction-space has been automatically determined.\u001b[0m \u001b[36maction_space\u001b[0m=\u001b[35m<ActionSpace.CONTINUOUS: 1>\u001b[0m\n",
      "\u001b[2m2025-05-24 10:01.21\u001b[0m [\u001b[32m\u001b[1minfo     \u001b[0m] \u001b[1mAction size has been automatically determined.\u001b[0m \u001b[36maction_size\u001b[0m=\u001b[35m28\u001b[0m\n",
      "\u001b[2m2025-05-24 10:01.21\u001b[0m [\u001b[33m\u001b[1mwarning  \u001b[0m] \u001b[1mSkip building models since they're already built.\u001b[0m\n",
      "\u001b[2m2025-05-24 10:01.21\u001b[0m [\u001b[32m\u001b[1minfo     \u001b[0m] \u001b[1mDirectory is created at training_logs/finetuning/door/CQL_online_20250524100121\u001b[0m\n",
      "\u001b[2m2025-05-24 10:01.21\u001b[0m [\u001b[32m\u001b[1minfo     \u001b[0m] \u001b[1mParameters                    \u001b[0m \u001b[36mparams\u001b[0m=\u001b[35m{'observation_shape': [39], 'action_size': 28, 'config': {'type': 'cql', 'params': {'batch_size': 256, 'gamma': 0.99, 'observation_scaler': {'type': 'none', 'params': {}}, 'action_scaler': {'type': 'none', 'params': {}}, 'reward_scaler': {'type': 'none', 'params': {}}, 'compile_graph': False, 'actor_learning_rate': 0.0001, 'critic_learning_rate': 0.0003, 'temp_learning_rate': 0.0001, 'alpha_learning_rate': 0.0001, 'actor_optim_factory': {'type': 'adam', 'params': {'clip_grad_norm': None, 'lr_scheduler_factory': {'type': 'none', 'params': {}}, 'betas': [0.9, 0.999], 'eps': 1e-08, 'weight_decay': 0.0, 'amsgrad': False}}, 'critic_optim_factory': {'type': 'adam', 'params': {'clip_grad_norm': None, 'lr_scheduler_factory': {'type': 'none', 'params': {}}, 'betas': [0.9, 0.999], 'eps': 1e-08, 'weight_decay': 0.0, 'amsgrad': False}}, 'temp_optim_factory': {'type': 'adam', 'params': {'clip_grad_norm': None, 'lr_scheduler_factory': {'type': 'none', 'params': {}}, 'betas': [0.9, 0.999], 'eps': 1e-08, 'weight_decay': 0.0, 'amsgrad': False}}, 'alpha_optim_factory': {'type': 'adam', 'params': {'clip_grad_norm': None, 'lr_scheduler_factory': {'type': 'none', 'params': {}}, 'betas': [0.9, 0.999], 'eps': 1e-08, 'weight_decay': 0.0, 'amsgrad': False}}, 'actor_encoder_factory': {'type': 'default', 'params': {'activation': 'relu', 'use_batch_norm': False, 'dropout_rate': None}}, 'critic_encoder_factory': {'type': 'default', 'params': {'activation': 'relu', 'use_batch_norm': False, 'dropout_rate': None}}, 'q_func_factory': {'type': 'mean', 'params': {'share_encoder': False}}, 'tau': 0.005, 'n_critics': 2, 'initial_temperature': 1.0, 'initial_alpha': 1.0, 'alpha_threshold': 10.0, 'conservative_weight': 5.0, 'n_action_samples': 10, 'soft_q_backup': False, 'max_q_backup': False}}}\u001b[0m\n"
     ]
    },
    {
     "data": {
      "application/vnd.jupyter.widget-view+json": {
       "model_id": "11c03d2752f44ff49827e7947fe0b95c",
       "version_major": 2,
       "version_minor": 0
      },
      "text/plain": [
       "  0%|          | 0/100 [00:00<?, ?it/s]"
      ]
     },
     "metadata": {},
     "output_type": "display_data"
    },
    {
     "name": "stdout",
     "output_type": "stream",
     "text": [
      "\u001b[2m2025-05-24 10:01.21\u001b[0m [\u001b[32m\u001b[1minfo     \u001b[0m] \u001b[1mModel parameters are saved to training_logs/finetuning/door/CQL_online_20250524100121/model_10.d3\u001b[0m\n",
      "\u001b[2m2025-05-24 10:01.21\u001b[0m [\u001b[32m\u001b[1minfo     \u001b[0m] \u001b[1mCQL_online_20250524100121: epoch=1 step=10\u001b[0m \u001b[36mepoch\u001b[0m=\u001b[35m1\u001b[0m \u001b[36mmetrics\u001b[0m=\u001b[35m{'time_inference': 0.0003455400466918945, 'time_environment_step': 0.0002337932586669922, 'time_step': 0.0005905389785766602, 'evaluation': -36.716531613884314}\u001b[0m \u001b[36mstep\u001b[0m=\u001b[35m10\u001b[0m\n",
      "\u001b[2m2025-05-24 10:01.22\u001b[0m [\u001b[32m\u001b[1minfo     \u001b[0m] \u001b[1mModel parameters are saved to training_logs/finetuning/door/CQL_online_20250524100121/model_20.d3\u001b[0m\n",
      "\u001b[2m2025-05-24 10:01.22\u001b[0m [\u001b[32m\u001b[1minfo     \u001b[0m] \u001b[1mCQL_online_20250524100121: epoch=2 step=20\u001b[0m \u001b[36mepoch\u001b[0m=\u001b[35m2\u001b[0m \u001b[36mmetrics\u001b[0m=\u001b[35m{'time_inference': 0.00015037059783935548, 'time_environment_step': 0.0002069711685180664, 'time_step': 0.00036537647247314453, 'evaluation': -36.87627307503832}\u001b[0m \u001b[36mstep\u001b[0m=\u001b[35m20\u001b[0m\n",
      "\u001b[2m2025-05-24 10:01.22\u001b[0m [\u001b[32m\u001b[1minfo     \u001b[0m] \u001b[1mModel parameters are saved to training_logs/finetuning/door/CQL_online_20250524100121/model_30.d3\u001b[0m\n",
      "\u001b[2m2025-05-24 10:01.22\u001b[0m [\u001b[32m\u001b[1minfo     \u001b[0m] \u001b[1mCQL_online_20250524100121: epoch=3 step=30\u001b[0m \u001b[36mepoch\u001b[0m=\u001b[35m3\u001b[0m \u001b[36mmetrics\u001b[0m=\u001b[35m{'time_inference': 0.00018987655639648437, 'time_environment_step': 0.00024993419647216796, 'time_step': 0.000449824333190918, 'evaluation': -36.8657856968999}\u001b[0m \u001b[36mstep\u001b[0m=\u001b[35m30\u001b[0m\n",
      "\u001b[2m2025-05-24 10:01.23\u001b[0m [\u001b[32m\u001b[1minfo     \u001b[0m] \u001b[1mModel parameters are saved to training_logs/finetuning/door/CQL_online_20250524100121/model_40.d3\u001b[0m\n",
      "\u001b[2m2025-05-24 10:01.23\u001b[0m [\u001b[32m\u001b[1minfo     \u001b[0m] \u001b[1mCQL_online_20250524100121: epoch=4 step=40\u001b[0m \u001b[36mepoch\u001b[0m=\u001b[35m4\u001b[0m \u001b[36mmetrics\u001b[0m=\u001b[35m{'time_inference': 0.0001764059066772461, 'time_environment_step': 0.00024435520172119143, 'time_step': 0.0004307746887207031, 'evaluation': -37.030809317147295}\u001b[0m \u001b[36mstep\u001b[0m=\u001b[35m40\u001b[0m\n",
      "\u001b[2m2025-05-24 10:01.23\u001b[0m [\u001b[32m\u001b[1minfo     \u001b[0m] \u001b[1mModel parameters are saved to training_logs/finetuning/door/CQL_online_20250524100121/model_50.d3\u001b[0m\n",
      "\u001b[2m2025-05-24 10:01.23\u001b[0m [\u001b[32m\u001b[1minfo     \u001b[0m] \u001b[1mCQL_online_20250524100121: epoch=5 step=50\u001b[0m \u001b[36mepoch\u001b[0m=\u001b[35m5\u001b[0m \u001b[36mmetrics\u001b[0m=\u001b[35m{'time_inference': 0.00016033649444580078, 'time_environment_step': 0.0002236604690551758, 'time_step': 0.0003935098648071289, 'evaluation': -36.782010933983756}\u001b[0m \u001b[36mstep\u001b[0m=\u001b[35m50\u001b[0m\n",
      "\u001b[2m2025-05-24 10:01.23\u001b[0m [\u001b[32m\u001b[1minfo     \u001b[0m] \u001b[1mModel parameters are saved to training_logs/finetuning/door/CQL_online_20250524100121/model_60.d3\u001b[0m\n",
      "\u001b[2m2025-05-24 10:01.23\u001b[0m [\u001b[32m\u001b[1minfo     \u001b[0m] \u001b[1mCQL_online_20250524100121: epoch=6 step=60\u001b[0m \u001b[36mepoch\u001b[0m=\u001b[35m6\u001b[0m \u001b[36mmetrics\u001b[0m=\u001b[35m{'time_inference': 0.00014629364013671876, 'time_environment_step': 0.00021414756774902345, 'time_step': 0.0003699064254760742, 'evaluation': -36.78658070798572}\u001b[0m \u001b[36mstep\u001b[0m=\u001b[35m60\u001b[0m\n",
      "\u001b[2m2025-05-24 10:01.24\u001b[0m [\u001b[32m\u001b[1minfo     \u001b[0m] \u001b[1mModel parameters are saved to training_logs/finetuning/door/CQL_online_20250524100121/model_70.d3\u001b[0m\n",
      "\u001b[2m2025-05-24 10:01.24\u001b[0m [\u001b[32m\u001b[1minfo     \u001b[0m] \u001b[1mCQL_online_20250524100121: epoch=7 step=70\u001b[0m \u001b[36mepoch\u001b[0m=\u001b[35m7\u001b[0m \u001b[36mmetrics\u001b[0m=\u001b[35m{'time_inference': 0.0001648426055908203, 'time_environment_step': 0.00023205280303955077, 'time_step': 0.00040678977966308595, 'evaluation': -36.94616854598704}\u001b[0m \u001b[36mstep\u001b[0m=\u001b[35m70\u001b[0m\n",
      "\u001b[2m2025-05-24 10:01.24\u001b[0m [\u001b[32m\u001b[1minfo     \u001b[0m] \u001b[1mModel parameters are saved to training_logs/finetuning/door/CQL_online_20250524100121/model_80.d3\u001b[0m\n",
      "\u001b[2m2025-05-24 10:01.24\u001b[0m [\u001b[32m\u001b[1minfo     \u001b[0m] \u001b[1mCQL_online_20250524100121: epoch=8 step=80\u001b[0m \u001b[36mepoch\u001b[0m=\u001b[35m8\u001b[0m \u001b[36mmetrics\u001b[0m=\u001b[35m{'time_inference': 0.0001623392105102539, 'time_environment_step': 0.00020453929901123046, 'time_step': 0.0003766536712646484, 'evaluation': -37.16717129479384}\u001b[0m \u001b[36mstep\u001b[0m=\u001b[35m80\u001b[0m\n",
      "\u001b[2m2025-05-24 10:01.25\u001b[0m [\u001b[32m\u001b[1minfo     \u001b[0m] \u001b[1mModel parameters are saved to training_logs/finetuning/door/CQL_online_20250524100121/model_90.d3\u001b[0m\n",
      "\u001b[2m2025-05-24 10:01.25\u001b[0m [\u001b[32m\u001b[1minfo     \u001b[0m] \u001b[1mCQL_online_20250524100121: epoch=9 step=90\u001b[0m \u001b[36mepoch\u001b[0m=\u001b[35m9\u001b[0m \u001b[36mmetrics\u001b[0m=\u001b[35m{'time_inference': 0.00014731884002685546, 'time_environment_step': 0.0002054929733276367, 'time_step': 0.0003616571426391602, 'evaluation': -36.782707729578846}\u001b[0m \u001b[36mstep\u001b[0m=\u001b[35m90\u001b[0m\n",
      "\u001b[2m2025-05-24 10:01.25\u001b[0m [\u001b[32m\u001b[1minfo     \u001b[0m] \u001b[1mModel parameters are saved to training_logs/finetuning/door/CQL_online_20250524100121/model_100.d3\u001b[0m\n",
      "\u001b[2m2025-05-24 10:01.25\u001b[0m [\u001b[32m\u001b[1minfo     \u001b[0m] \u001b[1mCQL_online_20250524100121: epoch=10 step=100\u001b[0m \u001b[36mepoch\u001b[0m=\u001b[35m10\u001b[0m \u001b[36mmetrics\u001b[0m=\u001b[35m{'time_inference': 0.00019791126251220704, 'time_environment_step': 0.00021860599517822265, 'time_step': 0.0004263639450073242, 'evaluation': -36.89846906611387}\u001b[0m \u001b[36mstep\u001b[0m=\u001b[35m100\u001b[0m\n",
      "\u001b[2m2025-05-24 10:01.25\u001b[0m [\u001b[32m\u001b[1minfo     \u001b[0m] \u001b[1mSignatures have been automatically determined.\u001b[0m \u001b[36maction_signature\u001b[0m=\u001b[35mSignature(dtype=[dtype('float32')], shape=[(28,)])\u001b[0m \u001b[36mobservation_signature\u001b[0m=\u001b[35mSignature(dtype=[dtype('float64')], shape=[(39,)])\u001b[0m \u001b[36mreward_signature\u001b[0m=\u001b[35mSignature(dtype=[dtype('float32')], shape=[[1]])\u001b[0m\n",
      "\u001b[2m2025-05-24 10:01.25\u001b[0m [\u001b[32m\u001b[1minfo     \u001b[0m] \u001b[1mAction-space has been automatically determined.\u001b[0m \u001b[36maction_space\u001b[0m=\u001b[35m<ActionSpace.CONTINUOUS: 1>\u001b[0m\n",
      "\u001b[2m2025-05-24 10:01.25\u001b[0m [\u001b[32m\u001b[1minfo     \u001b[0m] \u001b[1mAction size has been automatically determined.\u001b[0m \u001b[36maction_size\u001b[0m=\u001b[35m28\u001b[0m\n",
      "\u001b[2m2025-05-24 10:01.25\u001b[0m [\u001b[33m\u001b[1mwarning  \u001b[0m] \u001b[1mSkip building models since they're already built.\u001b[0m\n",
      "\u001b[2m2025-05-24 10:01.25\u001b[0m [\u001b[32m\u001b[1minfo     \u001b[0m] \u001b[1mDirectory is created at training_logs/finetuning/door/TD3PlusBC_online_20250524100125\u001b[0m\n",
      "\u001b[2m2025-05-24 10:01.25\u001b[0m [\u001b[32m\u001b[1minfo     \u001b[0m] \u001b[1mParameters                    \u001b[0m \u001b[36mparams\u001b[0m=\u001b[35m{'observation_shape': [39], 'action_size': 28, 'config': {'type': 'td3_plus_bc', 'params': {'batch_size': 256, 'gamma': 0.99, 'observation_scaler': {'type': 'none', 'params': {}}, 'action_scaler': {'type': 'none', 'params': {}}, 'reward_scaler': {'type': 'none', 'params': {}}, 'compile_graph': False, 'actor_learning_rate': 0.0003, 'critic_learning_rate': 0.0003, 'actor_optim_factory': {'type': 'adam', 'params': {'clip_grad_norm': None, 'lr_scheduler_factory': {'type': 'none', 'params': {}}, 'betas': [0.9, 0.999], 'eps': 1e-08, 'weight_decay': 0.0, 'amsgrad': False}}, 'critic_optim_factory': {'type': 'adam', 'params': {'clip_grad_norm': None, 'lr_scheduler_factory': {'type': 'none', 'params': {}}, 'betas': [0.9, 0.999], 'eps': 1e-08, 'weight_decay': 0.0, 'amsgrad': False}}, 'actor_encoder_factory': {'type': 'default', 'params': {'activation': 'relu', 'use_batch_norm': False, 'dropout_rate': None}}, 'critic_encoder_factory': {'type': 'default', 'params': {'activation': 'relu', 'use_batch_norm': False, 'dropout_rate': None}}, 'q_func_factory': {'type': 'mean', 'params': {'share_encoder': False}}, 'tau': 0.005, 'n_critics': 2, 'target_smoothing_sigma': 0.2, 'target_smoothing_clip': 0.5, 'alpha': 2.5, 'update_actor_interval': 2}}}\u001b[0m\n"
     ]
    },
    {
     "data": {
      "application/vnd.jupyter.widget-view+json": {
       "model_id": "f33b3e5b0cff4161b107d0d9a2d79f8e",
       "version_major": 2,
       "version_minor": 0
      },
      "text/plain": [
       "  0%|          | 0/100 [00:00<?, ?it/s]"
      ]
     },
     "metadata": {},
     "output_type": "display_data"
    },
    {
     "name": "stdout",
     "output_type": "stream",
     "text": [
      "\u001b[2m2025-05-24 10:01.26\u001b[0m [\u001b[32m\u001b[1minfo     \u001b[0m] \u001b[1mModel parameters are saved to training_logs/finetuning/door/TD3PlusBC_online_20250524100125/model_10.d3\u001b[0m\n",
      "\u001b[2m2025-05-24 10:01.26\u001b[0m [\u001b[32m\u001b[1minfo     \u001b[0m] \u001b[1mTD3PlusBC_online_20250524100125: epoch=1 step=10\u001b[0m \u001b[36mepoch\u001b[0m=\u001b[35m1\u001b[0m \u001b[36mmetrics\u001b[0m=\u001b[35m{'time_inference': 0.0005808115005493164, 'time_environment_step': 0.0008336067199707031, 'time_step': 0.001435708999633789, 'evaluation': -30.86554349068043}\u001b[0m \u001b[36mstep\u001b[0m=\u001b[35m10\u001b[0m\n",
      "\u001b[2m2025-05-24 10:01.26\u001b[0m [\u001b[32m\u001b[1minfo     \u001b[0m] \u001b[1mModel parameters are saved to training_logs/finetuning/door/TD3PlusBC_online_20250524100125/model_20.d3\u001b[0m\n",
      "\u001b[2m2025-05-24 10:01.26\u001b[0m [\u001b[32m\u001b[1minfo     \u001b[0m] \u001b[1mTD3PlusBC_online_20250524100125: epoch=2 step=20\u001b[0m \u001b[36mepoch\u001b[0m=\u001b[35m2\u001b[0m \u001b[36mmetrics\u001b[0m=\u001b[35m{'time_inference': 9.205341339111329e-05, 'time_environment_step': 0.00020551681518554688, 'time_step': 0.00030829906463623045, 'evaluation': -30.814479323555997}\u001b[0m \u001b[36mstep\u001b[0m=\u001b[35m20\u001b[0m\n",
      "\u001b[2m2025-05-24 10:01.26\u001b[0m [\u001b[32m\u001b[1minfo     \u001b[0m] \u001b[1mModel parameters are saved to training_logs/finetuning/door/TD3PlusBC_online_20250524100125/model_30.d3\u001b[0m\n",
      "\u001b[2m2025-05-24 10:01.26\u001b[0m [\u001b[32m\u001b[1minfo     \u001b[0m] \u001b[1mTD3PlusBC_online_20250524100125: epoch=3 step=30\u001b[0m \u001b[36mepoch\u001b[0m=\u001b[35m3\u001b[0m \u001b[36mmetrics\u001b[0m=\u001b[35m{'time_inference': 8.928775787353516e-05, 'time_environment_step': 0.00020420551300048828, 'time_step': 0.00030324459075927737, 'evaluation': -30.954478040979087}\u001b[0m \u001b[36mstep\u001b[0m=\u001b[35m30\u001b[0m\n",
      "\u001b[2m2025-05-24 10:01.27\u001b[0m [\u001b[32m\u001b[1minfo     \u001b[0m] \u001b[1mModel parameters are saved to training_logs/finetuning/door/TD3PlusBC_online_20250524100125/model_40.d3\u001b[0m\n",
      "\u001b[2m2025-05-24 10:01.27\u001b[0m [\u001b[32m\u001b[1minfo     \u001b[0m] \u001b[1mTD3PlusBC_online_20250524100125: epoch=4 step=40\u001b[0m \u001b[36mepoch\u001b[0m=\u001b[35m4\u001b[0m \u001b[36mmetrics\u001b[0m=\u001b[35m{'time_inference': 0.00010895729064941406, 'time_environment_step': 0.0002336740493774414, 'time_step': 0.000354313850402832, 'evaluation': -30.83712360196259}\u001b[0m \u001b[36mstep\u001b[0m=\u001b[35m40\u001b[0m\n",
      "\u001b[2m2025-05-24 10:01.27\u001b[0m [\u001b[32m\u001b[1minfo     \u001b[0m] \u001b[1mModel parameters are saved to training_logs/finetuning/door/TD3PlusBC_online_20250524100125/model_50.d3\u001b[0m\n",
      "\u001b[2m2025-05-24 10:01.27\u001b[0m [\u001b[32m\u001b[1minfo     \u001b[0m] \u001b[1mTD3PlusBC_online_20250524100125: epoch=5 step=50\u001b[0m \u001b[36mepoch\u001b[0m=\u001b[35m5\u001b[0m \u001b[36mmetrics\u001b[0m=\u001b[35m{'time_inference': 0.00011661052703857422, 'time_environment_step': 0.00021772384643554689, 'time_step': 0.0003437995910644531, 'evaluation': -30.433907272633217}\u001b[0m \u001b[36mstep\u001b[0m=\u001b[35m50\u001b[0m\n",
      "\u001b[2m2025-05-24 10:01.28\u001b[0m [\u001b[32m\u001b[1minfo     \u001b[0m] \u001b[1mModel parameters are saved to training_logs/finetuning/door/TD3PlusBC_online_20250524100125/model_60.d3\u001b[0m\n",
      "\u001b[2m2025-05-24 10:01.28\u001b[0m [\u001b[32m\u001b[1minfo     \u001b[0m] \u001b[1mTD3PlusBC_online_20250524100125: epoch=6 step=60\u001b[0m \u001b[36mepoch\u001b[0m=\u001b[35m6\u001b[0m \u001b[36mmetrics\u001b[0m=\u001b[35m{'time_inference': 9.086132049560547e-05, 'time_environment_step': 0.00019207000732421876, 'time_step': 0.0002932548522949219, 'evaluation': -30.68116604472113}\u001b[0m \u001b[36mstep\u001b[0m=\u001b[35m60\u001b[0m\n",
      "\u001b[2m2025-05-24 10:01.28\u001b[0m [\u001b[32m\u001b[1minfo     \u001b[0m] \u001b[1mModel parameters are saved to training_logs/finetuning/door/TD3PlusBC_online_20250524100125/model_70.d3\u001b[0m\n",
      "\u001b[2m2025-05-24 10:01.28\u001b[0m [\u001b[32m\u001b[1minfo     \u001b[0m] \u001b[1mTD3PlusBC_online_20250524100125: epoch=7 step=70\u001b[0m \u001b[36mepoch\u001b[0m=\u001b[35m7\u001b[0m \u001b[36mmetrics\u001b[0m=\u001b[35m{'time_inference': 8.766651153564453e-05, 'time_environment_step': 0.0001835346221923828, 'time_step': 0.0002798318862915039, 'evaluation': -30.292510071712048}\u001b[0m \u001b[36mstep\u001b[0m=\u001b[35m70\u001b[0m\n",
      "\u001b[2m2025-05-24 10:01.28\u001b[0m [\u001b[32m\u001b[1minfo     \u001b[0m] \u001b[1mModel parameters are saved to training_logs/finetuning/door/TD3PlusBC_online_20250524100125/model_80.d3\u001b[0m\n",
      "\u001b[2m2025-05-24 10:01.28\u001b[0m [\u001b[32m\u001b[1minfo     \u001b[0m] \u001b[1mTD3PlusBC_online_20250524100125: epoch=8 step=80\u001b[0m \u001b[36mepoch\u001b[0m=\u001b[35m8\u001b[0m \u001b[36mmetrics\u001b[0m=\u001b[35m{'time_inference': 8.230209350585937e-05, 'time_environment_step': 0.0001636505126953125, 'time_step': 0.0002538204193115234, 'evaluation': -30.482694174554844}\u001b[0m \u001b[36mstep\u001b[0m=\u001b[35m80\u001b[0m\n",
      "\u001b[2m2025-05-24 10:01.29\u001b[0m [\u001b[32m\u001b[1minfo     \u001b[0m] \u001b[1mModel parameters are saved to training_logs/finetuning/door/TD3PlusBC_online_20250524100125/model_90.d3\u001b[0m\n",
      "\u001b[2m2025-05-24 10:01.29\u001b[0m [\u001b[32m\u001b[1minfo     \u001b[0m] \u001b[1mTD3PlusBC_online_20250524100125: epoch=9 step=90\u001b[0m \u001b[36mepoch\u001b[0m=\u001b[35m9\u001b[0m \u001b[36mmetrics\u001b[0m=\u001b[35m{'time_inference': 0.00011658668518066406, 'time_environment_step': 0.00019826889038085938, 'time_step': 0.0003266334533691406, 'evaluation': -30.957878438798343}\u001b[0m \u001b[36mstep\u001b[0m=\u001b[35m90\u001b[0m\n",
      "\u001b[2m2025-05-24 10:01.29\u001b[0m [\u001b[32m\u001b[1minfo     \u001b[0m] \u001b[1mModel parameters are saved to training_logs/finetuning/door/TD3PlusBC_online_20250524100125/model_100.d3\u001b[0m\n",
      "\u001b[2m2025-05-24 10:01.29\u001b[0m [\u001b[32m\u001b[1minfo     \u001b[0m] \u001b[1mTD3PlusBC_online_20250524100125: epoch=10 step=100\u001b[0m \u001b[36mepoch\u001b[0m=\u001b[35m10\u001b[0m \u001b[36mmetrics\u001b[0m=\u001b[35m{'time_inference': 7.913112640380859e-05, 'time_environment_step': 0.00018131732940673828, 'time_step': 0.00026884078979492185, 'evaluation': -30.511149440821317}\u001b[0m \u001b[36mstep\u001b[0m=\u001b[35m100\u001b[0m\n",
      "\u001b[2m2025-05-24 10:01.29\u001b[0m [\u001b[32m\u001b[1minfo     \u001b[0m] \u001b[1mSignatures have been automatically determined.\u001b[0m \u001b[36maction_signature\u001b[0m=\u001b[35mSignature(dtype=[dtype('float32')], shape=[(28,)])\u001b[0m \u001b[36mobservation_signature\u001b[0m=\u001b[35mSignature(dtype=[dtype('float64')], shape=[(39,)])\u001b[0m \u001b[36mreward_signature\u001b[0m=\u001b[35mSignature(dtype=[dtype('float32')], shape=[[1]])\u001b[0m\n",
      "\u001b[2m2025-05-24 10:01.29\u001b[0m [\u001b[32m\u001b[1minfo     \u001b[0m] \u001b[1mAction-space has been automatically determined.\u001b[0m \u001b[36maction_space\u001b[0m=\u001b[35m<ActionSpace.CONTINUOUS: 1>\u001b[0m\n",
      "\u001b[2m2025-05-24 10:01.29\u001b[0m [\u001b[32m\u001b[1minfo     \u001b[0m] \u001b[1mAction size has been automatically determined.\u001b[0m \u001b[36maction_size\u001b[0m=\u001b[35m28\u001b[0m\n",
      "\u001b[2m2025-05-24 10:01.29\u001b[0m [\u001b[33m\u001b[1mwarning  \u001b[0m] \u001b[1mSkip building models since they're already built.\u001b[0m\n",
      "\u001b[2m2025-05-24 10:01.29\u001b[0m [\u001b[32m\u001b[1minfo     \u001b[0m] \u001b[1mDirectory is created at training_logs/finetuning/door/AWAC_online_20250524100129\u001b[0m\n",
      "\u001b[2m2025-05-24 10:01.29\u001b[0m [\u001b[32m\u001b[1minfo     \u001b[0m] \u001b[1mParameters                    \u001b[0m \u001b[36mparams\u001b[0m=\u001b[35m{'observation_shape': [39], 'action_size': 28, 'config': {'type': 'awac', 'params': {'batch_size': 1024, 'gamma': 0.99, 'observation_scaler': {'type': 'none', 'params': {}}, 'action_scaler': {'type': 'none', 'params': {}}, 'reward_scaler': {'type': 'none', 'params': {}}, 'compile_graph': False, 'actor_learning_rate': 0.0003, 'critic_learning_rate': 0.0003, 'actor_optim_factory': {'type': 'adam', 'params': {'clip_grad_norm': None, 'lr_scheduler_factory': {'type': 'none', 'params': {}}, 'betas': [0.9, 0.999], 'eps': 1e-08, 'weight_decay': 0.0, 'amsgrad': False}}, 'critic_optim_factory': {'type': 'adam', 'params': {'clip_grad_norm': None, 'lr_scheduler_factory': {'type': 'none', 'params': {}}, 'betas': [0.9, 0.999], 'eps': 1e-08, 'weight_decay': 0.0, 'amsgrad': False}}, 'actor_encoder_factory': {'type': 'default', 'params': {'activation': 'relu', 'use_batch_norm': False, 'dropout_rate': None}}, 'critic_encoder_factory': {'type': 'default', 'params': {'activation': 'relu', 'use_batch_norm': False, 'dropout_rate': None}}, 'q_func_factory': {'type': 'mean', 'params': {'share_encoder': False}}, 'tau': 0.005, 'lam': 1.0, 'n_action_samples': 1, 'n_critics': 2}}}\u001b[0m\n"
     ]
    },
    {
     "data": {
      "application/vnd.jupyter.widget-view+json": {
       "model_id": "1398e42a189b42cfa1f4b84043d4211a",
       "version_major": 2,
       "version_minor": 0
      },
      "text/plain": [
       "  0%|          | 0/100 [00:00<?, ?it/s]"
      ]
     },
     "metadata": {},
     "output_type": "display_data"
    },
    {
     "name": "stdout",
     "output_type": "stream",
     "text": [
      "\u001b[2m2025-05-24 10:01.30\u001b[0m [\u001b[32m\u001b[1minfo     \u001b[0m] \u001b[1mModel parameters are saved to training_logs/finetuning/door/AWAC_online_20250524100129/model_10.d3\u001b[0m\n",
      "\u001b[2m2025-05-24 10:01.30\u001b[0m [\u001b[32m\u001b[1minfo     \u001b[0m] \u001b[1mAWAC_online_20250524100129: epoch=1 step=10\u001b[0m \u001b[36mepoch\u001b[0m=\u001b[35m1\u001b[0m \u001b[36mmetrics\u001b[0m=\u001b[35m{'time_inference': 0.00041117668151855467, 'time_environment_step': 0.0002482175827026367, 'time_step': 0.00067138671875, 'evaluation': -41.44465572327317}\u001b[0m \u001b[36mstep\u001b[0m=\u001b[35m10\u001b[0m\n",
      "\u001b[2m2025-05-24 10:01.30\u001b[0m [\u001b[32m\u001b[1minfo     \u001b[0m] \u001b[1mModel parameters are saved to training_logs/finetuning/door/AWAC_online_20250524100129/model_20.d3\u001b[0m\n",
      "\u001b[2m2025-05-24 10:01.30\u001b[0m [\u001b[32m\u001b[1minfo     \u001b[0m] \u001b[1mAWAC_online_20250524100129: epoch=2 step=20\u001b[0m \u001b[36mepoch\u001b[0m=\u001b[35m2\u001b[0m \u001b[36mmetrics\u001b[0m=\u001b[35m{'time_inference': 0.00015668869018554689, 'time_environment_step': 0.0002121448516845703, 'time_step': 0.00037789344787597656, 'evaluation': -41.52749577891568}\u001b[0m \u001b[36mstep\u001b[0m=\u001b[35m20\u001b[0m\n",
      "\u001b[2m2025-05-24 10:01.31\u001b[0m [\u001b[32m\u001b[1minfo     \u001b[0m] \u001b[1mModel parameters are saved to training_logs/finetuning/door/AWAC_online_20250524100129/model_30.d3\u001b[0m\n",
      "\u001b[2m2025-05-24 10:01.31\u001b[0m [\u001b[32m\u001b[1minfo     \u001b[0m] \u001b[1mAWAC_online_20250524100129: epoch=3 step=30\u001b[0m \u001b[36mepoch\u001b[0m=\u001b[35m3\u001b[0m \u001b[36mmetrics\u001b[0m=\u001b[35m{'time_inference': 0.0001634359359741211, 'time_environment_step': 0.00023343563079833985, 'time_step': 0.0004065752029418945, 'evaluation': -41.245934477701425}\u001b[0m \u001b[36mstep\u001b[0m=\u001b[35m30\u001b[0m\n",
      "\u001b[2m2025-05-24 10:01.31\u001b[0m [\u001b[32m\u001b[1minfo     \u001b[0m] \u001b[1mModel parameters are saved to training_logs/finetuning/door/AWAC_online_20250524100129/model_40.d3\u001b[0m\n",
      "\u001b[2m2025-05-24 10:01.31\u001b[0m [\u001b[32m\u001b[1minfo     \u001b[0m] \u001b[1mAWAC_online_20250524100129: epoch=4 step=40\u001b[0m \u001b[36mepoch\u001b[0m=\u001b[35m4\u001b[0m \u001b[36mmetrics\u001b[0m=\u001b[35m{'time_inference': 0.0001750469207763672, 'time_environment_step': 0.00021276473999023437, 'time_step': 0.0003979206085205078, 'evaluation': -41.47340262066733}\u001b[0m \u001b[36mstep\u001b[0m=\u001b[35m40\u001b[0m\n",
      "\u001b[2m2025-05-24 10:01.32\u001b[0m [\u001b[32m\u001b[1minfo     \u001b[0m] \u001b[1mModel parameters are saved to training_logs/finetuning/door/AWAC_online_20250524100129/model_50.d3\u001b[0m\n",
      "\u001b[2m2025-05-24 10:01.32\u001b[0m [\u001b[32m\u001b[1minfo     \u001b[0m] \u001b[1mAWAC_online_20250524100129: epoch=5 step=50\u001b[0m \u001b[36mepoch\u001b[0m=\u001b[35m5\u001b[0m \u001b[36mmetrics\u001b[0m=\u001b[35m{'time_inference': 0.0002017498016357422, 'time_environment_step': 0.00025343894958496094, 'time_step': 0.0004662752151489258, 'evaluation': -41.20416820856948}\u001b[0m \u001b[36mstep\u001b[0m=\u001b[35m50\u001b[0m\n",
      "\u001b[2m2025-05-24 10:01.32\u001b[0m [\u001b[32m\u001b[1minfo     \u001b[0m] \u001b[1mModel parameters are saved to training_logs/finetuning/door/AWAC_online_20250524100129/model_60.d3\u001b[0m\n",
      "\u001b[2m2025-05-24 10:01.32\u001b[0m [\u001b[32m\u001b[1minfo     \u001b[0m] \u001b[1mAWAC_online_20250524100129: epoch=6 step=60\u001b[0m \u001b[36mepoch\u001b[0m=\u001b[35m6\u001b[0m \u001b[36mmetrics\u001b[0m=\u001b[35m{'time_inference': 0.00017011165618896484, 'time_environment_step': 0.00021886825561523438, 'time_step': 0.00039927959442138673, 'evaluation': -41.30106805782948}\u001b[0m \u001b[36mstep\u001b[0m=\u001b[35m60\u001b[0m\n",
      "\u001b[2m2025-05-24 10:01.32\u001b[0m [\u001b[32m\u001b[1minfo     \u001b[0m] \u001b[1mModel parameters are saved to training_logs/finetuning/door/AWAC_online_20250524100129/model_70.d3\u001b[0m\n",
      "\u001b[2m2025-05-24 10:01.32\u001b[0m [\u001b[32m\u001b[1minfo     \u001b[0m] \u001b[1mAWAC_online_20250524100129: epoch=7 step=70\u001b[0m \u001b[36mepoch\u001b[0m=\u001b[35m7\u001b[0m \u001b[36mmetrics\u001b[0m=\u001b[35m{'time_inference': 0.0001399517059326172, 'time_environment_step': 0.00021584033966064452, 'time_step': 0.00036513805389404297, 'evaluation': -41.24549850698368}\u001b[0m \u001b[36mstep\u001b[0m=\u001b[35m70\u001b[0m\n",
      "\u001b[2m2025-05-24 10:01.33\u001b[0m [\u001b[32m\u001b[1minfo     \u001b[0m] \u001b[1mModel parameters are saved to training_logs/finetuning/door/AWAC_online_20250524100129/model_80.d3\u001b[0m\n",
      "\u001b[2m2025-05-24 10:01.33\u001b[0m [\u001b[32m\u001b[1minfo     \u001b[0m] \u001b[1mAWAC_online_20250524100129: epoch=8 step=80\u001b[0m \u001b[36mepoch\u001b[0m=\u001b[35m8\u001b[0m \u001b[36mmetrics\u001b[0m=\u001b[35m{'time_inference': 0.00014791488647460937, 'time_environment_step': 0.0002100229263305664, 'time_step': 0.00036761760711669924, 'evaluation': -41.42172267795804}\u001b[0m \u001b[36mstep\u001b[0m=\u001b[35m80\u001b[0m\n",
      "\u001b[2m2025-05-24 10:01.33\u001b[0m [\u001b[32m\u001b[1minfo     \u001b[0m] \u001b[1mModel parameters are saved to training_logs/finetuning/door/AWAC_online_20250524100129/model_90.d3\u001b[0m\n",
      "\u001b[2m2025-05-24 10:01.33\u001b[0m [\u001b[32m\u001b[1minfo     \u001b[0m] \u001b[1mAWAC_online_20250524100129: epoch=9 step=90\u001b[0m \u001b[36mepoch\u001b[0m=\u001b[35m9\u001b[0m \u001b[36mmetrics\u001b[0m=\u001b[35m{'time_inference': 0.0001804351806640625, 'time_environment_step': 0.00023937225341796875, 'time_step': 0.00042979717254638673, 'evaluation': -40.95347699460061}\u001b[0m \u001b[36mstep\u001b[0m=\u001b[35m90\u001b[0m\n",
      "\u001b[2m2025-05-24 10:01.34\u001b[0m [\u001b[32m\u001b[1minfo     \u001b[0m] \u001b[1mModel parameters are saved to training_logs/finetuning/door/AWAC_online_20250524100129/model_100.d3\u001b[0m\n",
      "\u001b[2m2025-05-24 10:01.34\u001b[0m [\u001b[32m\u001b[1minfo     \u001b[0m] \u001b[1mAWAC_online_20250524100129: epoch=10 step=100\u001b[0m \u001b[36mepoch\u001b[0m=\u001b[35m10\u001b[0m \u001b[36mmetrics\u001b[0m=\u001b[35m{'time_inference': 0.00014400482177734375, 'time_environment_step': 0.00018928050994873046, 'time_step': 0.0003421783447265625, 'evaluation': -41.36621226819027}\u001b[0m \u001b[36mstep\u001b[0m=\u001b[35m100\u001b[0m\n"
     ]
    }
   ],
   "source": [
    "# Fine-tune the offline-trained policies for the Door task using online interaction\n",
    "finetune_algorithm(door_iql, door_env, 'door_iql', 'door')\n",
    "finetune_algorithm(door_cql, door_env, 'door_cql', 'door')\n",
    "finetune_algorithm(door_td3bc, door_env, 'door_td3bc', 'door')\n",
    "finetune_algorithm(door_awac, door_env, 'door_awac', 'door')"
   ]
  },
  {
   "cell_type": "code",
   "execution_count": null,
   "id": "fa2a8d0f-2008-438c-9f93-3760af0ea50b",
   "metadata": {},
   "outputs": [],
   "source": []
  }
 ],
 "metadata": {
  "kernelspec": {
   "display_name": "Python 3 (ipykernel)",
   "language": "python",
   "name": "python3"
  },
  "language_info": {
   "codemirror_mode": {
    "name": "ipython",
    "version": 3
   },
   "file_extension": ".py",
   "mimetype": "text/x-python",
   "name": "python",
   "nbconvert_exporter": "python",
   "pygments_lexer": "ipython3",
   "version": "3.10.16"
  }
 },
 "nbformat": 4,
 "nbformat_minor": 5
}

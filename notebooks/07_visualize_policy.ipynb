{
 "cells": [
  {
   "cell_type": "code",
   "execution_count": null,
   "id": "670c7dc8-7989-47b1-8766-9e9e434903cc",
   "metadata": {},
   "outputs": [],
   "source": [
    "import d3rlpy\n",
    "import minari\n",
    "import time\n",
    "import imageio\n",
    "import os "
   ]
  },
  {
   "cell_type": "markdown",
   "id": "e56ad063-b4ee-4afd-b7f8-a16c64ddf030",
   "metadata": {},
   "source": [
    "# Experiment to visualize"
   ]
  },
  {
   "cell_type": "code",
   "execution_count": null,
   "id": "1c390012-d22c-4b32-aaf7-59aa817d8c84",
   "metadata": {},
   "outputs": [],
   "source": [
    "experiment = 'online' # offline - finetuning - online\n",
    "task = 'hammer' # pen - relocate - hammer - door\n",
    "algorithm = 'CQL' # IQL - CQL - BC - TD3+BC - AWAC\n",
    "\n",
    "save_gif = True"
   ]
  },
  {
   "cell_type": "markdown",
   "id": "08900cd4-0353-4b78-85ab-e8822d3b2d6e",
   "metadata": {},
   "source": [
    "# Loading of datasets"
   ]
  },
  {
   "cell_type": "code",
   "execution_count": null,
   "id": "17be27c6-b42e-4225-b82e-0c5cf77a2d9f",
   "metadata": {},
   "outputs": [],
   "source": [
    "# Loading Minari datasets for the tasks\n",
    "pen_dataset = minari.load_dataset(\"D4RL/pen/expert-v2\")\n",
    "relocate_dataset = minari.load_dataset(\"D4RL/relocate/expert-v2\")\n",
    "hammer_dataset = minari.load_dataset(\"D4RL/hammer/expert-v2\")\n",
    "door_dataset = minari.load_dataset(\"D4RL/door/expert-v2\")"
   ]
  },
  {
   "cell_type": "markdown",
   "id": "f2e6a96e-8bec-4b42-be91-6f9f2e573dea",
   "metadata": {},
   "source": [
    "# Loading of policies"
   ]
  },
  {
   "cell_type": "markdown",
   "id": "7577290b-539e-49f5-9532-db5da2380462",
   "metadata": {},
   "source": [
    "### Pen"
   ]
  },
  {
   "cell_type": "code",
   "execution_count": null,
   "id": "12ef6f33-07f5-4e65-8062-bba55b641fcd",
   "metadata": {},
   "outputs": [],
   "source": [
    "policies_pen = {\n",
    "    \"IQL\": d3rlpy.load_learnable(f\"policies/{experiment}/pen_iql.d3\"),\n",
    "    \"CQL\": d3rlpy.load_learnable(f\"policies/{experiment}/pen_cql.d3\"),\n",
    "    \"TD3+BC\": d3rlpy.load_learnable(f\"policies/{experiment}/pen_td3bc.d3\"),\n",
    "    \"AWAC\": d3rlpy.load_learnable(f\"policies/{experiment}/pen_awac.d3\")\n",
    "}\n",
    "\n",
    "if experiment == 'offline':\n",
    "    policies_pen[\"BC\"] = d3rlpy.load_learnable(f\"policies/{experiment}/pen_bc.d3\")"
   ]
  },
  {
   "cell_type": "markdown",
   "id": "e5b1288f-abcd-4447-a127-12629b5fc6bf",
   "metadata": {},
   "source": [
    "### Relocate"
   ]
  },
  {
   "cell_type": "code",
   "execution_count": null,
   "id": "efde3510-7c65-4dfc-87c8-09b9d5c23b64",
   "metadata": {},
   "outputs": [],
   "source": [
    "policies_relocate = {\n",
    "    \"IQL\": d3rlpy.load_learnable(f\"policies/{experiment}/relocate_iql.d3\"),\n",
    "    \"CQL\": d3rlpy.load_learnable(f\"policies/{experiment}/relocate_cql.d3\"),\n",
    "    \"TD3+BC\": d3rlpy.load_learnable(f\"policies/{experiment}/relocate_td3bc.d3\"),\n",
    "    \"AWAC\": d3rlpy.load_learnable(f\"policies/{experiment}/relocate_awac.d3\")\n",
    "}\n",
    "\n",
    "if experiment == 'offline':\n",
    "    policies_relocate[\"BC\"] = d3rlpy.load_learnable(f\"policies/{experiment}/relocate_bc.d3\")"
   ]
  },
  {
   "cell_type": "markdown",
   "id": "a3ce8fb7-87d7-4b2a-839d-6891d3bcc44f",
   "metadata": {},
   "source": [
    "### Hammer"
   ]
  },
  {
   "cell_type": "code",
   "execution_count": null,
   "id": "a1994142-78ab-442a-858b-7a503d149709",
   "metadata": {},
   "outputs": [],
   "source": [
    "policies_hammer = {\n",
    "    \"IQL\": d3rlpy.load_learnable(f\"policies/{experiment}/hammer_iql.d3\"),\n",
    "    \"CQL\": d3rlpy.load_learnable(f\"policies/{experiment}/hammer_cql.d3\"),\n",
    "    \"TD3+BC\": d3rlpy.load_learnable(f\"policies/{experiment}/hammer_td3bc.d3\"),\n",
    "    \"AWAC\": d3rlpy.load_learnable(f\"policies/{experiment}/hammer_awac.d3\")\n",
    "}\n",
    "\n",
    "if experiment == 'offline':\n",
    "    policies_hammer[\"BC\"] = d3rlpy.load_learnable(f\"policies/{experiment}/hammer_bc.d3\")"
   ]
  },
  {
   "cell_type": "markdown",
   "id": "8dda47a4-3a15-4068-8ad1-0802292155d7",
   "metadata": {},
   "source": [
    "### Door"
   ]
  },
  {
   "cell_type": "code",
   "execution_count": null,
   "id": "a8d53f1c-68b1-4e1d-bbe9-f7d152e11421",
   "metadata": {},
   "outputs": [],
   "source": [
    "policies_door = {\n",
    "    \"IQL\": d3rlpy.load_learnable(f\"policies/{experiment}/door_iql.d3\"),\n",
    "    \"CQL\": d3rlpy.load_learnable(f\"policies/{experiment}/door_cql.d3\"),\n",
    "    \"TD3+BC\": d3rlpy.load_learnable(f\"policies/{experiment}/door_td3bc.d3\"),\n",
    "    \"AWAC\": d3rlpy.load_learnable(f\"policies/{experiment}/door_awac.d3\")\n",
    "}\n",
    "\n",
    "if experiment == 'offline':\n",
    "    policies_door[\"BC\"] = d3rlpy.load_learnable(f\"policies/{experiment}/door_bc.d3\")"
   ]
  },
  {
   "cell_type": "markdown",
   "id": "f355ae0d-13f7-4a56-89b0-0f137c662f92",
   "metadata": {},
   "source": [
    "# Visualization of policies"
   ]
  },
  {
   "cell_type": "code",
   "execution_count": null,
   "id": "da611eef-e419-44ec-8240-6ae6da85d050",
   "metadata": {},
   "outputs": [],
   "source": [
    "def visualize(env, policy):\n",
    "    obs, _ = env.reset()\n",
    "    done = False\n",
    "    total_reward = 0\n",
    "    frames = []\n",
    "\n",
    "    while not done:\n",
    "        action = policy.predict(obs[None])[0]\n",
    "        obs, reward, terminated, truncated, _ = env.step(action)\n",
    "        done = terminated or truncated\n",
    "        total_reward += reward\n",
    "\n",
    "        if save_gif:\n",
    "            frames.append(env.render())\n",
    "        else:\n",
    "            time.sleep(0.01)\n",
    "\n",
    "    env.close()\n",
    "\n",
    "    if save_gif:\n",
    "        gif_path = f'results/gifs/{task}_{experiment}_{algorithm}.gif'\n",
    "        os.makedirs(os.path.dirname(gif_path), exist_ok=True)\n",
    "        imageio.mimsave(gif_path, frames, duration=1/30)\n",
    "        print(f\"GIF saved to: {gif_path}\")\n",
    "\n",
    "    print(f\"Episode finished with return: {total_reward:.2f}\")"
   ]
  },
  {
   "cell_type": "code",
   "execution_count": null,
   "id": "e192cd95-f7d6-40d2-9f88-f4376517b5dd",
   "metadata": {},
   "outputs": [],
   "source": [
    "if save_gif:\n",
    "    render_mode = \"rgb_array\"\n",
    "else:\n",
    "    render_mode = \"human\"\n",
    "\n",
    "\n",
    "# Select environment and policy\n",
    "if task == 'pen':\n",
    "    env = pen_dataset.recover_environment(render_mode=render_mode)\n",
    "    policy = policies_pen[algorithm]\n",
    "elif task == 'relocate':\n",
    "    env = relocate_dataset.recover_environment(render_mode=render_mode)\n",
    "    policy = policies_relocate[algorithm]\n",
    "elif task == 'hammer':\n",
    "    env = hammer_dataset.recover_environment(render_mode=render_mode)\n",
    "    policy = policies_hammer[algorithm]\n",
    "elif task == 'door':\n",
    "    env = door_dataset.recover_environment(render_mode=render_mode)\n",
    "    policy = policies_door[algorithm]\n",
    "    \n",
    "visualize(env, policy)"
   ]
  },
  {
   "cell_type": "code",
   "execution_count": null,
   "id": "83499dbb-a17c-42cf-a929-1b6c9c4ce6ce",
   "metadata": {},
   "outputs": [],
   "source": []
  }
 ],
 "metadata": {
  "kernelspec": {
   "display_name": "Python 3 (ipykernel)",
   "language": "python",
   "name": "python3"
  },
  "language_info": {
   "codemirror_mode": {
    "name": "ipython",
    "version": 3
   },
   "file_extension": ".py",
   "mimetype": "text/x-python",
   "name": "python",
   "nbconvert_exporter": "python",
   "pygments_lexer": "ipython3",
   "version": "3.10.16"
  }
 },
 "nbformat": 4,
 "nbformat_minor": 5
}

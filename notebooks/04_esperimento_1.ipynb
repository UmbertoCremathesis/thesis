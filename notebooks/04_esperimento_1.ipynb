{
 "cells": [
  {
   "cell_type": "code",
   "execution_count": 17,
   "id": "72438a64-4379-473e-9bc0-dd0f06a9b7c4",
   "metadata": {},
   "outputs": [
    {
     "name": "stdout",
     "output_type": "stream",
     "text": [
      "d3rlpy version: 2.8.1\n",
      "PyTorch version: 2.6.0\n",
      "CUDA available: False\n"
     ]
    }
   ],
   "source": [
    "import minari\n",
    "import d3rlpy\n",
    "import numpy as np\n",
    "import os\n",
    "import torch\n",
    "import logging\n",
    "from datetime import datetime\n",
    "\n",
    "# Version checking\n",
    "print(f\"d3rlpy version: {d3rlpy.__version__}\")\n",
    "print(f\"PyTorch version: {torch.__version__}\")\n",
    "print(f\"CUDA available: {torch.cuda.is_available()}\")"
   ]
  },
  {
   "cell_type": "markdown",
   "id": "4d543f35-e505-4f18-adfc-ffb7e5c3b9cf",
   "metadata": {},
   "source": [
    "# Parameters of the experiments"
   ]
  },
  {
   "cell_type": "code",
   "execution_count": 18,
   "id": "66a8492c-8ebf-4166-97df-87cbd1ae56d8",
   "metadata": {},
   "outputs": [
    {
     "data": {
      "text/plain": [
       "<torch._C.Generator at 0x10948a7b0>"
      ]
     },
     "execution_count": 18,
     "metadata": {},
     "output_type": "execute_result"
    }
   ],
   "source": [
    "# Optimized parameters for A4000 16GB\n",
    "CONFIG = {\n",
    "    'training': {\n",
    "        'n_steps': 1_000_000,        # Proper training duration\n",
    "        'n_steps_per_epoch': 5_000,   # More frequent checkpoints\n",
    "        'batch_size': 1024,          # Optimize A4000 memory usage\n",
    "        'seed': 42\n",
    "    },\n",
    "    'evaluation': {\n",
    "        'n_episodes': 10,            # Faster evaluation\n",
    "        'eval_interval': 5_000       # Every epoch\n",
    "    },\n",
    "    'device': 'cuda',\n",
    "    'mixed_precision': True          # Memory optimization\n",
    "}\n",
    "\n",
    "# Set random seeds for reproducibility\n",
    "np.random.seed(CONFIG['training']['seed'])\n",
    "torch.manual_seed(CONFIG['training']['seed'])"
   ]
  },
  {
   "cell_type": "markdown",
   "id": "79bb298f-8fd0-46c8-8881-90d414555ab7",
   "metadata": {},
   "source": [
    "# Loading and preparation of datasets and environments"
   ]
  },
  {
   "cell_type": "code",
   "execution_count": 19,
   "id": "40102bbd-5f04-4e64-8f8d-43aa49c895d6",
   "metadata": {},
   "outputs": [],
   "source": [
    "# Load Minari datasets for Adroit manipulation tasks\n",
    "pen_dataset = minari.load_dataset(\"D4RL/pen/expert-v2\")\n",
    "relocate_dataset = minari.load_dataset(\"D4RL/relocate/expert-v2\")\n",
    "hammer_dataset = minari.load_dataset(\"D4RL/hammer/expert-v2\")\n",
    "door_dataset = minari.load_dataset(\"D4RL/door/expert-v2\")\n",
    "\n",
    "# Reconstruct the corresponding environments from each dataset\n",
    "pen_env = pen_dataset.recover_environment()\n",
    "relocate_env = relocate_dataset.recover_environment()\n",
    "hammer_env = hammer_dataset.recover_environment()\n",
    "door_env = door_dataset.recover_environment()"
   ]
  },
  {
   "cell_type": "code",
   "execution_count": 20,
   "id": "86ed1890-f7e6-41d5-a96f-d80921c10d63",
   "metadata": {},
   "outputs": [],
   "source": [
    "def prepare_d3_dataset(minari_dataset):\n",
    "    # Lists to collect observations, actions, rewards, and terminals from all episodes\n",
    "    observations = []\n",
    "    actions = []\n",
    "    rewards = []\n",
    "    terminals = []\n",
    "\n",
    "    # Iterate over episodes in the Minari dataset\n",
    "    for episode in minari_dataset.iterate_episodes():\n",
    "        # Extract sequences of data, removing the last observation\n",
    "        obs = episode.observations[:-1]\n",
    "        actions_ep = episode.actions\n",
    "        rewards_ep = episode.rewards\n",
    "        dones = np.array(episode.terminations) | np.array(episode.truncations)\n",
    "\n",
    "        observations.append(obs)\n",
    "        actions.append(actions_ep)\n",
    "        rewards.append(rewards_ep)\n",
    "        terminals.append(dones)\n",
    "\n",
    "    # Merge all episodes into single arrays\n",
    "    observations = np.concatenate(observations)\n",
    "    actions = np.concatenate(actions)\n",
    "    rewards = np.concatenate(rewards)\n",
    "    terminals = np.concatenate(terminals)\n",
    "\n",
    "    # Build the final dataset in d3rlpy's MDPDataset format\n",
    "    d3_dataset = d3rlpy.datasets.MDPDataset(\n",
    "        observations=observations,\n",
    "        actions=actions,\n",
    "        rewards=rewards,\n",
    "        terminals=terminals,\n",
    "        action_space=d3rlpy.constants.ActionSpace.CONTINUOUS\n",
    "    )\n",
    "\n",
    "    return d3_dataset"
   ]
  },
  {
   "cell_type": "code",
   "execution_count": 21,
   "id": "88ab0b4f-4532-407e-a769-dcb6331818a6",
   "metadata": {
    "scrolled": true
   },
   "outputs": [
    {
     "name": "stdout",
     "output_type": "stream",
     "text": [
      "\u001b[2m2025-06-20 09:44.41\u001b[0m [\u001b[32m\u001b[1minfo     \u001b[0m] \u001b[1mSignatures have been automatically determined.\u001b[0m \u001b[36maction_signature\u001b[0m=\u001b[35mSignature(dtype=[dtype('float32')], shape=[(24,)])\u001b[0m \u001b[36mobservation_signature\u001b[0m=\u001b[35mSignature(dtype=[dtype('float64')], shape=[(45,)])\u001b[0m \u001b[36mreward_signature\u001b[0m=\u001b[35mSignature(dtype=[dtype('float64')], shape=[(1,)])\u001b[0m\n",
      "\u001b[2m2025-06-20 09:44.41\u001b[0m [\u001b[32m\u001b[1minfo     \u001b[0m] \u001b[1mAction size has been automatically determined.\u001b[0m \u001b[36maction_size\u001b[0m=\u001b[35m24\u001b[0m\n",
      "\u001b[2m2025-06-20 09:44.44\u001b[0m [\u001b[32m\u001b[1minfo     \u001b[0m] \u001b[1mSignatures have been automatically determined.\u001b[0m \u001b[36maction_signature\u001b[0m=\u001b[35mSignature(dtype=[dtype('float32')], shape=[(30,)])\u001b[0m \u001b[36mobservation_signature\u001b[0m=\u001b[35mSignature(dtype=[dtype('float64')], shape=[(39,)])\u001b[0m \u001b[36mreward_signature\u001b[0m=\u001b[35mSignature(dtype=[dtype('float64')], shape=[(1,)])\u001b[0m\n",
      "\u001b[2m2025-06-20 09:44.44\u001b[0m [\u001b[32m\u001b[1minfo     \u001b[0m] \u001b[1mAction size has been automatically determined.\u001b[0m \u001b[36maction_size\u001b[0m=\u001b[35m30\u001b[0m\n",
      "\u001b[2m2025-06-20 09:44.47\u001b[0m [\u001b[32m\u001b[1minfo     \u001b[0m] \u001b[1mSignatures have been automatically determined.\u001b[0m \u001b[36maction_signature\u001b[0m=\u001b[35mSignature(dtype=[dtype('float32')], shape=[(26,)])\u001b[0m \u001b[36mobservation_signature\u001b[0m=\u001b[35mSignature(dtype=[dtype('float64')], shape=[(46,)])\u001b[0m \u001b[36mreward_signature\u001b[0m=\u001b[35mSignature(dtype=[dtype('float64')], shape=[(1,)])\u001b[0m\n",
      "\u001b[2m2025-06-20 09:44.47\u001b[0m [\u001b[32m\u001b[1minfo     \u001b[0m] \u001b[1mAction size has been automatically determined.\u001b[0m \u001b[36maction_size\u001b[0m=\u001b[35m26\u001b[0m\n",
      "\u001b[2m2025-06-20 09:44.51\u001b[0m [\u001b[32m\u001b[1minfo     \u001b[0m] \u001b[1mSignatures have been automatically determined.\u001b[0m \u001b[36maction_signature\u001b[0m=\u001b[35mSignature(dtype=[dtype('float32')], shape=[(28,)])\u001b[0m \u001b[36mobservation_signature\u001b[0m=\u001b[35mSignature(dtype=[dtype('float64')], shape=[(39,)])\u001b[0m \u001b[36mreward_signature\u001b[0m=\u001b[35mSignature(dtype=[dtype('float64')], shape=[(1,)])\u001b[0m\n",
      "\u001b[2m2025-06-20 09:44.51\u001b[0m [\u001b[32m\u001b[1minfo     \u001b[0m] \u001b[1mAction size has been automatically determined.\u001b[0m \u001b[36maction_size\u001b[0m=\u001b[35m28\u001b[0m\n"
     ]
    }
   ],
   "source": [
    "# Conversion of Minari datasets into MDPDataset format for training\n",
    "pen_d3_dataset = prepare_d3_dataset(pen_dataset)\n",
    "relocate_d3_dataset = prepare_d3_dataset(relocate_dataset)\n",
    "hammer_d3_dataset = prepare_d3_dataset(hammer_dataset)\n",
    "door_d3_dataset = prepare_d3_dataset(door_dataset)"
   ]
  },
  {
   "cell_type": "markdown",
   "id": "cde93b8d-d214-4bbc-becf-79f2bb61d097",
   "metadata": {},
   "source": [
    "# Creation of folders for policies and logs"
   ]
  },
  {
   "cell_type": "code",
   "execution_count": 22,
   "id": "2270f575-a39b-4b5e-9b3c-7ee6a4720837",
   "metadata": {},
   "outputs": [
    {
     "name": "stdout",
     "output_type": "stream",
     "text": [
      "Already exists: policies/offline\n",
      "Already exists: training_logs/offline/pen\n",
      "Already exists: training_logs/offline/relocate\n",
      "Already exists: training_logs/offline/hammer\n",
      "Already exists: training_logs/offline/door\n"
     ]
    }
   ],
   "source": [
    "# Create policies/offline\n",
    "policies_path = os.path.join(\"policies\", \"offline\")\n",
    "if not os.path.exists(policies_path):\n",
    "    os.makedirs(policies_path)\n",
    "    print(f\"Created: {policies_path}\")\n",
    "else:\n",
    "    print(f\"Already exists: {policies_path}\")\n",
    "\n",
    "# Create training_logs/offline/{task}\n",
    "training_base = os.path.join(\"training_logs\", \"offline\")\n",
    "task_dirs = [\"pen\", \"relocate\", \"hammer\", \"door\"]\n",
    "\n",
    "for task in task_dirs:\n",
    "    task_path = os.path.join(training_base, task)\n",
    "    if not os.path.exists(task_path):\n",
    "        os.makedirs(task_path)\n",
    "        print(f\"Created: {task_path}\")\n",
    "    else:\n",
    "        print(f\"Already exists: {task_path}\")"
   ]
  },
  {
   "cell_type": "markdown",
   "id": "7ac15350-0834-4602-9eb4-08fe25f3bed2",
   "metadata": {},
   "source": [
    "# Training Algorithm"
   ]
  },
  {
   "cell_type": "code",
   "execution_count": 23,
   "id": "4ebcf0be-cf05-421a-ac82-f7c48ca6e10d",
   "metadata": {},
   "outputs": [],
   "source": [
    "def train_offline_algorithm(config_class, dataset, env, filename, task):\n",
    "    config = config_class()\n",
    "    algo_name = type(config).__name__.replace('Config', '')\n",
    "\n",
    "    # hyperparameters based on literature\n",
    "    hyperparams = {\n",
    "        'IQLConfig': {\n",
    "            'expectile': 0.8,  # Higher for expert data\n",
    "            'weight_temp': 10.0,  # Higher for more focused weighting\n",
    "            'max_weight': 100.0,\n",
    "            'actor_learning_rate': 3e-4,\n",
    "            'critic_learning_rate': 3e-4\n",
    "        },\n",
    "        'CQLConfig': {\n",
    "            'conservative_weight': 10.0,  # Higher for expert data\n",
    "            'initial_alpha': 1.0,\n",
    "            'soft_q_backup': True,\n",
    "            'actor_learning_rate': 1e-4,\n",
    "            'critic_learning_rate': 3e-4\n",
    "        },\n",
    "        'TD3PlusBCConfig': {\n",
    "            'alpha': 2.5,\n",
    "            'actor_learning_rate': 3e-4,  # Consistent learning rates\n",
    "            'critic_learning_rate': 3e-4,\n",
    "            'target_smoothing_sigma': 0.2,\n",
    "            'target_smoothing_clip': 0.5\n",
    "        },\n",
    "        'BCConfig': {\n",
    "            'learning_rate': 1e-3,  # Higher for BC\n",
    "            'policy_type': 'stochastic'  # Better for expert data\n",
    "        },\n",
    "        'AWACConfig': {\n",
    "            'lam': 1.0,  # Higher for expert data\n",
    "            'actor_learning_rate': 3e-4,\n",
    "            'critic_learning_rate': 3e-4\n",
    "        }\n",
    "    }\n",
    "\n",
    "    if type(config).__name__ in hyperparams:\n",
    "        for key, value in hyperparams[type(config).__name__].items():\n",
    "            setattr(config, key, value)\n",
    "\n",
    "    config.observation_scaler = d3rlpy.preprocessing.StandardObservationScaler()\n",
    "    config.batch_size = CONFIG['training']['batch_size']\n",
    "    config.use_gpu = (CONFIG['device'] == 'cuda')\n",
    "\n",
    "    # Ora si può creare l'algoritmo con device e seed\n",
    "    algo = config.create(device=\"cpu\")\n",
    "\n",
    "    algo.build_with_dataset(dataset)\n",
    "\n",
    "    try:\n",
    "        algo.fit(\n",
    "            dataset=dataset,\n",
    "            n_steps=CONFIG['training']['n_steps'],\n",
    "            n_steps_per_epoch=CONFIG['training']['n_steps_per_epoch'],\n",
    "            evaluators={\"environment\": d3rlpy.metrics.EnvironmentEvaluator(env, n_trials=CONFIG['evaluation']['n_episodes'])},\n",
    "            logger_adapter=d3rlpy.logging.FileAdapterFactory(root_dir=f\"training_logs/offline/{task}\"),\n",
    "            show_progress=True\n",
    "        )\n",
    "        algo.save(f'policies/offline/{filename}.d3')\n",
    "    except Exception as e:\n",
    "        print(f\"Training failed for {algo_name} on {task}: {e}\")\n",
    "        return None"
   ]
  },
  {
   "cell_type": "markdown",
   "id": "ecfe1cf6-92e4-46a3-a51c-1ccd7b27c9d2",
   "metadata": {},
   "source": [
    "# Policy training"
   ]
  },
  {
   "cell_type": "markdown",
   "id": "3bc78564-90cf-4774-a7bf-08f67d7af657",
   "metadata": {},
   "source": [
    "### Door"
   ]
  },
  {
   "cell_type": "code",
   "execution_count": 28,
   "id": "01f31132-f5a5-4770-a0c6-7af8ec16668c",
   "metadata": {
    "scrolled": true
   },
   "outputs": [
    {
     "name": "stdout",
     "output_type": "stream",
     "text": [
      "\u001b[2m2025-06-20 09:46.33\u001b[0m [\u001b[32m\u001b[1minfo     \u001b[0m] \u001b[1mdataset info                  \u001b[0m \u001b[36mdataset_info\u001b[0m=\u001b[35mDatasetInfo(observation_signature=Signature(dtype=[dtype('float64')], shape=[(39,)]), action_signature=Signature(dtype=[dtype('float32')], shape=[(28,)]), reward_signature=Signature(dtype=[dtype('float64')], shape=[(1,)]), action_space=<ActionSpace.CONTINUOUS: 1>, action_size=28)\u001b[0m\n",
      "\u001b[2m2025-06-20 09:46.33\u001b[0m [\u001b[32m\u001b[1mdebug    \u001b[0m] \u001b[1mFitting observation scaler... \u001b[0m \u001b[36mobservation_scaler\u001b[0m=\u001b[35mstandard\u001b[0m\n",
      "\u001b[2m2025-06-20 09:46.37\u001b[0m [\u001b[33m\u001b[1mwarning  \u001b[0m] \u001b[1mSkip building models since they're already built.\u001b[0m\n",
      "\u001b[2m2025-06-20 09:46.37\u001b[0m [\u001b[32m\u001b[1minfo     \u001b[0m] \u001b[1mDirectory is created at training_logs/offline/door/AWAC_20250620094637\u001b[0m\n",
      "\u001b[2m2025-06-20 09:46.37\u001b[0m [\u001b[32m\u001b[1minfo     \u001b[0m] \u001b[1mParameters                    \u001b[0m \u001b[36mparams\u001b[0m=\u001b[35m{'observation_shape': [39], 'action_size': 28, 'config': {'type': 'awac', 'params': {'batch_size': 1024, 'gamma': 0.99, 'observation_scaler': {'type': 'standard', 'params': {'mean': [-0.0011907210252678387, -0.5450183454365953, 1.006654858720446, 0.09647306370795228, -0.14110661986911488, 0.03146511174802109, 0.6361151788752907, 0.2378518649604106, 0.2220622680868836, 0.12726633267095672, 0.43513734970939477, 0.30770256973481375, 0.27210865917777327, -0.018792938446561068, 0.4479916675764094, 0.35610825651784894, 0.3424905983328087, 0.0906626096342122, -0.1363796528869781, 0.3086059837656409, 0.427350246987648, 0.39618340068433205, 0.07593559537422223, 0.9490690628237147, 0.19073028505595405, -0.352308930986877, -0.4968869347311252, 1.4258418518175837, 1.154469050868798, 0.22147481628054327, -0.24396765600503076, 0.20002937552238742, 0.3507971531377526, -0.11252294952325306, 0.14883220269029346, -0.1293223368573755, -0.131444706481756, 0.05119717283217798, 0.480574], 'std': [0.13103078530222284, 0.2972823588363032, 0.48188015058731737, 0.0760051487780926, 0.2300011996010253, 0.14417377559443756, 0.24690015963120981, 0.2507240113260007, 0.30288852304947134, 0.16129476160126505, 0.3129146746151322, 0.15180386246570526, 0.21509193271308305, 0.17444118908347117, 0.24640280677620502, 0.21414996380463644, 0.26000822196152734, 0.09325243858427645, 0.1803867137831755, 0.21287763965731812, 0.23796970614001656, 0.3285939257380594, 0.338545876860101, 0.22381564682035004, 0.05192498772830055, 0.10455835108149024, 0.2775583957747972, 0.5748897536222572, 0.6046790693676387, 0.14105377731156032, 0.1616217122183705, 0.04573593993281055, 0.20392037019503303, 0.13310211075321926, 0.054736386856927874, 0.08732449361495544, 0.0826997104873076, 0.049701166514227575, 0.8769541781294456], 'eps': 0.001}}, 'action_scaler': {'type': 'none', 'params': {}}, 'reward_scaler': {'type': 'none', 'params': {}}, 'compile_graph': False, 'actor_learning_rate': 0.0003, 'critic_learning_rate': 0.0003, 'actor_optim_factory': {'type': 'adam', 'params': {'clip_grad_norm': None, 'lr_scheduler_factory': {'type': 'none', 'params': {}}, 'betas': [0.9, 0.999], 'eps': 1e-08, 'weight_decay': 0, 'amsgrad': False}}, 'critic_optim_factory': {'type': 'adam', 'params': {'clip_grad_norm': None, 'lr_scheduler_factory': {'type': 'none', 'params': {}}, 'betas': [0.9, 0.999], 'eps': 1e-08, 'weight_decay': 0, 'amsgrad': False}}, 'actor_encoder_factory': {'type': 'default', 'params': {'activation': 'relu', 'use_batch_norm': False, 'dropout_rate': None}}, 'critic_encoder_factory': {'type': 'default', 'params': {'activation': 'relu', 'use_batch_norm': False, 'dropout_rate': None}}, 'q_func_factory': {'type': 'mean', 'params': {'share_encoder': False}}, 'tau': 0.005, 'lam': 1.0, 'n_action_samples': 1, 'n_critics': 2}}}\u001b[0m\n"
     ]
    },
    {
     "data": {
      "application/vnd.jupyter.widget-view+json": {
       "model_id": "490bfec043a34610a7a374c076989e91",
       "version_major": 2,
       "version_minor": 0
      },
      "text/plain": [
       "Epoch 1/200:   0%|          | 0/5000 [00:00<?, ?it/s]"
      ]
     },
     "metadata": {},
     "output_type": "display_data"
    },
    {
     "ename": "KeyboardInterrupt",
     "evalue": "",
     "output_type": "error",
     "traceback": [
      "\u001b[0;31m---------------------------------------------------------------------------\u001b[0m",
      "\u001b[0;31mKeyboardInterrupt\u001b[0m                         Traceback (most recent call last)",
      "Cell \u001b[0;32mIn[28], line 6\u001b[0m\n\u001b[1;32m      1\u001b[0m \u001b[38;5;66;03m# Train each offline RL algorithm on the Door task using the D3RLpy configuration interface\u001b[39;00m\n\u001b[1;32m      2\u001b[0m \u001b[38;5;66;03m#train_offline_algorithm(d3rlpy.algos.IQLConfig, door_d3_dataset, door_env, 'door_iql', 'door')\u001b[39;00m\n\u001b[1;32m      3\u001b[0m \u001b[38;5;66;03m#train_offline_algorithm(d3rlpy.algos.CQLConfig, door_d3_dataset, door_env, 'door_cql', 'door')\u001b[39;00m\n\u001b[1;32m      4\u001b[0m \u001b[38;5;66;03m#train_offline_algorithm(d3rlpy.algos.TD3PlusBCConfig, door_d3_dataset, door_env, 'door_td3bc', 'door')\u001b[39;00m\n\u001b[1;32m      5\u001b[0m \u001b[38;5;66;03m#train_offline_algorithm(d3rlpy.algos.BCConfig, door_d3_dataset, door_env, 'door_bc', 'door')\u001b[39;00m\n\u001b[0;32m----> 6\u001b[0m \u001b[43mtrain_offline_algorithm\u001b[49m\u001b[43m(\u001b[49m\u001b[43md3rlpy\u001b[49m\u001b[38;5;241;43m.\u001b[39;49m\u001b[43malgos\u001b[49m\u001b[38;5;241;43m.\u001b[39;49m\u001b[43mAWACConfig\u001b[49m\u001b[43m,\u001b[49m\u001b[43m \u001b[49m\u001b[43mdoor_d3_dataset\u001b[49m\u001b[43m,\u001b[49m\u001b[43m \u001b[49m\u001b[43mdoor_env\u001b[49m\u001b[43m,\u001b[49m\u001b[43m \u001b[49m\u001b[38;5;124;43m'\u001b[39;49m\u001b[38;5;124;43mdoor_awac\u001b[39;49m\u001b[38;5;124;43m'\u001b[39;49m\u001b[43m,\u001b[49m\u001b[43m \u001b[49m\u001b[38;5;124;43m'\u001b[39;49m\u001b[38;5;124;43mdoor\u001b[39;49m\u001b[38;5;124;43m'\u001b[39;49m\u001b[43m)\u001b[49m\n",
      "Cell \u001b[0;32mIn[23], line 53\u001b[0m, in \u001b[0;36mtrain_offline_algorithm\u001b[0;34m(config_class, dataset, env, filename, task)\u001b[0m\n\u001b[1;32m     50\u001b[0m algo\u001b[38;5;241m.\u001b[39mbuild_with_dataset(dataset)\n\u001b[1;32m     52\u001b[0m \u001b[38;5;28;01mtry\u001b[39;00m:\n\u001b[0;32m---> 53\u001b[0m     \u001b[43malgo\u001b[49m\u001b[38;5;241;43m.\u001b[39;49m\u001b[43mfit\u001b[49m\u001b[43m(\u001b[49m\n\u001b[1;32m     54\u001b[0m \u001b[43m        \u001b[49m\u001b[43mdataset\u001b[49m\u001b[38;5;241;43m=\u001b[39;49m\u001b[43mdataset\u001b[49m\u001b[43m,\u001b[49m\n\u001b[1;32m     55\u001b[0m \u001b[43m        \u001b[49m\u001b[43mn_steps\u001b[49m\u001b[38;5;241;43m=\u001b[39;49m\u001b[43mCONFIG\u001b[49m\u001b[43m[\u001b[49m\u001b[38;5;124;43m'\u001b[39;49m\u001b[38;5;124;43mtraining\u001b[39;49m\u001b[38;5;124;43m'\u001b[39;49m\u001b[43m]\u001b[49m\u001b[43m[\u001b[49m\u001b[38;5;124;43m'\u001b[39;49m\u001b[38;5;124;43mn_steps\u001b[39;49m\u001b[38;5;124;43m'\u001b[39;49m\u001b[43m]\u001b[49m\u001b[43m,\u001b[49m\n\u001b[1;32m     56\u001b[0m \u001b[43m        \u001b[49m\u001b[43mn_steps_per_epoch\u001b[49m\u001b[38;5;241;43m=\u001b[39;49m\u001b[43mCONFIG\u001b[49m\u001b[43m[\u001b[49m\u001b[38;5;124;43m'\u001b[39;49m\u001b[38;5;124;43mtraining\u001b[39;49m\u001b[38;5;124;43m'\u001b[39;49m\u001b[43m]\u001b[49m\u001b[43m[\u001b[49m\u001b[38;5;124;43m'\u001b[39;49m\u001b[38;5;124;43mn_steps_per_epoch\u001b[39;49m\u001b[38;5;124;43m'\u001b[39;49m\u001b[43m]\u001b[49m\u001b[43m,\u001b[49m\n\u001b[1;32m     57\u001b[0m \u001b[43m        \u001b[49m\u001b[43mevaluators\u001b[49m\u001b[38;5;241;43m=\u001b[39;49m\u001b[43m{\u001b[49m\u001b[38;5;124;43m\"\u001b[39;49m\u001b[38;5;124;43menvironment\u001b[39;49m\u001b[38;5;124;43m\"\u001b[39;49m\u001b[43m:\u001b[49m\u001b[43m \u001b[49m\u001b[43md3rlpy\u001b[49m\u001b[38;5;241;43m.\u001b[39;49m\u001b[43mmetrics\u001b[49m\u001b[38;5;241;43m.\u001b[39;49m\u001b[43mEnvironmentEvaluator\u001b[49m\u001b[43m(\u001b[49m\u001b[43menv\u001b[49m\u001b[43m,\u001b[49m\u001b[43m \u001b[49m\u001b[43mn_trials\u001b[49m\u001b[38;5;241;43m=\u001b[39;49m\u001b[43mCONFIG\u001b[49m\u001b[43m[\u001b[49m\u001b[38;5;124;43m'\u001b[39;49m\u001b[38;5;124;43mevaluation\u001b[39;49m\u001b[38;5;124;43m'\u001b[39;49m\u001b[43m]\u001b[49m\u001b[43m[\u001b[49m\u001b[38;5;124;43m'\u001b[39;49m\u001b[38;5;124;43mn_episodes\u001b[39;49m\u001b[38;5;124;43m'\u001b[39;49m\u001b[43m]\u001b[49m\u001b[43m)\u001b[49m\u001b[43m}\u001b[49m\u001b[43m,\u001b[49m\n\u001b[1;32m     58\u001b[0m \u001b[43m        \u001b[49m\u001b[43mlogger_adapter\u001b[49m\u001b[38;5;241;43m=\u001b[39;49m\u001b[43md3rlpy\u001b[49m\u001b[38;5;241;43m.\u001b[39;49m\u001b[43mlogging\u001b[49m\u001b[38;5;241;43m.\u001b[39;49m\u001b[43mFileAdapterFactory\u001b[49m\u001b[43m(\u001b[49m\u001b[43mroot_dir\u001b[49m\u001b[38;5;241;43m=\u001b[39;49m\u001b[38;5;124;43mf\u001b[39;49m\u001b[38;5;124;43m\"\u001b[39;49m\u001b[38;5;124;43mtraining_logs/offline/\u001b[39;49m\u001b[38;5;132;43;01m{\u001b[39;49;00m\u001b[43mtask\u001b[49m\u001b[38;5;132;43;01m}\u001b[39;49;00m\u001b[38;5;124;43m\"\u001b[39;49m\u001b[43m)\u001b[49m\u001b[43m,\u001b[49m\n\u001b[1;32m     59\u001b[0m \u001b[43m        \u001b[49m\u001b[43mshow_progress\u001b[49m\u001b[38;5;241;43m=\u001b[39;49m\u001b[38;5;28;43;01mTrue\u001b[39;49;00m\n\u001b[1;32m     60\u001b[0m \u001b[43m    \u001b[49m\u001b[43m)\u001b[49m\n\u001b[1;32m     61\u001b[0m     algo\u001b[38;5;241m.\u001b[39msave(\u001b[38;5;124mf\u001b[39m\u001b[38;5;124m'\u001b[39m\u001b[38;5;124mpolicies/offline/\u001b[39m\u001b[38;5;132;01m{\u001b[39;00mfilename\u001b[38;5;132;01m}\u001b[39;00m\u001b[38;5;124m.d3\u001b[39m\u001b[38;5;124m'\u001b[39m)\n\u001b[1;32m     62\u001b[0m \u001b[38;5;28;01mexcept\u001b[39;00m \u001b[38;5;167;01mException\u001b[39;00m \u001b[38;5;28;01mas\u001b[39;00m e:\n",
      "File \u001b[0;32m~/anaconda3/envs/thesis-env/lib/python3.10/site-packages/d3rlpy/algos/qlearning/base.py:417\u001b[0m, in \u001b[0;36mQLearningAlgoBase.fit\u001b[0;34m(self, dataset, n_steps, n_steps_per_epoch, experiment_name, with_timestamp, logging_steps, logging_strategy, logger_adapter, show_progress, save_interval, evaluators, callback, epoch_callback)\u001b[0m\n\u001b[1;32m    370\u001b[0m \u001b[38;5;28;01mdef\u001b[39;00m \u001b[38;5;21mfit\u001b[39m(\n\u001b[1;32m    371\u001b[0m     \u001b[38;5;28mself\u001b[39m,\n\u001b[1;32m    372\u001b[0m     dataset: ReplayBufferBase,\n\u001b[0;32m   (...)\u001b[0m\n\u001b[1;32m    384\u001b[0m     epoch_callback: Optional[Callable[[Self, \u001b[38;5;28mint\u001b[39m, \u001b[38;5;28mint\u001b[39m], \u001b[38;5;28;01mNone\u001b[39;00m]] \u001b[38;5;241m=\u001b[39m \u001b[38;5;28;01mNone\u001b[39;00m,\n\u001b[1;32m    385\u001b[0m ) \u001b[38;5;241m-\u001b[39m\u001b[38;5;241m>\u001b[39m \u001b[38;5;28mlist\u001b[39m[\u001b[38;5;28mtuple\u001b[39m[\u001b[38;5;28mint\u001b[39m, \u001b[38;5;28mdict\u001b[39m[\u001b[38;5;28mstr\u001b[39m, \u001b[38;5;28mfloat\u001b[39m]]]:\n\u001b[1;32m    386\u001b[0m \u001b[38;5;250m    \u001b[39m\u001b[38;5;124;03m\"\"\"Trains with given dataset.\u001b[39;00m\n\u001b[1;32m    387\u001b[0m \n\u001b[1;32m    388\u001b[0m \u001b[38;5;124;03m    .. code-block:: python\u001b[39;00m\n\u001b[0;32m   (...)\u001b[0m\n\u001b[1;32m    415\u001b[0m \u001b[38;5;124;03m        List of result tuples (epoch, metrics) per epoch.\u001b[39;00m\n\u001b[1;32m    416\u001b[0m \u001b[38;5;124;03m    \"\"\"\u001b[39;00m\n\u001b[0;32m--> 417\u001b[0m     results \u001b[38;5;241m=\u001b[39m \u001b[38;5;28;43mlist\u001b[39;49m\u001b[43m(\u001b[49m\n\u001b[1;32m    418\u001b[0m \u001b[43m        \u001b[49m\u001b[38;5;28;43mself\u001b[39;49m\u001b[38;5;241;43m.\u001b[39;49m\u001b[43mfitter\u001b[49m\u001b[43m(\u001b[49m\n\u001b[1;32m    419\u001b[0m \u001b[43m            \u001b[49m\u001b[43mdataset\u001b[49m\u001b[38;5;241;43m=\u001b[39;49m\u001b[43mdataset\u001b[49m\u001b[43m,\u001b[49m\n\u001b[1;32m    420\u001b[0m \u001b[43m            \u001b[49m\u001b[43mn_steps\u001b[49m\u001b[38;5;241;43m=\u001b[39;49m\u001b[43mn_steps\u001b[49m\u001b[43m,\u001b[49m\n\u001b[1;32m    421\u001b[0m \u001b[43m            \u001b[49m\u001b[43mn_steps_per_epoch\u001b[49m\u001b[38;5;241;43m=\u001b[39;49m\u001b[43mn_steps_per_epoch\u001b[49m\u001b[43m,\u001b[49m\n\u001b[1;32m    422\u001b[0m \u001b[43m            \u001b[49m\u001b[43mexperiment_name\u001b[49m\u001b[38;5;241;43m=\u001b[39;49m\u001b[43mexperiment_name\u001b[49m\u001b[43m,\u001b[49m\n\u001b[1;32m    423\u001b[0m \u001b[43m            \u001b[49m\u001b[43mwith_timestamp\u001b[49m\u001b[38;5;241;43m=\u001b[39;49m\u001b[43mwith_timestamp\u001b[49m\u001b[43m,\u001b[49m\n\u001b[1;32m    424\u001b[0m \u001b[43m            \u001b[49m\u001b[43mlogging_steps\u001b[49m\u001b[38;5;241;43m=\u001b[39;49m\u001b[43mlogging_steps\u001b[49m\u001b[43m,\u001b[49m\n\u001b[1;32m    425\u001b[0m \u001b[43m            \u001b[49m\u001b[43mlogging_strategy\u001b[49m\u001b[38;5;241;43m=\u001b[39;49m\u001b[43mlogging_strategy\u001b[49m\u001b[43m,\u001b[49m\n\u001b[1;32m    426\u001b[0m \u001b[43m            \u001b[49m\u001b[43mlogger_adapter\u001b[49m\u001b[38;5;241;43m=\u001b[39;49m\u001b[43mlogger_adapter\u001b[49m\u001b[43m,\u001b[49m\n\u001b[1;32m    427\u001b[0m \u001b[43m            \u001b[49m\u001b[43mshow_progress\u001b[49m\u001b[38;5;241;43m=\u001b[39;49m\u001b[43mshow_progress\u001b[49m\u001b[43m,\u001b[49m\n\u001b[1;32m    428\u001b[0m \u001b[43m            \u001b[49m\u001b[43msave_interval\u001b[49m\u001b[38;5;241;43m=\u001b[39;49m\u001b[43msave_interval\u001b[49m\u001b[43m,\u001b[49m\n\u001b[1;32m    429\u001b[0m \u001b[43m            \u001b[49m\u001b[43mevaluators\u001b[49m\u001b[38;5;241;43m=\u001b[39;49m\u001b[43mevaluators\u001b[49m\u001b[43m,\u001b[49m\n\u001b[1;32m    430\u001b[0m \u001b[43m            \u001b[49m\u001b[43mcallback\u001b[49m\u001b[38;5;241;43m=\u001b[39;49m\u001b[43mcallback\u001b[49m\u001b[43m,\u001b[49m\n\u001b[1;32m    431\u001b[0m \u001b[43m            \u001b[49m\u001b[43mepoch_callback\u001b[49m\u001b[38;5;241;43m=\u001b[39;49m\u001b[43mepoch_callback\u001b[49m\u001b[43m,\u001b[49m\n\u001b[1;32m    432\u001b[0m \u001b[43m        \u001b[49m\u001b[43m)\u001b[49m\n\u001b[1;32m    433\u001b[0m \u001b[43m    \u001b[49m\u001b[43m)\u001b[49m\n\u001b[1;32m    434\u001b[0m     \u001b[38;5;28;01mreturn\u001b[39;00m results\n",
      "File \u001b[0;32m~/anaconda3/envs/thesis-env/lib/python3.10/site-packages/d3rlpy/algos/qlearning/base.py:545\u001b[0m, in \u001b[0;36mQLearningAlgoBase.fitter\u001b[0;34m(self, dataset, n_steps, n_steps_per_epoch, logging_steps, logging_strategy, experiment_name, with_timestamp, logger_adapter, show_progress, save_interval, evaluators, callback, epoch_callback)\u001b[0m\n\u001b[1;32m    543\u001b[0m \u001b[38;5;66;03m# update parameters\u001b[39;00m\n\u001b[1;32m    544\u001b[0m \u001b[38;5;28;01mwith\u001b[39;00m logger\u001b[38;5;241m.\u001b[39mmeasure_time(\u001b[38;5;124m\"\u001b[39m\u001b[38;5;124malgorithm_update\u001b[39m\u001b[38;5;124m\"\u001b[39m):\n\u001b[0;32m--> 545\u001b[0m     loss \u001b[38;5;241m=\u001b[39m \u001b[38;5;28;43mself\u001b[39;49m\u001b[38;5;241;43m.\u001b[39;49m\u001b[43mupdate\u001b[49m\u001b[43m(\u001b[49m\u001b[43mbatch\u001b[49m\u001b[43m)\u001b[49m\n\u001b[1;32m    547\u001b[0m \u001b[38;5;66;03m# record metrics\u001b[39;00m\n\u001b[1;32m    548\u001b[0m \u001b[38;5;28;01mfor\u001b[39;00m name, val \u001b[38;5;129;01min\u001b[39;00m loss\u001b[38;5;241m.\u001b[39mitems():\n",
      "File \u001b[0;32m~/anaconda3/envs/thesis-env/lib/python3.10/site-packages/d3rlpy/algos/qlearning/base.py:878\u001b[0m, in \u001b[0;36mQLearningAlgoBase.update\u001b[0;34m(self, batch)\u001b[0m\n\u001b[1;32m    868\u001b[0m \u001b[38;5;28;01massert\u001b[39;00m \u001b[38;5;28mself\u001b[39m\u001b[38;5;241m.\u001b[39m_impl, IMPL_NOT_INITIALIZED_ERROR\n\u001b[1;32m    869\u001b[0m torch_batch \u001b[38;5;241m=\u001b[39m TorchMiniBatch\u001b[38;5;241m.\u001b[39mfrom_batch(\n\u001b[1;32m    870\u001b[0m     batch\u001b[38;5;241m=\u001b[39mbatch,\n\u001b[1;32m    871\u001b[0m     gamma\u001b[38;5;241m=\u001b[39m\u001b[38;5;28mself\u001b[39m\u001b[38;5;241m.\u001b[39m_config\u001b[38;5;241m.\u001b[39mgamma,\n\u001b[0;32m   (...)\u001b[0m\n\u001b[1;32m    876\u001b[0m     reward_scaler\u001b[38;5;241m=\u001b[39m\u001b[38;5;28mself\u001b[39m\u001b[38;5;241m.\u001b[39m_config\u001b[38;5;241m.\u001b[39mreward_scaler,\n\u001b[1;32m    877\u001b[0m )\n\u001b[0;32m--> 878\u001b[0m loss \u001b[38;5;241m=\u001b[39m \u001b[38;5;28;43mself\u001b[39;49m\u001b[38;5;241;43m.\u001b[39;49m\u001b[43m_impl\u001b[49m\u001b[38;5;241;43m.\u001b[39;49m\u001b[43mupdate\u001b[49m\u001b[43m(\u001b[49m\u001b[43mtorch_batch\u001b[49m\u001b[43m,\u001b[49m\u001b[43m \u001b[49m\u001b[38;5;28;43mself\u001b[39;49m\u001b[38;5;241;43m.\u001b[39;49m\u001b[43m_grad_step\u001b[49m\u001b[43m)\u001b[49m\n\u001b[1;32m    879\u001b[0m \u001b[38;5;28mself\u001b[39m\u001b[38;5;241m.\u001b[39m_grad_step \u001b[38;5;241m+\u001b[39m\u001b[38;5;241m=\u001b[39m \u001b[38;5;241m1\u001b[39m\n\u001b[1;32m    880\u001b[0m \u001b[38;5;28;01mreturn\u001b[39;00m loss\n",
      "File \u001b[0;32m~/anaconda3/envs/thesis-env/lib/python3.10/site-packages/d3rlpy/torch_utility.py:512\u001b[0m, in \u001b[0;36mtrain_api.<locals>.wrapper\u001b[0;34m(self, *args, **kwargs)\u001b[0m\n\u001b[1;32m    510\u001b[0m \u001b[38;5;28;01massert\u001b[39;00m \u001b[38;5;28misinstance\u001b[39m(\u001b[38;5;28mself\u001b[39m\u001b[38;5;241m.\u001b[39mmodules, Modules)\n\u001b[1;32m    511\u001b[0m \u001b[38;5;28mself\u001b[39m\u001b[38;5;241m.\u001b[39mmodules\u001b[38;5;241m.\u001b[39mset_train()\n\u001b[0;32m--> 512\u001b[0m \u001b[38;5;28;01mreturn\u001b[39;00m \u001b[43mf\u001b[49m\u001b[43m(\u001b[49m\u001b[38;5;28;43mself\u001b[39;49m\u001b[43m,\u001b[49m\u001b[43m \u001b[49m\u001b[38;5;241;43m*\u001b[39;49m\u001b[43margs\u001b[49m\u001b[43m,\u001b[49m\u001b[43m \u001b[49m\u001b[38;5;241;43m*\u001b[39;49m\u001b[38;5;241;43m*\u001b[39;49m\u001b[43mkwargs\u001b[49m\u001b[43m)\u001b[49m\n",
      "File \u001b[0;32m~/anaconda3/envs/thesis-env/lib/python3.10/site-packages/d3rlpy/algos/qlearning/base.py:68\u001b[0m, in \u001b[0;36mQLearningAlgoImplBase.update\u001b[0;34m(self, batch, grad_step)\u001b[0m\n\u001b[1;32m     66\u001b[0m \u001b[38;5;129m@train_api\u001b[39m\n\u001b[1;32m     67\u001b[0m \u001b[38;5;28;01mdef\u001b[39;00m \u001b[38;5;21mupdate\u001b[39m(\u001b[38;5;28mself\u001b[39m, batch: TorchMiniBatch, grad_step: \u001b[38;5;28mint\u001b[39m) \u001b[38;5;241m-\u001b[39m\u001b[38;5;241m>\u001b[39m \u001b[38;5;28mdict\u001b[39m[\u001b[38;5;28mstr\u001b[39m, \u001b[38;5;28mfloat\u001b[39m]:\n\u001b[0;32m---> 68\u001b[0m     \u001b[38;5;28;01mreturn\u001b[39;00m \u001b[38;5;28;43mself\u001b[39;49m\u001b[38;5;241;43m.\u001b[39;49m\u001b[43minner_update\u001b[49m\u001b[43m(\u001b[49m\u001b[43mbatch\u001b[49m\u001b[43m,\u001b[49m\u001b[43m \u001b[49m\u001b[43mgrad_step\u001b[49m\u001b[43m)\u001b[49m\n",
      "File \u001b[0;32m~/anaconda3/envs/thesis-env/lib/python3.10/site-packages/d3rlpy/algos/qlearning/torch/ddpg_impl.py:144\u001b[0m, in \u001b[0;36mDDPGBaseImpl.inner_update\u001b[0;34m(self, batch, grad_step)\u001b[0m\n\u001b[1;32m    140\u001b[0m \u001b[38;5;28;01mdef\u001b[39;00m \u001b[38;5;21minner_update\u001b[39m(\n\u001b[1;32m    141\u001b[0m     \u001b[38;5;28mself\u001b[39m, batch: TorchMiniBatch, grad_step: \u001b[38;5;28mint\u001b[39m\n\u001b[1;32m    142\u001b[0m ) \u001b[38;5;241m-\u001b[39m\u001b[38;5;241m>\u001b[39m \u001b[38;5;28mdict\u001b[39m[\u001b[38;5;28mstr\u001b[39m, \u001b[38;5;28mfloat\u001b[39m]:\n\u001b[1;32m    143\u001b[0m     metrics \u001b[38;5;241m=\u001b[39m {}\n\u001b[0;32m--> 144\u001b[0m     metrics\u001b[38;5;241m.\u001b[39mupdate(\u001b[38;5;28;43mself\u001b[39;49m\u001b[38;5;241;43m.\u001b[39;49m\u001b[43mupdate_critic\u001b[49m\u001b[43m(\u001b[49m\u001b[43mbatch\u001b[49m\u001b[43m)\u001b[49m)\n\u001b[1;32m    145\u001b[0m     metrics\u001b[38;5;241m.\u001b[39mupdate(\u001b[38;5;28mself\u001b[39m\u001b[38;5;241m.\u001b[39mupdate_actor(batch))\n\u001b[1;32m    146\u001b[0m     \u001b[38;5;28mself\u001b[39m\u001b[38;5;241m.\u001b[39mupdate_critic_target()\n",
      "File \u001b[0;32m~/anaconda3/envs/thesis-env/lib/python3.10/site-packages/d3rlpy/algos/qlearning/torch/ddpg_impl.py:109\u001b[0m, in \u001b[0;36mDDPGBaseImpl.update_critic\u001b[0;34m(self, batch)\u001b[0m\n\u001b[1;32m    108\u001b[0m \u001b[38;5;28;01mdef\u001b[39;00m \u001b[38;5;21mupdate_critic\u001b[39m(\u001b[38;5;28mself\u001b[39m, batch: TorchMiniBatch) \u001b[38;5;241m-\u001b[39m\u001b[38;5;241m>\u001b[39m \u001b[38;5;28mdict\u001b[39m[\u001b[38;5;28mstr\u001b[39m, \u001b[38;5;28mfloat\u001b[39m]:\n\u001b[0;32m--> 109\u001b[0m     loss \u001b[38;5;241m=\u001b[39m \u001b[38;5;28;43mself\u001b[39;49m\u001b[38;5;241;43m.\u001b[39;49m\u001b[43m_compute_critic_grad\u001b[49m\u001b[43m(\u001b[49m\u001b[43mbatch\u001b[49m\u001b[43m)\u001b[49m\n\u001b[1;32m    110\u001b[0m     \u001b[38;5;28mself\u001b[39m\u001b[38;5;241m.\u001b[39m_modules\u001b[38;5;241m.\u001b[39mcritic_optim\u001b[38;5;241m.\u001b[39mstep()\n\u001b[1;32m    111\u001b[0m     \u001b[38;5;28;01mreturn\u001b[39;00m asdict_as_float(loss)\n",
      "File \u001b[0;32m~/anaconda3/envs/thesis-env/lib/python3.10/site-packages/d3rlpy/algos/qlearning/torch/ddpg_impl.py:103\u001b[0m, in \u001b[0;36mDDPGBaseImpl.compute_critic_grad\u001b[0;34m(self, batch)\u001b[0m\n\u001b[1;32m    101\u001b[0m \u001b[38;5;28;01mdef\u001b[39;00m \u001b[38;5;21mcompute_critic_grad\u001b[39m(\u001b[38;5;28mself\u001b[39m, batch: TorchMiniBatch) \u001b[38;5;241m-\u001b[39m\u001b[38;5;241m>\u001b[39m DDPGBaseCriticLoss:\n\u001b[1;32m    102\u001b[0m     \u001b[38;5;28mself\u001b[39m\u001b[38;5;241m.\u001b[39m_modules\u001b[38;5;241m.\u001b[39mcritic_optim\u001b[38;5;241m.\u001b[39mzero_grad()\n\u001b[0;32m--> 103\u001b[0m     q_tpn \u001b[38;5;241m=\u001b[39m \u001b[38;5;28;43mself\u001b[39;49m\u001b[38;5;241;43m.\u001b[39;49m\u001b[43mcompute_target\u001b[49m\u001b[43m(\u001b[49m\u001b[43mbatch\u001b[49m\u001b[43m)\u001b[49m\n\u001b[1;32m    104\u001b[0m     loss \u001b[38;5;241m=\u001b[39m \u001b[38;5;28mself\u001b[39m\u001b[38;5;241m.\u001b[39mcompute_critic_loss(batch, q_tpn)\n\u001b[1;32m    105\u001b[0m     loss\u001b[38;5;241m.\u001b[39mcritic_loss\u001b[38;5;241m.\u001b[39mbackward()\n",
      "File \u001b[0;32m~/anaconda3/envs/thesis-env/lib/python3.10/site-packages/d3rlpy/algos/qlearning/torch/sac_impl.py:123\u001b[0m, in \u001b[0;36mSACImpl.compute_target\u001b[0;34m(self, batch)\u001b[0m\n\u001b[1;32m    121\u001b[0m action, log_prob \u001b[38;5;241m=\u001b[39m dist\u001b[38;5;241m.\u001b[39msample_with_log_prob()\n\u001b[1;32m    122\u001b[0m entropy \u001b[38;5;241m=\u001b[39m get_parameter(\u001b[38;5;28mself\u001b[39m\u001b[38;5;241m.\u001b[39m_modules\u001b[38;5;241m.\u001b[39mlog_temp)\u001b[38;5;241m.\u001b[39mexp() \u001b[38;5;241m*\u001b[39m log_prob\n\u001b[0;32m--> 123\u001b[0m target \u001b[38;5;241m=\u001b[39m \u001b[38;5;28;43mself\u001b[39;49m\u001b[38;5;241;43m.\u001b[39;49m\u001b[43m_targ_q_func_forwarder\u001b[49m\u001b[38;5;241;43m.\u001b[39;49m\u001b[43mcompute_target\u001b[49m\u001b[43m(\u001b[49m\n\u001b[1;32m    124\u001b[0m \u001b[43m    \u001b[49m\u001b[43mbatch\u001b[49m\u001b[38;5;241;43m.\u001b[39;49m\u001b[43mnext_observations\u001b[49m\u001b[43m,\u001b[49m\n\u001b[1;32m    125\u001b[0m \u001b[43m    \u001b[49m\u001b[43maction\u001b[49m\u001b[43m,\u001b[49m\n\u001b[1;32m    126\u001b[0m \u001b[43m    \u001b[49m\u001b[43mreduction\u001b[49m\u001b[38;5;241;43m=\u001b[39;49m\u001b[38;5;124;43m\"\u001b[39;49m\u001b[38;5;124;43mmin\u001b[39;49m\u001b[38;5;124;43m\"\u001b[39;49m\u001b[43m,\u001b[49m\n\u001b[1;32m    127\u001b[0m \u001b[43m\u001b[49m\u001b[43m)\u001b[49m\n\u001b[1;32m    128\u001b[0m \u001b[38;5;28;01mreturn\u001b[39;00m target \u001b[38;5;241m-\u001b[39m entropy\n",
      "File \u001b[0;32m~/anaconda3/envs/thesis-env/lib/python3.10/site-packages/d3rlpy/models/torch/q_functions/ensemble_q_function.py:280\u001b[0m, in \u001b[0;36mContinuousEnsembleQFunctionForwarder.compute_target\u001b[0;34m(self, x, action, reduction, lam)\u001b[0m\n\u001b[1;32m    273\u001b[0m \u001b[38;5;28;01mdef\u001b[39;00m \u001b[38;5;21mcompute_target\u001b[39m(\n\u001b[1;32m    274\u001b[0m     \u001b[38;5;28mself\u001b[39m,\n\u001b[1;32m    275\u001b[0m     x: TorchObservation,\n\u001b[0;32m   (...)\u001b[0m\n\u001b[1;32m    278\u001b[0m     lam: \u001b[38;5;28mfloat\u001b[39m \u001b[38;5;241m=\u001b[39m \u001b[38;5;241m0.75\u001b[39m,\n\u001b[1;32m    279\u001b[0m ) \u001b[38;5;241m-\u001b[39m\u001b[38;5;241m>\u001b[39m torch\u001b[38;5;241m.\u001b[39mTensor:\n\u001b[0;32m--> 280\u001b[0m     \u001b[38;5;28;01mreturn\u001b[39;00m \u001b[43mcompute_ensemble_q_function_target\u001b[49m\u001b[43m(\u001b[49m\n\u001b[1;32m    281\u001b[0m \u001b[43m        \u001b[49m\u001b[43mforwarders\u001b[49m\u001b[38;5;241;43m=\u001b[39;49m\u001b[38;5;28;43mself\u001b[39;49m\u001b[38;5;241;43m.\u001b[39;49m\u001b[43m_forwarders\u001b[49m\u001b[43m,\u001b[49m\n\u001b[1;32m    282\u001b[0m \u001b[43m        \u001b[49m\u001b[43maction_size\u001b[49m\u001b[38;5;241;43m=\u001b[39;49m\u001b[38;5;28;43mself\u001b[39;49m\u001b[38;5;241;43m.\u001b[39;49m\u001b[43m_action_size\u001b[49m\u001b[43m,\u001b[49m\n\u001b[1;32m    283\u001b[0m \u001b[43m        \u001b[49m\u001b[43mx\u001b[49m\u001b[38;5;241;43m=\u001b[39;49m\u001b[43mx\u001b[49m\u001b[43m,\u001b[49m\n\u001b[1;32m    284\u001b[0m \u001b[43m        \u001b[49m\u001b[43maction\u001b[49m\u001b[38;5;241;43m=\u001b[39;49m\u001b[43maction\u001b[49m\u001b[43m,\u001b[49m\n\u001b[1;32m    285\u001b[0m \u001b[43m        \u001b[49m\u001b[43mreduction\u001b[49m\u001b[38;5;241;43m=\u001b[39;49m\u001b[43mreduction\u001b[49m\u001b[43m,\u001b[49m\n\u001b[1;32m    286\u001b[0m \u001b[43m        \u001b[49m\u001b[43mlam\u001b[49m\u001b[38;5;241;43m=\u001b[39;49m\u001b[43mlam\u001b[49m\u001b[43m,\u001b[49m\n\u001b[1;32m    287\u001b[0m \u001b[43m    \u001b[49m\u001b[43m)\u001b[49m\n",
      "File \u001b[0;32m~/anaconda3/envs/thesis-env/lib/python3.10/site-packages/d3rlpy/models/torch/q_functions/ensemble_q_function.py:128\u001b[0m, in \u001b[0;36mcompute_ensemble_q_function_target\u001b[0;34m(forwarders, action_size, x, action, reduction, lam)\u001b[0m\n\u001b[1;32m    126\u001b[0m \u001b[38;5;28;01mif\u001b[39;00m \u001b[38;5;28misinstance\u001b[39m(forwarder, ContinuousQFunctionForwarder):\n\u001b[1;32m    127\u001b[0m     \u001b[38;5;28;01massert\u001b[39;00m action \u001b[38;5;129;01mis\u001b[39;00m \u001b[38;5;129;01mnot\u001b[39;00m \u001b[38;5;28;01mNone\u001b[39;00m\n\u001b[0;32m--> 128\u001b[0m     target \u001b[38;5;241m=\u001b[39m \u001b[43mforwarder\u001b[49m\u001b[38;5;241;43m.\u001b[39;49m\u001b[43mcompute_target\u001b[49m\u001b[43m(\u001b[49m\u001b[43mx\u001b[49m\u001b[43m,\u001b[49m\u001b[43m \u001b[49m\u001b[43maction\u001b[49m\u001b[43m)\u001b[49m\n\u001b[1;32m    129\u001b[0m \u001b[38;5;28;01melse\u001b[39;00m:\n\u001b[1;32m    130\u001b[0m     target \u001b[38;5;241m=\u001b[39m forwarder\u001b[38;5;241m.\u001b[39mcompute_target(x, action)\n",
      "File \u001b[0;32m~/anaconda3/envs/thesis-env/lib/python3.10/site-packages/d3rlpy/models/torch/q_functions/mean_q_function.py:141\u001b[0m, in \u001b[0;36mContinuousMeanQFunctionForwarder.compute_target\u001b[0;34m(self, x, action)\u001b[0m\n\u001b[1;32m    138\u001b[0m \u001b[38;5;28;01mdef\u001b[39;00m \u001b[38;5;21mcompute_target\u001b[39m(\n\u001b[1;32m    139\u001b[0m     \u001b[38;5;28mself\u001b[39m, x: TorchObservation, action: torch\u001b[38;5;241m.\u001b[39mTensor\n\u001b[1;32m    140\u001b[0m ) \u001b[38;5;241m-\u001b[39m\u001b[38;5;241m>\u001b[39m torch\u001b[38;5;241m.\u001b[39mTensor:\n\u001b[0;32m--> 141\u001b[0m     \u001b[38;5;28;01mreturn\u001b[39;00m \u001b[38;5;28;43mself\u001b[39;49m\u001b[38;5;241;43m.\u001b[39;49m\u001b[43m_q_func\u001b[49m\u001b[43m(\u001b[49m\u001b[43mx\u001b[49m\u001b[43m,\u001b[49m\u001b[43m \u001b[49m\u001b[43maction\u001b[49m\u001b[43m)\u001b[49m\u001b[38;5;241m.\u001b[39mq_value\n",
      "File \u001b[0;32m~/anaconda3/envs/thesis-env/lib/python3.10/site-packages/d3rlpy/models/torch/q_functions/base.py:35\u001b[0m, in \u001b[0;36mContinuousQFunction.__call__\u001b[0;34m(self, x, action)\u001b[0m\n\u001b[1;32m     32\u001b[0m \u001b[38;5;28;01mdef\u001b[39;00m \u001b[38;5;21m__call__\u001b[39m(\n\u001b[1;32m     33\u001b[0m     \u001b[38;5;28mself\u001b[39m, x: TorchObservation, action: torch\u001b[38;5;241m.\u001b[39mTensor\n\u001b[1;32m     34\u001b[0m ) \u001b[38;5;241m-\u001b[39m\u001b[38;5;241m>\u001b[39m QFunctionOutput:\n\u001b[0;32m---> 35\u001b[0m     \u001b[38;5;28;01mreturn\u001b[39;00m \u001b[38;5;28;43msuper\u001b[39;49m\u001b[43m(\u001b[49m\u001b[43m)\u001b[49m\u001b[38;5;241;43m.\u001b[39;49m\u001b[38;5;21;43m__call__\u001b[39;49m\u001b[43m(\u001b[49m\u001b[43mx\u001b[49m\u001b[43m,\u001b[49m\u001b[43m \u001b[49m\u001b[43maction\u001b[49m\u001b[43m)\u001b[49m\n",
      "File \u001b[0;32m~/anaconda3/envs/thesis-env/lib/python3.10/site-packages/torch/nn/modules/module.py:1739\u001b[0m, in \u001b[0;36mModule._wrapped_call_impl\u001b[0;34m(self, *args, **kwargs)\u001b[0m\n\u001b[1;32m   1737\u001b[0m     \u001b[38;5;28;01mreturn\u001b[39;00m \u001b[38;5;28mself\u001b[39m\u001b[38;5;241m.\u001b[39m_compiled_call_impl(\u001b[38;5;241m*\u001b[39margs, \u001b[38;5;241m*\u001b[39m\u001b[38;5;241m*\u001b[39mkwargs)  \u001b[38;5;66;03m# type: ignore[misc]\u001b[39;00m\n\u001b[1;32m   1738\u001b[0m \u001b[38;5;28;01melse\u001b[39;00m:\n\u001b[0;32m-> 1739\u001b[0m     \u001b[38;5;28;01mreturn\u001b[39;00m \u001b[38;5;28;43mself\u001b[39;49m\u001b[38;5;241;43m.\u001b[39;49m\u001b[43m_call_impl\u001b[49m\u001b[43m(\u001b[49m\u001b[38;5;241;43m*\u001b[39;49m\u001b[43margs\u001b[49m\u001b[43m,\u001b[49m\u001b[43m \u001b[49m\u001b[38;5;241;43m*\u001b[39;49m\u001b[38;5;241;43m*\u001b[39;49m\u001b[43mkwargs\u001b[49m\u001b[43m)\u001b[49m\n",
      "File \u001b[0;32m~/anaconda3/envs/thesis-env/lib/python3.10/site-packages/torch/nn/modules/module.py:1750\u001b[0m, in \u001b[0;36mModule._call_impl\u001b[0;34m(self, *args, **kwargs)\u001b[0m\n\u001b[1;32m   1745\u001b[0m \u001b[38;5;66;03m# If we don't have any hooks, we want to skip the rest of the logic in\u001b[39;00m\n\u001b[1;32m   1746\u001b[0m \u001b[38;5;66;03m# this function, and just call forward.\u001b[39;00m\n\u001b[1;32m   1747\u001b[0m \u001b[38;5;28;01mif\u001b[39;00m \u001b[38;5;129;01mnot\u001b[39;00m (\u001b[38;5;28mself\u001b[39m\u001b[38;5;241m.\u001b[39m_backward_hooks \u001b[38;5;129;01mor\u001b[39;00m \u001b[38;5;28mself\u001b[39m\u001b[38;5;241m.\u001b[39m_backward_pre_hooks \u001b[38;5;129;01mor\u001b[39;00m \u001b[38;5;28mself\u001b[39m\u001b[38;5;241m.\u001b[39m_forward_hooks \u001b[38;5;129;01mor\u001b[39;00m \u001b[38;5;28mself\u001b[39m\u001b[38;5;241m.\u001b[39m_forward_pre_hooks\n\u001b[1;32m   1748\u001b[0m         \u001b[38;5;129;01mor\u001b[39;00m _global_backward_pre_hooks \u001b[38;5;129;01mor\u001b[39;00m _global_backward_hooks\n\u001b[1;32m   1749\u001b[0m         \u001b[38;5;129;01mor\u001b[39;00m _global_forward_hooks \u001b[38;5;129;01mor\u001b[39;00m _global_forward_pre_hooks):\n\u001b[0;32m-> 1750\u001b[0m     \u001b[38;5;28;01mreturn\u001b[39;00m \u001b[43mforward_call\u001b[49m\u001b[43m(\u001b[49m\u001b[38;5;241;43m*\u001b[39;49m\u001b[43margs\u001b[49m\u001b[43m,\u001b[49m\u001b[43m \u001b[49m\u001b[38;5;241;43m*\u001b[39;49m\u001b[38;5;241;43m*\u001b[39;49m\u001b[43mkwargs\u001b[49m\u001b[43m)\u001b[49m\n\u001b[1;32m   1752\u001b[0m result \u001b[38;5;241m=\u001b[39m \u001b[38;5;28;01mNone\u001b[39;00m\n\u001b[1;32m   1753\u001b[0m called_always_called_hooks \u001b[38;5;241m=\u001b[39m \u001b[38;5;28mset\u001b[39m()\n",
      "File \u001b[0;32m~/anaconda3/envs/thesis-env/lib/python3.10/site-packages/d3rlpy/models/torch/q_functions/mean_q_function.py:102\u001b[0m, in \u001b[0;36mContinuousMeanQFunction.forward\u001b[0;34m(self, x, action)\u001b[0m\n\u001b[1;32m     98\u001b[0m \u001b[38;5;28;01mdef\u001b[39;00m \u001b[38;5;21mforward\u001b[39m(\n\u001b[1;32m     99\u001b[0m     \u001b[38;5;28mself\u001b[39m, x: TorchObservation, action: torch\u001b[38;5;241m.\u001b[39mTensor\n\u001b[1;32m    100\u001b[0m ) \u001b[38;5;241m-\u001b[39m\u001b[38;5;241m>\u001b[39m QFunctionOutput:\n\u001b[1;32m    101\u001b[0m     \u001b[38;5;28;01mreturn\u001b[39;00m QFunctionOutput(\n\u001b[0;32m--> 102\u001b[0m         q_value\u001b[38;5;241m=\u001b[39m\u001b[38;5;28mself\u001b[39m\u001b[38;5;241m.\u001b[39m_fc(\u001b[38;5;28;43mself\u001b[39;49m\u001b[38;5;241;43m.\u001b[39;49m\u001b[43m_encoder\u001b[49m\u001b[43m(\u001b[49m\u001b[43mx\u001b[49m\u001b[43m,\u001b[49m\u001b[43m \u001b[49m\u001b[43maction\u001b[49m\u001b[43m)\u001b[49m),\n\u001b[1;32m    103\u001b[0m         quantiles\u001b[38;5;241m=\u001b[39m\u001b[38;5;28;01mNone\u001b[39;00m,\n\u001b[1;32m    104\u001b[0m         taus\u001b[38;5;241m=\u001b[39m\u001b[38;5;28;01mNone\u001b[39;00m,\n\u001b[1;32m    105\u001b[0m     )\n",
      "File \u001b[0;32m~/anaconda3/envs/thesis-env/lib/python3.10/site-packages/d3rlpy/models/torch/encoders.py:43\u001b[0m, in \u001b[0;36mEncoderWithAction.__call__\u001b[0;34m(self, x, action)\u001b[0m\n\u001b[1;32m     40\u001b[0m \u001b[38;5;28;01mdef\u001b[39;00m \u001b[38;5;21m__call__\u001b[39m(\n\u001b[1;32m     41\u001b[0m     \u001b[38;5;28mself\u001b[39m, x: TorchObservation, action: torch\u001b[38;5;241m.\u001b[39mTensor\n\u001b[1;32m     42\u001b[0m ) \u001b[38;5;241m-\u001b[39m\u001b[38;5;241m>\u001b[39m torch\u001b[38;5;241m.\u001b[39mTensor:\n\u001b[0;32m---> 43\u001b[0m     \u001b[38;5;28;01mreturn\u001b[39;00m \u001b[38;5;28;43msuper\u001b[39;49m\u001b[43m(\u001b[49m\u001b[43m)\u001b[49m\u001b[38;5;241;43m.\u001b[39;49m\u001b[38;5;21;43m__call__\u001b[39;49m\u001b[43m(\u001b[49m\u001b[43mx\u001b[49m\u001b[43m,\u001b[49m\u001b[43m \u001b[49m\u001b[43maction\u001b[49m\u001b[43m)\u001b[49m\n",
      "File \u001b[0;32m~/anaconda3/envs/thesis-env/lib/python3.10/site-packages/torch/nn/modules/module.py:1739\u001b[0m, in \u001b[0;36mModule._wrapped_call_impl\u001b[0;34m(self, *args, **kwargs)\u001b[0m\n\u001b[1;32m   1737\u001b[0m     \u001b[38;5;28;01mreturn\u001b[39;00m \u001b[38;5;28mself\u001b[39m\u001b[38;5;241m.\u001b[39m_compiled_call_impl(\u001b[38;5;241m*\u001b[39margs, \u001b[38;5;241m*\u001b[39m\u001b[38;5;241m*\u001b[39mkwargs)  \u001b[38;5;66;03m# type: ignore[misc]\u001b[39;00m\n\u001b[1;32m   1738\u001b[0m \u001b[38;5;28;01melse\u001b[39;00m:\n\u001b[0;32m-> 1739\u001b[0m     \u001b[38;5;28;01mreturn\u001b[39;00m \u001b[38;5;28;43mself\u001b[39;49m\u001b[38;5;241;43m.\u001b[39;49m\u001b[43m_call_impl\u001b[49m\u001b[43m(\u001b[49m\u001b[38;5;241;43m*\u001b[39;49m\u001b[43margs\u001b[49m\u001b[43m,\u001b[49m\u001b[43m \u001b[49m\u001b[38;5;241;43m*\u001b[39;49m\u001b[38;5;241;43m*\u001b[39;49m\u001b[43mkwargs\u001b[49m\u001b[43m)\u001b[49m\n",
      "File \u001b[0;32m~/anaconda3/envs/thesis-env/lib/python3.10/site-packages/torch/nn/modules/module.py:1750\u001b[0m, in \u001b[0;36mModule._call_impl\u001b[0;34m(self, *args, **kwargs)\u001b[0m\n\u001b[1;32m   1745\u001b[0m \u001b[38;5;66;03m# If we don't have any hooks, we want to skip the rest of the logic in\u001b[39;00m\n\u001b[1;32m   1746\u001b[0m \u001b[38;5;66;03m# this function, and just call forward.\u001b[39;00m\n\u001b[1;32m   1747\u001b[0m \u001b[38;5;28;01mif\u001b[39;00m \u001b[38;5;129;01mnot\u001b[39;00m (\u001b[38;5;28mself\u001b[39m\u001b[38;5;241m.\u001b[39m_backward_hooks \u001b[38;5;129;01mor\u001b[39;00m \u001b[38;5;28mself\u001b[39m\u001b[38;5;241m.\u001b[39m_backward_pre_hooks \u001b[38;5;129;01mor\u001b[39;00m \u001b[38;5;28mself\u001b[39m\u001b[38;5;241m.\u001b[39m_forward_hooks \u001b[38;5;129;01mor\u001b[39;00m \u001b[38;5;28mself\u001b[39m\u001b[38;5;241m.\u001b[39m_forward_pre_hooks\n\u001b[1;32m   1748\u001b[0m         \u001b[38;5;129;01mor\u001b[39;00m _global_backward_pre_hooks \u001b[38;5;129;01mor\u001b[39;00m _global_backward_hooks\n\u001b[1;32m   1749\u001b[0m         \u001b[38;5;129;01mor\u001b[39;00m _global_forward_hooks \u001b[38;5;129;01mor\u001b[39;00m _global_forward_pre_hooks):\n\u001b[0;32m-> 1750\u001b[0m     \u001b[38;5;28;01mreturn\u001b[39;00m \u001b[43mforward_call\u001b[49m\u001b[43m(\u001b[49m\u001b[38;5;241;43m*\u001b[39;49m\u001b[43margs\u001b[49m\u001b[43m,\u001b[49m\u001b[43m \u001b[49m\u001b[38;5;241;43m*\u001b[39;49m\u001b[38;5;241;43m*\u001b[39;49m\u001b[43mkwargs\u001b[49m\u001b[43m)\u001b[49m\n\u001b[1;32m   1752\u001b[0m result \u001b[38;5;241m=\u001b[39m \u001b[38;5;28;01mNone\u001b[39;00m\n\u001b[1;32m   1753\u001b[0m called_always_called_hooks \u001b[38;5;241m=\u001b[39m \u001b[38;5;28mset\u001b[39m()\n",
      "File \u001b[0;32m~/anaconda3/envs/thesis-env/lib/python3.10/site-packages/d3rlpy/models/torch/encoders.py:292\u001b[0m, in \u001b[0;36mVectorEncoderWithAction.forward\u001b[0;34m(self, x, action)\u001b[0m\n\u001b[1;32m    288\u001b[0m     action \u001b[38;5;241m=\u001b[39m F\u001b[38;5;241m.\u001b[39mone_hot(\n\u001b[1;32m    289\u001b[0m         action\u001b[38;5;241m.\u001b[39mview(\u001b[38;5;241m-\u001b[39m\u001b[38;5;241m1\u001b[39m)\u001b[38;5;241m.\u001b[39mlong(), num_classes\u001b[38;5;241m=\u001b[39m\u001b[38;5;28mself\u001b[39m\u001b[38;5;241m.\u001b[39m_action_size\n\u001b[1;32m    290\u001b[0m     )\u001b[38;5;241m.\u001b[39mfloat()\n\u001b[1;32m    291\u001b[0m x \u001b[38;5;241m=\u001b[39m torch\u001b[38;5;241m.\u001b[39mcat([x, action], dim\u001b[38;5;241m=\u001b[39m\u001b[38;5;241m1\u001b[39m)\n\u001b[0;32m--> 292\u001b[0m \u001b[38;5;28;01mreturn\u001b[39;00m \u001b[38;5;28;43mself\u001b[39;49m\u001b[38;5;241;43m.\u001b[39;49m\u001b[43m_layers\u001b[49m\u001b[43m(\u001b[49m\u001b[43mx\u001b[49m\u001b[43m)\u001b[49m\n",
      "File \u001b[0;32m~/anaconda3/envs/thesis-env/lib/python3.10/site-packages/torch/nn/modules/module.py:1739\u001b[0m, in \u001b[0;36mModule._wrapped_call_impl\u001b[0;34m(self, *args, **kwargs)\u001b[0m\n\u001b[1;32m   1737\u001b[0m     \u001b[38;5;28;01mreturn\u001b[39;00m \u001b[38;5;28mself\u001b[39m\u001b[38;5;241m.\u001b[39m_compiled_call_impl(\u001b[38;5;241m*\u001b[39margs, \u001b[38;5;241m*\u001b[39m\u001b[38;5;241m*\u001b[39mkwargs)  \u001b[38;5;66;03m# type: ignore[misc]\u001b[39;00m\n\u001b[1;32m   1738\u001b[0m \u001b[38;5;28;01melse\u001b[39;00m:\n\u001b[0;32m-> 1739\u001b[0m     \u001b[38;5;28;01mreturn\u001b[39;00m \u001b[38;5;28;43mself\u001b[39;49m\u001b[38;5;241;43m.\u001b[39;49m\u001b[43m_call_impl\u001b[49m\u001b[43m(\u001b[49m\u001b[38;5;241;43m*\u001b[39;49m\u001b[43margs\u001b[49m\u001b[43m,\u001b[49m\u001b[43m \u001b[49m\u001b[38;5;241;43m*\u001b[39;49m\u001b[38;5;241;43m*\u001b[39;49m\u001b[43mkwargs\u001b[49m\u001b[43m)\u001b[49m\n",
      "File \u001b[0;32m~/anaconda3/envs/thesis-env/lib/python3.10/site-packages/torch/nn/modules/module.py:1750\u001b[0m, in \u001b[0;36mModule._call_impl\u001b[0;34m(self, *args, **kwargs)\u001b[0m\n\u001b[1;32m   1745\u001b[0m \u001b[38;5;66;03m# If we don't have any hooks, we want to skip the rest of the logic in\u001b[39;00m\n\u001b[1;32m   1746\u001b[0m \u001b[38;5;66;03m# this function, and just call forward.\u001b[39;00m\n\u001b[1;32m   1747\u001b[0m \u001b[38;5;28;01mif\u001b[39;00m \u001b[38;5;129;01mnot\u001b[39;00m (\u001b[38;5;28mself\u001b[39m\u001b[38;5;241m.\u001b[39m_backward_hooks \u001b[38;5;129;01mor\u001b[39;00m \u001b[38;5;28mself\u001b[39m\u001b[38;5;241m.\u001b[39m_backward_pre_hooks \u001b[38;5;129;01mor\u001b[39;00m \u001b[38;5;28mself\u001b[39m\u001b[38;5;241m.\u001b[39m_forward_hooks \u001b[38;5;129;01mor\u001b[39;00m \u001b[38;5;28mself\u001b[39m\u001b[38;5;241m.\u001b[39m_forward_pre_hooks\n\u001b[1;32m   1748\u001b[0m         \u001b[38;5;129;01mor\u001b[39;00m _global_backward_pre_hooks \u001b[38;5;129;01mor\u001b[39;00m _global_backward_hooks\n\u001b[1;32m   1749\u001b[0m         \u001b[38;5;129;01mor\u001b[39;00m _global_forward_hooks \u001b[38;5;129;01mor\u001b[39;00m _global_forward_pre_hooks):\n\u001b[0;32m-> 1750\u001b[0m     \u001b[38;5;28;01mreturn\u001b[39;00m \u001b[43mforward_call\u001b[49m\u001b[43m(\u001b[49m\u001b[38;5;241;43m*\u001b[39;49m\u001b[43margs\u001b[49m\u001b[43m,\u001b[49m\u001b[43m \u001b[49m\u001b[38;5;241;43m*\u001b[39;49m\u001b[38;5;241;43m*\u001b[39;49m\u001b[43mkwargs\u001b[49m\u001b[43m)\u001b[49m\n\u001b[1;32m   1752\u001b[0m result \u001b[38;5;241m=\u001b[39m \u001b[38;5;28;01mNone\u001b[39;00m\n\u001b[1;32m   1753\u001b[0m called_always_called_hooks \u001b[38;5;241m=\u001b[39m \u001b[38;5;28mset\u001b[39m()\n",
      "File \u001b[0;32m~/anaconda3/envs/thesis-env/lib/python3.10/site-packages/torch/nn/modules/container.py:250\u001b[0m, in \u001b[0;36mSequential.forward\u001b[0;34m(self, input)\u001b[0m\n\u001b[1;32m    248\u001b[0m \u001b[38;5;28;01mdef\u001b[39;00m \u001b[38;5;21mforward\u001b[39m(\u001b[38;5;28mself\u001b[39m, \u001b[38;5;28minput\u001b[39m):\n\u001b[1;32m    249\u001b[0m     \u001b[38;5;28;01mfor\u001b[39;00m module \u001b[38;5;129;01min\u001b[39;00m \u001b[38;5;28mself\u001b[39m:\n\u001b[0;32m--> 250\u001b[0m         \u001b[38;5;28minput\u001b[39m \u001b[38;5;241m=\u001b[39m \u001b[43mmodule\u001b[49m\u001b[43m(\u001b[49m\u001b[38;5;28;43minput\u001b[39;49m\u001b[43m)\u001b[49m\n\u001b[1;32m    251\u001b[0m     \u001b[38;5;28;01mreturn\u001b[39;00m \u001b[38;5;28minput\u001b[39m\n",
      "File \u001b[0;32m~/anaconda3/envs/thesis-env/lib/python3.10/site-packages/torch/nn/modules/module.py:1739\u001b[0m, in \u001b[0;36mModule._wrapped_call_impl\u001b[0;34m(self, *args, **kwargs)\u001b[0m\n\u001b[1;32m   1737\u001b[0m     \u001b[38;5;28;01mreturn\u001b[39;00m \u001b[38;5;28mself\u001b[39m\u001b[38;5;241m.\u001b[39m_compiled_call_impl(\u001b[38;5;241m*\u001b[39margs, \u001b[38;5;241m*\u001b[39m\u001b[38;5;241m*\u001b[39mkwargs)  \u001b[38;5;66;03m# type: ignore[misc]\u001b[39;00m\n\u001b[1;32m   1738\u001b[0m \u001b[38;5;28;01melse\u001b[39;00m:\n\u001b[0;32m-> 1739\u001b[0m     \u001b[38;5;28;01mreturn\u001b[39;00m \u001b[38;5;28;43mself\u001b[39;49m\u001b[38;5;241;43m.\u001b[39;49m\u001b[43m_call_impl\u001b[49m\u001b[43m(\u001b[49m\u001b[38;5;241;43m*\u001b[39;49m\u001b[43margs\u001b[49m\u001b[43m,\u001b[49m\u001b[43m \u001b[49m\u001b[38;5;241;43m*\u001b[39;49m\u001b[38;5;241;43m*\u001b[39;49m\u001b[43mkwargs\u001b[49m\u001b[43m)\u001b[49m\n",
      "File \u001b[0;32m~/anaconda3/envs/thesis-env/lib/python3.10/site-packages/torch/nn/modules/module.py:1750\u001b[0m, in \u001b[0;36mModule._call_impl\u001b[0;34m(self, *args, **kwargs)\u001b[0m\n\u001b[1;32m   1745\u001b[0m \u001b[38;5;66;03m# If we don't have any hooks, we want to skip the rest of the logic in\u001b[39;00m\n\u001b[1;32m   1746\u001b[0m \u001b[38;5;66;03m# this function, and just call forward.\u001b[39;00m\n\u001b[1;32m   1747\u001b[0m \u001b[38;5;28;01mif\u001b[39;00m \u001b[38;5;129;01mnot\u001b[39;00m (\u001b[38;5;28mself\u001b[39m\u001b[38;5;241m.\u001b[39m_backward_hooks \u001b[38;5;129;01mor\u001b[39;00m \u001b[38;5;28mself\u001b[39m\u001b[38;5;241m.\u001b[39m_backward_pre_hooks \u001b[38;5;129;01mor\u001b[39;00m \u001b[38;5;28mself\u001b[39m\u001b[38;5;241m.\u001b[39m_forward_hooks \u001b[38;5;129;01mor\u001b[39;00m \u001b[38;5;28mself\u001b[39m\u001b[38;5;241m.\u001b[39m_forward_pre_hooks\n\u001b[1;32m   1748\u001b[0m         \u001b[38;5;129;01mor\u001b[39;00m _global_backward_pre_hooks \u001b[38;5;129;01mor\u001b[39;00m _global_backward_hooks\n\u001b[1;32m   1749\u001b[0m         \u001b[38;5;129;01mor\u001b[39;00m _global_forward_hooks \u001b[38;5;129;01mor\u001b[39;00m _global_forward_pre_hooks):\n\u001b[0;32m-> 1750\u001b[0m     \u001b[38;5;28;01mreturn\u001b[39;00m \u001b[43mforward_call\u001b[49m\u001b[43m(\u001b[49m\u001b[38;5;241;43m*\u001b[39;49m\u001b[43margs\u001b[49m\u001b[43m,\u001b[49m\u001b[43m \u001b[49m\u001b[38;5;241;43m*\u001b[39;49m\u001b[38;5;241;43m*\u001b[39;49m\u001b[43mkwargs\u001b[49m\u001b[43m)\u001b[49m\n\u001b[1;32m   1752\u001b[0m result \u001b[38;5;241m=\u001b[39m \u001b[38;5;28;01mNone\u001b[39;00m\n\u001b[1;32m   1753\u001b[0m called_always_called_hooks \u001b[38;5;241m=\u001b[39m \u001b[38;5;28mset\u001b[39m()\n",
      "File \u001b[0;32m~/anaconda3/envs/thesis-env/lib/python3.10/site-packages/torch/nn/modules/activation.py:133\u001b[0m, in \u001b[0;36mReLU.forward\u001b[0;34m(self, input)\u001b[0m\n\u001b[1;32m    132\u001b[0m \u001b[38;5;28;01mdef\u001b[39;00m \u001b[38;5;21mforward\u001b[39m(\u001b[38;5;28mself\u001b[39m, \u001b[38;5;28minput\u001b[39m: Tensor) \u001b[38;5;241m-\u001b[39m\u001b[38;5;241m>\u001b[39m Tensor:\n\u001b[0;32m--> 133\u001b[0m     \u001b[38;5;28;01mreturn\u001b[39;00m \u001b[43mF\u001b[49m\u001b[38;5;241;43m.\u001b[39;49m\u001b[43mrelu\u001b[49m\u001b[43m(\u001b[49m\u001b[38;5;28;43minput\u001b[39;49m\u001b[43m,\u001b[49m\u001b[43m \u001b[49m\u001b[43minplace\u001b[49m\u001b[38;5;241;43m=\u001b[39;49m\u001b[38;5;28;43mself\u001b[39;49m\u001b[38;5;241;43m.\u001b[39;49m\u001b[43minplace\u001b[49m\u001b[43m)\u001b[49m\n",
      "File \u001b[0;32m~/anaconda3/envs/thesis-env/lib/python3.10/site-packages/torch/nn/functional.py:1704\u001b[0m, in \u001b[0;36mrelu\u001b[0;34m(input, inplace)\u001b[0m\n\u001b[1;32m   1702\u001b[0m     result \u001b[38;5;241m=\u001b[39m torch\u001b[38;5;241m.\u001b[39mrelu_(\u001b[38;5;28minput\u001b[39m)\n\u001b[1;32m   1703\u001b[0m \u001b[38;5;28;01melse\u001b[39;00m:\n\u001b[0;32m-> 1704\u001b[0m     result \u001b[38;5;241m=\u001b[39m \u001b[43mtorch\u001b[49m\u001b[38;5;241;43m.\u001b[39;49m\u001b[43mrelu\u001b[49m\u001b[43m(\u001b[49m\u001b[38;5;28;43minput\u001b[39;49m\u001b[43m)\u001b[49m\n\u001b[1;32m   1705\u001b[0m \u001b[38;5;28;01mreturn\u001b[39;00m result\n",
      "\u001b[0;31mKeyboardInterrupt\u001b[0m: "
     ]
    }
   ],
   "source": [
    "# Train each offline RL algorithm on the Door task using the D3RLpy configuration interface\n",
    "train_offline_algorithm(d3rlpy.algos.IQLConfig, door_d3_dataset, door_env, 'door_iql', 'door')\n",
    "train_offline_algorithm(d3rlpy.algos.CQLConfig, door_d3_dataset, door_env, 'door_cql', 'door')\n",
    "train_offline_algorithm(d3rlpy.algos.TD3PlusBCConfig, door_d3_dataset, door_env, 'door_td3bc', 'door')\n",
    "train_offline_algorithm(d3rlpy.algos.BCConfig, door_d3_dataset, door_env, 'door_bc', 'door')\n",
    "train_offline_algorithm(d3rlpy.algos.AWACConfig, door_d3_dataset, door_env, 'door_awac', 'door')"
   ]
  },
  {
   "cell_type": "markdown",
   "id": "92f8bd0f-e883-4428-bea9-4f0bfd3120a4",
   "metadata": {},
   "source": [
    "### Relocate"
   ]
  },
  {
   "cell_type": "code",
   "execution_count": null,
   "id": "91c1a7b8-fb7e-403c-ae18-802ba3f1e92a",
   "metadata": {
    "scrolled": true
   },
   "outputs": [],
   "source": [
    "# Train each offline RL algorithm on the Relocate task using the D3RLpy configuration interface\n",
    "train_offline_algorithm(d3rlpy.algos.IQLConfig, relocate_d3_dataset, relocate_env, 'relocate_iql', 'relocate')\n",
    "train_offline_algorithm(d3rlpy.algos.CQLConfig, relocate_d3_dataset, relocate_env, 'relocate_cql', 'relocate')\n",
    "train_offline_algorithm(d3rlpy.algos.TD3PlusBCConfig, relocate_d3_dataset, relocate_env, 'relocate_td3bc', 'relocate')\n",
    "train_offline_algorithm(d3rlpy.algos.BCConfig, relocate_d3_dataset, relocate_env, 'relocate_bc', 'relocate')\n",
    "train_offline_algorithm(d3rlpy.algos.AWACConfig, relocate_d3_dataset, relocate_env, 'relocate_awac', 'relocate')"
   ]
  },
  {
   "cell_type": "markdown",
   "id": "5c809908-7d95-4135-a522-59e0478dadf0",
   "metadata": {},
   "source": [
    "### Pen"
   ]
  },
  {
   "cell_type": "code",
   "execution_count": null,
   "id": "bdf81ca5-c4a0-417f-b940-856813abbbba",
   "metadata": {
    "scrolled": true
   },
   "outputs": [],
   "source": [
    "# Train each offline RL algorithm on the Pen task using the D3RLpy configuration interface\n",
    "train_offline_algorithm(d3rlpy.algos.IQLConfig, pen_d3_dataset, pen_env, 'pen_iql', 'pen')\n",
    "train_offline_algorithm(d3rlpy.algos.CQLConfig, pen_d3_dataset, pen_env, 'pen_cql', 'pen')\n",
    "train_offline_algorithm(d3rlpy.algos.TD3PlusBCConfig, pen_d3_dataset, pen_env, 'pen_td3bc', 'pen')\n",
    "train_offline_algorithm(d3rlpy.algos.BCConfig, pen_d3_dataset, pen_env, 'pen_bc', 'pen')\n",
    "train_offline_algorithm(d3rlpy.algos.AWACConfig, pen_d3_dataset, pen_env, 'pen_awac', 'pen')"
   ]
  },
  {
   "cell_type": "markdown",
   "id": "426c9263-1e0b-4a6a-8db8-6352dd8c556b",
   "metadata": {},
   "source": [
    "### Hammer"
   ]
  },
  {
   "cell_type": "code",
   "execution_count": null,
   "id": "d3700ac2-c398-4fe1-94f7-3d2f50520e5e",
   "metadata": {
    "scrolled": true
   },
   "outputs": [],
   "source": [
    "# Train each offline RL algorithm on the Hammer task using the D3RLpy configuration interface\n",
    "train_offline_algorithm(d3rlpy.algos.IQLConfig, hammer_d3_dataset, hammer_env, 'hammer_iql', 'hammer')\n",
    "train_offline_algorithm(d3rlpy.algos.CQLConfig, hammer_d3_dataset, hammer_env, 'hammer_cql', 'hammer')\n",
    "train_offline_algorithm(d3rlpy.algos.TD3PlusBCConfig, hammer_d3_dataset, hammer_env, 'hammer_td3bc', 'hammer')\n",
    "train_offline_algorithm(d3rlpy.algos.BCConfig, hammer_d3_dataset, hammer_env, 'hammer_bc', 'hammer')\n",
    "train_offline_algorithm(d3rlpy.algos.AWACConfig, hammer_d3_dataset, hammer_env, 'hammer_awac', 'hammer')"
   ]
  },
  {
   "cell_type": "code",
   "execution_count": null,
   "id": "57f529fa-6cc5-4357-a444-1ce4b9f39f28",
   "metadata": {},
   "outputs": [],
   "source": []
  },
  {
   "cell_type": "code",
   "execution_count": null,
   "id": "01930a82-28ac-43a7-b5e7-3c42eefeb5f6",
   "metadata": {},
   "outputs": [],
   "source": []
  }
 ],
 "metadata": {
  "kernelspec": {
   "display_name": "Python (thesis-env)",
   "language": "python",
   "name": "thesis-env"
  },
  "language_info": {
   "codemirror_mode": {
    "name": "ipython",
    "version": 3
   },
   "file_extension": ".py",
   "mimetype": "text/x-python",
   "name": "python",
   "nbconvert_exporter": "python",
   "pygments_lexer": "ipython3",
   "version": "3.10.16"
  }
 },
 "nbformat": 4,
 "nbformat_minor": 5
}

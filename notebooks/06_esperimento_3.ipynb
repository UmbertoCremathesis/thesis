{
 "cells": [
  {
   "cell_type": "code",
   "execution_count": 1,
   "id": "c8f6ad7f-7a2e-47dc-9c70-6f2ea0ee6c17",
   "metadata": {},
   "outputs": [],
   "source": [
    "import minari\n",
    "import d3rlpy\n",
    "import os\n",
    "import copy"
   ]
  },
  {
   "cell_type": "markdown",
   "id": "dc314adc-1fa3-46d9-9181-10eb0cb3f230",
   "metadata": {},
   "source": [
    "# Parameters of the experiment"
   ]
  },
  {
   "cell_type": "code",
   "execution_count": 2,
   "id": "49f088ce-a756-477a-a084-866f145c1618",
   "metadata": {},
   "outputs": [],
   "source": [
    "n_steps = 100\n",
    "n_steps_per_epoch = 10\n",
    "update_start_step = 50"
   ]
  },
  {
   "cell_type": "markdown",
   "id": "fa624981-dc95-4f83-ae1f-ae818ed22e02",
   "metadata": {},
   "source": [
    "# Loading of environments"
   ]
  },
  {
   "cell_type": "code",
   "execution_count": 3,
   "id": "95deabc1-d41c-46be-a702-8555d43397c2",
   "metadata": {},
   "outputs": [],
   "source": [
    "pen_env = minari.load_dataset(\"D4RL/pen/expert-v2\").recover_environment()\n",
    "relocate_env = minari.load_dataset(\"D4RL/relocate/expert-v2\").recover_environment()\n",
    "hammer_env = minari.load_dataset(\"D4RL/hammer/expert-v2\").recover_environment()\n",
    "door_env = minari.load_dataset(\"D4RL/door/expert-v2\").recover_environment()"
   ]
  },
  {
   "cell_type": "markdown",
   "id": "61ff960a-1855-4074-b277-06b6ad3d9010",
   "metadata": {},
   "source": [
    "# Training Algorithm"
   ]
  },
  {
   "cell_type": "code",
   "execution_count": 4,
   "id": "3c653dc4-14f1-4d86-8a38-b9a6c1005429",
   "metadata": {},
   "outputs": [],
   "source": [
    "def train_online_algorithm(config_class, env, filename, task):\n",
    "    \n",
    "    buffer = d3rlpy.dataset.create_fifo_replay_buffer(limit=100000, env=env)\n",
    "    explorer = d3rlpy.algos.ConstantEpsilonGreedy(0.3)\n",
    "    \n",
    "    # Initialize the algorithm on CPU\n",
    "    algo = config_class().create(device=\"cpu\")\n",
    "\n",
    "    # Train the algorithm on the offline dataset and periodically evaluate online, saving the training history\n",
    "    algo.fit_online(\n",
    "        env,\n",
    "        buffer,\n",
    "        explorer,\n",
    "        n_steps = n_steps,\n",
    "        eval_env = copy.deepcopy(env),\n",
    "        n_steps_per_epoch=n_steps_per_epoch,\n",
    "        update_start_step=update_start_step,\n",
    "        logger_adapter=d3rlpy.logging.FileAdapterFactory(root_dir=f\"training_logs/online/{task}\"),\n",
    "    )\n",
    "\n",
    "    algo.save(f'policies/online/{filename}.d3')"
   ]
  },
  {
   "cell_type": "markdown",
   "id": "5ce0d27c-a606-4d90-a249-970231d30c94",
   "metadata": {},
   "source": [
    "# Creation of folders for policies and logs"
   ]
  },
  {
   "cell_type": "code",
   "execution_count": 5,
   "id": "39e41384-37a1-4aa6-bfb9-6fd247c8b5bc",
   "metadata": {},
   "outputs": [
    {
     "name": "stdout",
     "output_type": "stream",
     "text": [
      "Created: policies/online\n",
      "Created: training_logs/online/pen\n",
      "Created: training_logs/online/relocate\n",
      "Created: training_logs/online/hammer\n",
      "Created: training_logs/online/door\n"
     ]
    }
   ],
   "source": [
    "# Create policies/online\n",
    "policies_path = os.path.join(\"policies\", \"online\")\n",
    "if not os.path.exists(policies_path):\n",
    "    os.makedirs(policies_path)\n",
    "    print(f\"Created: {policies_path}\")\n",
    "else:\n",
    "    print(f\"Already exists: {policies_path}\")\n",
    "\n",
    "# Create training_logs/offline/{task}\n",
    "training_base = os.path.join(\"training_logs\", \"online\")\n",
    "task_dirs = [\"pen\", \"relocate\", \"hammer\", \"door\"]\n",
    "\n",
    "for task in task_dirs:\n",
    "    task_path = os.path.join(training_base, task)\n",
    "    if not os.path.exists(task_path):\n",
    "        os.makedirs(task_path)\n",
    "        print(f\"Created: {task_path}\")\n",
    "    else:\n",
    "        print(f\"Already exists: {task_path}\")"
   ]
  },
  {
   "cell_type": "markdown",
   "id": "8ed68e5a-f9e6-4b8b-a490-8c0ca43c30a2",
   "metadata": {},
   "source": [
    "# Policy training"
   ]
  },
  {
   "cell_type": "markdown",
   "id": "313c1a07-70d0-48bb-ad6b-409804057c5f",
   "metadata": {},
   "source": [
    "### Pen"
   ]
  },
  {
   "cell_type": "code",
   "execution_count": 6,
   "id": "a9c4c206-00cd-43a0-9130-5e0e62ab94e8",
   "metadata": {
    "scrolled": true
   },
   "outputs": [
    {
     "name": "stdout",
     "output_type": "stream",
     "text": [
      "\u001b[2m2025-05-18 19:30.12\u001b[0m [\u001b[32m\u001b[1minfo     \u001b[0m] \u001b[1mSignatures have been automatically determined.\u001b[0m \u001b[36maction_signature\u001b[0m=\u001b[35mSignature(dtype=[dtype('float32')], shape=[(24,)])\u001b[0m \u001b[36mobservation_signature\u001b[0m=\u001b[35mSignature(dtype=[dtype('float64')], shape=[(45,)])\u001b[0m \u001b[36mreward_signature\u001b[0m=\u001b[35mSignature(dtype=[dtype('float32')], shape=[[1]])\u001b[0m\n",
      "\u001b[2m2025-05-18 19:30.12\u001b[0m [\u001b[32m\u001b[1minfo     \u001b[0m] \u001b[1mAction-space has been automatically determined.\u001b[0m \u001b[36maction_space\u001b[0m=\u001b[35m<ActionSpace.CONTINUOUS: 1>\u001b[0m\n",
      "\u001b[2m2025-05-18 19:30.12\u001b[0m [\u001b[32m\u001b[1minfo     \u001b[0m] \u001b[1mAction size has been automatically determined.\u001b[0m \u001b[36maction_size\u001b[0m=\u001b[35m24\u001b[0m\n",
      "\u001b[2m2025-05-18 19:30.12\u001b[0m [\u001b[32m\u001b[1mdebug    \u001b[0m] \u001b[1mBuilding model...             \u001b[0m\n",
      "\u001b[2m2025-05-18 19:30.13\u001b[0m [\u001b[32m\u001b[1mdebug    \u001b[0m] \u001b[1mModel has been built.         \u001b[0m\n",
      "\u001b[2m2025-05-18 19:30.13\u001b[0m [\u001b[32m\u001b[1minfo     \u001b[0m] \u001b[1mDirectory is created at training_logs/online/pen/IQL_online_20250518193013\u001b[0m\n",
      "\u001b[2m2025-05-18 19:30.13\u001b[0m [\u001b[32m\u001b[1minfo     \u001b[0m] \u001b[1mParameters                    \u001b[0m \u001b[36mparams\u001b[0m=\u001b[35m{'observation_shape': [45], 'action_size': 24, 'config': {'type': 'iql', 'params': {'batch_size': 256, 'gamma': 0.99, 'observation_scaler': {'type': 'none', 'params': {}}, 'action_scaler': {'type': 'none', 'params': {}}, 'reward_scaler': {'type': 'none', 'params': {}}, 'compile_graph': False, 'actor_learning_rate': 0.0003, 'critic_learning_rate': 0.0003, 'actor_optim_factory': {'type': 'adam', 'params': {'clip_grad_norm': None, 'lr_scheduler_factory': {'type': 'none', 'params': {}}, 'betas': [0.9, 0.999], 'eps': 1e-08, 'weight_decay': 0, 'amsgrad': False}}, 'critic_optim_factory': {'type': 'adam', 'params': {'clip_grad_norm': None, 'lr_scheduler_factory': {'type': 'none', 'params': {}}, 'betas': [0.9, 0.999], 'eps': 1e-08, 'weight_decay': 0, 'amsgrad': False}}, 'actor_encoder_factory': {'type': 'default', 'params': {'activation': 'relu', 'use_batch_norm': False, 'dropout_rate': None}}, 'critic_encoder_factory': {'type': 'default', 'params': {'activation': 'relu', 'use_batch_norm': False, 'dropout_rate': None}}, 'value_encoder_factory': {'type': 'default', 'params': {'activation': 'relu', 'use_batch_norm': False, 'dropout_rate': None}}, 'tau': 0.005, 'n_critics': 2, 'expectile': 0.7, 'weight_temp': 3.0, 'max_weight': 100.0}}}\u001b[0m\n"
     ]
    },
    {
     "data": {
      "application/vnd.jupyter.widget-view+json": {
       "model_id": "f2bfd9e4a89e4187ba9e894508651611",
       "version_major": 2,
       "version_minor": 0
      },
      "text/plain": [
       "  0%|          | 0/100 [00:00<?, ?it/s]"
      ]
     },
     "metadata": {},
     "output_type": "display_data"
    },
    {
     "name": "stdout",
     "output_type": "stream",
     "text": [
      "\u001b[2m2025-05-18 19:30.13\u001b[0m [\u001b[32m\u001b[1minfo     \u001b[0m] \u001b[1mModel parameters are saved to training_logs/online/pen/IQL_online_20250518193013/model_10.d3\u001b[0m\n",
      "\u001b[2m2025-05-18 19:30.13\u001b[0m [\u001b[32m\u001b[1minfo     \u001b[0m] \u001b[1mIQL_online_20250518193013: epoch=1 step=10\u001b[0m \u001b[36mepoch\u001b[0m=\u001b[35m1\u001b[0m \u001b[36mmetrics\u001b[0m=\u001b[35m{'time_inference': 0.0004105091094970703, 'time_environment_step': 0.00033195018768310546, 'time_step': 0.0007580757141113281, 'evaluation': 297.9923724789885}\u001b[0m \u001b[36mstep\u001b[0m=\u001b[35m10\u001b[0m\n",
      "\u001b[2m2025-05-18 19:30.13\u001b[0m [\u001b[32m\u001b[1minfo     \u001b[0m] \u001b[1mModel parameters are saved to training_logs/online/pen/IQL_online_20250518193013/model_20.d3\u001b[0m\n",
      "\u001b[2m2025-05-18 19:30.13\u001b[0m [\u001b[32m\u001b[1minfo     \u001b[0m] \u001b[1mIQL_online_20250518193013: epoch=2 step=20\u001b[0m \u001b[36mepoch\u001b[0m=\u001b[35m2\u001b[0m \u001b[36mmetrics\u001b[0m=\u001b[35m{'time_inference': 0.00011453628540039062, 'time_environment_step': 0.0002645254135131836, 'time_step': 0.0003880500793457031, 'evaluation': 548.0928691930555}\u001b[0m \u001b[36mstep\u001b[0m=\u001b[35m20\u001b[0m\n",
      "\u001b[2m2025-05-18 19:30.14\u001b[0m [\u001b[32m\u001b[1minfo     \u001b[0m] \u001b[1mModel parameters are saved to training_logs/online/pen/IQL_online_20250518193013/model_30.d3\u001b[0m\n",
      "\u001b[2m2025-05-18 19:30.14\u001b[0m [\u001b[32m\u001b[1minfo     \u001b[0m] \u001b[1mIQL_online_20250518193013: epoch=3 step=30\u001b[0m \u001b[36mepoch\u001b[0m=\u001b[35m3\u001b[0m \u001b[36mmetrics\u001b[0m=\u001b[35m{'time_inference': 0.00011277198791503906, 'time_environment_step': 0.00019876956939697267, 'time_step': 0.0003201723098754883, 'evaluation': 4.749839672192263}\u001b[0m \u001b[36mstep\u001b[0m=\u001b[35m30\u001b[0m\n",
      "\u001b[2m2025-05-18 19:30.14\u001b[0m [\u001b[32m\u001b[1minfo     \u001b[0m] \u001b[1mModel parameters are saved to training_logs/online/pen/IQL_online_20250518193013/model_40.d3\u001b[0m\n",
      "\u001b[2m2025-05-18 19:30.14\u001b[0m [\u001b[32m\u001b[1minfo     \u001b[0m] \u001b[1mIQL_online_20250518193013: epoch=4 step=40\u001b[0m \u001b[36mepoch\u001b[0m=\u001b[35m4\u001b[0m \u001b[36mmetrics\u001b[0m=\u001b[35m{'time_inference': 0.00011410713195800782, 'time_environment_step': 0.0003059148788452148, 'time_step': 0.0004292011260986328, 'evaluation': 259.10636707418723}\u001b[0m \u001b[36mstep\u001b[0m=\u001b[35m40\u001b[0m\n",
      "\u001b[2m2025-05-18 19:30.14\u001b[0m [\u001b[32m\u001b[1minfo     \u001b[0m] \u001b[1mModel parameters are saved to training_logs/online/pen/IQL_online_20250518193013/model_50.d3\u001b[0m\n",
      "\u001b[2m2025-05-18 19:30.14\u001b[0m [\u001b[32m\u001b[1minfo     \u001b[0m] \u001b[1mIQL_online_20250518193013: epoch=5 step=50\u001b[0m \u001b[36mepoch\u001b[0m=\u001b[35m5\u001b[0m \u001b[36mmetrics\u001b[0m=\u001b[35m{'time_inference': 0.00011508464813232422, 'time_environment_step': 0.00025289058685302735, 'time_step': 0.00037763118743896487, 'evaluation': 313.59119232532544}\u001b[0m \u001b[36mstep\u001b[0m=\u001b[35m50\u001b[0m\n",
      "\u001b[2m2025-05-18 19:30.15\u001b[0m [\u001b[32m\u001b[1minfo     \u001b[0m] \u001b[1mModel parameters are saved to training_logs/online/pen/IQL_online_20250518193013/model_60.d3\u001b[0m\n",
      "\u001b[2m2025-05-18 19:30.15\u001b[0m [\u001b[32m\u001b[1minfo     \u001b[0m] \u001b[1mIQL_online_20250518193013: epoch=6 step=60\u001b[0m \u001b[36mepoch\u001b[0m=\u001b[35m6\u001b[0m \u001b[36mmetrics\u001b[0m=\u001b[35m{'time_inference': 0.00010821819305419921, 'time_environment_step': 0.00019097328186035156, 'time_step': 0.0003078222274780273, 'evaluation': 130.48958779447065}\u001b[0m \u001b[36mstep\u001b[0m=\u001b[35m60\u001b[0m\n",
      "\u001b[2m2025-05-18 19:30.15\u001b[0m [\u001b[32m\u001b[1minfo     \u001b[0m] \u001b[1mModel parameters are saved to training_logs/online/pen/IQL_online_20250518193013/model_70.d3\u001b[0m\n",
      "\u001b[2m2025-05-18 19:30.15\u001b[0m [\u001b[32m\u001b[1minfo     \u001b[0m] \u001b[1mIQL_online_20250518193013: epoch=7 step=70\u001b[0m \u001b[36mepoch\u001b[0m=\u001b[35m7\u001b[0m \u001b[36mmetrics\u001b[0m=\u001b[35m{'time_inference': 0.00012388229370117188, 'time_environment_step': 0.0003308296203613281, 'time_step': 0.00046515464782714844, 'evaluation': 1098.954476041229}\u001b[0m \u001b[36mstep\u001b[0m=\u001b[35m70\u001b[0m\n",
      "\u001b[2m2025-05-18 19:30.15\u001b[0m [\u001b[32m\u001b[1minfo     \u001b[0m] \u001b[1mModel parameters are saved to training_logs/online/pen/IQL_online_20250518193013/model_80.d3\u001b[0m\n",
      "\u001b[2m2025-05-18 19:30.15\u001b[0m [\u001b[32m\u001b[1minfo     \u001b[0m] \u001b[1mIQL_online_20250518193013: epoch=8 step=80\u001b[0m \u001b[36mepoch\u001b[0m=\u001b[35m8\u001b[0m \u001b[36mmetrics\u001b[0m=\u001b[35m{'time_inference': 0.00012199878692626953, 'time_environment_step': 0.00024096965789794923, 'time_step': 0.00037255287170410154, 'evaluation': 251.25125124821187}\u001b[0m \u001b[36mstep\u001b[0m=\u001b[35m80\u001b[0m\n",
      "\u001b[2m2025-05-18 19:30.15\u001b[0m [\u001b[32m\u001b[1minfo     \u001b[0m] \u001b[1mModel parameters are saved to training_logs/online/pen/IQL_online_20250518193013/model_90.d3\u001b[0m\n",
      "\u001b[2m2025-05-18 19:30.15\u001b[0m [\u001b[32m\u001b[1minfo     \u001b[0m] \u001b[1mIQL_online_20250518193013: epoch=9 step=90\u001b[0m \u001b[36mepoch\u001b[0m=\u001b[35m9\u001b[0m \u001b[36mmetrics\u001b[0m=\u001b[35m{'time_inference': 0.00010809898376464843, 'time_environment_step': 0.00022819042205810547, 'time_step': 0.0003458261489868164, 'evaluation': 34.13953503791781}\u001b[0m \u001b[36mstep\u001b[0m=\u001b[35m90\u001b[0m\n",
      "\u001b[2m2025-05-18 19:30.16\u001b[0m [\u001b[32m\u001b[1minfo     \u001b[0m] \u001b[1mModel parameters are saved to training_logs/online/pen/IQL_online_20250518193013/model_100.d3\u001b[0m\n",
      "\u001b[2m2025-05-18 19:30.16\u001b[0m [\u001b[32m\u001b[1minfo     \u001b[0m] \u001b[1mIQL_online_20250518193013: epoch=10 step=100\u001b[0m \u001b[36mepoch\u001b[0m=\u001b[35m10\u001b[0m \u001b[36mmetrics\u001b[0m=\u001b[35m{'time_inference': 0.00012753009796142578, 'time_environment_step': 0.0002183675765991211, 'time_step': 0.0003728389739990234, 'rollout_return': 16.01961841591252, 'evaluation': 19.009506256940703}\u001b[0m \u001b[36mstep\u001b[0m=\u001b[35m100\u001b[0m\n",
      "\u001b[2m2025-05-18 19:30.16\u001b[0m [\u001b[32m\u001b[1minfo     \u001b[0m] \u001b[1mSignatures have been automatically determined.\u001b[0m \u001b[36maction_signature\u001b[0m=\u001b[35mSignature(dtype=[dtype('float32')], shape=[(24,)])\u001b[0m \u001b[36mobservation_signature\u001b[0m=\u001b[35mSignature(dtype=[dtype('float64')], shape=[(45,)])\u001b[0m \u001b[36mreward_signature\u001b[0m=\u001b[35mSignature(dtype=[dtype('float32')], shape=[[1]])\u001b[0m\n",
      "\u001b[2m2025-05-18 19:30.16\u001b[0m [\u001b[32m\u001b[1minfo     \u001b[0m] \u001b[1mAction-space has been automatically determined.\u001b[0m \u001b[36maction_space\u001b[0m=\u001b[35m<ActionSpace.CONTINUOUS: 1>\u001b[0m\n",
      "\u001b[2m2025-05-18 19:30.16\u001b[0m [\u001b[32m\u001b[1minfo     \u001b[0m] \u001b[1mAction size has been automatically determined.\u001b[0m \u001b[36maction_size\u001b[0m=\u001b[35m24\u001b[0m\n",
      "\u001b[2m2025-05-18 19:30.16\u001b[0m [\u001b[32m\u001b[1mdebug    \u001b[0m] \u001b[1mBuilding model...             \u001b[0m\n",
      "\u001b[2m2025-05-18 19:30.16\u001b[0m [\u001b[32m\u001b[1mdebug    \u001b[0m] \u001b[1mModel has been built.         \u001b[0m\n",
      "\u001b[2m2025-05-18 19:30.16\u001b[0m [\u001b[32m\u001b[1minfo     \u001b[0m] \u001b[1mDirectory is created at training_logs/online/pen/CQL_online_20250518193016\u001b[0m\n",
      "\u001b[2m2025-05-18 19:30.16\u001b[0m [\u001b[32m\u001b[1minfo     \u001b[0m] \u001b[1mParameters                    \u001b[0m \u001b[36mparams\u001b[0m=\u001b[35m{'observation_shape': [45], 'action_size': 24, 'config': {'type': 'cql', 'params': {'batch_size': 256, 'gamma': 0.99, 'observation_scaler': {'type': 'none', 'params': {}}, 'action_scaler': {'type': 'none', 'params': {}}, 'reward_scaler': {'type': 'none', 'params': {}}, 'compile_graph': False, 'actor_learning_rate': 0.0001, 'critic_learning_rate': 0.0003, 'temp_learning_rate': 0.0001, 'alpha_learning_rate': 0.0001, 'actor_optim_factory': {'type': 'adam', 'params': {'clip_grad_norm': None, 'lr_scheduler_factory': {'type': 'none', 'params': {}}, 'betas': [0.9, 0.999], 'eps': 1e-08, 'weight_decay': 0, 'amsgrad': False}}, 'critic_optim_factory': {'type': 'adam', 'params': {'clip_grad_norm': None, 'lr_scheduler_factory': {'type': 'none', 'params': {}}, 'betas': [0.9, 0.999], 'eps': 1e-08, 'weight_decay': 0, 'amsgrad': False}}, 'temp_optim_factory': {'type': 'adam', 'params': {'clip_grad_norm': None, 'lr_scheduler_factory': {'type': 'none', 'params': {}}, 'betas': [0.9, 0.999], 'eps': 1e-08, 'weight_decay': 0, 'amsgrad': False}}, 'alpha_optim_factory': {'type': 'adam', 'params': {'clip_grad_norm': None, 'lr_scheduler_factory': {'type': 'none', 'params': {}}, 'betas': [0.9, 0.999], 'eps': 1e-08, 'weight_decay': 0, 'amsgrad': False}}, 'actor_encoder_factory': {'type': 'default', 'params': {'activation': 'relu', 'use_batch_norm': False, 'dropout_rate': None}}, 'critic_encoder_factory': {'type': 'default', 'params': {'activation': 'relu', 'use_batch_norm': False, 'dropout_rate': None}}, 'q_func_factory': {'type': 'mean', 'params': {'share_encoder': False}}, 'tau': 0.005, 'n_critics': 2, 'initial_temperature': 1.0, 'initial_alpha': 1.0, 'alpha_threshold': 10.0, 'conservative_weight': 5.0, 'n_action_samples': 10, 'soft_q_backup': False, 'max_q_backup': False}}}\u001b[0m\n"
     ]
    },
    {
     "data": {
      "application/vnd.jupyter.widget-view+json": {
       "model_id": "e4583496fe944a83a7facb0a11c8ac37",
       "version_major": 2,
       "version_minor": 0
      },
      "text/plain": [
       "  0%|          | 0/100 [00:00<?, ?it/s]"
      ]
     },
     "metadata": {},
     "output_type": "display_data"
    },
    {
     "name": "stdout",
     "output_type": "stream",
     "text": [
      "\u001b[2m2025-05-18 19:30.16\u001b[0m [\u001b[32m\u001b[1minfo     \u001b[0m] \u001b[1mModel parameters are saved to training_logs/online/pen/CQL_online_20250518193016/model_10.d3\u001b[0m\n",
      "\u001b[2m2025-05-18 19:30.16\u001b[0m [\u001b[32m\u001b[1minfo     \u001b[0m] \u001b[1mCQL_online_20250518193016: epoch=1 step=10\u001b[0m \u001b[36mepoch\u001b[0m=\u001b[35m1\u001b[0m \u001b[36mmetrics\u001b[0m=\u001b[35m{'time_inference': 0.00022077560424804688, 'time_environment_step': 0.0002650737762451172, 'time_step': 0.0004955053329467774, 'evaluation': 119.73935504340258}\u001b[0m \u001b[36mstep\u001b[0m=\u001b[35m10\u001b[0m\n",
      "\u001b[2m2025-05-18 19:30.16\u001b[0m [\u001b[32m\u001b[1minfo     \u001b[0m] \u001b[1mModel parameters are saved to training_logs/online/pen/CQL_online_20250518193016/model_20.d3\u001b[0m\n",
      "\u001b[2m2025-05-18 19:30.16\u001b[0m [\u001b[32m\u001b[1minfo     \u001b[0m] \u001b[1mCQL_online_20250518193016: epoch=2 step=20\u001b[0m \u001b[36mepoch\u001b[0m=\u001b[35m2\u001b[0m \u001b[36mmetrics\u001b[0m=\u001b[35m{'time_inference': 0.00011203289031982421, 'time_environment_step': 0.00021352767944335938, 'time_step': 0.0003337860107421875, 'evaluation': -37.22762810390058}\u001b[0m \u001b[36mstep\u001b[0m=\u001b[35m20\u001b[0m\n",
      "\u001b[2m2025-05-18 19:30.16\u001b[0m [\u001b[32m\u001b[1minfo     \u001b[0m] \u001b[1mModel parameters are saved to training_logs/online/pen/CQL_online_20250518193016/model_30.d3\u001b[0m\n",
      "\u001b[2m2025-05-18 19:30.16\u001b[0m [\u001b[32m\u001b[1minfo     \u001b[0m] \u001b[1mCQL_online_20250518193016: epoch=3 step=30\u001b[0m \u001b[36mepoch\u001b[0m=\u001b[35m3\u001b[0m \u001b[36mmetrics\u001b[0m=\u001b[35m{'time_inference': 0.00010044574737548828, 'time_environment_step': 0.00026049613952636717, 'time_step': 0.0003691434860229492, 'evaluation': -102.5261049613317}\u001b[0m \u001b[36mstep\u001b[0m=\u001b[35m30\u001b[0m\n",
      "\u001b[2m2025-05-18 19:30.17\u001b[0m [\u001b[32m\u001b[1minfo     \u001b[0m] \u001b[1mModel parameters are saved to training_logs/online/pen/CQL_online_20250518193016/model_40.d3\u001b[0m\n",
      "\u001b[2m2025-05-18 19:30.17\u001b[0m [\u001b[32m\u001b[1minfo     \u001b[0m] \u001b[1mCQL_online_20250518193016: epoch=4 step=40\u001b[0m \u001b[36mepoch\u001b[0m=\u001b[35m4\u001b[0m \u001b[36mmetrics\u001b[0m=\u001b[35m{'time_inference': 0.00010097026824951172, 'time_environment_step': 0.00019104480743408202, 'time_step': 0.00030007362365722654, 'evaluation': 23.944750441005784}\u001b[0m \u001b[36mstep\u001b[0m=\u001b[35m40\u001b[0m\n",
      "\u001b[2m2025-05-18 19:30.17\u001b[0m [\u001b[32m\u001b[1minfo     \u001b[0m] \u001b[1mModel parameters are saved to training_logs/online/pen/CQL_online_20250518193016/model_50.d3\u001b[0m\n",
      "\u001b[2m2025-05-18 19:30.17\u001b[0m [\u001b[32m\u001b[1minfo     \u001b[0m] \u001b[1mCQL_online_20250518193016: epoch=5 step=50\u001b[0m \u001b[36mepoch\u001b[0m=\u001b[35m5\u001b[0m \u001b[36mmetrics\u001b[0m=\u001b[35m{'time_inference': 0.00011570453643798828, 'time_environment_step': 0.00017664432525634765, 'time_step': 0.00030219554901123047, 'evaluation': -60.410542390285684}\u001b[0m \u001b[36mstep\u001b[0m=\u001b[35m50\u001b[0m\n",
      "\u001b[2m2025-05-18 19:30.17\u001b[0m [\u001b[32m\u001b[1minfo     \u001b[0m] \u001b[1mModel parameters are saved to training_logs/online/pen/CQL_online_20250518193016/model_60.d3\u001b[0m\n",
      "\u001b[2m2025-05-18 19:30.17\u001b[0m [\u001b[32m\u001b[1minfo     \u001b[0m] \u001b[1mCQL_online_20250518193016: epoch=6 step=60\u001b[0m \u001b[36mepoch\u001b[0m=\u001b[35m6\u001b[0m \u001b[36mmetrics\u001b[0m=\u001b[35m{'time_inference': 0.00010411739349365234, 'time_environment_step': 0.00018215179443359375, 'time_step': 0.0002955198287963867, 'evaluation': -188.0908858703579}\u001b[0m \u001b[36mstep\u001b[0m=\u001b[35m60\u001b[0m\n",
      "\u001b[2m2025-05-18 19:30.17\u001b[0m [\u001b[32m\u001b[1minfo     \u001b[0m] \u001b[1mModel parameters are saved to training_logs/online/pen/CQL_online_20250518193016/model_70.d3\u001b[0m\n",
      "\u001b[2m2025-05-18 19:30.17\u001b[0m [\u001b[32m\u001b[1minfo     \u001b[0m] \u001b[1mCQL_online_20250518193016: epoch=7 step=70\u001b[0m \u001b[36mepoch\u001b[0m=\u001b[35m7\u001b[0m \u001b[36mmetrics\u001b[0m=\u001b[35m{'time_inference': 0.00010383129119873047, 'time_environment_step': 0.00018305778503417968, 'time_step': 0.00029556751251220704, 'evaluation': -178.89211026692925}\u001b[0m \u001b[36mstep\u001b[0m=\u001b[35m70\u001b[0m\n",
      "\u001b[2m2025-05-18 19:30.18\u001b[0m [\u001b[32m\u001b[1minfo     \u001b[0m] \u001b[1mModel parameters are saved to training_logs/online/pen/CQL_online_20250518193016/model_80.d3\u001b[0m\n",
      "\u001b[2m2025-05-18 19:30.18\u001b[0m [\u001b[32m\u001b[1minfo     \u001b[0m] \u001b[1mCQL_online_20250518193016: epoch=8 step=80\u001b[0m \u001b[36mepoch\u001b[0m=\u001b[35m8\u001b[0m \u001b[36mmetrics\u001b[0m=\u001b[35m{'time_inference': 0.0001049041748046875, 'time_environment_step': 0.00019659996032714844, 'time_step': 0.00031054019927978516, 'evaluation': -81.75222714875916}\u001b[0m \u001b[36mstep\u001b[0m=\u001b[35m80\u001b[0m\n",
      "\u001b[2m2025-05-18 19:30.18\u001b[0m [\u001b[32m\u001b[1minfo     \u001b[0m] \u001b[1mModel parameters are saved to training_logs/online/pen/CQL_online_20250518193016/model_90.d3\u001b[0m\n",
      "\u001b[2m2025-05-18 19:30.18\u001b[0m [\u001b[32m\u001b[1minfo     \u001b[0m] \u001b[1mCQL_online_20250518193016: epoch=9 step=90\u001b[0m \u001b[36mepoch\u001b[0m=\u001b[35m9\u001b[0m \u001b[36mmetrics\u001b[0m=\u001b[35m{'time_inference': 9.922981262207031e-05, 'time_environment_step': 0.00019617080688476561, 'time_step': 0.00030410289764404297, 'evaluation': -128.7142769651601}\u001b[0m \u001b[36mstep\u001b[0m=\u001b[35m90\u001b[0m\n",
      "\u001b[2m2025-05-18 19:30.18\u001b[0m [\u001b[32m\u001b[1minfo     \u001b[0m] \u001b[1mModel parameters are saved to training_logs/online/pen/CQL_online_20250518193016/model_100.d3\u001b[0m\n",
      "\u001b[2m2025-05-18 19:30.18\u001b[0m [\u001b[32m\u001b[1minfo     \u001b[0m] \u001b[1mCQL_online_20250518193016: epoch=10 step=100\u001b[0m \u001b[36mepoch\u001b[0m=\u001b[35m10\u001b[0m \u001b[36mmetrics\u001b[0m=\u001b[35m{'time_inference': 0.00010991096496582031, 'time_environment_step': 0.0001989603042602539, 'time_step': 0.0003393411636352539, 'rollout_return': -200.067635591079, 'evaluation': -217.04149326123394}\u001b[0m \u001b[36mstep\u001b[0m=\u001b[35m100\u001b[0m\n",
      "\u001b[2m2025-05-18 19:30.18\u001b[0m [\u001b[32m\u001b[1minfo     \u001b[0m] \u001b[1mSignatures have been automatically determined.\u001b[0m \u001b[36maction_signature\u001b[0m=\u001b[35mSignature(dtype=[dtype('float32')], shape=[(24,)])\u001b[0m \u001b[36mobservation_signature\u001b[0m=\u001b[35mSignature(dtype=[dtype('float64')], shape=[(45,)])\u001b[0m \u001b[36mreward_signature\u001b[0m=\u001b[35mSignature(dtype=[dtype('float32')], shape=[[1]])\u001b[0m\n",
      "\u001b[2m2025-05-18 19:30.18\u001b[0m [\u001b[32m\u001b[1minfo     \u001b[0m] \u001b[1mAction-space has been automatically determined.\u001b[0m \u001b[36maction_space\u001b[0m=\u001b[35m<ActionSpace.CONTINUOUS: 1>\u001b[0m\n",
      "\u001b[2m2025-05-18 19:30.18\u001b[0m [\u001b[32m\u001b[1minfo     \u001b[0m] \u001b[1mAction size has been automatically determined.\u001b[0m \u001b[36maction_size\u001b[0m=\u001b[35m24\u001b[0m\n",
      "\u001b[2m2025-05-18 19:30.18\u001b[0m [\u001b[32m\u001b[1mdebug    \u001b[0m] \u001b[1mBuilding model...             \u001b[0m\n",
      "\u001b[2m2025-05-18 19:30.18\u001b[0m [\u001b[32m\u001b[1mdebug    \u001b[0m] \u001b[1mModel has been built.         \u001b[0m\n",
      "\u001b[2m2025-05-18 19:30.18\u001b[0m [\u001b[32m\u001b[1minfo     \u001b[0m] \u001b[1mDirectory is created at training_logs/online/pen/TD3PlusBC_online_20250518193018\u001b[0m\n",
      "\u001b[2m2025-05-18 19:30.18\u001b[0m [\u001b[32m\u001b[1minfo     \u001b[0m] \u001b[1mParameters                    \u001b[0m \u001b[36mparams\u001b[0m=\u001b[35m{'observation_shape': [45], 'action_size': 24, 'config': {'type': 'td3_plus_bc', 'params': {'batch_size': 256, 'gamma': 0.99, 'observation_scaler': {'type': 'none', 'params': {}}, 'action_scaler': {'type': 'none', 'params': {}}, 'reward_scaler': {'type': 'none', 'params': {}}, 'compile_graph': False, 'actor_learning_rate': 0.0003, 'critic_learning_rate': 0.0003, 'actor_optim_factory': {'type': 'adam', 'params': {'clip_grad_norm': None, 'lr_scheduler_factory': {'type': 'none', 'params': {}}, 'betas': [0.9, 0.999], 'eps': 1e-08, 'weight_decay': 0, 'amsgrad': False}}, 'critic_optim_factory': {'type': 'adam', 'params': {'clip_grad_norm': None, 'lr_scheduler_factory': {'type': 'none', 'params': {}}, 'betas': [0.9, 0.999], 'eps': 1e-08, 'weight_decay': 0, 'amsgrad': False}}, 'actor_encoder_factory': {'type': 'default', 'params': {'activation': 'relu', 'use_batch_norm': False, 'dropout_rate': None}}, 'critic_encoder_factory': {'type': 'default', 'params': {'activation': 'relu', 'use_batch_norm': False, 'dropout_rate': None}}, 'q_func_factory': {'type': 'mean', 'params': {'share_encoder': False}}, 'tau': 0.005, 'n_critics': 2, 'target_smoothing_sigma': 0.2, 'target_smoothing_clip': 0.5, 'alpha': 2.5, 'update_actor_interval': 2}}}\u001b[0m\n"
     ]
    },
    {
     "data": {
      "application/vnd.jupyter.widget-view+json": {
       "model_id": "8b91629d660d45eb8374c8aac879d9f6",
       "version_major": 2,
       "version_minor": 0
      },
      "text/plain": [
       "  0%|          | 0/100 [00:00<?, ?it/s]"
      ]
     },
     "metadata": {},
     "output_type": "display_data"
    },
    {
     "name": "stdout",
     "output_type": "stream",
     "text": [
      "\u001b[2m2025-05-18 19:30.18\u001b[0m [\u001b[32m\u001b[1minfo     \u001b[0m] \u001b[1mModel parameters are saved to training_logs/online/pen/TD3PlusBC_online_20250518193018/model_10.d3\u001b[0m\n",
      "\u001b[2m2025-05-18 19:30.18\u001b[0m [\u001b[32m\u001b[1minfo     \u001b[0m] \u001b[1mTD3PlusBC_online_20250518193018: epoch=1 step=10\u001b[0m \u001b[36mepoch\u001b[0m=\u001b[35m1\u001b[0m \u001b[36mmetrics\u001b[0m=\u001b[35m{'time_inference': 0.00019464492797851562, 'time_environment_step': 0.00024995803833007815, 'time_step': 0.00045535564422607424, 'evaluation': 276.72156030937947}\u001b[0m \u001b[36mstep\u001b[0m=\u001b[35m10\u001b[0m\n",
      "\u001b[2m2025-05-18 19:30.19\u001b[0m [\u001b[32m\u001b[1minfo     \u001b[0m] \u001b[1mModel parameters are saved to training_logs/online/pen/TD3PlusBC_online_20250518193018/model_20.d3\u001b[0m\n",
      "\u001b[2m2025-05-18 19:30.19\u001b[0m [\u001b[32m\u001b[1minfo     \u001b[0m] \u001b[1mTD3PlusBC_online_20250518193018: epoch=2 step=20\u001b[0m \u001b[36mepoch\u001b[0m=\u001b[35m2\u001b[0m \u001b[36mmetrics\u001b[0m=\u001b[35m{'time_inference': 9.260177612304687e-05, 'time_environment_step': 0.00022430419921875, 'time_step': 0.0003264188766479492, 'evaluation': 154.5041674284832}\u001b[0m \u001b[36mstep\u001b[0m=\u001b[35m20\u001b[0m\n",
      "\u001b[2m2025-05-18 19:30.19\u001b[0m [\u001b[32m\u001b[1minfo     \u001b[0m] \u001b[1mModel parameters are saved to training_logs/online/pen/TD3PlusBC_online_20250518193018/model_30.d3\u001b[0m\n",
      "\u001b[2m2025-05-18 19:30.19\u001b[0m [\u001b[32m\u001b[1minfo     \u001b[0m] \u001b[1mTD3PlusBC_online_20250518193018: epoch=3 step=30\u001b[0m \u001b[36mepoch\u001b[0m=\u001b[35m3\u001b[0m \u001b[36mmetrics\u001b[0m=\u001b[35m{'time_inference': 0.00010426044464111328, 'time_environment_step': 0.00019617080688476561, 'time_step': 0.00030920505523681643, 'evaluation': 185.4983173736946}\u001b[0m \u001b[36mstep\u001b[0m=\u001b[35m30\u001b[0m\n",
      "\u001b[2m2025-05-18 19:30.19\u001b[0m [\u001b[32m\u001b[1minfo     \u001b[0m] \u001b[1mModel parameters are saved to training_logs/online/pen/TD3PlusBC_online_20250518193018/model_40.d3\u001b[0m\n",
      "\u001b[2m2025-05-18 19:30.19\u001b[0m [\u001b[32m\u001b[1minfo     \u001b[0m] \u001b[1mTD3PlusBC_online_20250518193018: epoch=4 step=40\u001b[0m \u001b[36mepoch\u001b[0m=\u001b[35m4\u001b[0m \u001b[36mmetrics\u001b[0m=\u001b[35m{'time_inference': 9.708404541015625e-05, 'time_environment_step': 0.0001915454864501953, 'time_step': 0.0002971649169921875, 'evaluation': 333.53295811205015}\u001b[0m \u001b[36mstep\u001b[0m=\u001b[35m40\u001b[0m\n",
      "\u001b[2m2025-05-18 19:30.19\u001b[0m [\u001b[32m\u001b[1minfo     \u001b[0m] \u001b[1mModel parameters are saved to training_logs/online/pen/TD3PlusBC_online_20250518193018/model_50.d3\u001b[0m\n",
      "\u001b[2m2025-05-18 19:30.19\u001b[0m [\u001b[32m\u001b[1minfo     \u001b[0m] \u001b[1mTD3PlusBC_online_20250518193018: epoch=5 step=50\u001b[0m \u001b[36mepoch\u001b[0m=\u001b[35m5\u001b[0m \u001b[36mmetrics\u001b[0m=\u001b[35m{'time_inference': 0.00010056495666503907, 'time_environment_step': 0.0001707315444946289, 'time_step': 0.00028078556060791017, 'evaluation': 467.17677245932657}\u001b[0m \u001b[36mstep\u001b[0m=\u001b[35m50\u001b[0m\n",
      "\u001b[2m2025-05-18 19:30.20\u001b[0m [\u001b[32m\u001b[1minfo     \u001b[0m] \u001b[1mModel parameters are saved to training_logs/online/pen/TD3PlusBC_online_20250518193018/model_60.d3\u001b[0m\n",
      "\u001b[2m2025-05-18 19:30.20\u001b[0m [\u001b[32m\u001b[1minfo     \u001b[0m] \u001b[1mTD3PlusBC_online_20250518193018: epoch=6 step=60\u001b[0m \u001b[36mepoch\u001b[0m=\u001b[35m6\u001b[0m \u001b[36mmetrics\u001b[0m=\u001b[35m{'time_inference': 9.801387786865235e-05, 'time_environment_step': 0.00020344257354736327, 'time_step': 0.0003122568130493164, 'evaluation': 722.7188425591646}\u001b[0m \u001b[36mstep\u001b[0m=\u001b[35m60\u001b[0m\n",
      "\u001b[2m2025-05-18 19:30.20\u001b[0m [\u001b[32m\u001b[1minfo     \u001b[0m] \u001b[1mModel parameters are saved to training_logs/online/pen/TD3PlusBC_online_20250518193018/model_70.d3\u001b[0m\n",
      "\u001b[2m2025-05-18 19:30.20\u001b[0m [\u001b[32m\u001b[1minfo     \u001b[0m] \u001b[1mTD3PlusBC_online_20250518193018: epoch=7 step=70\u001b[0m \u001b[36mepoch\u001b[0m=\u001b[35m7\u001b[0m \u001b[36mmetrics\u001b[0m=\u001b[35m{'time_inference': 9.849071502685547e-05, 'time_environment_step': 0.00018541812896728517, 'time_step': 0.0002937793731689453, 'evaluation': 503.7938220968173}\u001b[0m \u001b[36mstep\u001b[0m=\u001b[35m70\u001b[0m\n",
      "\u001b[2m2025-05-18 19:30.20\u001b[0m [\u001b[32m\u001b[1minfo     \u001b[0m] \u001b[1mModel parameters are saved to training_logs/online/pen/TD3PlusBC_online_20250518193018/model_80.d3\u001b[0m\n",
      "\u001b[2m2025-05-18 19:30.20\u001b[0m [\u001b[32m\u001b[1minfo     \u001b[0m] \u001b[1mTD3PlusBC_online_20250518193018: epoch=8 step=80\u001b[0m \u001b[36mepoch\u001b[0m=\u001b[35m8\u001b[0m \u001b[36mmetrics\u001b[0m=\u001b[35m{'time_inference': 9.868144989013671e-05, 'time_environment_step': 0.00018105506896972656, 'time_step': 0.0002889156341552734, 'evaluation': 80.32672101119579}\u001b[0m \u001b[36mstep\u001b[0m=\u001b[35m80\u001b[0m\n",
      "\u001b[2m2025-05-18 19:30.21\u001b[0m [\u001b[32m\u001b[1minfo     \u001b[0m] \u001b[1mModel parameters are saved to training_logs/online/pen/TD3PlusBC_online_20250518193018/model_90.d3\u001b[0m\n",
      "\u001b[2m2025-05-18 19:30.21\u001b[0m [\u001b[32m\u001b[1minfo     \u001b[0m] \u001b[1mTD3PlusBC_online_20250518193018: epoch=9 step=90\u001b[0m \u001b[36mepoch\u001b[0m=\u001b[35m9\u001b[0m \u001b[36mmetrics\u001b[0m=\u001b[35m{'time_inference': 9.388923645019532e-05, 'time_environment_step': 0.00019509792327880858, 'time_step': 0.00029804706573486326, 'evaluation': 252.45926554278853}\u001b[0m \u001b[36mstep\u001b[0m=\u001b[35m90\u001b[0m\n",
      "\u001b[2m2025-05-18 19:30.21\u001b[0m [\u001b[32m\u001b[1minfo     \u001b[0m] \u001b[1mModel parameters are saved to training_logs/online/pen/TD3PlusBC_online_20250518193018/model_100.d3\u001b[0m\n",
      "\u001b[2m2025-05-18 19:30.21\u001b[0m [\u001b[32m\u001b[1minfo     \u001b[0m] \u001b[1mTD3PlusBC_online_20250518193018: epoch=10 step=100\u001b[0m \u001b[36mepoch\u001b[0m=\u001b[35m10\u001b[0m \u001b[36mmetrics\u001b[0m=\u001b[35m{'time_inference': 9.541511535644531e-05, 'time_environment_step': 0.00020353794097900392, 'time_step': 0.00032231807708740237, 'rollout_return': -214.3976242686804, 'evaluation': 13.750762729361934}\u001b[0m \u001b[36mstep\u001b[0m=\u001b[35m100\u001b[0m\n",
      "\u001b[2m2025-05-18 19:30.21\u001b[0m [\u001b[32m\u001b[1minfo     \u001b[0m] \u001b[1mSignatures have been automatically determined.\u001b[0m \u001b[36maction_signature\u001b[0m=\u001b[35mSignature(dtype=[dtype('float32')], shape=[(24,)])\u001b[0m \u001b[36mobservation_signature\u001b[0m=\u001b[35mSignature(dtype=[dtype('float64')], shape=[(45,)])\u001b[0m \u001b[36mreward_signature\u001b[0m=\u001b[35mSignature(dtype=[dtype('float32')], shape=[[1]])\u001b[0m\n",
      "\u001b[2m2025-05-18 19:30.21\u001b[0m [\u001b[32m\u001b[1minfo     \u001b[0m] \u001b[1mAction-space has been automatically determined.\u001b[0m \u001b[36maction_space\u001b[0m=\u001b[35m<ActionSpace.CONTINUOUS: 1>\u001b[0m\n",
      "\u001b[2m2025-05-18 19:30.21\u001b[0m [\u001b[32m\u001b[1minfo     \u001b[0m] \u001b[1mAction size has been automatically determined.\u001b[0m \u001b[36maction_size\u001b[0m=\u001b[35m24\u001b[0m\n",
      "\u001b[2m2025-05-18 19:30.21\u001b[0m [\u001b[32m\u001b[1mdebug    \u001b[0m] \u001b[1mBuilding model...             \u001b[0m\n",
      "\u001b[2m2025-05-18 19:30.21\u001b[0m [\u001b[32m\u001b[1mdebug    \u001b[0m] \u001b[1mModel has been built.         \u001b[0m\n",
      "\u001b[2m2025-05-18 19:30.21\u001b[0m [\u001b[32m\u001b[1minfo     \u001b[0m] \u001b[1mDirectory is created at training_logs/online/pen/AWAC_online_20250518193021\u001b[0m\n",
      "\u001b[2m2025-05-18 19:30.21\u001b[0m [\u001b[32m\u001b[1minfo     \u001b[0m] \u001b[1mParameters                    \u001b[0m \u001b[36mparams\u001b[0m=\u001b[35m{'observation_shape': [45], 'action_size': 24, 'config': {'type': 'awac', 'params': {'batch_size': 1024, 'gamma': 0.99, 'observation_scaler': {'type': 'none', 'params': {}}, 'action_scaler': {'type': 'none', 'params': {}}, 'reward_scaler': {'type': 'none', 'params': {}}, 'compile_graph': False, 'actor_learning_rate': 0.0003, 'critic_learning_rate': 0.0003, 'actor_optim_factory': {'type': 'adam', 'params': {'clip_grad_norm': None, 'lr_scheduler_factory': {'type': 'none', 'params': {}}, 'betas': [0.9, 0.999], 'eps': 1e-08, 'weight_decay': 0, 'amsgrad': False}}, 'critic_optim_factory': {'type': 'adam', 'params': {'clip_grad_norm': None, 'lr_scheduler_factory': {'type': 'none', 'params': {}}, 'betas': [0.9, 0.999], 'eps': 1e-08, 'weight_decay': 0, 'amsgrad': False}}, 'actor_encoder_factory': {'type': 'default', 'params': {'activation': 'relu', 'use_batch_norm': False, 'dropout_rate': None}}, 'critic_encoder_factory': {'type': 'default', 'params': {'activation': 'relu', 'use_batch_norm': False, 'dropout_rate': None}}, 'q_func_factory': {'type': 'mean', 'params': {'share_encoder': False}}, 'tau': 0.005, 'lam': 1.0, 'n_action_samples': 1, 'n_critics': 2}}}\u001b[0m\n"
     ]
    },
    {
     "data": {
      "application/vnd.jupyter.widget-view+json": {
       "model_id": "e370442f66c046eea57cf1da81ffb64d",
       "version_major": 2,
       "version_minor": 0
      },
      "text/plain": [
       "  0%|          | 0/100 [00:00<?, ?it/s]"
      ]
     },
     "metadata": {},
     "output_type": "display_data"
    },
    {
     "name": "stdout",
     "output_type": "stream",
     "text": [
      "\u001b[2m2025-05-18 19:30.21\u001b[0m [\u001b[32m\u001b[1minfo     \u001b[0m] \u001b[1mModel parameters are saved to training_logs/online/pen/AWAC_online_20250518193021/model_10.d3\u001b[0m\n",
      "\u001b[2m2025-05-18 19:30.21\u001b[0m [\u001b[32m\u001b[1minfo     \u001b[0m] \u001b[1mAWAC_online_20250518193021: epoch=1 step=10\u001b[0m \u001b[36mepoch\u001b[0m=\u001b[35m1\u001b[0m \u001b[36mmetrics\u001b[0m=\u001b[35m{'time_inference': 0.0002124309539794922, 'time_environment_step': 0.0002768993377685547, 'time_step': 0.000498819351196289, 'evaluation': -2.7400050212726663}\u001b[0m \u001b[36mstep\u001b[0m=\u001b[35m10\u001b[0m\n",
      "\u001b[2m2025-05-18 19:30.21\u001b[0m [\u001b[32m\u001b[1minfo     \u001b[0m] \u001b[1mModel parameters are saved to training_logs/online/pen/AWAC_online_20250518193021/model_20.d3\u001b[0m\n",
      "\u001b[2m2025-05-18 19:30.21\u001b[0m [\u001b[32m\u001b[1minfo     \u001b[0m] \u001b[1mAWAC_online_20250518193021: epoch=2 step=20\u001b[0m \u001b[36mepoch\u001b[0m=\u001b[35m2\u001b[0m \u001b[36mmetrics\u001b[0m=\u001b[35m{'time_inference': 0.00010144710540771484, 'time_environment_step': 0.0002626180648803711, 'time_step': 0.00037274360656738283, 'evaluation': 254.22237950195648}\u001b[0m \u001b[36mstep\u001b[0m=\u001b[35m20\u001b[0m\n",
      "\u001b[2m2025-05-18 19:30.22\u001b[0m [\u001b[32m\u001b[1minfo     \u001b[0m] \u001b[1mModel parameters are saved to training_logs/online/pen/AWAC_online_20250518193021/model_30.d3\u001b[0m\n",
      "\u001b[2m2025-05-18 19:30.22\u001b[0m [\u001b[32m\u001b[1minfo     \u001b[0m] \u001b[1mAWAC_online_20250518193021: epoch=3 step=30\u001b[0m \u001b[36mepoch\u001b[0m=\u001b[35m3\u001b[0m \u001b[36mmetrics\u001b[0m=\u001b[35m{'time_inference': 0.00011224746704101563, 'time_environment_step': 0.0002298116683959961, 'time_step': 0.0003500461578369141, 'evaluation': 582.7712137405504}\u001b[0m \u001b[36mstep\u001b[0m=\u001b[35m30\u001b[0m\n",
      "\u001b[2m2025-05-18 19:30.22\u001b[0m [\u001b[32m\u001b[1minfo     \u001b[0m] \u001b[1mModel parameters are saved to training_logs/online/pen/AWAC_online_20250518193021/model_40.d3\u001b[0m\n",
      "\u001b[2m2025-05-18 19:30.22\u001b[0m [\u001b[32m\u001b[1minfo     \u001b[0m] \u001b[1mAWAC_online_20250518193021: epoch=4 step=40\u001b[0m \u001b[36mepoch\u001b[0m=\u001b[35m4\u001b[0m \u001b[36mmetrics\u001b[0m=\u001b[35m{'time_inference': 0.00010957717895507813, 'time_environment_step': 0.00020635128021240234, 'time_step': 0.0003238201141357422, 'evaluation': 26.263628738447487}\u001b[0m \u001b[36mstep\u001b[0m=\u001b[35m40\u001b[0m\n",
      "\u001b[2m2025-05-18 19:30.22\u001b[0m [\u001b[32m\u001b[1minfo     \u001b[0m] \u001b[1mModel parameters are saved to training_logs/online/pen/AWAC_online_20250518193021/model_50.d3\u001b[0m\n",
      "\u001b[2m2025-05-18 19:30.22\u001b[0m [\u001b[32m\u001b[1minfo     \u001b[0m] \u001b[1mAWAC_online_20250518193021: epoch=5 step=50\u001b[0m \u001b[36mepoch\u001b[0m=\u001b[35m5\u001b[0m \u001b[36mmetrics\u001b[0m=\u001b[35m{'time_inference': 0.00012471675872802735, 'time_environment_step': 0.0002275705337524414, 'time_step': 0.0003609657287597656, 'evaluation': 253.9267440729324}\u001b[0m \u001b[36mstep\u001b[0m=\u001b[35m50\u001b[0m\n",
      "\u001b[2m2025-05-18 19:30.22\u001b[0m [\u001b[32m\u001b[1minfo     \u001b[0m] \u001b[1mModel parameters are saved to training_logs/online/pen/AWAC_online_20250518193021/model_60.d3\u001b[0m\n",
      "\u001b[2m2025-05-18 19:30.22\u001b[0m [\u001b[32m\u001b[1minfo     \u001b[0m] \u001b[1mAWAC_online_20250518193021: epoch=6 step=60\u001b[0m \u001b[36mepoch\u001b[0m=\u001b[35m6\u001b[0m \u001b[36mmetrics\u001b[0m=\u001b[35m{'time_inference': 0.0001132965087890625, 'time_environment_step': 0.0002626657485961914, 'time_step': 0.00038518905639648435, 'evaluation': 255.49869531755022}\u001b[0m \u001b[36mstep\u001b[0m=\u001b[35m60\u001b[0m\n",
      "\u001b[2m2025-05-18 19:30.23\u001b[0m [\u001b[32m\u001b[1minfo     \u001b[0m] \u001b[1mModel parameters are saved to training_logs/online/pen/AWAC_online_20250518193021/model_70.d3\u001b[0m\n",
      "\u001b[2m2025-05-18 19:30.23\u001b[0m [\u001b[32m\u001b[1minfo     \u001b[0m] \u001b[1mAWAC_online_20250518193021: epoch=7 step=70\u001b[0m \u001b[36mepoch\u001b[0m=\u001b[35m7\u001b[0m \u001b[36mmetrics\u001b[0m=\u001b[35m{'time_inference': 0.00010778903961181641, 'time_environment_step': 0.0002357006072998047, 'time_step': 0.0003525972366333008, 'evaluation': 12.332956190049524}\u001b[0m \u001b[36mstep\u001b[0m=\u001b[35m70\u001b[0m\n",
      "\u001b[2m2025-05-18 19:30.23\u001b[0m [\u001b[32m\u001b[1minfo     \u001b[0m] \u001b[1mModel parameters are saved to training_logs/online/pen/AWAC_online_20250518193021/model_80.d3\u001b[0m\n",
      "\u001b[2m2025-05-18 19:30.23\u001b[0m [\u001b[32m\u001b[1minfo     \u001b[0m] \u001b[1mAWAC_online_20250518193021: epoch=8 step=80\u001b[0m \u001b[36mepoch\u001b[0m=\u001b[35m8\u001b[0m \u001b[36mmetrics\u001b[0m=\u001b[35m{'time_inference': 0.00010480880737304688, 'time_environment_step': 0.00023751258850097657, 'time_step': 0.00035228729248046873, 'evaluation': 14.328053976019396}\u001b[0m \u001b[36mstep\u001b[0m=\u001b[35m80\u001b[0m\n",
      "\u001b[2m2025-05-18 19:30.23\u001b[0m [\u001b[32m\u001b[1minfo     \u001b[0m] \u001b[1mModel parameters are saved to training_logs/online/pen/AWAC_online_20250518193021/model_90.d3\u001b[0m\n",
      "\u001b[2m2025-05-18 19:30.23\u001b[0m [\u001b[32m\u001b[1minfo     \u001b[0m] \u001b[1mAWAC_online_20250518193021: epoch=9 step=90\u001b[0m \u001b[36mepoch\u001b[0m=\u001b[35m9\u001b[0m \u001b[36mmetrics\u001b[0m=\u001b[35m{'time_inference': 0.0001203775405883789, 'time_environment_step': 0.00031592845916748045, 'time_step': 0.0004462718963623047, 'evaluation': 230.89060491334112}\u001b[0m \u001b[36mstep\u001b[0m=\u001b[35m90\u001b[0m\n",
      "\u001b[2m2025-05-18 19:30.24\u001b[0m [\u001b[32m\u001b[1minfo     \u001b[0m] \u001b[1mModel parameters are saved to training_logs/online/pen/AWAC_online_20250518193021/model_100.d3\u001b[0m\n",
      "\u001b[2m2025-05-18 19:30.24\u001b[0m [\u001b[32m\u001b[1minfo     \u001b[0m] \u001b[1mAWAC_online_20250518193021: epoch=10 step=100\u001b[0m \u001b[36mepoch\u001b[0m=\u001b[35m10\u001b[0m \u001b[36mmetrics\u001b[0m=\u001b[35m{'time_inference': 0.00011105537414550782, 'time_environment_step': 0.0003258943557739258, 'time_step': 0.0004650592803955078, 'rollout_return': -32.544988457578576, 'evaluation': 797.1421518599363}\u001b[0m \u001b[36mstep\u001b[0m=\u001b[35m100\u001b[0m\n"
     ]
    }
   ],
   "source": [
    "train_online_algorithm(d3rlpy.algos.IQLConfig, pen_env, 'pen_iql', 'pen')\n",
    "train_online_algorithm(d3rlpy.algos.CQLConfig, pen_env, 'pen_cql', 'pen')\n",
    "train_online_algorithm(d3rlpy.algos.TD3PlusBCConfig, pen_env, 'pen_td3bc', 'pen')\n",
    "train_online_algorithm(d3rlpy.algos.AWACConfig, pen_env, 'pen_awac', 'pen')"
   ]
  },
  {
   "cell_type": "markdown",
   "id": "62acf1bc-c658-450c-a4da-569334978801",
   "metadata": {},
   "source": [
    "### Relocate"
   ]
  },
  {
   "cell_type": "code",
   "execution_count": 7,
   "id": "f59454c7-b54b-4b83-9147-ce8b5c5a9158",
   "metadata": {
    "scrolled": true
   },
   "outputs": [
    {
     "name": "stdout",
     "output_type": "stream",
     "text": [
      "\u001b[2m2025-05-18 19:30.24\u001b[0m [\u001b[32m\u001b[1minfo     \u001b[0m] \u001b[1mSignatures have been automatically determined.\u001b[0m \u001b[36maction_signature\u001b[0m=\u001b[35mSignature(dtype=[dtype('float32')], shape=[(30,)])\u001b[0m \u001b[36mobservation_signature\u001b[0m=\u001b[35mSignature(dtype=[dtype('float64')], shape=[(39,)])\u001b[0m \u001b[36mreward_signature\u001b[0m=\u001b[35mSignature(dtype=[dtype('float32')], shape=[[1]])\u001b[0m\n",
      "\u001b[2m2025-05-18 19:30.24\u001b[0m [\u001b[32m\u001b[1minfo     \u001b[0m] \u001b[1mAction-space has been automatically determined.\u001b[0m \u001b[36maction_space\u001b[0m=\u001b[35m<ActionSpace.CONTINUOUS: 1>\u001b[0m\n",
      "\u001b[2m2025-05-18 19:30.24\u001b[0m [\u001b[32m\u001b[1minfo     \u001b[0m] \u001b[1mAction size has been automatically determined.\u001b[0m \u001b[36maction_size\u001b[0m=\u001b[35m30\u001b[0m\n",
      "\u001b[2m2025-05-18 19:30.24\u001b[0m [\u001b[32m\u001b[1mdebug    \u001b[0m] \u001b[1mBuilding model...             \u001b[0m\n",
      "\u001b[2m2025-05-18 19:30.24\u001b[0m [\u001b[32m\u001b[1mdebug    \u001b[0m] \u001b[1mModel has been built.         \u001b[0m\n",
      "\u001b[2m2025-05-18 19:30.24\u001b[0m [\u001b[32m\u001b[1minfo     \u001b[0m] \u001b[1mDirectory is created at training_logs/online/relocate/IQL_online_20250518193024\u001b[0m\n",
      "\u001b[2m2025-05-18 19:30.24\u001b[0m [\u001b[32m\u001b[1minfo     \u001b[0m] \u001b[1mParameters                    \u001b[0m \u001b[36mparams\u001b[0m=\u001b[35m{'observation_shape': [39], 'action_size': 30, 'config': {'type': 'iql', 'params': {'batch_size': 256, 'gamma': 0.99, 'observation_scaler': {'type': 'none', 'params': {}}, 'action_scaler': {'type': 'none', 'params': {}}, 'reward_scaler': {'type': 'none', 'params': {}}, 'compile_graph': False, 'actor_learning_rate': 0.0003, 'critic_learning_rate': 0.0003, 'actor_optim_factory': {'type': 'adam', 'params': {'clip_grad_norm': None, 'lr_scheduler_factory': {'type': 'none', 'params': {}}, 'betas': [0.9, 0.999], 'eps': 1e-08, 'weight_decay': 0, 'amsgrad': False}}, 'critic_optim_factory': {'type': 'adam', 'params': {'clip_grad_norm': None, 'lr_scheduler_factory': {'type': 'none', 'params': {}}, 'betas': [0.9, 0.999], 'eps': 1e-08, 'weight_decay': 0, 'amsgrad': False}}, 'actor_encoder_factory': {'type': 'default', 'params': {'activation': 'relu', 'use_batch_norm': False, 'dropout_rate': None}}, 'critic_encoder_factory': {'type': 'default', 'params': {'activation': 'relu', 'use_batch_norm': False, 'dropout_rate': None}}, 'value_encoder_factory': {'type': 'default', 'params': {'activation': 'relu', 'use_batch_norm': False, 'dropout_rate': None}}, 'tau': 0.005, 'n_critics': 2, 'expectile': 0.7, 'weight_temp': 3.0, 'max_weight': 100.0}}}\u001b[0m\n"
     ]
    },
    {
     "data": {
      "application/vnd.jupyter.widget-view+json": {
       "model_id": "5662c3ee393a4825b5f0a9e289e51af6",
       "version_major": 2,
       "version_minor": 0
      },
      "text/plain": [
       "  0%|          | 0/100 [00:00<?, ?it/s]"
      ]
     },
     "metadata": {},
     "output_type": "display_data"
    },
    {
     "name": "stdout",
     "output_type": "stream",
     "text": [
      "\u001b[2m2025-05-18 19:30.24\u001b[0m [\u001b[32m\u001b[1minfo     \u001b[0m] \u001b[1mModel parameters are saved to training_logs/online/relocate/IQL_online_20250518193024/model_10.d3\u001b[0m\n",
      "\u001b[2m2025-05-18 19:30.24\u001b[0m [\u001b[32m\u001b[1minfo     \u001b[0m] \u001b[1mIQL_online_20250518193024: epoch=1 step=10\u001b[0m \u001b[36mepoch\u001b[0m=\u001b[35m1\u001b[0m \u001b[36mmetrics\u001b[0m=\u001b[35m{'time_inference': 0.0002890110015869141, 'time_environment_step': 0.00026783943176269533, 'time_step': 0.0005694866180419922, 'evaluation': 3.2441628630113177}\u001b[0m \u001b[36mstep\u001b[0m=\u001b[35m10\u001b[0m\n",
      "\u001b[2m2025-05-18 19:30.25\u001b[0m [\u001b[32m\u001b[1minfo     \u001b[0m] \u001b[1mModel parameters are saved to training_logs/online/relocate/IQL_online_20250518193024/model_20.d3\u001b[0m\n",
      "\u001b[2m2025-05-18 19:30.25\u001b[0m [\u001b[32m\u001b[1minfo     \u001b[0m] \u001b[1mIQL_online_20250518193024: epoch=2 step=20\u001b[0m \u001b[36mepoch\u001b[0m=\u001b[35m2\u001b[0m \u001b[36mmetrics\u001b[0m=\u001b[35m{'time_inference': 0.00010313987731933594, 'time_environment_step': 0.0002578258514404297, 'time_step': 0.00036966800689697266, 'evaluation': 4.07505456931554}\u001b[0m \u001b[36mstep\u001b[0m=\u001b[35m20\u001b[0m\n",
      "\u001b[2m2025-05-18 19:30.25\u001b[0m [\u001b[32m\u001b[1minfo     \u001b[0m] \u001b[1mModel parameters are saved to training_logs/online/relocate/IQL_online_20250518193024/model_30.d3\u001b[0m\n",
      "\u001b[2m2025-05-18 19:30.25\u001b[0m [\u001b[32m\u001b[1minfo     \u001b[0m] \u001b[1mIQL_online_20250518193024: epoch=3 step=30\u001b[0m \u001b[36mepoch\u001b[0m=\u001b[35m3\u001b[0m \u001b[36mmetrics\u001b[0m=\u001b[35m{'time_inference': 0.00011513233184814453, 'time_environment_step': 0.00022864341735839844, 'time_step': 0.00035276412963867185, 'evaluation': 3.730049702491273}\u001b[0m \u001b[36mstep\u001b[0m=\u001b[35m30\u001b[0m\n",
      "\u001b[2m2025-05-18 19:30.26\u001b[0m [\u001b[32m\u001b[1minfo     \u001b[0m] \u001b[1mModel parameters are saved to training_logs/online/relocate/IQL_online_20250518193024/model_40.d3\u001b[0m\n",
      "\u001b[2m2025-05-18 19:30.26\u001b[0m [\u001b[32m\u001b[1minfo     \u001b[0m] \u001b[1mIQL_online_20250518193024: epoch=4 step=40\u001b[0m \u001b[36mepoch\u001b[0m=\u001b[35m4\u001b[0m \u001b[36mmetrics\u001b[0m=\u001b[35m{'time_inference': 0.00011355876922607422, 'time_environment_step': 0.0002316713333129883, 'time_step': 0.00035367012023925783, 'evaluation': 3.5813354353021944}\u001b[0m \u001b[36mstep\u001b[0m=\u001b[35m40\u001b[0m\n",
      "\u001b[2m2025-05-18 19:30.26\u001b[0m [\u001b[32m\u001b[1minfo     \u001b[0m] \u001b[1mModel parameters are saved to training_logs/online/relocate/IQL_online_20250518193024/model_50.d3\u001b[0m\n",
      "\u001b[2m2025-05-18 19:30.26\u001b[0m [\u001b[32m\u001b[1minfo     \u001b[0m] \u001b[1mIQL_online_20250518193024: epoch=5 step=50\u001b[0m \u001b[36mepoch\u001b[0m=\u001b[35m5\u001b[0m \u001b[36mmetrics\u001b[0m=\u001b[35m{'time_inference': 0.00011324882507324219, 'time_environment_step': 0.00022094249725341798, 'time_step': 0.00034248828887939453, 'evaluation': 3.8395222412747962}\u001b[0m \u001b[36mstep\u001b[0m=\u001b[35m50\u001b[0m\n",
      "\u001b[2m2025-05-18 19:30.27\u001b[0m [\u001b[32m\u001b[1minfo     \u001b[0m] \u001b[1mModel parameters are saved to training_logs/online/relocate/IQL_online_20250518193024/model_60.d3\u001b[0m\n",
      "\u001b[2m2025-05-18 19:30.27\u001b[0m [\u001b[32m\u001b[1minfo     \u001b[0m] \u001b[1mIQL_online_20250518193024: epoch=6 step=60\u001b[0m \u001b[36mepoch\u001b[0m=\u001b[35m6\u001b[0m \u001b[36mmetrics\u001b[0m=\u001b[35m{'time_inference': 0.00011548995971679687, 'time_environment_step': 0.00022084712982177733, 'time_step': 0.00034635066986083985, 'evaluation': 3.541684186022541}\u001b[0m \u001b[36mstep\u001b[0m=\u001b[35m60\u001b[0m\n",
      "\u001b[2m2025-05-18 19:30.27\u001b[0m [\u001b[32m\u001b[1minfo     \u001b[0m] \u001b[1mModel parameters are saved to training_logs/online/relocate/IQL_online_20250518193024/model_70.d3\u001b[0m\n",
      "\u001b[2m2025-05-18 19:30.27\u001b[0m [\u001b[32m\u001b[1minfo     \u001b[0m] \u001b[1mIQL_online_20250518193024: epoch=7 step=70\u001b[0m \u001b[36mepoch\u001b[0m=\u001b[35m7\u001b[0m \u001b[36mmetrics\u001b[0m=\u001b[35m{'time_inference': 0.00010964870452880859, 'time_environment_step': 0.0002501726150512695, 'time_step': 0.0003694772720336914, 'evaluation': 4.122357401852232}\u001b[0m \u001b[36mstep\u001b[0m=\u001b[35m70\u001b[0m\n",
      "\u001b[2m2025-05-18 19:30.27\u001b[0m [\u001b[32m\u001b[1minfo     \u001b[0m] \u001b[1mModel parameters are saved to training_logs/online/relocate/IQL_online_20250518193024/model_80.d3\u001b[0m\n",
      "\u001b[2m2025-05-18 19:30.27\u001b[0m [\u001b[32m\u001b[1minfo     \u001b[0m] \u001b[1mIQL_online_20250518193024: epoch=8 step=80\u001b[0m \u001b[36mepoch\u001b[0m=\u001b[35m8\u001b[0m \u001b[36mmetrics\u001b[0m=\u001b[35m{'time_inference': 0.00011081695556640625, 'time_environment_step': 0.00026199817657470705, 'time_step': 0.00038211345672607423, 'evaluation': 3.204931760889557}\u001b[0m \u001b[36mstep\u001b[0m=\u001b[35m80\u001b[0m\n",
      "\u001b[2m2025-05-18 19:30.28\u001b[0m [\u001b[32m\u001b[1minfo     \u001b[0m] \u001b[1mModel parameters are saved to training_logs/online/relocate/IQL_online_20250518193024/model_90.d3\u001b[0m\n",
      "\u001b[2m2025-05-18 19:30.28\u001b[0m [\u001b[32m\u001b[1minfo     \u001b[0m] \u001b[1mIQL_online_20250518193024: epoch=9 step=90\u001b[0m \u001b[36mepoch\u001b[0m=\u001b[35m9\u001b[0m \u001b[36mmetrics\u001b[0m=\u001b[35m{'time_inference': 0.00010938644409179688, 'time_environment_step': 0.0002669095993041992, 'time_step': 0.00038597583770751955, 'evaluation': 3.372146754064628}\u001b[0m \u001b[36mstep\u001b[0m=\u001b[35m90\u001b[0m\n",
      "\u001b[2m2025-05-18 19:30.28\u001b[0m [\u001b[32m\u001b[1minfo     \u001b[0m] \u001b[1mModel parameters are saved to training_logs/online/relocate/IQL_online_20250518193024/model_100.d3\u001b[0m\n",
      "\u001b[2m2025-05-18 19:30.28\u001b[0m [\u001b[32m\u001b[1minfo     \u001b[0m] \u001b[1mIQL_online_20250518193024: epoch=10 step=100\u001b[0m \u001b[36mepoch\u001b[0m=\u001b[35m10\u001b[0m \u001b[36mmetrics\u001b[0m=\u001b[35m{'time_inference': 0.00010366439819335938, 'time_environment_step': 0.0002331256866455078, 'time_step': 0.0003453493118286133, 'evaluation': 3.657357914000621}\u001b[0m \u001b[36mstep\u001b[0m=\u001b[35m100\u001b[0m\n",
      "\u001b[2m2025-05-18 19:30.28\u001b[0m [\u001b[32m\u001b[1minfo     \u001b[0m] \u001b[1mSignatures have been automatically determined.\u001b[0m \u001b[36maction_signature\u001b[0m=\u001b[35mSignature(dtype=[dtype('float32')], shape=[(30,)])\u001b[0m \u001b[36mobservation_signature\u001b[0m=\u001b[35mSignature(dtype=[dtype('float64')], shape=[(39,)])\u001b[0m \u001b[36mreward_signature\u001b[0m=\u001b[35mSignature(dtype=[dtype('float32')], shape=[[1]])\u001b[0m\n",
      "\u001b[2m2025-05-18 19:30.28\u001b[0m [\u001b[32m\u001b[1minfo     \u001b[0m] \u001b[1mAction-space has been automatically determined.\u001b[0m \u001b[36maction_space\u001b[0m=\u001b[35m<ActionSpace.CONTINUOUS: 1>\u001b[0m\n",
      "\u001b[2m2025-05-18 19:30.28\u001b[0m [\u001b[32m\u001b[1minfo     \u001b[0m] \u001b[1mAction size has been automatically determined.\u001b[0m \u001b[36maction_size\u001b[0m=\u001b[35m30\u001b[0m\n",
      "\u001b[2m2025-05-18 19:30.28\u001b[0m [\u001b[32m\u001b[1mdebug    \u001b[0m] \u001b[1mBuilding model...             \u001b[0m\n",
      "\u001b[2m2025-05-18 19:30.28\u001b[0m [\u001b[32m\u001b[1mdebug    \u001b[0m] \u001b[1mModel has been built.         \u001b[0m\n",
      "\u001b[2m2025-05-18 19:30.28\u001b[0m [\u001b[32m\u001b[1minfo     \u001b[0m] \u001b[1mDirectory is created at training_logs/online/relocate/CQL_online_20250518193028\u001b[0m\n",
      "\u001b[2m2025-05-18 19:30.28\u001b[0m [\u001b[32m\u001b[1minfo     \u001b[0m] \u001b[1mParameters                    \u001b[0m \u001b[36mparams\u001b[0m=\u001b[35m{'observation_shape': [39], 'action_size': 30, 'config': {'type': 'cql', 'params': {'batch_size': 256, 'gamma': 0.99, 'observation_scaler': {'type': 'none', 'params': {}}, 'action_scaler': {'type': 'none', 'params': {}}, 'reward_scaler': {'type': 'none', 'params': {}}, 'compile_graph': False, 'actor_learning_rate': 0.0001, 'critic_learning_rate': 0.0003, 'temp_learning_rate': 0.0001, 'alpha_learning_rate': 0.0001, 'actor_optim_factory': {'type': 'adam', 'params': {'clip_grad_norm': None, 'lr_scheduler_factory': {'type': 'none', 'params': {}}, 'betas': [0.9, 0.999], 'eps': 1e-08, 'weight_decay': 0, 'amsgrad': False}}, 'critic_optim_factory': {'type': 'adam', 'params': {'clip_grad_norm': None, 'lr_scheduler_factory': {'type': 'none', 'params': {}}, 'betas': [0.9, 0.999], 'eps': 1e-08, 'weight_decay': 0, 'amsgrad': False}}, 'temp_optim_factory': {'type': 'adam', 'params': {'clip_grad_norm': None, 'lr_scheduler_factory': {'type': 'none', 'params': {}}, 'betas': [0.9, 0.999], 'eps': 1e-08, 'weight_decay': 0, 'amsgrad': False}}, 'alpha_optim_factory': {'type': 'adam', 'params': {'clip_grad_norm': None, 'lr_scheduler_factory': {'type': 'none', 'params': {}}, 'betas': [0.9, 0.999], 'eps': 1e-08, 'weight_decay': 0, 'amsgrad': False}}, 'actor_encoder_factory': {'type': 'default', 'params': {'activation': 'relu', 'use_batch_norm': False, 'dropout_rate': None}}, 'critic_encoder_factory': {'type': 'default', 'params': {'activation': 'relu', 'use_batch_norm': False, 'dropout_rate': None}}, 'q_func_factory': {'type': 'mean', 'params': {'share_encoder': False}}, 'tau': 0.005, 'n_critics': 2, 'initial_temperature': 1.0, 'initial_alpha': 1.0, 'alpha_threshold': 10.0, 'conservative_weight': 5.0, 'n_action_samples': 10, 'soft_q_backup': False, 'max_q_backup': False}}}\u001b[0m\n"
     ]
    },
    {
     "data": {
      "application/vnd.jupyter.widget-view+json": {
       "model_id": "139f845f4d4c40e8ab341e6770b496e2",
       "version_major": 2,
       "version_minor": 0
      },
      "text/plain": [
       "  0%|          | 0/100 [00:00<?, ?it/s]"
      ]
     },
     "metadata": {},
     "output_type": "display_data"
    },
    {
     "name": "stdout",
     "output_type": "stream",
     "text": [
      "\u001b[2m2025-05-18 19:30.29\u001b[0m [\u001b[32m\u001b[1minfo     \u001b[0m] \u001b[1mModel parameters are saved to training_logs/online/relocate/CQL_online_20250518193028/model_10.d3\u001b[0m\n",
      "\u001b[2m2025-05-18 19:30.29\u001b[0m [\u001b[32m\u001b[1minfo     \u001b[0m] \u001b[1mCQL_online_20250518193028: epoch=1 step=10\u001b[0m \u001b[36mepoch\u001b[0m=\u001b[35m1\u001b[0m \u001b[36mmetrics\u001b[0m=\u001b[35m{'time_inference': 0.0001881122589111328, 'time_environment_step': 0.00024042129516601562, 'time_step': 0.00043871402740478513, 'evaluation': 4.006903850458192}\u001b[0m \u001b[36mstep\u001b[0m=\u001b[35m10\u001b[0m\n",
      "\u001b[2m2025-05-18 19:30.29\u001b[0m [\u001b[32m\u001b[1minfo     \u001b[0m] \u001b[1mModel parameters are saved to training_logs/online/relocate/CQL_online_20250518193028/model_20.d3\u001b[0m\n",
      "\u001b[2m2025-05-18 19:30.29\u001b[0m [\u001b[32m\u001b[1minfo     \u001b[0m] \u001b[1mCQL_online_20250518193028: epoch=2 step=20\u001b[0m \u001b[36mepoch\u001b[0m=\u001b[35m2\u001b[0m \u001b[36mmetrics\u001b[0m=\u001b[35m{'time_inference': 0.00012104511260986328, 'time_environment_step': 0.0002362966537475586, 'time_step': 0.0003666877746582031, 'evaluation': 3.872748751686428}\u001b[0m \u001b[36mstep\u001b[0m=\u001b[35m20\u001b[0m\n",
      "\u001b[2m2025-05-18 19:30.30\u001b[0m [\u001b[32m\u001b[1minfo     \u001b[0m] \u001b[1mModel parameters are saved to training_logs/online/relocate/CQL_online_20250518193028/model_30.d3\u001b[0m\n",
      "\u001b[2m2025-05-18 19:30.30\u001b[0m [\u001b[32m\u001b[1minfo     \u001b[0m] \u001b[1mCQL_online_20250518193028: epoch=3 step=30\u001b[0m \u001b[36mepoch\u001b[0m=\u001b[35m3\u001b[0m \u001b[36mmetrics\u001b[0m=\u001b[35m{'time_inference': 0.00011246204376220703, 'time_environment_step': 0.00025389194488525393, 'time_step': 0.0003746986389160156, 'evaluation': 4.784802140270498}\u001b[0m \u001b[36mstep\u001b[0m=\u001b[35m30\u001b[0m\n",
      "\u001b[2m2025-05-18 19:30.30\u001b[0m [\u001b[32m\u001b[1minfo     \u001b[0m] \u001b[1mModel parameters are saved to training_logs/online/relocate/CQL_online_20250518193028/model_40.d3\u001b[0m\n",
      "\u001b[2m2025-05-18 19:30.30\u001b[0m [\u001b[32m\u001b[1minfo     \u001b[0m] \u001b[1mCQL_online_20250518193028: epoch=4 step=40\u001b[0m \u001b[36mepoch\u001b[0m=\u001b[35m4\u001b[0m \u001b[36mmetrics\u001b[0m=\u001b[35m{'time_inference': 9.877681732177735e-05, 'time_environment_step': 0.0002256631851196289, 'time_step': 0.00033211708068847656, 'evaluation': 3.9636681329545382}\u001b[0m \u001b[36mstep\u001b[0m=\u001b[35m40\u001b[0m\n",
      "\u001b[2m2025-05-18 19:30.31\u001b[0m [\u001b[32m\u001b[1minfo     \u001b[0m] \u001b[1mModel parameters are saved to training_logs/online/relocate/CQL_online_20250518193028/model_50.d3\u001b[0m\n",
      "\u001b[2m2025-05-18 19:30.31\u001b[0m [\u001b[32m\u001b[1minfo     \u001b[0m] \u001b[1mCQL_online_20250518193028: epoch=5 step=50\u001b[0m \u001b[36mepoch\u001b[0m=\u001b[35m5\u001b[0m \u001b[36mmetrics\u001b[0m=\u001b[35m{'time_inference': 0.00011687278747558593, 'time_environment_step': 0.00023267269134521484, 'time_step': 0.0003580331802368164, 'evaluation': 3.9035668408489195}\u001b[0m \u001b[36mstep\u001b[0m=\u001b[35m50\u001b[0m\n",
      "\u001b[2m2025-05-18 19:30.31\u001b[0m [\u001b[32m\u001b[1minfo     \u001b[0m] \u001b[1mModel parameters are saved to training_logs/online/relocate/CQL_online_20250518193028/model_60.d3\u001b[0m\n",
      "\u001b[2m2025-05-18 19:30.31\u001b[0m [\u001b[32m\u001b[1minfo     \u001b[0m] \u001b[1mCQL_online_20250518193028: epoch=6 step=60\u001b[0m \u001b[36mepoch\u001b[0m=\u001b[35m6\u001b[0m \u001b[36mmetrics\u001b[0m=\u001b[35m{'time_inference': 9.894371032714844e-05, 'time_environment_step': 0.00022306442260742188, 'time_step': 0.0003311634063720703, 'evaluation': 4.710251793450152}\u001b[0m \u001b[36mstep\u001b[0m=\u001b[35m60\u001b[0m\n",
      "\u001b[2m2025-05-18 19:30.32\u001b[0m [\u001b[32m\u001b[1minfo     \u001b[0m] \u001b[1mModel parameters are saved to training_logs/online/relocate/CQL_online_20250518193028/model_70.d3\u001b[0m\n",
      "\u001b[2m2025-05-18 19:30.32\u001b[0m [\u001b[32m\u001b[1minfo     \u001b[0m] \u001b[1mCQL_online_20250518193028: epoch=7 step=70\u001b[0m \u001b[36mepoch\u001b[0m=\u001b[35m7\u001b[0m \u001b[36mmetrics\u001b[0m=\u001b[35m{'time_inference': 0.00010437965393066407, 'time_environment_step': 0.0002351999282836914, 'time_step': 0.00034885406494140626, 'evaluation': 4.07564869467613}\u001b[0m \u001b[36mstep\u001b[0m=\u001b[35m70\u001b[0m\n",
      "\u001b[2m2025-05-18 19:30.32\u001b[0m [\u001b[32m\u001b[1minfo     \u001b[0m] \u001b[1mModel parameters are saved to training_logs/online/relocate/CQL_online_20250518193028/model_80.d3\u001b[0m\n",
      "\u001b[2m2025-05-18 19:30.32\u001b[0m [\u001b[32m\u001b[1minfo     \u001b[0m] \u001b[1mCQL_online_20250518193028: epoch=8 step=80\u001b[0m \u001b[36mepoch\u001b[0m=\u001b[35m8\u001b[0m \u001b[36mmetrics\u001b[0m=\u001b[35m{'time_inference': 0.00010139942169189453, 'time_environment_step': 0.00024483203887939455, 'time_step': 0.00035572052001953125, 'evaluation': 3.794808298732576}\u001b[0m \u001b[36mstep\u001b[0m=\u001b[35m80\u001b[0m\n",
      "\u001b[2m2025-05-18 19:30.33\u001b[0m [\u001b[32m\u001b[1minfo     \u001b[0m] \u001b[1mModel parameters are saved to training_logs/online/relocate/CQL_online_20250518193028/model_90.d3\u001b[0m\n",
      "\u001b[2m2025-05-18 19:30.33\u001b[0m [\u001b[32m\u001b[1minfo     \u001b[0m] \u001b[1mCQL_online_20250518193028: epoch=9 step=90\u001b[0m \u001b[36mepoch\u001b[0m=\u001b[35m9\u001b[0m \u001b[36mmetrics\u001b[0m=\u001b[35m{'time_inference': 9.911060333251953e-05, 'time_environment_step': 0.00022268295288085938, 'time_step': 0.00033121109008789064, 'evaluation': 4.619895240300922}\u001b[0m \u001b[36mstep\u001b[0m=\u001b[35m90\u001b[0m\n",
      "\u001b[2m2025-05-18 19:30.33\u001b[0m [\u001b[32m\u001b[1minfo     \u001b[0m] \u001b[1mModel parameters are saved to training_logs/online/relocate/CQL_online_20250518193028/model_100.d3\u001b[0m\n",
      "\u001b[2m2025-05-18 19:30.33\u001b[0m [\u001b[32m\u001b[1minfo     \u001b[0m] \u001b[1mCQL_online_20250518193028: epoch=10 step=100\u001b[0m \u001b[36mepoch\u001b[0m=\u001b[35m10\u001b[0m \u001b[36mmetrics\u001b[0m=\u001b[35m{'time_inference': 0.00010397434234619141, 'time_environment_step': 0.0002704620361328125, 'time_step': 0.0003837108612060547, 'evaluation': 4.230717983224272}\u001b[0m \u001b[36mstep\u001b[0m=\u001b[35m100\u001b[0m\n",
      "\u001b[2m2025-05-18 19:30.33\u001b[0m [\u001b[32m\u001b[1minfo     \u001b[0m] \u001b[1mSignatures have been automatically determined.\u001b[0m \u001b[36maction_signature\u001b[0m=\u001b[35mSignature(dtype=[dtype('float32')], shape=[(30,)])\u001b[0m \u001b[36mobservation_signature\u001b[0m=\u001b[35mSignature(dtype=[dtype('float64')], shape=[(39,)])\u001b[0m \u001b[36mreward_signature\u001b[0m=\u001b[35mSignature(dtype=[dtype('float32')], shape=[[1]])\u001b[0m\n",
      "\u001b[2m2025-05-18 19:30.33\u001b[0m [\u001b[32m\u001b[1minfo     \u001b[0m] \u001b[1mAction-space has been automatically determined.\u001b[0m \u001b[36maction_space\u001b[0m=\u001b[35m<ActionSpace.CONTINUOUS: 1>\u001b[0m\n",
      "\u001b[2m2025-05-18 19:30.33\u001b[0m [\u001b[32m\u001b[1minfo     \u001b[0m] \u001b[1mAction size has been automatically determined.\u001b[0m \u001b[36maction_size\u001b[0m=\u001b[35m30\u001b[0m\n",
      "\u001b[2m2025-05-18 19:30.33\u001b[0m [\u001b[32m\u001b[1mdebug    \u001b[0m] \u001b[1mBuilding model...             \u001b[0m\n",
      "\u001b[2m2025-05-18 19:30.33\u001b[0m [\u001b[32m\u001b[1mdebug    \u001b[0m] \u001b[1mModel has been built.         \u001b[0m\n",
      "\u001b[2m2025-05-18 19:30.33\u001b[0m [\u001b[32m\u001b[1minfo     \u001b[0m] \u001b[1mDirectory is created at training_logs/online/relocate/TD3PlusBC_online_20250518193033\u001b[0m\n",
      "\u001b[2m2025-05-18 19:30.33\u001b[0m [\u001b[32m\u001b[1minfo     \u001b[0m] \u001b[1mParameters                    \u001b[0m \u001b[36mparams\u001b[0m=\u001b[35m{'observation_shape': [39], 'action_size': 30, 'config': {'type': 'td3_plus_bc', 'params': {'batch_size': 256, 'gamma': 0.99, 'observation_scaler': {'type': 'none', 'params': {}}, 'action_scaler': {'type': 'none', 'params': {}}, 'reward_scaler': {'type': 'none', 'params': {}}, 'compile_graph': False, 'actor_learning_rate': 0.0003, 'critic_learning_rate': 0.0003, 'actor_optim_factory': {'type': 'adam', 'params': {'clip_grad_norm': None, 'lr_scheduler_factory': {'type': 'none', 'params': {}}, 'betas': [0.9, 0.999], 'eps': 1e-08, 'weight_decay': 0, 'amsgrad': False}}, 'critic_optim_factory': {'type': 'adam', 'params': {'clip_grad_norm': None, 'lr_scheduler_factory': {'type': 'none', 'params': {}}, 'betas': [0.9, 0.999], 'eps': 1e-08, 'weight_decay': 0, 'amsgrad': False}}, 'actor_encoder_factory': {'type': 'default', 'params': {'activation': 'relu', 'use_batch_norm': False, 'dropout_rate': None}}, 'critic_encoder_factory': {'type': 'default', 'params': {'activation': 'relu', 'use_batch_norm': False, 'dropout_rate': None}}, 'q_func_factory': {'type': 'mean', 'params': {'share_encoder': False}}, 'tau': 0.005, 'n_critics': 2, 'target_smoothing_sigma': 0.2, 'target_smoothing_clip': 0.5, 'alpha': 2.5, 'update_actor_interval': 2}}}\u001b[0m\n"
     ]
    },
    {
     "data": {
      "application/vnd.jupyter.widget-view+json": {
       "model_id": "cea70c630a8e4c2ab7f525c5fadefab3",
       "version_major": 2,
       "version_minor": 0
      },
      "text/plain": [
       "  0%|          | 0/100 [00:00<?, ?it/s]"
      ]
     },
     "metadata": {},
     "output_type": "display_data"
    },
    {
     "name": "stdout",
     "output_type": "stream",
     "text": [
      "\u001b[2m2025-05-18 19:30.34\u001b[0m [\u001b[32m\u001b[1minfo     \u001b[0m] \u001b[1mModel parameters are saved to training_logs/online/relocate/TD3PlusBC_online_20250518193033/model_10.d3\u001b[0m\n",
      "\u001b[2m2025-05-18 19:30.34\u001b[0m [\u001b[32m\u001b[1minfo     \u001b[0m] \u001b[1mTD3PlusBC_online_20250518193033: epoch=1 step=10\u001b[0m \u001b[36mepoch\u001b[0m=\u001b[35m1\u001b[0m \u001b[36mmetrics\u001b[0m=\u001b[35m{'time_inference': 0.00016732215881347655, 'time_environment_step': 0.00025184154510498046, 'time_step': 0.00042862892150878905, 'evaluation': 4.665766110895869}\u001b[0m \u001b[36mstep\u001b[0m=\u001b[35m10\u001b[0m\n",
      "\u001b[2m2025-05-18 19:30.34\u001b[0m [\u001b[32m\u001b[1minfo     \u001b[0m] \u001b[1mModel parameters are saved to training_logs/online/relocate/TD3PlusBC_online_20250518193033/model_20.d3\u001b[0m\n",
      "\u001b[2m2025-05-18 19:30.34\u001b[0m [\u001b[32m\u001b[1minfo     \u001b[0m] \u001b[1mTD3PlusBC_online_20250518193033: epoch=2 step=20\u001b[0m \u001b[36mepoch\u001b[0m=\u001b[35m2\u001b[0m \u001b[36mmetrics\u001b[0m=\u001b[35m{'time_inference': 0.00012030601501464844, 'time_environment_step': 0.00024745464324951174, 'time_step': 0.00037815570831298826, 'evaluation': 4.83721109061747}\u001b[0m \u001b[36mstep\u001b[0m=\u001b[35m20\u001b[0m\n",
      "\u001b[2m2025-05-18 19:30.35\u001b[0m [\u001b[32m\u001b[1minfo     \u001b[0m] \u001b[1mModel parameters are saved to training_logs/online/relocate/TD3PlusBC_online_20250518193033/model_30.d3\u001b[0m\n",
      "\u001b[2m2025-05-18 19:30.35\u001b[0m [\u001b[32m\u001b[1minfo     \u001b[0m] \u001b[1mTD3PlusBC_online_20250518193033: epoch=3 step=30\u001b[0m \u001b[36mepoch\u001b[0m=\u001b[35m3\u001b[0m \u001b[36mmetrics\u001b[0m=\u001b[35m{'time_inference': 8.778572082519531e-05, 'time_environment_step': 0.00023622512817382811, 'time_step': 0.0003321409225463867, 'evaluation': 3.9016552331207506}\u001b[0m \u001b[36mstep\u001b[0m=\u001b[35m30\u001b[0m\n",
      "\u001b[2m2025-05-18 19:30.35\u001b[0m [\u001b[32m\u001b[1minfo     \u001b[0m] \u001b[1mModel parameters are saved to training_logs/online/relocate/TD3PlusBC_online_20250518193033/model_40.d3\u001b[0m\n",
      "\u001b[2m2025-05-18 19:30.35\u001b[0m [\u001b[32m\u001b[1minfo     \u001b[0m] \u001b[1mTD3PlusBC_online_20250518193033: epoch=4 step=40\u001b[0m \u001b[36mepoch\u001b[0m=\u001b[35m4\u001b[0m \u001b[36mmetrics\u001b[0m=\u001b[35m{'time_inference': 8.666515350341797e-05, 'time_environment_step': 0.00022940635681152345, 'time_step': 0.00032389163970947266, 'evaluation': 4.165661455325701}\u001b[0m \u001b[36mstep\u001b[0m=\u001b[35m40\u001b[0m\n",
      "\u001b[2m2025-05-18 19:30.36\u001b[0m [\u001b[32m\u001b[1minfo     \u001b[0m] \u001b[1mModel parameters are saved to training_logs/online/relocate/TD3PlusBC_online_20250518193033/model_50.d3\u001b[0m\n",
      "\u001b[2m2025-05-18 19:30.36\u001b[0m [\u001b[32m\u001b[1minfo     \u001b[0m] \u001b[1mTD3PlusBC_online_20250518193033: epoch=5 step=50\u001b[0m \u001b[36mepoch\u001b[0m=\u001b[35m5\u001b[0m \u001b[36mmetrics\u001b[0m=\u001b[35m{'time_inference': 8.313655853271484e-05, 'time_environment_step': 0.00023183822631835937, 'time_step': 0.00032317638397216797, 'evaluation': 4.395176471568449}\u001b[0m \u001b[36mstep\u001b[0m=\u001b[35m50\u001b[0m\n",
      "\u001b[2m2025-05-18 19:30.36\u001b[0m [\u001b[32m\u001b[1minfo     \u001b[0m] \u001b[1mModel parameters are saved to training_logs/online/relocate/TD3PlusBC_online_20250518193033/model_60.d3\u001b[0m\n",
      "\u001b[2m2025-05-18 19:30.36\u001b[0m [\u001b[32m\u001b[1minfo     \u001b[0m] \u001b[1mTD3PlusBC_online_20250518193033: epoch=6 step=60\u001b[0m \u001b[36mepoch\u001b[0m=\u001b[35m6\u001b[0m \u001b[36mmetrics\u001b[0m=\u001b[35m{'time_inference': 8.947849273681641e-05, 'time_environment_step': 0.000248265266418457, 'time_step': 0.0003468036651611328, 'evaluation': 4.000897789870162}\u001b[0m \u001b[36mstep\u001b[0m=\u001b[35m60\u001b[0m\n",
      "\u001b[2m2025-05-18 19:30.37\u001b[0m [\u001b[32m\u001b[1minfo     \u001b[0m] \u001b[1mModel parameters are saved to training_logs/online/relocate/TD3PlusBC_online_20250518193033/model_70.d3\u001b[0m\n",
      "\u001b[2m2025-05-18 19:30.37\u001b[0m [\u001b[32m\u001b[1minfo     \u001b[0m] \u001b[1mTD3PlusBC_online_20250518193033: epoch=7 step=70\u001b[0m \u001b[36mepoch\u001b[0m=\u001b[35m7\u001b[0m \u001b[36mmetrics\u001b[0m=\u001b[35m{'time_inference': 9.2315673828125e-05, 'time_environment_step': 0.00024645328521728517, 'time_step': 0.0003478765487670898, 'evaluation': 5.1467738895358845}\u001b[0m \u001b[36mstep\u001b[0m=\u001b[35m70\u001b[0m\n",
      "\u001b[2m2025-05-18 19:30.37\u001b[0m [\u001b[32m\u001b[1minfo     \u001b[0m] \u001b[1mModel parameters are saved to training_logs/online/relocate/TD3PlusBC_online_20250518193033/model_80.d3\u001b[0m\n",
      "\u001b[2m2025-05-18 19:30.37\u001b[0m [\u001b[32m\u001b[1minfo     \u001b[0m] \u001b[1mTD3PlusBC_online_20250518193033: epoch=8 step=80\u001b[0m \u001b[36mepoch\u001b[0m=\u001b[35m8\u001b[0m \u001b[36mmetrics\u001b[0m=\u001b[35m{'time_inference': 9.546279907226562e-05, 'time_environment_step': 0.00022532939910888672, 'time_step': 0.00032913684844970703, 'evaluation': 4.397422157448324}\u001b[0m \u001b[36mstep\u001b[0m=\u001b[35m80\u001b[0m\n",
      "\u001b[2m2025-05-18 19:30.38\u001b[0m [\u001b[32m\u001b[1minfo     \u001b[0m] \u001b[1mModel parameters are saved to training_logs/online/relocate/TD3PlusBC_online_20250518193033/model_90.d3\u001b[0m\n",
      "\u001b[2m2025-05-18 19:30.38\u001b[0m [\u001b[32m\u001b[1minfo     \u001b[0m] \u001b[1mTD3PlusBC_online_20250518193033: epoch=9 step=90\u001b[0m \u001b[36mepoch\u001b[0m=\u001b[35m9\u001b[0m \u001b[36mmetrics\u001b[0m=\u001b[35m{'time_inference': 9.238719940185547e-05, 'time_environment_step': 0.00022962093353271485, 'time_step': 0.0003311634063720703, 'evaluation': 4.245279518852836}\u001b[0m \u001b[36mstep\u001b[0m=\u001b[35m90\u001b[0m\n",
      "\u001b[2m2025-05-18 19:30.38\u001b[0m [\u001b[32m\u001b[1minfo     \u001b[0m] \u001b[1mModel parameters are saved to training_logs/online/relocate/TD3PlusBC_online_20250518193033/model_100.d3\u001b[0m\n",
      "\u001b[2m2025-05-18 19:30.38\u001b[0m [\u001b[32m\u001b[1minfo     \u001b[0m] \u001b[1mTD3PlusBC_online_20250518193033: epoch=10 step=100\u001b[0m \u001b[36mepoch\u001b[0m=\u001b[35m10\u001b[0m \u001b[36mmetrics\u001b[0m=\u001b[35m{'time_inference': 0.00010037422180175781, 'time_environment_step': 0.0002567291259765625, 'time_step': 0.00036678314208984377, 'evaluation': 4.370323770559784}\u001b[0m \u001b[36mstep\u001b[0m=\u001b[35m100\u001b[0m\n",
      "\u001b[2m2025-05-18 19:30.38\u001b[0m [\u001b[32m\u001b[1minfo     \u001b[0m] \u001b[1mSignatures have been automatically determined.\u001b[0m \u001b[36maction_signature\u001b[0m=\u001b[35mSignature(dtype=[dtype('float32')], shape=[(30,)])\u001b[0m \u001b[36mobservation_signature\u001b[0m=\u001b[35mSignature(dtype=[dtype('float64')], shape=[(39,)])\u001b[0m \u001b[36mreward_signature\u001b[0m=\u001b[35mSignature(dtype=[dtype('float32')], shape=[[1]])\u001b[0m\n",
      "\u001b[2m2025-05-18 19:30.38\u001b[0m [\u001b[32m\u001b[1minfo     \u001b[0m] \u001b[1mAction-space has been automatically determined.\u001b[0m \u001b[36maction_space\u001b[0m=\u001b[35m<ActionSpace.CONTINUOUS: 1>\u001b[0m\n",
      "\u001b[2m2025-05-18 19:30.38\u001b[0m [\u001b[32m\u001b[1minfo     \u001b[0m] \u001b[1mAction size has been automatically determined.\u001b[0m \u001b[36maction_size\u001b[0m=\u001b[35m30\u001b[0m\n",
      "\u001b[2m2025-05-18 19:30.38\u001b[0m [\u001b[32m\u001b[1mdebug    \u001b[0m] \u001b[1mBuilding model...             \u001b[0m\n",
      "\u001b[2m2025-05-18 19:30.38\u001b[0m [\u001b[32m\u001b[1mdebug    \u001b[0m] \u001b[1mModel has been built.         \u001b[0m\n",
      "\u001b[2m2025-05-18 19:30.38\u001b[0m [\u001b[32m\u001b[1minfo     \u001b[0m] \u001b[1mDirectory is created at training_logs/online/relocate/AWAC_online_20250518193038\u001b[0m\n",
      "\u001b[2m2025-05-18 19:30.38\u001b[0m [\u001b[32m\u001b[1minfo     \u001b[0m] \u001b[1mParameters                    \u001b[0m \u001b[36mparams\u001b[0m=\u001b[35m{'observation_shape': [39], 'action_size': 30, 'config': {'type': 'awac', 'params': {'batch_size': 1024, 'gamma': 0.99, 'observation_scaler': {'type': 'none', 'params': {}}, 'action_scaler': {'type': 'none', 'params': {}}, 'reward_scaler': {'type': 'none', 'params': {}}, 'compile_graph': False, 'actor_learning_rate': 0.0003, 'critic_learning_rate': 0.0003, 'actor_optim_factory': {'type': 'adam', 'params': {'clip_grad_norm': None, 'lr_scheduler_factory': {'type': 'none', 'params': {}}, 'betas': [0.9, 0.999], 'eps': 1e-08, 'weight_decay': 0, 'amsgrad': False}}, 'critic_optim_factory': {'type': 'adam', 'params': {'clip_grad_norm': None, 'lr_scheduler_factory': {'type': 'none', 'params': {}}, 'betas': [0.9, 0.999], 'eps': 1e-08, 'weight_decay': 0, 'amsgrad': False}}, 'actor_encoder_factory': {'type': 'default', 'params': {'activation': 'relu', 'use_batch_norm': False, 'dropout_rate': None}}, 'critic_encoder_factory': {'type': 'default', 'params': {'activation': 'relu', 'use_batch_norm': False, 'dropout_rate': None}}, 'q_func_factory': {'type': 'mean', 'params': {'share_encoder': False}}, 'tau': 0.005, 'lam': 1.0, 'n_action_samples': 1, 'n_critics': 2}}}\u001b[0m\n"
     ]
    },
    {
     "data": {
      "application/vnd.jupyter.widget-view+json": {
       "model_id": "48be4e37aadb4f61b0a8a8bf35fab452",
       "version_major": 2,
       "version_minor": 0
      },
      "text/plain": [
       "  0%|          | 0/100 [00:00<?, ?it/s]"
      ]
     },
     "metadata": {},
     "output_type": "display_data"
    },
    {
     "name": "stdout",
     "output_type": "stream",
     "text": [
      "\u001b[2m2025-05-18 19:30.39\u001b[0m [\u001b[32m\u001b[1minfo     \u001b[0m] \u001b[1mModel parameters are saved to training_logs/online/relocate/AWAC_online_20250518193038/model_10.d3\u001b[0m\n",
      "\u001b[2m2025-05-18 19:30.39\u001b[0m [\u001b[32m\u001b[1minfo     \u001b[0m] \u001b[1mAWAC_online_20250518193038: epoch=1 step=10\u001b[0m \u001b[36mepoch\u001b[0m=\u001b[35m1\u001b[0m \u001b[36mmetrics\u001b[0m=\u001b[35m{'time_inference': 0.00022344589233398439, 'time_environment_step': 0.00024228096008300782, 'time_step': 0.00047483444213867185, 'evaluation': 3.766323004197139}\u001b[0m \u001b[36mstep\u001b[0m=\u001b[35m10\u001b[0m\n",
      "\u001b[2m2025-05-18 19:30.39\u001b[0m [\u001b[32m\u001b[1minfo     \u001b[0m] \u001b[1mModel parameters are saved to training_logs/online/relocate/AWAC_online_20250518193038/model_20.d3\u001b[0m\n",
      "\u001b[2m2025-05-18 19:30.39\u001b[0m [\u001b[32m\u001b[1minfo     \u001b[0m] \u001b[1mAWAC_online_20250518193038: epoch=2 step=20\u001b[0m \u001b[36mepoch\u001b[0m=\u001b[35m2\u001b[0m \u001b[36mmetrics\u001b[0m=\u001b[35m{'time_inference': 0.00011188983917236328, 'time_environment_step': 0.0002591133117675781, 'time_step': 0.00037996768951416017, 'evaluation': 3.925611409620751}\u001b[0m \u001b[36mstep\u001b[0m=\u001b[35m20\u001b[0m\n",
      "\u001b[2m2025-05-18 19:30.40\u001b[0m [\u001b[32m\u001b[1minfo     \u001b[0m] \u001b[1mModel parameters are saved to training_logs/online/relocate/AWAC_online_20250518193038/model_30.d3\u001b[0m\n",
      "\u001b[2m2025-05-18 19:30.40\u001b[0m [\u001b[32m\u001b[1minfo     \u001b[0m] \u001b[1mAWAC_online_20250518193038: epoch=3 step=30\u001b[0m \u001b[36mepoch\u001b[0m=\u001b[35m3\u001b[0m \u001b[36mmetrics\u001b[0m=\u001b[35m{'time_inference': 0.00011472702026367187, 'time_environment_step': 0.00023050308227539061, 'time_step': 0.00035350322723388673, 'evaluation': 3.6441565924376436}\u001b[0m \u001b[36mstep\u001b[0m=\u001b[35m30\u001b[0m\n",
      "\u001b[2m2025-05-18 19:30.40\u001b[0m [\u001b[32m\u001b[1minfo     \u001b[0m] \u001b[1mModel parameters are saved to training_logs/online/relocate/AWAC_online_20250518193038/model_40.d3\u001b[0m\n",
      "\u001b[2m2025-05-18 19:30.40\u001b[0m [\u001b[32m\u001b[1minfo     \u001b[0m] \u001b[1mAWAC_online_20250518193038: epoch=4 step=40\u001b[0m \u001b[36mepoch\u001b[0m=\u001b[35m4\u001b[0m \u001b[36mmetrics\u001b[0m=\u001b[35m{'time_inference': 9.267330169677734e-05, 'time_environment_step': 0.00023040771484375, 'time_step': 0.00033106803894042967, 'evaluation': 4.274155955925957}\u001b[0m \u001b[36mstep\u001b[0m=\u001b[35m40\u001b[0m\n",
      "\u001b[2m2025-05-18 19:30.41\u001b[0m [\u001b[32m\u001b[1minfo     \u001b[0m] \u001b[1mModel parameters are saved to training_logs/online/relocate/AWAC_online_20250518193038/model_50.d3\u001b[0m\n",
      "\u001b[2m2025-05-18 19:30.41\u001b[0m [\u001b[32m\u001b[1minfo     \u001b[0m] \u001b[1mAWAC_online_20250518193038: epoch=5 step=50\u001b[0m \u001b[36mepoch\u001b[0m=\u001b[35m5\u001b[0m \u001b[36mmetrics\u001b[0m=\u001b[35m{'time_inference': 0.00010967254638671875, 'time_environment_step': 0.00030956268310546877, 'time_step': 0.00042853355407714846, 'evaluation': 3.496075697712631}\u001b[0m \u001b[36mstep\u001b[0m=\u001b[35m50\u001b[0m\n",
      "\u001b[2m2025-05-18 19:30.41\u001b[0m [\u001b[32m\u001b[1minfo     \u001b[0m] \u001b[1mModel parameters are saved to training_logs/online/relocate/AWAC_online_20250518193038/model_60.d3\u001b[0m\n",
      "\u001b[2m2025-05-18 19:30.41\u001b[0m [\u001b[32m\u001b[1minfo     \u001b[0m] \u001b[1mAWAC_online_20250518193038: epoch=6 step=60\u001b[0m \u001b[36mepoch\u001b[0m=\u001b[35m6\u001b[0m \u001b[36mmetrics\u001b[0m=\u001b[35m{'time_inference': 0.0001024484634399414, 'time_environment_step': 0.00024921894073486327, 'time_step': 0.0003614902496337891, 'evaluation': 3.4349996487240233}\u001b[0m \u001b[36mstep\u001b[0m=\u001b[35m60\u001b[0m\n",
      "\u001b[2m2025-05-18 19:30.42\u001b[0m [\u001b[32m\u001b[1minfo     \u001b[0m] \u001b[1mModel parameters are saved to training_logs/online/relocate/AWAC_online_20250518193038/model_70.d3\u001b[0m\n",
      "\u001b[2m2025-05-18 19:30.42\u001b[0m [\u001b[32m\u001b[1minfo     \u001b[0m] \u001b[1mAWAC_online_20250518193038: epoch=7 step=70\u001b[0m \u001b[36mepoch\u001b[0m=\u001b[35m7\u001b[0m \u001b[36mmetrics\u001b[0m=\u001b[35m{'time_inference': 0.0001104116439819336, 'time_environment_step': 0.00023777484893798827, 'time_step': 0.0003570556640625, 'evaluation': 3.8060769499383142}\u001b[0m \u001b[36mstep\u001b[0m=\u001b[35m70\u001b[0m\n",
      "\u001b[2m2025-05-18 19:30.42\u001b[0m [\u001b[32m\u001b[1minfo     \u001b[0m] \u001b[1mModel parameters are saved to training_logs/online/relocate/AWAC_online_20250518193038/model_80.d3\u001b[0m\n",
      "\u001b[2m2025-05-18 19:30.42\u001b[0m [\u001b[32m\u001b[1minfo     \u001b[0m] \u001b[1mAWAC_online_20250518193038: epoch=8 step=80\u001b[0m \u001b[36mepoch\u001b[0m=\u001b[35m8\u001b[0m \u001b[36mmetrics\u001b[0m=\u001b[35m{'time_inference': 9.541511535644531e-05, 'time_environment_step': 0.00022802352905273437, 'time_step': 0.00033185482025146487, 'evaluation': 3.1299124587216243}\u001b[0m \u001b[36mstep\u001b[0m=\u001b[35m80\u001b[0m\n",
      "\u001b[2m2025-05-18 19:30.43\u001b[0m [\u001b[32m\u001b[1minfo     \u001b[0m] \u001b[1mModel parameters are saved to training_logs/online/relocate/AWAC_online_20250518193038/model_90.d3\u001b[0m\n",
      "\u001b[2m2025-05-18 19:30.43\u001b[0m [\u001b[32m\u001b[1minfo     \u001b[0m] \u001b[1mAWAC_online_20250518193038: epoch=9 step=90\u001b[0m \u001b[36mepoch\u001b[0m=\u001b[35m9\u001b[0m \u001b[36mmetrics\u001b[0m=\u001b[35m{'time_inference': 0.00010561943054199219, 'time_environment_step': 0.0002521038055419922, 'time_step': 0.00036613941192626954, 'evaluation': 4.12700952905208}\u001b[0m \u001b[36mstep\u001b[0m=\u001b[35m90\u001b[0m\n",
      "\u001b[2m2025-05-18 19:30.43\u001b[0m [\u001b[32m\u001b[1minfo     \u001b[0m] \u001b[1mModel parameters are saved to training_logs/online/relocate/AWAC_online_20250518193038/model_100.d3\u001b[0m\n",
      "\u001b[2m2025-05-18 19:30.43\u001b[0m [\u001b[32m\u001b[1minfo     \u001b[0m] \u001b[1mAWAC_online_20250518193038: epoch=10 step=100\u001b[0m \u001b[36mepoch\u001b[0m=\u001b[35m10\u001b[0m \u001b[36mmetrics\u001b[0m=\u001b[35m{'time_inference': 0.00011055469512939453, 'time_environment_step': 0.000252079963684082, 'time_step': 0.0003707647323608398, 'evaluation': 3.9373228312800292}\u001b[0m \u001b[36mstep\u001b[0m=\u001b[35m100\u001b[0m\n"
     ]
    }
   ],
   "source": [
    "train_online_algorithm(d3rlpy.algos.IQLConfig, relocate_env, 'relocate_iql', 'relocate')\n",
    "train_online_algorithm(d3rlpy.algos.CQLConfig, relocate_env, 'relocate_cql', 'relocate')\n",
    "train_online_algorithm(d3rlpy.algos.TD3PlusBCConfig, relocate_env, 'relocate_td3bc', 'relocate')\n",
    "train_online_algorithm(d3rlpy.algos.AWACConfig, relocate_env, 'relocate_awac', 'relocate')"
   ]
  },
  {
   "cell_type": "markdown",
   "id": "5e25f16a-af0a-49e5-be45-8869c0409409",
   "metadata": {},
   "source": [
    "### Hammer"
   ]
  },
  {
   "cell_type": "code",
   "execution_count": 8,
   "id": "e405aaea-c517-443a-949a-b6fe67379bb4",
   "metadata": {
    "scrolled": true
   },
   "outputs": [
    {
     "name": "stdout",
     "output_type": "stream",
     "text": [
      "\u001b[2m2025-05-18 19:30.43\u001b[0m [\u001b[32m\u001b[1minfo     \u001b[0m] \u001b[1mSignatures have been automatically determined.\u001b[0m \u001b[36maction_signature\u001b[0m=\u001b[35mSignature(dtype=[dtype('float32')], shape=[(26,)])\u001b[0m \u001b[36mobservation_signature\u001b[0m=\u001b[35mSignature(dtype=[dtype('float64')], shape=[(46,)])\u001b[0m \u001b[36mreward_signature\u001b[0m=\u001b[35mSignature(dtype=[dtype('float32')], shape=[[1]])\u001b[0m\n",
      "\u001b[2m2025-05-18 19:30.43\u001b[0m [\u001b[32m\u001b[1minfo     \u001b[0m] \u001b[1mAction-space has been automatically determined.\u001b[0m \u001b[36maction_space\u001b[0m=\u001b[35m<ActionSpace.CONTINUOUS: 1>\u001b[0m\n",
      "\u001b[2m2025-05-18 19:30.43\u001b[0m [\u001b[32m\u001b[1minfo     \u001b[0m] \u001b[1mAction size has been automatically determined.\u001b[0m \u001b[36maction_size\u001b[0m=\u001b[35m26\u001b[0m\n",
      "\u001b[2m2025-05-18 19:30.43\u001b[0m [\u001b[32m\u001b[1mdebug    \u001b[0m] \u001b[1mBuilding model...             \u001b[0m\n",
      "\u001b[2m2025-05-18 19:30.43\u001b[0m [\u001b[32m\u001b[1mdebug    \u001b[0m] \u001b[1mModel has been built.         \u001b[0m\n",
      "\u001b[2m2025-05-18 19:30.43\u001b[0m [\u001b[32m\u001b[1minfo     \u001b[0m] \u001b[1mDirectory is created at training_logs/online/hammer/IQL_online_20250518193043\u001b[0m\n",
      "\u001b[2m2025-05-18 19:30.43\u001b[0m [\u001b[32m\u001b[1minfo     \u001b[0m] \u001b[1mParameters                    \u001b[0m \u001b[36mparams\u001b[0m=\u001b[35m{'observation_shape': [46], 'action_size': 26, 'config': {'type': 'iql', 'params': {'batch_size': 256, 'gamma': 0.99, 'observation_scaler': {'type': 'none', 'params': {}}, 'action_scaler': {'type': 'none', 'params': {}}, 'reward_scaler': {'type': 'none', 'params': {}}, 'compile_graph': False, 'actor_learning_rate': 0.0003, 'critic_learning_rate': 0.0003, 'actor_optim_factory': {'type': 'adam', 'params': {'clip_grad_norm': None, 'lr_scheduler_factory': {'type': 'none', 'params': {}}, 'betas': [0.9, 0.999], 'eps': 1e-08, 'weight_decay': 0, 'amsgrad': False}}, 'critic_optim_factory': {'type': 'adam', 'params': {'clip_grad_norm': None, 'lr_scheduler_factory': {'type': 'none', 'params': {}}, 'betas': [0.9, 0.999], 'eps': 1e-08, 'weight_decay': 0, 'amsgrad': False}}, 'actor_encoder_factory': {'type': 'default', 'params': {'activation': 'relu', 'use_batch_norm': False, 'dropout_rate': None}}, 'critic_encoder_factory': {'type': 'default', 'params': {'activation': 'relu', 'use_batch_norm': False, 'dropout_rate': None}}, 'value_encoder_factory': {'type': 'default', 'params': {'activation': 'relu', 'use_batch_norm': False, 'dropout_rate': None}}, 'tau': 0.005, 'n_critics': 2, 'expectile': 0.7, 'weight_temp': 3.0, 'max_weight': 100.0}}}\u001b[0m\n"
     ]
    },
    {
     "data": {
      "application/vnd.jupyter.widget-view+json": {
       "model_id": "78ab3ff1fd064d9f9abc9f15cc4ae92f",
       "version_major": 2,
       "version_minor": 0
      },
      "text/plain": [
       "  0%|          | 0/100 [00:00<?, ?it/s]"
      ]
     },
     "metadata": {},
     "output_type": "display_data"
    },
    {
     "name": "stdout",
     "output_type": "stream",
     "text": [
      "\u001b[2m2025-05-18 19:30.44\u001b[0m [\u001b[32m\u001b[1minfo     \u001b[0m] \u001b[1mModel parameters are saved to training_logs/online/hammer/IQL_online_20250518193043/model_10.d3\u001b[0m\n",
      "\u001b[2m2025-05-18 19:30.44\u001b[0m [\u001b[32m\u001b[1minfo     \u001b[0m] \u001b[1mIQL_online_20250518193043: epoch=1 step=10\u001b[0m \u001b[36mepoch\u001b[0m=\u001b[35m1\u001b[0m \u001b[36mmetrics\u001b[0m=\u001b[35m{'time_inference': 0.0002064228057861328, 'time_environment_step': 0.0003233194351196289, 'time_step': 0.0005400419235229492, 'evaluation': -231.23753439811475}\u001b[0m \u001b[36mstep\u001b[0m=\u001b[35m10\u001b[0m\n",
      "\u001b[2m2025-05-18 19:30.45\u001b[0m [\u001b[32m\u001b[1minfo     \u001b[0m] \u001b[1mModel parameters are saved to training_logs/online/hammer/IQL_online_20250518193043/model_20.d3\u001b[0m\n",
      "\u001b[2m2025-05-18 19:30.45\u001b[0m [\u001b[32m\u001b[1minfo     \u001b[0m] \u001b[1mIQL_online_20250518193043: epoch=2 step=20\u001b[0m \u001b[36mepoch\u001b[0m=\u001b[35m2\u001b[0m \u001b[36mmetrics\u001b[0m=\u001b[35m{'time_inference': 0.00010442733764648438, 'time_environment_step': 0.0002877473831176758, 'time_step': 0.000400853157043457, 'evaluation': -231.5891623882299}\u001b[0m \u001b[36mstep\u001b[0m=\u001b[35m20\u001b[0m\n",
      "\u001b[2m2025-05-18 19:30.45\u001b[0m [\u001b[32m\u001b[1minfo     \u001b[0m] \u001b[1mModel parameters are saved to training_logs/online/hammer/IQL_online_20250518193043/model_30.d3\u001b[0m\n",
      "\u001b[2m2025-05-18 19:30.45\u001b[0m [\u001b[32m\u001b[1minfo     \u001b[0m] \u001b[1mIQL_online_20250518193043: epoch=3 step=30\u001b[0m \u001b[36mepoch\u001b[0m=\u001b[35m3\u001b[0m \u001b[36mmetrics\u001b[0m=\u001b[35m{'time_inference': 0.00011959075927734376, 'time_environment_step': 0.00026428699493408203, 'time_step': 0.00039165019989013673, 'evaluation': -233.88392585866927}\u001b[0m \u001b[36mstep\u001b[0m=\u001b[35m30\u001b[0m\n",
      "\u001b[2m2025-05-18 19:30.46\u001b[0m [\u001b[32m\u001b[1minfo     \u001b[0m] \u001b[1mModel parameters are saved to training_logs/online/hammer/IQL_online_20250518193043/model_40.d3\u001b[0m\n",
      "\u001b[2m2025-05-18 19:30.46\u001b[0m [\u001b[32m\u001b[1minfo     \u001b[0m] \u001b[1mIQL_online_20250518193043: epoch=4 step=40\u001b[0m \u001b[36mepoch\u001b[0m=\u001b[35m4\u001b[0m \u001b[36mmetrics\u001b[0m=\u001b[35m{'time_inference': 0.0001027822494506836, 'time_environment_step': 0.0002628803253173828, 'time_step': 0.0003740072250366211, 'evaluation': -232.5100552850102}\u001b[0m \u001b[36mstep\u001b[0m=\u001b[35m40\u001b[0m\n",
      "\u001b[2m2025-05-18 19:30.46\u001b[0m [\u001b[32m\u001b[1minfo     \u001b[0m] \u001b[1mModel parameters are saved to training_logs/online/hammer/IQL_online_20250518193043/model_50.d3\u001b[0m\n",
      "\u001b[2m2025-05-18 19:30.46\u001b[0m [\u001b[32m\u001b[1minfo     \u001b[0m] \u001b[1mIQL_online_20250518193043: epoch=5 step=50\u001b[0m \u001b[36mepoch\u001b[0m=\u001b[35m5\u001b[0m \u001b[36mmetrics\u001b[0m=\u001b[35m{'time_inference': 9.064674377441406e-05, 'time_environment_step': 0.0002649784088134766, 'time_step': 0.000362706184387207, 'evaluation': -234.844796269069}\u001b[0m \u001b[36mstep\u001b[0m=\u001b[35m50\u001b[0m\n",
      "\u001b[2m2025-05-18 19:30.47\u001b[0m [\u001b[32m\u001b[1minfo     \u001b[0m] \u001b[1mModel parameters are saved to training_logs/online/hammer/IQL_online_20250518193043/model_60.d3\u001b[0m\n",
      "\u001b[2m2025-05-18 19:30.47\u001b[0m [\u001b[32m\u001b[1minfo     \u001b[0m] \u001b[1mIQL_online_20250518193043: epoch=6 step=60\u001b[0m \u001b[36mepoch\u001b[0m=\u001b[35m6\u001b[0m \u001b[36mmetrics\u001b[0m=\u001b[35m{'time_inference': 9.691715240478516e-05, 'time_environment_step': 0.00025990009307861326, 'time_step': 0.0003657341003417969, 'evaluation': -233.9912852914431}\u001b[0m \u001b[36mstep\u001b[0m=\u001b[35m60\u001b[0m\n",
      "\u001b[2m2025-05-18 19:30.48\u001b[0m [\u001b[32m\u001b[1minfo     \u001b[0m] \u001b[1mModel parameters are saved to training_logs/online/hammer/IQL_online_20250518193043/model_70.d3\u001b[0m\n",
      "\u001b[2m2025-05-18 19:30.48\u001b[0m [\u001b[32m\u001b[1minfo     \u001b[0m] \u001b[1mIQL_online_20250518193043: epoch=7 step=70\u001b[0m \u001b[36mepoch\u001b[0m=\u001b[35m7\u001b[0m \u001b[36mmetrics\u001b[0m=\u001b[35m{'time_inference': 0.00010118484497070312, 'time_environment_step': 0.0002573251724243164, 'time_step': 0.00036642551422119143, 'evaluation': -231.81958403715743}\u001b[0m \u001b[36mstep\u001b[0m=\u001b[35m70\u001b[0m\n",
      "\u001b[2m2025-05-18 19:30.48\u001b[0m [\u001b[32m\u001b[1minfo     \u001b[0m] \u001b[1mModel parameters are saved to training_logs/online/hammer/IQL_online_20250518193043/model_80.d3\u001b[0m\n",
      "\u001b[2m2025-05-18 19:30.48\u001b[0m [\u001b[32m\u001b[1minfo     \u001b[0m] \u001b[1mIQL_online_20250518193043: epoch=8 step=80\u001b[0m \u001b[36mepoch\u001b[0m=\u001b[35m8\u001b[0m \u001b[36mmetrics\u001b[0m=\u001b[35m{'time_inference': 0.00011651515960693359, 'time_environment_step': 0.00038416385650634765, 'time_step': 0.0005101919174194336, 'evaluation': -232.41139464514958}\u001b[0m \u001b[36mstep\u001b[0m=\u001b[35m80\u001b[0m\n",
      "\u001b[2m2025-05-18 19:30.49\u001b[0m [\u001b[32m\u001b[1minfo     \u001b[0m] \u001b[1mModel parameters are saved to training_logs/online/hammer/IQL_online_20250518193043/model_90.d3\u001b[0m\n",
      "\u001b[2m2025-05-18 19:30.49\u001b[0m [\u001b[32m\u001b[1minfo     \u001b[0m] \u001b[1mIQL_online_20250518193043: epoch=9 step=90\u001b[0m \u001b[36mepoch\u001b[0m=\u001b[35m9\u001b[0m \u001b[36mmetrics\u001b[0m=\u001b[35m{'time_inference': 8.931159973144532e-05, 'time_environment_step': 0.0002535104751586914, 'time_step': 0.0003512144088745117, 'evaluation': -234.0796528989069}\u001b[0m \u001b[36mstep\u001b[0m=\u001b[35m90\u001b[0m\n",
      "\u001b[2m2025-05-18 19:30.49\u001b[0m [\u001b[32m\u001b[1minfo     \u001b[0m] \u001b[1mModel parameters are saved to training_logs/online/hammer/IQL_online_20250518193043/model_100.d3\u001b[0m\n",
      "\u001b[2m2025-05-18 19:30.49\u001b[0m [\u001b[32m\u001b[1minfo     \u001b[0m] \u001b[1mIQL_online_20250518193043: epoch=10 step=100\u001b[0m \u001b[36mepoch\u001b[0m=\u001b[35m10\u001b[0m \u001b[36mmetrics\u001b[0m=\u001b[35m{'time_inference': 8.575916290283203e-05, 'time_environment_step': 0.00029044151306152345, 'time_step': 0.00038373470306396484, 'evaluation': -231.2745400033783}\u001b[0m \u001b[36mstep\u001b[0m=\u001b[35m100\u001b[0m\n",
      "\u001b[2m2025-05-18 19:30.49\u001b[0m [\u001b[32m\u001b[1minfo     \u001b[0m] \u001b[1mSignatures have been automatically determined.\u001b[0m \u001b[36maction_signature\u001b[0m=\u001b[35mSignature(dtype=[dtype('float32')], shape=[(26,)])\u001b[0m \u001b[36mobservation_signature\u001b[0m=\u001b[35mSignature(dtype=[dtype('float64')], shape=[(46,)])\u001b[0m \u001b[36mreward_signature\u001b[0m=\u001b[35mSignature(dtype=[dtype('float32')], shape=[[1]])\u001b[0m\n",
      "\u001b[2m2025-05-18 19:30.49\u001b[0m [\u001b[32m\u001b[1minfo     \u001b[0m] \u001b[1mAction-space has been automatically determined.\u001b[0m \u001b[36maction_space\u001b[0m=\u001b[35m<ActionSpace.CONTINUOUS: 1>\u001b[0m\n",
      "\u001b[2m2025-05-18 19:30.49\u001b[0m [\u001b[32m\u001b[1minfo     \u001b[0m] \u001b[1mAction size has been automatically determined.\u001b[0m \u001b[36maction_size\u001b[0m=\u001b[35m26\u001b[0m\n",
      "\u001b[2m2025-05-18 19:30.49\u001b[0m [\u001b[32m\u001b[1mdebug    \u001b[0m] \u001b[1mBuilding model...             \u001b[0m\n",
      "\u001b[2m2025-05-18 19:30.49\u001b[0m [\u001b[32m\u001b[1mdebug    \u001b[0m] \u001b[1mModel has been built.         \u001b[0m\n",
      "\u001b[2m2025-05-18 19:30.49\u001b[0m [\u001b[32m\u001b[1minfo     \u001b[0m] \u001b[1mDirectory is created at training_logs/online/hammer/CQL_online_20250518193049\u001b[0m\n",
      "\u001b[2m2025-05-18 19:30.49\u001b[0m [\u001b[32m\u001b[1minfo     \u001b[0m] \u001b[1mParameters                    \u001b[0m \u001b[36mparams\u001b[0m=\u001b[35m{'observation_shape': [46], 'action_size': 26, 'config': {'type': 'cql', 'params': {'batch_size': 256, 'gamma': 0.99, 'observation_scaler': {'type': 'none', 'params': {}}, 'action_scaler': {'type': 'none', 'params': {}}, 'reward_scaler': {'type': 'none', 'params': {}}, 'compile_graph': False, 'actor_learning_rate': 0.0001, 'critic_learning_rate': 0.0003, 'temp_learning_rate': 0.0001, 'alpha_learning_rate': 0.0001, 'actor_optim_factory': {'type': 'adam', 'params': {'clip_grad_norm': None, 'lr_scheduler_factory': {'type': 'none', 'params': {}}, 'betas': [0.9, 0.999], 'eps': 1e-08, 'weight_decay': 0, 'amsgrad': False}}, 'critic_optim_factory': {'type': 'adam', 'params': {'clip_grad_norm': None, 'lr_scheduler_factory': {'type': 'none', 'params': {}}, 'betas': [0.9, 0.999], 'eps': 1e-08, 'weight_decay': 0, 'amsgrad': False}}, 'temp_optim_factory': {'type': 'adam', 'params': {'clip_grad_norm': None, 'lr_scheduler_factory': {'type': 'none', 'params': {}}, 'betas': [0.9, 0.999], 'eps': 1e-08, 'weight_decay': 0, 'amsgrad': False}}, 'alpha_optim_factory': {'type': 'adam', 'params': {'clip_grad_norm': None, 'lr_scheduler_factory': {'type': 'none', 'params': {}}, 'betas': [0.9, 0.999], 'eps': 1e-08, 'weight_decay': 0, 'amsgrad': False}}, 'actor_encoder_factory': {'type': 'default', 'params': {'activation': 'relu', 'use_batch_norm': False, 'dropout_rate': None}}, 'critic_encoder_factory': {'type': 'default', 'params': {'activation': 'relu', 'use_batch_norm': False, 'dropout_rate': None}}, 'q_func_factory': {'type': 'mean', 'params': {'share_encoder': False}}, 'tau': 0.005, 'n_critics': 2, 'initial_temperature': 1.0, 'initial_alpha': 1.0, 'alpha_threshold': 10.0, 'conservative_weight': 5.0, 'n_action_samples': 10, 'soft_q_backup': False, 'max_q_backup': False}}}\u001b[0m\n"
     ]
    },
    {
     "data": {
      "application/vnd.jupyter.widget-view+json": {
       "model_id": "a1f27a22a25e48ed8520fefa8a343386",
       "version_major": 2,
       "version_minor": 0
      },
      "text/plain": [
       "  0%|          | 0/100 [00:00<?, ?it/s]"
      ]
     },
     "metadata": {},
     "output_type": "display_data"
    },
    {
     "name": "stdout",
     "output_type": "stream",
     "text": [
      "\u001b[2m2025-05-18 19:30.50\u001b[0m [\u001b[32m\u001b[1minfo     \u001b[0m] \u001b[1mModel parameters are saved to training_logs/online/hammer/CQL_online_20250518193049/model_10.d3\u001b[0m\n",
      "\u001b[2m2025-05-18 19:30.50\u001b[0m [\u001b[32m\u001b[1minfo     \u001b[0m] \u001b[1mCQL_online_20250518193049: epoch=1 step=10\u001b[0m \u001b[36mepoch\u001b[0m=\u001b[35m1\u001b[0m \u001b[36mmetrics\u001b[0m=\u001b[35m{'time_inference': 0.00020475387573242186, 'time_environment_step': 0.0003032684326171875, 'time_step': 0.0005173206329345704, 'evaluation': -230.5710958793437}\u001b[0m \u001b[36mstep\u001b[0m=\u001b[35m10\u001b[0m\n",
      "\u001b[2m2025-05-18 19:30.51\u001b[0m [\u001b[32m\u001b[1minfo     \u001b[0m] \u001b[1mModel parameters are saved to training_logs/online/hammer/CQL_online_20250518193049/model_20.d3\u001b[0m\n",
      "\u001b[2m2025-05-18 19:30.51\u001b[0m [\u001b[32m\u001b[1minfo     \u001b[0m] \u001b[1mCQL_online_20250518193049: epoch=2 step=20\u001b[0m \u001b[36mepoch\u001b[0m=\u001b[35m2\u001b[0m \u001b[36mmetrics\u001b[0m=\u001b[35m{'time_inference': 0.00010342597961425782, 'time_environment_step': 0.0002915143966674805, 'time_step': 0.00040242671966552737, 'evaluation': -230.24117719522854}\u001b[0m \u001b[36mstep\u001b[0m=\u001b[35m20\u001b[0m\n",
      "\u001b[2m2025-05-18 19:30.51\u001b[0m [\u001b[32m\u001b[1minfo     \u001b[0m] \u001b[1mModel parameters are saved to training_logs/online/hammer/CQL_online_20250518193049/model_30.d3\u001b[0m\n",
      "\u001b[2m2025-05-18 19:30.51\u001b[0m [\u001b[32m\u001b[1minfo     \u001b[0m] \u001b[1mCQL_online_20250518193049: epoch=3 step=30\u001b[0m \u001b[36mepoch\u001b[0m=\u001b[35m3\u001b[0m \u001b[36mmetrics\u001b[0m=\u001b[35m{'time_inference': 9.887218475341797e-05, 'time_environment_step': 0.00026502609252929685, 'time_step': 0.0003715991973876953, 'evaluation': -230.89175057958204}\u001b[0m \u001b[36mstep\u001b[0m=\u001b[35m30\u001b[0m\n",
      "\u001b[2m2025-05-18 19:30.52\u001b[0m [\u001b[32m\u001b[1minfo     \u001b[0m] \u001b[1mModel parameters are saved to training_logs/online/hammer/CQL_online_20250518193049/model_40.d3\u001b[0m\n",
      "\u001b[2m2025-05-18 19:30.52\u001b[0m [\u001b[32m\u001b[1minfo     \u001b[0m] \u001b[1mCQL_online_20250518193049: epoch=4 step=40\u001b[0m \u001b[36mepoch\u001b[0m=\u001b[35m4\u001b[0m \u001b[36mmetrics\u001b[0m=\u001b[35m{'time_inference': 0.00011591911315917968, 'time_environment_step': 0.00025534629821777344, 'time_step': 0.00037899017333984373, 'evaluation': -233.17778309741212}\u001b[0m \u001b[36mstep\u001b[0m=\u001b[35m40\u001b[0m\n",
      "\u001b[2m2025-05-18 19:30.53\u001b[0m [\u001b[32m\u001b[1minfo     \u001b[0m] \u001b[1mModel parameters are saved to training_logs/online/hammer/CQL_online_20250518193049/model_50.d3\u001b[0m\n",
      "\u001b[2m2025-05-18 19:30.53\u001b[0m [\u001b[32m\u001b[1minfo     \u001b[0m] \u001b[1mCQL_online_20250518193049: epoch=5 step=50\u001b[0m \u001b[36mepoch\u001b[0m=\u001b[35m5\u001b[0m \u001b[36mmetrics\u001b[0m=\u001b[35m{'time_inference': 0.00010881423950195312, 'time_environment_step': 0.00025639533996582033, 'time_step': 0.00037300586700439453, 'evaluation': -230.97718860949072}\u001b[0m \u001b[36mstep\u001b[0m=\u001b[35m50\u001b[0m\n",
      "\u001b[2m2025-05-18 19:30.53\u001b[0m [\u001b[32m\u001b[1minfo     \u001b[0m] \u001b[1mModel parameters are saved to training_logs/online/hammer/CQL_online_20250518193049/model_60.d3\u001b[0m\n",
      "\u001b[2m2025-05-18 19:30.53\u001b[0m [\u001b[32m\u001b[1minfo     \u001b[0m] \u001b[1mCQL_online_20250518193049: epoch=6 step=60\u001b[0m \u001b[36mepoch\u001b[0m=\u001b[35m6\u001b[0m \u001b[36mmetrics\u001b[0m=\u001b[35m{'time_inference': 9.303092956542968e-05, 'time_environment_step': 0.00027356147766113283, 'time_step': 0.00037508010864257814, 'evaluation': -230.86647715671134}\u001b[0m \u001b[36mstep\u001b[0m=\u001b[35m60\u001b[0m\n",
      "\u001b[2m2025-05-18 19:30.54\u001b[0m [\u001b[32m\u001b[1minfo     \u001b[0m] \u001b[1mModel parameters are saved to training_logs/online/hammer/CQL_online_20250518193049/model_70.d3\u001b[0m\n",
      "\u001b[2m2025-05-18 19:30.54\u001b[0m [\u001b[32m\u001b[1minfo     \u001b[0m] \u001b[1mCQL_online_20250518193049: epoch=7 step=70\u001b[0m \u001b[36mepoch\u001b[0m=\u001b[35m7\u001b[0m \u001b[36mmetrics\u001b[0m=\u001b[35m{'time_inference': 9.050369262695313e-05, 'time_environment_step': 0.00028028488159179685, 'time_step': 0.00037889480590820314, 'evaluation': -234.24195036458303}\u001b[0m \u001b[36mstep\u001b[0m=\u001b[35m70\u001b[0m\n",
      "\u001b[2m2025-05-18 19:30.54\u001b[0m [\u001b[32m\u001b[1minfo     \u001b[0m] \u001b[1mModel parameters are saved to training_logs/online/hammer/CQL_online_20250518193049/model_80.d3\u001b[0m\n",
      "\u001b[2m2025-05-18 19:30.54\u001b[0m [\u001b[32m\u001b[1minfo     \u001b[0m] \u001b[1mCQL_online_20250518193049: epoch=8 step=80\u001b[0m \u001b[36mepoch\u001b[0m=\u001b[35m8\u001b[0m \u001b[36mmetrics\u001b[0m=\u001b[35m{'time_inference': 0.00011067390441894531, 'time_environment_step': 0.00025560855865478513, 'time_step': 0.00037465095520019533, 'evaluation': -229.93749464517109}\u001b[0m \u001b[36mstep\u001b[0m=\u001b[35m80\u001b[0m\n",
      "\u001b[2m2025-05-18 19:30.55\u001b[0m [\u001b[32m\u001b[1minfo     \u001b[0m] \u001b[1mModel parameters are saved to training_logs/online/hammer/CQL_online_20250518193049/model_90.d3\u001b[0m\n",
      "\u001b[2m2025-05-18 19:30.55\u001b[0m [\u001b[32m\u001b[1minfo     \u001b[0m] \u001b[1mCQL_online_20250518193049: epoch=9 step=90\u001b[0m \u001b[36mepoch\u001b[0m=\u001b[35m9\u001b[0m \u001b[36mmetrics\u001b[0m=\u001b[35m{'time_inference': 0.0001085042953491211, 'time_environment_step': 0.00027678012847900393, 'time_step': 0.00039424896240234373, 'evaluation': -233.42437725796725}\u001b[0m \u001b[36mstep\u001b[0m=\u001b[35m90\u001b[0m\n",
      "\u001b[2m2025-05-18 19:30.56\u001b[0m [\u001b[32m\u001b[1minfo     \u001b[0m] \u001b[1mModel parameters are saved to training_logs/online/hammer/CQL_online_20250518193049/model_100.d3\u001b[0m\n",
      "\u001b[2m2025-05-18 19:30.56\u001b[0m [\u001b[32m\u001b[1minfo     \u001b[0m] \u001b[1mCQL_online_20250518193049: epoch=10 step=100\u001b[0m \u001b[36mepoch\u001b[0m=\u001b[35m10\u001b[0m \u001b[36mmetrics\u001b[0m=\u001b[35m{'time_inference': 0.00010008811950683594, 'time_environment_step': 0.0002751350402832031, 'time_step': 0.0003834247589111328, 'evaluation': -233.61615293886922}\u001b[0m \u001b[36mstep\u001b[0m=\u001b[35m100\u001b[0m\n",
      "\u001b[2m2025-05-18 19:30.56\u001b[0m [\u001b[32m\u001b[1minfo     \u001b[0m] \u001b[1mSignatures have been automatically determined.\u001b[0m \u001b[36maction_signature\u001b[0m=\u001b[35mSignature(dtype=[dtype('float32')], shape=[(26,)])\u001b[0m \u001b[36mobservation_signature\u001b[0m=\u001b[35mSignature(dtype=[dtype('float64')], shape=[(46,)])\u001b[0m \u001b[36mreward_signature\u001b[0m=\u001b[35mSignature(dtype=[dtype('float32')], shape=[[1]])\u001b[0m\n",
      "\u001b[2m2025-05-18 19:30.56\u001b[0m [\u001b[32m\u001b[1minfo     \u001b[0m] \u001b[1mAction-space has been automatically determined.\u001b[0m \u001b[36maction_space\u001b[0m=\u001b[35m<ActionSpace.CONTINUOUS: 1>\u001b[0m\n",
      "\u001b[2m2025-05-18 19:30.56\u001b[0m [\u001b[32m\u001b[1minfo     \u001b[0m] \u001b[1mAction size has been automatically determined.\u001b[0m \u001b[36maction_size\u001b[0m=\u001b[35m26\u001b[0m\n",
      "\u001b[2m2025-05-18 19:30.56\u001b[0m [\u001b[32m\u001b[1mdebug    \u001b[0m] \u001b[1mBuilding model...             \u001b[0m\n",
      "\u001b[2m2025-05-18 19:30.56\u001b[0m [\u001b[32m\u001b[1mdebug    \u001b[0m] \u001b[1mModel has been built.         \u001b[0m\n",
      "\u001b[2m2025-05-18 19:30.56\u001b[0m [\u001b[32m\u001b[1minfo     \u001b[0m] \u001b[1mDirectory is created at training_logs/online/hammer/TD3PlusBC_online_20250518193056\u001b[0m\n",
      "\u001b[2m2025-05-18 19:30.56\u001b[0m [\u001b[32m\u001b[1minfo     \u001b[0m] \u001b[1mParameters                    \u001b[0m \u001b[36mparams\u001b[0m=\u001b[35m{'observation_shape': [46], 'action_size': 26, 'config': {'type': 'td3_plus_bc', 'params': {'batch_size': 256, 'gamma': 0.99, 'observation_scaler': {'type': 'none', 'params': {}}, 'action_scaler': {'type': 'none', 'params': {}}, 'reward_scaler': {'type': 'none', 'params': {}}, 'compile_graph': False, 'actor_learning_rate': 0.0003, 'critic_learning_rate': 0.0003, 'actor_optim_factory': {'type': 'adam', 'params': {'clip_grad_norm': None, 'lr_scheduler_factory': {'type': 'none', 'params': {}}, 'betas': [0.9, 0.999], 'eps': 1e-08, 'weight_decay': 0, 'amsgrad': False}}, 'critic_optim_factory': {'type': 'adam', 'params': {'clip_grad_norm': None, 'lr_scheduler_factory': {'type': 'none', 'params': {}}, 'betas': [0.9, 0.999], 'eps': 1e-08, 'weight_decay': 0, 'amsgrad': False}}, 'actor_encoder_factory': {'type': 'default', 'params': {'activation': 'relu', 'use_batch_norm': False, 'dropout_rate': None}}, 'critic_encoder_factory': {'type': 'default', 'params': {'activation': 'relu', 'use_batch_norm': False, 'dropout_rate': None}}, 'q_func_factory': {'type': 'mean', 'params': {'share_encoder': False}}, 'tau': 0.005, 'n_critics': 2, 'target_smoothing_sigma': 0.2, 'target_smoothing_clip': 0.5, 'alpha': 2.5, 'update_actor_interval': 2}}}\u001b[0m\n"
     ]
    },
    {
     "data": {
      "application/vnd.jupyter.widget-view+json": {
       "model_id": "37bacd2f53e448fdb4e6150f0a71eb19",
       "version_major": 2,
       "version_minor": 0
      },
      "text/plain": [
       "  0%|          | 0/100 [00:00<?, ?it/s]"
      ]
     },
     "metadata": {},
     "output_type": "display_data"
    },
    {
     "name": "stdout",
     "output_type": "stream",
     "text": [
      "\u001b[2m2025-05-18 19:30.56\u001b[0m [\u001b[32m\u001b[1minfo     \u001b[0m] \u001b[1mModel parameters are saved to training_logs/online/hammer/TD3PlusBC_online_20250518193056/model_10.d3\u001b[0m\n",
      "\u001b[2m2025-05-18 19:30.56\u001b[0m [\u001b[32m\u001b[1minfo     \u001b[0m] \u001b[1mTD3PlusBC_online_20250518193056: epoch=1 step=10\u001b[0m \u001b[36mepoch\u001b[0m=\u001b[35m1\u001b[0m \u001b[36mmetrics\u001b[0m=\u001b[35m{'time_inference': 0.00016562938690185548, 'time_environment_step': 0.000301051139831543, 'time_step': 0.00047605037689208985, 'evaluation': -232.2052589335799}\u001b[0m \u001b[36mstep\u001b[0m=\u001b[35m10\u001b[0m\n",
      "\u001b[2m2025-05-18 19:30.57\u001b[0m [\u001b[32m\u001b[1minfo     \u001b[0m] \u001b[1mModel parameters are saved to training_logs/online/hammer/TD3PlusBC_online_20250518193056/model_20.d3\u001b[0m\n",
      "\u001b[2m2025-05-18 19:30.57\u001b[0m [\u001b[32m\u001b[1minfo     \u001b[0m] \u001b[1mTD3PlusBC_online_20250518193056: epoch=2 step=20\u001b[0m \u001b[36mepoch\u001b[0m=\u001b[35m2\u001b[0m \u001b[36mmetrics\u001b[0m=\u001b[35m{'time_inference': 7.674694061279296e-05, 'time_environment_step': 0.0003001928329467773, 'time_step': 0.00038478374481201174, 'evaluation': -233.67116832400956}\u001b[0m \u001b[36mstep\u001b[0m=\u001b[35m20\u001b[0m\n",
      "\u001b[2m2025-05-18 19:30.57\u001b[0m [\u001b[32m\u001b[1minfo     \u001b[0m] \u001b[1mModel parameters are saved to training_logs/online/hammer/TD3PlusBC_online_20250518193056/model_30.d3\u001b[0m\n",
      "\u001b[2m2025-05-18 19:30.57\u001b[0m [\u001b[32m\u001b[1minfo     \u001b[0m] \u001b[1mTD3PlusBC_online_20250518193056: epoch=3 step=30\u001b[0m \u001b[36mepoch\u001b[0m=\u001b[35m3\u001b[0m \u001b[36mmetrics\u001b[0m=\u001b[35m{'time_inference': 9.01937484741211e-05, 'time_environment_step': 0.00026073455810546873, 'time_step': 0.0003600358963012695, 'evaluation': -231.42489356195756}\u001b[0m \u001b[36mstep\u001b[0m=\u001b[35m30\u001b[0m\n",
      "\u001b[2m2025-05-18 19:30.58\u001b[0m [\u001b[32m\u001b[1minfo     \u001b[0m] \u001b[1mModel parameters are saved to training_logs/online/hammer/TD3PlusBC_online_20250518193056/model_40.d3\u001b[0m\n",
      "\u001b[2m2025-05-18 19:30.58\u001b[0m [\u001b[32m\u001b[1minfo     \u001b[0m] \u001b[1mTD3PlusBC_online_20250518193056: epoch=4 step=40\u001b[0m \u001b[36mepoch\u001b[0m=\u001b[35m4\u001b[0m \u001b[36mmetrics\u001b[0m=\u001b[35m{'time_inference': 9.336471557617188e-05, 'time_environment_step': 0.0002605438232421875, 'time_step': 0.0003616571426391602, 'evaluation': -230.6366707416305}\u001b[0m \u001b[36mstep\u001b[0m=\u001b[35m40\u001b[0m\n",
      "\u001b[2m2025-05-18 19:30.59\u001b[0m [\u001b[32m\u001b[1minfo     \u001b[0m] \u001b[1mModel parameters are saved to training_logs/online/hammer/TD3PlusBC_online_20250518193056/model_50.d3\u001b[0m\n",
      "\u001b[2m2025-05-18 19:30.59\u001b[0m [\u001b[32m\u001b[1minfo     \u001b[0m] \u001b[1mTD3PlusBC_online_20250518193056: epoch=5 step=50\u001b[0m \u001b[36mepoch\u001b[0m=\u001b[35m5\u001b[0m \u001b[36mmetrics\u001b[0m=\u001b[35m{'time_inference': 8.428096771240234e-05, 'time_environment_step': 0.00027003288269042967, 'time_step': 0.00036215782165527344, 'evaluation': -229.17823090009853}\u001b[0m \u001b[36mstep\u001b[0m=\u001b[35m50\u001b[0m\n",
      "\u001b[2m2025-05-18 19:30.59\u001b[0m [\u001b[32m\u001b[1minfo     \u001b[0m] \u001b[1mModel parameters are saved to training_logs/online/hammer/TD3PlusBC_online_20250518193056/model_60.d3\u001b[0m\n",
      "\u001b[2m2025-05-18 19:30.59\u001b[0m [\u001b[32m\u001b[1minfo     \u001b[0m] \u001b[1mTD3PlusBC_online_20250518193056: epoch=6 step=60\u001b[0m \u001b[36mepoch\u001b[0m=\u001b[35m6\u001b[0m \u001b[36mmetrics\u001b[0m=\u001b[35m{'time_inference': 0.00010271072387695313, 'time_environment_step': 0.000267481803894043, 'time_step': 0.00037834644317626955, 'evaluation': -231.7202365283967}\u001b[0m \u001b[36mstep\u001b[0m=\u001b[35m60\u001b[0m\n",
      "\u001b[2m2025-05-18 19:31.00\u001b[0m [\u001b[32m\u001b[1minfo     \u001b[0m] \u001b[1mModel parameters are saved to training_logs/online/hammer/TD3PlusBC_online_20250518193056/model_70.d3\u001b[0m\n",
      "\u001b[2m2025-05-18 19:31.00\u001b[0m [\u001b[32m\u001b[1minfo     \u001b[0m] \u001b[1mTD3PlusBC_online_20250518193056: epoch=7 step=70\u001b[0m \u001b[36mepoch\u001b[0m=\u001b[35m7\u001b[0m \u001b[36mmetrics\u001b[0m=\u001b[35m{'time_inference': 9.224414825439453e-05, 'time_environment_step': 0.0002662897109985352, 'time_step': 0.00036690235137939455, 'evaluation': -234.83098913661647}\u001b[0m \u001b[36mstep\u001b[0m=\u001b[35m70\u001b[0m\n",
      "\u001b[2m2025-05-18 19:31.00\u001b[0m [\u001b[32m\u001b[1minfo     \u001b[0m] \u001b[1mModel parameters are saved to training_logs/online/hammer/TD3PlusBC_online_20250518193056/model_80.d3\u001b[0m\n",
      "\u001b[2m2025-05-18 19:31.00\u001b[0m [\u001b[32m\u001b[1minfo     \u001b[0m] \u001b[1mTD3PlusBC_online_20250518193056: epoch=8 step=80\u001b[0m \u001b[36mepoch\u001b[0m=\u001b[35m8\u001b[0m \u001b[36mmetrics\u001b[0m=\u001b[35m{'time_inference': 8.780956268310547e-05, 'time_environment_step': 0.00029935836791992185, 'time_step': 0.0003951311111450195, 'evaluation': -231.38072958737925}\u001b[0m \u001b[36mstep\u001b[0m=\u001b[35m80\u001b[0m\n",
      "\u001b[2m2025-05-18 19:31.01\u001b[0m [\u001b[32m\u001b[1minfo     \u001b[0m] \u001b[1mModel parameters are saved to training_logs/online/hammer/TD3PlusBC_online_20250518193056/model_90.d3\u001b[0m\n",
      "\u001b[2m2025-05-18 19:31.01\u001b[0m [\u001b[32m\u001b[1minfo     \u001b[0m] \u001b[1mTD3PlusBC_online_20250518193056: epoch=9 step=90\u001b[0m \u001b[36mepoch\u001b[0m=\u001b[35m9\u001b[0m \u001b[36mmetrics\u001b[0m=\u001b[35m{'time_inference': 9.768009185791015e-05, 'time_environment_step': 0.0003634214401245117, 'time_step': 0.0004695892333984375, 'evaluation': -230.5961768254328}\u001b[0m \u001b[36mstep\u001b[0m=\u001b[35m90\u001b[0m\n",
      "\u001b[2m2025-05-18 19:31.02\u001b[0m [\u001b[32m\u001b[1minfo     \u001b[0m] \u001b[1mModel parameters are saved to training_logs/online/hammer/TD3PlusBC_online_20250518193056/model_100.d3\u001b[0m\n",
      "\u001b[2m2025-05-18 19:31.02\u001b[0m [\u001b[32m\u001b[1minfo     \u001b[0m] \u001b[1mTD3PlusBC_online_20250518193056: epoch=10 step=100\u001b[0m \u001b[36mepoch\u001b[0m=\u001b[35m10\u001b[0m \u001b[36mmetrics\u001b[0m=\u001b[35m{'time_inference': 0.0001007080078125, 'time_environment_step': 0.00032808780670166013, 'time_step': 0.00043668746948242185, 'evaluation': -231.34993123789073}\u001b[0m \u001b[36mstep\u001b[0m=\u001b[35m100\u001b[0m\n",
      "\u001b[2m2025-05-18 19:31.02\u001b[0m [\u001b[32m\u001b[1minfo     \u001b[0m] \u001b[1mSignatures have been automatically determined.\u001b[0m \u001b[36maction_signature\u001b[0m=\u001b[35mSignature(dtype=[dtype('float32')], shape=[(26,)])\u001b[0m \u001b[36mobservation_signature\u001b[0m=\u001b[35mSignature(dtype=[dtype('float64')], shape=[(46,)])\u001b[0m \u001b[36mreward_signature\u001b[0m=\u001b[35mSignature(dtype=[dtype('float32')], shape=[[1]])\u001b[0m\n",
      "\u001b[2m2025-05-18 19:31.02\u001b[0m [\u001b[32m\u001b[1minfo     \u001b[0m] \u001b[1mAction-space has been automatically determined.\u001b[0m \u001b[36maction_space\u001b[0m=\u001b[35m<ActionSpace.CONTINUOUS: 1>\u001b[0m\n",
      "\u001b[2m2025-05-18 19:31.02\u001b[0m [\u001b[32m\u001b[1minfo     \u001b[0m] \u001b[1mAction size has been automatically determined.\u001b[0m \u001b[36maction_size\u001b[0m=\u001b[35m26\u001b[0m\n",
      "\u001b[2m2025-05-18 19:31.02\u001b[0m [\u001b[32m\u001b[1mdebug    \u001b[0m] \u001b[1mBuilding model...             \u001b[0m\n",
      "\u001b[2m2025-05-18 19:31.02\u001b[0m [\u001b[32m\u001b[1mdebug    \u001b[0m] \u001b[1mModel has been built.         \u001b[0m\n",
      "\u001b[2m2025-05-18 19:31.02\u001b[0m [\u001b[32m\u001b[1minfo     \u001b[0m] \u001b[1mDirectory is created at training_logs/online/hammer/AWAC_online_20250518193102\u001b[0m\n",
      "\u001b[2m2025-05-18 19:31.02\u001b[0m [\u001b[32m\u001b[1minfo     \u001b[0m] \u001b[1mParameters                    \u001b[0m \u001b[36mparams\u001b[0m=\u001b[35m{'observation_shape': [46], 'action_size': 26, 'config': {'type': 'awac', 'params': {'batch_size': 1024, 'gamma': 0.99, 'observation_scaler': {'type': 'none', 'params': {}}, 'action_scaler': {'type': 'none', 'params': {}}, 'reward_scaler': {'type': 'none', 'params': {}}, 'compile_graph': False, 'actor_learning_rate': 0.0003, 'critic_learning_rate': 0.0003, 'actor_optim_factory': {'type': 'adam', 'params': {'clip_grad_norm': None, 'lr_scheduler_factory': {'type': 'none', 'params': {}}, 'betas': [0.9, 0.999], 'eps': 1e-08, 'weight_decay': 0, 'amsgrad': False}}, 'critic_optim_factory': {'type': 'adam', 'params': {'clip_grad_norm': None, 'lr_scheduler_factory': {'type': 'none', 'params': {}}, 'betas': [0.9, 0.999], 'eps': 1e-08, 'weight_decay': 0, 'amsgrad': False}}, 'actor_encoder_factory': {'type': 'default', 'params': {'activation': 'relu', 'use_batch_norm': False, 'dropout_rate': None}}, 'critic_encoder_factory': {'type': 'default', 'params': {'activation': 'relu', 'use_batch_norm': False, 'dropout_rate': None}}, 'q_func_factory': {'type': 'mean', 'params': {'share_encoder': False}}, 'tau': 0.005, 'lam': 1.0, 'n_action_samples': 1, 'n_critics': 2}}}\u001b[0m\n"
     ]
    },
    {
     "data": {
      "application/vnd.jupyter.widget-view+json": {
       "model_id": "c404457e8cf747468cb02a8217e3ac18",
       "version_major": 2,
       "version_minor": 0
      },
      "text/plain": [
       "  0%|          | 0/100 [00:00<?, ?it/s]"
      ]
     },
     "metadata": {},
     "output_type": "display_data"
    },
    {
     "name": "stdout",
     "output_type": "stream",
     "text": [
      "\u001b[2m2025-05-18 19:31.02\u001b[0m [\u001b[32m\u001b[1minfo     \u001b[0m] \u001b[1mModel parameters are saved to training_logs/online/hammer/AWAC_online_20250518193102/model_10.d3\u001b[0m\n",
      "\u001b[2m2025-05-18 19:31.02\u001b[0m [\u001b[32m\u001b[1minfo     \u001b[0m] \u001b[1mAWAC_online_20250518193102: epoch=1 step=10\u001b[0m \u001b[36mepoch\u001b[0m=\u001b[35m1\u001b[0m \u001b[36mmetrics\u001b[0m=\u001b[35m{'time_inference': 0.0001902341842651367, 'time_environment_step': 0.0003495216369628906, 'time_step': 0.0005487680435180664, 'evaluation': -231.63075123682148}\u001b[0m \u001b[36mstep\u001b[0m=\u001b[35m10\u001b[0m\n",
      "\u001b[2m2025-05-18 19:31.03\u001b[0m [\u001b[32m\u001b[1minfo     \u001b[0m] \u001b[1mModel parameters are saved to training_logs/online/hammer/AWAC_online_20250518193102/model_20.d3\u001b[0m\n",
      "\u001b[2m2025-05-18 19:31.03\u001b[0m [\u001b[32m\u001b[1minfo     \u001b[0m] \u001b[1mAWAC_online_20250518193102: epoch=2 step=20\u001b[0m \u001b[36mepoch\u001b[0m=\u001b[35m2\u001b[0m \u001b[36mmetrics\u001b[0m=\u001b[35m{'time_inference': 0.00010724067687988282, 'time_environment_step': 0.0003195047378540039, 'time_step': 0.00043377876281738283, 'evaluation': -231.47461269321957}\u001b[0m \u001b[36mstep\u001b[0m=\u001b[35m20\u001b[0m\n",
      "\u001b[2m2025-05-18 19:31.03\u001b[0m [\u001b[32m\u001b[1minfo     \u001b[0m] \u001b[1mModel parameters are saved to training_logs/online/hammer/AWAC_online_20250518193102/model_30.d3\u001b[0m\n",
      "\u001b[2m2025-05-18 19:31.03\u001b[0m [\u001b[32m\u001b[1minfo     \u001b[0m] \u001b[1mAWAC_online_20250518193102: epoch=3 step=30\u001b[0m \u001b[36mepoch\u001b[0m=\u001b[35m3\u001b[0m \u001b[36mmetrics\u001b[0m=\u001b[35m{'time_inference': 0.00011146068572998047, 'time_environment_step': 0.0003018379211425781, 'time_step': 0.00042057037353515625, 'evaluation': -231.07003834994438}\u001b[0m \u001b[36mstep\u001b[0m=\u001b[35m30\u001b[0m\n",
      "\u001b[2m2025-05-18 19:31.04\u001b[0m [\u001b[32m\u001b[1minfo     \u001b[0m] \u001b[1mModel parameters are saved to training_logs/online/hammer/AWAC_online_20250518193102/model_40.d3\u001b[0m\n",
      "\u001b[2m2025-05-18 19:31.04\u001b[0m [\u001b[32m\u001b[1minfo     \u001b[0m] \u001b[1mAWAC_online_20250518193102: epoch=4 step=40\u001b[0m \u001b[36mepoch\u001b[0m=\u001b[35m4\u001b[0m \u001b[36mmetrics\u001b[0m=\u001b[35m{'time_inference': 0.00011374950408935547, 'time_environment_step': 0.0002603054046630859, 'time_step': 0.0003805398941040039, 'evaluation': -232.96772981804742}\u001b[0m \u001b[36mstep\u001b[0m=\u001b[35m40\u001b[0m\n",
      "\u001b[2m2025-05-18 19:31.05\u001b[0m [\u001b[32m\u001b[1minfo     \u001b[0m] \u001b[1mModel parameters are saved to training_logs/online/hammer/AWAC_online_20250518193102/model_50.d3\u001b[0m\n",
      "\u001b[2m2025-05-18 19:31.05\u001b[0m [\u001b[32m\u001b[1minfo     \u001b[0m] \u001b[1mAWAC_online_20250518193102: epoch=5 step=50\u001b[0m \u001b[36mepoch\u001b[0m=\u001b[35m5\u001b[0m \u001b[36mmetrics\u001b[0m=\u001b[35m{'time_inference': 0.00010974407196044922, 'time_environment_step': 0.0002815485000610352, 'time_step': 0.00039916038513183595, 'evaluation': -231.2487871539476}\u001b[0m \u001b[36mstep\u001b[0m=\u001b[35m50\u001b[0m\n",
      "\u001b[2m2025-05-18 19:31.05\u001b[0m [\u001b[32m\u001b[1minfo     \u001b[0m] \u001b[1mModel parameters are saved to training_logs/online/hammer/AWAC_online_20250518193102/model_60.d3\u001b[0m\n",
      "\u001b[2m2025-05-18 19:31.05\u001b[0m [\u001b[32m\u001b[1minfo     \u001b[0m] \u001b[1mAWAC_online_20250518193102: epoch=6 step=60\u001b[0m \u001b[36mepoch\u001b[0m=\u001b[35m6\u001b[0m \u001b[36mmetrics\u001b[0m=\u001b[35m{'time_inference': 8.75234603881836e-05, 'time_environment_step': 0.00026700496673583987, 'time_step': 0.0003621101379394531, 'evaluation': -233.49531167467694}\u001b[0m \u001b[36mstep\u001b[0m=\u001b[35m60\u001b[0m\n",
      "\u001b[2m2025-05-18 19:31.06\u001b[0m [\u001b[32m\u001b[1minfo     \u001b[0m] \u001b[1mModel parameters are saved to training_logs/online/hammer/AWAC_online_20250518193102/model_70.d3\u001b[0m\n",
      "\u001b[2m2025-05-18 19:31.06\u001b[0m [\u001b[32m\u001b[1minfo     \u001b[0m] \u001b[1mAWAC_online_20250518193102: epoch=7 step=70\u001b[0m \u001b[36mepoch\u001b[0m=\u001b[35m7\u001b[0m \u001b[36mmetrics\u001b[0m=\u001b[35m{'time_inference': 0.0001051187515258789, 'time_environment_step': 0.00025947093963623046, 'time_step': 0.0003723859786987305, 'evaluation': -227.54781353448317}\u001b[0m \u001b[36mstep\u001b[0m=\u001b[35m70\u001b[0m\n",
      "\u001b[2m2025-05-18 19:31.06\u001b[0m [\u001b[32m\u001b[1minfo     \u001b[0m] \u001b[1mModel parameters are saved to training_logs/online/hammer/AWAC_online_20250518193102/model_80.d3\u001b[0m\n",
      "\u001b[2m2025-05-18 19:31.06\u001b[0m [\u001b[32m\u001b[1minfo     \u001b[0m] \u001b[1mAWAC_online_20250518193102: epoch=8 step=80\u001b[0m \u001b[36mepoch\u001b[0m=\u001b[35m8\u001b[0m \u001b[36mmetrics\u001b[0m=\u001b[35m{'time_inference': 0.00011203289031982421, 'time_environment_step': 0.0002717494964599609, 'time_step': 0.00039122104644775393, 'evaluation': -230.4117908468234}\u001b[0m \u001b[36mstep\u001b[0m=\u001b[35m80\u001b[0m\n",
      "\u001b[2m2025-05-18 19:31.07\u001b[0m [\u001b[32m\u001b[1minfo     \u001b[0m] \u001b[1mModel parameters are saved to training_logs/online/hammer/AWAC_online_20250518193102/model_90.d3\u001b[0m\n",
      "\u001b[2m2025-05-18 19:31.07\u001b[0m [\u001b[32m\u001b[1minfo     \u001b[0m] \u001b[1mAWAC_online_20250518193102: epoch=9 step=90\u001b[0m \u001b[36mepoch\u001b[0m=\u001b[35m9\u001b[0m \u001b[36mmetrics\u001b[0m=\u001b[35m{'time_inference': 0.00010247230529785157, 'time_environment_step': 0.0002750873565673828, 'time_step': 0.00038597583770751955, 'evaluation': -231.65136795976088}\u001b[0m \u001b[36mstep\u001b[0m=\u001b[35m90\u001b[0m\n",
      "\u001b[2m2025-05-18 19:31.08\u001b[0m [\u001b[32m\u001b[1minfo     \u001b[0m] \u001b[1mModel parameters are saved to training_logs/online/hammer/AWAC_online_20250518193102/model_100.d3\u001b[0m\n",
      "\u001b[2m2025-05-18 19:31.08\u001b[0m [\u001b[32m\u001b[1minfo     \u001b[0m] \u001b[1mAWAC_online_20250518193102: epoch=10 step=100\u001b[0m \u001b[36mepoch\u001b[0m=\u001b[35m10\u001b[0m \u001b[36mmetrics\u001b[0m=\u001b[35m{'time_inference': 0.00010924339294433593, 'time_environment_step': 0.00027458667755126954, 'time_step': 0.0003914833068847656, 'evaluation': -230.6665373643957}\u001b[0m \u001b[36mstep\u001b[0m=\u001b[35m100\u001b[0m\n"
     ]
    }
   ],
   "source": [
    "train_online_algorithm(d3rlpy.algos.IQLConfig, hammer_env, 'hammer_iql', 'hammer')\n",
    "train_online_algorithm(d3rlpy.algos.CQLConfig, hammer_env, 'hammer_cql', 'hammer')\n",
    "train_online_algorithm(d3rlpy.algos.TD3PlusBCConfig, hammer_env, 'hammer_td3bc', 'hammer')\n",
    "train_online_algorithm(d3rlpy.algos.AWACConfig, hammer_env, 'hammer_awac', 'hammer')"
   ]
  },
  {
   "cell_type": "markdown",
   "id": "2d968f70-7c6a-4d76-81e9-3c07f5aa4752",
   "metadata": {},
   "source": [
    "### Door"
   ]
  },
  {
   "cell_type": "code",
   "execution_count": 9,
   "id": "064b1b42-813c-4df0-a258-02b178e4cdda",
   "metadata": {
    "scrolled": true
   },
   "outputs": [
    {
     "name": "stdout",
     "output_type": "stream",
     "text": [
      "\u001b[2m2025-05-18 19:31.08\u001b[0m [\u001b[32m\u001b[1minfo     \u001b[0m] \u001b[1mSignatures have been automatically determined.\u001b[0m \u001b[36maction_signature\u001b[0m=\u001b[35mSignature(dtype=[dtype('float32')], shape=[(28,)])\u001b[0m \u001b[36mobservation_signature\u001b[0m=\u001b[35mSignature(dtype=[dtype('float64')], shape=[(39,)])\u001b[0m \u001b[36mreward_signature\u001b[0m=\u001b[35mSignature(dtype=[dtype('float32')], shape=[[1]])\u001b[0m\n",
      "\u001b[2m2025-05-18 19:31.08\u001b[0m [\u001b[32m\u001b[1minfo     \u001b[0m] \u001b[1mAction-space has been automatically determined.\u001b[0m \u001b[36maction_space\u001b[0m=\u001b[35m<ActionSpace.CONTINUOUS: 1>\u001b[0m\n",
      "\u001b[2m2025-05-18 19:31.08\u001b[0m [\u001b[32m\u001b[1minfo     \u001b[0m] \u001b[1mAction size has been automatically determined.\u001b[0m \u001b[36maction_size\u001b[0m=\u001b[35m28\u001b[0m\n",
      "\u001b[2m2025-05-18 19:31.08\u001b[0m [\u001b[32m\u001b[1mdebug    \u001b[0m] \u001b[1mBuilding model...             \u001b[0m\n",
      "\u001b[2m2025-05-18 19:31.08\u001b[0m [\u001b[32m\u001b[1mdebug    \u001b[0m] \u001b[1mModel has been built.         \u001b[0m\n",
      "\u001b[2m2025-05-18 19:31.08\u001b[0m [\u001b[32m\u001b[1minfo     \u001b[0m] \u001b[1mDirectory is created at training_logs/online/door/IQL_online_20250518193108\u001b[0m\n",
      "\u001b[2m2025-05-18 19:31.08\u001b[0m [\u001b[32m\u001b[1minfo     \u001b[0m] \u001b[1mParameters                    \u001b[0m \u001b[36mparams\u001b[0m=\u001b[35m{'observation_shape': [39], 'action_size': 28, 'config': {'type': 'iql', 'params': {'batch_size': 256, 'gamma': 0.99, 'observation_scaler': {'type': 'none', 'params': {}}, 'action_scaler': {'type': 'none', 'params': {}}, 'reward_scaler': {'type': 'none', 'params': {}}, 'compile_graph': False, 'actor_learning_rate': 0.0003, 'critic_learning_rate': 0.0003, 'actor_optim_factory': {'type': 'adam', 'params': {'clip_grad_norm': None, 'lr_scheduler_factory': {'type': 'none', 'params': {}}, 'betas': [0.9, 0.999], 'eps': 1e-08, 'weight_decay': 0, 'amsgrad': False}}, 'critic_optim_factory': {'type': 'adam', 'params': {'clip_grad_norm': None, 'lr_scheduler_factory': {'type': 'none', 'params': {}}, 'betas': [0.9, 0.999], 'eps': 1e-08, 'weight_decay': 0, 'amsgrad': False}}, 'actor_encoder_factory': {'type': 'default', 'params': {'activation': 'relu', 'use_batch_norm': False, 'dropout_rate': None}}, 'critic_encoder_factory': {'type': 'default', 'params': {'activation': 'relu', 'use_batch_norm': False, 'dropout_rate': None}}, 'value_encoder_factory': {'type': 'default', 'params': {'activation': 'relu', 'use_batch_norm': False, 'dropout_rate': None}}, 'tau': 0.005, 'n_critics': 2, 'expectile': 0.7, 'weight_temp': 3.0, 'max_weight': 100.0}}}\u001b[0m\n"
     ]
    },
    {
     "data": {
      "application/vnd.jupyter.widget-view+json": {
       "model_id": "50c4fce0dd5e44a28721ec6c8680201e",
       "version_major": 2,
       "version_minor": 0
      },
      "text/plain": [
       "  0%|          | 0/100 [00:00<?, ?it/s]"
      ]
     },
     "metadata": {},
     "output_type": "display_data"
    },
    {
     "name": "stdout",
     "output_type": "stream",
     "text": [
      "\u001b[2m2025-05-18 19:31.08\u001b[0m [\u001b[32m\u001b[1minfo     \u001b[0m] \u001b[1mModel parameters are saved to training_logs/online/door/IQL_online_20250518193108/model_10.d3\u001b[0m\n",
      "\u001b[2m2025-05-18 19:31.08\u001b[0m [\u001b[32m\u001b[1minfo     \u001b[0m] \u001b[1mIQL_online_20250518193108: epoch=1 step=10\u001b[0m \u001b[36mepoch\u001b[0m=\u001b[35m1\u001b[0m \u001b[36mmetrics\u001b[0m=\u001b[35m{'time_inference': 0.0001968860626220703, 'time_environment_step': 0.00020558834075927733, 'time_step': 0.00041158199310302733, 'evaluation': -44.94519145197609}\u001b[0m \u001b[36mstep\u001b[0m=\u001b[35m10\u001b[0m\n",
      "\u001b[2m2025-05-18 19:31.09\u001b[0m [\u001b[32m\u001b[1minfo     \u001b[0m] \u001b[1mModel parameters are saved to training_logs/online/door/IQL_online_20250518193108/model_20.d3\u001b[0m\n",
      "\u001b[2m2025-05-18 19:31.09\u001b[0m [\u001b[32m\u001b[1minfo     \u001b[0m] \u001b[1mIQL_online_20250518193108: epoch=2 step=20\u001b[0m \u001b[36mepoch\u001b[0m=\u001b[35m2\u001b[0m \u001b[36mmetrics\u001b[0m=\u001b[35m{'time_inference': 0.0001054525375366211, 'time_environment_step': 0.00020258426666259767, 'time_step': 0.00031511783599853517, 'evaluation': -45.153707190683136}\u001b[0m \u001b[36mstep\u001b[0m=\u001b[35m20\u001b[0m\n",
      "\u001b[2m2025-05-18 19:31.09\u001b[0m [\u001b[32m\u001b[1minfo     \u001b[0m] \u001b[1mModel parameters are saved to training_logs/online/door/IQL_online_20250518193108/model_30.d3\u001b[0m\n",
      "\u001b[2m2025-05-18 19:31.09\u001b[0m [\u001b[32m\u001b[1minfo     \u001b[0m] \u001b[1mIQL_online_20250518193108: epoch=3 step=30\u001b[0m \u001b[36mepoch\u001b[0m=\u001b[35m3\u001b[0m \u001b[36mmetrics\u001b[0m=\u001b[35m{'time_inference': 9.737014770507812e-05, 'time_environment_step': 0.00019962787628173827, 'time_step': 0.000304412841796875, 'evaluation': -44.87156592713102}\u001b[0m \u001b[36mstep\u001b[0m=\u001b[35m30\u001b[0m\n",
      "\u001b[2m2025-05-18 19:31.10\u001b[0m [\u001b[32m\u001b[1minfo     \u001b[0m] \u001b[1mModel parameters are saved to training_logs/online/door/IQL_online_20250518193108/model_40.d3\u001b[0m\n",
      "\u001b[2m2025-05-18 19:31.10\u001b[0m [\u001b[32m\u001b[1minfo     \u001b[0m] \u001b[1mIQL_online_20250518193108: epoch=4 step=40\u001b[0m \u001b[36mepoch\u001b[0m=\u001b[35m4\u001b[0m \u001b[36mmetrics\u001b[0m=\u001b[35m{'time_inference': 0.00010004043579101563, 'time_environment_step': 0.00022420883178710937, 'time_step': 0.00033166408538818357, 'evaluation': -45.400677015262545}\u001b[0m \u001b[36mstep\u001b[0m=\u001b[35m40\u001b[0m\n",
      "\u001b[2m2025-05-18 19:31.10\u001b[0m [\u001b[32m\u001b[1minfo     \u001b[0m] \u001b[1mModel parameters are saved to training_logs/online/door/IQL_online_20250518193108/model_50.d3\u001b[0m\n",
      "\u001b[2m2025-05-18 19:31.10\u001b[0m [\u001b[32m\u001b[1minfo     \u001b[0m] \u001b[1mIQL_online_20250518193108: epoch=5 step=50\u001b[0m \u001b[36mepoch\u001b[0m=\u001b[35m5\u001b[0m \u001b[36mmetrics\u001b[0m=\u001b[35m{'time_inference': 8.716583251953126e-05, 'time_environment_step': 0.00023012161254882814, 'time_step': 0.0003237009048461914, 'evaluation': -44.96036201443145}\u001b[0m \u001b[36mstep\u001b[0m=\u001b[35m50\u001b[0m\n",
      "\u001b[2m2025-05-18 19:31.11\u001b[0m [\u001b[32m\u001b[1minfo     \u001b[0m] \u001b[1mModel parameters are saved to training_logs/online/door/IQL_online_20250518193108/model_60.d3\u001b[0m\n",
      "\u001b[2m2025-05-18 19:31.11\u001b[0m [\u001b[32m\u001b[1minfo     \u001b[0m] \u001b[1mIQL_online_20250518193108: epoch=6 step=60\u001b[0m \u001b[36mepoch\u001b[0m=\u001b[35m6\u001b[0m \u001b[36mmetrics\u001b[0m=\u001b[35m{'time_inference': 0.00010392665863037109, 'time_environment_step': 0.00023262500762939454, 'time_step': 0.0003459692001342773, 'evaluation': -45.278044067777984}\u001b[0m \u001b[36mstep\u001b[0m=\u001b[35m60\u001b[0m\n",
      "\u001b[2m2025-05-18 19:31.11\u001b[0m [\u001b[32m\u001b[1minfo     \u001b[0m] \u001b[1mModel parameters are saved to training_logs/online/door/IQL_online_20250518193108/model_70.d3\u001b[0m\n",
      "\u001b[2m2025-05-18 19:31.11\u001b[0m [\u001b[32m\u001b[1minfo     \u001b[0m] \u001b[1mIQL_online_20250518193108: epoch=7 step=70\u001b[0m \u001b[36mepoch\u001b[0m=\u001b[35m7\u001b[0m \u001b[36mmetrics\u001b[0m=\u001b[35m{'time_inference': 0.00010416507720947265, 'time_environment_step': 0.00020411014556884766, 'time_step': 0.0003161907196044922, 'evaluation': -45.13069936376269}\u001b[0m \u001b[36mstep\u001b[0m=\u001b[35m70\u001b[0m\n",
      "\u001b[2m2025-05-18 19:31.12\u001b[0m [\u001b[32m\u001b[1minfo     \u001b[0m] \u001b[1mModel parameters are saved to training_logs/online/door/IQL_online_20250518193108/model_80.d3\u001b[0m\n",
      "\u001b[2m2025-05-18 19:31.12\u001b[0m [\u001b[32m\u001b[1minfo     \u001b[0m] \u001b[1mIQL_online_20250518193108: epoch=8 step=80\u001b[0m \u001b[36mepoch\u001b[0m=\u001b[35m8\u001b[0m \u001b[36mmetrics\u001b[0m=\u001b[35m{'time_inference': 9.882450103759766e-05, 'time_environment_step': 0.0002235889434814453, 'time_step': 0.0003299713134765625, 'evaluation': -45.10222334423533}\u001b[0m \u001b[36mstep\u001b[0m=\u001b[35m80\u001b[0m\n",
      "\u001b[2m2025-05-18 19:31.12\u001b[0m [\u001b[32m\u001b[1minfo     \u001b[0m] \u001b[1mModel parameters are saved to training_logs/online/door/IQL_online_20250518193108/model_90.d3\u001b[0m\n",
      "\u001b[2m2025-05-18 19:31.12\u001b[0m [\u001b[32m\u001b[1minfo     \u001b[0m] \u001b[1mIQL_online_20250518193108: epoch=9 step=90\u001b[0m \u001b[36mepoch\u001b[0m=\u001b[35m9\u001b[0m \u001b[36mmetrics\u001b[0m=\u001b[35m{'time_inference': 0.00012261867523193358, 'time_environment_step': 0.0002302885055541992, 'time_step': 0.0003610372543334961, 'evaluation': -45.189600450991506}\u001b[0m \u001b[36mstep\u001b[0m=\u001b[35m90\u001b[0m\n",
      "\u001b[2m2025-05-18 19:31.13\u001b[0m [\u001b[32m\u001b[1minfo     \u001b[0m] \u001b[1mModel parameters are saved to training_logs/online/door/IQL_online_20250518193108/model_100.d3\u001b[0m\n",
      "\u001b[2m2025-05-18 19:31.13\u001b[0m [\u001b[32m\u001b[1minfo     \u001b[0m] \u001b[1mIQL_online_20250518193108: epoch=10 step=100\u001b[0m \u001b[36mepoch\u001b[0m=\u001b[35m10\u001b[0m \u001b[36mmetrics\u001b[0m=\u001b[35m{'time_inference': 0.00010099411010742188, 'time_environment_step': 0.0002184152603149414, 'time_step': 0.0003271818161010742, 'evaluation': -44.95185944315747}\u001b[0m \u001b[36mstep\u001b[0m=\u001b[35m100\u001b[0m\n",
      "\u001b[2m2025-05-18 19:31.13\u001b[0m [\u001b[32m\u001b[1minfo     \u001b[0m] \u001b[1mSignatures have been automatically determined.\u001b[0m \u001b[36maction_signature\u001b[0m=\u001b[35mSignature(dtype=[dtype('float32')], shape=[(28,)])\u001b[0m \u001b[36mobservation_signature\u001b[0m=\u001b[35mSignature(dtype=[dtype('float64')], shape=[(39,)])\u001b[0m \u001b[36mreward_signature\u001b[0m=\u001b[35mSignature(dtype=[dtype('float32')], shape=[[1]])\u001b[0m\n",
      "\u001b[2m2025-05-18 19:31.13\u001b[0m [\u001b[32m\u001b[1minfo     \u001b[0m] \u001b[1mAction-space has been automatically determined.\u001b[0m \u001b[36maction_space\u001b[0m=\u001b[35m<ActionSpace.CONTINUOUS: 1>\u001b[0m\n",
      "\u001b[2m2025-05-18 19:31.13\u001b[0m [\u001b[32m\u001b[1minfo     \u001b[0m] \u001b[1mAction size has been automatically determined.\u001b[0m \u001b[36maction_size\u001b[0m=\u001b[35m28\u001b[0m\n",
      "\u001b[2m2025-05-18 19:31.13\u001b[0m [\u001b[32m\u001b[1mdebug    \u001b[0m] \u001b[1mBuilding model...             \u001b[0m\n",
      "\u001b[2m2025-05-18 19:31.13\u001b[0m [\u001b[32m\u001b[1mdebug    \u001b[0m] \u001b[1mModel has been built.         \u001b[0m\n",
      "\u001b[2m2025-05-18 19:31.13\u001b[0m [\u001b[32m\u001b[1minfo     \u001b[0m] \u001b[1mDirectory is created at training_logs/online/door/CQL_online_20250518193113\u001b[0m\n",
      "\u001b[2m2025-05-18 19:31.13\u001b[0m [\u001b[32m\u001b[1minfo     \u001b[0m] \u001b[1mParameters                    \u001b[0m \u001b[36mparams\u001b[0m=\u001b[35m{'observation_shape': [39], 'action_size': 28, 'config': {'type': 'cql', 'params': {'batch_size': 256, 'gamma': 0.99, 'observation_scaler': {'type': 'none', 'params': {}}, 'action_scaler': {'type': 'none', 'params': {}}, 'reward_scaler': {'type': 'none', 'params': {}}, 'compile_graph': False, 'actor_learning_rate': 0.0001, 'critic_learning_rate': 0.0003, 'temp_learning_rate': 0.0001, 'alpha_learning_rate': 0.0001, 'actor_optim_factory': {'type': 'adam', 'params': {'clip_grad_norm': None, 'lr_scheduler_factory': {'type': 'none', 'params': {}}, 'betas': [0.9, 0.999], 'eps': 1e-08, 'weight_decay': 0, 'amsgrad': False}}, 'critic_optim_factory': {'type': 'adam', 'params': {'clip_grad_norm': None, 'lr_scheduler_factory': {'type': 'none', 'params': {}}, 'betas': [0.9, 0.999], 'eps': 1e-08, 'weight_decay': 0, 'amsgrad': False}}, 'temp_optim_factory': {'type': 'adam', 'params': {'clip_grad_norm': None, 'lr_scheduler_factory': {'type': 'none', 'params': {}}, 'betas': [0.9, 0.999], 'eps': 1e-08, 'weight_decay': 0, 'amsgrad': False}}, 'alpha_optim_factory': {'type': 'adam', 'params': {'clip_grad_norm': None, 'lr_scheduler_factory': {'type': 'none', 'params': {}}, 'betas': [0.9, 0.999], 'eps': 1e-08, 'weight_decay': 0, 'amsgrad': False}}, 'actor_encoder_factory': {'type': 'default', 'params': {'activation': 'relu', 'use_batch_norm': False, 'dropout_rate': None}}, 'critic_encoder_factory': {'type': 'default', 'params': {'activation': 'relu', 'use_batch_norm': False, 'dropout_rate': None}}, 'q_func_factory': {'type': 'mean', 'params': {'share_encoder': False}}, 'tau': 0.005, 'n_critics': 2, 'initial_temperature': 1.0, 'initial_alpha': 1.0, 'alpha_threshold': 10.0, 'conservative_weight': 5.0, 'n_action_samples': 10, 'soft_q_backup': False, 'max_q_backup': False}}}\u001b[0m\n"
     ]
    },
    {
     "data": {
      "application/vnd.jupyter.widget-view+json": {
       "model_id": "0de00208c58a48b7b453ab9552594325",
       "version_major": 2,
       "version_minor": 0
      },
      "text/plain": [
       "  0%|          | 0/100 [00:00<?, ?it/s]"
      ]
     },
     "metadata": {},
     "output_type": "display_data"
    },
    {
     "name": "stdout",
     "output_type": "stream",
     "text": [
      "\u001b[2m2025-05-18 19:31.13\u001b[0m [\u001b[32m\u001b[1minfo     \u001b[0m] \u001b[1mModel parameters are saved to training_logs/online/door/CQL_online_20250518193113/model_10.d3\u001b[0m\n",
      "\u001b[2m2025-05-18 19:31.13\u001b[0m [\u001b[32m\u001b[1minfo     \u001b[0m] \u001b[1mCQL_online_20250518193113: epoch=1 step=10\u001b[0m \u001b[36mepoch\u001b[0m=\u001b[35m1\u001b[0m \u001b[36mmetrics\u001b[0m=\u001b[35m{'time_inference': 0.0005377769470214844, 'time_environment_step': 0.0004079103469848633, 'time_step': 0.000973963737487793, 'evaluation': -45.00815998925763}\u001b[0m \u001b[36mstep\u001b[0m=\u001b[35m10\u001b[0m\n",
      "\u001b[2m2025-05-18 19:31.14\u001b[0m [\u001b[32m\u001b[1minfo     \u001b[0m] \u001b[1mModel parameters are saved to training_logs/online/door/CQL_online_20250518193113/model_20.d3\u001b[0m\n",
      "\u001b[2m2025-05-18 19:31.14\u001b[0m [\u001b[32m\u001b[1minfo     \u001b[0m] \u001b[1mCQL_online_20250518193113: epoch=2 step=20\u001b[0m \u001b[36mepoch\u001b[0m=\u001b[35m2\u001b[0m \u001b[36mmetrics\u001b[0m=\u001b[35m{'time_inference': 0.00011081695556640625, 'time_environment_step': 0.00019676685333251952, 'time_step': 0.0003148555755615234, 'evaluation': -44.45012632238425}\u001b[0m \u001b[36mstep\u001b[0m=\u001b[35m20\u001b[0m\n",
      "\u001b[2m2025-05-18 19:31.14\u001b[0m [\u001b[32m\u001b[1minfo     \u001b[0m] \u001b[1mModel parameters are saved to training_logs/online/door/CQL_online_20250518193113/model_30.d3\u001b[0m\n",
      "\u001b[2m2025-05-18 19:31.14\u001b[0m [\u001b[32m\u001b[1minfo     \u001b[0m] \u001b[1mCQL_online_20250518193113: epoch=3 step=30\u001b[0m \u001b[36mepoch\u001b[0m=\u001b[35m3\u001b[0m \u001b[36mmetrics\u001b[0m=\u001b[35m{'time_inference': 9.503364562988282e-05, 'time_environment_step': 0.00019617080688476561, 'time_step': 0.00029835700988769533, 'evaluation': -44.54522849959939}\u001b[0m \u001b[36mstep\u001b[0m=\u001b[35m30\u001b[0m\n",
      "\u001b[2m2025-05-18 19:31.15\u001b[0m [\u001b[32m\u001b[1minfo     \u001b[0m] \u001b[1mModel parameters are saved to training_logs/online/door/CQL_online_20250518193113/model_40.d3\u001b[0m\n",
      "\u001b[2m2025-05-18 19:31.15\u001b[0m [\u001b[32m\u001b[1minfo     \u001b[0m] \u001b[1mCQL_online_20250518193113: epoch=4 step=40\u001b[0m \u001b[36mepoch\u001b[0m=\u001b[35m4\u001b[0m \u001b[36mmetrics\u001b[0m=\u001b[35m{'time_inference': 9.577274322509765e-05, 'time_environment_step': 0.00023458003997802734, 'time_step': 0.00033757686614990237, 'evaluation': -44.484381171831714}\u001b[0m \u001b[36mstep\u001b[0m=\u001b[35m40\u001b[0m\n",
      "\u001b[2m2025-05-18 19:31.15\u001b[0m [\u001b[32m\u001b[1minfo     \u001b[0m] \u001b[1mModel parameters are saved to training_logs/online/door/CQL_online_20250518193113/model_50.d3\u001b[0m\n",
      "\u001b[2m2025-05-18 19:31.15\u001b[0m [\u001b[32m\u001b[1minfo     \u001b[0m] \u001b[1mCQL_online_20250518193113: epoch=5 step=50\u001b[0m \u001b[36mepoch\u001b[0m=\u001b[35m5\u001b[0m \u001b[36mmetrics\u001b[0m=\u001b[35m{'time_inference': 8.952617645263672e-05, 'time_environment_step': 0.00020205974578857422, 'time_step': 0.00029850006103515625, 'evaluation': -44.80528584377001}\u001b[0m \u001b[36mstep\u001b[0m=\u001b[35m50\u001b[0m\n",
      "\u001b[2m2025-05-18 19:31.16\u001b[0m [\u001b[32m\u001b[1minfo     \u001b[0m] \u001b[1mModel parameters are saved to training_logs/online/door/CQL_online_20250518193113/model_60.d3\u001b[0m\n",
      "\u001b[2m2025-05-18 19:31.16\u001b[0m [\u001b[32m\u001b[1minfo     \u001b[0m] \u001b[1mCQL_online_20250518193113: epoch=6 step=60\u001b[0m \u001b[36mepoch\u001b[0m=\u001b[35m6\u001b[0m \u001b[36mmetrics\u001b[0m=\u001b[35m{'time_inference': 9.860992431640626e-05, 'time_environment_step': 0.0002017974853515625, 'time_step': 0.00030841827392578123, 'evaluation': -44.59408847640505}\u001b[0m \u001b[36mstep\u001b[0m=\u001b[35m60\u001b[0m\n",
      "\u001b[2m2025-05-18 19:31.16\u001b[0m [\u001b[32m\u001b[1minfo     \u001b[0m] \u001b[1mModel parameters are saved to training_logs/online/door/CQL_online_20250518193113/model_70.d3\u001b[0m\n",
      "\u001b[2m2025-05-18 19:31.16\u001b[0m [\u001b[32m\u001b[1minfo     \u001b[0m] \u001b[1mCQL_online_20250518193113: epoch=7 step=70\u001b[0m \u001b[36mepoch\u001b[0m=\u001b[35m7\u001b[0m \u001b[36mmetrics\u001b[0m=\u001b[35m{'time_inference': 9.865760803222657e-05, 'time_environment_step': 0.00021228790283203124, 'time_step': 0.00031850337982177737, 'evaluation': -44.472401084297374}\u001b[0m \u001b[36mstep\u001b[0m=\u001b[35m70\u001b[0m\n",
      "\u001b[2m2025-05-18 19:31.17\u001b[0m [\u001b[32m\u001b[1minfo     \u001b[0m] \u001b[1mModel parameters are saved to training_logs/online/door/CQL_online_20250518193113/model_80.d3\u001b[0m\n",
      "\u001b[2m2025-05-18 19:31.17\u001b[0m [\u001b[32m\u001b[1minfo     \u001b[0m] \u001b[1mCQL_online_20250518193113: epoch=8 step=80\u001b[0m \u001b[36mepoch\u001b[0m=\u001b[35m8\u001b[0m \u001b[36mmetrics\u001b[0m=\u001b[35m{'time_inference': 9.589195251464843e-05, 'time_environment_step': 0.00027475357055664065, 'time_step': 0.0003786563873291016, 'evaluation': -44.401613186357245}\u001b[0m \u001b[36mstep\u001b[0m=\u001b[35m80\u001b[0m\n",
      "\u001b[2m2025-05-18 19:31.17\u001b[0m [\u001b[32m\u001b[1minfo     \u001b[0m] \u001b[1mModel parameters are saved to training_logs/online/door/CQL_online_20250518193113/model_90.d3\u001b[0m\n",
      "\u001b[2m2025-05-18 19:31.17\u001b[0m [\u001b[32m\u001b[1minfo     \u001b[0m] \u001b[1mCQL_online_20250518193113: epoch=9 step=90\u001b[0m \u001b[36mepoch\u001b[0m=\u001b[35m9\u001b[0m \u001b[36mmetrics\u001b[0m=\u001b[35m{'time_inference': 0.00010106563568115234, 'time_environment_step': 0.0002772808074951172, 'time_step': 0.00038635730743408203, 'evaluation': -44.40639618310814}\u001b[0m \u001b[36mstep\u001b[0m=\u001b[35m90\u001b[0m\n",
      "\u001b[2m2025-05-18 19:31.18\u001b[0m [\u001b[32m\u001b[1minfo     \u001b[0m] \u001b[1mModel parameters are saved to training_logs/online/door/CQL_online_20250518193113/model_100.d3\u001b[0m\n",
      "\u001b[2m2025-05-18 19:31.18\u001b[0m [\u001b[32m\u001b[1minfo     \u001b[0m] \u001b[1mCQL_online_20250518193113: epoch=10 step=100\u001b[0m \u001b[36mepoch\u001b[0m=\u001b[35m10\u001b[0m \u001b[36mmetrics\u001b[0m=\u001b[35m{'time_inference': 8.45193862915039e-05, 'time_environment_step': 0.00021245479583740235, 'time_step': 0.00030453205108642577, 'evaluation': -44.40033906415981}\u001b[0m \u001b[36mstep\u001b[0m=\u001b[35m100\u001b[0m\n",
      "\u001b[2m2025-05-18 19:31.18\u001b[0m [\u001b[32m\u001b[1minfo     \u001b[0m] \u001b[1mSignatures have been automatically determined.\u001b[0m \u001b[36maction_signature\u001b[0m=\u001b[35mSignature(dtype=[dtype('float32')], shape=[(28,)])\u001b[0m \u001b[36mobservation_signature\u001b[0m=\u001b[35mSignature(dtype=[dtype('float64')], shape=[(39,)])\u001b[0m \u001b[36mreward_signature\u001b[0m=\u001b[35mSignature(dtype=[dtype('float32')], shape=[[1]])\u001b[0m\n",
      "\u001b[2m2025-05-18 19:31.18\u001b[0m [\u001b[32m\u001b[1minfo     \u001b[0m] \u001b[1mAction-space has been automatically determined.\u001b[0m \u001b[36maction_space\u001b[0m=\u001b[35m<ActionSpace.CONTINUOUS: 1>\u001b[0m\n",
      "\u001b[2m2025-05-18 19:31.18\u001b[0m [\u001b[32m\u001b[1minfo     \u001b[0m] \u001b[1mAction size has been automatically determined.\u001b[0m \u001b[36maction_size\u001b[0m=\u001b[35m28\u001b[0m\n",
      "\u001b[2m2025-05-18 19:31.18\u001b[0m [\u001b[32m\u001b[1mdebug    \u001b[0m] \u001b[1mBuilding model...             \u001b[0m\n",
      "\u001b[2m2025-05-18 19:31.18\u001b[0m [\u001b[32m\u001b[1mdebug    \u001b[0m] \u001b[1mModel has been built.         \u001b[0m\n",
      "\u001b[2m2025-05-18 19:31.18\u001b[0m [\u001b[32m\u001b[1minfo     \u001b[0m] \u001b[1mDirectory is created at training_logs/online/door/TD3PlusBC_online_20250518193118\u001b[0m\n",
      "\u001b[2m2025-05-18 19:31.18\u001b[0m [\u001b[32m\u001b[1minfo     \u001b[0m] \u001b[1mParameters                    \u001b[0m \u001b[36mparams\u001b[0m=\u001b[35m{'observation_shape': [39], 'action_size': 28, 'config': {'type': 'td3_plus_bc', 'params': {'batch_size': 256, 'gamma': 0.99, 'observation_scaler': {'type': 'none', 'params': {}}, 'action_scaler': {'type': 'none', 'params': {}}, 'reward_scaler': {'type': 'none', 'params': {}}, 'compile_graph': False, 'actor_learning_rate': 0.0003, 'critic_learning_rate': 0.0003, 'actor_optim_factory': {'type': 'adam', 'params': {'clip_grad_norm': None, 'lr_scheduler_factory': {'type': 'none', 'params': {}}, 'betas': [0.9, 0.999], 'eps': 1e-08, 'weight_decay': 0, 'amsgrad': False}}, 'critic_optim_factory': {'type': 'adam', 'params': {'clip_grad_norm': None, 'lr_scheduler_factory': {'type': 'none', 'params': {}}, 'betas': [0.9, 0.999], 'eps': 1e-08, 'weight_decay': 0, 'amsgrad': False}}, 'actor_encoder_factory': {'type': 'default', 'params': {'activation': 'relu', 'use_batch_norm': False, 'dropout_rate': None}}, 'critic_encoder_factory': {'type': 'default', 'params': {'activation': 'relu', 'use_batch_norm': False, 'dropout_rate': None}}, 'q_func_factory': {'type': 'mean', 'params': {'share_encoder': False}}, 'tau': 0.005, 'n_critics': 2, 'target_smoothing_sigma': 0.2, 'target_smoothing_clip': 0.5, 'alpha': 2.5, 'update_actor_interval': 2}}}\u001b[0m\n"
     ]
    },
    {
     "data": {
      "application/vnd.jupyter.widget-view+json": {
       "model_id": "f4d062a16ff047abaa74fc9df22bf7e5",
       "version_major": 2,
       "version_minor": 0
      },
      "text/plain": [
       "  0%|          | 0/100 [00:00<?, ?it/s]"
      ]
     },
     "metadata": {},
     "output_type": "display_data"
    },
    {
     "name": "stdout",
     "output_type": "stream",
     "text": [
      "\u001b[2m2025-05-18 19:31.19\u001b[0m [\u001b[32m\u001b[1minfo     \u001b[0m] \u001b[1mModel parameters are saved to training_logs/online/door/TD3PlusBC_online_20250518193118/model_10.d3\u001b[0m\n",
      "\u001b[2m2025-05-18 19:31.19\u001b[0m [\u001b[32m\u001b[1minfo     \u001b[0m] \u001b[1mTD3PlusBC_online_20250518193118: epoch=1 step=10\u001b[0m \u001b[36mepoch\u001b[0m=\u001b[35m1\u001b[0m \u001b[36mmetrics\u001b[0m=\u001b[35m{'time_inference': 0.0001642465591430664, 'time_environment_step': 0.00024068355560302734, 'time_step': 0.0004143476486206055, 'evaluation': -43.36801148568946}\u001b[0m \u001b[36mstep\u001b[0m=\u001b[35m10\u001b[0m\n",
      "\u001b[2m2025-05-18 19:31.19\u001b[0m [\u001b[32m\u001b[1minfo     \u001b[0m] \u001b[1mModel parameters are saved to training_logs/online/door/TD3PlusBC_online_20250518193118/model_20.d3\u001b[0m\n",
      "\u001b[2m2025-05-18 19:31.19\u001b[0m [\u001b[32m\u001b[1minfo     \u001b[0m] \u001b[1mTD3PlusBC_online_20250518193118: epoch=2 step=20\u001b[0m \u001b[36mepoch\u001b[0m=\u001b[35m2\u001b[0m \u001b[36mmetrics\u001b[0m=\u001b[35m{'time_inference': 8.780956268310547e-05, 'time_environment_step': 0.000209808349609375, 'time_step': 0.00030496120452880857, 'evaluation': -43.22618846013376}\u001b[0m \u001b[36mstep\u001b[0m=\u001b[35m20\u001b[0m\n",
      "\u001b[2m2025-05-18 19:31.19\u001b[0m [\u001b[32m\u001b[1minfo     \u001b[0m] \u001b[1mModel parameters are saved to training_logs/online/door/TD3PlusBC_online_20250518193118/model_30.d3\u001b[0m\n",
      "\u001b[2m2025-05-18 19:31.19\u001b[0m [\u001b[32m\u001b[1minfo     \u001b[0m] \u001b[1mTD3PlusBC_online_20250518193118: epoch=3 step=30\u001b[0m \u001b[36mepoch\u001b[0m=\u001b[35m3\u001b[0m \u001b[36mmetrics\u001b[0m=\u001b[35m{'time_inference': 9.183883666992187e-05, 'time_environment_step': 0.00021622180938720703, 'time_step': 0.0003151893615722656, 'evaluation': -43.32237616099978}\u001b[0m \u001b[36mstep\u001b[0m=\u001b[35m30\u001b[0m\n",
      "\u001b[2m2025-05-18 19:31.20\u001b[0m [\u001b[32m\u001b[1minfo     \u001b[0m] \u001b[1mModel parameters are saved to training_logs/online/door/TD3PlusBC_online_20250518193118/model_40.d3\u001b[0m\n",
      "\u001b[2m2025-05-18 19:31.20\u001b[0m [\u001b[32m\u001b[1minfo     \u001b[0m] \u001b[1mTD3PlusBC_online_20250518193118: epoch=4 step=40\u001b[0m \u001b[36mepoch\u001b[0m=\u001b[35m4\u001b[0m \u001b[36mmetrics\u001b[0m=\u001b[35m{'time_inference': 9.260177612304687e-05, 'time_environment_step': 0.00021049976348876953, 'time_step': 0.0003109455108642578, 'evaluation': -43.35292682843321}\u001b[0m \u001b[36mstep\u001b[0m=\u001b[35m40\u001b[0m\n",
      "\u001b[2m2025-05-18 19:31.20\u001b[0m [\u001b[32m\u001b[1minfo     \u001b[0m] \u001b[1mModel parameters are saved to training_logs/online/door/TD3PlusBC_online_20250518193118/model_50.d3\u001b[0m\n",
      "\u001b[2m2025-05-18 19:31.20\u001b[0m [\u001b[32m\u001b[1minfo     \u001b[0m] \u001b[1mTD3PlusBC_online_20250518193118: epoch=5 step=50\u001b[0m \u001b[36mepoch\u001b[0m=\u001b[35m5\u001b[0m \u001b[36mmetrics\u001b[0m=\u001b[35m{'time_inference': 8.890628814697265e-05, 'time_environment_step': 0.0002064943313598633, 'time_step': 0.0003022670745849609, 'evaluation': -43.182211319195275}\u001b[0m \u001b[36mstep\u001b[0m=\u001b[35m50\u001b[0m\n",
      "\u001b[2m2025-05-18 19:31.21\u001b[0m [\u001b[32m\u001b[1minfo     \u001b[0m] \u001b[1mModel parameters are saved to training_logs/online/door/TD3PlusBC_online_20250518193118/model_60.d3\u001b[0m\n",
      "\u001b[2m2025-05-18 19:31.21\u001b[0m [\u001b[32m\u001b[1minfo     \u001b[0m] \u001b[1mTD3PlusBC_online_20250518193118: epoch=6 step=60\u001b[0m \u001b[36mepoch\u001b[0m=\u001b[35m6\u001b[0m \u001b[36mmetrics\u001b[0m=\u001b[35m{'time_inference': 9.183883666992187e-05, 'time_environment_step': 0.00022287368774414061, 'time_step': 0.00032389163970947266, 'evaluation': -43.21931542221284}\u001b[0m \u001b[36mstep\u001b[0m=\u001b[35m60\u001b[0m\n",
      "\u001b[2m2025-05-18 19:31.21\u001b[0m [\u001b[32m\u001b[1minfo     \u001b[0m] \u001b[1mModel parameters are saved to training_logs/online/door/TD3PlusBC_online_20250518193118/model_70.d3\u001b[0m\n",
      "\u001b[2m2025-05-18 19:31.21\u001b[0m [\u001b[32m\u001b[1minfo     \u001b[0m] \u001b[1mTD3PlusBC_online_20250518193118: epoch=7 step=70\u001b[0m \u001b[36mepoch\u001b[0m=\u001b[35m7\u001b[0m \u001b[36mmetrics\u001b[0m=\u001b[35m{'time_inference': 8.924007415771485e-05, 'time_environment_step': 0.00021505355834960938, 'time_step': 0.00031201839447021485, 'evaluation': -43.41169307682561}\u001b[0m \u001b[36mstep\u001b[0m=\u001b[35m70\u001b[0m\n",
      "\u001b[2m2025-05-18 19:31.22\u001b[0m [\u001b[32m\u001b[1minfo     \u001b[0m] \u001b[1mModel parameters are saved to training_logs/online/door/TD3PlusBC_online_20250518193118/model_80.d3\u001b[0m\n",
      "\u001b[2m2025-05-18 19:31.22\u001b[0m [\u001b[32m\u001b[1minfo     \u001b[0m] \u001b[1mTD3PlusBC_online_20250518193118: epoch=8 step=80\u001b[0m \u001b[36mepoch\u001b[0m=\u001b[35m8\u001b[0m \u001b[36mmetrics\u001b[0m=\u001b[35m{'time_inference': 7.848739624023437e-05, 'time_environment_step': 0.00021581649780273439, 'time_step': 0.00030231475830078125, 'evaluation': -43.11420494467779}\u001b[0m \u001b[36mstep\u001b[0m=\u001b[35m80\u001b[0m\n",
      "\u001b[2m2025-05-18 19:31.22\u001b[0m [\u001b[32m\u001b[1minfo     \u001b[0m] \u001b[1mModel parameters are saved to training_logs/online/door/TD3PlusBC_online_20250518193118/model_90.d3\u001b[0m\n",
      "\u001b[2m2025-05-18 19:31.22\u001b[0m [\u001b[32m\u001b[1minfo     \u001b[0m] \u001b[1mTD3PlusBC_online_20250518193118: epoch=9 step=90\u001b[0m \u001b[36mepoch\u001b[0m=\u001b[35m9\u001b[0m \u001b[36mmetrics\u001b[0m=\u001b[35m{'time_inference': 0.00010015964508056641, 'time_environment_step': 0.0002128124237060547, 'time_step': 0.00032033920288085935, 'evaluation': -43.54771212243962}\u001b[0m \u001b[36mstep\u001b[0m=\u001b[35m90\u001b[0m\n",
      "\u001b[2m2025-05-18 19:31.23\u001b[0m [\u001b[32m\u001b[1minfo     \u001b[0m] \u001b[1mModel parameters are saved to training_logs/online/door/TD3PlusBC_online_20250518193118/model_100.d3\u001b[0m\n",
      "\u001b[2m2025-05-18 19:31.23\u001b[0m [\u001b[32m\u001b[1minfo     \u001b[0m] \u001b[1mTD3PlusBC_online_20250518193118: epoch=10 step=100\u001b[0m \u001b[36mepoch\u001b[0m=\u001b[35m10\u001b[0m \u001b[36mmetrics\u001b[0m=\u001b[35m{'time_inference': 9.639263153076172e-05, 'time_environment_step': 0.00023605823516845704, 'time_step': 0.00034139156341552737, 'evaluation': -43.234003993487526}\u001b[0m \u001b[36mstep\u001b[0m=\u001b[35m100\u001b[0m\n",
      "\u001b[2m2025-05-18 19:31.23\u001b[0m [\u001b[32m\u001b[1minfo     \u001b[0m] \u001b[1mSignatures have been automatically determined.\u001b[0m \u001b[36maction_signature\u001b[0m=\u001b[35mSignature(dtype=[dtype('float32')], shape=[(28,)])\u001b[0m \u001b[36mobservation_signature\u001b[0m=\u001b[35mSignature(dtype=[dtype('float64')], shape=[(39,)])\u001b[0m \u001b[36mreward_signature\u001b[0m=\u001b[35mSignature(dtype=[dtype('float32')], shape=[[1]])\u001b[0m\n",
      "\u001b[2m2025-05-18 19:31.23\u001b[0m [\u001b[32m\u001b[1minfo     \u001b[0m] \u001b[1mAction-space has been automatically determined.\u001b[0m \u001b[36maction_space\u001b[0m=\u001b[35m<ActionSpace.CONTINUOUS: 1>\u001b[0m\n",
      "\u001b[2m2025-05-18 19:31.23\u001b[0m [\u001b[32m\u001b[1minfo     \u001b[0m] \u001b[1mAction size has been automatically determined.\u001b[0m \u001b[36maction_size\u001b[0m=\u001b[35m28\u001b[0m\n",
      "\u001b[2m2025-05-18 19:31.23\u001b[0m [\u001b[32m\u001b[1mdebug    \u001b[0m] \u001b[1mBuilding model...             \u001b[0m\n",
      "\u001b[2m2025-05-18 19:31.23\u001b[0m [\u001b[32m\u001b[1mdebug    \u001b[0m] \u001b[1mModel has been built.         \u001b[0m\n",
      "\u001b[2m2025-05-18 19:31.23\u001b[0m [\u001b[32m\u001b[1minfo     \u001b[0m] \u001b[1mDirectory is created at training_logs/online/door/AWAC_online_20250518193123\u001b[0m\n",
      "\u001b[2m2025-05-18 19:31.23\u001b[0m [\u001b[32m\u001b[1minfo     \u001b[0m] \u001b[1mParameters                    \u001b[0m \u001b[36mparams\u001b[0m=\u001b[35m{'observation_shape': [39], 'action_size': 28, 'config': {'type': 'awac', 'params': {'batch_size': 1024, 'gamma': 0.99, 'observation_scaler': {'type': 'none', 'params': {}}, 'action_scaler': {'type': 'none', 'params': {}}, 'reward_scaler': {'type': 'none', 'params': {}}, 'compile_graph': False, 'actor_learning_rate': 0.0003, 'critic_learning_rate': 0.0003, 'actor_optim_factory': {'type': 'adam', 'params': {'clip_grad_norm': None, 'lr_scheduler_factory': {'type': 'none', 'params': {}}, 'betas': [0.9, 0.999], 'eps': 1e-08, 'weight_decay': 0, 'amsgrad': False}}, 'critic_optim_factory': {'type': 'adam', 'params': {'clip_grad_norm': None, 'lr_scheduler_factory': {'type': 'none', 'params': {}}, 'betas': [0.9, 0.999], 'eps': 1e-08, 'weight_decay': 0, 'amsgrad': False}}, 'actor_encoder_factory': {'type': 'default', 'params': {'activation': 'relu', 'use_batch_norm': False, 'dropout_rate': None}}, 'critic_encoder_factory': {'type': 'default', 'params': {'activation': 'relu', 'use_batch_norm': False, 'dropout_rate': None}}, 'q_func_factory': {'type': 'mean', 'params': {'share_encoder': False}}, 'tau': 0.005, 'lam': 1.0, 'n_action_samples': 1, 'n_critics': 2}}}\u001b[0m\n"
     ]
    },
    {
     "data": {
      "application/vnd.jupyter.widget-view+json": {
       "model_id": "2b4ea7b5f0ea471baf2fb510f982e388",
       "version_major": 2,
       "version_minor": 0
      },
      "text/plain": [
       "  0%|          | 0/100 [00:00<?, ?it/s]"
      ]
     },
     "metadata": {},
     "output_type": "display_data"
    },
    {
     "name": "stdout",
     "output_type": "stream",
     "text": [
      "\u001b[2m2025-05-18 19:31.23\u001b[0m [\u001b[32m\u001b[1minfo     \u001b[0m] \u001b[1mModel parameters are saved to training_logs/online/door/AWAC_online_20250518193123/model_10.d3\u001b[0m\n",
      "\u001b[2m2025-05-18 19:31.23\u001b[0m [\u001b[32m\u001b[1minfo     \u001b[0m] \u001b[1mAWAC_online_20250518193123: epoch=1 step=10\u001b[0m \u001b[36mepoch\u001b[0m=\u001b[35m1\u001b[0m \u001b[36mmetrics\u001b[0m=\u001b[35m{'time_inference': 0.00017855167388916015, 'time_environment_step': 0.00021989345550537108, 'time_step': 0.0004069805145263672, 'evaluation': -43.977673850329936}\u001b[0m \u001b[36mstep\u001b[0m=\u001b[35m10\u001b[0m\n",
      "\u001b[2m2025-05-18 19:31.24\u001b[0m [\u001b[32m\u001b[1minfo     \u001b[0m] \u001b[1mModel parameters are saved to training_logs/online/door/AWAC_online_20250518193123/model_20.d3\u001b[0m\n",
      "\u001b[2m2025-05-18 19:31.24\u001b[0m [\u001b[32m\u001b[1minfo     \u001b[0m] \u001b[1mAWAC_online_20250518193123: epoch=2 step=20\u001b[0m \u001b[36mepoch\u001b[0m=\u001b[35m2\u001b[0m \u001b[36mmetrics\u001b[0m=\u001b[35m{'time_inference': 0.00010523796081542968, 'time_environment_step': 0.00020813941955566406, 'time_step': 0.0003220081329345703, 'evaluation': -44.12429605994741}\u001b[0m \u001b[36mstep\u001b[0m=\u001b[35m20\u001b[0m\n",
      "\u001b[2m2025-05-18 19:31.24\u001b[0m [\u001b[32m\u001b[1minfo     \u001b[0m] \u001b[1mModel parameters are saved to training_logs/online/door/AWAC_online_20250518193123/model_30.d3\u001b[0m\n",
      "\u001b[2m2025-05-18 19:31.24\u001b[0m [\u001b[32m\u001b[1minfo     \u001b[0m] \u001b[1mAWAC_online_20250518193123: epoch=3 step=30\u001b[0m \u001b[36mepoch\u001b[0m=\u001b[35m3\u001b[0m \u001b[36mmetrics\u001b[0m=\u001b[35m{'time_inference': 0.00011286735534667968, 'time_environment_step': 0.0002028942108154297, 'time_step': 0.0003233909606933594, 'evaluation': -44.02140184368413}\u001b[0m \u001b[36mstep\u001b[0m=\u001b[35m30\u001b[0m\n",
      "\u001b[2m2025-05-18 19:31.25\u001b[0m [\u001b[32m\u001b[1minfo     \u001b[0m] \u001b[1mModel parameters are saved to training_logs/online/door/AWAC_online_20250518193123/model_40.d3\u001b[0m\n",
      "\u001b[2m2025-05-18 19:31.25\u001b[0m [\u001b[32m\u001b[1minfo     \u001b[0m] \u001b[1mAWAC_online_20250518193123: epoch=4 step=40\u001b[0m \u001b[36mepoch\u001b[0m=\u001b[35m4\u001b[0m \u001b[36mmetrics\u001b[0m=\u001b[35m{'time_inference': 0.00010313987731933594, 'time_environment_step': 0.000213623046875, 'time_step': 0.0003237009048461914, 'evaluation': -43.98990071948246}\u001b[0m \u001b[36mstep\u001b[0m=\u001b[35m40\u001b[0m\n",
      "\u001b[2m2025-05-18 19:31.25\u001b[0m [\u001b[32m\u001b[1minfo     \u001b[0m] \u001b[1mModel parameters are saved to training_logs/online/door/AWAC_online_20250518193123/model_50.d3\u001b[0m\n",
      "\u001b[2m2025-05-18 19:31.25\u001b[0m [\u001b[32m\u001b[1minfo     \u001b[0m] \u001b[1mAWAC_online_20250518193123: epoch=5 step=50\u001b[0m \u001b[36mepoch\u001b[0m=\u001b[35m5\u001b[0m \u001b[36mmetrics\u001b[0m=\u001b[35m{'time_inference': 9.927749633789062e-05, 'time_environment_step': 0.00018520355224609374, 'time_step': 0.00029125213623046873, 'evaluation': -44.39899550929004}\u001b[0m \u001b[36mstep\u001b[0m=\u001b[35m50\u001b[0m\n",
      "\u001b[2m2025-05-18 19:31.26\u001b[0m [\u001b[32m\u001b[1minfo     \u001b[0m] \u001b[1mModel parameters are saved to training_logs/online/door/AWAC_online_20250518193123/model_60.d3\u001b[0m\n",
      "\u001b[2m2025-05-18 19:31.26\u001b[0m [\u001b[32m\u001b[1minfo     \u001b[0m] \u001b[1mAWAC_online_20250518193123: epoch=6 step=60\u001b[0m \u001b[36mepoch\u001b[0m=\u001b[35m6\u001b[0m \u001b[36mmetrics\u001b[0m=\u001b[35m{'time_inference': 0.00010554790496826172, 'time_environment_step': 0.00018723011016845702, 'time_step': 0.0003010749816894531, 'evaluation': -43.942444830264094}\u001b[0m \u001b[36mstep\u001b[0m=\u001b[35m60\u001b[0m\n",
      "\u001b[2m2025-05-18 19:31.26\u001b[0m [\u001b[32m\u001b[1minfo     \u001b[0m] \u001b[1mModel parameters are saved to training_logs/online/door/AWAC_online_20250518193123/model_70.d3\u001b[0m\n",
      "\u001b[2m2025-05-18 19:31.26\u001b[0m [\u001b[32m\u001b[1minfo     \u001b[0m] \u001b[1mAWAC_online_20250518193123: epoch=7 step=70\u001b[0m \u001b[36mepoch\u001b[0m=\u001b[35m7\u001b[0m \u001b[36mmetrics\u001b[0m=\u001b[35m{'time_inference': 0.00010187625885009766, 'time_environment_step': 0.00018663406372070311, 'time_step': 0.0002960681915283203, 'evaluation': -44.03427931984389}\u001b[0m \u001b[36mstep\u001b[0m=\u001b[35m70\u001b[0m\n",
      "\u001b[2m2025-05-18 19:31.27\u001b[0m [\u001b[32m\u001b[1minfo     \u001b[0m] \u001b[1mModel parameters are saved to training_logs/online/door/AWAC_online_20250518193123/model_80.d3\u001b[0m\n",
      "\u001b[2m2025-05-18 19:31.27\u001b[0m [\u001b[32m\u001b[1minfo     \u001b[0m] \u001b[1mAWAC_online_20250518193123: epoch=8 step=80\u001b[0m \u001b[36mepoch\u001b[0m=\u001b[35m8\u001b[0m \u001b[36mmetrics\u001b[0m=\u001b[35m{'time_inference': 0.00010652542114257813, 'time_environment_step': 0.0001854419708251953, 'time_step': 0.00029952526092529296, 'evaluation': -44.04878915748304}\u001b[0m \u001b[36mstep\u001b[0m=\u001b[35m80\u001b[0m\n",
      "\u001b[2m2025-05-18 19:31.27\u001b[0m [\u001b[32m\u001b[1minfo     \u001b[0m] \u001b[1mModel parameters are saved to training_logs/online/door/AWAC_online_20250518193123/model_90.d3\u001b[0m\n",
      "\u001b[2m2025-05-18 19:31.27\u001b[0m [\u001b[32m\u001b[1minfo     \u001b[0m] \u001b[1mAWAC_online_20250518193123: epoch=9 step=90\u001b[0m \u001b[36mepoch\u001b[0m=\u001b[35m9\u001b[0m \u001b[36mmetrics\u001b[0m=\u001b[35m{'time_inference': 0.00010664463043212891, 'time_environment_step': 0.00019712448120117186, 'time_step': 0.00031080245971679685, 'evaluation': -44.35760023800735}\u001b[0m \u001b[36mstep\u001b[0m=\u001b[35m90\u001b[0m\n",
      "\u001b[2m2025-05-18 19:31.28\u001b[0m [\u001b[32m\u001b[1minfo     \u001b[0m] \u001b[1mModel parameters are saved to training_logs/online/door/AWAC_online_20250518193123/model_100.d3\u001b[0m\n",
      "\u001b[2m2025-05-18 19:31.28\u001b[0m [\u001b[32m\u001b[1minfo     \u001b[0m] \u001b[1mAWAC_online_20250518193123: epoch=10 step=100\u001b[0m \u001b[36mepoch\u001b[0m=\u001b[35m10\u001b[0m \u001b[36mmetrics\u001b[0m=\u001b[35m{'time_inference': 9.729862213134766e-05, 'time_environment_step': 0.00022842884063720704, 'time_step': 0.00033371448516845704, 'evaluation': -44.11265166507679}\u001b[0m \u001b[36mstep\u001b[0m=\u001b[35m100\u001b[0m\n"
     ]
    }
   ],
   "source": [
    "train_online_algorithm(d3rlpy.algos.IQLConfig, door_env, 'door_iql', 'door')\n",
    "train_online_algorithm(d3rlpy.algos.CQLConfig, door_env, 'door_cql', 'door')\n",
    "train_online_algorithm(d3rlpy.algos.TD3PlusBCConfig, door_env, 'door_td3bc', 'door')\n",
    "train_online_algorithm(d3rlpy.algos.AWACConfig, door_env, 'door_awac', 'door')"
   ]
  },
  {
   "cell_type": "code",
   "execution_count": null,
   "id": "35886d87-f1e3-4e7e-85a0-f678660634f8",
   "metadata": {},
   "outputs": [],
   "source": []
  }
 ],
 "metadata": {
  "kernelspec": {
   "display_name": "Python (thesis-env)",
   "language": "python",
   "name": "thesis-env"
  },
  "language_info": {
   "codemirror_mode": {
    "name": "ipython",
    "version": 3
   },
   "file_extension": ".py",
   "mimetype": "text/x-python",
   "name": "python",
   "nbconvert_exporter": "python",
   "pygments_lexer": "ipython3",
   "version": "3.10.16"
  }
 },
 "nbformat": 4,
 "nbformat_minor": 5
}

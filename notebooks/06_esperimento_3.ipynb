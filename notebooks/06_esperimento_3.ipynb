{
 "cells": [
  {
   "cell_type": "code",
   "execution_count": 1,
   "id": "c8f6ad7f-7a2e-47dc-9c70-6f2ea0ee6c17",
   "metadata": {},
   "outputs": [],
   "source": [
    "import minari\n",
    "import d3rlpy\n",
    "import os\n",
    "import copy"
   ]
  },
  {
   "cell_type": "markdown",
   "id": "dc314adc-1fa3-46d9-9181-10eb0cb3f230",
   "metadata": {},
   "source": [
    "# Parameters of the experiment"
   ]
  },
  {
   "cell_type": "code",
   "execution_count": 2,
   "id": "49f088ce-a756-477a-a084-866f145c1618",
   "metadata": {},
   "outputs": [],
   "source": [
    "# Online RL configuration: total steps, steps per epoch, and when to start updating\n",
    "n_steps = 100\n",
    "n_steps_per_epoch = 10\n",
    "update_start_step = 50"
   ]
  },
  {
   "cell_type": "markdown",
   "id": "fa624981-dc95-4f83-ae1f-ae818ed22e02",
   "metadata": {},
   "source": [
    "# Loading of environments"
   ]
  },
  {
   "cell_type": "code",
   "execution_count": 3,
   "id": "95deabc1-d41c-46be-a702-8555d43397c2",
   "metadata": {},
   "outputs": [],
   "source": [
    "# Load expert datasets and directly recover the corresponding environments for each Adroit task\n",
    "pen_env = minari.load_dataset(\"D4RL/pen/expert-v2\").recover_environment()\n",
    "relocate_env = minari.load_dataset(\"D4RL/relocate/expert-v2\").recover_environment()\n",
    "hammer_env = minari.load_dataset(\"D4RL/hammer/expert-v2\").recover_environment()\n",
    "door_env = minari.load_dataset(\"D4RL/door/expert-v2\").recover_environment()"
   ]
  },
  {
   "cell_type": "markdown",
   "id": "5ce0d27c-a606-4d90-a249-970231d30c94",
   "metadata": {},
   "source": [
    "# Creation of folders for policies and logs"
   ]
  },
  {
   "cell_type": "code",
   "execution_count": 2,
   "id": "39e41384-37a1-4aa6-bfb9-6fd247c8b5bc",
   "metadata": {},
   "outputs": [
    {
     "name": "stdout",
     "output_type": "stream",
     "text": [
      "Created: policies/online\n",
      "Created: training_logs/online/pen\n",
      "Created: training_logs/online/relocate\n",
      "Created: training_logs/online/hammer\n",
      "Created: training_logs/online/door\n"
     ]
    }
   ],
   "source": [
    "# Create policies/online\n",
    "policies_path = os.path.join(\"policies\", \"online\")\n",
    "if not os.path.exists(policies_path):\n",
    "    os.makedirs(policies_path)\n",
    "    print(f\"Created: {policies_path}\")\n",
    "else:\n",
    "    print(f\"Already exists: {policies_path}\")\n",
    "\n",
    "# Create training_logs/online/{task}\n",
    "training_base = os.path.join(\"training_logs\", \"online\")\n",
    "task_dirs = [\"pen\", \"relocate\", \"hammer\", \"door\"]\n",
    "\n",
    "for task in task_dirs:\n",
    "    task_path = os.path.join(training_base, task)\n",
    "    if not os.path.exists(task_path):\n",
    "        os.makedirs(task_path)\n",
    "        print(f\"Created: {task_path}\")\n",
    "    else:\n",
    "        print(f\"Already exists: {task_path}\")"
   ]
  },
  {
   "cell_type": "markdown",
   "id": "61ff960a-1855-4074-b277-06b6ad3d9010",
   "metadata": {},
   "source": [
    "# Training Algorithm"
   ]
  },
  {
   "cell_type": "code",
   "execution_count": 5,
   "id": "3c653dc4-14f1-4d86-8a38-b9a6c1005429",
   "metadata": {},
   "outputs": [],
   "source": [
    "def train_online_algorithm(config_class, env, filename, task):\n",
    "    # Create a FIFO replay buffer for online data collection\n",
    "    buffer = d3rlpy.dataset.create_fifo_replay_buffer(limit=100000, env=env)\n",
    "    \n",
    "    # Define an exploration strategy (epsilon-greedy with constant epsilon)\n",
    "    explorer = d3rlpy.algos.ConstantEpsilonGreedy(0.3)\n",
    "    \n",
    "    # Initialize the algorithm with the given configuration on CPU\n",
    "    algo = config_class().create(device=\"cpu\")\n",
    "\n",
    "    # Train the algorithm fully online with periodic evaluation in a separate environment\n",
    "    algo.fit_online(\n",
    "        env,\n",
    "        buffer,\n",
    "        explorer,\n",
    "        n_steps=n_steps,\n",
    "        eval_env=copy.deepcopy(env),\n",
    "        n_steps_per_epoch=n_steps_per_epoch,\n",
    "        update_start_step=update_start_step,\n",
    "        logger_adapter=d3rlpy.logging.FileAdapterFactory(root_dir=f\"training_logs/online/{task}\"),\n",
    "    )\n",
    "\n",
    "    # Save the trained policy to file\n",
    "    algo.save(f'policies/online/{filename}.d3')"
   ]
  },
  {
   "cell_type": "markdown",
   "id": "8ed68e5a-f9e6-4b8b-a490-8c0ca43c30a2",
   "metadata": {},
   "source": [
    "# Policy training"
   ]
  },
  {
   "cell_type": "markdown",
   "id": "313c1a07-70d0-48bb-ad6b-409804057c5f",
   "metadata": {},
   "source": [
    "### Pen"
   ]
  },
  {
   "cell_type": "code",
   "execution_count": 6,
   "id": "a9c4c206-00cd-43a0-9130-5e0e62ab94e8",
   "metadata": {
    "scrolled": true
   },
   "outputs": [
    {
     "name": "stdout",
     "output_type": "stream",
     "text": [
      "\u001b[2m2025-05-24 10:02.30\u001b[0m [\u001b[32m\u001b[1minfo     \u001b[0m] \u001b[1mSignatures have been automatically determined.\u001b[0m \u001b[36maction_signature\u001b[0m=\u001b[35mSignature(dtype=[dtype('float32')], shape=[(24,)])\u001b[0m \u001b[36mobservation_signature\u001b[0m=\u001b[35mSignature(dtype=[dtype('float64')], shape=[(45,)])\u001b[0m \u001b[36mreward_signature\u001b[0m=\u001b[35mSignature(dtype=[dtype('float32')], shape=[[1]])\u001b[0m\n",
      "\u001b[2m2025-05-24 10:02.30\u001b[0m [\u001b[32m\u001b[1minfo     \u001b[0m] \u001b[1mAction-space has been automatically determined.\u001b[0m \u001b[36maction_space\u001b[0m=\u001b[35m<ActionSpace.CONTINUOUS: 1>\u001b[0m\n",
      "\u001b[2m2025-05-24 10:02.30\u001b[0m [\u001b[32m\u001b[1minfo     \u001b[0m] \u001b[1mAction size has been automatically determined.\u001b[0m \u001b[36maction_size\u001b[0m=\u001b[35m24\u001b[0m\n",
      "\u001b[2m2025-05-24 10:02.30\u001b[0m [\u001b[32m\u001b[1mdebug    \u001b[0m] \u001b[1mBuilding model...             \u001b[0m\n",
      "\u001b[2m2025-05-24 10:02.31\u001b[0m [\u001b[32m\u001b[1mdebug    \u001b[0m] \u001b[1mModel has been built.         \u001b[0m\n",
      "\u001b[2m2025-05-24 10:02.31\u001b[0m [\u001b[32m\u001b[1minfo     \u001b[0m] \u001b[1mDirectory is created at training_logs/online/pen/IQL_online_20250524100231\u001b[0m\n",
      "\u001b[2m2025-05-24 10:02.31\u001b[0m [\u001b[32m\u001b[1minfo     \u001b[0m] \u001b[1mParameters                    \u001b[0m \u001b[36mparams\u001b[0m=\u001b[35m{'observation_shape': [45], 'action_size': 24, 'config': {'type': 'iql', 'params': {'batch_size': 256, 'gamma': 0.99, 'observation_scaler': {'type': 'none', 'params': {}}, 'action_scaler': {'type': 'none', 'params': {}}, 'reward_scaler': {'type': 'none', 'params': {}}, 'compile_graph': False, 'actor_learning_rate': 0.0003, 'critic_learning_rate': 0.0003, 'actor_optim_factory': {'type': 'adam', 'params': {'clip_grad_norm': None, 'lr_scheduler_factory': {'type': 'none', 'params': {}}, 'betas': [0.9, 0.999], 'eps': 1e-08, 'weight_decay': 0, 'amsgrad': False}}, 'critic_optim_factory': {'type': 'adam', 'params': {'clip_grad_norm': None, 'lr_scheduler_factory': {'type': 'none', 'params': {}}, 'betas': [0.9, 0.999], 'eps': 1e-08, 'weight_decay': 0, 'amsgrad': False}}, 'actor_encoder_factory': {'type': 'default', 'params': {'activation': 'relu', 'use_batch_norm': False, 'dropout_rate': None}}, 'critic_encoder_factory': {'type': 'default', 'params': {'activation': 'relu', 'use_batch_norm': False, 'dropout_rate': None}}, 'value_encoder_factory': {'type': 'default', 'params': {'activation': 'relu', 'use_batch_norm': False, 'dropout_rate': None}}, 'tau': 0.005, 'n_critics': 2, 'expectile': 0.7, 'weight_temp': 3.0, 'max_weight': 100.0}}}\u001b[0m\n"
     ]
    },
    {
     "data": {
      "application/vnd.jupyter.widget-view+json": {
       "model_id": "25944f0e4b5f4871baf91272d0c3fb92",
       "version_major": 2,
       "version_minor": 0
      },
      "text/plain": [
       "  0%|          | 0/100 [00:00<?, ?it/s]"
      ]
     },
     "metadata": {},
     "output_type": "display_data"
    },
    {
     "name": "stdout",
     "output_type": "stream",
     "text": [
      "\u001b[2m2025-05-24 10:02.31\u001b[0m [\u001b[32m\u001b[1minfo     \u001b[0m] \u001b[1mModel parameters are saved to training_logs/online/pen/IQL_online_20250524100231/model_10.d3\u001b[0m\n",
      "\u001b[2m2025-05-24 10:02.31\u001b[0m [\u001b[32m\u001b[1minfo     \u001b[0m] \u001b[1mIQL_online_20250524100231: epoch=1 step=10\u001b[0m \u001b[36mepoch\u001b[0m=\u001b[35m1\u001b[0m \u001b[36mmetrics\u001b[0m=\u001b[35m{'time_inference': 0.0004892110824584961, 'time_environment_step': 0.0004047870635986328, 'time_step': 0.0009168624877929687, 'evaluation': 273.13161606365304}\u001b[0m \u001b[36mstep\u001b[0m=\u001b[35m10\u001b[0m\n",
      "\u001b[2m2025-05-24 10:02.32\u001b[0m [\u001b[32m\u001b[1minfo     \u001b[0m] \u001b[1mModel parameters are saved to training_logs/online/pen/IQL_online_20250524100231/model_20.d3\u001b[0m\n",
      "\u001b[2m2025-05-24 10:02.32\u001b[0m [\u001b[32m\u001b[1minfo     \u001b[0m] \u001b[1mIQL_online_20250524100231: epoch=2 step=20\u001b[0m \u001b[36mepoch\u001b[0m=\u001b[35m2\u001b[0m \u001b[36mmetrics\u001b[0m=\u001b[35m{'time_inference': 0.0001165628433227539, 'time_environment_step': 0.00028781890869140626, 'time_step': 0.00041322708129882814, 'evaluation': -9.301654342465714}\u001b[0m \u001b[36mstep\u001b[0m=\u001b[35m20\u001b[0m\n",
      "\u001b[2m2025-05-24 10:02.32\u001b[0m [\u001b[32m\u001b[1minfo     \u001b[0m] \u001b[1mModel parameters are saved to training_logs/online/pen/IQL_online_20250524100231/model_30.d3\u001b[0m\n",
      "\u001b[2m2025-05-24 10:02.32\u001b[0m [\u001b[32m\u001b[1minfo     \u001b[0m] \u001b[1mIQL_online_20250524100231: epoch=3 step=30\u001b[0m \u001b[36mepoch\u001b[0m=\u001b[35m3\u001b[0m \u001b[36mmetrics\u001b[0m=\u001b[35m{'time_inference': 9.608268737792969e-05, 'time_environment_step': 0.0002459049224853516, 'time_step': 0.0003499746322631836, 'evaluation': 16.386922528038173}\u001b[0m \u001b[36mstep\u001b[0m=\u001b[35m30\u001b[0m\n",
      "\u001b[2m2025-05-24 10:02.32\u001b[0m [\u001b[32m\u001b[1minfo     \u001b[0m] \u001b[1mModel parameters are saved to training_logs/online/pen/IQL_online_20250524100231/model_40.d3\u001b[0m\n",
      "\u001b[2m2025-05-24 10:02.32\u001b[0m [\u001b[32m\u001b[1minfo     \u001b[0m] \u001b[1mIQL_online_20250524100231: epoch=4 step=40\u001b[0m \u001b[36mepoch\u001b[0m=\u001b[35m4\u001b[0m \u001b[36mmetrics\u001b[0m=\u001b[35m{'time_inference': 0.00012028217315673828, 'time_environment_step': 0.00020778179168701172, 'time_step': 0.0003357410430908203, 'evaluation': 193.75247976822087}\u001b[0m \u001b[36mstep\u001b[0m=\u001b[35m40\u001b[0m\n",
      "\u001b[2m2025-05-24 10:02.32\u001b[0m [\u001b[32m\u001b[1minfo     \u001b[0m] \u001b[1mModel parameters are saved to training_logs/online/pen/IQL_online_20250524100231/model_50.d3\u001b[0m\n",
      "\u001b[2m2025-05-24 10:02.32\u001b[0m [\u001b[32m\u001b[1minfo     \u001b[0m] \u001b[1mIQL_online_20250524100231: epoch=5 step=50\u001b[0m \u001b[36mepoch\u001b[0m=\u001b[35m5\u001b[0m \u001b[36mmetrics\u001b[0m=\u001b[35m{'time_inference': 0.00011098384857177734, 'time_environment_step': 0.00020272731781005858, 'time_step': 0.0003224849700927734, 'evaluation': 192.8875155052525}\u001b[0m \u001b[36mstep\u001b[0m=\u001b[35m50\u001b[0m\n",
      "\u001b[2m2025-05-24 10:02.33\u001b[0m [\u001b[32m\u001b[1minfo     \u001b[0m] \u001b[1mModel parameters are saved to training_logs/online/pen/IQL_online_20250524100231/model_60.d3\u001b[0m\n",
      "\u001b[2m2025-05-24 10:02.33\u001b[0m [\u001b[32m\u001b[1minfo     \u001b[0m] \u001b[1mIQL_online_20250524100231: epoch=6 step=60\u001b[0m \u001b[36mepoch\u001b[0m=\u001b[35m6\u001b[0m \u001b[36mmetrics\u001b[0m=\u001b[35m{'time_inference': 0.00012378692626953126, 'time_environment_step': 0.00023527145385742186, 'time_step': 0.0003698587417602539, 'evaluation': 1124.249488631239}\u001b[0m \u001b[36mstep\u001b[0m=\u001b[35m60\u001b[0m\n",
      "\u001b[2m2025-05-24 10:02.33\u001b[0m [\u001b[32m\u001b[1minfo     \u001b[0m] \u001b[1mModel parameters are saved to training_logs/online/pen/IQL_online_20250524100231/model_70.d3\u001b[0m\n",
      "\u001b[2m2025-05-24 10:02.33\u001b[0m [\u001b[32m\u001b[1minfo     \u001b[0m] \u001b[1mIQL_online_20250524100231: epoch=7 step=70\u001b[0m \u001b[36mepoch\u001b[0m=\u001b[35m7\u001b[0m \u001b[36mmetrics\u001b[0m=\u001b[35m{'time_inference': 0.00016219615936279296, 'time_environment_step': 0.00024077892303466796, 'time_step': 0.00041527748107910155, 'evaluation': 188.12588360148632}\u001b[0m \u001b[36mstep\u001b[0m=\u001b[35m70\u001b[0m\n",
      "\u001b[2m2025-05-24 10:02.33\u001b[0m [\u001b[32m\u001b[1minfo     \u001b[0m] \u001b[1mModel parameters are saved to training_logs/online/pen/IQL_online_20250524100231/model_80.d3\u001b[0m\n",
      "\u001b[2m2025-05-24 10:02.33\u001b[0m [\u001b[32m\u001b[1minfo     \u001b[0m] \u001b[1mIQL_online_20250524100231: epoch=8 step=80\u001b[0m \u001b[36mepoch\u001b[0m=\u001b[35m8\u001b[0m \u001b[36mmetrics\u001b[0m=\u001b[35m{'time_inference': 0.00012009143829345703, 'time_environment_step': 0.0001975536346435547, 'time_step': 0.00032796859741210935, 'evaluation': 21.237736856694674}\u001b[0m \u001b[36mstep\u001b[0m=\u001b[35m80\u001b[0m\n",
      "\u001b[2m2025-05-24 10:02.34\u001b[0m [\u001b[32m\u001b[1minfo     \u001b[0m] \u001b[1mModel parameters are saved to training_logs/online/pen/IQL_online_20250524100231/model_90.d3\u001b[0m\n",
      "\u001b[2m2025-05-24 10:02.34\u001b[0m [\u001b[32m\u001b[1minfo     \u001b[0m] \u001b[1mIQL_online_20250524100231: epoch=9 step=90\u001b[0m \u001b[36mepoch\u001b[0m=\u001b[35m9\u001b[0m \u001b[36mmetrics\u001b[0m=\u001b[35m{'time_inference': 0.0001169443130493164, 'time_environment_step': 0.00015995502471923828, 'time_step': 0.00028548240661621096, 'evaluation': 257.5228321499042}\u001b[0m \u001b[36mstep\u001b[0m=\u001b[35m90\u001b[0m\n",
      "\u001b[2m2025-05-24 10:02.34\u001b[0m [\u001b[32m\u001b[1minfo     \u001b[0m] \u001b[1mModel parameters are saved to training_logs/online/pen/IQL_online_20250524100231/model_100.d3\u001b[0m\n",
      "\u001b[2m2025-05-24 10:02.34\u001b[0m [\u001b[32m\u001b[1minfo     \u001b[0m] \u001b[1mIQL_online_20250524100231: epoch=10 step=100\u001b[0m \u001b[36mepoch\u001b[0m=\u001b[35m10\u001b[0m \u001b[36mmetrics\u001b[0m=\u001b[35m{'time_inference': 0.00012774467468261718, 'time_environment_step': 0.00020859241485595703, 'time_step': 0.0003665447235107422, 'rollout_return': -29.75764864774373, 'evaluation': -4.080805770244536}\u001b[0m \u001b[36mstep\u001b[0m=\u001b[35m100\u001b[0m\n",
      "\u001b[2m2025-05-24 10:02.34\u001b[0m [\u001b[32m\u001b[1minfo     \u001b[0m] \u001b[1mSignatures have been automatically determined.\u001b[0m \u001b[36maction_signature\u001b[0m=\u001b[35mSignature(dtype=[dtype('float32')], shape=[(24,)])\u001b[0m \u001b[36mobservation_signature\u001b[0m=\u001b[35mSignature(dtype=[dtype('float64')], shape=[(45,)])\u001b[0m \u001b[36mreward_signature\u001b[0m=\u001b[35mSignature(dtype=[dtype('float32')], shape=[[1]])\u001b[0m\n",
      "\u001b[2m2025-05-24 10:02.34\u001b[0m [\u001b[32m\u001b[1minfo     \u001b[0m] \u001b[1mAction-space has been automatically determined.\u001b[0m \u001b[36maction_space\u001b[0m=\u001b[35m<ActionSpace.CONTINUOUS: 1>\u001b[0m\n",
      "\u001b[2m2025-05-24 10:02.34\u001b[0m [\u001b[32m\u001b[1minfo     \u001b[0m] \u001b[1mAction size has been automatically determined.\u001b[0m \u001b[36maction_size\u001b[0m=\u001b[35m24\u001b[0m\n",
      "\u001b[2m2025-05-24 10:02.34\u001b[0m [\u001b[32m\u001b[1mdebug    \u001b[0m] \u001b[1mBuilding model...             \u001b[0m\n",
      "\u001b[2m2025-05-24 10:02.34\u001b[0m [\u001b[32m\u001b[1mdebug    \u001b[0m] \u001b[1mModel has been built.         \u001b[0m\n",
      "\u001b[2m2025-05-24 10:02.34\u001b[0m [\u001b[32m\u001b[1minfo     \u001b[0m] \u001b[1mDirectory is created at training_logs/online/pen/CQL_online_20250524100234\u001b[0m\n",
      "\u001b[2m2025-05-24 10:02.34\u001b[0m [\u001b[32m\u001b[1minfo     \u001b[0m] \u001b[1mParameters                    \u001b[0m \u001b[36mparams\u001b[0m=\u001b[35m{'observation_shape': [45], 'action_size': 24, 'config': {'type': 'cql', 'params': {'batch_size': 256, 'gamma': 0.99, 'observation_scaler': {'type': 'none', 'params': {}}, 'action_scaler': {'type': 'none', 'params': {}}, 'reward_scaler': {'type': 'none', 'params': {}}, 'compile_graph': False, 'actor_learning_rate': 0.0001, 'critic_learning_rate': 0.0003, 'temp_learning_rate': 0.0001, 'alpha_learning_rate': 0.0001, 'actor_optim_factory': {'type': 'adam', 'params': {'clip_grad_norm': None, 'lr_scheduler_factory': {'type': 'none', 'params': {}}, 'betas': [0.9, 0.999], 'eps': 1e-08, 'weight_decay': 0, 'amsgrad': False}}, 'critic_optim_factory': {'type': 'adam', 'params': {'clip_grad_norm': None, 'lr_scheduler_factory': {'type': 'none', 'params': {}}, 'betas': [0.9, 0.999], 'eps': 1e-08, 'weight_decay': 0, 'amsgrad': False}}, 'temp_optim_factory': {'type': 'adam', 'params': {'clip_grad_norm': None, 'lr_scheduler_factory': {'type': 'none', 'params': {}}, 'betas': [0.9, 0.999], 'eps': 1e-08, 'weight_decay': 0, 'amsgrad': False}}, 'alpha_optim_factory': {'type': 'adam', 'params': {'clip_grad_norm': None, 'lr_scheduler_factory': {'type': 'none', 'params': {}}, 'betas': [0.9, 0.999], 'eps': 1e-08, 'weight_decay': 0, 'amsgrad': False}}, 'actor_encoder_factory': {'type': 'default', 'params': {'activation': 'relu', 'use_batch_norm': False, 'dropout_rate': None}}, 'critic_encoder_factory': {'type': 'default', 'params': {'activation': 'relu', 'use_batch_norm': False, 'dropout_rate': None}}, 'q_func_factory': {'type': 'mean', 'params': {'share_encoder': False}}, 'tau': 0.005, 'n_critics': 2, 'initial_temperature': 1.0, 'initial_alpha': 1.0, 'alpha_threshold': 10.0, 'conservative_weight': 5.0, 'n_action_samples': 10, 'soft_q_backup': False, 'max_q_backup': False}}}\u001b[0m\n"
     ]
    },
    {
     "data": {
      "application/vnd.jupyter.widget-view+json": {
       "model_id": "e047fc4e22f443f8bc39eabe79357257",
       "version_major": 2,
       "version_minor": 0
      },
      "text/plain": [
       "  0%|          | 0/100 [00:00<?, ?it/s]"
      ]
     },
     "metadata": {},
     "output_type": "display_data"
    },
    {
     "name": "stdout",
     "output_type": "stream",
     "text": [
      "\u001b[2m2025-05-24 10:02.34\u001b[0m [\u001b[32m\u001b[1minfo     \u001b[0m] \u001b[1mModel parameters are saved to training_logs/online/pen/CQL_online_20250524100234/model_10.d3\u001b[0m\n",
      "\u001b[2m2025-05-24 10:02.34\u001b[0m [\u001b[32m\u001b[1minfo     \u001b[0m] \u001b[1mCQL_online_20250524100234: epoch=1 step=10\u001b[0m \u001b[36mepoch\u001b[0m=\u001b[35m1\u001b[0m \u001b[36mmetrics\u001b[0m=\u001b[35m{'time_inference': 0.00017976760864257812, 'time_environment_step': 0.0003695964813232422, 'time_step': 0.0005625724792480469, 'evaluation': 244.4638515782745}\u001b[0m \u001b[36mstep\u001b[0m=\u001b[35m10\u001b[0m\n",
      "\u001b[2m2025-05-24 10:02.35\u001b[0m [\u001b[32m\u001b[1minfo     \u001b[0m] \u001b[1mModel parameters are saved to training_logs/online/pen/CQL_online_20250524100234/model_20.d3\u001b[0m\n",
      "\u001b[2m2025-05-24 10:02.35\u001b[0m [\u001b[32m\u001b[1minfo     \u001b[0m] \u001b[1mCQL_online_20250524100234: epoch=2 step=20\u001b[0m \u001b[36mepoch\u001b[0m=\u001b[35m2\u001b[0m \u001b[36mmetrics\u001b[0m=\u001b[35m{'time_inference': 0.0001439809799194336, 'time_environment_step': 0.0002608299255371094, 'time_step': 0.0004144430160522461, 'evaluation': 787.9554209017721}\u001b[0m \u001b[36mstep\u001b[0m=\u001b[35m20\u001b[0m\n",
      "\u001b[2m2025-05-24 10:02.35\u001b[0m [\u001b[32m\u001b[1minfo     \u001b[0m] \u001b[1mModel parameters are saved to training_logs/online/pen/CQL_online_20250524100234/model_30.d3\u001b[0m\n",
      "\u001b[2m2025-05-24 10:02.35\u001b[0m [\u001b[32m\u001b[1minfo     \u001b[0m] \u001b[1mCQL_online_20250524100234: epoch=3 step=30\u001b[0m \u001b[36mepoch\u001b[0m=\u001b[35m3\u001b[0m \u001b[36mmetrics\u001b[0m=\u001b[35m{'time_inference': 0.00011768341064453126, 'time_environment_step': 0.00030114650726318357, 'time_step': 0.00042858123779296873, 'evaluation': 27.86015037243169}\u001b[0m \u001b[36mstep\u001b[0m=\u001b[35m30\u001b[0m\n",
      "\u001b[2m2025-05-24 10:02.35\u001b[0m [\u001b[32m\u001b[1minfo     \u001b[0m] \u001b[1mModel parameters are saved to training_logs/online/pen/CQL_online_20250524100234/model_40.d3\u001b[0m\n",
      "\u001b[2m2025-05-24 10:02.35\u001b[0m [\u001b[32m\u001b[1minfo     \u001b[0m] \u001b[1mCQL_online_20250524100234: epoch=4 step=40\u001b[0m \u001b[36mepoch\u001b[0m=\u001b[35m4\u001b[0m \u001b[36mmetrics\u001b[0m=\u001b[35m{'time_inference': 0.00014514923095703124, 'time_environment_step': 0.00023522377014160157, 'time_step': 0.000389552116394043, 'evaluation': 171.08797122147809}\u001b[0m \u001b[36mstep\u001b[0m=\u001b[35m40\u001b[0m\n",
      "\u001b[2m2025-05-24 10:02.35\u001b[0m [\u001b[32m\u001b[1minfo     \u001b[0m] \u001b[1mModel parameters are saved to training_logs/online/pen/CQL_online_20250524100234/model_50.d3\u001b[0m\n",
      "\u001b[2m2025-05-24 10:02.35\u001b[0m [\u001b[32m\u001b[1minfo     \u001b[0m] \u001b[1mCQL_online_20250524100234: epoch=5 step=50\u001b[0m \u001b[36mepoch\u001b[0m=\u001b[35m5\u001b[0m \u001b[36mmetrics\u001b[0m=\u001b[35m{'time_inference': 0.00010793209075927734, 'time_environment_step': 0.00023963451385498047, 'time_step': 0.0003556966781616211, 'evaluation': 259.9965105123234}\u001b[0m \u001b[36mstep\u001b[0m=\u001b[35m50\u001b[0m\n",
      "\u001b[2m2025-05-24 10:02.36\u001b[0m [\u001b[32m\u001b[1minfo     \u001b[0m] \u001b[1mModel parameters are saved to training_logs/online/pen/CQL_online_20250524100234/model_60.d3\u001b[0m\n",
      "\u001b[2m2025-05-24 10:02.36\u001b[0m [\u001b[32m\u001b[1minfo     \u001b[0m] \u001b[1mCQL_online_20250524100234: epoch=6 step=60\u001b[0m \u001b[36mepoch\u001b[0m=\u001b[35m6\u001b[0m \u001b[36mmetrics\u001b[0m=\u001b[35m{'time_inference': 0.00012984275817871094, 'time_environment_step': 0.0002106904983520508, 'time_step': 0.00035145282745361326, 'evaluation': 211.2775876060654}\u001b[0m \u001b[36mstep\u001b[0m=\u001b[35m60\u001b[0m\n",
      "\u001b[2m2025-05-24 10:02.36\u001b[0m [\u001b[32m\u001b[1minfo     \u001b[0m] \u001b[1mModel parameters are saved to training_logs/online/pen/CQL_online_20250524100234/model_70.d3\u001b[0m\n",
      "\u001b[2m2025-05-24 10:02.36\u001b[0m [\u001b[32m\u001b[1minfo     \u001b[0m] \u001b[1mCQL_online_20250524100234: epoch=7 step=70\u001b[0m \u001b[36mepoch\u001b[0m=\u001b[35m7\u001b[0m \u001b[36mmetrics\u001b[0m=\u001b[35m{'time_inference': 0.00010535717010498046, 'time_environment_step': 0.00018999576568603515, 'time_step': 0.0003038167953491211, 'evaluation': 12.767979700913298}\u001b[0m \u001b[36mstep\u001b[0m=\u001b[35m70\u001b[0m\n",
      "\u001b[2m2025-05-24 10:02.36\u001b[0m [\u001b[32m\u001b[1minfo     \u001b[0m] \u001b[1mModel parameters are saved to training_logs/online/pen/CQL_online_20250524100234/model_80.d3\u001b[0m\n",
      "\u001b[2m2025-05-24 10:02.36\u001b[0m [\u001b[32m\u001b[1minfo     \u001b[0m] \u001b[1mCQL_online_20250524100234: epoch=8 step=80\u001b[0m \u001b[36mepoch\u001b[0m=\u001b[35m8\u001b[0m \u001b[36mmetrics\u001b[0m=\u001b[35m{'time_inference': 0.000112152099609375, 'time_environment_step': 0.00021288394927978515, 'time_step': 0.00033578872680664065, 'evaluation': -19.398553188814514}\u001b[0m \u001b[36mstep\u001b[0m=\u001b[35m80\u001b[0m\n",
      "\u001b[2m2025-05-24 10:02.37\u001b[0m [\u001b[32m\u001b[1minfo     \u001b[0m] \u001b[1mModel parameters are saved to training_logs/online/pen/CQL_online_20250524100234/model_90.d3\u001b[0m\n",
      "\u001b[2m2025-05-24 10:02.37\u001b[0m [\u001b[32m\u001b[1minfo     \u001b[0m] \u001b[1mCQL_online_20250524100234: epoch=9 step=90\u001b[0m \u001b[36mepoch\u001b[0m=\u001b[35m9\u001b[0m \u001b[36mmetrics\u001b[0m=\u001b[35m{'time_inference': 0.00013887882232666016, 'time_environment_step': 0.000215911865234375, 'time_step': 0.0003663539886474609, 'evaluation': 33.23652409625733}\u001b[0m \u001b[36mstep\u001b[0m=\u001b[35m90\u001b[0m\n",
      "\u001b[2m2025-05-24 10:02.37\u001b[0m [\u001b[32m\u001b[1minfo     \u001b[0m] \u001b[1mModel parameters are saved to training_logs/online/pen/CQL_online_20250524100234/model_100.d3\u001b[0m\n",
      "\u001b[2m2025-05-24 10:02.37\u001b[0m [\u001b[32m\u001b[1minfo     \u001b[0m] \u001b[1mCQL_online_20250524100234: epoch=10 step=100\u001b[0m \u001b[36mepoch\u001b[0m=\u001b[35m10\u001b[0m \u001b[36mmetrics\u001b[0m=\u001b[35m{'time_inference': 0.00011799335479736328, 'time_environment_step': 0.0001886129379272461, 'time_step': 0.00033893585205078123, 'rollout_return': 8.47291701818045, 'evaluation': 192.69013247859286}\u001b[0m \u001b[36mstep\u001b[0m=\u001b[35m100\u001b[0m\n",
      "\u001b[2m2025-05-24 10:02.37\u001b[0m [\u001b[32m\u001b[1minfo     \u001b[0m] \u001b[1mSignatures have been automatically determined.\u001b[0m \u001b[36maction_signature\u001b[0m=\u001b[35mSignature(dtype=[dtype('float32')], shape=[(24,)])\u001b[0m \u001b[36mobservation_signature\u001b[0m=\u001b[35mSignature(dtype=[dtype('float64')], shape=[(45,)])\u001b[0m \u001b[36mreward_signature\u001b[0m=\u001b[35mSignature(dtype=[dtype('float32')], shape=[[1]])\u001b[0m\n",
      "\u001b[2m2025-05-24 10:02.37\u001b[0m [\u001b[32m\u001b[1minfo     \u001b[0m] \u001b[1mAction-space has been automatically determined.\u001b[0m \u001b[36maction_space\u001b[0m=\u001b[35m<ActionSpace.CONTINUOUS: 1>\u001b[0m\n",
      "\u001b[2m2025-05-24 10:02.37\u001b[0m [\u001b[32m\u001b[1minfo     \u001b[0m] \u001b[1mAction size has been automatically determined.\u001b[0m \u001b[36maction_size\u001b[0m=\u001b[35m24\u001b[0m\n",
      "\u001b[2m2025-05-24 10:02.37\u001b[0m [\u001b[32m\u001b[1mdebug    \u001b[0m] \u001b[1mBuilding model...             \u001b[0m\n",
      "\u001b[2m2025-05-24 10:02.37\u001b[0m [\u001b[32m\u001b[1mdebug    \u001b[0m] \u001b[1mModel has been built.         \u001b[0m\n",
      "\u001b[2m2025-05-24 10:02.37\u001b[0m [\u001b[32m\u001b[1minfo     \u001b[0m] \u001b[1mDirectory is created at training_logs/online/pen/TD3PlusBC_online_20250524100237\u001b[0m\n",
      "\u001b[2m2025-05-24 10:02.37\u001b[0m [\u001b[32m\u001b[1minfo     \u001b[0m] \u001b[1mParameters                    \u001b[0m \u001b[36mparams\u001b[0m=\u001b[35m{'observation_shape': [45], 'action_size': 24, 'config': {'type': 'td3_plus_bc', 'params': {'batch_size': 256, 'gamma': 0.99, 'observation_scaler': {'type': 'none', 'params': {}}, 'action_scaler': {'type': 'none', 'params': {}}, 'reward_scaler': {'type': 'none', 'params': {}}, 'compile_graph': False, 'actor_learning_rate': 0.0003, 'critic_learning_rate': 0.0003, 'actor_optim_factory': {'type': 'adam', 'params': {'clip_grad_norm': None, 'lr_scheduler_factory': {'type': 'none', 'params': {}}, 'betas': [0.9, 0.999], 'eps': 1e-08, 'weight_decay': 0, 'amsgrad': False}}, 'critic_optim_factory': {'type': 'adam', 'params': {'clip_grad_norm': None, 'lr_scheduler_factory': {'type': 'none', 'params': {}}, 'betas': [0.9, 0.999], 'eps': 1e-08, 'weight_decay': 0, 'amsgrad': False}}, 'actor_encoder_factory': {'type': 'default', 'params': {'activation': 'relu', 'use_batch_norm': False, 'dropout_rate': None}}, 'critic_encoder_factory': {'type': 'default', 'params': {'activation': 'relu', 'use_batch_norm': False, 'dropout_rate': None}}, 'q_func_factory': {'type': 'mean', 'params': {'share_encoder': False}}, 'tau': 0.005, 'n_critics': 2, 'target_smoothing_sigma': 0.2, 'target_smoothing_clip': 0.5, 'alpha': 2.5, 'update_actor_interval': 2}}}\u001b[0m\n"
     ]
    },
    {
     "data": {
      "application/vnd.jupyter.widget-view+json": {
       "model_id": "40ad719415574f208a653c6e6092eba3",
       "version_major": 2,
       "version_minor": 0
      },
      "text/plain": [
       "  0%|          | 0/100 [00:00<?, ?it/s]"
      ]
     },
     "metadata": {},
     "output_type": "display_data"
    },
    {
     "name": "stdout",
     "output_type": "stream",
     "text": [
      "\u001b[2m2025-05-24 10:02.37\u001b[0m [\u001b[32m\u001b[1minfo     \u001b[0m] \u001b[1mModel parameters are saved to training_logs/online/pen/TD3PlusBC_online_20250524100237/model_10.d3\u001b[0m\n",
      "\u001b[2m2025-05-24 10:02.37\u001b[0m [\u001b[32m\u001b[1minfo     \u001b[0m] \u001b[1mTD3PlusBC_online_20250524100237: epoch=1 step=10\u001b[0m \u001b[36mepoch\u001b[0m=\u001b[35m1\u001b[0m \u001b[36mmetrics\u001b[0m=\u001b[35m{'time_inference': 0.00021226406097412108, 'time_environment_step': 0.0003108978271484375, 'time_step': 0.0005338191986083984, 'evaluation': 40.50007692776695}\u001b[0m \u001b[36mstep\u001b[0m=\u001b[35m10\u001b[0m\n",
      "\u001b[2m2025-05-24 10:02.37\u001b[0m [\u001b[32m\u001b[1minfo     \u001b[0m] \u001b[1mModel parameters are saved to training_logs/online/pen/TD3PlusBC_online_20250524100237/model_20.d3\u001b[0m\n",
      "\u001b[2m2025-05-24 10:02.37\u001b[0m [\u001b[32m\u001b[1minfo     \u001b[0m] \u001b[1mTD3PlusBC_online_20250524100237: epoch=2 step=20\u001b[0m \u001b[36mepoch\u001b[0m=\u001b[35m2\u001b[0m \u001b[36mmetrics\u001b[0m=\u001b[35m{'time_inference': 0.00011448860168457031, 'time_environment_step': 0.0002675771713256836, 'time_step': 0.0003910541534423828, 'evaluation': 417.5602188942351}\u001b[0m \u001b[36mstep\u001b[0m=\u001b[35m20\u001b[0m\n",
      "\u001b[2m2025-05-24 10:02.38\u001b[0m [\u001b[32m\u001b[1minfo     \u001b[0m] \u001b[1mModel parameters are saved to training_logs/online/pen/TD3PlusBC_online_20250524100237/model_30.d3\u001b[0m\n",
      "\u001b[2m2025-05-24 10:02.38\u001b[0m [\u001b[32m\u001b[1minfo     \u001b[0m] \u001b[1mTD3PlusBC_online_20250524100237: epoch=3 step=30\u001b[0m \u001b[36mepoch\u001b[0m=\u001b[35m3\u001b[0m \u001b[36mmetrics\u001b[0m=\u001b[35m{'time_inference': 9.789466857910157e-05, 'time_environment_step': 0.0002104043960571289, 'time_step': 0.00031697750091552734, 'evaluation': 36.70400155598061}\u001b[0m \u001b[36mstep\u001b[0m=\u001b[35m30\u001b[0m\n",
      "\u001b[2m2025-05-24 10:02.38\u001b[0m [\u001b[32m\u001b[1minfo     \u001b[0m] \u001b[1mModel parameters are saved to training_logs/online/pen/TD3PlusBC_online_20250524100237/model_40.d3\u001b[0m\n",
      "\u001b[2m2025-05-24 10:02.38\u001b[0m [\u001b[32m\u001b[1minfo     \u001b[0m] \u001b[1mTD3PlusBC_online_20250524100237: epoch=4 step=40\u001b[0m \u001b[36mepoch\u001b[0m=\u001b[35m4\u001b[0m \u001b[36mmetrics\u001b[0m=\u001b[35m{'time_inference': 0.00012128353118896484, 'time_environment_step': 0.0002185821533203125, 'time_step': 0.000351405143737793, 'evaluation': 274.45735969540044}\u001b[0m \u001b[36mstep\u001b[0m=\u001b[35m40\u001b[0m\n",
      "\u001b[2m2025-05-24 10:02.38\u001b[0m [\u001b[32m\u001b[1minfo     \u001b[0m] \u001b[1mModel parameters are saved to training_logs/online/pen/TD3PlusBC_online_20250524100237/model_50.d3\u001b[0m\n",
      "\u001b[2m2025-05-24 10:02.38\u001b[0m [\u001b[32m\u001b[1minfo     \u001b[0m] \u001b[1mTD3PlusBC_online_20250524100237: epoch=5 step=50\u001b[0m \u001b[36mepoch\u001b[0m=\u001b[35m5\u001b[0m \u001b[36mmetrics\u001b[0m=\u001b[35m{'time_inference': 9.822845458984375e-05, 'time_environment_step': 0.00017223358154296874, 'time_step': 0.0002802133560180664, 'evaluation': 44.95408576027057}\u001b[0m \u001b[36mstep\u001b[0m=\u001b[35m50\u001b[0m\n",
      "\u001b[2m2025-05-24 10:02.39\u001b[0m [\u001b[32m\u001b[1minfo     \u001b[0m] \u001b[1mModel parameters are saved to training_logs/online/pen/TD3PlusBC_online_20250524100237/model_60.d3\u001b[0m\n",
      "\u001b[2m2025-05-24 10:02.39\u001b[0m [\u001b[32m\u001b[1minfo     \u001b[0m] \u001b[1mTD3PlusBC_online_20250524100237: epoch=6 step=60\u001b[0m \u001b[36mepoch\u001b[0m=\u001b[35m6\u001b[0m \u001b[36mmetrics\u001b[0m=\u001b[35m{'time_inference': 9.381771087646484e-05, 'time_environment_step': 0.00018796920776367187, 'time_step': 0.00029125213623046873, 'evaluation': 95.92236944952111}\u001b[0m \u001b[36mstep\u001b[0m=\u001b[35m60\u001b[0m\n",
      "\u001b[2m2025-05-24 10:02.39\u001b[0m [\u001b[32m\u001b[1minfo     \u001b[0m] \u001b[1mModel parameters are saved to training_logs/online/pen/TD3PlusBC_online_20250524100237/model_70.d3\u001b[0m\n",
      "\u001b[2m2025-05-24 10:02.39\u001b[0m [\u001b[32m\u001b[1minfo     \u001b[0m] \u001b[1mTD3PlusBC_online_20250524100237: epoch=7 step=70\u001b[0m \u001b[36mepoch\u001b[0m=\u001b[35m7\u001b[0m \u001b[36mmetrics\u001b[0m=\u001b[35m{'time_inference': 0.0001043081283569336, 'time_environment_step': 0.00018656253814697266, 'time_step': 0.0003006458282470703, 'evaluation': 54.87457508030123}\u001b[0m \u001b[36mstep\u001b[0m=\u001b[35m70\u001b[0m\n",
      "\u001b[2m2025-05-24 10:02.39\u001b[0m [\u001b[32m\u001b[1minfo     \u001b[0m] \u001b[1mModel parameters are saved to training_logs/online/pen/TD3PlusBC_online_20250524100237/model_80.d3\u001b[0m\n",
      "\u001b[2m2025-05-24 10:02.39\u001b[0m [\u001b[32m\u001b[1minfo     \u001b[0m] \u001b[1mTD3PlusBC_online_20250524100237: epoch=8 step=80\u001b[0m \u001b[36mepoch\u001b[0m=\u001b[35m8\u001b[0m \u001b[36mmetrics\u001b[0m=\u001b[35m{'time_inference': 0.00016129016876220703, 'time_environment_step': 0.0003162860870361328, 'time_step': 0.0004920244216918945, 'evaluation': 310.0566841773028}\u001b[0m \u001b[36mstep\u001b[0m=\u001b[35m80\u001b[0m\n",
      "\u001b[2m2025-05-24 10:02.40\u001b[0m [\u001b[32m\u001b[1minfo     \u001b[0m] \u001b[1mModel parameters are saved to training_logs/online/pen/TD3PlusBC_online_20250524100237/model_90.d3\u001b[0m\n",
      "\u001b[2m2025-05-24 10:02.40\u001b[0m [\u001b[32m\u001b[1minfo     \u001b[0m] \u001b[1mTD3PlusBC_online_20250524100237: epoch=9 step=90\u001b[0m \u001b[36mepoch\u001b[0m=\u001b[35m9\u001b[0m \u001b[36mmetrics\u001b[0m=\u001b[35m{'time_inference': 0.00013267993927001953, 'time_environment_step': 0.00022826194763183593, 'time_step': 0.00037288665771484375, 'evaluation': 240.75825601450327}\u001b[0m \u001b[36mstep\u001b[0m=\u001b[35m90\u001b[0m\n",
      "\u001b[2m2025-05-24 10:02.40\u001b[0m [\u001b[32m\u001b[1minfo     \u001b[0m] \u001b[1mModel parameters are saved to training_logs/online/pen/TD3PlusBC_online_20250524100237/model_100.d3\u001b[0m\n",
      "\u001b[2m2025-05-24 10:02.40\u001b[0m [\u001b[32m\u001b[1minfo     \u001b[0m] \u001b[1mTD3PlusBC_online_20250524100237: epoch=10 step=100\u001b[0m \u001b[36mepoch\u001b[0m=\u001b[35m10\u001b[0m \u001b[36mmetrics\u001b[0m=\u001b[35m{'time_inference': 0.00012042522430419922, 'time_environment_step': 0.00023288726806640624, 'time_step': 0.0003967761993408203, 'rollout_return': -210.96427067142542, 'evaluation': 222.9857816726247}\u001b[0m \u001b[36mstep\u001b[0m=\u001b[35m100\u001b[0m\n",
      "\u001b[2m2025-05-24 10:02.40\u001b[0m [\u001b[32m\u001b[1minfo     \u001b[0m] \u001b[1mSignatures have been automatically determined.\u001b[0m \u001b[36maction_signature\u001b[0m=\u001b[35mSignature(dtype=[dtype('float32')], shape=[(24,)])\u001b[0m \u001b[36mobservation_signature\u001b[0m=\u001b[35mSignature(dtype=[dtype('float64')], shape=[(45,)])\u001b[0m \u001b[36mreward_signature\u001b[0m=\u001b[35mSignature(dtype=[dtype('float32')], shape=[[1]])\u001b[0m\n",
      "\u001b[2m2025-05-24 10:02.40\u001b[0m [\u001b[32m\u001b[1minfo     \u001b[0m] \u001b[1mAction-space has been automatically determined.\u001b[0m \u001b[36maction_space\u001b[0m=\u001b[35m<ActionSpace.CONTINUOUS: 1>\u001b[0m\n",
      "\u001b[2m2025-05-24 10:02.40\u001b[0m [\u001b[32m\u001b[1minfo     \u001b[0m] \u001b[1mAction size has been automatically determined.\u001b[0m \u001b[36maction_size\u001b[0m=\u001b[35m24\u001b[0m\n",
      "\u001b[2m2025-05-24 10:02.40\u001b[0m [\u001b[32m\u001b[1mdebug    \u001b[0m] \u001b[1mBuilding model...             \u001b[0m\n",
      "\u001b[2m2025-05-24 10:02.40\u001b[0m [\u001b[32m\u001b[1mdebug    \u001b[0m] \u001b[1mModel has been built.         \u001b[0m\n",
      "\u001b[2m2025-05-24 10:02.40\u001b[0m [\u001b[32m\u001b[1minfo     \u001b[0m] \u001b[1mDirectory is created at training_logs/online/pen/AWAC_online_20250524100240\u001b[0m\n",
      "\u001b[2m2025-05-24 10:02.40\u001b[0m [\u001b[32m\u001b[1minfo     \u001b[0m] \u001b[1mParameters                    \u001b[0m \u001b[36mparams\u001b[0m=\u001b[35m{'observation_shape': [45], 'action_size': 24, 'config': {'type': 'awac', 'params': {'batch_size': 1024, 'gamma': 0.99, 'observation_scaler': {'type': 'none', 'params': {}}, 'action_scaler': {'type': 'none', 'params': {}}, 'reward_scaler': {'type': 'none', 'params': {}}, 'compile_graph': False, 'actor_learning_rate': 0.0003, 'critic_learning_rate': 0.0003, 'actor_optim_factory': {'type': 'adam', 'params': {'clip_grad_norm': None, 'lr_scheduler_factory': {'type': 'none', 'params': {}}, 'betas': [0.9, 0.999], 'eps': 1e-08, 'weight_decay': 0, 'amsgrad': False}}, 'critic_optim_factory': {'type': 'adam', 'params': {'clip_grad_norm': None, 'lr_scheduler_factory': {'type': 'none', 'params': {}}, 'betas': [0.9, 0.999], 'eps': 1e-08, 'weight_decay': 0, 'amsgrad': False}}, 'actor_encoder_factory': {'type': 'default', 'params': {'activation': 'relu', 'use_batch_norm': False, 'dropout_rate': None}}, 'critic_encoder_factory': {'type': 'default', 'params': {'activation': 'relu', 'use_batch_norm': False, 'dropout_rate': None}}, 'q_func_factory': {'type': 'mean', 'params': {'share_encoder': False}}, 'tau': 0.005, 'lam': 1.0, 'n_action_samples': 1, 'n_critics': 2}}}\u001b[0m\n"
     ]
    },
    {
     "data": {
      "application/vnd.jupyter.widget-view+json": {
       "model_id": "1f235c02d4444a02afcef185155dec1f",
       "version_major": 2,
       "version_minor": 0
      },
      "text/plain": [
       "  0%|          | 0/100 [00:00<?, ?it/s]"
      ]
     },
     "metadata": {},
     "output_type": "display_data"
    },
    {
     "name": "stdout",
     "output_type": "stream",
     "text": [
      "\u001b[2m2025-05-24 10:02.40\u001b[0m [\u001b[32m\u001b[1minfo     \u001b[0m] \u001b[1mModel parameters are saved to training_logs/online/pen/AWAC_online_20250524100240/model_10.d3\u001b[0m\n",
      "\u001b[2m2025-05-24 10:02.40\u001b[0m [\u001b[32m\u001b[1minfo     \u001b[0m] \u001b[1mAWAC_online_20250524100240: epoch=1 step=10\u001b[0m \u001b[36mepoch\u001b[0m=\u001b[35m1\u001b[0m \u001b[36mmetrics\u001b[0m=\u001b[35m{'time_inference': 0.00024137496948242187, 'time_environment_step': 0.00031671524047851565, 'time_step': 0.0005704641342163086, 'evaluation': 65.46801105508864}\u001b[0m \u001b[36mstep\u001b[0m=\u001b[35m10\u001b[0m\n",
      "\u001b[2m2025-05-24 10:02.41\u001b[0m [\u001b[32m\u001b[1minfo     \u001b[0m] \u001b[1mModel parameters are saved to training_logs/online/pen/AWAC_online_20250524100240/model_20.d3\u001b[0m\n",
      "\u001b[2m2025-05-24 10:02.41\u001b[0m [\u001b[32m\u001b[1minfo     \u001b[0m] \u001b[1mAWAC_online_20250524100240: epoch=2 step=20\u001b[0m \u001b[36mepoch\u001b[0m=\u001b[35m2\u001b[0m \u001b[36mmetrics\u001b[0m=\u001b[35m{'time_inference': 0.00012390613555908204, 'time_environment_step': 0.000400543212890625, 'time_step': 0.0005357742309570312, 'evaluation': 41.98446826720032}\u001b[0m \u001b[36mstep\u001b[0m=\u001b[35m20\u001b[0m\n",
      "\u001b[2m2025-05-24 10:02.41\u001b[0m [\u001b[32m\u001b[1minfo     \u001b[0m] \u001b[1mModel parameters are saved to training_logs/online/pen/AWAC_online_20250524100240/model_30.d3\u001b[0m\n",
      "\u001b[2m2025-05-24 10:02.41\u001b[0m [\u001b[32m\u001b[1minfo     \u001b[0m] \u001b[1mAWAC_online_20250524100240: epoch=3 step=30\u001b[0m \u001b[36mepoch\u001b[0m=\u001b[35m3\u001b[0m \u001b[36mmetrics\u001b[0m=\u001b[35m{'time_inference': 0.00012106895446777344, 'time_environment_step': 0.0002679347991943359, 'time_step': 0.00039899349212646484, 'evaluation': 25.703650226536116}\u001b[0m \u001b[36mstep\u001b[0m=\u001b[35m30\u001b[0m\n",
      "\u001b[2m2025-05-24 10:02.41\u001b[0m [\u001b[32m\u001b[1minfo     \u001b[0m] \u001b[1mModel parameters are saved to training_logs/online/pen/AWAC_online_20250524100240/model_40.d3\u001b[0m\n",
      "\u001b[2m2025-05-24 10:02.41\u001b[0m [\u001b[32m\u001b[1minfo     \u001b[0m] \u001b[1mAWAC_online_20250524100240: epoch=4 step=40\u001b[0m \u001b[36mepoch\u001b[0m=\u001b[35m4\u001b[0m \u001b[36mmetrics\u001b[0m=\u001b[35m{'time_inference': 0.00010557174682617188, 'time_environment_step': 0.0002064943313598633, 'time_step': 0.0003205776214599609, 'evaluation': 40.593808511443825}\u001b[0m \u001b[36mstep\u001b[0m=\u001b[35m40\u001b[0m\n",
      "\u001b[2m2025-05-24 10:02.41\u001b[0m [\u001b[32m\u001b[1minfo     \u001b[0m] \u001b[1mModel parameters are saved to training_logs/online/pen/AWAC_online_20250524100240/model_50.d3\u001b[0m\n",
      "\u001b[2m2025-05-24 10:02.41\u001b[0m [\u001b[32m\u001b[1minfo     \u001b[0m] \u001b[1mAWAC_online_20250524100240: epoch=5 step=50\u001b[0m \u001b[36mepoch\u001b[0m=\u001b[35m5\u001b[0m \u001b[36mmetrics\u001b[0m=\u001b[35m{'time_inference': 0.0001401185989379883, 'time_environment_step': 0.00021820068359375, 'time_step': 0.00036742687225341795, 'evaluation': 23.406210772986128}\u001b[0m \u001b[36mstep\u001b[0m=\u001b[35m50\u001b[0m\n",
      "\u001b[2m2025-05-24 10:02.42\u001b[0m [\u001b[32m\u001b[1minfo     \u001b[0m] \u001b[1mModel parameters are saved to training_logs/online/pen/AWAC_online_20250524100240/model_60.d3\u001b[0m\n",
      "\u001b[2m2025-05-24 10:02.42\u001b[0m [\u001b[32m\u001b[1minfo     \u001b[0m] \u001b[1mAWAC_online_20250524100240: epoch=6 step=60\u001b[0m \u001b[36mepoch\u001b[0m=\u001b[35m6\u001b[0m \u001b[36mmetrics\u001b[0m=\u001b[35m{'time_inference': 0.00010766983032226563, 'time_environment_step': 0.0002046823501586914, 'time_step': 0.0003215789794921875, 'evaluation': 217.70698708848576}\u001b[0m \u001b[36mstep\u001b[0m=\u001b[35m60\u001b[0m\n",
      "\u001b[2m2025-05-24 10:02.42\u001b[0m [\u001b[32m\u001b[1minfo     \u001b[0m] \u001b[1mModel parameters are saved to training_logs/online/pen/AWAC_online_20250524100240/model_70.d3\u001b[0m\n",
      "\u001b[2m2025-05-24 10:02.42\u001b[0m [\u001b[32m\u001b[1minfo     \u001b[0m] \u001b[1mAWAC_online_20250524100240: epoch=7 step=70\u001b[0m \u001b[36mepoch\u001b[0m=\u001b[35m7\u001b[0m \u001b[36mmetrics\u001b[0m=\u001b[35m{'time_inference': 0.00015614032745361328, 'time_environment_step': 0.0002631664276123047, 'time_step': 0.00043168067932128904, 'evaluation': -0.6106547444583434}\u001b[0m \u001b[36mstep\u001b[0m=\u001b[35m70\u001b[0m\n",
      "\u001b[2m2025-05-24 10:02.42\u001b[0m [\u001b[32m\u001b[1minfo     \u001b[0m] \u001b[1mModel parameters are saved to training_logs/online/pen/AWAC_online_20250524100240/model_80.d3\u001b[0m\n",
      "\u001b[2m2025-05-24 10:02.42\u001b[0m [\u001b[32m\u001b[1minfo     \u001b[0m] \u001b[1mAWAC_online_20250524100240: epoch=8 step=80\u001b[0m \u001b[36mepoch\u001b[0m=\u001b[35m8\u001b[0m \u001b[36mmetrics\u001b[0m=\u001b[35m{'time_inference': 0.00038771629333496095, 'time_environment_step': 0.0005402803421020508, 'time_step': 0.0009558439254760742, 'evaluation': -14.861095036864773}\u001b[0m \u001b[36mstep\u001b[0m=\u001b[35m80\u001b[0m\n",
      "\u001b[2m2025-05-24 10:02.43\u001b[0m [\u001b[32m\u001b[1minfo     \u001b[0m] \u001b[1mModel parameters are saved to training_logs/online/pen/AWAC_online_20250524100240/model_90.d3\u001b[0m\n",
      "\u001b[2m2025-05-24 10:02.43\u001b[0m [\u001b[32m\u001b[1minfo     \u001b[0m] \u001b[1mAWAC_online_20250524100240: epoch=9 step=90\u001b[0m \u001b[36mepoch\u001b[0m=\u001b[35m9\u001b[0m \u001b[36mmetrics\u001b[0m=\u001b[35m{'time_inference': 0.00012753009796142578, 'time_environment_step': 0.00025599002838134767, 'time_step': 0.00039472579956054685, 'evaluation': 191.7240585188001}\u001b[0m \u001b[36mstep\u001b[0m=\u001b[35m90\u001b[0m\n",
      "\u001b[2m2025-05-24 10:02.43\u001b[0m [\u001b[32m\u001b[1minfo     \u001b[0m] \u001b[1mModel parameters are saved to training_logs/online/pen/AWAC_online_20250524100240/model_100.d3\u001b[0m\n",
      "\u001b[2m2025-05-24 10:02.43\u001b[0m [\u001b[32m\u001b[1minfo     \u001b[0m] \u001b[1mAWAC_online_20250524100240: epoch=10 step=100\u001b[0m \u001b[36mepoch\u001b[0m=\u001b[35m10\u001b[0m \u001b[36mmetrics\u001b[0m=\u001b[35m{'time_inference': 0.00010025501251220703, 'time_environment_step': 0.00022644996643066405, 'time_step': 0.00035724639892578127, 'rollout_return': 790.0311265852971, 'evaluation': 395.2293482587438}\u001b[0m \u001b[36mstep\u001b[0m=\u001b[35m100\u001b[0m\n"
     ]
    }
   ],
   "source": [
    "# Train each algorithm from scratch in an online setting on the Pen task\n",
    "train_online_algorithm(d3rlpy.algos.IQLConfig, pen_env, 'pen_iql', 'pen')\n",
    "train_online_algorithm(d3rlpy.algos.CQLConfig, pen_env, 'pen_cql', 'pen')\n",
    "train_online_algorithm(d3rlpy.algos.TD3PlusBCConfig, pen_env, 'pen_td3bc', 'pen')\n",
    "train_online_algorithm(d3rlpy.algos.AWACConfig, pen_env, 'pen_awac', 'pen')"
   ]
  },
  {
   "cell_type": "markdown",
   "id": "62acf1bc-c658-450c-a4da-569334978801",
   "metadata": {},
   "source": [
    "### Relocate"
   ]
  },
  {
   "cell_type": "code",
   "execution_count": 7,
   "id": "f59454c7-b54b-4b83-9147-ce8b5c5a9158",
   "metadata": {
    "scrolled": true
   },
   "outputs": [
    {
     "name": "stdout",
     "output_type": "stream",
     "text": [
      "\u001b[2m2025-05-24 10:02.43\u001b[0m [\u001b[32m\u001b[1minfo     \u001b[0m] \u001b[1mSignatures have been automatically determined.\u001b[0m \u001b[36maction_signature\u001b[0m=\u001b[35mSignature(dtype=[dtype('float32')], shape=[(30,)])\u001b[0m \u001b[36mobservation_signature\u001b[0m=\u001b[35mSignature(dtype=[dtype('float64')], shape=[(39,)])\u001b[0m \u001b[36mreward_signature\u001b[0m=\u001b[35mSignature(dtype=[dtype('float32')], shape=[[1]])\u001b[0m\n",
      "\u001b[2m2025-05-24 10:02.43\u001b[0m [\u001b[32m\u001b[1minfo     \u001b[0m] \u001b[1mAction-space has been automatically determined.\u001b[0m \u001b[36maction_space\u001b[0m=\u001b[35m<ActionSpace.CONTINUOUS: 1>\u001b[0m\n",
      "\u001b[2m2025-05-24 10:02.43\u001b[0m [\u001b[32m\u001b[1minfo     \u001b[0m] \u001b[1mAction size has been automatically determined.\u001b[0m \u001b[36maction_size\u001b[0m=\u001b[35m30\u001b[0m\n",
      "\u001b[2m2025-05-24 10:02.43\u001b[0m [\u001b[32m\u001b[1mdebug    \u001b[0m] \u001b[1mBuilding model...             \u001b[0m\n",
      "\u001b[2m2025-05-24 10:02.43\u001b[0m [\u001b[32m\u001b[1mdebug    \u001b[0m] \u001b[1mModel has been built.         \u001b[0m\n",
      "\u001b[2m2025-05-24 10:02.43\u001b[0m [\u001b[32m\u001b[1minfo     \u001b[0m] \u001b[1mDirectory is created at training_logs/online/relocate/IQL_online_20250524100243\u001b[0m\n",
      "\u001b[2m2025-05-24 10:02.43\u001b[0m [\u001b[32m\u001b[1minfo     \u001b[0m] \u001b[1mParameters                    \u001b[0m \u001b[36mparams\u001b[0m=\u001b[35m{'observation_shape': [39], 'action_size': 30, 'config': {'type': 'iql', 'params': {'batch_size': 256, 'gamma': 0.99, 'observation_scaler': {'type': 'none', 'params': {}}, 'action_scaler': {'type': 'none', 'params': {}}, 'reward_scaler': {'type': 'none', 'params': {}}, 'compile_graph': False, 'actor_learning_rate': 0.0003, 'critic_learning_rate': 0.0003, 'actor_optim_factory': {'type': 'adam', 'params': {'clip_grad_norm': None, 'lr_scheduler_factory': {'type': 'none', 'params': {}}, 'betas': [0.9, 0.999], 'eps': 1e-08, 'weight_decay': 0, 'amsgrad': False}}, 'critic_optim_factory': {'type': 'adam', 'params': {'clip_grad_norm': None, 'lr_scheduler_factory': {'type': 'none', 'params': {}}, 'betas': [0.9, 0.999], 'eps': 1e-08, 'weight_decay': 0, 'amsgrad': False}}, 'actor_encoder_factory': {'type': 'default', 'params': {'activation': 'relu', 'use_batch_norm': False, 'dropout_rate': None}}, 'critic_encoder_factory': {'type': 'default', 'params': {'activation': 'relu', 'use_batch_norm': False, 'dropout_rate': None}}, 'value_encoder_factory': {'type': 'default', 'params': {'activation': 'relu', 'use_batch_norm': False, 'dropout_rate': None}}, 'tau': 0.005, 'n_critics': 2, 'expectile': 0.7, 'weight_temp': 3.0, 'max_weight': 100.0}}}\u001b[0m\n"
     ]
    },
    {
     "data": {
      "application/vnd.jupyter.widget-view+json": {
       "model_id": "ced44dacf77847a29d1412eda331cdd7",
       "version_major": 2,
       "version_minor": 0
      },
      "text/plain": [
       "  0%|          | 0/100 [00:00<?, ?it/s]"
      ]
     },
     "metadata": {},
     "output_type": "display_data"
    },
    {
     "name": "stdout",
     "output_type": "stream",
     "text": [
      "\u001b[2m2025-05-24 10:02.44\u001b[0m [\u001b[32m\u001b[1minfo     \u001b[0m] \u001b[1mModel parameters are saved to training_logs/online/relocate/IQL_online_20250524100243/model_10.d3\u001b[0m\n",
      "\u001b[2m2025-05-24 10:02.44\u001b[0m [\u001b[32m\u001b[1minfo     \u001b[0m] \u001b[1mIQL_online_20250524100243: epoch=1 step=10\u001b[0m \u001b[36mepoch\u001b[0m=\u001b[35m1\u001b[0m \u001b[36mmetrics\u001b[0m=\u001b[35m{'time_inference': 0.0003106117248535156, 'time_environment_step': 0.0002701044082641602, 'time_step': 0.0005921602249145507, 'evaluation': 4.341970731227002}\u001b[0m \u001b[36mstep\u001b[0m=\u001b[35m10\u001b[0m\n",
      "\u001b[2m2025-05-24 10:02.44\u001b[0m [\u001b[32m\u001b[1minfo     \u001b[0m] \u001b[1mModel parameters are saved to training_logs/online/relocate/IQL_online_20250524100243/model_20.d3\u001b[0m\n",
      "\u001b[2m2025-05-24 10:02.44\u001b[0m [\u001b[32m\u001b[1minfo     \u001b[0m] \u001b[1mIQL_online_20250524100243: epoch=2 step=20\u001b[0m \u001b[36mepoch\u001b[0m=\u001b[35m2\u001b[0m \u001b[36mmetrics\u001b[0m=\u001b[35m{'time_inference': 0.00011472702026367187, 'time_environment_step': 0.00027444362640380857, 'time_step': 0.0003974437713623047, 'evaluation': 3.0640708008795565}\u001b[0m \u001b[36mstep\u001b[0m=\u001b[35m20\u001b[0m\n",
      "\u001b[2m2025-05-24 10:02.45\u001b[0m [\u001b[32m\u001b[1minfo     \u001b[0m] \u001b[1mModel parameters are saved to training_logs/online/relocate/IQL_online_20250524100243/model_30.d3\u001b[0m\n",
      "\u001b[2m2025-05-24 10:02.45\u001b[0m [\u001b[32m\u001b[1minfo     \u001b[0m] \u001b[1mIQL_online_20250524100243: epoch=3 step=30\u001b[0m \u001b[36mepoch\u001b[0m=\u001b[35m3\u001b[0m \u001b[36mmetrics\u001b[0m=\u001b[35m{'time_inference': 0.00013105869293212892, 'time_environment_step': 0.00040926933288574217, 'time_step': 0.0005514144897460938, 'evaluation': 4.123427050506991}\u001b[0m \u001b[36mstep\u001b[0m=\u001b[35m30\u001b[0m\n",
      "\u001b[2m2025-05-24 10:02.45\u001b[0m [\u001b[32m\u001b[1minfo     \u001b[0m] \u001b[1mModel parameters are saved to training_logs/online/relocate/IQL_online_20250524100243/model_40.d3\u001b[0m\n",
      "\u001b[2m2025-05-24 10:02.45\u001b[0m [\u001b[32m\u001b[1minfo     \u001b[0m] \u001b[1mIQL_online_20250524100243: epoch=4 step=40\u001b[0m \u001b[36mepoch\u001b[0m=\u001b[35m4\u001b[0m \u001b[36mmetrics\u001b[0m=\u001b[35m{'time_inference': 0.00010917186737060546, 'time_environment_step': 0.00022783279418945313, 'time_step': 0.0003466606140136719, 'evaluation': 4.19656634390959}\u001b[0m \u001b[36mstep\u001b[0m=\u001b[35m40\u001b[0m\n",
      "\u001b[2m2025-05-24 10:02.46\u001b[0m [\u001b[32m\u001b[1minfo     \u001b[0m] \u001b[1mModel parameters are saved to training_logs/online/relocate/IQL_online_20250524100243/model_50.d3\u001b[0m\n",
      "\u001b[2m2025-05-24 10:02.46\u001b[0m [\u001b[32m\u001b[1minfo     \u001b[0m] \u001b[1mIQL_online_20250524100243: epoch=5 step=50\u001b[0m \u001b[36mepoch\u001b[0m=\u001b[35m5\u001b[0m \u001b[36mmetrics\u001b[0m=\u001b[35m{'time_inference': 0.00013604164123535157, 'time_environment_step': 0.0003080844879150391, 'time_step': 0.0004564046859741211, 'evaluation': 3.70663474456561}\u001b[0m \u001b[36mstep\u001b[0m=\u001b[35m50\u001b[0m\n",
      "\u001b[2m2025-05-24 10:02.46\u001b[0m [\u001b[32m\u001b[1minfo     \u001b[0m] \u001b[1mModel parameters are saved to training_logs/online/relocate/IQL_online_20250524100243/model_60.d3\u001b[0m\n",
      "\u001b[2m2025-05-24 10:02.46\u001b[0m [\u001b[32m\u001b[1minfo     \u001b[0m] \u001b[1mIQL_online_20250524100243: epoch=6 step=60\u001b[0m \u001b[36mepoch\u001b[0m=\u001b[35m6\u001b[0m \u001b[36mmetrics\u001b[0m=\u001b[35m{'time_inference': 0.00010230541229248047, 'time_environment_step': 0.00024216175079345704, 'time_step': 0.00035440921783447266, 'evaluation': 3.873859029649709}\u001b[0m \u001b[36mstep\u001b[0m=\u001b[35m60\u001b[0m\n",
      "\u001b[2m2025-05-24 10:02.47\u001b[0m [\u001b[32m\u001b[1minfo     \u001b[0m] \u001b[1mModel parameters are saved to training_logs/online/relocate/IQL_online_20250524100243/model_70.d3\u001b[0m\n",
      "\u001b[2m2025-05-24 10:02.47\u001b[0m [\u001b[32m\u001b[1minfo     \u001b[0m] \u001b[1mIQL_online_20250524100243: epoch=7 step=70\u001b[0m \u001b[36mepoch\u001b[0m=\u001b[35m7\u001b[0m \u001b[36mmetrics\u001b[0m=\u001b[35m{'time_inference': 0.00011906623840332031, 'time_environment_step': 0.0002572298049926758, 'time_step': 0.0003861904144287109, 'evaluation': 4.650156041730353}\u001b[0m \u001b[36mstep\u001b[0m=\u001b[35m70\u001b[0m\n",
      "\u001b[2m2025-05-24 10:02.47\u001b[0m [\u001b[32m\u001b[1minfo     \u001b[0m] \u001b[1mModel parameters are saved to training_logs/online/relocate/IQL_online_20250524100243/model_80.d3\u001b[0m\n",
      "\u001b[2m2025-05-24 10:02.47\u001b[0m [\u001b[32m\u001b[1minfo     \u001b[0m] \u001b[1mIQL_online_20250524100243: epoch=8 step=80\u001b[0m \u001b[36mepoch\u001b[0m=\u001b[35m8\u001b[0m \u001b[36mmetrics\u001b[0m=\u001b[35m{'time_inference': 0.00021152496337890626, 'time_environment_step': 0.0002984285354614258, 'time_step': 0.0005243301391601562, 'evaluation': 3.9651938807104194}\u001b[0m \u001b[36mstep\u001b[0m=\u001b[35m80\u001b[0m\n",
      "\u001b[2m2025-05-24 10:02.48\u001b[0m [\u001b[32m\u001b[1minfo     \u001b[0m] \u001b[1mModel parameters are saved to training_logs/online/relocate/IQL_online_20250524100243/model_90.d3\u001b[0m\n",
      "\u001b[2m2025-05-24 10:02.48\u001b[0m [\u001b[32m\u001b[1minfo     \u001b[0m] \u001b[1mIQL_online_20250524100243: epoch=9 step=90\u001b[0m \u001b[36mepoch\u001b[0m=\u001b[35m9\u001b[0m \u001b[36mmetrics\u001b[0m=\u001b[35m{'time_inference': 0.0001285076141357422, 'time_environment_step': 0.00024759769439697266, 'time_step': 0.00038695335388183594, 'evaluation': 3.697236412092754}\u001b[0m \u001b[36mstep\u001b[0m=\u001b[35m90\u001b[0m\n",
      "\u001b[2m2025-05-24 10:02.49\u001b[0m [\u001b[32m\u001b[1minfo     \u001b[0m] \u001b[1mModel parameters are saved to training_logs/online/relocate/IQL_online_20250524100243/model_100.d3\u001b[0m\n",
      "\u001b[2m2025-05-24 10:02.49\u001b[0m [\u001b[32m\u001b[1minfo     \u001b[0m] \u001b[1mIQL_online_20250524100243: epoch=10 step=100\u001b[0m \u001b[36mepoch\u001b[0m=\u001b[35m10\u001b[0m \u001b[36mmetrics\u001b[0m=\u001b[35m{'time_inference': 0.00021903514862060548, 'time_environment_step': 0.0004985332489013672, 'time_step': 0.0007345676422119141, 'evaluation': 4.808164732330457}\u001b[0m \u001b[36mstep\u001b[0m=\u001b[35m100\u001b[0m\n",
      "\u001b[2m2025-05-24 10:02.49\u001b[0m [\u001b[32m\u001b[1minfo     \u001b[0m] \u001b[1mSignatures have been automatically determined.\u001b[0m \u001b[36maction_signature\u001b[0m=\u001b[35mSignature(dtype=[dtype('float32')], shape=[(30,)])\u001b[0m \u001b[36mobservation_signature\u001b[0m=\u001b[35mSignature(dtype=[dtype('float64')], shape=[(39,)])\u001b[0m \u001b[36mreward_signature\u001b[0m=\u001b[35mSignature(dtype=[dtype('float32')], shape=[[1]])\u001b[0m\n",
      "\u001b[2m2025-05-24 10:02.49\u001b[0m [\u001b[32m\u001b[1minfo     \u001b[0m] \u001b[1mAction-space has been automatically determined.\u001b[0m \u001b[36maction_space\u001b[0m=\u001b[35m<ActionSpace.CONTINUOUS: 1>\u001b[0m\n",
      "\u001b[2m2025-05-24 10:02.49\u001b[0m [\u001b[32m\u001b[1minfo     \u001b[0m] \u001b[1mAction size has been automatically determined.\u001b[0m \u001b[36maction_size\u001b[0m=\u001b[35m30\u001b[0m\n",
      "\u001b[2m2025-05-24 10:02.49\u001b[0m [\u001b[32m\u001b[1mdebug    \u001b[0m] \u001b[1mBuilding model...             \u001b[0m\n",
      "\u001b[2m2025-05-24 10:02.49\u001b[0m [\u001b[32m\u001b[1mdebug    \u001b[0m] \u001b[1mModel has been built.         \u001b[0m\n",
      "\u001b[2m2025-05-24 10:02.49\u001b[0m [\u001b[32m\u001b[1minfo     \u001b[0m] \u001b[1mDirectory is created at training_logs/online/relocate/CQL_online_20250524100249\u001b[0m\n",
      "\u001b[2m2025-05-24 10:02.49\u001b[0m [\u001b[32m\u001b[1minfo     \u001b[0m] \u001b[1mParameters                    \u001b[0m \u001b[36mparams\u001b[0m=\u001b[35m{'observation_shape': [39], 'action_size': 30, 'config': {'type': 'cql', 'params': {'batch_size': 256, 'gamma': 0.99, 'observation_scaler': {'type': 'none', 'params': {}}, 'action_scaler': {'type': 'none', 'params': {}}, 'reward_scaler': {'type': 'none', 'params': {}}, 'compile_graph': False, 'actor_learning_rate': 0.0001, 'critic_learning_rate': 0.0003, 'temp_learning_rate': 0.0001, 'alpha_learning_rate': 0.0001, 'actor_optim_factory': {'type': 'adam', 'params': {'clip_grad_norm': None, 'lr_scheduler_factory': {'type': 'none', 'params': {}}, 'betas': [0.9, 0.999], 'eps': 1e-08, 'weight_decay': 0, 'amsgrad': False}}, 'critic_optim_factory': {'type': 'adam', 'params': {'clip_grad_norm': None, 'lr_scheduler_factory': {'type': 'none', 'params': {}}, 'betas': [0.9, 0.999], 'eps': 1e-08, 'weight_decay': 0, 'amsgrad': False}}, 'temp_optim_factory': {'type': 'adam', 'params': {'clip_grad_norm': None, 'lr_scheduler_factory': {'type': 'none', 'params': {}}, 'betas': [0.9, 0.999], 'eps': 1e-08, 'weight_decay': 0, 'amsgrad': False}}, 'alpha_optim_factory': {'type': 'adam', 'params': {'clip_grad_norm': None, 'lr_scheduler_factory': {'type': 'none', 'params': {}}, 'betas': [0.9, 0.999], 'eps': 1e-08, 'weight_decay': 0, 'amsgrad': False}}, 'actor_encoder_factory': {'type': 'default', 'params': {'activation': 'relu', 'use_batch_norm': False, 'dropout_rate': None}}, 'critic_encoder_factory': {'type': 'default', 'params': {'activation': 'relu', 'use_batch_norm': False, 'dropout_rate': None}}, 'q_func_factory': {'type': 'mean', 'params': {'share_encoder': False}}, 'tau': 0.005, 'n_critics': 2, 'initial_temperature': 1.0, 'initial_alpha': 1.0, 'alpha_threshold': 10.0, 'conservative_weight': 5.0, 'n_action_samples': 10, 'soft_q_backup': False, 'max_q_backup': False}}}\u001b[0m\n"
     ]
    },
    {
     "data": {
      "application/vnd.jupyter.widget-view+json": {
       "model_id": "ca75350860d04265a96b1dd4d746ee6e",
       "version_major": 2,
       "version_minor": 0
      },
      "text/plain": [
       "  0%|          | 0/100 [00:00<?, ?it/s]"
      ]
     },
     "metadata": {},
     "output_type": "display_data"
    },
    {
     "name": "stdout",
     "output_type": "stream",
     "text": [
      "\u001b[2m2025-05-24 10:02.50\u001b[0m [\u001b[32m\u001b[1minfo     \u001b[0m] \u001b[1mModel parameters are saved to training_logs/online/relocate/CQL_online_20250524100249/model_10.d3\u001b[0m\n",
      "\u001b[2m2025-05-24 10:02.50\u001b[0m [\u001b[32m\u001b[1minfo     \u001b[0m] \u001b[1mCQL_online_20250524100249: epoch=1 step=10\u001b[0m \u001b[36mepoch\u001b[0m=\u001b[35m1\u001b[0m \u001b[36mmetrics\u001b[0m=\u001b[35m{'time_inference': 0.0002626657485961914, 'time_environment_step': 0.0003226280212402344, 'time_step': 0.0006015539169311523, 'evaluation': 4.283619014994538}\u001b[0m \u001b[36mstep\u001b[0m=\u001b[35m10\u001b[0m\n",
      "\u001b[2m2025-05-24 10:02.50\u001b[0m [\u001b[32m\u001b[1minfo     \u001b[0m] \u001b[1mModel parameters are saved to training_logs/online/relocate/CQL_online_20250524100249/model_20.d3\u001b[0m\n",
      "\u001b[2m2025-05-24 10:02.50\u001b[0m [\u001b[32m\u001b[1minfo     \u001b[0m] \u001b[1mCQL_online_20250524100249: epoch=2 step=20\u001b[0m \u001b[36mepoch\u001b[0m=\u001b[35m2\u001b[0m \u001b[36mmetrics\u001b[0m=\u001b[35m{'time_inference': 0.0001955747604370117, 'time_environment_step': 0.00043745040893554686, 'time_step': 0.0006534576416015625, 'evaluation': 4.213105643286518}\u001b[0m \u001b[36mstep\u001b[0m=\u001b[35m20\u001b[0m\n",
      "\u001b[2m2025-05-24 10:02.51\u001b[0m [\u001b[32m\u001b[1minfo     \u001b[0m] \u001b[1mModel parameters are saved to training_logs/online/relocate/CQL_online_20250524100249/model_30.d3\u001b[0m\n",
      "\u001b[2m2025-05-24 10:02.51\u001b[0m [\u001b[32m\u001b[1minfo     \u001b[0m] \u001b[1mCQL_online_20250524100249: epoch=3 step=30\u001b[0m \u001b[36mepoch\u001b[0m=\u001b[35m3\u001b[0m \u001b[36mmetrics\u001b[0m=\u001b[35m{'time_inference': 0.00013921260833740234, 'time_environment_step': 0.0002692222595214844, 'time_step': 0.00042014122009277345, 'evaluation': 3.9550368026527947}\u001b[0m \u001b[36mstep\u001b[0m=\u001b[35m30\u001b[0m\n",
      "\u001b[2m2025-05-24 10:02.51\u001b[0m [\u001b[32m\u001b[1minfo     \u001b[0m] \u001b[1mModel parameters are saved to training_logs/online/relocate/CQL_online_20250524100249/model_40.d3\u001b[0m\n",
      "\u001b[2m2025-05-24 10:02.51\u001b[0m [\u001b[32m\u001b[1minfo     \u001b[0m] \u001b[1mCQL_online_20250524100249: epoch=4 step=40\u001b[0m \u001b[36mepoch\u001b[0m=\u001b[35m4\u001b[0m \u001b[36mmetrics\u001b[0m=\u001b[35m{'time_inference': 0.00010399818420410156, 'time_environment_step': 0.00023112297058105468, 'time_step': 0.0003440380096435547, 'evaluation': 3.603977875726751}\u001b[0m \u001b[36mstep\u001b[0m=\u001b[35m40\u001b[0m\n",
      "\u001b[2m2025-05-24 10:02.52\u001b[0m [\u001b[32m\u001b[1minfo     \u001b[0m] \u001b[1mModel parameters are saved to training_logs/online/relocate/CQL_online_20250524100249/model_50.d3\u001b[0m\n",
      "\u001b[2m2025-05-24 10:02.52\u001b[0m [\u001b[32m\u001b[1minfo     \u001b[0m] \u001b[1mCQL_online_20250524100249: epoch=5 step=50\u001b[0m \u001b[36mepoch\u001b[0m=\u001b[35m5\u001b[0m \u001b[36mmetrics\u001b[0m=\u001b[35m{'time_inference': 0.00012793540954589844, 'time_environment_step': 0.0002607107162475586, 'time_step': 0.00039975643157958985, 'evaluation': 3.263048091705515}\u001b[0m \u001b[36mstep\u001b[0m=\u001b[35m50\u001b[0m\n",
      "\u001b[2m2025-05-24 10:02.52\u001b[0m [\u001b[32m\u001b[1minfo     \u001b[0m] \u001b[1mModel parameters are saved to training_logs/online/relocate/CQL_online_20250524100249/model_60.d3\u001b[0m\n",
      "\u001b[2m2025-05-24 10:02.52\u001b[0m [\u001b[32m\u001b[1minfo     \u001b[0m] \u001b[1mCQL_online_20250524100249: epoch=6 step=60\u001b[0m \u001b[36mepoch\u001b[0m=\u001b[35m6\u001b[0m \u001b[36mmetrics\u001b[0m=\u001b[35m{'time_inference': 0.00013341903686523438, 'time_environment_step': 0.0003975868225097656, 'time_step': 0.0005452394485473633, 'evaluation': 4.024574845207651}\u001b[0m \u001b[36mstep\u001b[0m=\u001b[35m60\u001b[0m\n",
      "\u001b[2m2025-05-24 10:02.53\u001b[0m [\u001b[32m\u001b[1minfo     \u001b[0m] \u001b[1mModel parameters are saved to training_logs/online/relocate/CQL_online_20250524100249/model_70.d3\u001b[0m\n",
      "\u001b[2m2025-05-24 10:02.53\u001b[0m [\u001b[32m\u001b[1minfo     \u001b[0m] \u001b[1mCQL_online_20250524100249: epoch=7 step=70\u001b[0m \u001b[36mepoch\u001b[0m=\u001b[35m7\u001b[0m \u001b[36mmetrics\u001b[0m=\u001b[35m{'time_inference': 0.00011506080627441407, 'time_environment_step': 0.00024673938751220705, 'time_step': 0.0003724813461303711, 'evaluation': 3.229429496657594}\u001b[0m \u001b[36mstep\u001b[0m=\u001b[35m70\u001b[0m\n",
      "\u001b[2m2025-05-24 10:02.53\u001b[0m [\u001b[32m\u001b[1minfo     \u001b[0m] \u001b[1mModel parameters are saved to training_logs/online/relocate/CQL_online_20250524100249/model_80.d3\u001b[0m\n",
      "\u001b[2m2025-05-24 10:02.53\u001b[0m [\u001b[32m\u001b[1minfo     \u001b[0m] \u001b[1mCQL_online_20250524100249: epoch=8 step=80\u001b[0m \u001b[36mepoch\u001b[0m=\u001b[35m8\u001b[0m \u001b[36mmetrics\u001b[0m=\u001b[35m{'time_inference': 0.00011591911315917968, 'time_environment_step': 0.0002328634262084961, 'time_step': 0.00035915374755859377, 'evaluation': 3.5858755422049677}\u001b[0m \u001b[36mstep\u001b[0m=\u001b[35m80\u001b[0m\n",
      "\u001b[2m2025-05-24 10:02.54\u001b[0m [\u001b[32m\u001b[1minfo     \u001b[0m] \u001b[1mModel parameters are saved to training_logs/online/relocate/CQL_online_20250524100249/model_90.d3\u001b[0m\n",
      "\u001b[2m2025-05-24 10:02.54\u001b[0m [\u001b[32m\u001b[1minfo     \u001b[0m] \u001b[1mCQL_online_20250524100249: epoch=9 step=90\u001b[0m \u001b[36mepoch\u001b[0m=\u001b[35m9\u001b[0m \u001b[36mmetrics\u001b[0m=\u001b[35m{'time_inference': 0.00018873214721679688, 'time_environment_step': 0.0002941131591796875, 'time_step': 0.0004947662353515625, 'evaluation': 3.4849634429901846}\u001b[0m \u001b[36mstep\u001b[0m=\u001b[35m90\u001b[0m\n",
      "\u001b[2m2025-05-24 10:02.54\u001b[0m [\u001b[32m\u001b[1minfo     \u001b[0m] \u001b[1mModel parameters are saved to training_logs/online/relocate/CQL_online_20250524100249/model_100.d3\u001b[0m\n",
      "\u001b[2m2025-05-24 10:02.54\u001b[0m [\u001b[32m\u001b[1minfo     \u001b[0m] \u001b[1mCQL_online_20250524100249: epoch=10 step=100\u001b[0m \u001b[36mepoch\u001b[0m=\u001b[35m10\u001b[0m \u001b[36mmetrics\u001b[0m=\u001b[35m{'time_inference': 0.00012891292572021485, 'time_environment_step': 0.00027031898498535155, 'time_step': 0.0004099130630493164, 'evaluation': 3.034175677196587}\u001b[0m \u001b[36mstep\u001b[0m=\u001b[35m100\u001b[0m\n",
      "\u001b[2m2025-05-24 10:02.54\u001b[0m [\u001b[32m\u001b[1minfo     \u001b[0m] \u001b[1mSignatures have been automatically determined.\u001b[0m \u001b[36maction_signature\u001b[0m=\u001b[35mSignature(dtype=[dtype('float32')], shape=[(30,)])\u001b[0m \u001b[36mobservation_signature\u001b[0m=\u001b[35mSignature(dtype=[dtype('float64')], shape=[(39,)])\u001b[0m \u001b[36mreward_signature\u001b[0m=\u001b[35mSignature(dtype=[dtype('float32')], shape=[[1]])\u001b[0m\n",
      "\u001b[2m2025-05-24 10:02.54\u001b[0m [\u001b[32m\u001b[1minfo     \u001b[0m] \u001b[1mAction-space has been automatically determined.\u001b[0m \u001b[36maction_space\u001b[0m=\u001b[35m<ActionSpace.CONTINUOUS: 1>\u001b[0m\n",
      "\u001b[2m2025-05-24 10:02.54\u001b[0m [\u001b[32m\u001b[1minfo     \u001b[0m] \u001b[1mAction size has been automatically determined.\u001b[0m \u001b[36maction_size\u001b[0m=\u001b[35m30\u001b[0m\n",
      "\u001b[2m2025-05-24 10:02.54\u001b[0m [\u001b[32m\u001b[1mdebug    \u001b[0m] \u001b[1mBuilding model...             \u001b[0m\n",
      "\u001b[2m2025-05-24 10:02.54\u001b[0m [\u001b[32m\u001b[1mdebug    \u001b[0m] \u001b[1mModel has been built.         \u001b[0m\n",
      "\u001b[2m2025-05-24 10:02.54\u001b[0m [\u001b[32m\u001b[1minfo     \u001b[0m] \u001b[1mDirectory is created at training_logs/online/relocate/TD3PlusBC_online_20250524100254\u001b[0m\n",
      "\u001b[2m2025-05-24 10:02.54\u001b[0m [\u001b[32m\u001b[1minfo     \u001b[0m] \u001b[1mParameters                    \u001b[0m \u001b[36mparams\u001b[0m=\u001b[35m{'observation_shape': [39], 'action_size': 30, 'config': {'type': 'td3_plus_bc', 'params': {'batch_size': 256, 'gamma': 0.99, 'observation_scaler': {'type': 'none', 'params': {}}, 'action_scaler': {'type': 'none', 'params': {}}, 'reward_scaler': {'type': 'none', 'params': {}}, 'compile_graph': False, 'actor_learning_rate': 0.0003, 'critic_learning_rate': 0.0003, 'actor_optim_factory': {'type': 'adam', 'params': {'clip_grad_norm': None, 'lr_scheduler_factory': {'type': 'none', 'params': {}}, 'betas': [0.9, 0.999], 'eps': 1e-08, 'weight_decay': 0, 'amsgrad': False}}, 'critic_optim_factory': {'type': 'adam', 'params': {'clip_grad_norm': None, 'lr_scheduler_factory': {'type': 'none', 'params': {}}, 'betas': [0.9, 0.999], 'eps': 1e-08, 'weight_decay': 0, 'amsgrad': False}}, 'actor_encoder_factory': {'type': 'default', 'params': {'activation': 'relu', 'use_batch_norm': False, 'dropout_rate': None}}, 'critic_encoder_factory': {'type': 'default', 'params': {'activation': 'relu', 'use_batch_norm': False, 'dropout_rate': None}}, 'q_func_factory': {'type': 'mean', 'params': {'share_encoder': False}}, 'tau': 0.005, 'n_critics': 2, 'target_smoothing_sigma': 0.2, 'target_smoothing_clip': 0.5, 'alpha': 2.5, 'update_actor_interval': 2}}}\u001b[0m\n"
     ]
    },
    {
     "data": {
      "application/vnd.jupyter.widget-view+json": {
       "model_id": "5099068a7fd645ddb4bc38654be35ae2",
       "version_major": 2,
       "version_minor": 0
      },
      "text/plain": [
       "  0%|          | 0/100 [00:00<?, ?it/s]"
      ]
     },
     "metadata": {},
     "output_type": "display_data"
    },
    {
     "name": "stdout",
     "output_type": "stream",
     "text": [
      "\u001b[2m2025-05-24 10:02.55\u001b[0m [\u001b[32m\u001b[1minfo     \u001b[0m] \u001b[1mModel parameters are saved to training_logs/online/relocate/TD3PlusBC_online_20250524100254/model_10.d3\u001b[0m\n",
      "\u001b[2m2025-05-24 10:02.55\u001b[0m [\u001b[32m\u001b[1minfo     \u001b[0m] \u001b[1mTD3PlusBC_online_20250524100254: epoch=1 step=10\u001b[0m \u001b[36mepoch\u001b[0m=\u001b[35m1\u001b[0m \u001b[36mmetrics\u001b[0m=\u001b[35m{'time_inference': 0.0002129077911376953, 'time_environment_step': 0.0003205776214599609, 'time_step': 0.0005481481552124023, 'evaluation': 4.908452616660396}\u001b[0m \u001b[36mstep\u001b[0m=\u001b[35m10\u001b[0m\n",
      "\u001b[2m2025-05-24 10:02.55\u001b[0m [\u001b[32m\u001b[1minfo     \u001b[0m] \u001b[1mModel parameters are saved to training_logs/online/relocate/TD3PlusBC_online_20250524100254/model_20.d3\u001b[0m\n",
      "\u001b[2m2025-05-24 10:02.55\u001b[0m [\u001b[32m\u001b[1minfo     \u001b[0m] \u001b[1mTD3PlusBC_online_20250524100254: epoch=2 step=20\u001b[0m \u001b[36mepoch\u001b[0m=\u001b[35m2\u001b[0m \u001b[36mmetrics\u001b[0m=\u001b[35m{'time_inference': 0.00014886856079101562, 'time_environment_step': 0.0003590106964111328, 'time_step': 0.00052032470703125, 'evaluation': 4.619340784274071}\u001b[0m \u001b[36mstep\u001b[0m=\u001b[35m20\u001b[0m\n",
      "\u001b[2m2025-05-24 10:02.56\u001b[0m [\u001b[32m\u001b[1minfo     \u001b[0m] \u001b[1mModel parameters are saved to training_logs/online/relocate/TD3PlusBC_online_20250524100254/model_30.d3\u001b[0m\n",
      "\u001b[2m2025-05-24 10:02.56\u001b[0m [\u001b[32m\u001b[1minfo     \u001b[0m] \u001b[1mTD3PlusBC_online_20250524100254: epoch=3 step=30\u001b[0m \u001b[36mepoch\u001b[0m=\u001b[35m3\u001b[0m \u001b[36mmetrics\u001b[0m=\u001b[35m{'time_inference': 0.00011146068572998047, 'time_environment_step': 0.00026471614837646483, 'time_step': 0.00038640499114990235, 'evaluation': 4.484652440804647}\u001b[0m \u001b[36mstep\u001b[0m=\u001b[35m30\u001b[0m\n",
      "\u001b[2m2025-05-24 10:02.56\u001b[0m [\u001b[32m\u001b[1minfo     \u001b[0m] \u001b[1mModel parameters are saved to training_logs/online/relocate/TD3PlusBC_online_20250524100254/model_40.d3\u001b[0m\n",
      "\u001b[2m2025-05-24 10:02.56\u001b[0m [\u001b[32m\u001b[1minfo     \u001b[0m] \u001b[1mTD3PlusBC_online_20250524100254: epoch=4 step=40\u001b[0m \u001b[36mepoch\u001b[0m=\u001b[35m4\u001b[0m \u001b[36mmetrics\u001b[0m=\u001b[35m{'time_inference': 0.00010437965393066407, 'time_environment_step': 0.0002210855484008789, 'time_step': 0.0003342628479003906, 'evaluation': 4.345232713193226}\u001b[0m \u001b[36mstep\u001b[0m=\u001b[35m40\u001b[0m\n",
      "\u001b[2m2025-05-24 10:02.57\u001b[0m [\u001b[32m\u001b[1minfo     \u001b[0m] \u001b[1mModel parameters are saved to training_logs/online/relocate/TD3PlusBC_online_20250524100254/model_50.d3\u001b[0m\n",
      "\u001b[2m2025-05-24 10:02.57\u001b[0m [\u001b[32m\u001b[1minfo     \u001b[0m] \u001b[1mTD3PlusBC_online_20250524100254: epoch=5 step=50\u001b[0m \u001b[36mepoch\u001b[0m=\u001b[35m5\u001b[0m \u001b[36mmetrics\u001b[0m=\u001b[35m{'time_inference': 0.00011012554168701171, 'time_environment_step': 0.00033400058746337893, 'time_step': 0.0004544258117675781, 'evaluation': 4.087281186758573}\u001b[0m \u001b[36mstep\u001b[0m=\u001b[35m50\u001b[0m\n",
      "\u001b[2m2025-05-24 10:02.57\u001b[0m [\u001b[32m\u001b[1minfo     \u001b[0m] \u001b[1mModel parameters are saved to training_logs/online/relocate/TD3PlusBC_online_20250524100254/model_60.d3\u001b[0m\n",
      "\u001b[2m2025-05-24 10:02.57\u001b[0m [\u001b[32m\u001b[1minfo     \u001b[0m] \u001b[1mTD3PlusBC_online_20250524100254: epoch=6 step=60\u001b[0m \u001b[36mepoch\u001b[0m=\u001b[35m6\u001b[0m \u001b[36mmetrics\u001b[0m=\u001b[35m{'time_inference': 0.00013148784637451172, 'time_environment_step': 0.000285649299621582, 'time_step': 0.0004300594329833984, 'evaluation': 4.128891835297074}\u001b[0m \u001b[36mstep\u001b[0m=\u001b[35m60\u001b[0m\n",
      "\u001b[2m2025-05-24 10:02.58\u001b[0m [\u001b[32m\u001b[1minfo     \u001b[0m] \u001b[1mModel parameters are saved to training_logs/online/relocate/TD3PlusBC_online_20250524100254/model_70.d3\u001b[0m\n",
      "\u001b[2m2025-05-24 10:02.58\u001b[0m [\u001b[32m\u001b[1minfo     \u001b[0m] \u001b[1mTD3PlusBC_online_20250524100254: epoch=7 step=70\u001b[0m \u001b[36mepoch\u001b[0m=\u001b[35m7\u001b[0m \u001b[36mmetrics\u001b[0m=\u001b[35m{'time_inference': 0.00010347366333007812, 'time_environment_step': 0.0002609729766845703, 'time_step': 0.0003755807876586914, 'evaluation': 3.9918913965216474}\u001b[0m \u001b[36mstep\u001b[0m=\u001b[35m70\u001b[0m\n",
      "\u001b[2m2025-05-24 10:02.58\u001b[0m [\u001b[32m\u001b[1minfo     \u001b[0m] \u001b[1mModel parameters are saved to training_logs/online/relocate/TD3PlusBC_online_20250524100254/model_80.d3\u001b[0m\n",
      "\u001b[2m2025-05-24 10:02.58\u001b[0m [\u001b[32m\u001b[1minfo     \u001b[0m] \u001b[1mTD3PlusBC_online_20250524100254: epoch=8 step=80\u001b[0m \u001b[36mepoch\u001b[0m=\u001b[35m8\u001b[0m \u001b[36mmetrics\u001b[0m=\u001b[35m{'time_inference': 0.0001062154769897461, 'time_environment_step': 0.0003172159194946289, 'time_step': 0.00043745040893554686, 'evaluation': 4.0675778372647695}\u001b[0m \u001b[36mstep\u001b[0m=\u001b[35m80\u001b[0m\n",
      "\u001b[2m2025-05-24 10:02.59\u001b[0m [\u001b[32m\u001b[1minfo     \u001b[0m] \u001b[1mModel parameters are saved to training_logs/online/relocate/TD3PlusBC_online_20250524100254/model_90.d3\u001b[0m\n",
      "\u001b[2m2025-05-24 10:02.59\u001b[0m [\u001b[32m\u001b[1minfo     \u001b[0m] \u001b[1mTD3PlusBC_online_20250524100254: epoch=9 step=90\u001b[0m \u001b[36mepoch\u001b[0m=\u001b[35m9\u001b[0m \u001b[36mmetrics\u001b[0m=\u001b[35m{'time_inference': 9.663105010986328e-05, 'time_environment_step': 0.00021967887878417968, 'time_step': 0.0003255605697631836, 'evaluation': 3.85196788934714}\u001b[0m \u001b[36mstep\u001b[0m=\u001b[35m90\u001b[0m\n",
      "\u001b[2m2025-05-24 10:02.59\u001b[0m [\u001b[32m\u001b[1minfo     \u001b[0m] \u001b[1mModel parameters are saved to training_logs/online/relocate/TD3PlusBC_online_20250524100254/model_100.d3\u001b[0m\n",
      "\u001b[2m2025-05-24 10:02.59\u001b[0m [\u001b[32m\u001b[1minfo     \u001b[0m] \u001b[1mTD3PlusBC_online_20250524100254: epoch=10 step=100\u001b[0m \u001b[36mepoch\u001b[0m=\u001b[35m10\u001b[0m \u001b[36mmetrics\u001b[0m=\u001b[35m{'time_inference': 0.00010671615600585938, 'time_environment_step': 0.00025815963745117186, 'time_step': 0.0003772258758544922, 'evaluation': 4.2817560130982155}\u001b[0m \u001b[36mstep\u001b[0m=\u001b[35m100\u001b[0m\n",
      "\u001b[2m2025-05-24 10:02.59\u001b[0m [\u001b[32m\u001b[1minfo     \u001b[0m] \u001b[1mSignatures have been automatically determined.\u001b[0m \u001b[36maction_signature\u001b[0m=\u001b[35mSignature(dtype=[dtype('float32')], shape=[(30,)])\u001b[0m \u001b[36mobservation_signature\u001b[0m=\u001b[35mSignature(dtype=[dtype('float64')], shape=[(39,)])\u001b[0m \u001b[36mreward_signature\u001b[0m=\u001b[35mSignature(dtype=[dtype('float32')], shape=[[1]])\u001b[0m\n",
      "\u001b[2m2025-05-24 10:02.59\u001b[0m [\u001b[32m\u001b[1minfo     \u001b[0m] \u001b[1mAction-space has been automatically determined.\u001b[0m \u001b[36maction_space\u001b[0m=\u001b[35m<ActionSpace.CONTINUOUS: 1>\u001b[0m\n",
      "\u001b[2m2025-05-24 10:02.59\u001b[0m [\u001b[32m\u001b[1minfo     \u001b[0m] \u001b[1mAction size has been automatically determined.\u001b[0m \u001b[36maction_size\u001b[0m=\u001b[35m30\u001b[0m\n",
      "\u001b[2m2025-05-24 10:02.59\u001b[0m [\u001b[32m\u001b[1mdebug    \u001b[0m] \u001b[1mBuilding model...             \u001b[0m\n",
      "\u001b[2m2025-05-24 10:02.59\u001b[0m [\u001b[32m\u001b[1mdebug    \u001b[0m] \u001b[1mModel has been built.         \u001b[0m\n",
      "\u001b[2m2025-05-24 10:02.59\u001b[0m [\u001b[32m\u001b[1minfo     \u001b[0m] \u001b[1mDirectory is created at training_logs/online/relocate/AWAC_online_20250524100259\u001b[0m\n",
      "\u001b[2m2025-05-24 10:02.59\u001b[0m [\u001b[32m\u001b[1minfo     \u001b[0m] \u001b[1mParameters                    \u001b[0m \u001b[36mparams\u001b[0m=\u001b[35m{'observation_shape': [39], 'action_size': 30, 'config': {'type': 'awac', 'params': {'batch_size': 1024, 'gamma': 0.99, 'observation_scaler': {'type': 'none', 'params': {}}, 'action_scaler': {'type': 'none', 'params': {}}, 'reward_scaler': {'type': 'none', 'params': {}}, 'compile_graph': False, 'actor_learning_rate': 0.0003, 'critic_learning_rate': 0.0003, 'actor_optim_factory': {'type': 'adam', 'params': {'clip_grad_norm': None, 'lr_scheduler_factory': {'type': 'none', 'params': {}}, 'betas': [0.9, 0.999], 'eps': 1e-08, 'weight_decay': 0, 'amsgrad': False}}, 'critic_optim_factory': {'type': 'adam', 'params': {'clip_grad_norm': None, 'lr_scheduler_factory': {'type': 'none', 'params': {}}, 'betas': [0.9, 0.999], 'eps': 1e-08, 'weight_decay': 0, 'amsgrad': False}}, 'actor_encoder_factory': {'type': 'default', 'params': {'activation': 'relu', 'use_batch_norm': False, 'dropout_rate': None}}, 'critic_encoder_factory': {'type': 'default', 'params': {'activation': 'relu', 'use_batch_norm': False, 'dropout_rate': None}}, 'q_func_factory': {'type': 'mean', 'params': {'share_encoder': False}}, 'tau': 0.005, 'lam': 1.0, 'n_action_samples': 1, 'n_critics': 2}}}\u001b[0m\n"
     ]
    },
    {
     "data": {
      "application/vnd.jupyter.widget-view+json": {
       "model_id": "d0eb92332be5437b9803c439a863af50",
       "version_major": 2,
       "version_minor": 0
      },
      "text/plain": [
       "  0%|          | 0/100 [00:00<?, ?it/s]"
      ]
     },
     "metadata": {},
     "output_type": "display_data"
    },
    {
     "name": "stdout",
     "output_type": "stream",
     "text": [
      "\u001b[2m2025-05-24 10:03.00\u001b[0m [\u001b[32m\u001b[1minfo     \u001b[0m] \u001b[1mModel parameters are saved to training_logs/online/relocate/AWAC_online_20250524100259/model_10.d3\u001b[0m\n",
      "\u001b[2m2025-05-24 10:03.00\u001b[0m [\u001b[32m\u001b[1minfo     \u001b[0m] \u001b[1mAWAC_online_20250524100259: epoch=1 step=10\u001b[0m \u001b[36mepoch\u001b[0m=\u001b[35m1\u001b[0m \u001b[36mmetrics\u001b[0m=\u001b[35m{'time_inference': 0.00027678012847900393, 'time_environment_step': 0.00037000179290771487, 'time_step': 0.0006643056869506836, 'evaluation': 3.5729346863505}\u001b[0m \u001b[36mstep\u001b[0m=\u001b[35m10\u001b[0m\n",
      "\u001b[2m2025-05-24 10:03.01\u001b[0m [\u001b[32m\u001b[1minfo     \u001b[0m] \u001b[1mModel parameters are saved to training_logs/online/relocate/AWAC_online_20250524100259/model_20.d3\u001b[0m\n",
      "\u001b[2m2025-05-24 10:03.01\u001b[0m [\u001b[32m\u001b[1minfo     \u001b[0m] \u001b[1mAWAC_online_20250524100259: epoch=2 step=20\u001b[0m \u001b[36mepoch\u001b[0m=\u001b[35m2\u001b[0m \u001b[36mmetrics\u001b[0m=\u001b[35m{'time_inference': 0.00015649795532226562, 'time_environment_step': 0.00033388137817382815, 'time_step': 0.0005075931549072266, 'evaluation': 4.32446361278244}\u001b[0m \u001b[36mstep\u001b[0m=\u001b[35m20\u001b[0m\n",
      "\u001b[2m2025-05-24 10:03.01\u001b[0m [\u001b[32m\u001b[1minfo     \u001b[0m] \u001b[1mModel parameters are saved to training_logs/online/relocate/AWAC_online_20250524100259/model_30.d3\u001b[0m\n",
      "\u001b[2m2025-05-24 10:03.01\u001b[0m [\u001b[32m\u001b[1minfo     \u001b[0m] \u001b[1mAWAC_online_20250524100259: epoch=3 step=30\u001b[0m \u001b[36mepoch\u001b[0m=\u001b[35m3\u001b[0m \u001b[36mmetrics\u001b[0m=\u001b[35m{'time_inference': 0.00014412403106689453, 'time_environment_step': 0.00028378963470458983, 'time_step': 0.00043947696685791015, 'evaluation': 4.178431248331691}\u001b[0m \u001b[36mstep\u001b[0m=\u001b[35m30\u001b[0m\n",
      "\u001b[2m2025-05-24 10:03.02\u001b[0m [\u001b[32m\u001b[1minfo     \u001b[0m] \u001b[1mModel parameters are saved to training_logs/online/relocate/AWAC_online_20250524100259/model_40.d3\u001b[0m\n",
      "\u001b[2m2025-05-24 10:03.02\u001b[0m [\u001b[32m\u001b[1minfo     \u001b[0m] \u001b[1mAWAC_online_20250524100259: epoch=4 step=40\u001b[0m \u001b[36mepoch\u001b[0m=\u001b[35m4\u001b[0m \u001b[36mmetrics\u001b[0m=\u001b[35m{'time_inference': 0.00015769004821777343, 'time_environment_step': 0.00038492679595947266, 'time_step': 0.000558161735534668, 'evaluation': 3.289024581936092}\u001b[0m \u001b[36mstep\u001b[0m=\u001b[35m40\u001b[0m\n",
      "\u001b[2m2025-05-24 10:03.02\u001b[0m [\u001b[32m\u001b[1minfo     \u001b[0m] \u001b[1mModel parameters are saved to training_logs/online/relocate/AWAC_online_20250524100259/model_50.d3\u001b[0m\n",
      "\u001b[2m2025-05-24 10:03.02\u001b[0m [\u001b[32m\u001b[1minfo     \u001b[0m] \u001b[1mAWAC_online_20250524100259: epoch=5 step=50\u001b[0m \u001b[36mepoch\u001b[0m=\u001b[35m5\u001b[0m \u001b[36mmetrics\u001b[0m=\u001b[35m{'time_inference': 0.00014941692352294923, 'time_environment_step': 0.00026683807373046876, 'time_step': 0.00043108463287353513, 'evaluation': 4.549309146549751}\u001b[0m \u001b[36mstep\u001b[0m=\u001b[35m50\u001b[0m\n",
      "\u001b[2m2025-05-24 10:03.03\u001b[0m [\u001b[32m\u001b[1minfo     \u001b[0m] \u001b[1mModel parameters are saved to training_logs/online/relocate/AWAC_online_20250524100259/model_60.d3\u001b[0m\n",
      "\u001b[2m2025-05-24 10:03.03\u001b[0m [\u001b[32m\u001b[1minfo     \u001b[0m] \u001b[1mAWAC_online_20250524100259: epoch=6 step=60\u001b[0m \u001b[36mepoch\u001b[0m=\u001b[35m6\u001b[0m \u001b[36mmetrics\u001b[0m=\u001b[35m{'time_inference': 0.00028882026672363283, 'time_environment_step': 0.00030307769775390626, 'time_step': 0.0006209850311279297, 'evaluation': 3.9395560949207655}\u001b[0m \u001b[36mstep\u001b[0m=\u001b[35m60\u001b[0m\n",
      "\u001b[2m2025-05-24 10:03.04\u001b[0m [\u001b[32m\u001b[1minfo     \u001b[0m] \u001b[1mModel parameters are saved to training_logs/online/relocate/AWAC_online_20250524100259/model_70.d3\u001b[0m\n",
      "\u001b[2m2025-05-24 10:03.04\u001b[0m [\u001b[32m\u001b[1minfo     \u001b[0m] \u001b[1mAWAC_online_20250524100259: epoch=7 step=70\u001b[0m \u001b[36mepoch\u001b[0m=\u001b[35m7\u001b[0m \u001b[36mmetrics\u001b[0m=\u001b[35m{'time_inference': 0.0002100229263305664, 'time_environment_step': 0.0002900362014770508, 'time_step': 0.000516057014465332, 'evaluation': 3.664690037528227}\u001b[0m \u001b[36mstep\u001b[0m=\u001b[35m70\u001b[0m\n",
      "\u001b[2m2025-05-24 10:03.05\u001b[0m [\u001b[32m\u001b[1minfo     \u001b[0m] \u001b[1mModel parameters are saved to training_logs/online/relocate/AWAC_online_20250524100259/model_80.d3\u001b[0m\n",
      "\u001b[2m2025-05-24 10:03.05\u001b[0m [\u001b[32m\u001b[1minfo     \u001b[0m] \u001b[1mAWAC_online_20250524100259: epoch=8 step=80\u001b[0m \u001b[36mepoch\u001b[0m=\u001b[35m8\u001b[0m \u001b[36mmetrics\u001b[0m=\u001b[35m{'time_inference': 0.00014328956604003906, 'time_environment_step': 0.0003042459487915039, 'time_step': 0.0004599332809448242, 'evaluation': 3.683396808642881}\u001b[0m \u001b[36mstep\u001b[0m=\u001b[35m80\u001b[0m\n",
      "\u001b[2m2025-05-24 10:03.05\u001b[0m [\u001b[32m\u001b[1minfo     \u001b[0m] \u001b[1mModel parameters are saved to training_logs/online/relocate/AWAC_online_20250524100259/model_90.d3\u001b[0m\n",
      "\u001b[2m2025-05-24 10:03.05\u001b[0m [\u001b[32m\u001b[1minfo     \u001b[0m] \u001b[1mAWAC_online_20250524100259: epoch=9 step=90\u001b[0m \u001b[36mepoch\u001b[0m=\u001b[35m9\u001b[0m \u001b[36mmetrics\u001b[0m=\u001b[35m{'time_inference': 0.0001750946044921875, 'time_environment_step': 0.00028526782989501953, 'time_step': 0.0004727602005004883, 'evaluation': 3.52074045533099}\u001b[0m \u001b[36mstep\u001b[0m=\u001b[35m90\u001b[0m\n",
      "\u001b[2m2025-05-24 10:03.06\u001b[0m [\u001b[32m\u001b[1minfo     \u001b[0m] \u001b[1mModel parameters are saved to training_logs/online/relocate/AWAC_online_20250524100259/model_100.d3\u001b[0m\n",
      "\u001b[2m2025-05-24 10:03.06\u001b[0m [\u001b[32m\u001b[1minfo     \u001b[0m] \u001b[1mAWAC_online_20250524100259: epoch=10 step=100\u001b[0m \u001b[36mepoch\u001b[0m=\u001b[35m10\u001b[0m \u001b[36mmetrics\u001b[0m=\u001b[35m{'time_inference': 0.00017287731170654297, 'time_environment_step': 0.0002800941467285156, 'time_step': 0.00046601295471191404, 'evaluation': 3.6223909559206136}\u001b[0m \u001b[36mstep\u001b[0m=\u001b[35m100\u001b[0m\n"
     ]
    }
   ],
   "source": [
    "# Train each algorithm from scratch in an online setting on the Relocate task\n",
    "train_online_algorithm(d3rlpy.algos.IQLConfig, relocate_env, 'relocate_iql', 'relocate')\n",
    "train_online_algorithm(d3rlpy.algos.CQLConfig, relocate_env, 'relocate_cql', 'relocate')\n",
    "train_online_algorithm(d3rlpy.algos.TD3PlusBCConfig, relocate_env, 'relocate_td3bc', 'relocate')\n",
    "train_online_algorithm(d3rlpy.algos.AWACConfig, relocate_env, 'relocate_awac', 'relocate')"
   ]
  },
  {
   "cell_type": "markdown",
   "id": "5e25f16a-af0a-49e5-be45-8869c0409409",
   "metadata": {},
   "source": [
    "### Hammer"
   ]
  },
  {
   "cell_type": "code",
   "execution_count": 8,
   "id": "e405aaea-c517-443a-949a-b6fe67379bb4",
   "metadata": {
    "scrolled": true
   },
   "outputs": [
    {
     "name": "stdout",
     "output_type": "stream",
     "text": [
      "\u001b[2m2025-05-24 10:03.06\u001b[0m [\u001b[32m\u001b[1minfo     \u001b[0m] \u001b[1mSignatures have been automatically determined.\u001b[0m \u001b[36maction_signature\u001b[0m=\u001b[35mSignature(dtype=[dtype('float32')], shape=[(26,)])\u001b[0m \u001b[36mobservation_signature\u001b[0m=\u001b[35mSignature(dtype=[dtype('float64')], shape=[(46,)])\u001b[0m \u001b[36mreward_signature\u001b[0m=\u001b[35mSignature(dtype=[dtype('float32')], shape=[[1]])\u001b[0m\n",
      "\u001b[2m2025-05-24 10:03.06\u001b[0m [\u001b[32m\u001b[1minfo     \u001b[0m] \u001b[1mAction-space has been automatically determined.\u001b[0m \u001b[36maction_space\u001b[0m=\u001b[35m<ActionSpace.CONTINUOUS: 1>\u001b[0m\n",
      "\u001b[2m2025-05-24 10:03.06\u001b[0m [\u001b[32m\u001b[1minfo     \u001b[0m] \u001b[1mAction size has been automatically determined.\u001b[0m \u001b[36maction_size\u001b[0m=\u001b[35m26\u001b[0m\n",
      "\u001b[2m2025-05-24 10:03.06\u001b[0m [\u001b[32m\u001b[1mdebug    \u001b[0m] \u001b[1mBuilding model...             \u001b[0m\n",
      "\u001b[2m2025-05-24 10:03.06\u001b[0m [\u001b[32m\u001b[1mdebug    \u001b[0m] \u001b[1mModel has been built.         \u001b[0m\n",
      "\u001b[2m2025-05-24 10:03.06\u001b[0m [\u001b[32m\u001b[1minfo     \u001b[0m] \u001b[1mDirectory is created at training_logs/online/hammer/IQL_online_20250524100306\u001b[0m\n",
      "\u001b[2m2025-05-24 10:03.06\u001b[0m [\u001b[32m\u001b[1minfo     \u001b[0m] \u001b[1mParameters                    \u001b[0m \u001b[36mparams\u001b[0m=\u001b[35m{'observation_shape': [46], 'action_size': 26, 'config': {'type': 'iql', 'params': {'batch_size': 256, 'gamma': 0.99, 'observation_scaler': {'type': 'none', 'params': {}}, 'action_scaler': {'type': 'none', 'params': {}}, 'reward_scaler': {'type': 'none', 'params': {}}, 'compile_graph': False, 'actor_learning_rate': 0.0003, 'critic_learning_rate': 0.0003, 'actor_optim_factory': {'type': 'adam', 'params': {'clip_grad_norm': None, 'lr_scheduler_factory': {'type': 'none', 'params': {}}, 'betas': [0.9, 0.999], 'eps': 1e-08, 'weight_decay': 0, 'amsgrad': False}}, 'critic_optim_factory': {'type': 'adam', 'params': {'clip_grad_norm': None, 'lr_scheduler_factory': {'type': 'none', 'params': {}}, 'betas': [0.9, 0.999], 'eps': 1e-08, 'weight_decay': 0, 'amsgrad': False}}, 'actor_encoder_factory': {'type': 'default', 'params': {'activation': 'relu', 'use_batch_norm': False, 'dropout_rate': None}}, 'critic_encoder_factory': {'type': 'default', 'params': {'activation': 'relu', 'use_batch_norm': False, 'dropout_rate': None}}, 'value_encoder_factory': {'type': 'default', 'params': {'activation': 'relu', 'use_batch_norm': False, 'dropout_rate': None}}, 'tau': 0.005, 'n_critics': 2, 'expectile': 0.7, 'weight_temp': 3.0, 'max_weight': 100.0}}}\u001b[0m\n"
     ]
    },
    {
     "data": {
      "application/vnd.jupyter.widget-view+json": {
       "model_id": "cf4a0b0e2b6d4ae1b5d47c83c78d7576",
       "version_major": 2,
       "version_minor": 0
      },
      "text/plain": [
       "  0%|          | 0/100 [00:00<?, ?it/s]"
      ]
     },
     "metadata": {},
     "output_type": "display_data"
    },
    {
     "name": "stdout",
     "output_type": "stream",
     "text": [
      "\u001b[2m2025-05-24 10:03.07\u001b[0m [\u001b[32m\u001b[1minfo     \u001b[0m] \u001b[1mModel parameters are saved to training_logs/online/hammer/IQL_online_20250524100306/model_10.d3\u001b[0m\n",
      "\u001b[2m2025-05-24 10:03.07\u001b[0m [\u001b[32m\u001b[1minfo     \u001b[0m] \u001b[1mIQL_online_20250524100306: epoch=1 step=10\u001b[0m \u001b[36mepoch\u001b[0m=\u001b[35m1\u001b[0m \u001b[36mmetrics\u001b[0m=\u001b[35m{'time_inference': 0.0004920005798339844, 'time_environment_step': 0.0005228757858276367, 'time_step': 0.001033186912536621, 'evaluation': -232.1180375663177}\u001b[0m \u001b[36mstep\u001b[0m=\u001b[35m10\u001b[0m\n",
      "\u001b[2m2025-05-24 10:03.07\u001b[0m [\u001b[32m\u001b[1minfo     \u001b[0m] \u001b[1mModel parameters are saved to training_logs/online/hammer/IQL_online_20250524100306/model_20.d3\u001b[0m\n",
      "\u001b[2m2025-05-24 10:03.07\u001b[0m [\u001b[32m\u001b[1minfo     \u001b[0m] \u001b[1mIQL_online_20250524100306: epoch=2 step=20\u001b[0m \u001b[36mepoch\u001b[0m=\u001b[35m2\u001b[0m \u001b[36mmetrics\u001b[0m=\u001b[35m{'time_inference': 0.00011985301971435547, 'time_environment_step': 0.00027914047241210936, 'time_step': 0.0004093408584594727, 'evaluation': -230.2959848448589}\u001b[0m \u001b[36mstep\u001b[0m=\u001b[35m20\u001b[0m\n",
      "\u001b[2m2025-05-24 10:03.08\u001b[0m [\u001b[32m\u001b[1minfo     \u001b[0m] \u001b[1mModel parameters are saved to training_logs/online/hammer/IQL_online_20250524100306/model_30.d3\u001b[0m\n",
      "\u001b[2m2025-05-24 10:03.08\u001b[0m [\u001b[32m\u001b[1minfo     \u001b[0m] \u001b[1mIQL_online_20250524100306: epoch=3 step=30\u001b[0m \u001b[36mepoch\u001b[0m=\u001b[35m3\u001b[0m \u001b[36mmetrics\u001b[0m=\u001b[35m{'time_inference': 0.0003283500671386719, 'time_environment_step': 0.00065155029296875, 'time_step': 0.001006913185119629, 'evaluation': -231.42439775683707}\u001b[0m \u001b[36mstep\u001b[0m=\u001b[35m30\u001b[0m\n",
      "\u001b[2m2025-05-24 10:03.09\u001b[0m [\u001b[32m\u001b[1minfo     \u001b[0m] \u001b[1mModel parameters are saved to training_logs/online/hammer/IQL_online_20250524100306/model_40.d3\u001b[0m\n",
      "\u001b[2m2025-05-24 10:03.09\u001b[0m [\u001b[32m\u001b[1minfo     \u001b[0m] \u001b[1mIQL_online_20250524100306: epoch=4 step=40\u001b[0m \u001b[36mepoch\u001b[0m=\u001b[35m4\u001b[0m \u001b[36mmetrics\u001b[0m=\u001b[35m{'time_inference': 0.00012989044189453124, 'time_environment_step': 0.00033757686614990237, 'time_step': 0.00047876834869384763, 'evaluation': -233.2969136591061}\u001b[0m \u001b[36mstep\u001b[0m=\u001b[35m40\u001b[0m\n",
      "\u001b[2m2025-05-24 10:03.10\u001b[0m [\u001b[32m\u001b[1minfo     \u001b[0m] \u001b[1mModel parameters are saved to training_logs/online/hammer/IQL_online_20250524100306/model_50.d3\u001b[0m\n",
      "\u001b[2m2025-05-24 10:03.10\u001b[0m [\u001b[32m\u001b[1minfo     \u001b[0m] \u001b[1mIQL_online_20250524100306: epoch=5 step=50\u001b[0m \u001b[36mepoch\u001b[0m=\u001b[35m5\u001b[0m \u001b[36mmetrics\u001b[0m=\u001b[35m{'time_inference': 0.00015947818756103515, 'time_environment_step': 0.00035030841827392577, 'time_step': 0.0005210399627685547, 'evaluation': -232.04818246949034}\u001b[0m \u001b[36mstep\u001b[0m=\u001b[35m50\u001b[0m\n",
      "\u001b[2m2025-05-24 10:03.11\u001b[0m [\u001b[32m\u001b[1minfo     \u001b[0m] \u001b[1mModel parameters are saved to training_logs/online/hammer/IQL_online_20250524100306/model_60.d3\u001b[0m\n",
      "\u001b[2m2025-05-24 10:03.11\u001b[0m [\u001b[32m\u001b[1minfo     \u001b[0m] \u001b[1mIQL_online_20250524100306: epoch=6 step=60\u001b[0m \u001b[36mepoch\u001b[0m=\u001b[35m6\u001b[0m \u001b[36mmetrics\u001b[0m=\u001b[35m{'time_inference': 0.0001687288284301758, 'time_environment_step': 0.0004408836364746094, 'time_step': 0.0006262063980102539, 'evaluation': -229.10195343683228}\u001b[0m \u001b[36mstep\u001b[0m=\u001b[35m60\u001b[0m\n",
      "\u001b[2m2025-05-24 10:03.11\u001b[0m [\u001b[32m\u001b[1minfo     \u001b[0m] \u001b[1mModel parameters are saved to training_logs/online/hammer/IQL_online_20250524100306/model_70.d3\u001b[0m\n",
      "\u001b[2m2025-05-24 10:03.11\u001b[0m [\u001b[32m\u001b[1minfo     \u001b[0m] \u001b[1mIQL_online_20250524100306: epoch=7 step=70\u001b[0m \u001b[36mepoch\u001b[0m=\u001b[35m7\u001b[0m \u001b[36mmetrics\u001b[0m=\u001b[35m{'time_inference': 0.0002142190933227539, 'time_environment_step': 0.0003098964691162109, 'time_step': 0.0005343914031982422, 'evaluation': -232.1854304264496}\u001b[0m \u001b[36mstep\u001b[0m=\u001b[35m70\u001b[0m\n",
      "\u001b[2m2025-05-24 10:03.12\u001b[0m [\u001b[32m\u001b[1minfo     \u001b[0m] \u001b[1mModel parameters are saved to training_logs/online/hammer/IQL_online_20250524100306/model_80.d3\u001b[0m\n",
      "\u001b[2m2025-05-24 10:03.12\u001b[0m [\u001b[32m\u001b[1minfo     \u001b[0m] \u001b[1mIQL_online_20250524100306: epoch=8 step=80\u001b[0m \u001b[36mepoch\u001b[0m=\u001b[35m8\u001b[0m \u001b[36mmetrics\u001b[0m=\u001b[35m{'time_inference': 0.00013811588287353515, 'time_environment_step': 0.0003206014633178711, 'time_step': 0.0004694938659667969, 'evaluation': -231.82020309418}\u001b[0m \u001b[36mstep\u001b[0m=\u001b[35m80\u001b[0m\n",
      "\u001b[2m2025-05-24 10:03.13\u001b[0m [\u001b[32m\u001b[1minfo     \u001b[0m] \u001b[1mModel parameters are saved to training_logs/online/hammer/IQL_online_20250524100306/model_90.d3\u001b[0m\n",
      "\u001b[2m2025-05-24 10:03.13\u001b[0m [\u001b[32m\u001b[1minfo     \u001b[0m] \u001b[1mIQL_online_20250524100306: epoch=9 step=90\u001b[0m \u001b[36mepoch\u001b[0m=\u001b[35m9\u001b[0m \u001b[36mmetrics\u001b[0m=\u001b[35m{'time_inference': 0.0001616239547729492, 'time_environment_step': 0.00043103694915771487, 'time_step': 0.0006154298782348633, 'evaluation': -231.29917059462053}\u001b[0m \u001b[36mstep\u001b[0m=\u001b[35m90\u001b[0m\n",
      "\u001b[2m2025-05-24 10:03.14\u001b[0m [\u001b[32m\u001b[1minfo     \u001b[0m] \u001b[1mModel parameters are saved to training_logs/online/hammer/IQL_online_20250524100306/model_100.d3\u001b[0m\n",
      "\u001b[2m2025-05-24 10:03.14\u001b[0m [\u001b[32m\u001b[1minfo     \u001b[0m] \u001b[1mIQL_online_20250524100306: epoch=10 step=100\u001b[0m \u001b[36mepoch\u001b[0m=\u001b[35m10\u001b[0m \u001b[36mmetrics\u001b[0m=\u001b[35m{'time_inference': 0.00013833045959472657, 'time_environment_step': 0.00030303001403808594, 'time_step': 0.00045125484466552735, 'evaluation': -232.99676784768926}\u001b[0m \u001b[36mstep\u001b[0m=\u001b[35m100\u001b[0m\n",
      "\u001b[2m2025-05-24 10:03.14\u001b[0m [\u001b[32m\u001b[1minfo     \u001b[0m] \u001b[1mSignatures have been automatically determined.\u001b[0m \u001b[36maction_signature\u001b[0m=\u001b[35mSignature(dtype=[dtype('float32')], shape=[(26,)])\u001b[0m \u001b[36mobservation_signature\u001b[0m=\u001b[35mSignature(dtype=[dtype('float64')], shape=[(46,)])\u001b[0m \u001b[36mreward_signature\u001b[0m=\u001b[35mSignature(dtype=[dtype('float32')], shape=[[1]])\u001b[0m\n",
      "\u001b[2m2025-05-24 10:03.14\u001b[0m [\u001b[32m\u001b[1minfo     \u001b[0m] \u001b[1mAction-space has been automatically determined.\u001b[0m \u001b[36maction_space\u001b[0m=\u001b[35m<ActionSpace.CONTINUOUS: 1>\u001b[0m\n",
      "\u001b[2m2025-05-24 10:03.14\u001b[0m [\u001b[32m\u001b[1minfo     \u001b[0m] \u001b[1mAction size has been automatically determined.\u001b[0m \u001b[36maction_size\u001b[0m=\u001b[35m26\u001b[0m\n",
      "\u001b[2m2025-05-24 10:03.14\u001b[0m [\u001b[32m\u001b[1mdebug    \u001b[0m] \u001b[1mBuilding model...             \u001b[0m\n",
      "\u001b[2m2025-05-24 10:03.14\u001b[0m [\u001b[32m\u001b[1mdebug    \u001b[0m] \u001b[1mModel has been built.         \u001b[0m\n",
      "\u001b[2m2025-05-24 10:03.14\u001b[0m [\u001b[32m\u001b[1minfo     \u001b[0m] \u001b[1mDirectory is created at training_logs/online/hammer/CQL_online_20250524100314\u001b[0m\n",
      "\u001b[2m2025-05-24 10:03.14\u001b[0m [\u001b[32m\u001b[1minfo     \u001b[0m] \u001b[1mParameters                    \u001b[0m \u001b[36mparams\u001b[0m=\u001b[35m{'observation_shape': [46], 'action_size': 26, 'config': {'type': 'cql', 'params': {'batch_size': 256, 'gamma': 0.99, 'observation_scaler': {'type': 'none', 'params': {}}, 'action_scaler': {'type': 'none', 'params': {}}, 'reward_scaler': {'type': 'none', 'params': {}}, 'compile_graph': False, 'actor_learning_rate': 0.0001, 'critic_learning_rate': 0.0003, 'temp_learning_rate': 0.0001, 'alpha_learning_rate': 0.0001, 'actor_optim_factory': {'type': 'adam', 'params': {'clip_grad_norm': None, 'lr_scheduler_factory': {'type': 'none', 'params': {}}, 'betas': [0.9, 0.999], 'eps': 1e-08, 'weight_decay': 0, 'amsgrad': False}}, 'critic_optim_factory': {'type': 'adam', 'params': {'clip_grad_norm': None, 'lr_scheduler_factory': {'type': 'none', 'params': {}}, 'betas': [0.9, 0.999], 'eps': 1e-08, 'weight_decay': 0, 'amsgrad': False}}, 'temp_optim_factory': {'type': 'adam', 'params': {'clip_grad_norm': None, 'lr_scheduler_factory': {'type': 'none', 'params': {}}, 'betas': [0.9, 0.999], 'eps': 1e-08, 'weight_decay': 0, 'amsgrad': False}}, 'alpha_optim_factory': {'type': 'adam', 'params': {'clip_grad_norm': None, 'lr_scheduler_factory': {'type': 'none', 'params': {}}, 'betas': [0.9, 0.999], 'eps': 1e-08, 'weight_decay': 0, 'amsgrad': False}}, 'actor_encoder_factory': {'type': 'default', 'params': {'activation': 'relu', 'use_batch_norm': False, 'dropout_rate': None}}, 'critic_encoder_factory': {'type': 'default', 'params': {'activation': 'relu', 'use_batch_norm': False, 'dropout_rate': None}}, 'q_func_factory': {'type': 'mean', 'params': {'share_encoder': False}}, 'tau': 0.005, 'n_critics': 2, 'initial_temperature': 1.0, 'initial_alpha': 1.0, 'alpha_threshold': 10.0, 'conservative_weight': 5.0, 'n_action_samples': 10, 'soft_q_backup': False, 'max_q_backup': False}}}\u001b[0m\n"
     ]
    },
    {
     "data": {
      "application/vnd.jupyter.widget-view+json": {
       "model_id": "d9d0b3eb906c4dccb1c94f323d864ea5",
       "version_major": 2,
       "version_minor": 0
      },
      "text/plain": [
       "  0%|          | 0/100 [00:00<?, ?it/s]"
      ]
     },
     "metadata": {},
     "output_type": "display_data"
    },
    {
     "name": "stdout",
     "output_type": "stream",
     "text": [
      "\u001b[2m2025-05-24 10:03.15\u001b[0m [\u001b[32m\u001b[1minfo     \u001b[0m] \u001b[1mModel parameters are saved to training_logs/online/hammer/CQL_online_20250524100314/model_10.d3\u001b[0m\n",
      "\u001b[2m2025-05-24 10:03.15\u001b[0m [\u001b[32m\u001b[1minfo     \u001b[0m] \u001b[1mCQL_online_20250524100314: epoch=1 step=10\u001b[0m \u001b[36mepoch\u001b[0m=\u001b[35m1\u001b[0m \u001b[36mmetrics\u001b[0m=\u001b[35m{'time_inference': 0.00037066936492919923, 'time_environment_step': 0.0005822896957397461, 'time_step': 0.0009709358215332031, 'evaluation': -233.98824440007053}\u001b[0m \u001b[36mstep\u001b[0m=\u001b[35m10\u001b[0m\n",
      "\u001b[2m2025-05-24 10:03.15\u001b[0m [\u001b[32m\u001b[1minfo     \u001b[0m] \u001b[1mModel parameters are saved to training_logs/online/hammer/CQL_online_20250524100314/model_20.d3\u001b[0m\n",
      "\u001b[2m2025-05-24 10:03.15\u001b[0m [\u001b[32m\u001b[1minfo     \u001b[0m] \u001b[1mCQL_online_20250524100314: epoch=2 step=20\u001b[0m \u001b[36mepoch\u001b[0m=\u001b[35m2\u001b[0m \u001b[36mmetrics\u001b[0m=\u001b[35m{'time_inference': 0.0003164529800415039, 'time_environment_step': 0.000534677505493164, 'time_step': 0.0008699893951416016, 'evaluation': -230.1890783324945}\u001b[0m \u001b[36mstep\u001b[0m=\u001b[35m20\u001b[0m\n",
      "\u001b[2m2025-05-24 10:03.16\u001b[0m [\u001b[32m\u001b[1minfo     \u001b[0m] \u001b[1mModel parameters are saved to training_logs/online/hammer/CQL_online_20250524100314/model_30.d3\u001b[0m\n",
      "\u001b[2m2025-05-24 10:03.16\u001b[0m [\u001b[32m\u001b[1minfo     \u001b[0m] \u001b[1mCQL_online_20250524100314: epoch=3 step=30\u001b[0m \u001b[36mepoch\u001b[0m=\u001b[35m3\u001b[0m \u001b[36mmetrics\u001b[0m=\u001b[35m{'time_inference': 0.00019195079803466797, 'time_environment_step': 0.0002965211868286133, 'time_step': 0.0005029439926147461, 'evaluation': -234.58017285487145}\u001b[0m \u001b[36mstep\u001b[0m=\u001b[35m30\u001b[0m\n",
      "\u001b[2m2025-05-24 10:03.17\u001b[0m [\u001b[32m\u001b[1minfo     \u001b[0m] \u001b[1mModel parameters are saved to training_logs/online/hammer/CQL_online_20250524100314/model_40.d3\u001b[0m\n",
      "\u001b[2m2025-05-24 10:03.17\u001b[0m [\u001b[32m\u001b[1minfo     \u001b[0m] \u001b[1mCQL_online_20250524100314: epoch=4 step=40\u001b[0m \u001b[36mepoch\u001b[0m=\u001b[35m4\u001b[0m \u001b[36mmetrics\u001b[0m=\u001b[35m{'time_inference': 0.00015869140625, 'time_environment_step': 0.00033516883850097655, 'time_step': 0.000504612922668457, 'evaluation': -232.93880339525208}\u001b[0m \u001b[36mstep\u001b[0m=\u001b[35m40\u001b[0m\n",
      "\u001b[2m2025-05-24 10:03.17\u001b[0m [\u001b[32m\u001b[1minfo     \u001b[0m] \u001b[1mModel parameters are saved to training_logs/online/hammer/CQL_online_20250524100314/model_50.d3\u001b[0m\n",
      "\u001b[2m2025-05-24 10:03.17\u001b[0m [\u001b[32m\u001b[1minfo     \u001b[0m] \u001b[1mCQL_online_20250524100314: epoch=5 step=50\u001b[0m \u001b[36mepoch\u001b[0m=\u001b[35m5\u001b[0m \u001b[36mmetrics\u001b[0m=\u001b[35m{'time_inference': 0.00013332366943359376, 'time_environment_step': 0.000322723388671875, 'time_step': 0.0004673480987548828, 'evaluation': -229.34203158499471}\u001b[0m \u001b[36mstep\u001b[0m=\u001b[35m50\u001b[0m\n",
      "\u001b[2m2025-05-24 10:03.18\u001b[0m [\u001b[32m\u001b[1minfo     \u001b[0m] \u001b[1mModel parameters are saved to training_logs/online/hammer/CQL_online_20250524100314/model_60.d3\u001b[0m\n",
      "\u001b[2m2025-05-24 10:03.18\u001b[0m [\u001b[32m\u001b[1minfo     \u001b[0m] \u001b[1mCQL_online_20250524100314: epoch=6 step=60\u001b[0m \u001b[36mepoch\u001b[0m=\u001b[35m6\u001b[0m \u001b[36mmetrics\u001b[0m=\u001b[35m{'time_inference': 0.00011701583862304688, 'time_environment_step': 0.0003653287887573242, 'time_step': 0.0004916906356811524, 'evaluation': -231.19007634586265}\u001b[0m \u001b[36mstep\u001b[0m=\u001b[35m60\u001b[0m\n",
      "\u001b[2m2025-05-24 10:03.19\u001b[0m [\u001b[32m\u001b[1minfo     \u001b[0m] \u001b[1mModel parameters are saved to training_logs/online/hammer/CQL_online_20250524100314/model_70.d3\u001b[0m\n",
      "\u001b[2m2025-05-24 10:03.19\u001b[0m [\u001b[32m\u001b[1minfo     \u001b[0m] \u001b[1mCQL_online_20250524100314: epoch=7 step=70\u001b[0m \u001b[36mepoch\u001b[0m=\u001b[35m7\u001b[0m \u001b[36mmetrics\u001b[0m=\u001b[35m{'time_inference': 0.0001543283462524414, 'time_environment_step': 0.0003901481628417969, 'time_step': 0.000556182861328125, 'evaluation': -231.99877329032998}\u001b[0m \u001b[36mstep\u001b[0m=\u001b[35m70\u001b[0m\n",
      "\u001b[2m2025-05-24 10:03.19\u001b[0m [\u001b[32m\u001b[1minfo     \u001b[0m] \u001b[1mModel parameters are saved to training_logs/online/hammer/CQL_online_20250524100314/model_80.d3\u001b[0m\n",
      "\u001b[2m2025-05-24 10:03.19\u001b[0m [\u001b[32m\u001b[1minfo     \u001b[0m] \u001b[1mCQL_online_20250524100314: epoch=8 step=80\u001b[0m \u001b[36mepoch\u001b[0m=\u001b[35m8\u001b[0m \u001b[36mmetrics\u001b[0m=\u001b[35m{'time_inference': 0.00010905265808105468, 'time_environment_step': 0.00027658939361572263, 'time_step': 0.00039517879486083984, 'evaluation': -233.64040230672353}\u001b[0m \u001b[36mstep\u001b[0m=\u001b[35m80\u001b[0m\n",
      "\u001b[2m2025-05-24 10:03.20\u001b[0m [\u001b[32m\u001b[1minfo     \u001b[0m] \u001b[1mModel parameters are saved to training_logs/online/hammer/CQL_online_20250524100314/model_90.d3\u001b[0m\n",
      "\u001b[2m2025-05-24 10:03.20\u001b[0m [\u001b[32m\u001b[1minfo     \u001b[0m] \u001b[1mCQL_online_20250524100314: epoch=9 step=90\u001b[0m \u001b[36mepoch\u001b[0m=\u001b[35m9\u001b[0m \u001b[36mmetrics\u001b[0m=\u001b[35m{'time_inference': 0.0001422405242919922, 'time_environment_step': 0.0002865314483642578, 'time_step': 0.00043981075286865235, 'evaluation': -235.5171806151348}\u001b[0m \u001b[36mstep\u001b[0m=\u001b[35m90\u001b[0m\n",
      "\u001b[2m2025-05-24 10:03.21\u001b[0m [\u001b[32m\u001b[1minfo     \u001b[0m] \u001b[1mModel parameters are saved to training_logs/online/hammer/CQL_online_20250524100314/model_100.d3\u001b[0m\n",
      "\u001b[2m2025-05-24 10:03.21\u001b[0m [\u001b[32m\u001b[1minfo     \u001b[0m] \u001b[1mCQL_online_20250524100314: epoch=10 step=100\u001b[0m \u001b[36mepoch\u001b[0m=\u001b[35m10\u001b[0m \u001b[36mmetrics\u001b[0m=\u001b[35m{'time_inference': 0.00011112689971923829, 'time_environment_step': 0.0002733469009399414, 'time_step': 0.00039491653442382815, 'evaluation': -231.36464624559804}\u001b[0m \u001b[36mstep\u001b[0m=\u001b[35m100\u001b[0m\n",
      "\u001b[2m2025-05-24 10:03.21\u001b[0m [\u001b[32m\u001b[1minfo     \u001b[0m] \u001b[1mSignatures have been automatically determined.\u001b[0m \u001b[36maction_signature\u001b[0m=\u001b[35mSignature(dtype=[dtype('float32')], shape=[(26,)])\u001b[0m \u001b[36mobservation_signature\u001b[0m=\u001b[35mSignature(dtype=[dtype('float64')], shape=[(46,)])\u001b[0m \u001b[36mreward_signature\u001b[0m=\u001b[35mSignature(dtype=[dtype('float32')], shape=[[1]])\u001b[0m\n",
      "\u001b[2m2025-05-24 10:03.21\u001b[0m [\u001b[32m\u001b[1minfo     \u001b[0m] \u001b[1mAction-space has been automatically determined.\u001b[0m \u001b[36maction_space\u001b[0m=\u001b[35m<ActionSpace.CONTINUOUS: 1>\u001b[0m\n",
      "\u001b[2m2025-05-24 10:03.21\u001b[0m [\u001b[32m\u001b[1minfo     \u001b[0m] \u001b[1mAction size has been automatically determined.\u001b[0m \u001b[36maction_size\u001b[0m=\u001b[35m26\u001b[0m\n",
      "\u001b[2m2025-05-24 10:03.21\u001b[0m [\u001b[32m\u001b[1mdebug    \u001b[0m] \u001b[1mBuilding model...             \u001b[0m\n",
      "\u001b[2m2025-05-24 10:03.21\u001b[0m [\u001b[32m\u001b[1mdebug    \u001b[0m] \u001b[1mModel has been built.         \u001b[0m\n",
      "\u001b[2m2025-05-24 10:03.21\u001b[0m [\u001b[32m\u001b[1minfo     \u001b[0m] \u001b[1mDirectory is created at training_logs/online/hammer/TD3PlusBC_online_20250524100321\u001b[0m\n",
      "\u001b[2m2025-05-24 10:03.21\u001b[0m [\u001b[32m\u001b[1minfo     \u001b[0m] \u001b[1mParameters                    \u001b[0m \u001b[36mparams\u001b[0m=\u001b[35m{'observation_shape': [46], 'action_size': 26, 'config': {'type': 'td3_plus_bc', 'params': {'batch_size': 256, 'gamma': 0.99, 'observation_scaler': {'type': 'none', 'params': {}}, 'action_scaler': {'type': 'none', 'params': {}}, 'reward_scaler': {'type': 'none', 'params': {}}, 'compile_graph': False, 'actor_learning_rate': 0.0003, 'critic_learning_rate': 0.0003, 'actor_optim_factory': {'type': 'adam', 'params': {'clip_grad_norm': None, 'lr_scheduler_factory': {'type': 'none', 'params': {}}, 'betas': [0.9, 0.999], 'eps': 1e-08, 'weight_decay': 0, 'amsgrad': False}}, 'critic_optim_factory': {'type': 'adam', 'params': {'clip_grad_norm': None, 'lr_scheduler_factory': {'type': 'none', 'params': {}}, 'betas': [0.9, 0.999], 'eps': 1e-08, 'weight_decay': 0, 'amsgrad': False}}, 'actor_encoder_factory': {'type': 'default', 'params': {'activation': 'relu', 'use_batch_norm': False, 'dropout_rate': None}}, 'critic_encoder_factory': {'type': 'default', 'params': {'activation': 'relu', 'use_batch_norm': False, 'dropout_rate': None}}, 'q_func_factory': {'type': 'mean', 'params': {'share_encoder': False}}, 'tau': 0.005, 'n_critics': 2, 'target_smoothing_sigma': 0.2, 'target_smoothing_clip': 0.5, 'alpha': 2.5, 'update_actor_interval': 2}}}\u001b[0m\n"
     ]
    },
    {
     "data": {
      "application/vnd.jupyter.widget-view+json": {
       "model_id": "ca7db482e7fb49a6a86a41c86ec06fb5",
       "version_major": 2,
       "version_minor": 0
      },
      "text/plain": [
       "  0%|          | 0/100 [00:00<?, ?it/s]"
      ]
     },
     "metadata": {},
     "output_type": "display_data"
    },
    {
     "name": "stdout",
     "output_type": "stream",
     "text": [
      "\u001b[2m2025-05-24 10:03.21\u001b[0m [\u001b[32m\u001b[1minfo     \u001b[0m] \u001b[1mModel parameters are saved to training_logs/online/hammer/TD3PlusBC_online_20250524100321/model_10.d3\u001b[0m\n",
      "\u001b[2m2025-05-24 10:03.21\u001b[0m [\u001b[32m\u001b[1minfo     \u001b[0m] \u001b[1mTD3PlusBC_online_20250524100321: epoch=1 step=10\u001b[0m \u001b[36mepoch\u001b[0m=\u001b[35m1\u001b[0m \u001b[36mmetrics\u001b[0m=\u001b[35m{'time_inference': 0.000247955322265625, 'time_environment_step': 0.0004309415817260742, 'time_step': 0.0006973743438720703, 'evaluation': -230.76406042923713}\u001b[0m \u001b[36mstep\u001b[0m=\u001b[35m10\u001b[0m\n",
      "\u001b[2m2025-05-24 10:03.22\u001b[0m [\u001b[32m\u001b[1minfo     \u001b[0m] \u001b[1mModel parameters are saved to training_logs/online/hammer/TD3PlusBC_online_20250524100321/model_20.d3\u001b[0m\n",
      "\u001b[2m2025-05-24 10:03.22\u001b[0m [\u001b[32m\u001b[1minfo     \u001b[0m] \u001b[1mTD3PlusBC_online_20250524100321: epoch=2 step=20\u001b[0m \u001b[36mepoch\u001b[0m=\u001b[35m2\u001b[0m \u001b[36mmetrics\u001b[0m=\u001b[35m{'time_inference': 0.00010483264923095703, 'time_environment_step': 0.0003906965255737305, 'time_step': 0.0005073308944702149, 'evaluation': -230.40906716381852}\u001b[0m \u001b[36mstep\u001b[0m=\u001b[35m20\u001b[0m\n",
      "\u001b[2m2025-05-24 10:03.22\u001b[0m [\u001b[32m\u001b[1minfo     \u001b[0m] \u001b[1mModel parameters are saved to training_logs/online/hammer/TD3PlusBC_online_20250524100321/model_30.d3\u001b[0m\n",
      "\u001b[2m2025-05-24 10:03.22\u001b[0m [\u001b[32m\u001b[1minfo     \u001b[0m] \u001b[1mTD3PlusBC_online_20250524100321: epoch=3 step=30\u001b[0m \u001b[36mepoch\u001b[0m=\u001b[35m3\u001b[0m \u001b[36mmetrics\u001b[0m=\u001b[35m{'time_inference': 9.729862213134766e-05, 'time_environment_step': 0.00026569366455078127, 'time_step': 0.00037152767181396483, 'evaluation': -232.30760391883723}\u001b[0m \u001b[36mstep\u001b[0m=\u001b[35m30\u001b[0m\n",
      "\u001b[2m2025-05-24 10:03.23\u001b[0m [\u001b[32m\u001b[1minfo     \u001b[0m] \u001b[1mModel parameters are saved to training_logs/online/hammer/TD3PlusBC_online_20250524100321/model_40.d3\u001b[0m\n",
      "\u001b[2m2025-05-24 10:03.23\u001b[0m [\u001b[32m\u001b[1minfo     \u001b[0m] \u001b[1mTD3PlusBC_online_20250524100321: epoch=4 step=40\u001b[0m \u001b[36mepoch\u001b[0m=\u001b[35m4\u001b[0m \u001b[36mmetrics\u001b[0m=\u001b[35m{'time_inference': 0.00011029243469238282, 'time_environment_step': 0.00034894943237304685, 'time_step': 0.00046813488006591797, 'evaluation': -230.12861942391905}\u001b[0m \u001b[36mstep\u001b[0m=\u001b[35m40\u001b[0m\n",
      "\u001b[2m2025-05-24 10:03.24\u001b[0m [\u001b[32m\u001b[1minfo     \u001b[0m] \u001b[1mModel parameters are saved to training_logs/online/hammer/TD3PlusBC_online_20250524100321/model_50.d3\u001b[0m\n",
      "\u001b[2m2025-05-24 10:03.24\u001b[0m [\u001b[32m\u001b[1minfo     \u001b[0m] \u001b[1mTD3PlusBC_online_20250524100321: epoch=5 step=50\u001b[0m \u001b[36mepoch\u001b[0m=\u001b[35m5\u001b[0m \u001b[36mmetrics\u001b[0m=\u001b[35m{'time_inference': 0.00010318756103515625, 'time_environment_step': 0.0003648996353149414, 'time_step': 0.00047833919525146483, 'evaluation': -234.3737688256444}\u001b[0m \u001b[36mstep\u001b[0m=\u001b[35m50\u001b[0m\n",
      "\u001b[2m2025-05-24 10:03.24\u001b[0m [\u001b[32m\u001b[1minfo     \u001b[0m] \u001b[1mModel parameters are saved to training_logs/online/hammer/TD3PlusBC_online_20250524100321/model_60.d3\u001b[0m\n",
      "\u001b[2m2025-05-24 10:03.24\u001b[0m [\u001b[32m\u001b[1minfo     \u001b[0m] \u001b[1mTD3PlusBC_online_20250524100321: epoch=6 step=60\u001b[0m \u001b[36mepoch\u001b[0m=\u001b[35m6\u001b[0m \u001b[36mmetrics\u001b[0m=\u001b[35m{'time_inference': 9.086132049560547e-05, 'time_environment_step': 0.00030367374420166017, 'time_step': 0.000403594970703125, 'evaluation': -233.23008653274997}\u001b[0m \u001b[36mstep\u001b[0m=\u001b[35m60\u001b[0m\n",
      "\u001b[2m2025-05-24 10:03.25\u001b[0m [\u001b[32m\u001b[1minfo     \u001b[0m] \u001b[1mModel parameters are saved to training_logs/online/hammer/TD3PlusBC_online_20250524100321/model_70.d3\u001b[0m\n",
      "\u001b[2m2025-05-24 10:03.25\u001b[0m [\u001b[32m\u001b[1minfo     \u001b[0m] \u001b[1mTD3PlusBC_online_20250524100321: epoch=7 step=70\u001b[0m \u001b[36mepoch\u001b[0m=\u001b[35m7\u001b[0m \u001b[36mmetrics\u001b[0m=\u001b[35m{'time_inference': 0.00017900466918945311, 'time_environment_step': 0.00039606094360351564, 'time_step': 0.000590372085571289, 'evaluation': -233.9858702271289}\u001b[0m \u001b[36mstep\u001b[0m=\u001b[35m70\u001b[0m\n",
      "\u001b[2m2025-05-24 10:03.26\u001b[0m [\u001b[32m\u001b[1minfo     \u001b[0m] \u001b[1mModel parameters are saved to training_logs/online/hammer/TD3PlusBC_online_20250524100321/model_80.d3\u001b[0m\n",
      "\u001b[2m2025-05-24 10:03.26\u001b[0m [\u001b[32m\u001b[1minfo     \u001b[0m] \u001b[1mTD3PlusBC_online_20250524100321: epoch=8 step=80\u001b[0m \u001b[36mepoch\u001b[0m=\u001b[35m8\u001b[0m \u001b[36mmetrics\u001b[0m=\u001b[35m{'time_inference': 0.00013413429260253907, 'time_environment_step': 0.0003376483917236328, 'time_step': 0.00048351287841796875, 'evaluation': -232.12232020645598}\u001b[0m \u001b[36mstep\u001b[0m=\u001b[35m80\u001b[0m\n",
      "\u001b[2m2025-05-24 10:03.26\u001b[0m [\u001b[32m\u001b[1minfo     \u001b[0m] \u001b[1mModel parameters are saved to training_logs/online/hammer/TD3PlusBC_online_20250524100321/model_90.d3\u001b[0m\n",
      "\u001b[2m2025-05-24 10:03.26\u001b[0m [\u001b[32m\u001b[1minfo     \u001b[0m] \u001b[1mTD3PlusBC_online_20250524100321: epoch=9 step=90\u001b[0m \u001b[36mepoch\u001b[0m=\u001b[35m9\u001b[0m \u001b[36mmetrics\u001b[0m=\u001b[35m{'time_inference': 0.0001285552978515625, 'time_environment_step': 0.0003795623779296875, 'time_step': 0.0005219459533691406, 'evaluation': -232.54966974441146}\u001b[0m \u001b[36mstep\u001b[0m=\u001b[35m90\u001b[0m\n",
      "\u001b[2m2025-05-24 10:03.27\u001b[0m [\u001b[32m\u001b[1minfo     \u001b[0m] \u001b[1mModel parameters are saved to training_logs/online/hammer/TD3PlusBC_online_20250524100321/model_100.d3\u001b[0m\n",
      "\u001b[2m2025-05-24 10:03.27\u001b[0m [\u001b[32m\u001b[1minfo     \u001b[0m] \u001b[1mTD3PlusBC_online_20250524100321: epoch=10 step=100\u001b[0m \u001b[36mepoch\u001b[0m=\u001b[35m10\u001b[0m \u001b[36mmetrics\u001b[0m=\u001b[35m{'time_inference': 0.0001171112060546875, 'time_environment_step': 0.00029816627502441404, 'time_step': 0.000426793098449707, 'evaluation': -232.98477843550228}\u001b[0m \u001b[36mstep\u001b[0m=\u001b[35m100\u001b[0m\n",
      "\u001b[2m2025-05-24 10:03.27\u001b[0m [\u001b[32m\u001b[1minfo     \u001b[0m] \u001b[1mSignatures have been automatically determined.\u001b[0m \u001b[36maction_signature\u001b[0m=\u001b[35mSignature(dtype=[dtype('float32')], shape=[(26,)])\u001b[0m \u001b[36mobservation_signature\u001b[0m=\u001b[35mSignature(dtype=[dtype('float64')], shape=[(46,)])\u001b[0m \u001b[36mreward_signature\u001b[0m=\u001b[35mSignature(dtype=[dtype('float32')], shape=[[1]])\u001b[0m\n",
      "\u001b[2m2025-05-24 10:03.27\u001b[0m [\u001b[32m\u001b[1minfo     \u001b[0m] \u001b[1mAction-space has been automatically determined.\u001b[0m \u001b[36maction_space\u001b[0m=\u001b[35m<ActionSpace.CONTINUOUS: 1>\u001b[0m\n",
      "\u001b[2m2025-05-24 10:03.27\u001b[0m [\u001b[32m\u001b[1minfo     \u001b[0m] \u001b[1mAction size has been automatically determined.\u001b[0m \u001b[36maction_size\u001b[0m=\u001b[35m26\u001b[0m\n",
      "\u001b[2m2025-05-24 10:03.27\u001b[0m [\u001b[32m\u001b[1mdebug    \u001b[0m] \u001b[1mBuilding model...             \u001b[0m\n",
      "\u001b[2m2025-05-24 10:03.27\u001b[0m [\u001b[32m\u001b[1mdebug    \u001b[0m] \u001b[1mModel has been built.         \u001b[0m\n",
      "\u001b[2m2025-05-24 10:03.27\u001b[0m [\u001b[32m\u001b[1minfo     \u001b[0m] \u001b[1mDirectory is created at training_logs/online/hammer/AWAC_online_20250524100327\u001b[0m\n",
      "\u001b[2m2025-05-24 10:03.27\u001b[0m [\u001b[32m\u001b[1minfo     \u001b[0m] \u001b[1mParameters                    \u001b[0m \u001b[36mparams\u001b[0m=\u001b[35m{'observation_shape': [46], 'action_size': 26, 'config': {'type': 'awac', 'params': {'batch_size': 1024, 'gamma': 0.99, 'observation_scaler': {'type': 'none', 'params': {}}, 'action_scaler': {'type': 'none', 'params': {}}, 'reward_scaler': {'type': 'none', 'params': {}}, 'compile_graph': False, 'actor_learning_rate': 0.0003, 'critic_learning_rate': 0.0003, 'actor_optim_factory': {'type': 'adam', 'params': {'clip_grad_norm': None, 'lr_scheduler_factory': {'type': 'none', 'params': {}}, 'betas': [0.9, 0.999], 'eps': 1e-08, 'weight_decay': 0, 'amsgrad': False}}, 'critic_optim_factory': {'type': 'adam', 'params': {'clip_grad_norm': None, 'lr_scheduler_factory': {'type': 'none', 'params': {}}, 'betas': [0.9, 0.999], 'eps': 1e-08, 'weight_decay': 0, 'amsgrad': False}}, 'actor_encoder_factory': {'type': 'default', 'params': {'activation': 'relu', 'use_batch_norm': False, 'dropout_rate': None}}, 'critic_encoder_factory': {'type': 'default', 'params': {'activation': 'relu', 'use_batch_norm': False, 'dropout_rate': None}}, 'q_func_factory': {'type': 'mean', 'params': {'share_encoder': False}}, 'tau': 0.005, 'lam': 1.0, 'n_action_samples': 1, 'n_critics': 2}}}\u001b[0m\n"
     ]
    },
    {
     "data": {
      "application/vnd.jupyter.widget-view+json": {
       "model_id": "997f62b5de33406fb13f2210bb2a43ea",
       "version_major": 2,
       "version_minor": 0
      },
      "text/plain": [
       "  0%|          | 0/100 [00:00<?, ?it/s]"
      ]
     },
     "metadata": {},
     "output_type": "display_data"
    },
    {
     "name": "stdout",
     "output_type": "stream",
     "text": [
      "\u001b[2m2025-05-24 10:03.28\u001b[0m [\u001b[32m\u001b[1minfo     \u001b[0m] \u001b[1mModel parameters are saved to training_logs/online/hammer/AWAC_online_20250524100327/model_10.d3\u001b[0m\n",
      "\u001b[2m2025-05-24 10:03.28\u001b[0m [\u001b[32m\u001b[1minfo     \u001b[0m] \u001b[1mAWAC_online_20250524100327: epoch=1 step=10\u001b[0m \u001b[36mepoch\u001b[0m=\u001b[35m1\u001b[0m \u001b[36mmetrics\u001b[0m=\u001b[35m{'time_inference': 0.0001842021942138672, 'time_environment_step': 0.00030171871185302734, 'time_step': 0.0004950523376464844, 'evaluation': -232.7513458907776}\u001b[0m \u001b[36mstep\u001b[0m=\u001b[35m10\u001b[0m\n",
      "\u001b[2m2025-05-24 10:03.28\u001b[0m [\u001b[32m\u001b[1minfo     \u001b[0m] \u001b[1mModel parameters are saved to training_logs/online/hammer/AWAC_online_20250524100327/model_20.d3\u001b[0m\n",
      "\u001b[2m2025-05-24 10:03.28\u001b[0m [\u001b[32m\u001b[1minfo     \u001b[0m] \u001b[1mAWAC_online_20250524100327: epoch=2 step=20\u001b[0m \u001b[36mepoch\u001b[0m=\u001b[35m2\u001b[0m \u001b[36mmetrics\u001b[0m=\u001b[35m{'time_inference': 0.00010709762573242187, 'time_environment_step': 0.00030918121337890624, 'time_step': 0.0004243612289428711, 'evaluation': -232.27605519203183}\u001b[0m \u001b[36mstep\u001b[0m=\u001b[35m20\u001b[0m\n",
      "\u001b[2m2025-05-24 10:03.29\u001b[0m [\u001b[32m\u001b[1minfo     \u001b[0m] \u001b[1mModel parameters are saved to training_logs/online/hammer/AWAC_online_20250524100327/model_30.d3\u001b[0m\n",
      "\u001b[2m2025-05-24 10:03.29\u001b[0m [\u001b[32m\u001b[1minfo     \u001b[0m] \u001b[1mAWAC_online_20250524100327: epoch=3 step=30\u001b[0m \u001b[36mepoch\u001b[0m=\u001b[35m3\u001b[0m \u001b[36mmetrics\u001b[0m=\u001b[35m{'time_inference': 0.00012803077697753906, 'time_environment_step': 0.00028398036956787107, 'time_step': 0.00042171478271484374, 'evaluation': -229.6671608537828}\u001b[0m \u001b[36mstep\u001b[0m=\u001b[35m30\u001b[0m\n",
      "\u001b[2m2025-05-24 10:03.30\u001b[0m [\u001b[32m\u001b[1minfo     \u001b[0m] \u001b[1mModel parameters are saved to training_logs/online/hammer/AWAC_online_20250524100327/model_40.d3\u001b[0m\n",
      "\u001b[2m2025-05-24 10:03.30\u001b[0m [\u001b[32m\u001b[1minfo     \u001b[0m] \u001b[1mAWAC_online_20250524100327: epoch=4 step=40\u001b[0m \u001b[36mepoch\u001b[0m=\u001b[35m4\u001b[0m \u001b[36mmetrics\u001b[0m=\u001b[35m{'time_inference': 0.00020854473114013673, 'time_environment_step': 0.00046601295471191404, 'time_step': 0.0006894588470458985, 'evaluation': -234.24443801073147}\u001b[0m \u001b[36mstep\u001b[0m=\u001b[35m40\u001b[0m\n",
      "\u001b[2m2025-05-24 10:03.30\u001b[0m [\u001b[32m\u001b[1minfo     \u001b[0m] \u001b[1mModel parameters are saved to training_logs/online/hammer/AWAC_online_20250524100327/model_50.d3\u001b[0m\n",
      "\u001b[2m2025-05-24 10:03.30\u001b[0m [\u001b[32m\u001b[1minfo     \u001b[0m] \u001b[1mAWAC_online_20250524100327: epoch=5 step=50\u001b[0m \u001b[36mepoch\u001b[0m=\u001b[35m5\u001b[0m \u001b[36mmetrics\u001b[0m=\u001b[35m{'time_inference': 0.0001308917999267578, 'time_environment_step': 0.0003135204315185547, 'time_step': 0.0004746675491333008, 'evaluation': -229.7945485747754}\u001b[0m \u001b[36mstep\u001b[0m=\u001b[35m50\u001b[0m\n",
      "\u001b[2m2025-05-24 10:03.31\u001b[0m [\u001b[32m\u001b[1minfo     \u001b[0m] \u001b[1mModel parameters are saved to training_logs/online/hammer/AWAC_online_20250524100327/model_60.d3\u001b[0m\n",
      "\u001b[2m2025-05-24 10:03.31\u001b[0m [\u001b[32m\u001b[1minfo     \u001b[0m] \u001b[1mAWAC_online_20250524100327: epoch=6 step=60\u001b[0m \u001b[36mepoch\u001b[0m=\u001b[35m6\u001b[0m \u001b[36mmetrics\u001b[0m=\u001b[35m{'time_inference': 0.00013828277587890625, 'time_environment_step': 0.0003222942352294922, 'time_step': 0.0004716634750366211, 'evaluation': -230.7712807098701}\u001b[0m \u001b[36mstep\u001b[0m=\u001b[35m60\u001b[0m\n",
      "\u001b[2m2025-05-24 10:03.32\u001b[0m [\u001b[32m\u001b[1minfo     \u001b[0m] \u001b[1mModel parameters are saved to training_logs/online/hammer/AWAC_online_20250524100327/model_70.d3\u001b[0m\n",
      "\u001b[2m2025-05-24 10:03.32\u001b[0m [\u001b[32m\u001b[1minfo     \u001b[0m] \u001b[1mAWAC_online_20250524100327: epoch=7 step=70\u001b[0m \u001b[36mepoch\u001b[0m=\u001b[35m7\u001b[0m \u001b[36mmetrics\u001b[0m=\u001b[35m{'time_inference': 0.0001079559326171875, 'time_environment_step': 0.0002841472625732422, 'time_step': 0.0004019737243652344, 'evaluation': -232.94093359145845}\u001b[0m \u001b[36mstep\u001b[0m=\u001b[35m70\u001b[0m\n",
      "\u001b[2m2025-05-24 10:03.32\u001b[0m [\u001b[32m\u001b[1minfo     \u001b[0m] \u001b[1mModel parameters are saved to training_logs/online/hammer/AWAC_online_20250524100327/model_80.d3\u001b[0m\n",
      "\u001b[2m2025-05-24 10:03.32\u001b[0m [\u001b[32m\u001b[1minfo     \u001b[0m] \u001b[1mAWAC_online_20250524100327: epoch=8 step=80\u001b[0m \u001b[36mepoch\u001b[0m=\u001b[35m8\u001b[0m \u001b[36mmetrics\u001b[0m=\u001b[35m{'time_inference': 0.00013108253479003905, 'time_environment_step': 0.00032095909118652345, 'time_step': 0.0004627466201782227, 'evaluation': -233.82514448425104}\u001b[0m \u001b[36mstep\u001b[0m=\u001b[35m80\u001b[0m\n",
      "\u001b[2m2025-05-24 10:03.33\u001b[0m [\u001b[32m\u001b[1minfo     \u001b[0m] \u001b[1mModel parameters are saved to training_logs/online/hammer/AWAC_online_20250524100327/model_90.d3\u001b[0m\n",
      "\u001b[2m2025-05-24 10:03.33\u001b[0m [\u001b[32m\u001b[1minfo     \u001b[0m] \u001b[1mAWAC_online_20250524100327: epoch=9 step=90\u001b[0m \u001b[36mepoch\u001b[0m=\u001b[35m9\u001b[0m \u001b[36mmetrics\u001b[0m=\u001b[35m{'time_inference': 0.00013129711151123048, 'time_environment_step': 0.0002758026123046875, 'time_step': 0.00041620731353759767, 'evaluation': -232.88732931453774}\u001b[0m \u001b[36mstep\u001b[0m=\u001b[35m90\u001b[0m\n",
      "\u001b[2m2025-05-24 10:03.33\u001b[0m [\u001b[32m\u001b[1minfo     \u001b[0m] \u001b[1mModel parameters are saved to training_logs/online/hammer/AWAC_online_20250524100327/model_100.d3\u001b[0m\n",
      "\u001b[2m2025-05-24 10:03.33\u001b[0m [\u001b[32m\u001b[1minfo     \u001b[0m] \u001b[1mAWAC_online_20250524100327: epoch=10 step=100\u001b[0m \u001b[36mepoch\u001b[0m=\u001b[35m10\u001b[0m \u001b[36mmetrics\u001b[0m=\u001b[35m{'time_inference': 0.00011150836944580078, 'time_environment_step': 0.0003340959548950195, 'time_step': 0.00045714378356933596, 'evaluation': -233.7565560511337}\u001b[0m \u001b[36mstep\u001b[0m=\u001b[35m100\u001b[0m\n"
     ]
    }
   ],
   "source": [
    "# Train each algorithm from scratch in an online setting on the Hammer task\n",
    "train_online_algorithm(d3rlpy.algos.IQLConfig, hammer_env, 'hammer_iql', 'hammer')\n",
    "train_online_algorithm(d3rlpy.algos.CQLConfig, hammer_env, 'hammer_cql', 'hammer')\n",
    "train_online_algorithm(d3rlpy.algos.TD3PlusBCConfig, hammer_env, 'hammer_td3bc', 'hammer')\n",
    "train_online_algorithm(d3rlpy.algos.AWACConfig, hammer_env, 'hammer_awac', 'hammer')"
   ]
  },
  {
   "cell_type": "markdown",
   "id": "2d968f70-7c6a-4d76-81e9-3c07f5aa4752",
   "metadata": {},
   "source": [
    "### Door"
   ]
  },
  {
   "cell_type": "code",
   "execution_count": 9,
   "id": "064b1b42-813c-4df0-a258-02b178e4cdda",
   "metadata": {
    "scrolled": true
   },
   "outputs": [
    {
     "name": "stdout",
     "output_type": "stream",
     "text": [
      "\u001b[2m2025-05-24 10:03.33\u001b[0m [\u001b[32m\u001b[1minfo     \u001b[0m] \u001b[1mSignatures have been automatically determined.\u001b[0m \u001b[36maction_signature\u001b[0m=\u001b[35mSignature(dtype=[dtype('float32')], shape=[(28,)])\u001b[0m \u001b[36mobservation_signature\u001b[0m=\u001b[35mSignature(dtype=[dtype('float64')], shape=[(39,)])\u001b[0m \u001b[36mreward_signature\u001b[0m=\u001b[35mSignature(dtype=[dtype('float32')], shape=[[1]])\u001b[0m\n",
      "\u001b[2m2025-05-24 10:03.33\u001b[0m [\u001b[32m\u001b[1minfo     \u001b[0m] \u001b[1mAction-space has been automatically determined.\u001b[0m \u001b[36maction_space\u001b[0m=\u001b[35m<ActionSpace.CONTINUOUS: 1>\u001b[0m\n",
      "\u001b[2m2025-05-24 10:03.33\u001b[0m [\u001b[32m\u001b[1minfo     \u001b[0m] \u001b[1mAction size has been automatically determined.\u001b[0m \u001b[36maction_size\u001b[0m=\u001b[35m28\u001b[0m\n",
      "\u001b[2m2025-05-24 10:03.34\u001b[0m [\u001b[32m\u001b[1mdebug    \u001b[0m] \u001b[1mBuilding model...             \u001b[0m\n",
      "\u001b[2m2025-05-24 10:03.34\u001b[0m [\u001b[32m\u001b[1mdebug    \u001b[0m] \u001b[1mModel has been built.         \u001b[0m\n",
      "\u001b[2m2025-05-24 10:03.34\u001b[0m [\u001b[32m\u001b[1minfo     \u001b[0m] \u001b[1mDirectory is created at training_logs/online/door/IQL_online_20250524100334\u001b[0m\n",
      "\u001b[2m2025-05-24 10:03.34\u001b[0m [\u001b[32m\u001b[1minfo     \u001b[0m] \u001b[1mParameters                    \u001b[0m \u001b[36mparams\u001b[0m=\u001b[35m{'observation_shape': [39], 'action_size': 28, 'config': {'type': 'iql', 'params': {'batch_size': 256, 'gamma': 0.99, 'observation_scaler': {'type': 'none', 'params': {}}, 'action_scaler': {'type': 'none', 'params': {}}, 'reward_scaler': {'type': 'none', 'params': {}}, 'compile_graph': False, 'actor_learning_rate': 0.0003, 'critic_learning_rate': 0.0003, 'actor_optim_factory': {'type': 'adam', 'params': {'clip_grad_norm': None, 'lr_scheduler_factory': {'type': 'none', 'params': {}}, 'betas': [0.9, 0.999], 'eps': 1e-08, 'weight_decay': 0, 'amsgrad': False}}, 'critic_optim_factory': {'type': 'adam', 'params': {'clip_grad_norm': None, 'lr_scheduler_factory': {'type': 'none', 'params': {}}, 'betas': [0.9, 0.999], 'eps': 1e-08, 'weight_decay': 0, 'amsgrad': False}}, 'actor_encoder_factory': {'type': 'default', 'params': {'activation': 'relu', 'use_batch_norm': False, 'dropout_rate': None}}, 'critic_encoder_factory': {'type': 'default', 'params': {'activation': 'relu', 'use_batch_norm': False, 'dropout_rate': None}}, 'value_encoder_factory': {'type': 'default', 'params': {'activation': 'relu', 'use_batch_norm': False, 'dropout_rate': None}}, 'tau': 0.005, 'n_critics': 2, 'expectile': 0.7, 'weight_temp': 3.0, 'max_weight': 100.0}}}\u001b[0m\n"
     ]
    },
    {
     "data": {
      "application/vnd.jupyter.widget-view+json": {
       "model_id": "b89b366c0c2c46a6aa4945d00f76c0a1",
       "version_major": 2,
       "version_minor": 0
      },
      "text/plain": [
       "  0%|          | 0/100 [00:00<?, ?it/s]"
      ]
     },
     "metadata": {},
     "output_type": "display_data"
    },
    {
     "name": "stdout",
     "output_type": "stream",
     "text": [
      "\u001b[2m2025-05-24 10:03.34\u001b[0m [\u001b[32m\u001b[1minfo     \u001b[0m] \u001b[1mModel parameters are saved to training_logs/online/door/IQL_online_20250524100334/model_10.d3\u001b[0m\n",
      "\u001b[2m2025-05-24 10:03.34\u001b[0m [\u001b[32m\u001b[1minfo     \u001b[0m] \u001b[1mIQL_online_20250524100334: epoch=1 step=10\u001b[0m \u001b[36mepoch\u001b[0m=\u001b[35m1\u001b[0m \u001b[36mmetrics\u001b[0m=\u001b[35m{'time_inference': 0.0004510164260864258, 'time_environment_step': 0.0005024909973144531, 'time_step': 0.0009673833847045898, 'evaluation': -43.83995888576616}\u001b[0m \u001b[36mstep\u001b[0m=\u001b[35m10\u001b[0m\n",
      "\u001b[2m2025-05-24 10:03.35\u001b[0m [\u001b[32m\u001b[1minfo     \u001b[0m] \u001b[1mModel parameters are saved to training_logs/online/door/IQL_online_20250524100334/model_20.d3\u001b[0m\n",
      "\u001b[2m2025-05-24 10:03.35\u001b[0m [\u001b[32m\u001b[1minfo     \u001b[0m] \u001b[1mIQL_online_20250524100334: epoch=2 step=20\u001b[0m \u001b[36mepoch\u001b[0m=\u001b[35m2\u001b[0m \u001b[36mmetrics\u001b[0m=\u001b[35m{'time_inference': 0.0001222372055053711, 'time_environment_step': 0.0002108335494995117, 'time_step': 0.0003411054611206055, 'evaluation': -44.03152374496591}\u001b[0m \u001b[36mstep\u001b[0m=\u001b[35m20\u001b[0m\n",
      "\u001b[2m2025-05-24 10:03.35\u001b[0m [\u001b[32m\u001b[1minfo     \u001b[0m] \u001b[1mModel parameters are saved to training_logs/online/door/IQL_online_20250524100334/model_30.d3\u001b[0m\n",
      "\u001b[2m2025-05-24 10:03.35\u001b[0m [\u001b[32m\u001b[1minfo     \u001b[0m] \u001b[1mIQL_online_20250524100334: epoch=3 step=30\u001b[0m \u001b[36mepoch\u001b[0m=\u001b[35m3\u001b[0m \u001b[36mmetrics\u001b[0m=\u001b[35m{'time_inference': 0.00011219978332519532, 'time_environment_step': 0.00022275447845458983, 'time_step': 0.0003440380096435547, 'evaluation': -44.10619131169273}\u001b[0m \u001b[36mstep\u001b[0m=\u001b[35m30\u001b[0m\n",
      "\u001b[2m2025-05-24 10:03.35\u001b[0m [\u001b[32m\u001b[1minfo     \u001b[0m] \u001b[1mModel parameters are saved to training_logs/online/door/IQL_online_20250524100334/model_40.d3\u001b[0m\n",
      "\u001b[2m2025-05-24 10:03.35\u001b[0m [\u001b[32m\u001b[1minfo     \u001b[0m] \u001b[1mIQL_online_20250524100334: epoch=4 step=40\u001b[0m \u001b[36mepoch\u001b[0m=\u001b[35m4\u001b[0m \u001b[36mmetrics\u001b[0m=\u001b[35m{'time_inference': 0.00011835098266601562, 'time_environment_step': 0.0002070903778076172, 'time_step': 0.0003345251083374023, 'evaluation': -43.588390464915555}\u001b[0m \u001b[36mstep\u001b[0m=\u001b[35m40\u001b[0m\n",
      "\u001b[2m2025-05-24 10:03.36\u001b[0m [\u001b[32m\u001b[1minfo     \u001b[0m] \u001b[1mModel parameters are saved to training_logs/online/door/IQL_online_20250524100334/model_50.d3\u001b[0m\n",
      "\u001b[2m2025-05-24 10:03.36\u001b[0m [\u001b[32m\u001b[1minfo     \u001b[0m] \u001b[1mIQL_online_20250524100334: epoch=5 step=50\u001b[0m \u001b[36mepoch\u001b[0m=\u001b[35m5\u001b[0m \u001b[36mmetrics\u001b[0m=\u001b[35m{'time_inference': 0.00011131763458251953, 'time_environment_step': 0.00023751258850097657, 'time_step': 0.0003574132919311523, 'evaluation': -43.86828916794375}\u001b[0m \u001b[36mstep\u001b[0m=\u001b[35m50\u001b[0m\n",
      "\u001b[2m2025-05-24 10:03.36\u001b[0m [\u001b[32m\u001b[1minfo     \u001b[0m] \u001b[1mModel parameters are saved to training_logs/online/door/IQL_online_20250524100334/model_60.d3\u001b[0m\n",
      "\u001b[2m2025-05-24 10:03.36\u001b[0m [\u001b[32m\u001b[1minfo     \u001b[0m] \u001b[1mIQL_online_20250524100334: epoch=6 step=60\u001b[0m \u001b[36mepoch\u001b[0m=\u001b[35m6\u001b[0m \u001b[36mmetrics\u001b[0m=\u001b[35m{'time_inference': 0.0001320362091064453, 'time_environment_step': 0.00026564598083496095, 'time_step': 0.00040857791900634767, 'evaluation': -43.94643099924187}\u001b[0m \u001b[36mstep\u001b[0m=\u001b[35m60\u001b[0m\n",
      "\u001b[2m2025-05-24 10:03.37\u001b[0m [\u001b[32m\u001b[1minfo     \u001b[0m] \u001b[1mModel parameters are saved to training_logs/online/door/IQL_online_20250524100334/model_70.d3\u001b[0m\n",
      "\u001b[2m2025-05-24 10:03.37\u001b[0m [\u001b[32m\u001b[1minfo     \u001b[0m] \u001b[1mIQL_online_20250524100334: epoch=7 step=70\u001b[0m \u001b[36mepoch\u001b[0m=\u001b[35m7\u001b[0m \u001b[36mmetrics\u001b[0m=\u001b[35m{'time_inference': 0.0001311779022216797, 'time_environment_step': 0.0002609968185424805, 'time_step': 0.0004024028778076172, 'evaluation': -43.69866204876915}\u001b[0m \u001b[36mstep\u001b[0m=\u001b[35m70\u001b[0m\n",
      "\u001b[2m2025-05-24 10:03.37\u001b[0m [\u001b[32m\u001b[1minfo     \u001b[0m] \u001b[1mModel parameters are saved to training_logs/online/door/IQL_online_20250524100334/model_80.d3\u001b[0m\n",
      "\u001b[2m2025-05-24 10:03.37\u001b[0m [\u001b[32m\u001b[1minfo     \u001b[0m] \u001b[1mIQL_online_20250524100334: epoch=8 step=80\u001b[0m \u001b[36mepoch\u001b[0m=\u001b[35m8\u001b[0m \u001b[36mmetrics\u001b[0m=\u001b[35m{'time_inference': 0.00010592937469482422, 'time_environment_step': 0.0001970529556274414, 'time_step': 0.00031211376190185545, 'evaluation': -43.734942083049546}\u001b[0m \u001b[36mstep\u001b[0m=\u001b[35m80\u001b[0m\n",
      "\u001b[2m2025-05-24 10:03.38\u001b[0m [\u001b[32m\u001b[1minfo     \u001b[0m] \u001b[1mModel parameters are saved to training_logs/online/door/IQL_online_20250524100334/model_90.d3\u001b[0m\n",
      "\u001b[2m2025-05-24 10:03.38\u001b[0m [\u001b[32m\u001b[1minfo     \u001b[0m] \u001b[1mIQL_online_20250524100334: epoch=9 step=90\u001b[0m \u001b[36mepoch\u001b[0m=\u001b[35m9\u001b[0m \u001b[36mmetrics\u001b[0m=\u001b[35m{'time_inference': 0.0001435518264770508, 'time_environment_step': 0.00022783279418945313, 'time_step': 0.0003823280334472656, 'evaluation': -43.601402833007526}\u001b[0m \u001b[36mstep\u001b[0m=\u001b[35m90\u001b[0m\n",
      "\u001b[2m2025-05-24 10:03.38\u001b[0m [\u001b[32m\u001b[1minfo     \u001b[0m] \u001b[1mModel parameters are saved to training_logs/online/door/IQL_online_20250524100334/model_100.d3\u001b[0m\n",
      "\u001b[2m2025-05-24 10:03.38\u001b[0m [\u001b[32m\u001b[1minfo     \u001b[0m] \u001b[1mIQL_online_20250524100334: epoch=10 step=100\u001b[0m \u001b[36mepoch\u001b[0m=\u001b[35m10\u001b[0m \u001b[36mmetrics\u001b[0m=\u001b[35m{'time_inference': 0.00011370182037353515, 'time_environment_step': 0.00021829605102539063, 'time_step': 0.0003417491912841797, 'evaluation': -43.99272991136713}\u001b[0m \u001b[36mstep\u001b[0m=\u001b[35m100\u001b[0m\n",
      "\u001b[2m2025-05-24 10:03.38\u001b[0m [\u001b[32m\u001b[1minfo     \u001b[0m] \u001b[1mSignatures have been automatically determined.\u001b[0m \u001b[36maction_signature\u001b[0m=\u001b[35mSignature(dtype=[dtype('float32')], shape=[(28,)])\u001b[0m \u001b[36mobservation_signature\u001b[0m=\u001b[35mSignature(dtype=[dtype('float64')], shape=[(39,)])\u001b[0m \u001b[36mreward_signature\u001b[0m=\u001b[35mSignature(dtype=[dtype('float32')], shape=[[1]])\u001b[0m\n",
      "\u001b[2m2025-05-24 10:03.38\u001b[0m [\u001b[32m\u001b[1minfo     \u001b[0m] \u001b[1mAction-space has been automatically determined.\u001b[0m \u001b[36maction_space\u001b[0m=\u001b[35m<ActionSpace.CONTINUOUS: 1>\u001b[0m\n",
      "\u001b[2m2025-05-24 10:03.38\u001b[0m [\u001b[32m\u001b[1minfo     \u001b[0m] \u001b[1mAction size has been automatically determined.\u001b[0m \u001b[36maction_size\u001b[0m=\u001b[35m28\u001b[0m\n",
      "\u001b[2m2025-05-24 10:03.38\u001b[0m [\u001b[32m\u001b[1mdebug    \u001b[0m] \u001b[1mBuilding model...             \u001b[0m\n",
      "\u001b[2m2025-05-24 10:03.38\u001b[0m [\u001b[32m\u001b[1mdebug    \u001b[0m] \u001b[1mModel has been built.         \u001b[0m\n",
      "\u001b[2m2025-05-24 10:03.38\u001b[0m [\u001b[32m\u001b[1minfo     \u001b[0m] \u001b[1mDirectory is created at training_logs/online/door/CQL_online_20250524100338\u001b[0m\n",
      "\u001b[2m2025-05-24 10:03.38\u001b[0m [\u001b[32m\u001b[1minfo     \u001b[0m] \u001b[1mParameters                    \u001b[0m \u001b[36mparams\u001b[0m=\u001b[35m{'observation_shape': [39], 'action_size': 28, 'config': {'type': 'cql', 'params': {'batch_size': 256, 'gamma': 0.99, 'observation_scaler': {'type': 'none', 'params': {}}, 'action_scaler': {'type': 'none', 'params': {}}, 'reward_scaler': {'type': 'none', 'params': {}}, 'compile_graph': False, 'actor_learning_rate': 0.0001, 'critic_learning_rate': 0.0003, 'temp_learning_rate': 0.0001, 'alpha_learning_rate': 0.0001, 'actor_optim_factory': {'type': 'adam', 'params': {'clip_grad_norm': None, 'lr_scheduler_factory': {'type': 'none', 'params': {}}, 'betas': [0.9, 0.999], 'eps': 1e-08, 'weight_decay': 0, 'amsgrad': False}}, 'critic_optim_factory': {'type': 'adam', 'params': {'clip_grad_norm': None, 'lr_scheduler_factory': {'type': 'none', 'params': {}}, 'betas': [0.9, 0.999], 'eps': 1e-08, 'weight_decay': 0, 'amsgrad': False}}, 'temp_optim_factory': {'type': 'adam', 'params': {'clip_grad_norm': None, 'lr_scheduler_factory': {'type': 'none', 'params': {}}, 'betas': [0.9, 0.999], 'eps': 1e-08, 'weight_decay': 0, 'amsgrad': False}}, 'alpha_optim_factory': {'type': 'adam', 'params': {'clip_grad_norm': None, 'lr_scheduler_factory': {'type': 'none', 'params': {}}, 'betas': [0.9, 0.999], 'eps': 1e-08, 'weight_decay': 0, 'amsgrad': False}}, 'actor_encoder_factory': {'type': 'default', 'params': {'activation': 'relu', 'use_batch_norm': False, 'dropout_rate': None}}, 'critic_encoder_factory': {'type': 'default', 'params': {'activation': 'relu', 'use_batch_norm': False, 'dropout_rate': None}}, 'q_func_factory': {'type': 'mean', 'params': {'share_encoder': False}}, 'tau': 0.005, 'n_critics': 2, 'initial_temperature': 1.0, 'initial_alpha': 1.0, 'alpha_threshold': 10.0, 'conservative_weight': 5.0, 'n_action_samples': 10, 'soft_q_backup': False, 'max_q_backup': False}}}\u001b[0m\n"
     ]
    },
    {
     "data": {
      "application/vnd.jupyter.widget-view+json": {
       "model_id": "515f6dc17f5e48d6849386ccd1ac57bb",
       "version_major": 2,
       "version_minor": 0
      },
      "text/plain": [
       "  0%|          | 0/100 [00:00<?, ?it/s]"
      ]
     },
     "metadata": {},
     "output_type": "display_data"
    },
    {
     "name": "stdout",
     "output_type": "stream",
     "text": [
      "\u001b[2m2025-05-24 10:03.39\u001b[0m [\u001b[32m\u001b[1minfo     \u001b[0m] \u001b[1mModel parameters are saved to training_logs/online/door/CQL_online_20250524100338/model_10.d3\u001b[0m\n",
      "\u001b[2m2025-05-24 10:03.39\u001b[0m [\u001b[32m\u001b[1minfo     \u001b[0m] \u001b[1mCQL_online_20250524100338: epoch=1 step=10\u001b[0m \u001b[36mepoch\u001b[0m=\u001b[35m1\u001b[0m \u001b[36mmetrics\u001b[0m=\u001b[35m{'time_inference': 0.00020678043365478515, 'time_environment_step': 0.00036892890930175783, 'time_step': 0.0005890369415283203, 'evaluation': -44.59077279951282}\u001b[0m \u001b[36mstep\u001b[0m=\u001b[35m10\u001b[0m\n",
      "\u001b[2m2025-05-24 10:03.39\u001b[0m [\u001b[32m\u001b[1minfo     \u001b[0m] \u001b[1mModel parameters are saved to training_logs/online/door/CQL_online_20250524100338/model_20.d3\u001b[0m\n",
      "\u001b[2m2025-05-24 10:03.39\u001b[0m [\u001b[32m\u001b[1minfo     \u001b[0m] \u001b[1mCQL_online_20250524100338: epoch=2 step=20\u001b[0m \u001b[36mepoch\u001b[0m=\u001b[35m2\u001b[0m \u001b[36mmetrics\u001b[0m=\u001b[35m{'time_inference': 0.00011394023895263671, 'time_environment_step': 0.0002567291259765625, 'time_step': 0.000380706787109375, 'evaluation': -44.957045744426125}\u001b[0m \u001b[36mstep\u001b[0m=\u001b[35m20\u001b[0m\n",
      "\u001b[2m2025-05-24 10:03.40\u001b[0m [\u001b[32m\u001b[1minfo     \u001b[0m] \u001b[1mModel parameters are saved to training_logs/online/door/CQL_online_20250524100338/model_30.d3\u001b[0m\n",
      "\u001b[2m2025-05-24 10:03.40\u001b[0m [\u001b[32m\u001b[1minfo     \u001b[0m] \u001b[1mCQL_online_20250524100338: epoch=3 step=30\u001b[0m \u001b[36mepoch\u001b[0m=\u001b[35m3\u001b[0m \u001b[36mmetrics\u001b[0m=\u001b[35m{'time_inference': 0.00015246868133544922, 'time_environment_step': 0.0003376007080078125, 'time_step': 0.0005024909973144531, 'evaluation': -45.0368983127373}\u001b[0m \u001b[36mstep\u001b[0m=\u001b[35m30\u001b[0m\n",
      "\u001b[2m2025-05-24 10:03.40\u001b[0m [\u001b[32m\u001b[1minfo     \u001b[0m] \u001b[1mModel parameters are saved to training_logs/online/door/CQL_online_20250524100338/model_40.d3\u001b[0m\n",
      "\u001b[2m2025-05-24 10:03.40\u001b[0m [\u001b[32m\u001b[1minfo     \u001b[0m] \u001b[1mCQL_online_20250524100338: epoch=4 step=40\u001b[0m \u001b[36mepoch\u001b[0m=\u001b[35m4\u001b[0m \u001b[36mmetrics\u001b[0m=\u001b[35m{'time_inference': 0.0001421213150024414, 'time_environment_step': 0.00028645992279052734, 'time_step': 0.0004396200180053711, 'evaluation': -45.15274238386461}\u001b[0m \u001b[36mstep\u001b[0m=\u001b[35m40\u001b[0m\n",
      "\u001b[2m2025-05-24 10:03.41\u001b[0m [\u001b[32m\u001b[1minfo     \u001b[0m] \u001b[1mModel parameters are saved to training_logs/online/door/CQL_online_20250524100338/model_50.d3\u001b[0m\n",
      "\u001b[2m2025-05-24 10:03.41\u001b[0m [\u001b[32m\u001b[1minfo     \u001b[0m] \u001b[1mCQL_online_20250524100338: epoch=5 step=50\u001b[0m \u001b[36mepoch\u001b[0m=\u001b[35m5\u001b[0m \u001b[36mmetrics\u001b[0m=\u001b[35m{'time_inference': 0.00011348724365234375, 'time_environment_step': 0.0002643585205078125, 'time_step': 0.00038700103759765626, 'evaluation': -44.98770532551405}\u001b[0m \u001b[36mstep\u001b[0m=\u001b[35m50\u001b[0m\n",
      "\u001b[2m2025-05-24 10:03.41\u001b[0m [\u001b[32m\u001b[1minfo     \u001b[0m] \u001b[1mModel parameters are saved to training_logs/online/door/CQL_online_20250524100338/model_60.d3\u001b[0m\n",
      "\u001b[2m2025-05-24 10:03.41\u001b[0m [\u001b[32m\u001b[1minfo     \u001b[0m] \u001b[1mCQL_online_20250524100338: epoch=6 step=60\u001b[0m \u001b[36mepoch\u001b[0m=\u001b[35m6\u001b[0m \u001b[36mmetrics\u001b[0m=\u001b[35m{'time_inference': 0.00010662078857421875, 'time_environment_step': 0.00023496150970458984, 'time_step': 0.0003515005111694336, 'evaluation': -44.9513847692436}\u001b[0m \u001b[36mstep\u001b[0m=\u001b[35m60\u001b[0m\n",
      "\u001b[2m2025-05-24 10:03.42\u001b[0m [\u001b[32m\u001b[1minfo     \u001b[0m] \u001b[1mModel parameters are saved to training_logs/online/door/CQL_online_20250524100338/model_70.d3\u001b[0m\n",
      "\u001b[2m2025-05-24 10:03.42\u001b[0m [\u001b[32m\u001b[1minfo     \u001b[0m] \u001b[1mCQL_online_20250524100338: epoch=7 step=70\u001b[0m \u001b[36mepoch\u001b[0m=\u001b[35m7\u001b[0m \u001b[36mmetrics\u001b[0m=\u001b[35m{'time_inference': 0.00010952949523925781, 'time_environment_step': 0.00021517276763916016, 'time_step': 0.0003341197967529297, 'evaluation': -45.02538987341182}\u001b[0m \u001b[36mstep\u001b[0m=\u001b[35m70\u001b[0m\n",
      "\u001b[2m2025-05-24 10:03.42\u001b[0m [\u001b[32m\u001b[1minfo     \u001b[0m] \u001b[1mModel parameters are saved to training_logs/online/door/CQL_online_20250524100338/model_80.d3\u001b[0m\n",
      "\u001b[2m2025-05-24 10:03.42\u001b[0m [\u001b[32m\u001b[1minfo     \u001b[0m] \u001b[1mCQL_online_20250524100338: epoch=8 step=80\u001b[0m \u001b[36mepoch\u001b[0m=\u001b[35m8\u001b[0m \u001b[36mmetrics\u001b[0m=\u001b[35m{'time_inference': 0.00011334419250488281, 'time_environment_step': 0.0002445697784423828, 'time_step': 0.0003675222396850586, 'evaluation': -44.92638589287098}\u001b[0m \u001b[36mstep\u001b[0m=\u001b[35m80\u001b[0m\n",
      "\u001b[2m2025-05-24 10:03.43\u001b[0m [\u001b[32m\u001b[1minfo     \u001b[0m] \u001b[1mModel parameters are saved to training_logs/online/door/CQL_online_20250524100338/model_90.d3\u001b[0m\n",
      "\u001b[2m2025-05-24 10:03.43\u001b[0m [\u001b[32m\u001b[1minfo     \u001b[0m] \u001b[1mCQL_online_20250524100338: epoch=9 step=90\u001b[0m \u001b[36mepoch\u001b[0m=\u001b[35m9\u001b[0m \u001b[36mmetrics\u001b[0m=\u001b[35m{'time_inference': 0.00010993480682373047, 'time_environment_step': 0.0002635478973388672, 'time_step': 0.00038356781005859374, 'evaluation': -44.912677495156494}\u001b[0m \u001b[36mstep\u001b[0m=\u001b[35m90\u001b[0m\n",
      "\u001b[2m2025-05-24 10:03.43\u001b[0m [\u001b[32m\u001b[1minfo     \u001b[0m] \u001b[1mModel parameters are saved to training_logs/online/door/CQL_online_20250524100338/model_100.d3\u001b[0m\n",
      "\u001b[2m2025-05-24 10:03.43\u001b[0m [\u001b[32m\u001b[1minfo     \u001b[0m] \u001b[1mCQL_online_20250524100338: epoch=10 step=100\u001b[0m \u001b[36mepoch\u001b[0m=\u001b[35m10\u001b[0m \u001b[36mmetrics\u001b[0m=\u001b[35m{'time_inference': 0.0001132965087890625, 'time_environment_step': 0.00022752285003662108, 'time_step': 0.0003497600555419922, 'evaluation': -45.341513059579356}\u001b[0m \u001b[36mstep\u001b[0m=\u001b[35m100\u001b[0m\n",
      "\u001b[2m2025-05-24 10:03.43\u001b[0m [\u001b[32m\u001b[1minfo     \u001b[0m] \u001b[1mSignatures have been automatically determined.\u001b[0m \u001b[36maction_signature\u001b[0m=\u001b[35mSignature(dtype=[dtype('float32')], shape=[(28,)])\u001b[0m \u001b[36mobservation_signature\u001b[0m=\u001b[35mSignature(dtype=[dtype('float64')], shape=[(39,)])\u001b[0m \u001b[36mreward_signature\u001b[0m=\u001b[35mSignature(dtype=[dtype('float32')], shape=[[1]])\u001b[0m\n",
      "\u001b[2m2025-05-24 10:03.43\u001b[0m [\u001b[32m\u001b[1minfo     \u001b[0m] \u001b[1mAction-space has been automatically determined.\u001b[0m \u001b[36maction_space\u001b[0m=\u001b[35m<ActionSpace.CONTINUOUS: 1>\u001b[0m\n",
      "\u001b[2m2025-05-24 10:03.43\u001b[0m [\u001b[32m\u001b[1minfo     \u001b[0m] \u001b[1mAction size has been automatically determined.\u001b[0m \u001b[36maction_size\u001b[0m=\u001b[35m28\u001b[0m\n",
      "\u001b[2m2025-05-24 10:03.43\u001b[0m [\u001b[32m\u001b[1mdebug    \u001b[0m] \u001b[1mBuilding model...             \u001b[0m\n",
      "\u001b[2m2025-05-24 10:03.43\u001b[0m [\u001b[32m\u001b[1mdebug    \u001b[0m] \u001b[1mModel has been built.         \u001b[0m\n",
      "\u001b[2m2025-05-24 10:03.43\u001b[0m [\u001b[32m\u001b[1minfo     \u001b[0m] \u001b[1mDirectory is created at training_logs/online/door/TD3PlusBC_online_20250524100343\u001b[0m\n",
      "\u001b[2m2025-05-24 10:03.43\u001b[0m [\u001b[32m\u001b[1minfo     \u001b[0m] \u001b[1mParameters                    \u001b[0m \u001b[36mparams\u001b[0m=\u001b[35m{'observation_shape': [39], 'action_size': 28, 'config': {'type': 'td3_plus_bc', 'params': {'batch_size': 256, 'gamma': 0.99, 'observation_scaler': {'type': 'none', 'params': {}}, 'action_scaler': {'type': 'none', 'params': {}}, 'reward_scaler': {'type': 'none', 'params': {}}, 'compile_graph': False, 'actor_learning_rate': 0.0003, 'critic_learning_rate': 0.0003, 'actor_optim_factory': {'type': 'adam', 'params': {'clip_grad_norm': None, 'lr_scheduler_factory': {'type': 'none', 'params': {}}, 'betas': [0.9, 0.999], 'eps': 1e-08, 'weight_decay': 0, 'amsgrad': False}}, 'critic_optim_factory': {'type': 'adam', 'params': {'clip_grad_norm': None, 'lr_scheduler_factory': {'type': 'none', 'params': {}}, 'betas': [0.9, 0.999], 'eps': 1e-08, 'weight_decay': 0, 'amsgrad': False}}, 'actor_encoder_factory': {'type': 'default', 'params': {'activation': 'relu', 'use_batch_norm': False, 'dropout_rate': None}}, 'critic_encoder_factory': {'type': 'default', 'params': {'activation': 'relu', 'use_batch_norm': False, 'dropout_rate': None}}, 'q_func_factory': {'type': 'mean', 'params': {'share_encoder': False}}, 'tau': 0.005, 'n_critics': 2, 'target_smoothing_sigma': 0.2, 'target_smoothing_clip': 0.5, 'alpha': 2.5, 'update_actor_interval': 2}}}\u001b[0m\n"
     ]
    },
    {
     "data": {
      "application/vnd.jupyter.widget-view+json": {
       "model_id": "e06145e5170c46a0b40e1164f5fa0dd7",
       "version_major": 2,
       "version_minor": 0
      },
      "text/plain": [
       "  0%|          | 0/100 [00:00<?, ?it/s]"
      ]
     },
     "metadata": {},
     "output_type": "display_data"
    },
    {
     "name": "stdout",
     "output_type": "stream",
     "text": [
      "\u001b[2m2025-05-24 10:03.44\u001b[0m [\u001b[32m\u001b[1minfo     \u001b[0m] \u001b[1mModel parameters are saved to training_logs/online/door/TD3PlusBC_online_20250524100343/model_10.d3\u001b[0m\n",
      "\u001b[2m2025-05-24 10:03.44\u001b[0m [\u001b[32m\u001b[1minfo     \u001b[0m] \u001b[1mTD3PlusBC_online_20250524100343: epoch=1 step=10\u001b[0m \u001b[36mepoch\u001b[0m=\u001b[35m1\u001b[0m \u001b[36mmetrics\u001b[0m=\u001b[35m{'time_inference': 0.00017642974853515625, 'time_environment_step': 0.00022394657135009765, 'time_step': 0.0004101991653442383, 'evaluation': -45.0896305765717}\u001b[0m \u001b[36mstep\u001b[0m=\u001b[35m10\u001b[0m\n",
      "\u001b[2m2025-05-24 10:03.44\u001b[0m [\u001b[32m\u001b[1minfo     \u001b[0m] \u001b[1mModel parameters are saved to training_logs/online/door/TD3PlusBC_online_20250524100343/model_20.d3\u001b[0m\n",
      "\u001b[2m2025-05-24 10:03.44\u001b[0m [\u001b[32m\u001b[1minfo     \u001b[0m] \u001b[1mTD3PlusBC_online_20250524100343: epoch=2 step=20\u001b[0m \u001b[36mepoch\u001b[0m=\u001b[35m2\u001b[0m \u001b[36mmetrics\u001b[0m=\u001b[35m{'time_inference': 0.00010347366333007812, 'time_environment_step': 0.0002661228179931641, 'time_step': 0.0003803014755249023, 'evaluation': -44.65503785200754}\u001b[0m \u001b[36mstep\u001b[0m=\u001b[35m20\u001b[0m\n",
      "\u001b[2m2025-05-24 10:03.45\u001b[0m [\u001b[32m\u001b[1minfo     \u001b[0m] \u001b[1mModel parameters are saved to training_logs/online/door/TD3PlusBC_online_20250524100343/model_30.d3\u001b[0m\n",
      "\u001b[2m2025-05-24 10:03.45\u001b[0m [\u001b[32m\u001b[1minfo     \u001b[0m] \u001b[1mTD3PlusBC_online_20250524100343: epoch=3 step=30\u001b[0m \u001b[36mepoch\u001b[0m=\u001b[35m3\u001b[0m \u001b[36mmetrics\u001b[0m=\u001b[35m{'time_inference': 9.59157943725586e-05, 'time_environment_step': 0.0002755165100097656, 'time_step': 0.00038063526153564453, 'evaluation': -44.88006710841449}\u001b[0m \u001b[36mstep\u001b[0m=\u001b[35m30\u001b[0m\n",
      "\u001b[2m2025-05-24 10:03.45\u001b[0m [\u001b[32m\u001b[1minfo     \u001b[0m] \u001b[1mModel parameters are saved to training_logs/online/door/TD3PlusBC_online_20250524100343/model_40.d3\u001b[0m\n",
      "\u001b[2m2025-05-24 10:03.45\u001b[0m [\u001b[32m\u001b[1minfo     \u001b[0m] \u001b[1mTD3PlusBC_online_20250524100343: epoch=4 step=40\u001b[0m \u001b[36mepoch\u001b[0m=\u001b[35m4\u001b[0m \u001b[36mmetrics\u001b[0m=\u001b[35m{'time_inference': 8.625984191894532e-05, 'time_environment_step': 0.00022833347320556642, 'time_step': 0.00032274723052978517, 'evaluation': -44.673756852024965}\u001b[0m \u001b[36mstep\u001b[0m=\u001b[35m40\u001b[0m\n",
      "\u001b[2m2025-05-24 10:03.46\u001b[0m [\u001b[32m\u001b[1minfo     \u001b[0m] \u001b[1mModel parameters are saved to training_logs/online/door/TD3PlusBC_online_20250524100343/model_50.d3\u001b[0m\n",
      "\u001b[2m2025-05-24 10:03.46\u001b[0m [\u001b[32m\u001b[1minfo     \u001b[0m] \u001b[1mTD3PlusBC_online_20250524100343: epoch=5 step=50\u001b[0m \u001b[36mepoch\u001b[0m=\u001b[35m5\u001b[0m \u001b[36mmetrics\u001b[0m=\u001b[35m{'time_inference': 0.00010676383972167969, 'time_environment_step': 0.0002634763717651367, 'time_step': 0.00037994384765625, 'evaluation': -44.566720750782856}\u001b[0m \u001b[36mstep\u001b[0m=\u001b[35m50\u001b[0m\n",
      "\u001b[2m2025-05-24 10:03.46\u001b[0m [\u001b[32m\u001b[1minfo     \u001b[0m] \u001b[1mModel parameters are saved to training_logs/online/door/TD3PlusBC_online_20250524100343/model_60.d3\u001b[0m\n",
      "\u001b[2m2025-05-24 10:03.46\u001b[0m [\u001b[32m\u001b[1minfo     \u001b[0m] \u001b[1mTD3PlusBC_online_20250524100343: epoch=6 step=60\u001b[0m \u001b[36mepoch\u001b[0m=\u001b[35m6\u001b[0m \u001b[36mmetrics\u001b[0m=\u001b[35m{'time_inference': 9.179115295410156e-05, 'time_environment_step': 0.0003157138824462891, 'time_step': 0.00041773319244384763, 'evaluation': -45.02541582374507}\u001b[0m \u001b[36mstep\u001b[0m=\u001b[35m60\u001b[0m\n",
      "\u001b[2m2025-05-24 10:03.47\u001b[0m [\u001b[32m\u001b[1minfo     \u001b[0m] \u001b[1mModel parameters are saved to training_logs/online/door/TD3PlusBC_online_20250524100343/model_70.d3\u001b[0m\n",
      "\u001b[2m2025-05-24 10:03.47\u001b[0m [\u001b[32m\u001b[1minfo     \u001b[0m] \u001b[1mTD3PlusBC_online_20250524100343: epoch=7 step=70\u001b[0m \u001b[36mepoch\u001b[0m=\u001b[35m7\u001b[0m \u001b[36mmetrics\u001b[0m=\u001b[35m{'time_inference': 9.429454803466797e-05, 'time_environment_step': 0.00023899078369140624, 'time_step': 0.0003424167633056641, 'evaluation': -44.55488953980865}\u001b[0m \u001b[36mstep\u001b[0m=\u001b[35m70\u001b[0m\n",
      "\u001b[2m2025-05-24 10:03.47\u001b[0m [\u001b[32m\u001b[1minfo     \u001b[0m] \u001b[1mModel parameters are saved to training_logs/online/door/TD3PlusBC_online_20250524100343/model_80.d3\u001b[0m\n",
      "\u001b[2m2025-05-24 10:03.47\u001b[0m [\u001b[32m\u001b[1minfo     \u001b[0m] \u001b[1mTD3PlusBC_online_20250524100343: epoch=8 step=80\u001b[0m \u001b[36mepoch\u001b[0m=\u001b[35m8\u001b[0m \u001b[36mmetrics\u001b[0m=\u001b[35m{'time_inference': 0.00010688304901123047, 'time_environment_step': 0.0002737283706665039, 'time_step': 0.00039207935333251953, 'evaluation': -44.534990999799746}\u001b[0m \u001b[36mstep\u001b[0m=\u001b[35m80\u001b[0m\n",
      "\u001b[2m2025-05-24 10:03.48\u001b[0m [\u001b[32m\u001b[1minfo     \u001b[0m] \u001b[1mModel parameters are saved to training_logs/online/door/TD3PlusBC_online_20250524100343/model_90.d3\u001b[0m\n",
      "\u001b[2m2025-05-24 10:03.48\u001b[0m [\u001b[32m\u001b[1minfo     \u001b[0m] \u001b[1mTD3PlusBC_online_20250524100343: epoch=9 step=90\u001b[0m \u001b[36mepoch\u001b[0m=\u001b[35m9\u001b[0m \u001b[36mmetrics\u001b[0m=\u001b[35m{'time_inference': 9.586811065673829e-05, 'time_environment_step': 0.0002437114715576172, 'time_step': 0.0003492116928100586, 'evaluation': -44.783440626025765}\u001b[0m \u001b[36mstep\u001b[0m=\u001b[35m90\u001b[0m\n",
      "\u001b[2m2025-05-24 10:03.48\u001b[0m [\u001b[32m\u001b[1minfo     \u001b[0m] \u001b[1mModel parameters are saved to training_logs/online/door/TD3PlusBC_online_20250524100343/model_100.d3\u001b[0m\n",
      "\u001b[2m2025-05-24 10:03.48\u001b[0m [\u001b[32m\u001b[1minfo     \u001b[0m] \u001b[1mTD3PlusBC_online_20250524100343: epoch=10 step=100\u001b[0m \u001b[36mepoch\u001b[0m=\u001b[35m10\u001b[0m \u001b[36mmetrics\u001b[0m=\u001b[35m{'time_inference': 0.00010974407196044922, 'time_environment_step': 0.0002420663833618164, 'time_step': 0.0003620624542236328, 'evaluation': -44.36350774804023}\u001b[0m \u001b[36mstep\u001b[0m=\u001b[35m100\u001b[0m\n",
      "\u001b[2m2025-05-24 10:03.48\u001b[0m [\u001b[32m\u001b[1minfo     \u001b[0m] \u001b[1mSignatures have been automatically determined.\u001b[0m \u001b[36maction_signature\u001b[0m=\u001b[35mSignature(dtype=[dtype('float32')], shape=[(28,)])\u001b[0m \u001b[36mobservation_signature\u001b[0m=\u001b[35mSignature(dtype=[dtype('float64')], shape=[(39,)])\u001b[0m \u001b[36mreward_signature\u001b[0m=\u001b[35mSignature(dtype=[dtype('float32')], shape=[[1]])\u001b[0m\n",
      "\u001b[2m2025-05-24 10:03.48\u001b[0m [\u001b[32m\u001b[1minfo     \u001b[0m] \u001b[1mAction-space has been automatically determined.\u001b[0m \u001b[36maction_space\u001b[0m=\u001b[35m<ActionSpace.CONTINUOUS: 1>\u001b[0m\n",
      "\u001b[2m2025-05-24 10:03.48\u001b[0m [\u001b[32m\u001b[1minfo     \u001b[0m] \u001b[1mAction size has been automatically determined.\u001b[0m \u001b[36maction_size\u001b[0m=\u001b[35m28\u001b[0m\n",
      "\u001b[2m2025-05-24 10:03.48\u001b[0m [\u001b[32m\u001b[1mdebug    \u001b[0m] \u001b[1mBuilding model...             \u001b[0m\n",
      "\u001b[2m2025-05-24 10:03.48\u001b[0m [\u001b[32m\u001b[1mdebug    \u001b[0m] \u001b[1mModel has been built.         \u001b[0m\n",
      "\u001b[2m2025-05-24 10:03.48\u001b[0m [\u001b[32m\u001b[1minfo     \u001b[0m] \u001b[1mDirectory is created at training_logs/online/door/AWAC_online_20250524100348\u001b[0m\n",
      "\u001b[2m2025-05-24 10:03.48\u001b[0m [\u001b[32m\u001b[1minfo     \u001b[0m] \u001b[1mParameters                    \u001b[0m \u001b[36mparams\u001b[0m=\u001b[35m{'observation_shape': [39], 'action_size': 28, 'config': {'type': 'awac', 'params': {'batch_size': 1024, 'gamma': 0.99, 'observation_scaler': {'type': 'none', 'params': {}}, 'action_scaler': {'type': 'none', 'params': {}}, 'reward_scaler': {'type': 'none', 'params': {}}, 'compile_graph': False, 'actor_learning_rate': 0.0003, 'critic_learning_rate': 0.0003, 'actor_optim_factory': {'type': 'adam', 'params': {'clip_grad_norm': None, 'lr_scheduler_factory': {'type': 'none', 'params': {}}, 'betas': [0.9, 0.999], 'eps': 1e-08, 'weight_decay': 0, 'amsgrad': False}}, 'critic_optim_factory': {'type': 'adam', 'params': {'clip_grad_norm': None, 'lr_scheduler_factory': {'type': 'none', 'params': {}}, 'betas': [0.9, 0.999], 'eps': 1e-08, 'weight_decay': 0, 'amsgrad': False}}, 'actor_encoder_factory': {'type': 'default', 'params': {'activation': 'relu', 'use_batch_norm': False, 'dropout_rate': None}}, 'critic_encoder_factory': {'type': 'default', 'params': {'activation': 'relu', 'use_batch_norm': False, 'dropout_rate': None}}, 'q_func_factory': {'type': 'mean', 'params': {'share_encoder': False}}, 'tau': 0.005, 'lam': 1.0, 'n_action_samples': 1, 'n_critics': 2}}}\u001b[0m\n"
     ]
    },
    {
     "data": {
      "application/vnd.jupyter.widget-view+json": {
       "model_id": "3c3abc9231544bf9bfa1a3c1d0c45d17",
       "version_major": 2,
       "version_minor": 0
      },
      "text/plain": [
       "  0%|          | 0/100 [00:00<?, ?it/s]"
      ]
     },
     "metadata": {},
     "output_type": "display_data"
    },
    {
     "name": "stdout",
     "output_type": "stream",
     "text": [
      "\u001b[2m2025-05-24 10:03.49\u001b[0m [\u001b[32m\u001b[1minfo     \u001b[0m] \u001b[1mModel parameters are saved to training_logs/online/door/AWAC_online_20250524100348/model_10.d3\u001b[0m\n",
      "\u001b[2m2025-05-24 10:03.49\u001b[0m [\u001b[32m\u001b[1minfo     \u001b[0m] \u001b[1mAWAC_online_20250524100348: epoch=1 step=10\u001b[0m \u001b[36mepoch\u001b[0m=\u001b[35m1\u001b[0m \u001b[36mmetrics\u001b[0m=\u001b[35m{'time_inference': 0.0003305673599243164, 'time_environment_step': 0.0003139972686767578, 'time_step': 0.0006565332412719726, 'evaluation': -44.46445604269353}\u001b[0m \u001b[36mstep\u001b[0m=\u001b[35m10\u001b[0m\n",
      "\u001b[2m2025-05-24 10:03.49\u001b[0m [\u001b[32m\u001b[1minfo     \u001b[0m] \u001b[1mModel parameters are saved to training_logs/online/door/AWAC_online_20250524100348/model_20.d3\u001b[0m\n",
      "\u001b[2m2025-05-24 10:03.49\u001b[0m [\u001b[32m\u001b[1minfo     \u001b[0m] \u001b[1mAWAC_online_20250524100348: epoch=2 step=20\u001b[0m \u001b[36mepoch\u001b[0m=\u001b[35m2\u001b[0m \u001b[36mmetrics\u001b[0m=\u001b[35m{'time_inference': 0.00017957687377929689, 'time_environment_step': 0.0002959728240966797, 'time_step': 0.0004939556121826172, 'evaluation': -44.25105896495791}\u001b[0m \u001b[36mstep\u001b[0m=\u001b[35m20\u001b[0m\n",
      "\u001b[2m2025-05-24 10:03.50\u001b[0m [\u001b[32m\u001b[1minfo     \u001b[0m] \u001b[1mModel parameters are saved to training_logs/online/door/AWAC_online_20250524100348/model_30.d3\u001b[0m\n",
      "\u001b[2m2025-05-24 10:03.50\u001b[0m [\u001b[32m\u001b[1minfo     \u001b[0m] \u001b[1mAWAC_online_20250524100348: epoch=3 step=30\u001b[0m \u001b[36mepoch\u001b[0m=\u001b[35m3\u001b[0m \u001b[36mmetrics\u001b[0m=\u001b[35m{'time_inference': 0.00012297630310058593, 'time_environment_step': 0.00023925304412841797, 'time_step': 0.00037217140197753906, 'evaluation': -44.13769624118861}\u001b[0m \u001b[36mstep\u001b[0m=\u001b[35m30\u001b[0m\n",
      "\u001b[2m2025-05-24 10:03.50\u001b[0m [\u001b[32m\u001b[1minfo     \u001b[0m] \u001b[1mModel parameters are saved to training_logs/online/door/AWAC_online_20250524100348/model_40.d3\u001b[0m\n",
      "\u001b[2m2025-05-24 10:03.50\u001b[0m [\u001b[32m\u001b[1minfo     \u001b[0m] \u001b[1mAWAC_online_20250524100348: epoch=4 step=40\u001b[0m \u001b[36mepoch\u001b[0m=\u001b[35m4\u001b[0m \u001b[36mmetrics\u001b[0m=\u001b[35m{'time_inference': 0.00011625289916992188, 'time_environment_step': 0.00027904510498046877, 'time_step': 0.00040411949157714844, 'evaluation': -44.38275542220718}\u001b[0m \u001b[36mstep\u001b[0m=\u001b[35m40\u001b[0m\n",
      "\u001b[2m2025-05-24 10:03.51\u001b[0m [\u001b[32m\u001b[1minfo     \u001b[0m] \u001b[1mModel parameters are saved to training_logs/online/door/AWAC_online_20250524100348/model_50.d3\u001b[0m\n",
      "\u001b[2m2025-05-24 10:03.51\u001b[0m [\u001b[32m\u001b[1minfo     \u001b[0m] \u001b[1mAWAC_online_20250524100348: epoch=5 step=50\u001b[0m \u001b[36mepoch\u001b[0m=\u001b[35m5\u001b[0m \u001b[36mmetrics\u001b[0m=\u001b[35m{'time_inference': 0.0001676797866821289, 'time_environment_step': 0.0003233432769775391, 'time_step': 0.0005041122436523438, 'evaluation': -44.36540962695209}\u001b[0m \u001b[36mstep\u001b[0m=\u001b[35m50\u001b[0m\n",
      "\u001b[2m2025-05-24 10:03.51\u001b[0m [\u001b[32m\u001b[1minfo     \u001b[0m] \u001b[1mModel parameters are saved to training_logs/online/door/AWAC_online_20250524100348/model_60.d3\u001b[0m\n",
      "\u001b[2m2025-05-24 10:03.51\u001b[0m [\u001b[32m\u001b[1minfo     \u001b[0m] \u001b[1mAWAC_online_20250524100348: epoch=6 step=60\u001b[0m \u001b[36mepoch\u001b[0m=\u001b[35m6\u001b[0m \u001b[36mmetrics\u001b[0m=\u001b[35m{'time_inference': 0.00012519359588623047, 'time_environment_step': 0.00030007362365722654, 'time_step': 0.0004364013671875, 'evaluation': -44.55803628392871}\u001b[0m \u001b[36mstep\u001b[0m=\u001b[35m60\u001b[0m\n",
      "\u001b[2m2025-05-24 10:03.52\u001b[0m [\u001b[32m\u001b[1minfo     \u001b[0m] \u001b[1mModel parameters are saved to training_logs/online/door/AWAC_online_20250524100348/model_70.d3\u001b[0m\n",
      "\u001b[2m2025-05-24 10:03.52\u001b[0m [\u001b[32m\u001b[1minfo     \u001b[0m] \u001b[1mAWAC_online_20250524100348: epoch=7 step=70\u001b[0m \u001b[36mepoch\u001b[0m=\u001b[35m7\u001b[0m \u001b[36mmetrics\u001b[0m=\u001b[35m{'time_inference': 0.00011029243469238282, 'time_environment_step': 0.00022306442260742188, 'time_step': 0.00034205913543701173, 'evaluation': -44.23395469870231}\u001b[0m \u001b[36mstep\u001b[0m=\u001b[35m70\u001b[0m\n",
      "\u001b[2m2025-05-24 10:03.52\u001b[0m [\u001b[32m\u001b[1minfo     \u001b[0m] \u001b[1mModel parameters are saved to training_logs/online/door/AWAC_online_20250524100348/model_80.d3\u001b[0m\n",
      "\u001b[2m2025-05-24 10:03.52\u001b[0m [\u001b[32m\u001b[1minfo     \u001b[0m] \u001b[1mAWAC_online_20250524100348: epoch=8 step=80\u001b[0m \u001b[36mepoch\u001b[0m=\u001b[35m8\u001b[0m \u001b[36mmetrics\u001b[0m=\u001b[35m{'time_inference': 0.00012104511260986328, 'time_environment_step': 0.0002305746078491211, 'time_step': 0.0003601551055908203, 'evaluation': -44.021415779396925}\u001b[0m \u001b[36mstep\u001b[0m=\u001b[35m80\u001b[0m\n",
      "\u001b[2m2025-05-24 10:03.52\u001b[0m [\u001b[32m\u001b[1minfo     \u001b[0m] \u001b[1mModel parameters are saved to training_logs/online/door/AWAC_online_20250524100348/model_90.d3\u001b[0m\n",
      "\u001b[2m2025-05-24 10:03.52\u001b[0m [\u001b[32m\u001b[1minfo     \u001b[0m] \u001b[1mAWAC_online_20250524100348: epoch=9 step=90\u001b[0m \u001b[36mepoch\u001b[0m=\u001b[35m9\u001b[0m \u001b[36mmetrics\u001b[0m=\u001b[35m{'time_inference': 0.0001307249069213867, 'time_environment_step': 0.0002680778503417969, 'time_step': 0.0004085540771484375, 'evaluation': -44.27410983241193}\u001b[0m \u001b[36mstep\u001b[0m=\u001b[35m90\u001b[0m\n",
      "\u001b[2m2025-05-24 10:03.53\u001b[0m [\u001b[32m\u001b[1minfo     \u001b[0m] \u001b[1mModel parameters are saved to training_logs/online/door/AWAC_online_20250524100348/model_100.d3\u001b[0m\n",
      "\u001b[2m2025-05-24 10:03.53\u001b[0m [\u001b[32m\u001b[1minfo     \u001b[0m] \u001b[1mAWAC_online_20250524100348: epoch=10 step=100\u001b[0m \u001b[36mepoch\u001b[0m=\u001b[35m10\u001b[0m \u001b[36mmetrics\u001b[0m=\u001b[35m{'time_inference': 0.000113677978515625, 'time_environment_step': 0.0002386331558227539, 'time_step': 0.0003613471984863281, 'evaluation': -44.30658491558188}\u001b[0m \u001b[36mstep\u001b[0m=\u001b[35m100\u001b[0m\n"
     ]
    }
   ],
   "source": [
    "# Train each algorithm from scratch in an online setting on the Door task\n",
    "train_online_algorithm(d3rlpy.algos.IQLConfig, door_env, 'door_iql', 'door')\n",
    "train_online_algorithm(d3rlpy.algos.CQLConfig, door_env, 'door_cql', 'door')\n",
    "train_online_algorithm(d3rlpy.algos.TD3PlusBCConfig, door_env, 'door_td3bc', 'door')\n",
    "train_online_algorithm(d3rlpy.algos.AWACConfig, door_env, 'door_awac', 'door')"
   ]
  },
  {
   "cell_type": "code",
   "execution_count": null,
   "id": "35886d87-f1e3-4e7e-85a0-f678660634f8",
   "metadata": {},
   "outputs": [],
   "source": []
  }
 ],
 "metadata": {
  "kernelspec": {
   "display_name": "Python (thesis-env)",
   "language": "python",
   "name": "thesis-env"
  },
  "language_info": {
   "codemirror_mode": {
    "name": "ipython",
    "version": 3
   },
   "file_extension": ".py",
   "mimetype": "text/x-python",
   "name": "python",
   "nbconvert_exporter": "python",
   "pygments_lexer": "ipython3",
   "version": "3.10.16"
  }
 },
 "nbformat": 4,
 "nbformat_minor": 5
}
